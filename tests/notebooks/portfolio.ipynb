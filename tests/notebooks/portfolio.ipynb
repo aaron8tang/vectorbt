{
 "cells": [
  {
   "cell_type": "code",
   "execution_count": 1,
   "metadata": {},
   "outputs": [
    {
     "name": "stdout",
     "output_type": "stream",
     "text": [
      "(5,) (5, 3)\n",
      "(1000, 1) (1000, 1000)\n"
     ]
    }
   ],
   "source": [
    "import vectorbt as vbt\n",
    "from vectorbt.portfolio.enums import *\n",
    "\n",
    "import numpy as np\n",
    "import pandas as pd\n",
    "from numba import njit\n",
    "from datetime import datetime, timedelta\n",
    "\n",
    "seed = 42\n",
    "\n",
    "price = pd.Series([1., 2., 3., 4., 5.], index=pd.Index([\n",
    "    datetime(2020, 1, 1),\n",
    "    datetime(2020, 1, 2),\n",
    "    datetime(2020, 1, 3),\n",
    "    datetime(2020, 1, 4),\n",
    "    datetime(2020, 1, 5)\n",
    "]))\n",
    "price_wide = price.vbt.tile(3, keys=['a', 'b', 'c'])\n",
    "print(price.shape, price_wide.shape)\n",
    "\n",
    "big_price = pd.DataFrame(np.random.uniform(0.9, 1.1, size=(1000,)))\n",
    "big_price.index = [datetime(2018, 1, 1) + timedelta(days=i) for i in range(1000)]\n",
    "big_price_wide = big_price.vbt.tile(1000)\n",
    "print(big_price.shape, big_price_wide.shape)\n",
    "\n",
    "# Disable caching for performance testing\n",
    "# NOTE: Expect waterfall of executions, since some attributes depend on other attributes \n",
    "# that have to be calculated again and again\n",
    "vbt.settings.caching['disable_machinery'] = True\n",
    "vbt.settings.portfolio['attach_call_seq'] = True"
   ]
  },
  {
   "cell_type": "markdown",
   "metadata": {},
   "source": [
    "## from_orders"
   ]
  },
  {
   "cell_type": "code",
   "execution_count": 2,
   "metadata": {},
   "outputs": [],
   "source": [
    "order_size = pd.Series([np.inf, -np.inf, np.nan, np.inf, -np.inf], index=price.index)\n",
    "order_size_wide = order_size.vbt.tile(3, keys=['a', 'b', 'c'])\n",
    "\n",
    "big_order_size = pd.DataFrame.vbt.empty((1000,), 1, dtype=np.float_)\n",
    "big_order_size.iloc[1::2] = -1\n",
    "big_order_size_wide = big_order_size.vbt.tile(1000)"
   ]
  },
  {
   "cell_type": "code",
   "execution_count": 4,
   "metadata": {},
   "outputs": [
    {
     "name": "stdout",
     "output_type": "stream",
     "text": [
      "2.55 ms ± 136 µs per loop (mean ± std. dev. of 7 runs, 100 loops each)\n"
     ]
    }
   ],
   "source": [
    "%timeit vbt.Portfolio.from_orders(big_price, big_order_size, init_cash=np.inf)"
   ]
  },
  {
   "cell_type": "code",
   "execution_count": 5,
   "metadata": {},
   "outputs": [
    {
     "name": "stdout",
     "output_type": "stream",
     "text": [
      "102 ms ± 1.61 ms per loop (mean ± std. dev. of 7 runs, 10 loops each)\n"
     ]
    }
   ],
   "source": [
    "%timeit vbt.Portfolio.from_orders(big_price_wide, big_order_size_wide, init_cash=np.inf)"
   ]
  },
  {
   "cell_type": "code",
   "execution_count": 6,
   "metadata": {},
   "outputs": [
    {
     "name": "stdout",
     "output_type": "stream",
     "text": [
      "102 ms ± 1.08 ms per loop (mean ± std. dev. of 7 runs, 1 loop each)\n"
     ]
    }
   ],
   "source": [
    "%timeit vbt.Portfolio.from_orders(big_price_wide, big_order_size_wide, init_cash=np.inf, jitted=dict(parallel=True))"
   ]
  },
  {
   "cell_type": "code",
   "execution_count": 7,
   "metadata": {},
   "outputs": [
    {
     "name": "stdout",
     "output_type": "stream",
     "text": [
      "120 ms ± 1.37 ms per loop (mean ± std. dev. of 7 runs, 1 loop each)\n"
     ]
    }
   ],
   "source": [
    "%timeit vbt.Portfolio.from_orders(big_price_wide, big_order_size_wide, init_cash=np.inf, chunked=True)"
   ]
  },
  {
   "cell_type": "code",
   "execution_count": 8,
   "metadata": {},
   "outputs": [
    {
     "name": "stdout",
     "output_type": "stream",
     "text": [
      "48.7 ms ± 1.34 ms per loop (mean ± std. dev. of 7 runs, 10 loops each)\n"
     ]
    }
   ],
   "source": [
    "%timeit vbt.Portfolio.from_orders(big_price_wide, big_order_size_wide, init_cash=np.inf, chunked='dask')"
   ]
  },
  {
   "cell_type": "code",
   "execution_count": 9,
   "metadata": {},
   "outputs": [
    {
     "name": "stdout",
     "output_type": "stream",
     "text": [
      "102 ms ± 581 µs per loop (mean ± std. dev. of 7 runs, 10 loops each)\n"
     ]
    }
   ],
   "source": [
    "%timeit vbt.Portfolio.from_orders(\\\n",
    "    big_price_wide, big_order_size_wide, init_cash=np.inf, \\\n",
    "    group_by=np.repeat(np.arange(500), 2))"
   ]
  },
  {
   "cell_type": "code",
   "execution_count": 10,
   "metadata": {},
   "outputs": [
    {
     "name": "stdout",
     "output_type": "stream",
     "text": [
      "100 ms ± 483 µs per loop (mean ± std. dev. of 7 runs, 10 loops each)\n"
     ]
    }
   ],
   "source": [
    "%timeit vbt.Portfolio.from_orders(\\\n",
    "    big_price_wide, big_order_size_wide, init_cash=np.inf, \\\n",
    "    group_by=np.repeat(np.arange(500), 2), cash_sharing=True)"
   ]
  },
  {
   "cell_type": "code",
   "execution_count": 11,
   "metadata": {},
   "outputs": [
    {
     "name": "stdout",
     "output_type": "stream",
     "text": [
      "111 ms ± 1.18 ms per loop (mean ± std. dev. of 7 runs, 10 loops each)\n"
     ]
    }
   ],
   "source": [
    "%timeit vbt.Portfolio.from_orders(\\\n",
    "    big_price_wide, big_order_size_wide, init_cash=np.inf, \\\n",
    "    group_by=np.repeat(np.arange(500), 2), cash_sharing=True, call_seq=CallSeqType.Auto)"
   ]
  },
  {
   "cell_type": "code",
   "execution_count": 12,
   "metadata": {},
   "outputs": [
    {
     "name": "stdout",
     "output_type": "stream",
     "text": [
      "104 ms ± 3.15 ms per loop (mean ± std. dev. of 7 runs, 10 loops each)\n"
     ]
    }
   ],
   "source": [
    "%timeit vbt.Portfolio.from_orders(\\\n",
    "    big_price_wide, big_order_size_wide, init_cash=np.inf, \\\n",
    "    group_by=np.full(1000, 0))"
   ]
  },
  {
   "cell_type": "code",
   "execution_count": 13,
   "metadata": {},
   "outputs": [
    {
     "name": "stdout",
     "output_type": "stream",
     "text": [
      "99.4 ms ± 3.39 ms per loop (mean ± std. dev. of 7 runs, 1 loop each)\n"
     ]
    }
   ],
   "source": [
    "%timeit vbt.Portfolio.from_orders(\\\n",
    "    big_price_wide, big_order_size_wide, init_cash=np.inf, \\\n",
    "    group_by=np.full(1000, 0), cash_sharing=True)"
   ]
  },
  {
   "cell_type": "code",
   "execution_count": 14,
   "metadata": {},
   "outputs": [
    {
     "name": "stdout",
     "output_type": "stream",
     "text": [
      "103 ms ± 1.51 ms per loop (mean ± std. dev. of 7 runs, 10 loops each)\n"
     ]
    }
   ],
   "source": [
    "%timeit vbt.Portfolio.from_orders(\\\n",
    "    big_price_wide, big_order_size_wide, init_cash=np.inf, \\\n",
    "    group_by=np.full(1000, 0), cash_sharing=True, call_seq=CallSeqType.Auto)"
   ]
  },
  {
   "cell_type": "code",
   "execution_count": 15,
   "metadata": {},
   "outputs": [],
   "source": [
    "def test_per_direction(price=price, size=order_size, **kwargs):\n",
    "    print('Both')\n",
    "    try:\n",
    "        portfolio = vbt.Portfolio.from_orders(price, size, direction='both', **kwargs)\n",
    "        print(portfolio.orders.records)\n",
    "    except Exception as e:\n",
    "        print(e)\n",
    "    print('LongOnly')\n",
    "    try:\n",
    "        portfolio = vbt.Portfolio.from_orders(price, size, direction='longonly', **kwargs)\n",
    "        print(portfolio.orders.records)\n",
    "    except Exception as e:\n",
    "        print(e)\n",
    "    print('ShortOnly')\n",
    "    try:\n",
    "        portfolio = vbt.Portfolio.from_orders(price, size, direction='shortonly', **kwargs)\n",
    "        print(portfolio.orders.records)\n",
    "    except Exception as e:\n",
    "        print(e)"
   ]
  },
  {
   "cell_type": "code",
   "execution_count": 16,
   "metadata": {},
   "outputs": [
    {
     "name": "stdout",
     "output_type": "stream",
     "text": [
      "Both\n",
      "   id  col  idx   size  price  fees  side\n",
      "0   0    0    0  100.0    1.0   0.0     0\n",
      "1   1    0    1  200.0    2.0   0.0     1\n",
      "2   2    0    3  100.0    4.0   0.0     0\n",
      "LongOnly\n",
      "   id  col  idx   size  price  fees  side\n",
      "0   0    0    0  100.0    1.0   0.0     0\n",
      "1   1    0    1  100.0    2.0   0.0     1\n",
      "2   2    0    3   50.0    4.0   0.0     0\n",
      "3   3    0    4   50.0    5.0   0.0     1\n",
      "ShortOnly\n",
      "   id  col  idx   size  price  fees  side\n",
      "0   0    0    0  100.0    1.0   0.0     1\n",
      "1   1    0    1  100.0    2.0   0.0     0\n"
     ]
    }
   ],
   "source": [
    "test_per_direction()"
   ]
  },
  {
   "cell_type": "code",
   "execution_count": 17,
   "metadata": {},
   "outputs": [
    {
     "name": "stdout",
     "output_type": "stream",
     "text": [
      "Both\n",
      "   id  col  idx   size  price  fees  side\n",
      "0   0    0    0  100.0    1.0   0.0     0\n",
      "1   1    0    1  200.0    2.0   0.0     1\n",
      "2   2    0    3  100.0    4.0   0.0     0\n",
      "3   0    1    0  100.0    1.0   0.0     0\n",
      "4   1    1    1  200.0    2.0   0.0     1\n",
      "5   2    1    3  100.0    4.0   0.0     0\n",
      "6   0    2    0  100.0    1.0   0.0     0\n",
      "7   1    2    1  200.0    2.0   0.0     1\n",
      "8   2    2    3  100.0    4.0   0.0     0\n",
      "LongOnly\n",
      "    id  col  idx   size  price  fees  side\n",
      "0    0    0    0  100.0    1.0   0.0     0\n",
      "1    1    0    1  100.0    2.0   0.0     1\n",
      "2    2    0    3   50.0    4.0   0.0     0\n",
      "3    3    0    4   50.0    5.0   0.0     1\n",
      "4    0    1    0  100.0    1.0   0.0     0\n",
      "5    1    1    1  100.0    2.0   0.0     1\n",
      "6    2    1    3   50.0    4.0   0.0     0\n",
      "7    3    1    4   50.0    5.0   0.0     1\n",
      "8    0    2    0  100.0    1.0   0.0     0\n",
      "9    1    2    1  100.0    2.0   0.0     1\n",
      "10   2    2    3   50.0    4.0   0.0     0\n",
      "11   3    2    4   50.0    5.0   0.0     1\n",
      "ShortOnly\n",
      "   id  col  idx   size  price  fees  side\n",
      "0   0    0    0  100.0    1.0   0.0     1\n",
      "1   1    0    1  100.0    2.0   0.0     0\n",
      "2   0    1    0  100.0    1.0   0.0     1\n",
      "3   1    1    1  100.0    2.0   0.0     0\n",
      "4   0    2    0  100.0    1.0   0.0     1\n",
      "5   1    2    1  100.0    2.0   0.0     0\n"
     ]
    }
   ],
   "source": [
    "test_per_direction(price=price_wide)"
   ]
  },
  {
   "cell_type": "code",
   "execution_count": 18,
   "metadata": {},
   "outputs": [
    {
     "name": "stdout",
     "output_type": "stream",
     "text": [
      "Both\n",
      "   id  col  idx   size  price  fees  side\n",
      "0   0    0    0  100.0    1.0   0.0     0\n",
      "1   0    1    0  100.0    1.0   0.0     1\n",
      "LongOnly\n",
      "   id  col  idx   size  price  fees  side\n",
      "0   0    0    0  100.0    1.0   0.0     0\n",
      "ShortOnly\n",
      "   id  col  idx   size  price  fees  side\n",
      "0   0    0    0  100.0    1.0   0.0     1\n"
     ]
    }
   ],
   "source": [
    "test_per_direction(size=[[np.inf, -np.inf]])"
   ]
  },
  {
   "cell_type": "code",
   "execution_count": 19,
   "metadata": {},
   "outputs": [],
   "source": [
    "order_size_one = pd.Series([1, -1, np.nan, 1, -1], index=price.index)"
   ]
  },
  {
   "cell_type": "code",
   "execution_count": 20,
   "metadata": {},
   "outputs": [
    {
     "name": "stdout",
     "output_type": "stream",
     "text": [
      "Both\n",
      "   id  col  idx        size  price  fees  side\n",
      "0   0    0    0   99.009901   1.01   0.0     0\n",
      "1   1    0    1  198.019802   2.02   0.0     1\n",
      "2   2    0    3   99.009901   4.04   0.0     0\n",
      "LongOnly\n",
      "   id  col  idx       size  price  fees  side\n",
      "0   0    0    0  99.009901   1.01   0.0     0\n",
      "1   1    0    1  99.009901   2.02   0.0     1\n",
      "2   2    0    3  49.504950   4.04   0.0     0\n",
      "3   3    0    4  49.504950   5.05   0.0     1\n",
      "ShortOnly\n",
      "   id  col  idx       size  price  fees  side\n",
      "0   0    0    0  99.009901   1.01   0.0     1\n",
      "1   1    0    1  99.009901   2.02   0.0     0\n"
     ]
    }
   ],
   "source": [
    "test_per_direction(price=price * 1.01)"
   ]
  },
  {
   "cell_type": "code",
   "execution_count": 21,
   "metadata": {},
   "outputs": [
    {
     "name": "stdout",
     "output_type": "stream",
     "text": [
      "Both\n",
      "    id  col  idx  size  price  fees  side\n",
      "0    0    0    0   1.0    1.0   0.0     0\n",
      "1    1    0    1   1.0    2.0   0.0     1\n",
      "2    2    0    3   1.0    4.0   0.0     0\n",
      "3    3    0    4   1.0    5.0   0.0     1\n",
      "4    0    1    0   1.0    1.0   0.1     0\n",
      "5    1    1    1   1.0    2.0   0.2     1\n",
      "6    2    1    3   1.0    4.0   0.4     0\n",
      "7    3    1    4   1.0    5.0   0.5     1\n",
      "8    0    2    0   1.0    1.0   1.0     0\n",
      "9    1    2    1   1.0    2.0   2.0     1\n",
      "10   2    2    3   1.0    4.0   4.0     0\n",
      "11   3    2    4   1.0    5.0   5.0     1\n",
      "LongOnly\n",
      "    id  col  idx  size  price  fees  side\n",
      "0    0    0    0   1.0    1.0   0.0     0\n",
      "1    1    0    1   1.0    2.0   0.0     1\n",
      "2    2    0    3   1.0    4.0   0.0     0\n",
      "3    3    0    4   1.0    5.0   0.0     1\n",
      "4    0    1    0   1.0    1.0   0.1     0\n",
      "5    1    1    1   1.0    2.0   0.2     1\n",
      "6    2    1    3   1.0    4.0   0.4     0\n",
      "7    3    1    4   1.0    5.0   0.5     1\n",
      "8    0    2    0   1.0    1.0   1.0     0\n",
      "9    1    2    1   1.0    2.0   2.0     1\n",
      "10   2    2    3   1.0    4.0   4.0     0\n",
      "11   3    2    4   1.0    5.0   5.0     1\n",
      "ShortOnly\n",
      "    id  col  idx  size  price  fees  side\n",
      "0    0    0    0   1.0    1.0   0.0     1\n",
      "1    1    0    1   1.0    2.0   0.0     0\n",
      "2    2    0    3   1.0    4.0   0.0     1\n",
      "3    3    0    4   1.0    5.0   0.0     0\n",
      "4    0    1    0   1.0    1.0   0.1     1\n",
      "5    1    1    1   1.0    2.0   0.2     0\n",
      "6    2    1    3   1.0    4.0   0.4     1\n",
      "7    3    1    4   1.0    5.0   0.5     0\n",
      "8    0    2    0   1.0    1.0   1.0     1\n",
      "9    1    2    1   1.0    2.0   2.0     0\n",
      "10   2    2    3   1.0    4.0   4.0     1\n",
      "11   3    2    4   1.0    5.0   5.0     0\n"
     ]
    }
   ],
   "source": [
    "test_per_direction(size=order_size_one, fees=[[0., 0.1, 1.]])"
   ]
  },
  {
   "cell_type": "code",
   "execution_count": 22,
   "metadata": {},
   "outputs": [
    {
     "name": "stdout",
     "output_type": "stream",
     "text": [
      "Both\n",
      "    id  col  idx  size  price  fees  side\n",
      "0    0    0    0   1.0    1.0   0.0     0\n",
      "1    1    0    1   1.0    2.0   0.0     1\n",
      "2    2    0    3   1.0    4.0   0.0     0\n",
      "3    3    0    4   1.0    5.0   0.0     1\n",
      "4    0    1    0   1.0    1.0   0.1     0\n",
      "5    1    1    1   1.0    2.0   0.1     1\n",
      "6    2    1    3   1.0    4.0   0.1     0\n",
      "7    3    1    4   1.0    5.0   0.1     1\n",
      "8    0    2    0   1.0    1.0   1.0     0\n",
      "9    1    2    1   1.0    2.0   1.0     1\n",
      "10   2    2    3   1.0    4.0   1.0     0\n",
      "11   3    2    4   1.0    5.0   1.0     1\n",
      "LongOnly\n",
      "    id  col  idx  size  price  fees  side\n",
      "0    0    0    0   1.0    1.0   0.0     0\n",
      "1    1    0    1   1.0    2.0   0.0     1\n",
      "2    2    0    3   1.0    4.0   0.0     0\n",
      "3    3    0    4   1.0    5.0   0.0     1\n",
      "4    0    1    0   1.0    1.0   0.1     0\n",
      "5    1    1    1   1.0    2.0   0.1     1\n",
      "6    2    1    3   1.0    4.0   0.1     0\n",
      "7    3    1    4   1.0    5.0   0.1     1\n",
      "8    0    2    0   1.0    1.0   1.0     0\n",
      "9    1    2    1   1.0    2.0   1.0     1\n",
      "10   2    2    3   1.0    4.0   1.0     0\n",
      "11   3    2    4   1.0    5.0   1.0     1\n",
      "ShortOnly\n",
      "    id  col  idx  size  price  fees  side\n",
      "0    0    0    0   1.0    1.0   0.0     1\n",
      "1    1    0    1   1.0    2.0   0.0     0\n",
      "2    2    0    3   1.0    4.0   0.0     1\n",
      "3    3    0    4   1.0    5.0   0.0     0\n",
      "4    0    1    0   1.0    1.0   0.1     1\n",
      "5    1    1    1   1.0    2.0   0.1     0\n",
      "6    2    1    3   1.0    4.0   0.1     1\n",
      "7    3    1    4   1.0    5.0   0.1     0\n",
      "8    0    2    0   1.0    1.0   1.0     1\n",
      "9    1    2    1   1.0    2.0   1.0     0\n",
      "10   2    2    3   1.0    4.0   1.0     1\n",
      "11   3    2    4   1.0    5.0   1.0     0\n"
     ]
    }
   ],
   "source": [
    "test_per_direction(size=order_size_one, fixed_fees=[[0., 0.1, 1.]])"
   ]
  },
  {
   "cell_type": "code",
   "execution_count": 23,
   "metadata": {},
   "outputs": [
    {
     "name": "stdout",
     "output_type": "stream",
     "text": [
      "Both\n",
      "    id  col  idx  size  price  fees  side\n",
      "0    0    0    0   1.0    1.0   0.0     0\n",
      "1    1    0    1   1.0    2.0   0.0     1\n",
      "2    2    0    3   1.0    4.0   0.0     0\n",
      "3    3    0    4   1.0    5.0   0.0     1\n",
      "4    0    1    0   1.0    1.1   0.0     0\n",
      "5    1    1    1   1.0    1.8   0.0     1\n",
      "6    2    1    3   1.0    4.4   0.0     0\n",
      "7    3    1    4   1.0    4.5   0.0     1\n",
      "8    0    2    0   1.0    2.0   0.0     0\n",
      "9    1    2    1   1.0    0.0   0.0     1\n",
      "10   2    2    3   1.0    8.0   0.0     0\n",
      "11   3    2    4   1.0    0.0   0.0     1\n",
      "LongOnly\n",
      "    id  col  idx  size  price  fees  side\n",
      "0    0    0    0   1.0    1.0   0.0     0\n",
      "1    1    0    1   1.0    2.0   0.0     1\n",
      "2    2    0    3   1.0    4.0   0.0     0\n",
      "3    3    0    4   1.0    5.0   0.0     1\n",
      "4    0    1    0   1.0    1.1   0.0     0\n",
      "5    1    1    1   1.0    1.8   0.0     1\n",
      "6    2    1    3   1.0    4.4   0.0     0\n",
      "7    3    1    4   1.0    4.5   0.0     1\n",
      "8    0    2    0   1.0    2.0   0.0     0\n",
      "9    1    2    1   1.0    0.0   0.0     1\n",
      "10   2    2    3   1.0    8.0   0.0     0\n",
      "11   3    2    4   1.0    0.0   0.0     1\n",
      "ShortOnly\n",
      "    id  col  idx  size  price  fees  side\n",
      "0    0    0    0   1.0    1.0   0.0     1\n",
      "1    1    0    1   1.0    2.0   0.0     0\n",
      "2    2    0    3   1.0    4.0   0.0     1\n",
      "3    3    0    4   1.0    5.0   0.0     0\n",
      "4    0    1    0   1.0    0.9   0.0     1\n",
      "5    1    1    1   1.0    2.2   0.0     0\n",
      "6    2    1    3   1.0    3.6   0.0     1\n",
      "7    3    1    4   1.0    5.5   0.0     0\n",
      "8    0    2    0   1.0    0.0   0.0     1\n",
      "9    1    2    1   1.0    4.0   0.0     0\n",
      "10   2    2    3   1.0    0.0   0.0     1\n",
      "11   3    2    4   1.0   10.0   0.0     0\n"
     ]
    }
   ],
   "source": [
    "test_per_direction(size=order_size_one, slippage=[[0., 0.1, 1.]])"
   ]
  },
  {
   "cell_type": "code",
   "execution_count": 24,
   "metadata": {},
   "outputs": [
    {
     "name": "stdout",
     "output_type": "stream",
     "text": [
      "Both\n",
      "   id  col  idx  size  price  fees  side\n",
      "0   0    0    0   1.0    1.0   0.0     0\n",
      "1   1    0    1   1.0    2.0   0.0     1\n",
      "2   2    0    3   1.0    4.0   0.0     0\n",
      "3   3    0    4   1.0    5.0   0.0     1\n",
      "4   0    1    0   1.0    1.0   0.0     0\n",
      "5   1    1    1   1.0    2.0   0.0     1\n",
      "6   2    1    3   1.0    4.0   0.0     0\n",
      "7   3    1    4   1.0    5.0   0.0     1\n",
      "LongOnly\n",
      "   id  col  idx  size  price  fees  side\n",
      "0   0    0    0   1.0    1.0   0.0     0\n",
      "1   1    0    1   1.0    2.0   0.0     1\n",
      "2   2    0    3   1.0    4.0   0.0     0\n",
      "3   3    0    4   1.0    5.0   0.0     1\n",
      "4   0    1    0   1.0    1.0   0.0     0\n",
      "5   1    1    1   1.0    2.0   0.0     1\n",
      "6   2    1    3   1.0    4.0   0.0     0\n",
      "7   3    1    4   1.0    5.0   0.0     1\n",
      "ShortOnly\n",
      "   id  col  idx  size  price  fees  side\n",
      "0   0    0    0   1.0    1.0   0.0     1\n",
      "1   1    0    1   1.0    2.0   0.0     0\n",
      "2   2    0    3   1.0    4.0   0.0     1\n",
      "3   3    0    4   1.0    5.0   0.0     0\n",
      "4   0    1    0   1.0    1.0   0.0     1\n",
      "5   1    1    1   1.0    2.0   0.0     0\n",
      "6   2    1    3   1.0    4.0   0.0     1\n",
      "7   3    1    4   1.0    5.0   0.0     0\n"
     ]
    }
   ],
   "source": [
    "test_per_direction(size=order_size_one, min_size=[[0., 1., 2.]])"
   ]
  },
  {
   "cell_type": "code",
   "execution_count": 25,
   "metadata": {},
   "outputs": [
    {
     "name": "stdout",
     "output_type": "stream",
     "text": [
      "Both\n",
      "    id  col  idx  size  price  fees  side\n",
      "0    0    0    0   0.5    1.0   0.0     0\n",
      "1    1    0    1   0.5    2.0   0.0     1\n",
      "2    2    0    3   0.5    4.0   0.0     0\n",
      "3    3    0    4   0.5    5.0   0.0     1\n",
      "4    0    1    0   1.0    1.0   0.0     0\n",
      "5    1    1    1   1.0    2.0   0.0     1\n",
      "6    2    1    3   1.0    4.0   0.0     0\n",
      "7    3    1    4   1.0    5.0   0.0     1\n",
      "8    0    2    0   1.0    1.0   0.0     0\n",
      "9    1    2    1   1.0    2.0   0.0     1\n",
      "10   2    2    3   1.0    4.0   0.0     0\n",
      "11   3    2    4   1.0    5.0   0.0     1\n",
      "LongOnly\n",
      "    id  col  idx  size  price  fees  side\n",
      "0    0    0    0   0.5    1.0   0.0     0\n",
      "1    1    0    1   0.5    2.0   0.0     1\n",
      "2    2    0    3   0.5    4.0   0.0     0\n",
      "3    3    0    4   0.5    5.0   0.0     1\n",
      "4    0    1    0   1.0    1.0   0.0     0\n",
      "5    1    1    1   1.0    2.0   0.0     1\n",
      "6    2    1    3   1.0    4.0   0.0     0\n",
      "7    3    1    4   1.0    5.0   0.0     1\n",
      "8    0    2    0   1.0    1.0   0.0     0\n",
      "9    1    2    1   1.0    2.0   0.0     1\n",
      "10   2    2    3   1.0    4.0   0.0     0\n",
      "11   3    2    4   1.0    5.0   0.0     1\n",
      "ShortOnly\n",
      "    id  col  idx  size  price  fees  side\n",
      "0    0    0    0   0.5    1.0   0.0     1\n",
      "1    1    0    1   0.5    2.0   0.0     0\n",
      "2    2    0    3   0.5    4.0   0.0     1\n",
      "3    3    0    4   0.5    5.0   0.0     0\n",
      "4    0    1    0   1.0    1.0   0.0     1\n",
      "5    1    1    1   1.0    2.0   0.0     0\n",
      "6    2    1    3   1.0    4.0   0.0     1\n",
      "7    3    1    4   1.0    5.0   0.0     0\n",
      "8    0    2    0   1.0    1.0   0.0     1\n",
      "9    1    2    1   1.0    2.0   0.0     0\n",
      "10   2    2    3   1.0    4.0   0.0     1\n",
      "11   3    2    4   1.0    5.0   0.0     0\n"
     ]
    }
   ],
   "source": [
    "test_per_direction(size=order_size_one, max_size=[[0.5, 1., np.inf]])"
   ]
  },
  {
   "cell_type": "code",
   "execution_count": 26,
   "metadata": {},
   "outputs": [
    {
     "name": "stdout",
     "output_type": "stream",
     "text": [
      "Both\n",
      "   id  col  idx  size  price  fees  side\n",
      "0   0    0    0   1.0    1.0   0.0     0\n",
      "1   1    0    1   1.0    2.0   0.0     1\n",
      "2   2    0    3   1.0    4.0   0.0     0\n",
      "3   3    0    4   1.0    5.0   0.0     1\n",
      "4   0    1    1   1.0    2.0   0.0     1\n",
      "5   1    1    3   1.0    4.0   0.0     0\n",
      "6   2    1    4   1.0    5.0   0.0     1\n",
      "LongOnly\n",
      "   id  col  idx  size  price  fees  side\n",
      "0   0    0    0   1.0    1.0   0.0     0\n",
      "1   1    0    1   1.0    2.0   0.0     1\n",
      "2   2    0    3   1.0    4.0   0.0     0\n",
      "3   3    0    4   1.0    5.0   0.0     1\n",
      "4   0    1    3   1.0    4.0   0.0     0\n",
      "5   1    1    4   1.0    5.0   0.0     1\n",
      "ShortOnly\n",
      "   id  col  idx  size  price  fees  side\n",
      "0   0    0    0   1.0    1.0   0.0     1\n",
      "1   1    0    1   1.0    2.0   0.0     0\n",
      "2   2    0    3   1.0    4.0   0.0     1\n",
      "3   3    0    4   1.0    5.0   0.0     0\n",
      "4   0    1    3   1.0    4.0   0.0     1\n",
      "5   1    1    4   1.0    5.0   0.0     0\n"
     ]
    }
   ],
   "source": [
    "test_per_direction(size=order_size_one, reject_prob=[[0., 0.5, 1.]], seed=42)"
   ]
  },
  {
   "cell_type": "code",
   "execution_count": 27,
   "metadata": {},
   "outputs": [
    {
     "name": "stdout",
     "output_type": "stream",
     "text": [
      "Both\n",
      "Portfolio.__init__() got an unexpected keyword argument 'close_first'\n",
      "LongOnly\n",
      "Portfolio.__init__() got an unexpected keyword argument 'close_first'\n",
      "ShortOnly\n",
      "Portfolio.__init__() got an unexpected keyword argument 'close_first'\n"
     ]
    }
   ],
   "source": [
    "test_per_direction(size=pd.Series([np.inf, -np.inf, -np.inf, np.inf, np.inf]), close_first=[[False, True]])"
   ]
  },
  {
   "cell_type": "code",
   "execution_count": 28,
   "metadata": {},
   "outputs": [
    {
     "name": "stdout",
     "output_type": "stream",
     "text": [
      "Both\n",
      "   id  col  idx    size  price  fees  side\n",
      "0   0    0    0   100.0    1.0   0.0     0\n",
      "1   1    0    1  1000.0    2.0   0.0     1\n",
      "2   2    0    3   500.0    4.0   0.0     0\n",
      "3   3    0    4  1000.0    5.0   0.0     1\n",
      "4   0    1    1  1000.0    2.0   0.0     1\n",
      "5   1    1    4  1000.0    5.0   0.0     1\n",
      "LongOnly\n",
      "   id  col  idx   size  price  fees  side\n",
      "0   0    0    0  100.0    1.0   0.0     0\n",
      "1   1    0    1  100.0    2.0   0.0     1\n",
      "2   2    0    3   50.0    4.0   0.0     0\n",
      "3   3    0    4   50.0    5.0   0.0     1\n",
      "ShortOnly\n",
      "   id  col  idx    size  price  fees  side\n",
      "0   0    0    0  1000.0    1.0   0.0     1\n",
      "1   1    0    1   550.0    2.0   0.0     0\n",
      "2   2    0    3  1000.0    4.0   0.0     1\n",
      "3   3    0    4   800.0    5.0   0.0     0\n",
      "4   0    1    0  1000.0    1.0   0.0     1\n",
      "5   1    1    3  1000.0    4.0   0.0     1\n",
      "6   2    1    4  1000.0    5.0   0.0     0\n",
      "Both\n",
      "   id  col  idx   size  price  fees  side\n",
      "0   0    0    0  100.0    1.0   0.0     0\n",
      "1   1    0    1  200.0    2.0   0.0     1\n",
      "2   2    0    3  100.0    4.0   0.0     0\n",
      "3   0    1    0  100.0    1.0   0.0     0\n",
      "4   1    1    1  200.0    2.0   0.0     1\n",
      "5   2    1    3  100.0    4.0   0.0     0\n",
      "LongOnly\n",
      "   id  col  idx   size  price  fees  side\n",
      "0   0    0    0  100.0    1.0   0.0     0\n",
      "1   1    0    1  100.0    2.0   0.0     1\n",
      "2   2    0    3   50.0    4.0   0.0     0\n",
      "3   3    0    4   50.0    5.0   0.0     1\n",
      "4   0    1    0  100.0    1.0   0.0     0\n",
      "5   1    1    1  100.0    2.0   0.0     1\n",
      "6   2    1    3   50.0    4.0   0.0     0\n",
      "7   3    1    4   50.0    5.0   0.0     1\n",
      "ShortOnly\n",
      "   id  col  idx   size  price  fees  side\n",
      "0   0    0    0  100.0    1.0   0.0     1\n",
      "1   1    0    1  100.0    2.0   0.0     0\n",
      "2   0    1    0  100.0    1.0   0.0     1\n",
      "3   1    1    1  100.0    2.0   0.0     0\n"
     ]
    }
   ],
   "source": [
    "test_per_direction(size=order_size_one * 1000, allow_partial=[[True, False]])\n",
    "test_per_direction(size=order_size, allow_partial=[[True, False]])"
   ]
  },
  {
   "cell_type": "code",
   "execution_count": 29,
   "metadata": {},
   "outputs": [
    {
     "name": "stdout",
     "output_type": "stream",
     "text": [
      "Both\n",
      "   id  col  idx    size  price  fees  side\n",
      "0   0    0    0   100.0    1.0   0.0     0\n",
      "1   1    0    1  1000.0    2.0   0.0     1\n",
      "2   2    0    3   500.0    4.0   0.0     0\n",
      "3   3    0    4  1000.0    5.0   0.0     1\n",
      "LongOnly\n",
      "   id  col  idx   size  price  fees  side\n",
      "0   0    0    0  100.0    1.0   0.0     0\n",
      "1   1    0    1  100.0    2.0   0.0     1\n",
      "2   2    0    3   50.0    4.0   0.0     0\n",
      "3   3    0    4   50.0    5.0   0.0     1\n",
      "ShortOnly\n",
      "   id  col  idx    size  price  fees  side\n",
      "0   0    0    0  1000.0    1.0   0.0     1\n",
      "1   1    0    1   550.0    2.0   0.0     0\n",
      "2   2    0    3  1000.0    4.0   0.0     1\n",
      "3   3    0    4   800.0    5.0   0.0     0\n",
      "Both\n",
      "Final size is less than requested\n",
      "LongOnly\n",
      "Final size is less than requested\n",
      "ShortOnly\n",
      "Final size is less than requested\n"
     ]
    }
   ],
   "source": [
    "test_per_direction(size=order_size_one * 1000, allow_partial=True, raise_reject=True)\n",
    "test_per_direction(size=order_size_one * 1000, allow_partial=False, raise_reject=True)"
   ]
  },
  {
   "cell_type": "code",
   "execution_count": 30,
   "metadata": {},
   "outputs": [
    {
     "name": "stdout",
     "output_type": "stream",
     "text": [
      "   id  group  col  idx  open  high  low  close   cash  position  ...  \\\n",
      "0   0      0    0    0   NaN   NaN  NaN    1.0  100.0       0.0  ...   \n",
      "1   1      0    0    1   NaN   NaN  NaN    2.0    0.0     100.0  ...   \n",
      "2   2      0    0    2   NaN   NaN  NaN    3.0  400.0    -100.0  ...   \n",
      "3   3      0    0    3   NaN   NaN  NaN    4.0  400.0    -100.0  ...   \n",
      "4   4      0    0    4   NaN   NaN  NaN    5.0    0.0       0.0  ...   \n",
      "\n",
      "   new_free_cash  new_val_price  new_value  res_size  res_price  res_fees  \\\n",
      "0            0.0            1.0      100.0     100.0        1.0       0.0   \n",
      "1            0.0            2.0      200.0     200.0        2.0       0.0   \n",
      "2            0.0            3.0      100.0       NaN        NaN       NaN   \n",
      "3            0.0            4.0        0.0     100.0        4.0       0.0   \n",
      "4            0.0            5.0        0.0       NaN        NaN       NaN   \n",
      "\n",
      "   res_side  res_status  res_status_info  order_id  \n",
      "0         0           0               -1         0  \n",
      "1         1           0               -1         1  \n",
      "2        -1           1                0        -1  \n",
      "3         0           0               -1         2  \n",
      "4        -1           2                6        -1  \n",
      "\n",
      "[5 rows x 43 columns]\n"
     ]
    }
   ],
   "source": [
    "portfolio = vbt.Portfolio.from_orders(price, order_size, log=True, direction='both')\n",
    "\n",
    "print(portfolio.logs.records)"
   ]
  },
  {
   "cell_type": "code",
   "execution_count": 31,
   "metadata": {},
   "outputs": [
    {
     "name": "stdout",
     "output_type": "stream",
     "text": [
      "   id  col  idx   size  price  fees  side\n",
      "0   0    0    0  100.0    1.0   0.0     0\n",
      "1   1    0    1  200.0    2.0   0.0     1\n",
      "2   2    0    3  100.0    4.0   0.0     0\n",
      "3   0    1    0  100.0    1.0   0.0     0\n",
      "4   1    1    1  200.0    2.0   0.0     1\n",
      "5   2    1    3  100.0    4.0   0.0     0\n",
      "6   0    2    0  100.0    1.0   0.0     0\n",
      "7   1    2    1  200.0    2.0   0.0     1\n",
      "8   2    2    3  100.0    4.0   0.0     0\n"
     ]
    }
   ],
   "source": [
    "portfolio = vbt.Portfolio.from_orders(\n",
    "    price_wide, order_size, \n",
    "    group_by=np.array([0, 0, 1]), direction='both')\n",
    "\n",
    "print(portfolio.orders.records)"
   ]
  },
  {
   "cell_type": "code",
   "execution_count": 32,
   "metadata": {},
   "outputs": [
    {
     "name": "stdout",
     "output_type": "stream",
     "text": [
      "   id  col  idx   size  price  fees  side\n",
      "0   0    0    0  100.0    1.0   0.0     0\n",
      "1   1    0    1  200.0    2.0   0.0     1\n",
      "2   2    0    3  100.0    4.0   0.0     0\n",
      "3   0    2    0  100.0    1.0   0.0     0\n",
      "4   1    2    1  200.0    2.0   0.0     1\n",
      "5   2    2    3  100.0    4.0   0.0     0\n",
      "            a  b  c\n",
      "2020-01-01  0  1  0\n",
      "2020-01-02  0  1  0\n",
      "2020-01-03  0  1  0\n",
      "2020-01-04  0  1  0\n",
      "2020-01-05  0  1  0\n"
     ]
    }
   ],
   "source": [
    "portfolio = vbt.Portfolio.from_orders(\n",
    "    price_wide, order_size, \n",
    "    group_by=np.array([0, 0, 1]), cash_sharing=True, direction='both')\n",
    "\n",
    "print(portfolio.orders.records)\n",
    "print(portfolio.call_seq)"
   ]
  },
  {
   "cell_type": "code",
   "execution_count": 33,
   "metadata": {},
   "outputs": [
    {
     "name": "stdout",
     "output_type": "stream",
     "text": [
      "   id  col  idx   size  price  fees  side\n",
      "0   0    1    0  100.0    1.0   0.0     0\n",
      "1   1    1    1  200.0    2.0   0.0     1\n",
      "2   2    1    3  100.0    4.0   0.0     0\n",
      "3   0    2    0  100.0    1.0   0.0     0\n",
      "4   1    2    1  200.0    2.0   0.0     1\n",
      "5   2    2    3  100.0    4.0   0.0     0\n",
      "            a  b  c\n",
      "2020-01-01  1  0  0\n",
      "2020-01-02  1  0  0\n",
      "2020-01-03  1  0  0\n",
      "2020-01-04  1  0  0\n",
      "2020-01-05  1  0  0\n"
     ]
    }
   ],
   "source": [
    "portfolio = vbt.Portfolio.from_orders(\n",
    "    price_wide, order_size, \n",
    "    group_by=np.array([0, 0, 1]), cash_sharing=True, direction='both', call_seq='reversed')\n",
    "\n",
    "print(portfolio.orders.records)\n",
    "print(portfolio.call_seq)"
   ]
  },
  {
   "cell_type": "code",
   "execution_count": 34,
   "metadata": {},
   "outputs": [
    {
     "name": "stdout",
     "output_type": "stream",
     "text": [
      "   id  col  idx   size  price  fees  side\n",
      "0   0    0    0  100.0    1.0   0.0     0\n",
      "1   1    0    1  200.0    2.0   0.0     1\n",
      "2   0    1    3  100.0    4.0   0.0     0\n",
      "3   1    1    4  120.0    5.0   0.0     1\n",
      "4   0    2    0  100.0    1.0   0.0     0\n",
      "5   1    2    1  200.0    2.0   0.0     1\n",
      "6   2    2    3  100.0    4.0   0.0     0\n",
      "            a  b  c\n",
      "2020-01-01  0  1  0\n",
      "2020-01-02  0  1  0\n",
      "2020-01-03  0  1  0\n",
      "2020-01-04  1  0  0\n",
      "2020-01-05  0  1  0\n",
      "   id  col  idx   size  price  fees  side\n",
      "0   0    1    0  100.0    1.0   0.0     0\n",
      "1   1    1    1  200.0    2.0   0.0     1\n",
      "2   2    1    3  100.0    4.0   0.0     0\n",
      "3   0    2    0  100.0    1.0   0.0     0\n",
      "4   1    2    1  200.0    2.0   0.0     1\n",
      "5   2    2    3  100.0    4.0   0.0     0\n",
      "            a  b  c\n",
      "2020-01-01  1  0  0\n",
      "2020-01-02  0  1  0\n",
      "2020-01-03  1  0  0\n",
      "2020-01-04  1  0  0\n",
      "2020-01-05  1  0  0\n"
     ]
    }
   ],
   "source": [
    "portfolio = vbt.Portfolio.from_orders(\n",
    "    price_wide, order_size, \n",
    "    group_by=np.array([0, 0, 1]), cash_sharing=True, direction='both', call_seq='random')\n",
    "\n",
    "print(portfolio.orders.records)\n",
    "print(portfolio.call_seq)\n",
    "\n",
    "portfolio = vbt.Portfolio.from_orders(\n",
    "    price_wide, order_size, \n",
    "    group_by=np.array([0, 0, 1]), cash_sharing=True, direction='both', call_seq='random', seed=42)\n",
    "\n",
    "print(portfolio.orders.records)\n",
    "print(portfolio.call_seq)"
   ]
  },
  {
   "cell_type": "code",
   "execution_count": 41,
   "metadata": {},
   "outputs": [
    {
     "name": "stdout",
     "output_type": "stream",
     "text": [
      "Both\n",
      "   id  col  idx   size  price  fees  side\n",
      "0   0    0    2  200.0    1.0   0.0     0\n",
      "1   1    0    3  200.0    1.0   0.0     1\n",
      "2   0    1    1  200.0    1.0   0.0     0\n",
      "3   1    1    2  200.0    1.0   0.0     1\n",
      "4   2    1    4  200.0    1.0   0.0     0\n",
      "5   0    2    0  100.0    1.0   0.0     0\n",
      "6   1    2    1  200.0    1.0   0.0     1\n",
      "7   2    2    3  200.0    1.0   0.0     0\n",
      "8   3    2    4  200.0    1.0   0.0     1\n",
      "   0  1  2\n",
      "0  0  1  2\n",
      "1  2  0  1\n",
      "2  1  2  0\n",
      "3  0  1  2\n",
      "4  2  0  1\n",
      "       0      1      2\n",
      "0    0.0    0.0  100.0\n",
      "1    0.0  200.0 -100.0\n",
      "2  200.0    0.0 -100.0\n",
      "3    0.0    0.0  100.0\n",
      "4    0.0  200.0 -100.0\n",
      "0    100.0\n",
      "1    100.0\n",
      "2    100.0\n",
      "3    100.0\n",
      "4    100.0\n",
      "dtype: float64\n",
      "LongOnly\n",
      "   id  col  idx   size  price  fees  side\n",
      "0   0    0    2  100.0    1.0   0.0     0\n",
      "1   1    0    3  100.0    1.0   0.0     1\n",
      "2   0    1    1  100.0    1.0   0.0     0\n",
      "3   1    1    2  100.0    1.0   0.0     1\n",
      "4   2    1    4  100.0    1.0   0.0     0\n",
      "5   0    2    0  100.0    1.0   0.0     0\n",
      "6   1    2    1  100.0    1.0   0.0     1\n",
      "7   2    2    3  100.0    1.0   0.0     0\n",
      "8   3    2    4  100.0    1.0   0.0     1\n",
      "   0  1  2\n",
      "0  0  1  2\n",
      "1  2  0  1\n",
      "2  1  2  0\n",
      "3  0  1  2\n",
      "4  2  0  1\n",
      "       0      1      2\n",
      "0    0.0    0.0  100.0\n",
      "1    0.0  100.0    0.0\n",
      "2  100.0    0.0    0.0\n",
      "3    0.0    0.0  100.0\n",
      "4    0.0  100.0    0.0\n",
      "0    100.0\n",
      "1    100.0\n",
      "2    100.0\n",
      "3    100.0\n",
      "4    100.0\n",
      "dtype: float64\n",
      "ShortOnly\n",
      "   id  col  idx   size  price  fees  side\n",
      "0   0    0    2  100.0    1.0   0.0     1\n",
      "1   1    0    3  100.0    1.0   0.0     0\n",
      "2   0    1    4  100.0    1.0   0.0     1\n",
      "3   0    2    0  100.0    1.0   0.0     1\n",
      "4   1    2    1  100.0    1.0   0.0     0\n",
      "   0  1  2\n",
      "0  2  0  1\n",
      "1  1  0  2\n",
      "2  0  2  1\n",
      "3  2  1  0\n",
      "4  1  0  2\n",
      "       0      1      2\n",
      "0    0.0    0.0 -100.0\n",
      "1    0.0    0.0    0.0\n",
      "2 -100.0    0.0    0.0\n",
      "3    0.0    0.0    0.0\n",
      "4    0.0 -100.0    0.0\n",
      "0    100.0\n",
      "1    100.0\n",
      "2    100.0\n",
      "3    100.0\n",
      "4    100.0\n",
      "dtype: float64\n"
     ]
    }
   ],
   "source": [
    "for direction in ('Both', 'LongOnly', 'ShortOnly'):\n",
    "    print(direction)\n",
    "    portfolio = vbt.Portfolio.from_orders(1., pd.DataFrame([\n",
    "        [0., 0., np.inf],\n",
    "        [0., np.inf, -np.inf],\n",
    "        [np.inf, -np.inf, 0.],\n",
    "        [-np.inf, 0., np.inf],\n",
    "        [0., np.inf, -np.inf],\n",
    "    ]), group_by=np.array([0, 0, 0]), \n",
    "        cash_sharing=True, call_seq='auto', direction=direction)\n",
    "\n",
    "    print(portfolio.orders.records)\n",
    "    print(portfolio.call_seq)\n",
    "    print(portfolio.get_assets())\n",
    "    print(portfolio.get_value())\n",
    "    # notice how shorting with np.inf only accounts for current cash, not for other assets!"
   ]
  },
  {
   "cell_type": "code",
   "execution_count": 42,
   "metadata": {},
   "outputs": [
    {
     "name": "stdout",
     "output_type": "stream",
     "text": [
      "Both\n",
      "   id  col  idx  size  price  fees  side\n",
      "0   0    0    0  75.0    1.0   0.0     0\n",
      "1   0    1    0  75.0    1.0   0.0     1\n",
      "LongOnly\n",
      "   id  col  idx  size  price  fees  side\n",
      "0   0    0    0  75.0    1.0   0.0     0\n",
      "ShortOnly\n",
      "   id  col  idx  size  price  fees  side\n",
      "0   0    0    0  75.0    1.0   0.0     1\n",
      "               0     1\n",
      "2020-01-01  75.0 -75.0\n",
      "2020-01-02  75.0 -75.0\n",
      "2020-01-03  75.0 -75.0\n",
      "2020-01-04  75.0 -75.0\n",
      "2020-01-05  75.0 -75.0\n",
      "   id  col  idx  size  price  fees  side\n",
      "0   0    0    0  75.0    1.0   0.0     0\n",
      "1   0    1    0  25.0    1.0   0.0     0\n",
      "               a     b    c\n",
      "2020-01-01  75.0  25.0  0.0\n",
      "2020-01-02  75.0  25.0  0.0\n",
      "2020-01-03  75.0  25.0  0.0\n",
      "2020-01-04  75.0  25.0  0.0\n",
      "2020-01-05  75.0  25.0  0.0\n"
     ]
    }
   ],
   "source": [
    "test_per_direction(size=[[75., -75.]], size_type=SizeType.TargetAmount)\n",
    "\n",
    "portfolio = vbt.Portfolio.from_orders(\n",
    "    price, [[75., -75.]], size_type=SizeType.TargetAmount, direction='both')\n",
    "print(portfolio.get_assets())\n",
    "\n",
    "portfolio = vbt.Portfolio.from_orders(\n",
    "    price_wide, 75., size_type=SizeType.TargetAmount, \n",
    "    group_by=np.array([0, 0, 0]), cash_sharing=True, direction='both')\n",
    "print(portfolio.orders.records)\n",
    "print(portfolio.get_assets())"
   ]
  },
  {
   "cell_type": "code",
   "execution_count": 43,
   "metadata": {},
   "outputs": [
    {
     "name": "stdout",
     "output_type": "stream",
     "text": [
      "Both\n",
      "   id  col  idx       size  price  fees  side\n",
      "0   0    0    0  50.000000    1.0   0.0     0\n",
      "1   1    0    1  25.000000    2.0   0.0     1\n",
      "2   2    0    2   8.333333    3.0   0.0     1\n",
      "3   3    0    3   4.166667    4.0   0.0     1\n",
      "4   4    0    4   2.500000    5.0   0.0     1\n",
      "5   0    1    0  50.000000    1.0   0.0     1\n",
      "6   1    1    1  25.000000    2.0   0.0     0\n",
      "7   2    1    2   8.333333    3.0   0.0     0\n",
      "8   3    1    3   4.166667    4.0   0.0     0\n",
      "9   4    1    4   2.500000    5.0   0.0     0\n",
      "LongOnly\n",
      "   id  col  idx       size  price  fees  side\n",
      "0   0    0    0  50.000000    1.0   0.0     0\n",
      "1   1    0    1  25.000000    2.0   0.0     1\n",
      "2   2    0    2   8.333333    3.0   0.0     1\n",
      "3   3    0    3   4.166667    4.0   0.0     1\n",
      "4   4    0    4   2.500000    5.0   0.0     1\n",
      "ShortOnly\n",
      "   id  col  idx       size  price  fees  side\n",
      "0   0    0    0  50.000000    1.0   0.0     1\n",
      "1   1    0    1  25.000000    2.0   0.0     0\n",
      "2   2    0    2   8.333333    3.0   0.0     0\n",
      "3   3    0    3   4.166667    4.0   0.0     0\n",
      "4   4    0    4   2.500000    5.0   0.0     0\n",
      "               0     1\n",
      "2020-01-01  50.0 -50.0\n",
      "2020-01-02  50.0 -50.0\n",
      "2020-01-03  50.0 -50.0\n",
      "2020-01-04  50.0 -50.0\n",
      "2020-01-05  50.0 -50.0\n",
      "    id  col  idx       size  price  fees  side\n",
      "0    0    0    0  50.000000    1.0   0.0     0\n",
      "1    1    0    1  25.000000    2.0   0.0     1\n",
      "2    2    0    2   8.333333    3.0   0.0     1\n",
      "3    3    0    3   4.166667    4.0   0.0     1\n",
      "4    4    0    4   2.500000    5.0   0.0     1\n",
      "5    0    1    0  50.000000    1.0   0.0     0\n",
      "6    1    1    1  25.000000    2.0   0.0     1\n",
      "7    2    1    2   8.333333    3.0   0.0     1\n",
      "8    3    1    3   4.166667    4.0   0.0     1\n",
      "9    4    1    4   2.500000    5.0   0.0     1\n",
      "10   0    2    1  25.000000    2.0   0.0     0\n",
      "11   1    2    2   8.333333    3.0   0.0     1\n",
      "12   2    2    3   4.166667    4.0   0.0     1\n",
      "13   3    2    4   2.500000    5.0   0.0     1\n",
      "               a     b     c\n",
      "2020-01-01  50.0  50.0   0.0\n",
      "2020-01-02  50.0  50.0  50.0\n",
      "2020-01-03  50.0  50.0  50.0\n",
      "2020-01-04  50.0  50.0  50.0\n",
      "2020-01-05  50.0  50.0  50.0\n"
     ]
    }
   ],
   "source": [
    "test_per_direction(size=[[50., -50.]], size_type=SizeType.TargetValue)\n",
    "\n",
    "portfolio = vbt.Portfolio.from_orders(\n",
    "    price, [[50., -50.]], size_type=SizeType.TargetValue, direction='both')\n",
    "print(portfolio.get_asset_value())\n",
    "\n",
    "portfolio = vbt.Portfolio.from_orders(\n",
    "    price_wide, 50., size_type=SizeType.TargetValue, \n",
    "    group_by=np.array([0, 0, 0]), cash_sharing=True, direction='both')\n",
    "print(portfolio.orders.records)\n",
    "print(portfolio.get_asset_value(group_by=False))"
   ]
  },
  {
   "cell_type": "code",
   "execution_count": 44,
   "metadata": {},
   "outputs": [
    {
     "name": "stdout",
     "output_type": "stream",
     "text": [
      "Both\n",
      "   id  col  idx       size  price  fees  side\n",
      "0   0    0    0  50.000000    1.0   0.0     0\n",
      "1   1    0    1  12.500000    2.0   0.0     1\n",
      "2   2    0    2   6.250000    3.0   0.0     1\n",
      "3   3    0    3   3.906250    4.0   0.0     1\n",
      "4   4    0    4   2.734375    5.0   0.0     1\n",
      "5   0    1    0  50.000000    1.0   0.0     1\n",
      "6   1    1    1  37.500000    2.0   0.0     0\n",
      "7   2    1    2   6.250000    3.0   0.0     0\n",
      "8   3    1    3   2.343750    4.0   0.0     0\n",
      "9   4    1    4   1.171875    5.0   0.0     0\n",
      "LongOnly\n",
      "   id  col  idx       size  price  fees  side\n",
      "0   0    0    0  50.000000    1.0   0.0     0\n",
      "1   1    0    1  12.500000    2.0   0.0     1\n",
      "2   2    0    2   6.250000    3.0   0.0     1\n",
      "3   3    0    3   3.906250    4.0   0.0     1\n",
      "4   4    0    4   2.734375    5.0   0.0     1\n",
      "ShortOnly\n",
      "   id  col  idx       size  price  fees  side\n",
      "0   0    0    0  50.000000    1.0   0.0     1\n",
      "1   1    0    1  37.500000    2.0   0.0     0\n",
      "2   2    0    2   6.250000    3.0   0.0     0\n",
      "3   3    0    3   2.343750    4.0   0.0     0\n",
      "4   4    0    4   1.171875    5.0   0.0     0\n",
      "              0    1\n",
      "2020-01-01  0.5 -0.5\n",
      "2020-01-02  0.5 -0.5\n",
      "2020-01-03  0.5 -0.5\n",
      "2020-01-04  0.5 -0.5\n",
      "2020-01-05  0.5 -0.5\n",
      "   id  col  idx  size  price  fees  side\n",
      "0   0    0    0  50.0    1.0   0.0     0\n",
      "1   0    1    0  50.0    1.0   0.0     0\n",
      "                   a         b    c\n",
      "2020-01-01  0.500000  0.500000  0.0\n",
      "2020-01-02  0.666667  0.666667  0.0\n",
      "2020-01-03  0.750000  0.750000  0.0\n",
      "2020-01-04  0.800000  0.800000  0.0\n",
      "2020-01-05  0.833333  0.833333  0.0\n"
     ]
    }
   ],
   "source": [
    "test_per_direction(size=[[0.5, -0.5]], size_type=SizeType.TargetPercent)\n",
    "\n",
    "portfolio = vbt.Portfolio.from_orders(\n",
    "    price, [[0.5, -0.5]], size_type=SizeType.TargetPercent, direction='both')\n",
    "print(portfolio.get_asset_value() / portfolio.get_value())\n",
    "\n",
    "portfolio = vbt.Portfolio.from_orders(\n",
    "    price_wide, 0.5, size_type=SizeType.TargetPercent, \n",
    "    group_by=np.array([0, 0, 0]), cash_sharing=True, direction='both')\n",
    "print(portfolio.orders.records)\n",
    "print(portfolio.get_asset_value(group_by=False) / portfolio.get_value(group_by=False))"
   ]
  },
  {
   "cell_type": "code",
   "execution_count": 45,
   "metadata": {},
   "outputs": [
    {
     "name": "stdout",
     "output_type": "stream",
     "text": [
      "               a     b     c\n",
      "2020-01-01   0.0  30.0  70.0\n",
      "2020-01-02  70.0   0.0  30.0\n",
      "2020-01-03  30.0  70.0   0.0\n",
      "2020-01-04   0.0  30.0  70.0\n",
      "2020-01-05  70.0  30.0   0.0\n"
     ]
    }
   ],
   "source": [
    "price_one = pd.Series([1., 1., 1., 1., 1.], index=price.index)\n",
    "target_hold_value = pd.DataFrame({\n",
    "    'a': [0., 70., 30., 0., 70.],\n",
    "    'b': [30., 0., 70., 30., 30.],\n",
    "    'c': [70., 30., 0., 70., 0.]\n",
    "}, index=price.index)\n",
    "print(target_hold_value)"
   ]
  },
  {
   "cell_type": "code",
   "execution_count": 46,
   "metadata": {},
   "outputs": [
    {
     "name": "stdout",
     "output_type": "stream",
     "text": [
      "   id  col  idx  size  price  fees  side\n",
      "0   0    0    4  40.0    1.0   0.0     0\n",
      "1   0    1    0  30.0    1.0   0.0     0\n",
      "2   1    1    1  30.0    1.0   0.0     1\n",
      "3   2    1    2  70.0    1.0   0.0     0\n",
      "4   3    1    3  40.0    1.0   0.0     1\n",
      "5   0    2    0  70.0    1.0   0.0     0\n",
      "6   1    2    1  40.0    1.0   0.0     1\n",
      "7   2    2    2  30.0    1.0   0.0     1\n",
      "8   3    2    3  30.0    1.0   0.0     0\n",
      "9   4    2    4  30.0    1.0   0.0     1\n",
      "               a     b     c\n",
      "2020-01-01   0.0  30.0  70.0\n",
      "2020-01-02   0.0 -30.0 -40.0\n",
      "2020-01-03   0.0  70.0 -30.0\n",
      "2020-01-04   0.0 -40.0  30.0\n",
      "2020-01-05  40.0   0.0 -30.0\n",
      "               a     b     c\n",
      "2020-01-01   0.0  30.0  70.0\n",
      "2020-01-02   0.0   0.0  30.0\n",
      "2020-01-03   0.0  70.0   0.0\n",
      "2020-01-04   0.0  30.0  30.0\n",
      "2020-01-05  40.0  30.0   0.0\n",
      "            a  b  c\n",
      "2020-01-01  1  2  0\n",
      "2020-01-02  0  2  1\n",
      "2020-01-03  1  0  2\n",
      "2020-01-04  0  2  1\n",
      "2020-01-05  1  0  2\n"
     ]
    }
   ],
   "source": [
    "portfolio = vbt.Portfolio.from_orders(\n",
    "    price_one, target_hold_value, size_type=SizeType.TargetValue,\n",
    "    group_by=np.array([0, 0, 0]), cash_sharing=True,\n",
    "    call_seq='random', seed=43)\n",
    "\n",
    "print(portfolio.orders.records)\n",
    "print(portfolio.get_asset_flow())\n",
    "print(portfolio.get_asset_value(group_by=False))  # order fixed -> cannot rebalance properly\n",
    "print(portfolio.call_seq)"
   ]
  },
  {
   "cell_type": "code",
   "execution_count": 47,
   "metadata": {},
   "outputs": [
    {
     "name": "stdout",
     "output_type": "stream",
     "text": [
      "    id  col  idx  size  price  fees  side\n",
      "0    0    0    1  70.0    1.0   0.0     0\n",
      "1    1    0    2  40.0    1.0   0.0     1\n",
      "2    2    0    3  30.0    1.0   0.0     1\n",
      "3    3    0    4  70.0    1.0   0.0     0\n",
      "4    0    1    0  30.0    1.0   0.0     0\n",
      "5    1    1    1  30.0    1.0   0.0     1\n",
      "6    2    1    2  70.0    1.0   0.0     0\n",
      "7    3    1    3  40.0    1.0   0.0     1\n",
      "8    0    2    0  70.0    1.0   0.0     0\n",
      "9    1    2    1  40.0    1.0   0.0     1\n",
      "10   2    2    2  30.0    1.0   0.0     1\n",
      "11   3    2    3  70.0    1.0   0.0     0\n",
      "12   4    2    4  70.0    1.0   0.0     1\n",
      "               a     b     c\n",
      "2020-01-01   0.0  30.0  70.0\n",
      "2020-01-02  70.0 -30.0 -40.0\n",
      "2020-01-03 -40.0  70.0 -30.0\n",
      "2020-01-04 -30.0 -40.0  70.0\n",
      "2020-01-05  70.0   0.0 -70.0\n",
      "               a     b     c\n",
      "2020-01-01   0.0  30.0  70.0\n",
      "2020-01-02  70.0   0.0  30.0\n",
      "2020-01-03  30.0  70.0   0.0\n",
      "2020-01-04   0.0  30.0  70.0\n",
      "2020-01-05  70.0  30.0   0.0\n",
      "            a  b  c\n",
      "2020-01-01  0  1  2\n",
      "2020-01-02  2  1  0\n",
      "2020-01-03  0  2  1\n",
      "2020-01-04  1  0  2\n",
      "2020-01-05  2  1  0\n"
     ]
    }
   ],
   "source": [
    "portfolio = vbt.Portfolio.from_orders(\n",
    "    price_one, target_hold_value, size_type=SizeType.TargetValue, \n",
    "    group_by=np.array([0, 0, 0]), cash_sharing=True,\n",
    "    call_seq='auto')\n",
    "\n",
    "print(portfolio.orders.records)\n",
    "print(portfolio.get_asset_flow())\n",
    "print(portfolio.get_asset_value(group_by=False))  # order dynamic -> can rebalance\n",
    "print(portfolio.call_seq)"
   ]
  },
  {
   "cell_type": "code",
   "execution_count": 48,
   "metadata": {},
   "outputs": [
    {
     "name": "stdout",
     "output_type": "stream",
     "text": [
      "    id  col  idx  size  price  fees  side\n",
      "0    0    0    1  70.0    1.0   0.0     0\n",
      "1    1    0    2  40.0    1.0   0.0     1\n",
      "2    2    0    3  30.0    1.0   0.0     1\n",
      "3    3    0    4  70.0    1.0   0.0     0\n",
      "4    0    1    0  30.0    1.0   0.0     0\n",
      "5    1    1    1  30.0    1.0   0.0     1\n",
      "6    2    1    2  70.0    1.0   0.0     0\n",
      "7    3    1    3  40.0    1.0   0.0     1\n",
      "8    0    2    0  70.0    1.0   0.0     0\n",
      "9    1    2    1  40.0    1.0   0.0     1\n",
      "10   2    2    2  30.0    1.0   0.0     1\n",
      "11   3    2    3  70.0    1.0   0.0     0\n",
      "12   4    2    4  70.0    1.0   0.0     1\n",
      "               a     b     c\n",
      "2020-01-01   0.0  30.0  70.0\n",
      "2020-01-02  70.0 -30.0 -40.0\n",
      "2020-01-03 -40.0  70.0 -30.0\n",
      "2020-01-04 -30.0 -40.0  70.0\n",
      "2020-01-05  70.0   0.0 -70.0\n",
      "               a     b     c\n",
      "2020-01-01   0.0  30.0  70.0\n",
      "2020-01-02  70.0   0.0  30.0\n",
      "2020-01-03  30.0  70.0   0.0\n",
      "2020-01-04   0.0  30.0  70.0\n",
      "2020-01-05  70.0  30.0   0.0\n",
      "            a  b  c\n",
      "2020-01-01  0  1  2\n",
      "2020-01-02  2  1  0\n",
      "2020-01-03  0  2  1\n",
      "2020-01-04  1  0  2\n",
      "2020-01-05  2  1  0\n"
     ]
    }
   ],
   "source": [
    "portfolio = vbt.Portfolio.from_orders(\n",
    "    price_one, target_hold_value / 100., size_type=SizeType.TargetPercent, \n",
    "    group_by=np.array([0, 0, 0]), cash_sharing=True,\n",
    "    call_seq='auto')\n",
    "\n",
    "print(portfolio.orders.records)\n",
    "print(portfolio.get_asset_flow())\n",
    "print(portfolio.get_asset_value(group_by=False))\n",
    "print(portfolio.call_seq)"
   ]
  },
  {
   "cell_type": "markdown",
   "metadata": {},
   "source": [
    "## from_signals"
   ]
  },
  {
   "cell_type": "code",
   "execution_count": 49,
   "metadata": {},
   "outputs": [
    {
     "name": "stdout",
     "output_type": "stream",
     "text": [
      "(5,) (5, 3)\n",
      "(5,) (5, 3)\n",
      "(1000,) (1000, 1000)\n",
      "(1000,) (1000, 1000)\n"
     ]
    }
   ],
   "source": [
    "entries = pd.Series([True, True, True, False, False], index=price.index)\n",
    "entries_wide = entries.vbt.tile(3, keys=['a', 'b', 'c'])\n",
    "print(entries.shape, entries_wide.shape)\n",
    "\n",
    "exits = pd.Series([False, False, True, True, True], index=price.index)\n",
    "exits_wide = exits.vbt.tile(3, keys=['a', 'b', 'c'])\n",
    "print(exits.shape, exits_wide.shape)\n",
    "\n",
    "big_entries = pd.DataFrame.vbt.signals.empty((1000,), index=big_price.index)\n",
    "big_entries.iloc[0::2] = True\n",
    "big_entries_wide = big_entries.vbt.tile(1000)\n",
    "print(big_entries.shape, big_entries_wide.shape)\n",
    "\n",
    "big_exits = pd.DataFrame.vbt.signals.empty((1000,), index=big_price.index)\n",
    "big_exits.iloc[1::2] = True\n",
    "big_exits_wide = big_exits.vbt.tile(1000)\n",
    "print(big_exits.shape, big_exits_wide.shape)"
   ]
  },
  {
   "cell_type": "code",
   "execution_count": 50,
   "metadata": {},
   "outputs": [
    {
     "name": "stdout",
     "output_type": "stream",
     "text": [
      "3.34 ms ± 414 µs per loop (mean ± std. dev. of 7 runs, 1 loop each)\n"
     ]
    }
   ],
   "source": [
    "%timeit vbt.Portfolio.from_signals(\\\n",
    "    big_price, big_entries, big_exits,\\\n",
    "    size=1., init_cash=np.inf, accumulate=True)"
   ]
  },
  {
   "cell_type": "code",
   "execution_count": 51,
   "metadata": {},
   "outputs": [
    {
     "name": "stdout",
     "output_type": "stream",
     "text": [
      "112 ms ± 289 µs per loop (mean ± std. dev. of 7 runs, 1 loop each)\n"
     ]
    }
   ],
   "source": [
    "%timeit vbt.Portfolio.from_signals(\\\n",
    "    big_price_wide, big_entries_wide, big_exits_wide,\\\n",
    "    size=1., init_cash=np.inf, accumulate=True)"
   ]
  },
  {
   "cell_type": "code",
   "execution_count": 52,
   "metadata": {},
   "outputs": [
    {
     "name": "stdout",
     "output_type": "stream",
     "text": [
      "111 ms ± 1.13 ms per loop (mean ± std. dev. of 7 runs, 1 loop each)\n"
     ]
    }
   ],
   "source": [
    "%timeit vbt.Portfolio.from_signals(\\\n",
    "    big_price_wide, big_entries_wide, big_exits_wide,\\\n",
    "    size=1., init_cash=np.inf, accumulate=True, jitted=dict(parallel=True))"
   ]
  },
  {
   "cell_type": "code",
   "execution_count": 54,
   "metadata": {},
   "outputs": [
    {
     "name": "stdout",
     "output_type": "stream",
     "text": [
      "143 ms ± 1.23 ms per loop (mean ± std. dev. of 7 runs, 10 loops each)\n"
     ]
    }
   ],
   "source": [
    "%timeit vbt.Portfolio.from_signals(\\\n",
    "    big_price_wide, big_entries_wide, big_exits_wide,\\\n",
    "    size=1., init_cash=np.inf, accumulate=True, chunked=True)"
   ]
  },
  {
   "cell_type": "code",
   "execution_count": 55,
   "metadata": {},
   "outputs": [
    {
     "name": "stdout",
     "output_type": "stream",
     "text": [
      "64.5 ms ± 1.74 ms per loop (mean ± std. dev. of 7 runs, 10 loops each)\n"
     ]
    }
   ],
   "source": [
    "%timeit vbt.Portfolio.from_signals(\\\n",
    "    big_price_wide, big_entries_wide, big_exits_wide,\\\n",
    "    size=1., init_cash=np.inf, accumulate=True, chunked='dask')"
   ]
  },
  {
   "cell_type": "code",
   "execution_count": 56,
   "metadata": {},
   "outputs": [
    {
     "name": "stdout",
     "output_type": "stream",
     "text": [
      "123 ms ± 717 µs per loop (mean ± std. dev. of 7 runs, 10 loops each)\n"
     ]
    }
   ],
   "source": [
    "%timeit vbt.Portfolio.from_signals(\\\n",
    "    big_price_wide, big_entries_wide, big_exits_wide,\\\n",
    "    size=1., init_cash=np.inf, sl_stop=np.inf, tp_stop=np.inf, accumulate=True)"
   ]
  },
  {
   "cell_type": "code",
   "execution_count": 57,
   "metadata": {},
   "outputs": [
    {
     "name": "stdout",
     "output_type": "stream",
     "text": [
      "356 ms ± 22.8 ms per loop (mean ± std. dev. of 7 runs, 1 loop each)\n"
     ]
    }
   ],
   "source": [
    "%timeit vbt.Portfolio.from_signals(\\\n",
    "    big_price_wide, big_entries_wide, big_exits_wide,\\\n",
    "    size=1., init_cash=np.inf, accumulate=True, log=True)"
   ]
  },
  {
   "cell_type": "code",
   "execution_count": 58,
   "metadata": {},
   "outputs": [
    {
     "name": "stdout",
     "output_type": "stream",
     "text": [
      "116 ms ± 1.4 ms per loop (mean ± std. dev. of 7 runs, 10 loops each)\n"
     ]
    }
   ],
   "source": [
    "%timeit vbt.Portfolio.from_signals(\\\n",
    "    big_price_wide, big_entries_wide, big_exits_wide,\\\n",
    "    size=1., init_cash=np.inf, accumulate=True,\\\n",
    "    group_by=np.repeat(np.arange(500), 2))"
   ]
  },
  {
   "cell_type": "code",
   "execution_count": 59,
   "metadata": {},
   "outputs": [
    {
     "name": "stdout",
     "output_type": "stream",
     "text": [
      "113 ms ± 956 µs per loop (mean ± std. dev. of 7 runs, 10 loops each)\n"
     ]
    }
   ],
   "source": [
    "%timeit vbt.Portfolio.from_signals(\\\n",
    "    big_price_wide, big_entries_wide, big_exits_wide,\\\n",
    "    size=1., init_cash=np.inf, accumulate=True,\\\n",
    "    group_by=np.repeat(np.arange(500), 2), cash_sharing=True)"
   ]
  },
  {
   "cell_type": "code",
   "execution_count": 60,
   "metadata": {},
   "outputs": [
    {
     "name": "stdout",
     "output_type": "stream",
     "text": [
      "122 ms ± 530 µs per loop (mean ± std. dev. of 7 runs, 1 loop each)\n"
     ]
    }
   ],
   "source": [
    "# worst case\n",
    "%timeit vbt.Portfolio.from_signals(\\\n",
    "    big_price_wide, big_entries_wide, big_exits_wide,\\\n",
    "    size=np.arange(1000)[::-1], init_cash=np.inf, accumulate=True,\\\n",
    "    group_by=np.repeat(np.arange(500), 2), cash_sharing=True, call_seq=CallSeqType.Auto)"
   ]
  },
  {
   "cell_type": "code",
   "execution_count": 61,
   "metadata": {},
   "outputs": [
    {
     "name": "stdout",
     "output_type": "stream",
     "text": [
      "114 ms ± 1.34 ms per loop (mean ± std. dev. of 7 runs, 10 loops each)\n"
     ]
    }
   ],
   "source": [
    "%timeit vbt.Portfolio.from_signals(\\\n",
    "    big_price_wide, big_entries_wide, big_exits_wide,\\\n",
    "    size=1., init_cash=np.inf, accumulate=True,\\\n",
    "    group_by=np.full(1000, 0))"
   ]
  },
  {
   "cell_type": "code",
   "execution_count": 62,
   "metadata": {},
   "outputs": [
    {
     "name": "stdout",
     "output_type": "stream",
     "text": [
      "113 ms ± 431 µs per loop (mean ± std. dev. of 7 runs, 1 loop each)\n"
     ]
    }
   ],
   "source": [
    "%timeit vbt.Portfolio.from_signals(\\\n",
    "    big_price_wide, big_entries_wide, big_exits_wide,\\\n",
    "    size=1., init_cash=np.inf, accumulate=True,\\\n",
    "    group_by=np.full(1000, 0), cash_sharing=True)"
   ]
  },
  {
   "cell_type": "code",
   "execution_count": 63,
   "metadata": {},
   "outputs": [
    {
     "name": "stdout",
     "output_type": "stream",
     "text": [
      "455 ms ± 2.94 ms per loop (mean ± std. dev. of 7 runs, 1 loop each)\n"
     ]
    }
   ],
   "source": [
    "# worst case\n",
    "%timeit vbt.Portfolio.from_signals(\\\n",
    "    big_price_wide, big_entries_wide, big_exits_wide,\\\n",
    "    size=np.arange(1000)[::-1], init_cash=np.inf, accumulate=True,\\\n",
    "    group_by=np.full(1000, 0), cash_sharing=True, call_seq=CallSeqType.Auto)"
   ]
  },
  {
   "cell_type": "code",
   "execution_count": 64,
   "metadata": {},
   "outputs": [],
   "source": [
    "def test_per_direction(price=price, entries=entries, exits=exits, **kwargs):\n",
    "    print('Both')\n",
    "    try:\n",
    "        portfolio = vbt.Portfolio.from_signals(price, entries, exits, direction='both', **kwargs)\n",
    "        print(portfolio.orders.records)\n",
    "    except Exception as e:\n",
    "        print(e)\n",
    "    print('LongOnly')\n",
    "    try:\n",
    "        portfolio = vbt.Portfolio.from_signals(price, entries, exits, direction='longonly', **kwargs)\n",
    "        print(portfolio.orders.records)\n",
    "    except Exception as e:\n",
    "        print(e)\n",
    "    print('ShortOnly')\n",
    "    try:\n",
    "        portfolio = vbt.Portfolio.from_signals(price, entries, exits, direction='shortonly', **kwargs)\n",
    "        print(portfolio.orders.records)\n",
    "    except Exception as e:\n",
    "        print(e)"
   ]
  },
  {
   "cell_type": "code",
   "execution_count": 65,
   "metadata": {},
   "outputs": [
    {
     "name": "stdout",
     "output_type": "stream",
     "text": [
      "Both\n",
      "   id  col  idx   size  price  fees  side\n",
      "0   0    0    0  100.0    1.0   0.0     0\n",
      "1   1    0    3  200.0    4.0   0.0     1\n",
      "LongOnly\n",
      "   id  col  idx   size  price  fees  side\n",
      "0   0    0    0  100.0    1.0   0.0     0\n",
      "1   1    0    3  100.0    4.0   0.0     1\n",
      "ShortOnly\n",
      "   id  col  idx   size  price  fees  side\n",
      "0   0    0    0  100.0    1.0   0.0     1\n",
      "1   1    0    3   50.0    4.0   0.0     0\n"
     ]
    }
   ],
   "source": [
    "test_per_direction()"
   ]
  },
  {
   "cell_type": "code",
   "execution_count": 66,
   "metadata": {},
   "outputs": [
    {
     "name": "stdout",
     "output_type": "stream",
     "text": [
      "Both\n",
      "   id  col  idx   size  price  fees  side\n",
      "0   0    1    0    1.0    1.0   0.0     0\n",
      "1   1    1    3    2.0    4.0   0.0     1\n",
      "2   0    2    0  100.0    1.0   0.0     0\n",
      "3   1    2    3  200.0    4.0   0.0     1\n",
      "LongOnly\n",
      "   id  col  idx   size  price  fees  side\n",
      "0   0    1    0    1.0    1.0   0.0     0\n",
      "1   1    1    3    1.0    4.0   0.0     1\n",
      "2   0    2    0  100.0    1.0   0.0     0\n",
      "3   1    2    3  100.0    4.0   0.0     1\n",
      "ShortOnly\n",
      "   id  col  idx   size  price  fees  side\n",
      "0   0    1    0    1.0    1.0   0.0     1\n",
      "1   1    1    3    1.0    4.0   0.0     0\n",
      "2   0    2    0  100.0    1.0   0.0     1\n",
      "3   1    2    3   50.0    4.0   0.0     0\n"
     ]
    }
   ],
   "source": [
    "test_per_direction(size=[[0, 1, np.inf]])"
   ]
  },
  {
   "cell_type": "code",
   "execution_count": 67,
   "metadata": {},
   "outputs": [
    {
     "name": "stdout",
     "output_type": "stream",
     "text": [
      "Both\n",
      "SizeType.Percent does not support position reversal using signals\n",
      "LongOnly\n",
      "   id  col  idx  size  price  fees  side\n",
      "0   0    0    0  50.0    1.0   0.0     0\n",
      "1   1    0    3  50.0    4.0   0.0     1\n",
      "ShortOnly\n",
      "   id  col  idx  size  price  fees  side\n",
      "0   0    0    0  50.0    1.0   0.0     1\n",
      "1   1    0    3  37.5    4.0   0.0     0\n"
     ]
    }
   ],
   "source": [
    "test_per_direction(size=0.5, size_type='percent')"
   ]
  },
  {
   "cell_type": "code",
   "execution_count": 68,
   "metadata": {},
   "outputs": [
    {
     "name": "stdout",
     "output_type": "stream",
     "text": [
      "Both\n",
      "   id  col  idx    size  price  fees  side\n",
      "0   0    0    0  50.000    1.0   0.0     0\n",
      "1   1    0    1  12.500    2.0   0.0     0\n",
      "2   2    0    3  65.625    4.0   0.0     1\n",
      "3   3    0    4  26.250    5.0   0.0     1\n",
      "LongOnly\n",
      "   id  col  idx    size  price  fees  side\n",
      "0   0    0    0  50.000    1.0   0.0     0\n",
      "1   1    0    1  12.500    2.0   0.0     0\n",
      "2   2    0    3  31.250    4.0   0.0     1\n",
      "3   3    0    4  15.625    5.0   0.0     1\n",
      "ShortOnly\n",
      "   id  col  idx    size  price  fees  side\n",
      "0   0    0    0  50.000    1.0   0.0     1\n",
      "1   1    0    1  12.500    2.0   0.0     1\n",
      "2   2    0    3  21.875    4.0   0.0     0\n",
      "3   3    0    4   8.750    5.0   0.0     0\n"
     ]
    }
   ],
   "source": [
    "test_per_direction(size=0.5, size_type='percent', accumulate=True)"
   ]
  },
  {
   "cell_type": "code",
   "execution_count": 69,
   "metadata": {},
   "outputs": [
    {
     "name": "stdout",
     "output_type": "stream",
     "text": [
      "Both\n",
      "   id  col  idx        size  price  fees  side\n",
      "0   0    0    0   99.009901   1.01   0.0     0\n",
      "1   1    0    3  198.019802   4.04   0.0     1\n",
      "LongOnly\n",
      "   id  col  idx       size  price  fees  side\n",
      "0   0    0    0  99.009901   1.01   0.0     0\n",
      "1   1    0    3  99.009901   4.04   0.0     1\n",
      "ShortOnly\n",
      "   id  col  idx       size  price  fees  side\n",
      "0   0    0    0  99.009901   1.01   0.0     1\n",
      "1   1    0    3  49.504950   4.04   0.0     0\n"
     ]
    }
   ],
   "source": [
    "test_per_direction(price=price * 1.01)"
   ]
  },
  {
   "cell_type": "code",
   "execution_count": 70,
   "metadata": {},
   "outputs": [
    {
     "name": "stdout",
     "output_type": "stream",
     "text": [
      "Both\n",
      "   id  col  idx  size  price  fees  side\n",
      "0   0    0    0   1.0    1.0   0.0     0\n",
      "1   1    0    3   2.0    4.0   0.0     1\n",
      "2   0    1    0   1.0    1.0   0.1     0\n",
      "3   1    1    3   2.0    4.0   0.8     1\n",
      "4   0    2    0   1.0    1.0   1.0     0\n",
      "5   1    2    3   2.0    4.0   8.0     1\n",
      "LongOnly\n",
      "   id  col  idx  size  price  fees  side\n",
      "0   0    0    0   1.0    1.0   0.0     0\n",
      "1   1    0    3   1.0    4.0   0.0     1\n",
      "2   0    1    0   1.0    1.0   0.1     0\n",
      "3   1    1    3   1.0    4.0   0.4     1\n",
      "4   0    2    0   1.0    1.0   1.0     0\n",
      "5   1    2    3   1.0    4.0   4.0     1\n",
      "ShortOnly\n",
      "   id  col  idx  size  price  fees  side\n",
      "0   0    0    0   1.0    1.0   0.0     1\n",
      "1   1    0    3   1.0    4.0   0.0     0\n",
      "2   0    1    0   1.0    1.0   0.1     1\n",
      "3   1    1    3   1.0    4.0   0.4     0\n",
      "4   0    2    0   1.0    1.0   1.0     1\n",
      "5   1    2    3   1.0    4.0   4.0     0\n"
     ]
    }
   ],
   "source": [
    "test_per_direction(size=1, fees=[[0., 0.1, 1.]])"
   ]
  },
  {
   "cell_type": "code",
   "execution_count": 71,
   "metadata": {},
   "outputs": [
    {
     "name": "stdout",
     "output_type": "stream",
     "text": [
      "Both\n",
      "   id  col  idx  size  price  fees  side\n",
      "0   0    0    0   1.0    1.0   0.0     0\n",
      "1   1    0    3   2.0    4.0   0.0     1\n",
      "2   0    1    0   1.0    1.0   0.1     0\n",
      "3   1    1    3   2.0    4.0   0.1     1\n",
      "4   0    2    0   1.0    1.0   1.0     0\n",
      "5   1    2    3   2.0    4.0   1.0     1\n",
      "LongOnly\n",
      "   id  col  idx  size  price  fees  side\n",
      "0   0    0    0   1.0    1.0   0.0     0\n",
      "1   1    0    3   1.0    4.0   0.0     1\n",
      "2   0    1    0   1.0    1.0   0.1     0\n",
      "3   1    1    3   1.0    4.0   0.1     1\n",
      "4   0    2    0   1.0    1.0   1.0     0\n",
      "5   1    2    3   1.0    4.0   1.0     1\n",
      "ShortOnly\n",
      "   id  col  idx  size  price  fees  side\n",
      "0   0    0    0   1.0    1.0   0.0     1\n",
      "1   1    0    3   1.0    4.0   0.0     0\n",
      "2   0    1    0   1.0    1.0   0.1     1\n",
      "3   1    1    3   1.0    4.0   0.1     0\n",
      "4   0    2    0   1.0    1.0   1.0     1\n",
      "5   1    2    3   1.0    4.0   1.0     0\n"
     ]
    }
   ],
   "source": [
    "test_per_direction(size=1, fixed_fees=[[0., 0.1, 1.]])"
   ]
  },
  {
   "cell_type": "code",
   "execution_count": 72,
   "metadata": {},
   "outputs": [
    {
     "name": "stdout",
     "output_type": "stream",
     "text": [
      "Both\n",
      "   id  col  idx  size  price  fees  side\n",
      "0   0    0    0   1.0    1.0   0.0     0\n",
      "1   1    0    3   2.0    4.0   0.0     1\n",
      "2   0    1    0   1.0    1.1   0.0     0\n",
      "3   1    1    3   2.0    3.6   0.0     1\n",
      "4   0    2    0   1.0    2.0   0.0     0\n",
      "5   1    2    3   2.0    0.0   0.0     1\n",
      "LongOnly\n",
      "   id  col  idx  size  price  fees  side\n",
      "0   0    0    0   1.0    1.0   0.0     0\n",
      "1   1    0    3   1.0    4.0   0.0     1\n",
      "2   0    1    0   1.0    1.1   0.0     0\n",
      "3   1    1    3   1.0    3.6   0.0     1\n",
      "4   0    2    0   1.0    2.0   0.0     0\n",
      "5   1    2    3   1.0    0.0   0.0     1\n",
      "ShortOnly\n",
      "   id  col  idx  size  price  fees  side\n",
      "0   0    0    0   1.0    1.0   0.0     1\n",
      "1   1    0    3   1.0    4.0   0.0     0\n",
      "2   0    1    0   1.0    0.9   0.0     1\n",
      "3   1    1    3   1.0    4.4   0.0     0\n",
      "4   0    2    0   1.0    0.0   0.0     1\n",
      "5   1    2    3   1.0    8.0   0.0     0\n"
     ]
    }
   ],
   "source": [
    "test_per_direction(size=1, slippage=[[0., 0.1, 1.]])"
   ]
  },
  {
   "cell_type": "code",
   "execution_count": 73,
   "metadata": {},
   "outputs": [
    {
     "name": "stdout",
     "output_type": "stream",
     "text": [
      "Both\n",
      "   id  col  idx  size  price  fees  side\n",
      "0   0    0    0   1.0    1.0   0.0     0\n",
      "1   1    0    3   2.0    4.0   0.0     1\n",
      "2   0    1    0   1.0    1.0   0.0     0\n",
      "3   1    1    3   2.0    4.0   0.0     1\n",
      "LongOnly\n",
      "   id  col  idx  size  price  fees  side\n",
      "0   0    0    0   1.0    1.0   0.0     0\n",
      "1   1    0    3   1.0    4.0   0.0     1\n",
      "2   0    1    0   1.0    1.0   0.0     0\n",
      "3   1    1    3   1.0    4.0   0.0     1\n",
      "ShortOnly\n",
      "   id  col  idx  size  price  fees  side\n",
      "0   0    0    0   1.0    1.0   0.0     1\n",
      "1   1    0    3   1.0    4.0   0.0     0\n",
      "2   0    1    0   1.0    1.0   0.0     1\n",
      "3   1    1    3   1.0    4.0   0.0     0\n"
     ]
    }
   ],
   "source": [
    "test_per_direction(size=1, min_size=[[0., 1., 2.]])"
   ]
  },
  {
   "cell_type": "code",
   "execution_count": 74,
   "metadata": {},
   "outputs": [
    {
     "name": "stdout",
     "output_type": "stream",
     "text": [
      "Both\n",
      "   id  col  idx  size  price  fees  side\n",
      "0   0    0    0   0.5    1.0   0.0     0\n",
      "1   1    0    3   0.5    4.0   0.0     1\n",
      "2   2    0    4   0.5    5.0   0.0     1\n",
      "3   0    1    0   1.0    1.0   0.0     0\n",
      "4   1    1    3   1.0    4.0   0.0     1\n",
      "5   2    1    4   1.0    5.0   0.0     1\n",
      "6   0    2    0   1.0    1.0   0.0     0\n",
      "7   1    2    3   2.0    4.0   0.0     1\n",
      "LongOnly\n",
      "   id  col  idx  size  price  fees  side\n",
      "0   0    0    0   0.5    1.0   0.0     0\n",
      "1   1    0    3   0.5    4.0   0.0     1\n",
      "2   0    1    0   1.0    1.0   0.0     0\n",
      "3   1    1    3   1.0    4.0   0.0     1\n",
      "4   0    2    0   1.0    1.0   0.0     0\n",
      "5   1    2    3   1.0    4.0   0.0     1\n",
      "ShortOnly\n",
      "   id  col  idx  size  price  fees  side\n",
      "0   0    0    0   0.5    1.0   0.0     1\n",
      "1   1    0    3   0.5    4.0   0.0     0\n",
      "2   0    1    0   1.0    1.0   0.0     1\n",
      "3   1    1    3   1.0    4.0   0.0     0\n",
      "4   0    2    0   1.0    1.0   0.0     1\n",
      "5   1    2    3   1.0    4.0   0.0     0\n"
     ]
    }
   ],
   "source": [
    "test_per_direction(size=1, max_size=[[0.5, 1., np.inf]])"
   ]
  },
  {
   "cell_type": "code",
   "execution_count": 75,
   "metadata": {},
   "outputs": [
    {
     "name": "stdout",
     "output_type": "stream",
     "text": [
      "Both\n",
      "   id  col  idx  size  price  fees  side\n",
      "0   0    0    0   1.0    1.0   0.0     0\n",
      "1   1    0    3   2.0    4.0   0.0     1\n",
      "2   0    1    1   1.0    2.0   0.0     0\n",
      "3   1    1    3   2.0    4.0   0.0     1\n",
      "LongOnly\n",
      "   id  col  idx  size  price  fees  side\n",
      "0   0    0    0   1.0    1.0   0.0     0\n",
      "1   1    0    3   1.0    4.0   0.0     1\n",
      "2   0    1    1   1.0    2.0   0.0     0\n",
      "3   1    1    3   1.0    4.0   0.0     1\n",
      "ShortOnly\n",
      "   id  col  idx  size  price  fees  side\n",
      "0   0    0    0   1.0    1.0   0.0     1\n",
      "1   1    0    3   1.0    4.0   0.0     0\n",
      "2   0    1    1   1.0    2.0   0.0     1\n",
      "3   1    1    3   1.0    4.0   0.0     0\n"
     ]
    }
   ],
   "source": [
    "test_per_direction(size=1., reject_prob=[[0., 0.5, 1.]], seed=42)"
   ]
  },
  {
   "cell_type": "code",
   "execution_count": 76,
   "metadata": {},
   "outputs": [
    {
     "name": "stdout",
     "output_type": "stream",
     "text": [
      "   id  col  idx   size  price  fees  side\n",
      "0   0    0    0  100.0    1.0   0.0     0\n",
      "1   1    0    3  200.0    4.0   0.0     1\n",
      "2   0    1    0  100.0    1.0   0.0     0\n",
      "3   1    1    3  100.0    4.0   0.0     1\n",
      "4   2    1    4   80.0    5.0   0.0     1\n",
      "   id  col  idx   size  price  fees  side\n",
      "0   0    0    0   20.0    5.0   0.0     1\n",
      "1   1    0    3  100.0    2.0   0.0     0\n",
      "2   0    1    0   20.0    5.0   0.0     1\n",
      "3   1    1    3   20.0    2.0   0.0     0\n",
      "4   2    1    4  160.0    1.0   0.0     0\n"
     ]
    }
   ],
   "source": [
    "portfolio = vbt.Portfolio.from_signals(\n",
    "    price, entries, exits, direction='both',\n",
    "    upon_opposite_entry=[['reverse', 'close']]\n",
    ")\n",
    "print(portfolio.orders.records)\n",
    "\n",
    "portfolio = vbt.Portfolio.from_signals(\n",
    "    pd.Series(price.values[::-1], index=price.index),\n",
    "    pd.Series(entries.values[::-1], index=price.index),\n",
    "    pd.Series(exits.values[::-1], index=price.index), \n",
    "    direction='both',\n",
    "    upon_opposite_entry=[['reverse', 'close']]\n",
    ")\n",
    "print(portfolio.orders.records)"
   ]
  },
  {
   "cell_type": "code",
   "execution_count": 77,
   "metadata": {},
   "outputs": [
    {
     "name": "stdout",
     "output_type": "stream",
     "text": [
      "Both\n",
      "   id  col  idx    size  price  fees  side\n",
      "0   0    0    0   100.0    1.0   0.0     0\n",
      "1   1    0    3  1100.0    4.0   0.0     1\n",
      "2   0    1    3  1000.0    4.0   0.0     1\n",
      "LongOnly\n",
      "   id  col  idx   size  price  fees  side\n",
      "0   0    0    0  100.0    1.0   0.0     0\n",
      "1   1    0    3  100.0    4.0   0.0     1\n",
      "ShortOnly\n",
      "   id  col  idx    size  price  fees  side\n",
      "0   0    0    0  1000.0    1.0   0.0     1\n",
      "1   1    0    3   275.0    4.0   0.0     0\n",
      "2   0    1    0  1000.0    1.0   0.0     1\n",
      "Both\n",
      "   id  col  idx   size  price  fees  side\n",
      "0   0    0    0  100.0    1.0   0.0     0\n",
      "1   1    0    3  200.0    4.0   0.0     1\n",
      "2   0    1    0  100.0    1.0   0.0     0\n",
      "3   1    1    3  200.0    4.0   0.0     1\n",
      "LongOnly\n",
      "   id  col  idx   size  price  fees  side\n",
      "0   0    0    0  100.0    1.0   0.0     0\n",
      "1   1    0    3  100.0    4.0   0.0     1\n",
      "2   0    1    0  100.0    1.0   0.0     0\n",
      "3   1    1    3  100.0    4.0   0.0     1\n",
      "ShortOnly\n",
      "   id  col  idx   size  price  fees  side\n",
      "0   0    0    0  100.0    1.0   0.0     1\n",
      "1   1    0    3   50.0    4.0   0.0     0\n",
      "2   0    1    0  100.0    1.0   0.0     1\n"
     ]
    }
   ],
   "source": [
    "test_per_direction(size=1000, allow_partial=[[True, False]])\n",
    "test_per_direction(size=np.inf, allow_partial=[[True, False]])"
   ]
  },
  {
   "cell_type": "code",
   "execution_count": 78,
   "metadata": {},
   "outputs": [
    {
     "name": "stdout",
     "output_type": "stream",
     "text": [
      "Both\n",
      "   id  col  idx    size  price  fees  side\n",
      "0   0    0    0   100.0    1.0   0.0     0\n",
      "1   1    0    3  1100.0    4.0   0.0     1\n",
      "LongOnly\n",
      "   id  col  idx   size  price  fees  side\n",
      "0   0    0    0  100.0    1.0   0.0     0\n",
      "1   1    0    3  100.0    4.0   0.0     1\n",
      "ShortOnly\n",
      "Not enough cash to cover fees\n",
      "Both\n",
      "Final size is less than requested\n",
      "LongOnly\n",
      "Final size is less than requested\n",
      "ShortOnly\n",
      "Final size is less than requested\n"
     ]
    }
   ],
   "source": [
    "test_per_direction(size=1000, allow_partial=True, raise_reject=True)\n",
    "test_per_direction(size=1000, allow_partial=False, raise_reject=True)"
   ]
  },
  {
   "cell_type": "code",
   "execution_count": 79,
   "metadata": {},
   "outputs": [
    {
     "name": "stdout",
     "output_type": "stream",
     "text": [
      "Both\n",
      "   id  col  idx  size  price  fees  side\n",
      "0   0    0    0   1.0    1.0   0.0     0\n",
      "1   1    0    1   1.0    2.0   0.0     0\n",
      "2   2    0    3   1.0    4.0   0.0     1\n",
      "3   3    0    4   1.0    5.0   0.0     1\n",
      "LongOnly\n",
      "   id  col  idx  size  price  fees  side\n",
      "0   0    0    0   1.0    1.0   0.0     0\n",
      "1   1    0    1   1.0    2.0   0.0     0\n",
      "2   2    0    3   1.0    4.0   0.0     1\n",
      "3   3    0    4   1.0    5.0   0.0     1\n",
      "ShortOnly\n",
      "   id  col  idx  size  price  fees  side\n",
      "0   0    0    0   1.0    1.0   0.0     1\n",
      "1   1    0    1   1.0    2.0   0.0     1\n",
      "2   2    0    3   1.0    4.0   0.0     0\n",
      "3   3    0    4   1.0    5.0   0.0     0\n"
     ]
    }
   ],
   "source": [
    "test_per_direction(size=1, accumulate=True)"
   ]
  },
  {
   "cell_type": "code",
   "execution_count": 80,
   "metadata": {},
   "outputs": [
    {
     "name": "stdout",
     "output_type": "stream",
     "text": [
      "   id  col  idx   size  price  fees  side\n",
      "0   0    0    0  100.0    1.0   0.0     0\n",
      "1   1    0    3  200.0    4.0   0.0     1\n",
      "   id  group  col  idx  open  high  low  close   cash  position  ...  \\\n",
      "0   0      0    0    0   NaN   NaN  NaN    1.0  100.0       0.0  ...   \n",
      "1   1      0    0    3   NaN   NaN  NaN    4.0    0.0     100.0  ...   \n",
      "\n",
      "   new_free_cash  new_val_price  new_value  res_size  res_price  res_fees  \\\n",
      "0            0.0            1.0      100.0     100.0        1.0       0.0   \n",
      "1            0.0            4.0      400.0     200.0        4.0       0.0   \n",
      "\n",
      "   res_side  res_status  res_status_info  order_id  \n",
      "0         0           0               -1         0  \n",
      "1         1           0               -1         1  \n",
      "\n",
      "[2 rows x 43 columns]\n"
     ]
    }
   ],
   "source": [
    "portfolio = vbt.Portfolio.from_signals(price, entries, exits, log=True, direction='both')\n",
    "print(portfolio.orders.records)\n",
    "print(portfolio.logs.records)"
   ]
  },
  {
   "cell_type": "code",
   "execution_count": 81,
   "metadata": {},
   "outputs": [
    {
     "name": "stdout",
     "output_type": "stream",
     "text": [
      "Both\n",
      "   id  col  idx  size  price  fees  side\n",
      "0   0    0    1   1.0    2.0   0.0     0\n",
      "1   0    1    1   1.0    2.0   0.0     0\n",
      "2   0    2    1   1.0    2.0   0.0     0\n",
      "3   0    3    1   1.0    2.0   0.0     0\n",
      "4   0    4    1   1.0    2.0   0.0     1\n",
      "LongOnly\n",
      "   id  col  idx  size  price  fees  side\n",
      "0   0    0    1   1.0    2.0   0.0     0\n",
      "1   0    1    0   1.0    1.0   0.0     0\n",
      "2   0    2    1   1.0    2.0   0.0     0\n",
      "3   1    2    2   1.0    3.0   0.0     1\n",
      "4   0    3    1   1.0    2.0   0.0     0\n",
      "5   1    3    2   1.0    3.0   0.0     1\n",
      "ShortOnly\n",
      "   id  col  idx  size  price  fees  side\n",
      "0   0    0    1   1.0    2.0   0.0     1\n",
      "1   0    1    0   1.0    1.0   0.0     1\n",
      "2   0    2    1   1.0    2.0   0.0     1\n",
      "3   1    2    2   1.0    3.0   0.0     0\n",
      "4   0    3    1   1.0    2.0   0.0     1\n",
      "5   1    3    2   1.0    3.0   0.0     0\n"
     ]
    }
   ],
   "source": [
    "test_per_direction(price=price.iloc[:3], entries=pd.DataFrame([\n",
    "    [True, True, True, True, True],\n",
    "    [True, True, True, True, False],\n",
    "    [True, True, True, True, True]\n",
    "]), exits=pd.DataFrame([\n",
    "    [True, True, True, True, True],\n",
    "    [False, False, False, False, True],\n",
    "    [True, True, True, True, True]\n",
    "]), size=1., upon_long_conflict=[[\n",
    "    'ignore', \n",
    "    'entry', \n",
    "    'exit', \n",
    "    'opposite',\n",
    "    'opposite'\n",
    "]], upon_short_conflict=[[\n",
    "    'ignore', \n",
    "    'entry', \n",
    "    'exit', \n",
    "    'opposite',\n",
    "    'opposite'\n",
    "]])"
   ]
  },
  {
   "cell_type": "code",
   "execution_count": 82,
   "metadata": {},
   "outputs": [
    {
     "name": "stdout",
     "output_type": "stream",
     "text": [
      "Both\n",
      "   id  col  idx  size  price  fees  side\n",
      "0   0    0    1   1.0    2.0   0.0     0\n",
      "1   0    1    0   1.0    1.0   0.0     0\n",
      "2   0    2    0   1.0    1.0   0.0     1\n",
      "3   1    2    1   2.0    2.0   0.0     0\n",
      "4   2    2    2   2.0    3.0   0.0     1\n",
      "5   0    3    1   1.0    2.0   0.0     0\n",
      "6   1    3    2   2.0    3.0   0.0     1\n",
      "7   0    4    1   1.0    2.0   0.0     1\n",
      "8   1    4    2   2.0    3.0   0.0     0\n",
      "LongOnly\n",
      "   id  col  idx  size  price  fees  side\n",
      "0   0    0    1   1.0    2.0   0.0     0\n",
      "1   0    1    1   1.0    2.0   0.0     0\n",
      "2   0    2    1   1.0    2.0   0.0     0\n",
      "3   0    3    1   1.0    2.0   0.0     0\n",
      "ShortOnly\n",
      "   id  col  idx  size  price  fees  side\n",
      "0   0    0    1   1.0    2.0   0.0     1\n",
      "1   0    1    1   1.0    2.0   0.0     1\n",
      "2   0    2    1   1.0    2.0   0.0     1\n",
      "3   0    3    1   1.0    2.0   0.0     1\n"
     ]
    }
   ],
   "source": [
    "test_per_direction(price=price.iloc[:3], entries=pd.DataFrame([\n",
    "    [True, True, True, True, True],\n",
    "    [True, True, True, True, False],\n",
    "    [True, True, True, True, True]\n",
    "]), exits=pd.DataFrame([\n",
    "    [True, True, True, True, True],\n",
    "    [False, False, False, False, True],\n",
    "    [True, True, True, True, True]\n",
    "]), size=1., upon_dir_conflict=[[\n",
    "    'ignore', \n",
    "    'long', \n",
    "    'short', \n",
    "    'opposite',\n",
    "    'opposite'\n",
    "]])"
   ]
  },
  {
   "cell_type": "code",
   "execution_count": 83,
   "metadata": {},
   "outputs": [
    {
     "name": "stdout",
     "output_type": "stream",
     "text": [
      "Both\n",
      "   id  col  idx  size  price  fees  side\n",
      "0   0    0    3   1.0    4.0   0.0     1\n",
      "1   0    1    0   1.0    1.0   0.0     0\n",
      "2   1    1    3   2.0    4.0   0.0     1\n",
      "3   0    2    0   1.0    1.0   0.0     0\n",
      "4   1    2    3   2.0    4.0   0.0     1\n",
      "LongOnly\n",
      "   id  col  idx  size  price  fees  side\n",
      "0   0    1    0   1.0    1.0   0.0     0\n",
      "1   1    1    3   1.0    4.0   0.0     1\n",
      "2   0    2    0   1.0    1.0   0.0     0\n",
      "3   1    2    3   1.0    4.0   0.0     1\n",
      "ShortOnly\n",
      "   id  col  idx  size  price  fees  side\n",
      "0   0    0    0  1.00    1.0   0.0     1\n",
      "1   1    0    3  0.25    4.0   0.0     0\n",
      "2   0    1    0  1.00    1.0   0.0     1\n",
      "3   1    1    3  0.50    4.0   0.0     0\n",
      "4   0    2    0  1.00    1.0   0.0     1\n",
      "5   1    2    3  1.00    4.0   0.0     0\n",
      "Both\n",
      "Attempt to go in long direction infinitely\n",
      "LongOnly\n",
      "Attempt to go in long direction infinitely\n",
      "ShortOnly\n",
      "Attempt to go in short direction infinitely\n"
     ]
    }
   ],
   "source": [
    "test_per_direction(price=price_wide, size=1., init_cash=[0., 1., 100.])\n",
    "test_per_direction(init_cash=np.inf)"
   ]
  },
  {
   "cell_type": "code",
   "execution_count": 84,
   "metadata": {},
   "outputs": [
    {
     "name": "stdout",
     "output_type": "stream",
     "text": [
      "   id  col  idx   size  price  fees  side\n",
      "0   0    0    0  100.0    1.0   0.0     0\n",
      "1   1    0    3  200.0    4.0   0.0     1\n",
      "2   0    1    0  100.0    1.0   0.0     0\n",
      "3   1    1    3  200.0    4.0   0.0     1\n",
      "4   0    2    0  100.0    1.0   0.0     0\n",
      "5   1    2    3  200.0    4.0   0.0     1\n"
     ]
    }
   ],
   "source": [
    "portfolio = vbt.Portfolio.from_signals(\n",
    "    price_wide, entries, exits, \n",
    "    group_by=np.array([0, 0, 1]), direction='both')\n",
    "\n",
    "print(portfolio.orders.records)"
   ]
  },
  {
   "cell_type": "code",
   "execution_count": 85,
   "metadata": {},
   "outputs": [
    {
     "name": "stdout",
     "output_type": "stream",
     "text": [
      "   id  col  idx   size  price  fees  side\n",
      "0   0    0    0  100.0    1.0   0.0     0\n",
      "1   1    0    3  200.0    4.0   0.0     1\n",
      "2   0    2    0  100.0    1.0   0.0     0\n",
      "3   1    2    3  200.0    4.0   0.0     1\n",
      "            a  b  c\n",
      "2020-01-01  0  1  0\n",
      "2020-01-02  0  1  0\n",
      "2020-01-03  0  1  0\n",
      "2020-01-04  0  1  0\n",
      "2020-01-05  0  1  0\n",
      "Cannot modify grouping globally when cash_sharing=True\n"
     ]
    }
   ],
   "source": [
    "portfolio = vbt.Portfolio.from_signals(\n",
    "    price_wide, entries, exits, \n",
    "    group_by=np.array([0, 0, 1]), cash_sharing=True, direction='both')\n",
    "\n",
    "print(portfolio.orders.records)\n",
    "print(portfolio.call_seq)\n",
    "try:\n",
    "    print(portfolio.regroup(group_by=False))\n",
    "except Exception as e:\n",
    "    print(e)"
   ]
  },
  {
   "cell_type": "code",
   "execution_count": 86,
   "metadata": {},
   "outputs": [
    {
     "name": "stdout",
     "output_type": "stream",
     "text": [
      "   id  col  idx   size  price  fees  side\n",
      "0   0    1    0  100.0    1.0   0.0     0\n",
      "1   1    1    3  200.0    4.0   0.0     1\n",
      "2   0    2    0  100.0    1.0   0.0     0\n",
      "3   1    2    3  200.0    4.0   0.0     1\n",
      "            a  b  c\n",
      "2020-01-01  1  0  0\n",
      "2020-01-02  1  0  0\n",
      "2020-01-03  1  0  0\n",
      "2020-01-04  1  0  0\n",
      "2020-01-05  1  0  0\n"
     ]
    }
   ],
   "source": [
    "portfolio = vbt.Portfolio.from_signals(\n",
    "    price_wide, entries, exits, \n",
    "    group_by=np.array([0, 0, 1]), cash_sharing=True, direction='both', call_seq='reversed')\n",
    "\n",
    "print(portfolio.orders.records)\n",
    "print(portfolio.call_seq)"
   ]
  },
  {
   "cell_type": "code",
   "execution_count": 87,
   "metadata": {},
   "outputs": [
    {
     "name": "stdout",
     "output_type": "stream",
     "text": [
      "   id  col  idx   size  price  fees  side\n",
      "0   0    1    0  100.0    1.0   0.0     0\n",
      "1   1    1    3  200.0    4.0   0.0     1\n",
      "2   0    2    0  100.0    1.0   0.0     0\n",
      "3   1    2    3  200.0    4.0   0.0     1\n",
      "            a  b  c\n",
      "2020-01-01  1  0  0\n",
      "2020-01-02  1  0  0\n",
      "2020-01-03  1  0  0\n",
      "2020-01-04  1  0  0\n",
      "2020-01-05  0  1  0\n",
      "   id  col  idx   size  price  fees  side\n",
      "0   0    1    0  100.0    1.0   0.0     0\n",
      "1   1    1    3  200.0    4.0   0.0     1\n",
      "2   0    2    0  100.0    1.0   0.0     0\n",
      "3   1    2    3  200.0    4.0   0.0     1\n",
      "            a  b  c\n",
      "2020-01-01  1  0  0\n",
      "2020-01-02  0  1  0\n",
      "2020-01-03  1  0  0\n",
      "2020-01-04  1  0  0\n",
      "2020-01-05  1  0  0\n"
     ]
    }
   ],
   "source": [
    "portfolio = vbt.Portfolio.from_signals(\n",
    "    price_wide, entries, exits, \n",
    "    group_by=np.array([0, 0, 1]), cash_sharing=True, direction='both', call_seq='random')\n",
    "\n",
    "print(portfolio.orders.records)\n",
    "print(portfolio.call_seq)\n",
    "\n",
    "portfolio = vbt.Portfolio.from_signals(\n",
    "    price_wide, entries, exits, \n",
    "    group_by=np.array([0, 0, 1]), cash_sharing=True, direction='both', call_seq='random', seed=42)\n",
    "\n",
    "print(portfolio.orders.records)\n",
    "print(portfolio.call_seq)"
   ]
  },
  {
   "cell_type": "code",
   "execution_count": 88,
   "metadata": {},
   "outputs": [
    {
     "name": "stdout",
     "output_type": "stream",
     "text": [
      "Both\n",
      "   id  col  idx   size  price  fees  side\n",
      "0   0    0    2  200.0    1.0   0.0     0\n",
      "1   1    0    3  200.0    1.0   0.0     1\n",
      "2   0    1    1  200.0    1.0   0.0     0\n",
      "3   1    1    2  200.0    1.0   0.0     1\n",
      "4   2    1    4  200.0    1.0   0.0     0\n",
      "5   0    2    0  100.0    1.0   0.0     0\n",
      "6   1    2    1  200.0    1.0   0.0     1\n",
      "7   2    2    3  200.0    1.0   0.0     0\n",
      "8   3    2    4  200.0    1.0   0.0     1\n",
      "   0  1  2\n",
      "0  0  1  2\n",
      "1  2  0  1\n",
      "2  1  2  0\n",
      "3  0  1  2\n",
      "4  2  0  1\n",
      "       0      1      2\n",
      "0    0.0    0.0  100.0\n",
      "1    0.0  200.0 -100.0\n",
      "2  200.0    0.0 -100.0\n",
      "3    0.0    0.0  100.0\n",
      "4    0.0  200.0 -100.0\n",
      "0    100.0\n",
      "1    100.0\n",
      "2    100.0\n",
      "3    100.0\n",
      "4    100.0\n",
      "dtype: float64\n",
      "LongOnly\n",
      "   id  col  idx   size  price  fees  side\n",
      "0   0    0    2  100.0    1.0   0.0     0\n",
      "1   1    0    3  100.0    1.0   0.0     1\n",
      "2   0    1    1  100.0    1.0   0.0     0\n",
      "3   1    1    2  100.0    1.0   0.0     1\n",
      "4   2    1    4  100.0    1.0   0.0     0\n",
      "5   0    2    0  100.0    1.0   0.0     0\n",
      "6   1    2    1  100.0    1.0   0.0     1\n",
      "7   2    2    3  100.0    1.0   0.0     0\n",
      "8   3    2    4  100.0    1.0   0.0     1\n",
      "   0  1  2\n",
      "0  0  1  2\n",
      "1  2  0  1\n",
      "2  1  2  0\n",
      "3  0  1  2\n",
      "4  2  0  1\n",
      "       0      1      2\n",
      "0    0.0    0.0  100.0\n",
      "1    0.0  100.0    0.0\n",
      "2  100.0    0.0    0.0\n",
      "3    0.0    0.0  100.0\n",
      "4    0.0  100.0    0.0\n",
      "0    100.0\n",
      "1    100.0\n",
      "2    100.0\n",
      "3    100.0\n",
      "4    100.0\n",
      "dtype: float64\n",
      "ShortOnly\n",
      "   id  col  idx   size  price  fees  side\n",
      "0   0    0    2  100.0    1.0   0.0     1\n",
      "1   1    0    3  100.0    1.0   0.0     0\n",
      "2   0    1    4  100.0    1.0   0.0     1\n",
      "3   0    2    0  100.0    1.0   0.0     1\n",
      "4   1    2    1  100.0    1.0   0.0     0\n",
      "   0  1  2\n",
      "0  2  0  1\n",
      "1  1  0  2\n",
      "2  0  1  2\n",
      "3  2  1  0\n",
      "4  1  0  2\n",
      "       0      1      2\n",
      "0    0.0    0.0 -100.0\n",
      "1    0.0    0.0    0.0\n",
      "2 -100.0    0.0    0.0\n",
      "3    0.0    0.0    0.0\n",
      "4    0.0 -100.0    0.0\n",
      "0    100.0\n",
      "1    100.0\n",
      "2    100.0\n",
      "3    100.0\n",
      "4    100.0\n",
      "dtype: float64\n"
     ]
    }
   ],
   "source": [
    "for direction in ('Both', 'LongOnly', 'ShortOnly'):\n",
    "    print(direction)\n",
    "    portfolio = vbt.Portfolio.from_signals(1., pd.DataFrame([\n",
    "        [False, False, True],\n",
    "        [False, True, False],\n",
    "        [True, False, False],\n",
    "        [False, False, True],\n",
    "        [False, True, False],\n",
    "    ]), pd.DataFrame([\n",
    "        [False, False, False],\n",
    "        [False, False, True],\n",
    "        [False, True, False],\n",
    "        [True, False, False],\n",
    "        [False, False, True],\n",
    "    ]), group_by=np.array([0, 0, 0]), \n",
    "        cash_sharing=True, call_seq='auto', direction=direction)\n",
    "\n",
    "    print(portfolio.orders.records)\n",
    "    print(portfolio.call_seq)\n",
    "    print(portfolio.get_assets())\n",
    "    print(portfolio.get_value())\n",
    "    # notice how shorting with np.inf only accounts for current cash, not for other assets!"
   ]
  },
  {
   "cell_type": "markdown",
   "metadata": {},
   "source": [
    "## from_order_func"
   ]
  },
  {
   "cell_type": "code",
   "execution_count": 2,
   "metadata": {},
   "outputs": [],
   "source": [
    "from vectorbt.portfolio.nb import order_nb, order_nothing_nb\n",
    "\n",
    "@njit\n",
    "def order_func_nb(c, size):\n",
    "    return order_nb(size if c.i % 2 == 0 else -size)\n",
    "\n",
    "@njit\n",
    "def flex_order_func_nb(c, size):\n",
    "    if c.call_idx < c.group_len:\n",
    "        return c.from_col + c.call_idx, order_nb(size if c.i % 2 == 0 else -size)\n",
    "    return -1, order_nothing_nb()"
   ]
  },
  {
   "cell_type": "code",
   "execution_count": 90,
   "metadata": {},
   "outputs": [
    {
     "name": "stdout",
     "output_type": "stream",
     "text": [
      "2.18 ms ± 167 µs per loop (mean ± std. dev. of 7 runs, 1 loop each)\n",
      "2.16 ms ± 170 µs per loop (mean ± std. dev. of 7 runs, 1 loop each)\n",
      "2.09 ms ± 163 µs per loop (mean ± std. dev. of 7 runs, 1 loop each)\n",
      "2.14 ms ± 159 µs per loop (mean ± std. dev. of 7 runs, 1 loop each)\n"
     ]
    }
   ],
   "source": [
    "%timeit vbt.Portfolio.from_order_func(\\\n",
    "    big_price, order_func_nb, 1., init_cash=np.inf)\n",
    "%timeit vbt.Portfolio.from_order_func(\\\n",
    "    big_price, order_func_nb, 1., init_cash=np.inf, row_wise=True)\n",
    "%timeit vbt.Portfolio.from_order_func(\\\n",
    "    big_price, flex_order_func_nb, 1., init_cash=np.inf, flexible=True)\n",
    "%timeit vbt.Portfolio.from_order_func(\\\n",
    "    big_price, flex_order_func_nb, 1., init_cash=np.inf, row_wise=True, flexible=True)"
   ]
  },
  {
   "cell_type": "code",
   "execution_count": 91,
   "metadata": {},
   "outputs": [
    {
     "name": "stdout",
     "output_type": "stream",
     "text": [
      "155 ms ± 12.8 ms per loop (mean ± std. dev. of 7 runs, 1 loop each)\n",
      "150 ms ± 1.91 ms per loop (mean ± std. dev. of 7 runs, 1 loop each)\n",
      "139 ms ± 308 µs per loop (mean ± std. dev. of 7 runs, 1 loop each)\n",
      "136 ms ± 171 µs per loop (mean ± std. dev. of 7 runs, 1 loop each)\n"
     ]
    }
   ],
   "source": [
    "%timeit vbt.Portfolio.from_order_func(\\\n",
    "    big_price_wide, order_func_nb, 1., init_cash=np.inf)\n",
    "%timeit vbt.Portfolio.from_order_func(\\\n",
    "    big_price_wide, order_func_nb, 1., init_cash=np.inf, row_wise=True)\n",
    "%timeit vbt.Portfolio.from_order_func(\\\n",
    "    big_price_wide, flex_order_func_nb, 1., init_cash=np.inf, flexible=True)\n",
    "%timeit vbt.Portfolio.from_order_func(\\\n",
    "    big_price_wide, flex_order_func_nb, 1., init_cash=np.inf, row_wise=True, flexible=True)"
   ]
  },
  {
   "cell_type": "code",
   "execution_count": 92,
   "metadata": {},
   "outputs": [
    {
     "name": "stdout",
     "output_type": "stream",
     "text": [
      "119 ms ± 1.7 ms per loop (mean ± std. dev. of 7 runs, 10 loops each)\n",
      "120 ms ± 516 µs per loop (mean ± std. dev. of 7 runs, 10 loops each)\n",
      "111 ms ± 414 µs per loop (mean ± std. dev. of 7 runs, 10 loops each)\n",
      "108 ms ± 170 µs per loop (mean ± std. dev. of 7 runs, 10 loops each)\n"
     ]
    }
   ],
   "source": [
    "%timeit vbt.Portfolio.from_order_func(\\\n",
    "    big_price_wide, order_func_nb, 1., init_cash=np.inf, fill_pos_record=False)\n",
    "%timeit vbt.Portfolio.from_order_func(\\\n",
    "    big_price_wide, order_func_nb, 1., init_cash=np.inf, row_wise=True, fill_pos_record=False)\n",
    "%timeit vbt.Portfolio.from_order_func(\\\n",
    "    big_price_wide, flex_order_func_nb, 1., init_cash=np.inf, flexible=True, fill_pos_record=False)\n",
    "%timeit vbt.Portfolio.from_order_func(\\\n",
    "    big_price_wide, flex_order_func_nb, 1., init_cash=np.inf, row_wise=True, flexible=True, fill_pos_record=False)"
   ]
  },
  {
   "cell_type": "code",
   "execution_count": 93,
   "metadata": {},
   "outputs": [
    {
     "name": "stdout",
     "output_type": "stream",
     "text": [
      "107 ms ± 779 µs per loop (mean ± std. dev. of 7 runs, 10 loops each)\n",
      "115 ms ± 384 µs per loop (mean ± std. dev. of 7 runs, 10 loops each)\n",
      "100 ms ± 829 µs per loop (mean ± std. dev. of 7 runs, 10 loops each)\n",
      "98 ms ± 183 µs per loop (mean ± std. dev. of 7 runs, 10 loops each)\n"
     ]
    }
   ],
   "source": [
    "%timeit vbt.Portfolio.from_order_func(\\\n",
    "    big_price_wide, order_func_nb, 1., init_cash=np.inf, track_value=False)\n",
    "%timeit vbt.Portfolio.from_order_func(\\\n",
    "    big_price_wide, order_func_nb, 1., init_cash=np.inf, row_wise=True, track_value=False)\n",
    "%timeit vbt.Portfolio.from_order_func(\\\n",
    "    big_price_wide, flex_order_func_nb, 1., init_cash=np.inf, flexible=True, track_value=False)\n",
    "%timeit vbt.Portfolio.from_order_func(\\\n",
    "    big_price_wide, flex_order_func_nb, 1., init_cash=np.inf, row_wise=True, flexible=True, track_value=False)"
   ]
  },
  {
   "cell_type": "code",
   "execution_count": 94,
   "metadata": {},
   "outputs": [
    {
     "name": "stdout",
     "output_type": "stream",
     "text": [
      "153 ms ± 7.34 ms per loop (mean ± std. dev. of 7 runs, 1 loop each)\n",
      "140 ms ± 326 µs per loop (mean ± std. dev. of 7 runs, 1 loop each)\n"
     ]
    }
   ],
   "source": [
    "%timeit vbt.Portfolio.from_order_func(\\\n",
    "    big_price_wide, order_func_nb, 1., init_cash=np.inf, jitted=dict(parallel=True))\n",
    "%timeit vbt.Portfolio.from_order_func(\\\n",
    "    big_price_wide, flex_order_func_nb, 1., init_cash=np.inf, flexible=True, jitted=dict(parallel=True))"
   ]
  },
  {
   "cell_type": "code",
   "execution_count": 95,
   "metadata": {},
   "outputs": [
    {
     "name": "stderr",
     "output_type": "stream",
     "text": [
      "/Users/olegpolakow/Documents/SourceTree/vectorbt/vectorbt/utils/chunking.py:433: UserWarning: Argument at index 0 not found in SequenceTaker.cont_take_spec. Setting to None.\n",
      "  return self.take(obj, chunk_meta, **kwargs)\n",
      "/Users/olegpolakow/Documents/SourceTree/vectorbt/vectorbt/utils/chunking.py:433: UserWarning: Argument at index 0 not found in SequenceTaker.cont_take_spec. Setting to None.\n",
      "  return self.take(obj, chunk_meta, **kwargs)\n"
     ]
    },
    {
     "name": "stdout",
     "output_type": "stream",
     "text": [
      "163 ms ± 2.4 ms per loop (mean ± std. dev. of 7 runs, 1 loop each)\n"
     ]
    },
    {
     "name": "stderr",
     "output_type": "stream",
     "text": [
      "/Users/olegpolakow/Documents/SourceTree/vectorbt/vectorbt/utils/chunking.py:433: UserWarning: Argument at index 0 not found in SequenceTaker.cont_take_spec. Setting to None.\n",
      "  return self.take(obj, chunk_meta, **kwargs)\n"
     ]
    },
    {
     "name": "stdout",
     "output_type": "stream",
     "text": [
      "167 ms ± 4.94 ms per loop (mean ± std. dev. of 7 runs, 1 loop each)\n"
     ]
    },
    {
     "name": "stderr",
     "output_type": "stream",
     "text": [
      "/Users/olegpolakow/Documents/SourceTree/vectorbt/vectorbt/utils/chunking.py:433: UserWarning: Argument at index 0 not found in SequenceTaker.cont_take_spec. Setting to None.\n",
      "  return self.take(obj, chunk_meta, **kwargs)\n"
     ]
    },
    {
     "name": "stdout",
     "output_type": "stream",
     "text": [
      "156 ms ± 2.31 ms per loop (mean ± std. dev. of 7 runs, 1 loop each)\n"
     ]
    },
    {
     "name": "stderr",
     "output_type": "stream",
     "text": [
      "/Users/olegpolakow/Documents/SourceTree/vectorbt/vectorbt/utils/chunking.py:433: UserWarning: Argument at index 0 not found in SequenceTaker.cont_take_spec. Setting to None.\n",
      "  return self.take(obj, chunk_meta, **kwargs)\n"
     ]
    },
    {
     "name": "stdout",
     "output_type": "stream",
     "text": [
      "154 ms ± 1.07 ms per loop (mean ± std. dev. of 7 runs, 1 loop each)\n"
     ]
    }
   ],
   "source": [
    "%timeit vbt.Portfolio.from_order_func(\\\n",
    "    big_price_wide, order_func_nb, 1., init_cash=np.inf, chunked=True)\n",
    "%timeit vbt.Portfolio.from_order_func(\\\n",
    "    big_price_wide, order_func_nb, 1., init_cash=np.inf, row_wise=True, chunked=True)\n",
    "%timeit vbt.Portfolio.from_order_func(\\\n",
    "    big_price_wide, flex_order_func_nb, 1., init_cash=np.inf, flexible=True, chunked=True)\n",
    "%timeit vbt.Portfolio.from_order_func(\\\n",
    "    big_price_wide, flex_order_func_nb, 1., init_cash=np.inf, row_wise=True, flexible=True, chunked=True)"
   ]
  },
  {
   "cell_type": "code",
   "execution_count": 96,
   "metadata": {},
   "outputs": [
    {
     "name": "stdout",
     "output_type": "stream",
     "text": [
      "55.8 ms ± 652 µs per loop (mean ± std. dev. of 7 runs, 10 loops each)\n",
      "55 ms ± 3.5 ms per loop (mean ± std. dev. of 7 runs, 10 loops each)\n",
      "52.8 ms ± 743 µs per loop (mean ± std. dev. of 7 runs, 10 loops each)\n",
      "49.8 ms ± 429 µs per loop (mean ± std. dev. of 7 runs, 10 loops each)\n"
     ]
    }
   ],
   "source": [
    "%timeit vbt.Portfolio.from_order_func(\\\n",
    "    big_price_wide, order_func_nb, 1., init_cash=np.inf, chunked='dask')\n",
    "%timeit vbt.Portfolio.from_order_func(\\\n",
    "    big_price_wide, order_func_nb, 1., init_cash=np.inf, row_wise=True, chunked='dask')\n",
    "%timeit vbt.Portfolio.from_order_func(\\\n",
    "    big_price_wide, flex_order_func_nb, 1., init_cash=np.inf, flexible=True, chunked='dask')\n",
    "%timeit vbt.Portfolio.from_order_func(\\\n",
    "    big_price_wide, flex_order_func_nb, 1., init_cash=np.inf, row_wise=True, flexible=True, chunked='dask')"
   ]
  },
  {
   "cell_type": "code",
   "execution_count": 97,
   "metadata": {},
   "outputs": [
    {
     "name": "stdout",
     "output_type": "stream",
     "text": [
      "118 ms ± 359 µs per loop (mean ± std. dev. of 7 runs, 10 loops each)\n",
      "120 ms ± 160 µs per loop (mean ± std. dev. of 7 runs, 10 loops each)\n",
      "111 ms ± 101 µs per loop (mean ± std. dev. of 7 runs, 10 loops each)\n",
      "108 ms ± 68.9 µs per loop (mean ± std. dev. of 7 runs, 10 loops each)\n"
     ]
    }
   ],
   "source": [
    "%timeit vbt.Portfolio.from_order_func(\\\n",
    "    big_price_wide, order_func_nb, 1., init_cash=np.inf, fill_pos_record=False)\n",
    "%timeit vbt.Portfolio.from_order_func(\\\n",
    "    big_price_wide, order_func_nb, 1., init_cash=np.inf, row_wise=True, fill_pos_record=False)\n",
    "%timeit vbt.Portfolio.from_order_func(\\\n",
    "    big_price_wide, flex_order_func_nb, 1., init_cash=np.inf, fill_pos_record=False, flexible=True)\n",
    "%timeit vbt.Portfolio.from_order_func(\\\n",
    "    big_price_wide, flex_order_func_nb, 1., init_cash=np.inf, row_wise=True, fill_pos_record=False, flexible=True)"
   ]
  },
  {
   "cell_type": "code",
   "execution_count": 98,
   "metadata": {},
   "outputs": [
    {
     "name": "stdout",
     "output_type": "stream",
     "text": [
      "141 ms ± 111 µs per loop (mean ± std. dev. of 7 runs, 10 loops each)\n",
      "142 ms ± 763 µs per loop (mean ± std. dev. of 7 runs, 10 loops each)\n",
      "137 ms ± 201 µs per loop (mean ± std. dev. of 7 runs, 10 loops each)\n",
      "134 ms ± 531 µs per loop (mean ± std. dev. of 7 runs, 10 loops each)\n"
     ]
    }
   ],
   "source": [
    "%timeit vbt.Portfolio.from_order_func(\\\n",
    "    big_price_wide, order_func_nb, 1., \\\n",
    "    group_by=np.repeat(np.arange(500), 2), init_cash=np.inf)\n",
    "%timeit vbt.Portfolio.from_order_func(\\\n",
    "    big_price_wide, order_func_nb, 1., \\\n",
    "    group_by=np.repeat(np.arange(500), 2), init_cash=np.inf, row_wise=True)\n",
    "%timeit vbt.Portfolio.from_order_func(\\\n",
    "    big_price_wide, flex_order_func_nb, 1., \\\n",
    "    group_by=np.repeat(np.arange(500), 2), init_cash=np.inf, flexible=True)\n",
    "%timeit vbt.Portfolio.from_order_func(\\\n",
    "    big_price_wide, flex_order_func_nb, 1., \\\n",
    "    group_by=np.repeat(np.arange(500), 2), init_cash=np.inf, row_wise=True, flexible=True)"
   ]
  },
  {
   "cell_type": "code",
   "execution_count": 99,
   "metadata": {},
   "outputs": [
    {
     "name": "stdout",
     "output_type": "stream",
     "text": [
      "137 ms ± 2.75 ms per loop (mean ± std. dev. of 7 runs, 10 loops each)\n",
      "136 ms ± 374 µs per loop (mean ± std. dev. of 7 runs, 10 loops each)\n",
      "133 ms ± 2.94 ms per loop (mean ± std. dev. of 7 runs, 10 loops each)\n",
      "129 ms ± 215 µs per loop (mean ± std. dev. of 7 runs, 10 loops each)\n"
     ]
    }
   ],
   "source": [
    "%timeit vbt.Portfolio.from_order_func(\\\n",
    "    big_price_wide, order_func_nb, 1., \\\n",
    "    group_by=np.repeat(np.arange(500), 2), cash_sharing=True, init_cash=np.inf)\n",
    "%timeit vbt.Portfolio.from_order_func(\\\n",
    "    big_price_wide, order_func_nb, 1., \\\n",
    "    group_by=np.repeat(np.arange(500), 2), cash_sharing=True, init_cash=np.inf, row_wise=True)\n",
    "%timeit vbt.Portfolio.from_order_func(\\\n",
    "    big_price_wide, flex_order_func_nb, 1., \\\n",
    "    group_by=np.repeat(np.arange(500), 2), cash_sharing=True, init_cash=np.inf, flexible=True)\n",
    "%timeit vbt.Portfolio.from_order_func(\\\n",
    "    big_price_wide, flex_order_func_nb, 1., \\\n",
    "    group_by=np.repeat(np.arange(500), 2), cash_sharing=True, init_cash=np.inf, row_wise=True, flexible=True)"
   ]
  },
  {
   "cell_type": "code",
   "execution_count": 100,
   "metadata": {},
   "outputs": [
    {
     "name": "stdout",
     "output_type": "stream",
     "text": [
      "135 ms ± 2.13 ms per loop (mean ± std. dev. of 7 runs, 10 loops each)\n",
      "133 ms ± 142 µs per loop (mean ± std. dev. of 7 runs, 10 loops each)\n",
      "128 ms ± 70.1 µs per loop (mean ± std. dev. of 7 runs, 10 loops each)\n",
      "129 ms ± 96.6 µs per loop (mean ± std. dev. of 7 runs, 10 loops each)\n"
     ]
    }
   ],
   "source": [
    "%timeit vbt.Portfolio.from_order_func(\\\n",
    "    big_price_wide, order_func_nb, 1., init_cash=np.inf, \\\n",
    "    group_by=np.full(1000, 0))\n",
    "%timeit vbt.Portfolio.from_order_func(\\\n",
    "    big_price_wide, order_func_nb, 1., init_cash=np.inf, \\\n",
    "    group_by=np.full(1000, 0), row_wise=True)\n",
    "%timeit vbt.Portfolio.from_order_func(\\\n",
    "    big_price_wide, flex_order_func_nb, 1., init_cash=np.inf, \\\n",
    "    group_by=np.full(1000, 0), flexible=True)\n",
    "%timeit vbt.Portfolio.from_order_func(\\\n",
    "    big_price_wide, flex_order_func_nb, 1., init_cash=np.inf, \\\n",
    "    group_by=np.full(1000, 0), row_wise=True, flexible=True)"
   ]
  },
  {
   "cell_type": "code",
   "execution_count": 101,
   "metadata": {},
   "outputs": [
    {
     "name": "stdout",
     "output_type": "stream",
     "text": [
      "125 ms ± 1.62 ms per loop (mean ± std. dev. of 7 runs, 1 loop each)\n",
      "125 ms ± 3.77 ms per loop (mean ± std. dev. of 7 runs, 1 loop each)\n",
      "118 ms ± 293 µs per loop (mean ± std. dev. of 7 runs, 1 loop each)\n",
      "119 ms ± 324 µs per loop (mean ± std. dev. of 7 runs, 1 loop each)\n"
     ]
    }
   ],
   "source": [
    "%timeit vbt.Portfolio.from_order_func(\\\n",
    "    big_price_wide, order_func_nb, 1., init_cash=np.inf, \\\n",
    "    group_by=np.full(1000, 0), cash_sharing=True)\n",
    "%timeit vbt.Portfolio.from_order_func(\\\n",
    "    big_price_wide, order_func_nb, 1., init_cash=np.inf, \\\n",
    "    group_by=np.full(1000, 0), cash_sharing=True, row_wise=True)\n",
    "%timeit vbt.Portfolio.from_order_func(\\\n",
    "    big_price_wide, flex_order_func_nb, 1., init_cash=np.inf, \\\n",
    "    group_by=np.full(1000, 0), cash_sharing=True, flexible=True)\n",
    "%timeit vbt.Portfolio.from_order_func(\\\n",
    "    big_price_wide, flex_order_func_nb, 1., init_cash=np.inf, \\\n",
    "    group_by=np.full(1000, 0), cash_sharing=True, row_wise=True, flexible=True)"
   ]
  },
  {
   "cell_type": "code",
   "execution_count": 102,
   "metadata": {},
   "outputs": [],
   "source": [
    "def test_call_seq(call_seq, **kwargs):\n",
    "    return vbt.Portfolio.from_order_func(\n",
    "        price_wide, \n",
    "        order_func_nb, \n",
    "        1.,\n",
    "        group_by=np.array([0, 0, 0]),\n",
    "        call_seq=call_seq, **kwargs\n",
    "    ).call_seq\n",
    "\n",
    "def big_test_call_seq(call_seq, **kwargs):\n",
    "    return vbt.Portfolio.from_order_func(\n",
    "        big_price_wide, \n",
    "        order_func_nb, \n",
    "        1.,\n",
    "        group_by=np.repeat(np.arange(500), 2),\n",
    "        call_seq=call_seq, **kwargs\n",
    "    ).call_seq"
   ]
  },
  {
   "cell_type": "code",
   "execution_count": 103,
   "metadata": {},
   "outputs": [
    {
     "name": "stdout",
     "output_type": "stream",
     "text": [
      "            a  b  c\n",
      "2020-01-01  0  1  2\n",
      "2020-01-02  0  1  2\n",
      "2020-01-03  0  1  2\n",
      "2020-01-04  0  1  2\n",
      "2020-01-05  0  1  2\n",
      "148 ms ± 1.24 ms per loop (mean ± std. dev. of 7 runs, 10 loops each)\n",
      "            a  b  c\n",
      "2020-01-01  2  1  0\n",
      "2020-01-02  2  1  0\n",
      "2020-01-03  2  1  0\n",
      "2020-01-04  2  1  0\n",
      "2020-01-05  2  1  0\n",
      "155 ms ± 3.04 ms per loop (mean ± std. dev. of 7 runs, 10 loops each)\n",
      "            a  b  c\n",
      "2020-01-01  1  2  0\n",
      "2020-01-02  0  1  2\n",
      "2020-01-03  1  0  2\n",
      "2020-01-04  1  0  2\n",
      "2020-01-05  2  1  0\n",
      "157 ms ± 118 µs per loop (mean ± std. dev. of 7 runs, 10 loops each)\n"
     ]
    }
   ],
   "source": [
    "print(test_call_seq(CallSeqType.Default))\n",
    "%timeit big_test_call_seq(CallSeqType.Default)\n",
    "\n",
    "print(test_call_seq(CallSeqType.Reversed))\n",
    "%timeit big_test_call_seq(CallSeqType.Reversed)\n",
    "\n",
    "print(test_call_seq(CallSeqType.Random))\n",
    "%timeit big_test_call_seq(CallSeqType.Random)"
   ]
  },
  {
   "cell_type": "code",
   "execution_count": 104,
   "metadata": {},
   "outputs": [],
   "source": [
    "@njit\n",
    "def pre_segment_func1_nb(c, *args):\n",
    "    c.call_seq_now[:] = np.arange(c.to_col - c.from_col - 1, -1, -1)\n",
    "    return ()\n",
    "\n",
    "@njit\n",
    "def pre_segment_func2_nb(c, *args):\n",
    "    c.call_seq_now[:] = np.copy(c.call_seq_now[::-1])\n",
    "    return ()\n",
    "\n",
    "@njit\n",
    "def pre_segment_func3_nb(c, *args):\n",
    "    call_seq_now = c.call_seq_now\n",
    "    n_cols = c.to_col - c.from_col\n",
    "    for k in range(n_cols):\n",
    "        call_seq_now[k] = n_cols - k - 1\n",
    "    return ()\n",
    "\n",
    "@njit\n",
    "def pre_segment_func4_nb(c, *args):\n",
    "    np.random.shuffle(c.call_seq_now)\n",
    "    return ()"
   ]
  },
  {
   "cell_type": "code",
   "execution_count": 105,
   "metadata": {},
   "outputs": [
    {
     "name": "stdout",
     "output_type": "stream",
     "text": [
      "            a  b  c\n",
      "2020-01-01  2  1  0\n",
      "2020-01-02  2  1  0\n",
      "2020-01-03  2  1  0\n",
      "2020-01-04  2  1  0\n",
      "2020-01-05  2  1  0\n",
      "290 ms ± 9.05 ms per loop (mean ± std. dev. of 7 runs, 1 loop each)\n",
      "276 ms ± 1.78 ms per loop (mean ± std. dev. of 7 runs, 1 loop each)\n",
      "            a  b  c\n",
      "2020-01-01  2  1  0\n",
      "2020-01-02  2  1  0\n",
      "2020-01-03  2  1  0\n",
      "2020-01-04  2  1  0\n",
      "2020-01-05  2  1  0\n",
      "286 ms ± 951 µs per loop (mean ± std. dev. of 7 runs, 1 loop each)\n",
      "277 ms ± 3.08 ms per loop (mean ± std. dev. of 7 runs, 1 loop each)\n",
      "            a  b  c\n",
      "2020-01-01  2  1  0\n",
      "2020-01-02  2  1  0\n",
      "2020-01-03  2  1  0\n",
      "2020-01-04  2  1  0\n",
      "2020-01-05  2  1  0\n",
      "159 ms ± 4.92 ms per loop (mean ± std. dev. of 7 runs, 10 loops each)\n",
      "149 ms ± 2.91 ms per loop (mean ± std. dev. of 7 runs, 1 loop each)\n",
      "            a  b  c\n",
      "2020-01-01  1  0  2\n",
      "2020-01-02  1  2  0\n",
      "2020-01-03  0  2  1\n",
      "2020-01-04  2  1  0\n",
      "2020-01-05  0  1  2\n",
      "217 ms ± 2.99 ms per loop (mean ± std. dev. of 7 runs, 1 loop each)\n",
      "219 ms ± 5.81 ms per loop (mean ± std. dev. of 7 runs, 1 loop each)\n"
     ]
    }
   ],
   "source": [
    "print(test_call_seq(CallSeqType.Default, pre_segment_func_nb=pre_segment_func1_nb))\n",
    "%timeit big_test_call_seq(CallSeqType.Default, pre_segment_func_nb=pre_segment_func1_nb)\n",
    "%timeit big_test_call_seq(CallSeqType.Default, pre_segment_func_nb=pre_segment_func1_nb, row_wise=True)\n",
    "\n",
    "print(test_call_seq(CallSeqType.Default, pre_segment_func_nb=pre_segment_func2_nb))\n",
    "%timeit big_test_call_seq(CallSeqType.Default, pre_segment_func_nb=pre_segment_func2_nb)\n",
    "%timeit big_test_call_seq(CallSeqType.Default, pre_segment_func_nb=pre_segment_func2_nb, row_wise=True)\n",
    "\n",
    "print(test_call_seq(CallSeqType.Default, pre_segment_func_nb=pre_segment_func3_nb))\n",
    "%timeit big_test_call_seq(CallSeqType.Default, pre_segment_func_nb=pre_segment_func3_nb)\n",
    "%timeit big_test_call_seq(CallSeqType.Default, pre_segment_func_nb=pre_segment_func3_nb, row_wise=True)\n",
    "\n",
    "print(test_call_seq(CallSeqType.Default, pre_segment_func_nb=pre_segment_func4_nb))\n",
    "%timeit big_test_call_seq(CallSeqType.Default, pre_segment_func_nb=pre_segment_func4_nb)  # in-place fastest\n",
    "%timeit big_test_call_seq(CallSeqType.Default, pre_segment_func_nb=pre_segment_func4_nb, row_wise=True)"
   ]
  },
  {
   "cell_type": "code",
   "execution_count": 4,
   "metadata": {},
   "outputs": [
    {
     "name": "stdout",
     "output_type": "stream",
     "text": [
      "   id  col  idx        size  price  fees  side\n",
      "0   0    0    0  100.000000    1.0   0.0     0\n",
      "1   1    0    1  200.000000    2.0   0.0     1\n",
      "2   2    0    2  133.333333    3.0   0.0     0\n",
      "3   3    0    3   66.666667    4.0   0.0     1\n",
      "4   4    0    4   53.333333    5.0   0.0     0\n",
      "   id  col  idx        size  price  fees  side\n",
      "0   0    0    0  100.000000    1.0   0.0     0\n",
      "1   1    0    1  200.000000    2.0   0.0     1\n",
      "2   2    0    2  133.333333    3.0   0.0     0\n",
      "3   3    0    3   66.666667    4.0   0.0     1\n",
      "4   4    0    4   53.333333    5.0   0.0     0\n"
     ]
    }
   ],
   "source": [
    "portfolio = vbt.Portfolio.from_order_func(price, order_func_nb, np.inf)\n",
    "print(portfolio.orders.records)\n",
    "\n",
    "portfolio = vbt.Portfolio.from_order_func(price, order_func_nb, np.inf, row_wise=True)\n",
    "print(portfolio.orders.records)"
   ]
  },
  {
   "cell_type": "code",
   "execution_count": 5,
   "metadata": {},
   "outputs": [
    {
     "name": "stdout",
     "output_type": "stream",
     "text": [
      "    id  col  idx        size  price  fees  side\n",
      "0    0    0    0  100.000000    1.0   0.0     0\n",
      "1    1    0    1  200.000000    2.0   0.0     1\n",
      "2    2    0    2  133.333333    3.0   0.0     0\n",
      "3    3    0    3   66.666667    4.0   0.0     1\n",
      "4    4    0    4   53.333333    5.0   0.0     0\n",
      "5    0    1    0  100.000000    1.0   0.0     0\n",
      "6    1    1    1  200.000000    2.0   0.0     1\n",
      "7    2    1    2  133.333333    3.0   0.0     0\n",
      "8    3    1    3   66.666667    4.0   0.0     1\n",
      "9    4    1    4   53.333333    5.0   0.0     0\n",
      "10   0    2    0  100.000000    1.0   0.0     0\n",
      "11   1    2    1  200.000000    2.0   0.0     1\n",
      "12   2    2    2  133.333333    3.0   0.0     0\n",
      "13   3    2    3   66.666667    4.0   0.0     1\n",
      "14   4    2    4   53.333333    5.0   0.0     0\n",
      "    id  col  idx        size  price  fees  side\n",
      "0    0    0    0  100.000000    1.0   0.0     0\n",
      "1    1    0    1  200.000000    2.0   0.0     1\n",
      "2    2    0    2  133.333333    3.0   0.0     0\n",
      "3    3    0    3   66.666667    4.0   0.0     1\n",
      "4    4    0    4   53.333333    5.0   0.0     0\n",
      "5    0    1    0  100.000000    1.0   0.0     0\n",
      "6    1    1    1  200.000000    2.0   0.0     1\n",
      "7    2    1    2  133.333333    3.0   0.0     0\n",
      "8    3    1    3   66.666667    4.0   0.0     1\n",
      "9    4    1    4   53.333333    5.0   0.0     0\n",
      "10   0    2    0  100.000000    1.0   0.0     0\n",
      "11   1    2    1  200.000000    2.0   0.0     1\n",
      "12   2    2    2  133.333333    3.0   0.0     0\n",
      "13   3    2    3   66.666667    4.0   0.0     1\n",
      "14   4    2    4   53.333333    5.0   0.0     0\n"
     ]
    }
   ],
   "source": [
    "portfolio = vbt.Portfolio.from_order_func(price_wide, order_func_nb, np.inf)\n",
    "print(portfolio.orders.records)\n",
    "\n",
    "portfolio = vbt.Portfolio.from_order_func(price_wide, order_func_nb, np.inf, row_wise=True)\n",
    "print(portfolio.orders.records)"
   ]
  },
  {
   "cell_type": "code",
   "execution_count": 6,
   "metadata": {},
   "outputs": [
    {
     "name": "stdout",
     "output_type": "stream",
     "text": [
      "    id  col  idx        size  price  fees  side\n",
      "0    0    0    0  100.000000    1.0   0.0     0\n",
      "1    1    0    1  200.000000    2.0   0.0     1\n",
      "2    2    0    2  133.333333    3.0   0.0     0\n",
      "3    3    0    3   66.666667    4.0   0.0     1\n",
      "4    4    0    4   53.333333    5.0   0.0     0\n",
      "5    0    1    0  100.000000    1.0   0.0     0\n",
      "6    1    1    1  200.000000    2.0   0.0     1\n",
      "7    2    1    2  133.333333    3.0   0.0     0\n",
      "8    3    1    3   66.666667    4.0   0.0     1\n",
      "9    4    1    4   53.333333    5.0   0.0     0\n",
      "10   0    2    0  100.000000    1.0   0.0     0\n",
      "11   1    2    1  200.000000    2.0   0.0     1\n",
      "12   2    2    2  133.333333    3.0   0.0     0\n",
      "13   3    2    3   66.666667    4.0   0.0     1\n",
      "14   4    2    4   53.333333    5.0   0.0     0\n",
      "    id  col  idx        size  price  fees  side\n",
      "0    0    0    0  100.000000    1.0   0.0     0\n",
      "1    1    0    1  200.000000    2.0   0.0     1\n",
      "2    2    0    2  133.333333    3.0   0.0     0\n",
      "3    3    0    3   66.666667    4.0   0.0     1\n",
      "4    4    0    4   53.333333    5.0   0.0     0\n",
      "5    0    1    0  100.000000    1.0   0.0     0\n",
      "6    1    1    1  200.000000    2.0   0.0     1\n",
      "7    2    1    2  133.333333    3.0   0.0     0\n",
      "8    3    1    3   66.666667    4.0   0.0     1\n",
      "9    4    1    4   53.333333    5.0   0.0     0\n",
      "10   0    2    0  100.000000    1.0   0.0     0\n",
      "11   1    2    1  200.000000    2.0   0.0     1\n",
      "12   2    2    2  133.333333    3.0   0.0     0\n",
      "13   3    2    3   66.666667    4.0   0.0     1\n",
      "14   4    2    4   53.333333    5.0   0.0     0\n"
     ]
    }
   ],
   "source": [
    "portfolio = vbt.Portfolio.from_order_func(\n",
    "    price_wide, order_func_nb, np.inf,\n",
    "    group_by=np.array([0, 0, 1]))\n",
    "print(portfolio.orders.records)\n",
    "\n",
    "portfolio = vbt.Portfolio.from_order_func(\n",
    "    price_wide, order_func_nb, np.inf,\n",
    "    group_by=np.array([0, 0, 1]), row_wise=True)\n",
    "print(portfolio.orders.records)"
   ]
  },
  {
   "cell_type": "code",
   "execution_count": 7,
   "metadata": {},
   "outputs": [
    {
     "name": "stdout",
     "output_type": "stream",
     "text": [
      "   id  col  idx        size  price  fees  side\n",
      "0   0    0    0  100.000000    1.0   0.0     0\n",
      "1   1    0    1  200.000000    2.0   0.0     1\n",
      "2   2    0    2  133.333333    3.0   0.0     0\n",
      "3   3    0    3   66.666667    4.0   0.0     1\n",
      "4   4    0    4   53.333333    5.0   0.0     0\n",
      "5   0    2    0  100.000000    1.0   0.0     0\n",
      "6   1    2    1  200.000000    2.0   0.0     1\n",
      "7   2    2    2  133.333333    3.0   0.0     0\n",
      "8   3    2    3   66.666667    4.0   0.0     1\n",
      "9   4    2    4   53.333333    5.0   0.0     0\n",
      "   id  col  idx        size  price  fees  side\n",
      "0   0    0    0  100.000000    1.0   0.0     0\n",
      "1   1    0    1  200.000000    2.0   0.0     1\n",
      "2   2    0    2  133.333333    3.0   0.0     0\n",
      "3   3    0    3   66.666667    4.0   0.0     1\n",
      "4   4    0    4   53.333333    5.0   0.0     0\n",
      "5   0    2    0  100.000000    1.0   0.0     0\n",
      "6   1    2    1  200.000000    2.0   0.0     1\n",
      "7   2    2    2  133.333333    3.0   0.0     0\n",
      "8   3    2    3   66.666667    4.0   0.0     1\n",
      "9   4    2    4   53.333333    5.0   0.0     0\n"
     ]
    }
   ],
   "source": [
    "portfolio = vbt.Portfolio.from_order_func(\n",
    "    price_wide, order_func_nb, np.inf,\n",
    "    group_by=np.array([0, 0, 1]), cash_sharing=True)\n",
    "print(portfolio.orders.records)\n",
    "\n",
    "portfolio = vbt.Portfolio.from_order_func(\n",
    "    price_wide, order_func_nb, np.inf,\n",
    "    group_by=np.array([0, 0, 1]), cash_sharing=True, row_wise=True)\n",
    "print(portfolio.orders.records)"
   ]
  },
  {
   "cell_type": "code",
   "execution_count": 8,
   "metadata": {},
   "outputs": [
    {
     "name": "stdout",
     "output_type": "stream",
     "text": [
      "[1.] 25.0\n",
      "[2.] -33.33333333333333\n",
      "[3.] -12.5\n",
      "[4.] -6.666666666666668\n",
      "   id  col  idx       size  price  fees  side\n",
      "0   0    0    0  50.000000    2.0   0.0     0\n",
      "1   1    0    1  25.000000    3.0   0.0     1\n",
      "2   2    0    2   8.333333    4.0   0.0     1\n",
      "3   3    0    3   4.166667    5.0   0.0     1\n",
      "[1.] 25.0\n",
      "[2.] -33.33333333333333\n",
      "[3.] -12.5\n",
      "[4.] -6.666666666666668\n",
      "   id  col  idx       size  price  fees  side\n",
      "0   0    0    0  50.000000    2.0   0.0     0\n",
      "1   1    0    1  25.000000    3.0   0.0     1\n",
      "2   2    0    2   8.333333    4.0   0.0     1\n",
      "3   3    0    3   4.166667    5.0   0.0     1\n"
     ]
    }
   ],
   "source": [
    "@njit\n",
    "def target_val_pre_segment_func_nb(c, val_price):\n",
    "    c.last_val_price[c.from_col:c.to_col] = val_price[c.i]\n",
    "    return ()\n",
    "\n",
    "@njit\n",
    "def target_val_order_func_nb(c):\n",
    "    print(c.last_val_price[c.from_col:c.to_col], 50. / c.close[c.i, c.col] - c.position_now)\n",
    "    return order_nb(size=50., size_type=SizeType.TargetValue, price=c.close[c.i, c.col])\n",
    "\n",
    "portfolio = vbt.Portfolio.from_order_func(\n",
    "    price.iloc[1:], target_val_order_func_nb, \n",
    "    pre_segment_func_nb=target_val_pre_segment_func_nb,\n",
    "    pre_segment_args=(price.values[:-1],)  # lagged valuation price\n",
    ")\n",
    "print(portfolio.orders.records)\n",
    "\n",
    "portfolio = vbt.Portfolio.from_order_func(\n",
    "    price.iloc[1:], target_val_order_func_nb, \n",
    "    pre_segment_func_nb=target_val_pre_segment_func_nb,\n",
    "    pre_segment_args=(price.values[:-1],), row_wise=True\n",
    ")\n",
    "print(portfolio.orders.records)"
   ]
  },
  {
   "cell_type": "code",
   "execution_count": 9,
   "metadata": {},
   "outputs": [
    {
     "name": "stdout",
     "output_type": "stream",
     "text": [
      "[2.] 25.0\n",
      "[3.] -8.333333333333332\n",
      "[4.] -4.166666666666668\n",
      "[5.] -2.5\n",
      "   id  col  idx       size  price  fees  side\n",
      "0   0    0    0  25.000000    2.0   0.0     0\n",
      "1   1    0    1   8.333333    3.0   0.0     1\n",
      "2   2    0    2   4.166667    4.0   0.0     1\n",
      "3   3    0    3   2.500000    5.0   0.0     1\n",
      "[2.] 25.0\n",
      "[3.] -8.333333333333332\n",
      "[4.] -4.166666666666668\n",
      "[5.] -2.5\n",
      "   id  col  idx       size  price  fees  side\n",
      "0   0    0    0  25.000000    2.0   0.0     0\n",
      "1   1    0    1   8.333333    3.0   0.0     1\n",
      "2   2    0    2   4.166667    4.0   0.0     1\n",
      "3   3    0    3   2.500000    5.0   0.0     1\n"
     ]
    }
   ],
   "source": [
    "portfolio = vbt.Portfolio.from_order_func(\n",
    "    price.iloc[1:], target_val_order_func_nb, \n",
    "    pre_segment_func_nb=target_val_pre_segment_func_nb,\n",
    "    pre_segment_args=(price.values[1:],)  # current order price\n",
    ")\n",
    "print(portfolio.orders.records)\n",
    "\n",
    "portfolio = vbt.Portfolio.from_order_func(\n",
    "    price.iloc[1:], target_val_order_func_nb, \n",
    "    pre_segment_func_nb=target_val_pre_segment_func_nb,\n",
    "    pre_segment_args=(price.values[1:],), row_wise=True\n",
    ")\n",
    "print(portfolio.orders.records)"
   ]
  },
  {
   "cell_type": "code",
   "execution_count": 10,
   "metadata": {},
   "outputs": [
    {
     "name": "stdout",
     "output_type": "stream",
     "text": [
      "[1.] 25.0\n",
      "[2.] -33.33333333333333\n",
      "[3.] -6.25\n",
      "[4.] -7.5\n",
      "   id  col  idx    size  price  fees  side\n",
      "0   0    0    0  50.000    2.0   0.0     0\n",
      "1   1    0    1  25.000    3.0   0.0     1\n",
      "2   2    0    3   3.125    5.0   0.0     1\n",
      "[1.] 25.0\n",
      "[2.] -33.33333333333333\n",
      "[3.] -6.25\n",
      "[4.] -7.5\n",
      "   id  col  idx    size  price  fees  side\n",
      "0   0    0    0  50.000    2.0   0.0     0\n",
      "1   1    0    1  25.000    3.0   0.0     1\n",
      "2   2    0    3   3.125    5.0   0.0     1\n"
     ]
    }
   ],
   "source": [
    "@njit\n",
    "def target_pct_pre_segment_func_nb(c, val_price):\n",
    "    c.last_val_price[c.from_col:c.to_col] = val_price[c.i]\n",
    "    return ()\n",
    "\n",
    "@njit\n",
    "def target_pct_order_func_nb(c):\n",
    "    print(c.last_val_price[c.from_col:c.to_col], 0.5 * c.value_now / c.close[c.i, c.col] - c.position_now)\n",
    "    return order_nb(size=0.5, size_type=SizeType.TargetPercent, price=c.close[c.i, c.col])\n",
    "\n",
    "portfolio = vbt.Portfolio.from_order_func(\n",
    "    price.iloc[1:], target_pct_order_func_nb, \n",
    "    pre_segment_func_nb=target_pct_pre_segment_func_nb,\n",
    "    pre_segment_args=(price.values[:-1],)  # lagged valuation price\n",
    ")\n",
    "print(portfolio.orders.records)\n",
    "\n",
    "portfolio = vbt.Portfolio.from_order_func(\n",
    "    price.iloc[1:], target_pct_order_func_nb, \n",
    "    pre_segment_func_nb=target_pct_pre_segment_func_nb,\n",
    "    pre_segment_args=(price.values[:-1],), row_wise=True\n",
    ")\n",
    "print(portfolio.orders.records)"
   ]
  },
  {
   "cell_type": "code",
   "execution_count": 11,
   "metadata": {},
   "outputs": [
    {
     "name": "stdout",
     "output_type": "stream",
     "text": [
      "[2.] 25.0\n",
      "[3.] -4.166666666666668\n",
      "[4.] -2.604166666666668\n",
      "[5.] -1.8229166666666643\n",
      "   id  col  idx       size  price  fees  side\n",
      "0   0    0    0  25.000000    2.0   0.0     0\n",
      "1   1    0    1   4.166667    3.0   0.0     1\n",
      "2   2    0    2   2.604167    4.0   0.0     1\n",
      "3   3    0    3   1.822917    5.0   0.0     1\n",
      "[2.] 25.0\n",
      "[3.] -4.166666666666668\n",
      "[4.] -2.604166666666668\n",
      "[5.] -1.8229166666666643\n",
      "   id  col  idx       size  price  fees  side\n",
      "0   0    0    0  25.000000    2.0   0.0     0\n",
      "1   1    0    1   4.166667    3.0   0.0     1\n",
      "2   2    0    2   2.604167    4.0   0.0     1\n",
      "3   3    0    3   1.822917    5.0   0.0     1\n"
     ]
    }
   ],
   "source": [
    "portfolio = vbt.Portfolio.from_order_func(\n",
    "    price.iloc[1:], target_pct_order_func_nb, \n",
    "    pre_segment_func_nb=target_pct_pre_segment_func_nb,\n",
    "    pre_segment_args=(price.values[1:],)  # current order price\n",
    ")\n",
    "print(portfolio.orders.records)\n",
    "\n",
    "portfolio = vbt.Portfolio.from_order_func(\n",
    "    price.iloc[1:], target_pct_order_func_nb, \n",
    "    pre_segment_func_nb=target_pct_pre_segment_func_nb,\n",
    "    pre_segment_args=(price.values[1:],), row_wise=True\n",
    ")\n",
    "print(portfolio.orders.records)"
   ]
  },
  {
   "cell_type": "code",
   "execution_count": 12,
   "metadata": {},
   "outputs": [
    {
     "name": "stdout",
     "output_type": "stream",
     "text": [
      "   id  col  idx  size  price  fees  side\n",
      "0   0    0    0   1.0    1.0   0.0     0\n",
      "1   1    0    2   1.0    3.0   0.0     0\n",
      "2   2    0    4   1.0    5.0   0.0     0\n",
      "   id  col  idx  size  price  fees  side\n",
      "0   0    0    0   1.0    1.0   0.0     0\n",
      "1   1    0    2   1.0    3.0   0.0     0\n",
      "2   2    0    4   1.0    5.0   0.0     0\n"
     ]
    }
   ],
   "source": [
    "portfolio = vbt.Portfolio.from_order_func(\n",
    "    price, order_func_nb, 1.,\n",
    "    segment_mask=pd.Series([True, False, True, False, True]))\n",
    "print(portfolio.orders.records)\n",
    "\n",
    "portfolio = vbt.Portfolio.from_order_func(\n",
    "    price, order_func_nb, 1.,\n",
    "    segment_mask=pd.Series([True, False, True, False, True]), row_wise=True)\n",
    "print(portfolio.orders.records)"
   ]
  },
  {
   "cell_type": "code",
   "execution_count": 13,
   "metadata": {},
   "outputs": [
    {
     "name": "stdout",
     "output_type": "stream",
     "text": [
      "preparing simulation\n",
      "\tpreparing group 0\n",
      "\t\tpreparing segment 0 (row)\n",
      "\t\t\tprocessing order 0 at column 0\n",
      "\t\t\tprocessing order 1 at column 1\n",
      "\t\tpreparing segment 1 (row)\n",
      "\t\t\tprocessing order 0 at column 0\n",
      "\t\t\tprocessing order 1 at column 1\n",
      "\t\tpreparing segment 2 (row)\n",
      "\t\t\tprocessing order 0 at column 0\n",
      "\t\t\tprocessing order 1 at column 1\n",
      "\t\tpreparing segment 3 (row)\n",
      "\t\t\tprocessing order 0 at column 0\n",
      "\t\t\tprocessing order 1 at column 1\n",
      "\t\tpreparing segment 4 (row)\n",
      "\t\t\tprocessing order 0 at column 0\n",
      "\t\t\tprocessing order 1 at column 1\n",
      "\tpreparing group 1\n",
      "\t\tpreparing segment 0 (row)\n",
      "\t\t\tprocessing order 0 at column 2\n",
      "\t\tpreparing segment 1 (row)\n",
      "\t\t\tprocessing order 0 at column 2\n",
      "\t\tpreparing segment 2 (row)\n",
      "\t\t\tprocessing order 0 at column 2\n",
      "\t\tpreparing segment 3 (row)\n",
      "\t\t\tprocessing order 0 at column 2\n",
      "\t\tpreparing segment 4 (row)\n",
      "\t\t\tprocessing order 0 at column 2\n",
      "[1] [2] [10] [15]\n"
     ]
    }
   ],
   "source": [
    "@njit\n",
    "def pre_sim_func_nb(c, sim_i):\n",
    "    print('preparing simulation')\n",
    "    sim_i[0] += 1\n",
    "    return sim_i,\n",
    "\n",
    "@njit\n",
    "def group_pre_sim_func_nb(c, sim_i, group_i):\n",
    "    print('\\tpreparing group', c.group)\n",
    "    group_i[0] += 1\n",
    "    return sim_i, group_i\n",
    "\n",
    "@njit\n",
    "def pre_segment_func_nb(c, sim_i, group_i, segment_i):\n",
    "    print('\\t\\tpreparing segment', c.i, '(row)')\n",
    "    segment_i[0] += 1\n",
    "    return sim_i, group_i, segment_i\n",
    "\n",
    "@njit\n",
    "def order_func_nb(c, sim_i, group_i, segment_i, order_i):\n",
    "    print('\\t\\t\\tprocessing order', c.call_idx, 'at column', c.col)\n",
    "    order_i[0] += 1\n",
    "    return NoOrder\n",
    "\n",
    "sim_i = np.array([0])\n",
    "group_i = np.array([0])\n",
    "segment_i = np.array([0])\n",
    "order_i = np.array([0])\n",
    "portfolio = vbt.Portfolio.from_order_func(\n",
    "    price_wide, order_func_nb, order_i, \n",
    "    group_by=np.array([0, 0, 1]), \n",
    "    pre_sim_func_nb=pre_sim_func_nb, pre_sim_args=(sim_i,),\n",
    "    pre_group_func_nb=group_pre_sim_func_nb, pre_group_args=(group_i,),\n",
    "    pre_segment_func_nb=pre_segment_func_nb, pre_segment_args=(segment_i,)\n",
    ")\n",
    "print(sim_i, group_i, segment_i, order_i)"
   ]
  },
  {
   "cell_type": "code",
   "execution_count": 14,
   "metadata": {},
   "outputs": [
    {
     "name": "stdout",
     "output_type": "stream",
     "text": [
      "preparing simulation\n",
      "\tpreparing row 0\n",
      "\t\tpreparing segment 0 (group)\n",
      "\t\t\tprocessing order 0 at column 0\n",
      "\t\t\tprocessing order 1 at column 1\n",
      "\t\tpreparing segment 1 (group)\n",
      "\t\t\tprocessing order 0 at column 2\n",
      "\tpreparing row 1\n",
      "\t\tpreparing segment 0 (group)\n",
      "\t\t\tprocessing order 0 at column 0\n",
      "\t\t\tprocessing order 1 at column 1\n",
      "\t\tpreparing segment 1 (group)\n",
      "\t\t\tprocessing order 0 at column 2\n",
      "\tpreparing row 2\n",
      "\t\tpreparing segment 0 (group)\n",
      "\t\t\tprocessing order 0 at column 0\n",
      "\t\t\tprocessing order 1 at column 1\n",
      "\t\tpreparing segment 1 (group)\n",
      "\t\t\tprocessing order 0 at column 2\n",
      "\tpreparing row 3\n",
      "\t\tpreparing segment 0 (group)\n",
      "\t\t\tprocessing order 0 at column 0\n",
      "\t\t\tprocessing order 1 at column 1\n",
      "\t\tpreparing segment 1 (group)\n",
      "\t\t\tprocessing order 0 at column 2\n",
      "\tpreparing row 4\n",
      "\t\tpreparing segment 0 (group)\n",
      "\t\t\tprocessing order 0 at column 0\n",
      "\t\t\tprocessing order 1 at column 1\n",
      "\t\tpreparing segment 1 (group)\n",
      "\t\t\tprocessing order 0 at column 2\n",
      "[1] [5] [10] [15]\n"
     ]
    }
   ],
   "source": [
    "@njit\n",
    "def pre_sim_func_nb(c, sim_i):\n",
    "    print('preparing simulation')\n",
    "    sim_i[0] += 1\n",
    "    return sim_i,\n",
    "\n",
    "@njit\n",
    "def row_pre_sim_func_nb(c, sim_i, row_i):\n",
    "    print('\\tpreparing row', c.i)\n",
    "    row_i[0] += 1\n",
    "    return sim_i, row_i\n",
    "\n",
    "@njit\n",
    "def pre_segment_func_nb(c, sim_i, row_i, segment_i):\n",
    "    print('\\t\\tpreparing segment', c.group, '(group)')\n",
    "    segment_i[0] += 1\n",
    "    return sim_i, row_i, segment_i\n",
    "\n",
    "@njit\n",
    "def order_func_nb(c, sim_i, row_i, segment_i, order_i):\n",
    "    print('\\t\\t\\tprocessing order', c.call_idx, 'at column', c.col)\n",
    "    order_i[0] += 1\n",
    "    return NoOrder\n",
    "\n",
    "sim_i = np.array([0])\n",
    "row_i = np.array([0])\n",
    "segment_i = np.array([0])\n",
    "order_i = np.array([0])\n",
    "\n",
    "portfolio = vbt.Portfolio.from_order_func(\n",
    "    price_wide, order_func_nb, order_i, \n",
    "    group_by=np.array([0, 0, 1]), \n",
    "    pre_sim_func_nb=pre_sim_func_nb, pre_sim_args=(sim_i,),\n",
    "    pre_row_func_nb=row_pre_sim_func_nb, pre_row_args=(row_i,),\n",
    "    pre_segment_func_nb=pre_segment_func_nb, pre_segment_args=(segment_i,),\n",
    "    row_wise=True\n",
    ")\n",
    "print(sim_i, row_i, segment_i, order_i)"
   ]
  },
  {
   "cell_type": "markdown",
   "metadata": {},
   "source": [
    "## methods and properties"
   ]
  },
  {
   "cell_type": "code",
   "execution_count": 3,
   "metadata": {},
   "outputs": [],
   "source": [
    "price_na = pd.DataFrame({\n",
    "    'a': [np.nan, 2., 3., 4., 5.],\n",
    "    'b': [1., 2., np.nan, 4., 5.],\n",
    "    'c': [1., 2., 3., 4., np.nan]\n",
    "}, index=price.index)\n",
    "order_size = pd.Series([1., 0.1, -1., -0.1, 1.])\n",
    "directions = ['longonly', 'shortonly', 'both']\n",
    "group_by = pd.Index(['first', 'first', 'second'], name='group')"
   ]
  },
  {
   "cell_type": "code",
   "execution_count": 4,
   "metadata": {},
   "outputs": [
    {
     "name": "stdout",
     "output_type": "stream",
     "text": [
      "    id  col  idx  size  price     fees  side\n",
      "0    0    0    1   0.1   2.02  0.10202     0\n",
      "1    1    0    2   0.1   2.97  0.10297     1\n",
      "2    2    0    4   1.0   5.05  0.15050     0\n",
      "3    0    1    0   1.0   0.99  0.10990     1\n",
      "4    1    1    1   0.1   1.98  0.10198     1\n",
      "5    2    1    3   0.1   4.04  0.10404     0\n",
      "6    3    1    4   1.0   4.95  0.14950     1\n",
      "7    0    2    0   1.0   1.01  0.11010     0\n",
      "8    1    2    1   0.1   2.02  0.10202     0\n",
      "9    2    2    2   1.0   2.97  0.12970     1\n",
      "10   3    2    3   0.1   3.96  0.10396     1\n",
      "    id  col  idx  size  price     fees  side\n",
      "0    0    0    1   0.1   2.02  0.10202     0\n",
      "1    1    0    2   0.1   2.97  0.10297     1\n",
      "2    2    0    4   1.0   5.05  0.15050     0\n",
      "3    0    1    0   1.0   0.99  0.10990     1\n",
      "4    1    1    1   0.1   1.98  0.10198     1\n",
      "5    2    1    3   0.1   4.04  0.10404     0\n",
      "6    3    1    4   1.0   4.95  0.14950     1\n",
      "7    0    2    0   1.0   1.01  0.11010     0\n",
      "8    1    2    1   0.1   2.02  0.10202     0\n",
      "9    2    2    2   1.0   2.97  0.12970     1\n",
      "10   3    2    3   0.1   3.96  0.10396     1\n",
      "    id  col  idx  size  price     fees  side\n",
      "0    0    0    1   0.1   2.02  0.10202     0\n",
      "1    1    0    2   0.1   2.97  0.10297     1\n",
      "2    2    0    4   1.0   5.05  0.15050     0\n",
      "3    0    1    0   1.0   0.99  0.10990     1\n",
      "4    1    1    1   0.1   1.98  0.10198     1\n",
      "5    2    1    3   0.1   4.04  0.10404     0\n",
      "6    3    1    4   1.0   4.95  0.14950     1\n",
      "7    0    2    0   1.0   1.01  0.11010     0\n",
      "8    1    2    1   0.1   2.02  0.10202     0\n",
      "9    2    2    2   1.0   2.97  0.12970     1\n",
      "10   3    2    3   0.1   3.96  0.10396     1\n"
     ]
    }
   ],
   "source": [
    "portfolio = vbt.Portfolio.from_orders(\n",
    "    price_na, order_size, size_type='amount', direction=directions,\n",
    "    fees=0.01, fixed_fees=0.1, slippage=0.01, log=True,\n",
    "    call_seq='reversed', group_by=None,\n",
    "    init_cash=[100., 100., 100.], freq='1D'\n",
    ")  # independent\n",
    "print(portfolio.orders.records)\n",
    "\n",
    "portfolio_grouped = vbt.Portfolio.from_orders(\n",
    "    price_na, order_size, size_type='amount', direction=directions,\n",
    "    fees=0.01, fixed_fees=0.1, slippage=0.01, log=True,\n",
    "    call_seq='reversed', group_by=group_by, cash_sharing=False,\n",
    "    init_cash=[100., 100., 100.], freq='1D'\n",
    ")  # grouped\n",
    "print(portfolio_grouped.orders.records)\n",
    "\n",
    "portfolio_shared = vbt.Portfolio.from_orders(\n",
    "    price_na, order_size, size_type='amount', direction=directions,\n",
    "    fees=0.01, fixed_fees=0.1, slippage=0.01, log=True,\n",
    "    call_seq='reversed', group_by=group_by, cash_sharing=True,\n",
    "    init_cash=[200., 100.], freq='1D'\n",
    ")  # shared\n",
    "print(portfolio_shared.orders.records)"
   ]
  },
  {
   "cell_type": "code",
   "execution_count": 5,
   "metadata": {},
   "outputs": [
    {
     "name": "stdout",
     "output_type": "stream",
     "text": [
      "(1000000,)\n",
      "(1000000,)\n",
      "(1000000,)\n"
     ]
    }
   ],
   "source": [
    "big_group_by = np.repeat(np.arange(500), 2)\n",
    "big_portfolio = vbt.Portfolio.from_orders(\n",
    "    big_price_wide, big_order_size)\n",
    "print(big_portfolio.orders.values.shape)\n",
    "\n",
    "big_portfolio_grouped = vbt.Portfolio.from_orders(\n",
    "    big_price_wide, big_order_size, group_by=big_group_by)\n",
    "print(big_portfolio_grouped.orders.values.shape)\n",
    "\n",
    "big_portfolio_shared = vbt.Portfolio.from_orders(\n",
    "    big_price_wide, big_order_size, group_by=big_group_by, cash_sharing=True)\n",
    "print(big_portfolio_shared.orders.values.shape)"
   ]
  },
  {
   "cell_type": "code",
   "execution_count": 6,
   "metadata": {},
   "outputs": [
    {
     "name": "stdout",
     "output_type": "stream",
     "text": [
      "DatetimeIndex(['2020-01-01', '2020-01-02', '2020-01-03', '2020-01-04',\n",
      "               '2020-01-05'],\n",
      "              dtype='datetime64[ns]', freq=None)\n",
      "Index(['a', 'b', 'c'], dtype='object')\n",
      "2\n",
      "None\n",
      "True\n",
      "True\n",
      "True\n",
      "DatetimeIndex(['2020-01-01', '2020-01-02', '2020-01-03', '2020-01-04',\n",
      "               '2020-01-05'],\n",
      "              dtype='datetime64[ns]', freq=None)\n",
      "Index(['a', 'b', 'c'], dtype='object')\n",
      "2\n",
      "Index(['first', 'first', 'second'], dtype='object', name='group')\n",
      "True\n",
      "True\n",
      "True\n",
      "DatetimeIndex(['2020-01-01', '2020-01-02', '2020-01-03', '2020-01-04',\n",
      "               '2020-01-05'],\n",
      "              dtype='datetime64[ns]', freq=None)\n",
      "Index(['a', 'b', 'c'], dtype='object')\n",
      "2\n",
      "Index(['first', 'first', 'second'], dtype='object', name='group')\n",
      "False\n",
      "True\n",
      "False\n"
     ]
    }
   ],
   "source": [
    "print(portfolio.wrapper.index)\n",
    "print(portfolio.wrapper.columns)\n",
    "print(portfolio.wrapper.ndim)\n",
    "print(portfolio.wrapper.grouper.group_by)\n",
    "print(portfolio.wrapper.grouper.allow_enable)\n",
    "print(portfolio.wrapper.grouper.allow_disable)\n",
    "print(portfolio.wrapper.grouper.allow_modify)\n",
    "\n",
    "print(portfolio_grouped.wrapper.index)\n",
    "print(portfolio_grouped.wrapper.columns)\n",
    "print(portfolio_grouped.wrapper.ndim)\n",
    "print(portfolio_grouped.wrapper.grouper.group_by)\n",
    "print(portfolio_grouped.wrapper.grouper.allow_enable)\n",
    "print(portfolio_grouped.wrapper.grouper.allow_disable)\n",
    "print(portfolio_grouped.wrapper.grouper.allow_modify)\n",
    "\n",
    "print(portfolio_shared.wrapper.index)\n",
    "print(portfolio_shared.wrapper.columns)\n",
    "print(portfolio_shared.wrapper.ndim)\n",
    "print(portfolio_shared.wrapper.grouper.group_by)\n",
    "print(portfolio_shared.wrapper.grouper.allow_enable)\n",
    "print(portfolio_shared.wrapper.grouper.allow_disable)\n",
    "print(portfolio_shared.wrapper.grouper.allow_modify)"
   ]
  },
  {
   "cell_type": "code",
   "execution_count": 8,
   "metadata": {},
   "outputs": [
    {
     "name": "stdout",
     "output_type": "stream",
     "text": [
      "    id  col  idx  size  price     fees  side\n",
      "0    0    0    1   0.1   2.02  0.10202     0\n",
      "1    1    0    2   0.1   2.97  0.10297     1\n",
      "2    2    0    4   1.0   5.05  0.15050     0\n",
      "3    0    1    0   1.0   0.99  0.10990     1\n",
      "4    1    1    1   0.1   1.98  0.10198     1\n",
      "5    2    1    3   0.1   4.04  0.10404     0\n",
      "6    3    1    4   1.0   4.95  0.14950     1\n",
      "7    0    2    0   1.0   1.01  0.11010     0\n",
      "8    1    2    1   0.1   2.02  0.10202     0\n",
      "9    2    2    2   1.0   2.97  0.12970     1\n",
      "10   3    2    3   0.1   3.96  0.10396     1\n",
      "a    3\n",
      "b    4\n",
      "c    4\n",
      "Name: count, dtype: int64\n",
      "a    5\n",
      "b    5\n",
      "c    5\n",
      "Name: count, dtype: int64\n",
      "              a    b    c\n",
      "2020-01-01  NaN  1.0  1.0\n",
      "2020-01-02  2.0  2.0  2.0\n",
      "2020-01-03  3.0  NaN  3.0\n",
      "2020-01-04  4.0  4.0  4.0\n",
      "2020-01-05  5.0  5.0  NaN\n",
      "a    100.0\n",
      "b    100.0\n",
      "c    100.0\n",
      "Name: init_cash, dtype: float64\n",
      "                    a         b          c\n",
      "2020-01-01  100.00000  99.88010   99.87990\n",
      "2020-01-02   99.89598  98.77612  100.77588\n",
      "2020-01-03   99.89001  98.77612  101.71618\n",
      "2020-01-04   99.89001  96.46808  101.70822\n",
      "2020-01-05   99.68951  95.26858  101.70822\n",
      "a     99.68951\n",
      "b     95.26858\n",
      "c    101.70822\n",
      "Name: final_value, dtype: float64\n"
     ]
    }
   ],
   "source": [
    "print(portfolio.orders.records)\n",
    "print(portfolio.orders.count())\n",
    "print(portfolio.logs.count())\n",
    "print(portfolio.close)\n",
    "print(portfolio.init_cash)\n",
    "print(portfolio.get_value())\n",
    "print(portfolio.get_final_value())"
   ]
  },
  {
   "cell_type": "code",
   "execution_count": 9,
   "metadata": {},
   "outputs": [
    {
     "name": "stdout",
     "output_type": "stream",
     "text": [
      "   id  col  idx  size  price     fees  side\n",
      "0   0    0    1   0.1   2.02  0.10202     0\n",
      "1   1    0    2   0.1   2.97  0.10297     1\n",
      "2   2    0    4   1.0   5.05  0.15050     0\n",
      "3\n",
      "5\n",
      "2020-01-01    NaN\n",
      "2020-01-02    2.0\n",
      "2020-01-03    3.0\n",
      "2020-01-04    4.0\n",
      "2020-01-05    5.0\n",
      "Name: a, dtype: float64\n",
      "100.0\n",
      "2020-01-01    100.00000\n",
      "2020-01-02     99.89598\n",
      "2020-01-03     99.89001\n",
      "2020-01-04     99.89001\n",
      "2020-01-05     99.68951\n",
      "Name: a, dtype: float64\n",
      "99.68951\n"
     ]
    }
   ],
   "source": [
    "print(portfolio['a'].orders.records)\n",
    "print(portfolio['a'].orders.count())\n",
    "print(portfolio['a'].logs.count())\n",
    "print(portfolio['a'].close)\n",
    "print(portfolio['a'].init_cash)\n",
    "print(portfolio['a'].get_value())\n",
    "print(portfolio['a'].get_final_value())"
   ]
  },
  {
   "cell_type": "code",
   "execution_count": 10,
   "metadata": {},
   "outputs": [
    {
     "name": "stdout",
     "output_type": "stream",
     "text": [
      "   id  col  idx  size  price     fees  side\n",
      "0   0    0    0   1.0   1.01  0.11010     0\n",
      "1   1    0    1   0.1   2.02  0.10202     0\n",
      "2   2    0    2   1.0   2.97  0.12970     1\n",
      "3   3    0    3   0.1   3.96  0.10396     1\n",
      "4\n",
      "5\n",
      "2020-01-01    1.0\n",
      "2020-01-02    2.0\n",
      "2020-01-03    3.0\n",
      "2020-01-04    4.0\n",
      "2020-01-05    NaN\n",
      "Name: c, dtype: float64\n",
      "100.0\n",
      "2020-01-01     99.87990\n",
      "2020-01-02    100.77588\n",
      "2020-01-03    101.71618\n",
      "2020-01-04    101.70822\n",
      "2020-01-05    101.70822\n",
      "Name: c, dtype: float64\n",
      "101.70822\n"
     ]
    }
   ],
   "source": [
    "print(portfolio['c'].orders.records)\n",
    "print(portfolio['c'].orders.count())\n",
    "print(portfolio['c'].logs.count())\n",
    "print(portfolio['c'].close)\n",
    "print(portfolio['c'].init_cash)\n",
    "print(portfolio['c'].get_value())\n",
    "print(portfolio['c'].get_final_value())"
   ]
  },
  {
   "cell_type": "code",
   "execution_count": 11,
   "metadata": {},
   "outputs": [
    {
     "name": "stdout",
     "output_type": "stream",
     "text": [
      "   id  col  idx  size  price     fees  side\n",
      "0   0    0    0   1.0   1.01  0.11010     0\n",
      "1   1    0    1   0.1   2.02  0.10202     0\n",
      "2   2    0    2   1.0   2.97  0.12970     1\n",
      "3   3    0    3   0.1   3.96  0.10396     1\n",
      "c    4\n",
      "Name: count, dtype: int64\n",
      "c    5\n",
      "Name: count, dtype: int64\n",
      "              c\n",
      "2020-01-01  1.0\n",
      "2020-01-02  2.0\n",
      "2020-01-03  3.0\n",
      "2020-01-04  4.0\n",
      "2020-01-05  NaN\n",
      "c    100.0\n",
      "Name: init_cash, dtype: float64\n",
      "                    c\n",
      "2020-01-01   99.87990\n",
      "2020-01-02  100.77588\n",
      "2020-01-03  101.71618\n",
      "2020-01-04  101.70822\n",
      "2020-01-05  101.70822\n",
      "c    101.70822\n",
      "Name: final_value, dtype: float64\n"
     ]
    }
   ],
   "source": [
    "print(portfolio[['c']].orders.records)\n",
    "print(portfolio[['c']].orders.count())\n",
    "print(portfolio[['c']].logs.count())\n",
    "print(portfolio[['c']].close)\n",
    "print(portfolio[['c']].init_cash)\n",
    "print(portfolio[['c']].get_value())\n",
    "print(portfolio[['c']].get_final_value())"
   ]
  },
  {
   "cell_type": "code",
   "execution_count": 12,
   "metadata": {},
   "outputs": [
    {
     "name": "stdout",
     "output_type": "stream",
     "text": [
      "    id  col  idx  size  price     fees  side\n",
      "0    0    0    1   0.1   2.02  0.10202     0\n",
      "1    1    0    2   0.1   2.97  0.10297     1\n",
      "2    2    0    4   1.0   5.05  0.15050     0\n",
      "3    0    1    0   1.0   0.99  0.10990     1\n",
      "4    1    1    1   0.1   1.98  0.10198     1\n",
      "5    2    1    3   0.1   4.04  0.10404     0\n",
      "6    3    1    4   1.0   4.95  0.14950     1\n",
      "7    0    2    0   1.0   1.01  0.11010     0\n",
      "8    1    2    1   0.1   2.02  0.10202     0\n",
      "9    2    2    2   1.0   2.97  0.12970     1\n",
      "10   3    2    3   0.1   3.96  0.10396     1\n",
      "group\n",
      "first     7\n",
      "second    4\n",
      "Name: count, dtype: int64\n",
      "group\n",
      "first     10\n",
      "second     5\n",
      "Name: count, dtype: int64\n",
      "              a    b    c\n",
      "2020-01-01  NaN  1.0  1.0\n",
      "2020-01-02  2.0  2.0  2.0\n",
      "2020-01-03  3.0  NaN  3.0\n",
      "2020-01-04  4.0  4.0  4.0\n",
      "2020-01-05  5.0  5.0  NaN\n",
      "group\n",
      "first     200.0\n",
      "second    100.0\n",
      "Name: init_cash, dtype: float64\n",
      "group           first     second\n",
      "2020-01-01  199.88010   99.87990\n",
      "2020-01-02  198.67210  100.77588\n",
      "2020-01-03  198.66613  101.71618\n",
      "2020-01-04  196.35809  101.70822\n",
      "2020-01-05  194.95809  101.70822\n",
      "group\n",
      "first     194.95809\n",
      "second    101.70822\n",
      "Name: final_value, dtype: float64\n"
     ]
    }
   ],
   "source": [
    "print(portfolio_grouped.orders.records)\n",
    "print(portfolio_grouped.orders.count())\n",
    "print(portfolio_grouped.logs.count())\n",
    "print(portfolio_grouped.close)\n",
    "print(portfolio_grouped.init_cash)\n",
    "print(portfolio_grouped.get_value())\n",
    "print(portfolio_grouped.get_final_value())"
   ]
  },
  {
   "cell_type": "code",
   "execution_count": 13,
   "metadata": {},
   "outputs": [
    {
     "name": "stdout",
     "output_type": "stream",
     "text": [
      "   id  col  idx  size  price     fees  side\n",
      "0   0    0    1   0.1   2.02  0.10202     0\n",
      "1   1    0    2   0.1   2.97  0.10297     1\n",
      "2   2    0    4   1.0   5.05  0.15050     0\n",
      "3   0    1    0   1.0   0.99  0.10990     1\n",
      "4   1    1    1   0.1   1.98  0.10198     1\n",
      "5   2    1    3   0.1   4.04  0.10404     0\n",
      "6   3    1    4   1.0   4.95  0.14950     1\n",
      "7\n",
      "10\n",
      "              a    b\n",
      "2020-01-01  NaN  1.0\n",
      "2020-01-02  2.0  2.0\n",
      "2020-01-03  3.0  NaN\n",
      "2020-01-04  4.0  4.0\n",
      "2020-01-05  5.0  5.0\n",
      "200.0\n",
      "2020-01-01    199.88010\n",
      "2020-01-02    198.67210\n",
      "2020-01-03    198.66613\n",
      "2020-01-04    196.35809\n",
      "2020-01-05    194.95809\n",
      "Name: first, dtype: float64\n",
      "194.95809\n"
     ]
    }
   ],
   "source": [
    "print(portfolio_grouped['first'].orders.records)\n",
    "print(portfolio_grouped['first'].orders.count())\n",
    "print(portfolio_grouped['first'].logs.count())\n",
    "print(portfolio_grouped['first'].close)\n",
    "print(portfolio_grouped['first'].init_cash)\n",
    "print(portfolio_grouped['first'].get_value())\n",
    "print(portfolio_grouped['first'].get_final_value())"
   ]
  },
  {
   "cell_type": "code",
   "execution_count": 14,
   "metadata": {},
   "outputs": [
    {
     "name": "stdout",
     "output_type": "stream",
     "text": [
      "   id  col  idx  size  price     fees  side\n",
      "0   0    0    0   1.0   1.01  0.11010     0\n",
      "1   1    0    1   0.1   2.02  0.10202     0\n",
      "2   2    0    2   1.0   2.97  0.12970     1\n",
      "3   3    0    3   0.1   3.96  0.10396     1\n",
      "4\n",
      "5\n",
      "2020-01-01    1.0\n",
      "2020-01-02    2.0\n",
      "2020-01-03    3.0\n",
      "2020-01-04    4.0\n",
      "2020-01-05    NaN\n",
      "Name: c, dtype: float64\n",
      "100.0\n",
      "2020-01-01     99.87990\n",
      "2020-01-02    100.77588\n",
      "2020-01-03    101.71618\n",
      "2020-01-04    101.70822\n",
      "2020-01-05    101.70822\n",
      "Name: second, dtype: float64\n",
      "101.70822\n"
     ]
    }
   ],
   "source": [
    "print(portfolio_grouped['second'].orders.records)\n",
    "print(portfolio_grouped['second'].orders.count())\n",
    "print(portfolio_grouped['second'].logs.count())\n",
    "print(portfolio_grouped['second'].close)\n",
    "print(portfolio_grouped['second'].init_cash)\n",
    "print(portfolio_grouped['second'].get_value())\n",
    "print(portfolio_grouped['second'].get_final_value())"
   ]
  },
  {
   "cell_type": "code",
   "execution_count": 15,
   "metadata": {},
   "outputs": [
    {
     "name": "stdout",
     "output_type": "stream",
     "text": [
      "   id  col  idx  size  price     fees  side\n",
      "0   0    0    0   1.0   1.01  0.11010     0\n",
      "1   1    0    1   0.1   2.02  0.10202     0\n",
      "2   2    0    2   1.0   2.97  0.12970     1\n",
      "3   3    0    3   0.1   3.96  0.10396     1\n",
      "group\n",
      "second    4\n",
      "Name: count, dtype: int64\n",
      "group\n",
      "second    5\n",
      "Name: count, dtype: int64\n",
      "              c\n",
      "2020-01-01  1.0\n",
      "2020-01-02  2.0\n",
      "2020-01-03  3.0\n",
      "2020-01-04  4.0\n",
      "2020-01-05  NaN\n",
      "group\n",
      "second    100.0\n",
      "Name: init_cash, dtype: float64\n",
      "group          second\n",
      "2020-01-01   99.87990\n",
      "2020-01-02  100.77588\n",
      "2020-01-03  101.71618\n",
      "2020-01-04  101.70822\n",
      "2020-01-05  101.70822\n",
      "group\n",
      "second    101.70822\n",
      "Name: final_value, dtype: float64\n"
     ]
    }
   ],
   "source": [
    "print(portfolio_grouped[['second']].orders.records)\n",
    "print(portfolio_grouped[['second']].orders.count())\n",
    "print(portfolio_grouped[['second']].logs.count())\n",
    "print(portfolio_grouped[['second']].close)\n",
    "print(portfolio_grouped[['second']].init_cash)\n",
    "print(portfolio_grouped[['second']].get_value())\n",
    "print(portfolio_grouped[['second']].get_final_value())"
   ]
  },
  {
   "cell_type": "code",
   "execution_count": 14,
   "metadata": {},
   "outputs": [
    {
     "name": "stdout",
     "output_type": "stream",
     "text": [
      "6.73 ms ± 19.7 µs per loop (mean ± std. dev. of 7 runs, 100 loops each)\n",
      "13.7 ms ± 2.28 ms per loop (mean ± std. dev. of 7 runs, 10 loops each)\n",
      "9.09 ms ± 41.8 µs per loop (mean ± std. dev. of 7 runs, 100 loops each)\n",
      "31 ms ± 296 µs per loop (mean ± std. dev. of 7 runs, 100 loops each)\n",
      "9.69 ms ± 61 µs per loop (mean ± std. dev. of 7 runs, 100 loops each)\n",
      "15.6 ms ± 293 µs per loop (mean ± std. dev. of 7 runs, 10 loops each)\n"
     ]
    }
   ],
   "source": [
    "%timeit big_portfolio.iloc[0]\n",
    "%timeit big_portfolio.iloc[:]\n",
    "%timeit big_portfolio_grouped.iloc[0]\n",
    "%timeit big_portfolio_grouped.iloc[:]\n",
    "%timeit big_portfolio_shared.iloc[0]\n",
    "%timeit big_portfolio_shared.iloc[:]"
   ]
  },
  {
   "cell_type": "code",
   "execution_count": 16,
   "metadata": {},
   "outputs": [
    {
     "name": "stdout",
     "output_type": "stream",
     "text": [
      "False\n",
      "False\n",
      "True\n"
     ]
    }
   ],
   "source": [
    "print(portfolio.cash_sharing)\n",
    "print(portfolio_grouped.cash_sharing)\n",
    "print(portfolio_shared.cash_sharing)"
   ]
  },
  {
   "cell_type": "code",
   "execution_count": 17,
   "metadata": {},
   "outputs": [
    {
     "name": "stdout",
     "output_type": "stream",
     "text": [
      "            a  b  c\n",
      "2020-01-01  0  0  0\n",
      "2020-01-02  0  0  0\n",
      "2020-01-03  0  0  0\n",
      "2020-01-04  0  0  0\n",
      "2020-01-05  0  0  0\n",
      "            a  b  c\n",
      "2020-01-01  1  0  0\n",
      "2020-01-02  1  0  0\n",
      "2020-01-03  1  0  0\n",
      "2020-01-04  1  0  0\n",
      "2020-01-05  1  0  0\n",
      "            a  b  c\n",
      "2020-01-01  1  0  0\n",
      "2020-01-02  1  0  0\n",
      "2020-01-03  1  0  0\n",
      "2020-01-04  1  0  0\n",
      "2020-01-05  1  0  0\n"
     ]
    }
   ],
   "source": [
    "print(portfolio.call_seq)\n",
    "print(portfolio_grouped.call_seq)\n",
    "print(portfolio_shared.call_seq)"
   ]
  },
  {
   "cell_type": "code",
   "execution_count": 19,
   "metadata": {},
   "outputs": [
    {
     "name": "stdout",
     "output_type": "stream",
     "text": [
      "a    3\n",
      "b    4\n",
      "c    4\n",
      "Name: count, dtype: int64\n",
      "a    3\n",
      "b    4\n",
      "c    4\n",
      "Name: count, dtype: int64\n",
      "a    3\n",
      "b    4\n",
      "c    4\n",
      "Name: count, dtype: int64\n",
      "group\n",
      "first     7\n",
      "second    4\n",
      "Name: count, dtype: int64\n",
      "group\n",
      "first     7\n",
      "second    4\n",
      "Name: count, dtype: int64\n",
      "group\n",
      "first     7\n",
      "second    4\n",
      "Name: count, dtype: int64\n"
     ]
    }
   ],
   "source": [
    "print(portfolio.orders.count())\n",
    "print(portfolio_grouped.get_orders(group_by=False).count())\n",
    "print(portfolio_shared.get_orders(group_by=False).count())\n",
    "\n",
    "print(portfolio.get_orders(group_by=group_by).count())\n",
    "print(portfolio_grouped.orders.count())\n",
    "print(portfolio_shared.orders.count())"
   ]
  },
  {
   "cell_type": "code",
   "execution_count": 20,
   "metadata": {},
   "outputs": [
    {
     "name": "stdout",
     "output_type": "stream",
     "text": [
      "a    5\n",
      "b    5\n",
      "c    5\n",
      "Name: count, dtype: int64\n",
      "a    5\n",
      "b    5\n",
      "c    5\n",
      "Name: count, dtype: int64\n",
      "a    5\n",
      "b    5\n",
      "c    5\n",
      "Name: count, dtype: int64\n",
      "group\n",
      "first     10\n",
      "second     5\n",
      "Name: count, dtype: int64\n",
      "group\n",
      "first     10\n",
      "second     5\n",
      "Name: count, dtype: int64\n",
      "group\n",
      "first     10\n",
      "second     5\n",
      "Name: count, dtype: int64\n"
     ]
    }
   ],
   "source": [
    "print(portfolio.logs.count())\n",
    "print(portfolio_grouped.get_logs(group_by=False).count())\n",
    "print(portfolio_shared.get_logs(group_by=False).count())\n",
    "\n",
    "print(portfolio.get_logs(group_by=group_by).count())\n",
    "print(portfolio_grouped.logs.count())\n",
    "print(portfolio_shared.logs.count())"
   ]
  },
  {
   "cell_type": "code",
   "execution_count": 21,
   "metadata": {},
   "outputs": [
    {
     "name": "stdout",
     "output_type": "stream",
     "text": [
      "a    2\n",
      "b    3\n",
      "c    2\n",
      "Name: count, dtype: int64\n",
      "a    2\n",
      "b    3\n",
      "c    2\n",
      "Name: count, dtype: int64\n",
      "a    2\n",
      "b    3\n",
      "c    2\n",
      "Name: count, dtype: int64\n",
      "group\n",
      "first     5\n",
      "second    2\n",
      "Name: count, dtype: int64\n",
      "group\n",
      "first     5\n",
      "second    2\n",
      "Name: count, dtype: int64\n",
      "group\n",
      "first     5\n",
      "second    2\n",
      "Name: count, dtype: int64\n"
     ]
    }
   ],
   "source": [
    "print(portfolio.entry_trades.count())\n",
    "print(portfolio_grouped.get_entry_trades(group_by=False).count())\n",
    "print(portfolio_shared.get_entry_trades(group_by=False).count())\n",
    "\n",
    "print(portfolio.get_entry_trades(group_by=group_by).count())\n",
    "print(portfolio_grouped.entry_trades.count())\n",
    "print(portfolio_shared.entry_trades.count())"
   ]
  },
  {
   "cell_type": "code",
   "execution_count": 22,
   "metadata": {},
   "outputs": [
    {
     "name": "stdout",
     "output_type": "stream",
     "text": [
      "441 ms ± 8.57 ms per loop (mean ± std. dev. of 7 runs, 1 loop each)\n"
     ]
    }
   ],
   "source": [
    "%timeit big_portfolio.entry_trades"
   ]
  },
  {
   "cell_type": "code",
   "execution_count": 23,
   "metadata": {},
   "outputs": [
    {
     "name": "stdout",
     "output_type": "stream",
     "text": [
      "a    2\n",
      "b    2\n",
      "c    2\n",
      "Name: count, dtype: int64\n",
      "a    2\n",
      "b    2\n",
      "c    2\n",
      "Name: count, dtype: int64\n",
      "a    2\n",
      "b    2\n",
      "c    2\n",
      "Name: count, dtype: int64\n",
      "group\n",
      "first     4\n",
      "second    2\n",
      "Name: count, dtype: int64\n",
      "group\n",
      "first     4\n",
      "second    2\n",
      "Name: count, dtype: int64\n",
      "group\n",
      "first     4\n",
      "second    2\n",
      "Name: count, dtype: int64\n"
     ]
    }
   ],
   "source": [
    "print(portfolio.exit_trades.count())\n",
    "print(portfolio_grouped.get_exit_trades(group_by=False).count())\n",
    "print(portfolio_shared.get_exit_trades(group_by=False).count())\n",
    "\n",
    "print(portfolio.get_exit_trades(group_by=group_by).count())\n",
    "print(portfolio_grouped.exit_trades.count())\n",
    "print(portfolio_shared.exit_trades.count())"
   ]
  },
  {
   "cell_type": "code",
   "execution_count": 24,
   "metadata": {},
   "outputs": [
    {
     "name": "stdout",
     "output_type": "stream",
     "text": [
      "29.3 ms ± 3.21 ms per loop (mean ± std. dev. of 7 runs, 1 loop each)\n"
     ]
    }
   ],
   "source": [
    "%timeit big_portfolio.exit_trades"
   ]
  },
  {
   "cell_type": "code",
   "execution_count": 25,
   "metadata": {},
   "outputs": [
    {
     "name": "stdout",
     "output_type": "stream",
     "text": [
      "a    2\n",
      "b    1\n",
      "c    1\n",
      "Name: count, dtype: int64\n",
      "a    2\n",
      "b    1\n",
      "c    1\n",
      "Name: count, dtype: int64\n",
      "a    2\n",
      "b    1\n",
      "c    1\n",
      "Name: count, dtype: int64\n",
      "group\n",
      "first     3\n",
      "second    1\n",
      "Name: count, dtype: int64\n",
      "group\n",
      "first     3\n",
      "second    1\n",
      "Name: count, dtype: int64\n",
      "group\n",
      "first     3\n",
      "second    1\n",
      "Name: count, dtype: int64\n"
     ]
    }
   ],
   "source": [
    "print(portfolio.positions.count())\n",
    "print(portfolio_grouped.get_positions(group_by=False).count())\n",
    "print(portfolio_shared.get_positions(group_by=False).count())\n",
    "\n",
    "print(portfolio.get_positions(group_by=group_by).count())\n",
    "print(portfolio_grouped.positions.count())\n",
    "print(portfolio_shared.positions.count())"
   ]
  },
  {
   "cell_type": "code",
   "execution_count": 26,
   "metadata": {},
   "outputs": [
    {
     "name": "stdout",
     "output_type": "stream",
     "text": [
      "53.1 ms ± 2.84 ms per loop (mean ± std. dev. of 7 runs, 10 loops each)\n"
     ]
    }
   ],
   "source": [
    "%timeit big_portfolio.positions"
   ]
  },
  {
   "cell_type": "code",
   "execution_count": 27,
   "metadata": {},
   "outputs": [
    {
     "name": "stdout",
     "output_type": "stream",
     "text": [
      "a    1\n",
      "b    1\n",
      "c    1\n",
      "Name: count, dtype: int64\n",
      "a    1\n",
      "b    1\n",
      "c    1\n",
      "Name: count, dtype: int64\n",
      "a    1\n",
      "b    1\n",
      "c    1\n",
      "Name: count, dtype: int64\n",
      "group\n",
      "first     1\n",
      "second    1\n",
      "Name: count, dtype: int64\n",
      "group\n",
      "first     1\n",
      "second    1\n",
      "Name: count, dtype: int64\n",
      "group\n",
      "first     1\n",
      "second    1\n",
      "Name: count, dtype: int64\n"
     ]
    }
   ],
   "source": [
    "print(portfolio.drawdowns.count())\n",
    "print(portfolio_grouped.get_drawdowns(group_by=False).count())\n",
    "print(portfolio_shared.get_drawdowns(group_by=False).count())\n",
    "\n",
    "print(portfolio.get_drawdowns(group_by=group_by).count())\n",
    "print(portfolio_grouped.drawdowns.count())\n",
    "print(portfolio_shared.drawdowns.count())"
   ]
  },
  {
   "cell_type": "code",
   "execution_count": 28,
   "metadata": {},
   "outputs": [
    {
     "name": "stdout",
     "output_type": "stream",
     "text": [
      "58.8 ms ± 1.57 ms per loop (mean ± std. dev. of 7 runs, 10 loops each)\n"
     ]
    }
   ],
   "source": [
    "%timeit big_portfolio.drawdowns"
   ]
  },
  {
   "cell_type": "code",
   "execution_count": 29,
   "metadata": {},
   "outputs": [
    {
     "name": "stdout",
     "output_type": "stream",
     "text": [
      "              a    b    c\n",
      "2020-01-01  NaN  1.0  1.0\n",
      "2020-01-02  2.0  2.0  2.0\n",
      "2020-01-03  3.0  NaN  3.0\n",
      "2020-01-04  4.0  4.0  4.0\n",
      "2020-01-05  5.0  5.0  NaN\n",
      "              a    b    c\n",
      "2020-01-01  NaN  1.0  1.0\n",
      "2020-01-02  2.0  2.0  2.0\n",
      "2020-01-03  3.0  NaN  3.0\n",
      "2020-01-04  4.0  4.0  4.0\n",
      "2020-01-05  5.0  5.0  NaN\n",
      "              a    b    c\n",
      "2020-01-01  NaN  1.0  1.0\n",
      "2020-01-02  2.0  2.0  2.0\n",
      "2020-01-03  3.0  NaN  3.0\n",
      "2020-01-04  4.0  4.0  4.0\n",
      "2020-01-05  5.0  5.0  NaN\n"
     ]
    }
   ],
   "source": [
    "print(portfolio.close)\n",
    "print(portfolio_grouped.close)\n",
    "print(portfolio_shared.close)"
   ]
  },
  {
   "cell_type": "code",
   "execution_count": 30,
   "metadata": {},
   "outputs": [
    {
     "name": "stdout",
     "output_type": "stream",
     "text": [
      "              a    b    c\n",
      "2020-01-01  2.0  1.0  1.0\n",
      "2020-01-02  2.0  2.0  2.0\n",
      "2020-01-03  3.0  2.0  3.0\n",
      "2020-01-04  4.0  4.0  4.0\n",
      "2020-01-05  5.0  5.0  4.0\n"
     ]
    }
   ],
   "source": [
    "print(portfolio.filled_close)"
   ]
  },
  {
   "cell_type": "code",
   "execution_count": 31,
   "metadata": {},
   "outputs": [
    {
     "name": "stdout",
     "output_type": "stream",
     "text": [
      "2.39 ms ± 42.2 µs per loop (mean ± std. dev. of 7 runs, 100 loops each)\n"
     ]
    }
   ],
   "source": [
    "%timeit big_portfolio.filled_close"
   ]
  },
  {
   "cell_type": "code",
   "execution_count": 32,
   "metadata": {},
   "outputs": [
    {
     "name": "stdout",
     "output_type": "stream",
     "text": [
      "              a    b    c\n",
      "2020-01-01  0.0  0.0  1.0\n",
      "2020-01-02  0.1  0.0  0.1\n",
      "2020-01-03 -0.1  0.0 -1.0\n",
      "2020-01-04  0.0  0.0 -0.1\n",
      "2020-01-05  1.0  0.0  0.0\n",
      "              a    b    c\n",
      "2020-01-01  0.0  1.0  0.0\n",
      "2020-01-02  0.0  0.1  0.0\n",
      "2020-01-03  0.0  0.0  0.0\n",
      "2020-01-04  0.0 -0.1  0.0\n",
      "2020-01-05  0.0  1.0  0.0\n",
      "              a    b    c\n",
      "2020-01-01  0.0 -1.0  1.0\n",
      "2020-01-02  0.1 -0.1  0.1\n",
      "2020-01-03 -0.1  0.0 -1.0\n",
      "2020-01-04  0.0  0.1 -0.1\n",
      "2020-01-05  1.0 -1.0  0.0\n",
      "              a    b    c\n",
      "2020-01-01  0.0 -1.0  1.0\n",
      "2020-01-02  0.1 -0.1  0.1\n",
      "2020-01-03 -0.1  0.0 -1.0\n",
      "2020-01-04  0.0  0.1 -0.1\n",
      "2020-01-05  1.0 -1.0  0.0\n",
      "              a    b    c\n",
      "2020-01-01  0.0 -1.0  1.0\n",
      "2020-01-02  0.1 -0.1  0.1\n",
      "2020-01-03 -0.1  0.0 -1.0\n",
      "2020-01-04  0.0  0.1 -0.1\n",
      "2020-01-05  1.0 -1.0  0.0\n"
     ]
    }
   ],
   "source": [
    "print(portfolio.get_asset_flow(direction='longonly'))\n",
    "print(portfolio.get_asset_flow(direction='shortonly'))\n",
    "\n",
    "print(portfolio.get_asset_flow())\n",
    "print(portfolio_grouped.get_asset_flow())\n",
    "print(portfolio_shared.get_asset_flow())"
   ]
  },
  {
   "cell_type": "code",
   "execution_count": 33,
   "metadata": {},
   "outputs": [
    {
     "name": "stdout",
     "output_type": "stream",
     "text": [
      "15.5 ms ± 40.1 µs per loop (mean ± std. dev. of 7 runs, 100 loops each)\n",
      "13.9 ms ± 64.3 µs per loop (mean ± std. dev. of 7 runs, 1 loop each)\n",
      "16.3 ms ± 24.9 µs per loop (mean ± std. dev. of 7 runs, 100 loops each)\n",
      "16.6 ms ± 42.7 µs per loop (mean ± std. dev. of 7 runs, 100 loops each)\n"
     ]
    }
   ],
   "source": [
    "%timeit big_portfolio.get_asset_flow(jitted=dict(parallel=False))\n",
    "%timeit big_portfolio.get_asset_flow(jitted=dict(parallel=True))\n",
    "\n",
    "%timeit big_portfolio_grouped.get_asset_flow()\n",
    "%timeit big_portfolio_shared.get_asset_flow()"
   ]
  },
  {
   "cell_type": "code",
   "execution_count": 34,
   "metadata": {},
   "outputs": [
    {
     "name": "stdout",
     "output_type": "stream",
     "text": [
      "              a    b    c\n",
      "2020-01-01  0.0  0.0  1.0\n",
      "2020-01-02  0.1  0.0  1.1\n",
      "2020-01-03  0.0  0.0  0.1\n",
      "2020-01-04  0.0  0.0  0.0\n",
      "2020-01-05  1.0  0.0  0.0\n",
      "              a    b    c\n",
      "2020-01-01  0.0  1.0  0.0\n",
      "2020-01-02  0.0  1.1  0.0\n",
      "2020-01-03  0.0  1.1  0.0\n",
      "2020-01-04  0.0  1.0  0.0\n",
      "2020-01-05  0.0  2.0  0.0\n",
      "              a    b    c\n",
      "2020-01-01  0.0 -1.0  1.0\n",
      "2020-01-02  0.1 -1.1  1.1\n",
      "2020-01-03  0.0 -1.1  0.1\n",
      "2020-01-04  0.0 -1.0  0.0\n",
      "2020-01-05  1.0 -2.0  0.0\n",
      "              a    b    c\n",
      "2020-01-01  0.0 -1.0  1.0\n",
      "2020-01-02  0.1 -1.1  1.1\n",
      "2020-01-03  0.0 -1.1  0.1\n",
      "2020-01-04  0.0 -1.0  0.0\n",
      "2020-01-05  1.0 -2.0  0.0\n",
      "              a    b    c\n",
      "2020-01-01  0.0 -1.0  1.0\n",
      "2020-01-02  0.1 -1.1  1.1\n",
      "2020-01-03  0.0 -1.1  0.1\n",
      "2020-01-04  0.0 -1.0  0.0\n",
      "2020-01-05  1.0 -2.0  0.0\n"
     ]
    }
   ],
   "source": [
    "print(portfolio.get_assets(direction='longonly'))\n",
    "print(portfolio.get_assets(direction='shortonly'))\n",
    "\n",
    "print(portfolio.get_assets())\n",
    "print(portfolio_grouped.get_assets())\n",
    "print(portfolio_shared.get_assets())"
   ]
  },
  {
   "cell_type": "code",
   "execution_count": 35,
   "metadata": {},
   "outputs": [
    {
     "name": "stdout",
     "output_type": "stream",
     "text": [
      "20.7 ms ± 84.9 µs per loop (mean ± std. dev. of 7 runs, 10 loops each)\n",
      "21.3 ms ± 352 µs per loop (mean ± std. dev. of 7 runs, 1 loop each)\n",
      "21.7 ms ± 53.4 µs per loop (mean ± std. dev. of 7 runs, 10 loops each)\n",
      "22.1 ms ± 125 µs per loop (mean ± std. dev. of 7 runs, 10 loops each)\n"
     ]
    }
   ],
   "source": [
    "%timeit big_portfolio.get_assets(jitted=dict(parallel=False))\n",
    "%timeit big_portfolio.get_assets(jitted=dict(parallel=True))\n",
    "\n",
    "%timeit big_portfolio_grouped.get_assets()\n",
    "%timeit big_portfolio_shared.get_assets()"
   ]
  },
  {
   "cell_type": "code",
   "execution_count": 36,
   "metadata": {},
   "outputs": [
    {
     "name": "stdout",
     "output_type": "stream",
     "text": [
      "                a      b      c\n",
      "2020-01-01  False  False   True\n",
      "2020-01-02   True  False   True\n",
      "2020-01-03  False  False   True\n",
      "2020-01-04  False  False  False\n",
      "2020-01-05   True  False  False\n",
      "                a     b      c\n",
      "2020-01-01  False  True  False\n",
      "2020-01-02  False  True  False\n",
      "2020-01-03  False  True  False\n",
      "2020-01-04  False  True  False\n",
      "2020-01-05  False  True  False\n",
      "                a     b      c\n",
      "2020-01-01  False  True   True\n",
      "2020-01-02   True  True   True\n",
      "2020-01-03  False  True   True\n",
      "2020-01-04  False  True  False\n",
      "2020-01-05   True  True  False\n",
      "                a     b      c\n",
      "2020-01-01  False  True   True\n",
      "2020-01-02   True  True   True\n",
      "2020-01-03  False  True   True\n",
      "2020-01-04  False  True  False\n",
      "2020-01-05   True  True  False\n",
      "                a     b      c\n",
      "2020-01-01  False  True   True\n",
      "2020-01-02   True  True   True\n",
      "2020-01-03  False  True   True\n",
      "2020-01-04  False  True  False\n",
      "2020-01-05   True  True  False\n",
      "group       first  second\n",
      "2020-01-01   True    True\n",
      "2020-01-02   True    True\n",
      "2020-01-03   True    True\n",
      "2020-01-04   True   False\n",
      "2020-01-05   True   False\n",
      "group       first  second\n",
      "2020-01-01   True    True\n",
      "2020-01-02   True    True\n",
      "2020-01-03   True    True\n",
      "2020-01-04   True   False\n",
      "2020-01-05   True   False\n",
      "group       first  second\n",
      "2020-01-01   True    True\n",
      "2020-01-02   True    True\n",
      "2020-01-03   True    True\n",
      "2020-01-04   True   False\n",
      "2020-01-05   True   False\n"
     ]
    }
   ],
   "source": [
    "print(portfolio.get_position_mask(direction='longonly'))\n",
    "print(portfolio.get_position_mask(direction='shortonly'))\n",
    "\n",
    "print(portfolio.get_position_mask())\n",
    "print(portfolio_grouped.get_position_mask(group_by=False))\n",
    "print(portfolio_shared.get_position_mask(group_by=False))\n",
    "\n",
    "print(portfolio.get_position_mask(group_by=group_by))\n",
    "print(portfolio_grouped.get_position_mask())\n",
    "print(portfolio_shared.get_position_mask())"
   ]
  },
  {
   "cell_type": "code",
   "execution_count": 37,
   "metadata": {},
   "outputs": [
    {
     "name": "stdout",
     "output_type": "stream",
     "text": [
      "21.3 ms ± 199 µs per loop (mean ± std. dev. of 7 runs, 10 loops each)\n",
      "22.2 ms ± 200 µs per loop (mean ± std. dev. of 7 runs, 10 loops each)\n",
      "22.5 ms ± 97.8 µs per loop (mean ± std. dev. of 7 runs, 10 loops each)\n",
      "27 ms ± 218 µs per loop (mean ± std. dev. of 7 runs, 10 loops each)\n",
      "27.7 ms ± 148 µs per loop (mean ± std. dev. of 7 runs, 10 loops each)\n",
      "27.8 ms ± 199 µs per loop (mean ± std. dev. of 7 runs, 10 loops each)\n"
     ]
    }
   ],
   "source": [
    "%timeit big_portfolio.get_position_mask()\n",
    "%timeit big_portfolio_grouped.get_position_mask(group_by=False)\n",
    "%timeit big_portfolio_shared.get_position_mask(group_by=False)\n",
    "\n",
    "%timeit big_portfolio.get_position_mask(group_by=big_group_by)\n",
    "%timeit big_portfolio_grouped.get_position_mask()\n",
    "%timeit big_portfolio_shared.get_position_mask()"
   ]
  },
  {
   "cell_type": "code",
   "execution_count": 38,
   "metadata": {},
   "outputs": [
    {
     "name": "stdout",
     "output_type": "stream",
     "text": [
      "a    0.4\n",
      "b    0.0\n",
      "c    0.6\n",
      "Name: position_coverage, dtype: float64\n",
      "a    0.0\n",
      "b    1.0\n",
      "c    0.0\n",
      "Name: position_coverage, dtype: float64\n",
      "a    0.4\n",
      "b    1.0\n",
      "c    0.6\n",
      "Name: position_coverage, dtype: float64\n",
      "a    0.4\n",
      "b    1.0\n",
      "c    0.6\n",
      "Name: position_coverage, dtype: float64\n",
      "a    0.4\n",
      "b    1.0\n",
      "c    0.6\n",
      "Name: position_coverage, dtype: float64\n",
      "group\n",
      "first     0.7\n",
      "second    0.6\n",
      "Name: position_coverage, dtype: float64\n",
      "group\n",
      "first     0.7\n",
      "second    0.6\n",
      "Name: position_coverage, dtype: float64\n",
      "group\n",
      "first     0.7\n",
      "second    0.6\n",
      "Name: position_coverage, dtype: float64\n"
     ]
    }
   ],
   "source": [
    "print(portfolio.get_position_coverage(direction='longonly'))\n",
    "print(portfolio.get_position_coverage(direction='shortonly'))\n",
    "\n",
    "print(portfolio.get_position_coverage())\n",
    "print(portfolio_grouped.get_position_coverage(group_by=False))\n",
    "print(portfolio_shared.get_position_coverage(group_by=False))\n",
    "\n",
    "print(portfolio.get_position_coverage(group_by=group_by))\n",
    "print(portfolio_grouped.get_position_coverage())\n",
    "print(portfolio_shared.get_position_coverage())"
   ]
  },
  {
   "cell_type": "code",
   "execution_count": 39,
   "metadata": {},
   "outputs": [
    {
     "name": "stdout",
     "output_type": "stream",
     "text": [
      "24.3 ms ± 146 µs per loop (mean ± std. dev. of 7 runs, 10 loops each)\n",
      "26.2 ms ± 62.5 µs per loop (mean ± std. dev. of 7 runs, 10 loops each)\n",
      "26.5 ms ± 79.2 µs per loop (mean ± std. dev. of 7 runs, 10 loops each)\n",
      "27.6 ms ± 213 µs per loop (mean ± std. dev. of 7 runs, 10 loops each)\n",
      "28 ms ± 302 µs per loop (mean ± std. dev. of 7 runs, 10 loops each)\n",
      "28.4 ms ± 136 µs per loop (mean ± std. dev. of 7 runs, 10 loops each)\n"
     ]
    }
   ],
   "source": [
    "%timeit big_portfolio.get_position_coverage()\n",
    "%timeit big_portfolio_grouped.get_position_coverage(group_by=False)\n",
    "%timeit big_portfolio_shared.get_position_coverage(group_by=False)\n",
    "\n",
    "%timeit big_portfolio.get_position_coverage(group_by=big_group_by)\n",
    "%timeit big_portfolio_grouped.get_position_coverage()\n",
    "%timeit big_portfolio_shared.get_position_coverage()"
   ]
  },
  {
   "cell_type": "code",
   "execution_count": 40,
   "metadata": {},
   "outputs": [
    {
     "name": "stdout",
     "output_type": "stream",
     "text": [
      "                  a        b        c\n",
      "2020-01-01  0.00000 -1.09990 -1.12010\n",
      "2020-01-02 -0.30402 -0.29998 -0.30402\n",
      "2020-01-03  0.19403  0.00000  2.84030\n",
      "2020-01-04  0.00000 -0.29204  0.29204\n",
      "2020-01-05 -5.20050 -5.09950  0.00000\n",
      "                  a        b        c\n",
      "2020-01-01  0.00000  0.88010 -1.12010\n",
      "2020-01-02 -0.30402  0.09602 -0.30402\n",
      "2020-01-03  0.19403  0.00000  2.84030\n",
      "2020-01-04  0.00000 -0.50804  0.29204\n",
      "2020-01-05 -5.20050  4.80050  0.00000\n",
      "                  a        b        c\n",
      "2020-01-01  0.00000  0.88010 -1.12010\n",
      "2020-01-02 -0.30402  0.09602 -0.30402\n",
      "2020-01-03  0.19403  0.00000  2.84030\n",
      "2020-01-04  0.00000 -0.50804  0.29204\n",
      "2020-01-05 -5.20050  4.80050  0.00000\n",
      "                  a        b        c\n",
      "2020-01-01  0.00000  0.88010 -1.12010\n",
      "2020-01-02 -0.30402  0.09602 -0.30402\n",
      "2020-01-03  0.19403  0.00000  2.84030\n",
      "2020-01-04  0.00000 -0.50804  0.29204\n",
      "2020-01-05 -5.20050  4.80050  0.00000\n",
      "group         first   second\n",
      "2020-01-01  0.88010 -1.12010\n",
      "2020-01-02 -0.20800 -0.30402\n",
      "2020-01-03  0.19403  2.84030\n",
      "2020-01-04 -0.50804  0.29204\n",
      "2020-01-05 -0.40000  0.00000\n",
      "group         first   second\n",
      "2020-01-01  0.88010 -1.12010\n",
      "2020-01-02 -0.20800 -0.30402\n",
      "2020-01-03  0.19403  2.84030\n",
      "2020-01-04 -0.50804  0.29204\n",
      "2020-01-05 -0.40000  0.00000\n",
      "group         first   second\n",
      "2020-01-01  0.88010 -1.12010\n",
      "2020-01-02 -0.20800 -0.30402\n",
      "2020-01-03  0.19403  2.84030\n",
      "2020-01-04 -0.50804  0.29204\n",
      "2020-01-05 -0.40000  0.00000\n"
     ]
    }
   ],
   "source": [
    "print(portfolio.get_cash_flow(free=True))\n",
    "print(portfolio.get_cash_flow())\n",
    "print(portfolio_grouped.get_cash_flow(group_by=False))\n",
    "print(portfolio_shared.get_cash_flow(group_by=False))\n",
    "\n",
    "print(portfolio.get_cash_flow(group_by=group_by))\n",
    "print(portfolio_grouped.get_cash_flow())\n",
    "print(portfolio_shared.get_cash_flow())"
   ]
  },
  {
   "cell_type": "code",
   "execution_count": 41,
   "metadata": {},
   "outputs": [
    {
     "name": "stdout",
     "output_type": "stream",
     "text": [
      "16.6 ms ± 49.2 µs per loop (mean ± std. dev. of 7 runs, 100 loops each)\n",
      "13.9 ms ± 56.3 µs per loop (mean ± std. dev. of 7 runs, 1 loop each)\n",
      "23.9 ms ± 63.7 µs per loop (mean ± std. dev. of 7 runs, 10 loops each)\n",
      "21.2 ms ± 184 µs per loop (mean ± std. dev. of 7 runs, 10 loops each)\n",
      "17.1 ms ± 30.5 µs per loop (mean ± std. dev. of 7 runs, 100 loops each)\n",
      "17.4 ms ± 43.4 µs per loop (mean ± std. dev. of 7 runs, 100 loops each)\n",
      "20.1 ms ± 122 µs per loop (mean ± std. dev. of 7 runs, 10 loops each)\n",
      "17.4 ms ± 148 µs per loop (mean ± std. dev. of 7 runs, 1 loop each)\n",
      "19.8 ms ± 24.6 µs per loop (mean ± std. dev. of 7 runs, 100 loops each)\n",
      "20.1 ms ± 148 µs per loop (mean ± std. dev. of 7 runs, 10 loops each)\n"
     ]
    }
   ],
   "source": [
    "%timeit big_portfolio.get_cash_flow(jitted=dict(parallel=False))\n",
    "%timeit big_portfolio.get_cash_flow(jitted=dict(parallel=True))\n",
    "%timeit big_portfolio.get_cash_flow(free=True, jitted=dict(parallel=False))\n",
    "%timeit big_portfolio.get_cash_flow(free=True, jitted=dict(parallel=True))\n",
    "%timeit big_portfolio_grouped.get_cash_flow(group_by=False)\n",
    "%timeit big_portfolio_shared.get_cash_flow(group_by=False)\n",
    "\n",
    "%timeit big_portfolio.get_cash_flow(group_by=big_group_by, jitted=dict(parallel=False))\n",
    "%timeit big_portfolio.get_cash_flow(group_by=big_group_by, jitted=dict(parallel=True))\n",
    "%timeit big_portfolio_grouped.get_cash_flow()\n",
    "%timeit big_portfolio_shared.get_cash_flow()"
   ]
  },
  {
   "cell_type": "code",
   "execution_count": 42,
   "metadata": {},
   "outputs": [
    {
     "name": "stdout",
     "output_type": "stream",
     "text": [
      "a    100.0\n",
      "b    100.0\n",
      "c    100.0\n",
      "Name: init_cash, dtype: float64\n",
      "a    100.0\n",
      "b    100.0\n",
      "c    100.0\n",
      "Name: init_cash, dtype: float64\n",
      "a    200.0\n",
      "b    200.0\n",
      "c    100.0\n",
      "Name: init_cash, dtype: float64\n",
      "group\n",
      "first     200.0\n",
      "second    100.0\n",
      "Name: init_cash, dtype: float64\n",
      "group\n",
      "first     200.0\n",
      "second    100.0\n",
      "Name: init_cash, dtype: float64\n",
      "group\n",
      "first     200.0\n",
      "second    100.0\n",
      "Name: init_cash, dtype: float64\n"
     ]
    }
   ],
   "source": [
    "print(portfolio.get_init_cash())\n",
    "print(portfolio_grouped.get_init_cash(group_by=False))\n",
    "print(portfolio_shared.get_init_cash(group_by=False))\n",
    "\n",
    "print(portfolio.get_init_cash(group_by=group_by))\n",
    "print(portfolio_grouped.get_init_cash())\n",
    "print(portfolio_shared.get_init_cash())"
   ]
  },
  {
   "cell_type": "code",
   "execution_count": 43,
   "metadata": {},
   "outputs": [
    {
     "name": "stdout",
     "output_type": "stream",
     "text": [
      "189 µs ± 360 ns per loop (mean ± std. dev. of 7 runs, 10000 loops each)\n",
      "741 µs ± 2.57 µs per loop (mean ± std. dev. of 7 runs, 1000 loops each)\n",
      "742 µs ± 1.14 µs per loop (mean ± std. dev. of 7 runs, 1000 loops each)\n",
      "1.41 ms ± 2.82 µs per loop (mean ± std. dev. of 7 runs, 1000 loops each)\n",
      "1.41 ms ± 2.52 µs per loop (mean ± std. dev. of 7 runs, 1000 loops each)\n",
      "1.08 ms ± 1.22 µs per loop (mean ± std. dev. of 7 runs, 1000 loops each)\n",
      "1.12 ms ± 32.1 µs per loop (mean ± std. dev. of 7 runs, 1000 loops each)\n"
     ]
    }
   ],
   "source": [
    "%timeit big_portfolio.get_init_cash()\n",
    "%timeit big_portfolio_grouped.get_init_cash(group_by=False)\n",
    "%timeit big_portfolio_shared.get_init_cash(group_by=False)\n",
    "\n",
    "%timeit big_portfolio.get_init_cash(group_by=big_group_by, jitted=dict(parallel=False))\n",
    "%timeit big_portfolio.get_init_cash(group_by=big_group_by, jitted=dict(parallel=True))\n",
    "%timeit big_portfolio_grouped.get_init_cash()\n",
    "%timeit big_portfolio_shared.get_init_cash()"
   ]
  },
  {
   "cell_type": "code",
   "execution_count": 49,
   "metadata": {},
   "outputs": [
    {
     "name": "stdout",
     "output_type": "stream",
     "text": [
      "a    0.0\n",
      "b    0.0\n",
      "c    0.0\n",
      "Name: init_position_value, dtype: float64\n",
      "a    0.0\n",
      "b    0.0\n",
      "c    0.0\n",
      "Name: init_position_value, dtype: float64\n",
      "a    0.0\n",
      "b    0.0\n",
      "c    0.0\n",
      "Name: init_position_value, dtype: float64\n"
     ]
    }
   ],
   "source": [
    "print(portfolio.get_init_position_value())\n",
    "print(portfolio_grouped.get_init_position_value())\n",
    "print(portfolio_shared.get_init_position_value())"
   ]
  },
  {
   "cell_type": "code",
   "execution_count": 50,
   "metadata": {},
   "outputs": [
    {
     "name": "stdout",
     "output_type": "stream",
     "text": [
      "2.7 ms ± 253 µs per loop (mean ± std. dev. of 7 runs, 100 loops each)\n",
      "3.49 ms ± 76 µs per loop (mean ± std. dev. of 7 runs, 100 loops each)\n",
      "3.45 ms ± 54.1 µs per loop (mean ± std. dev. of 7 runs, 100 loops each)\n"
     ]
    }
   ],
   "source": [
    "%timeit big_portfolio.get_init_position_value()\n",
    "%timeit big_portfolio_grouped.get_init_position_value()\n",
    "%timeit big_portfolio_shared.get_init_position_value()"
   ]
  },
  {
   "cell_type": "code",
   "execution_count": 44,
   "metadata": {},
   "outputs": [
    {
     "name": "stdout",
     "output_type": "stream",
     "text": [
      "a    100.0\n",
      "b    100.0\n",
      "c    100.0\n",
      "Name: init_value, dtype: float64\n",
      "a    100.0\n",
      "b    100.0\n",
      "c    100.0\n",
      "Name: init_value, dtype: float64\n",
      "a    200.0\n",
      "b    200.0\n",
      "c    100.0\n",
      "Name: init_value, dtype: float64\n",
      "group\n",
      "first     200.0\n",
      "second    100.0\n",
      "Name: init_value, dtype: float64\n",
      "group\n",
      "first     200.0\n",
      "second    100.0\n",
      "Name: init_value, dtype: float64\n",
      "group\n",
      "first     200.0\n",
      "second    100.0\n",
      "Name: init_value, dtype: float64\n"
     ]
    }
   ],
   "source": [
    "print(portfolio.get_init_value())\n",
    "print(portfolio_grouped.get_init_value(group_by=False))\n",
    "print(portfolio_shared.get_init_value(group_by=False))\n",
    "\n",
    "print(portfolio.get_init_value(group_by=group_by))\n",
    "print(portfolio_grouped.get_init_value())\n",
    "print(portfolio_shared.get_init_value())"
   ]
  },
  {
   "cell_type": "code",
   "execution_count": 45,
   "metadata": {},
   "outputs": [
    {
     "name": "stdout",
     "output_type": "stream",
     "text": [
      "3.02 ms ± 5.57 µs per loop (mean ± std. dev. of 7 runs, 100 loops each)\n",
      "4.69 ms ± 14 µs per loop (mean ± std. dev. of 7 runs, 100 loops each)\n",
      "4.68 ms ± 14.6 µs per loop (mean ± std. dev. of 7 runs, 100 loops each)\n",
      "5.55 ms ± 77.3 µs per loop (mean ± std. dev. of 7 runs, 100 loops each)\n",
      "5.51 ms ± 19 µs per loop (mean ± std. dev. of 7 runs, 100 loops each)\n",
      "5.73 ms ± 14.5 µs per loop (mean ± std. dev. of 7 runs, 100 loops each)\n",
      "5.73 ms ± 26.7 µs per loop (mean ± std. dev. of 7 runs, 100 loops each)\n"
     ]
    }
   ],
   "source": [
    "%timeit big_portfolio.get_init_value()\n",
    "%timeit big_portfolio_grouped.get_init_value(group_by=False)\n",
    "%timeit big_portfolio_shared.get_init_value(group_by=False)\n",
    "\n",
    "%timeit big_portfolio.get_init_value(group_by=big_group_by, jitted=dict(parallel=False))\n",
    "%timeit big_portfolio.get_init_value(group_by=big_group_by, jitted=dict(parallel=True))\n",
    "%timeit big_portfolio_grouped.get_init_value()\n",
    "%timeit big_portfolio_shared.get_init_value()"
   ]
  },
  {
   "cell_type": "code",
   "execution_count": 57,
   "metadata": {},
   "outputs": [
    {
     "name": "stdout",
     "output_type": "stream",
     "text": [
      "a    14000.0\n",
      "b    12000.0\n",
      "c    10000.0\n",
      "Name: init_cash, dtype: float64\n",
      "group\n",
      "first     26000.0\n",
      "second    10000.0\n",
      "Name: init_cash, dtype: float64\n",
      "group\n",
      "first     26000.0\n",
      "second    10000.0\n",
      "Name: init_cash, dtype: float64\n",
      "a    14000.0\n",
      "b    14000.0\n",
      "c    14000.0\n",
      "Name: init_cash, dtype: float64\n",
      "group\n",
      "first     26000.0\n",
      "second    26000.0\n",
      "Name: init_cash, dtype: float64\n",
      "group\n",
      "first     26000.0\n",
      "second    26000.0\n",
      "Name: init_cash, dtype: float64\n"
     ]
    }
   ],
   "source": [
    "print(vbt.Portfolio.from_orders(\n",
    "    price_na, 1000., init_cash=InitCashMode.Auto, group_by=None).init_cash)\n",
    "\n",
    "print(vbt.Portfolio.from_orders(\n",
    "    price_na, 1000., init_cash=InitCashMode.Auto, group_by=group_by).init_cash)\n",
    "\n",
    "print(vbt.Portfolio.from_orders(\n",
    "    price_na, 1000., init_cash=InitCashMode.Auto, group_by=group_by, cash_sharing=True).init_cash)\n",
    "\n",
    "print(vbt.Portfolio.from_orders(\n",
    "    price_na, 1000., init_cash=InitCashMode.AutoAlign, group_by=None).init_cash)\n",
    "\n",
    "print(vbt.Portfolio.from_orders(\n",
    "    price_na, 1000., init_cash=InitCashMode.AutoAlign, group_by=group_by).init_cash)\n",
    "\n",
    "print(vbt.Portfolio.from_orders(\n",
    "    price_na, 1000., init_cash=InitCashMode.AutoAlign, group_by=group_by, cash_sharing=True).init_cash)"
   ]
  },
  {
   "cell_type": "code",
   "execution_count": 58,
   "metadata": {},
   "outputs": [
    {
     "name": "stdout",
     "output_type": "stream",
     "text": [
      "                    a         b          c\n",
      "2020-01-01  100.00000  98.90010   98.87990\n",
      "2020-01-02   99.69598  98.60012   98.57588\n",
      "2020-01-03   99.89001  98.60012  101.41618\n",
      "2020-01-04   99.89001  98.30808  101.70822\n",
      "2020-01-05   94.68951  93.20858  101.70822\n",
      "                    a          b          c\n",
      "2020-01-01  100.00000  100.88010   98.87990\n",
      "2020-01-02   99.69598  100.97612   98.57588\n",
      "2020-01-03   99.89001  100.97612  101.41618\n",
      "2020-01-04   99.89001  100.46808  101.70822\n",
      "2020-01-05   94.68951  105.26858  101.70822\n",
      "                    a          b          c\n",
      "2020-01-01  100.00000  100.88010   98.87990\n",
      "2020-01-02   99.69598  100.97612   98.57588\n",
      "2020-01-03   99.89001  100.97612  101.41618\n",
      "2020-01-04   99.89001  100.46808  101.70822\n",
      "2020-01-05   94.68951  105.26858  101.70822\n",
      "                    a          b          c\n",
      "2020-01-01  200.00000  200.88010   98.87990\n",
      "2020-01-02  199.69598  200.97612   98.57588\n",
      "2020-01-03  199.89001  200.97612  101.41618\n",
      "2020-01-04  199.89001  200.46808  101.70822\n",
      "2020-01-05  194.68951  205.26858  101.70822\n",
      "group           first     second\n",
      "2020-01-01  200.88010   98.87990\n",
      "2020-01-02  200.67210   98.57588\n",
      "2020-01-03  200.86613  101.41618\n",
      "2020-01-04  200.35809  101.70822\n",
      "2020-01-05  199.95809  101.70822\n",
      "group           first     second\n",
      "2020-01-01  200.88010   98.87990\n",
      "2020-01-02  200.67210   98.57588\n",
      "2020-01-03  200.86613  101.41618\n",
      "2020-01-04  200.35809  101.70822\n",
      "2020-01-05  199.95809  101.70822\n",
      "group           first     second\n",
      "2020-01-01  200.88010   98.87990\n",
      "2020-01-02  200.67210   98.57588\n",
      "2020-01-03  200.86613  101.41618\n",
      "2020-01-04  200.35809  101.70822\n",
      "2020-01-05  199.95809  101.70822\n"
     ]
    }
   ],
   "source": [
    "print(portfolio.get_cash(free=True))\n",
    "print(portfolio.get_cash())\n",
    "print(portfolio_grouped.get_cash(group_by=False))\n",
    "print(portfolio_shared.get_cash(group_by=False))\n",
    "\n",
    "print(portfolio.get_cash(group_by=group_by))\n",
    "print(portfolio_grouped.get_cash())\n",
    "print(portfolio_shared.get_cash())"
   ]
  },
  {
   "cell_type": "code",
   "execution_count": 59,
   "metadata": {},
   "outputs": [
    {
     "name": "stdout",
     "output_type": "stream",
     "text": [
      "26.7 ms ± 282 µs per loop (mean ± std. dev. of 7 runs, 10 loops each)\n",
      "29.2 ms ± 2.51 ms per loop (mean ± std. dev. of 7 runs, 1 loop each)\n",
      "34.3 ms ± 548 µs per loop (mean ± std. dev. of 7 runs, 10 loops each)\n",
      "28.2 ms ± 311 µs per loop (mean ± std. dev. of 7 runs, 10 loops each)\n",
      "36.9 ms ± 301 µs per loop (mean ± std. dev. of 7 runs, 10 loops each)\n",
      "29.8 ms ± 125 µs per loop (mean ± std. dev. of 7 runs, 10 loops each)\n",
      "27.3 ms ± 452 µs per loop (mean ± std. dev. of 7 runs, 1 loop each)\n",
      "29.6 ms ± 257 µs per loop (mean ± std. dev. of 7 runs, 10 loops each)\n",
      "25.9 ms ± 99.4 µs per loop (mean ± std. dev. of 7 runs, 10 loops each)\n"
     ]
    }
   ],
   "source": [
    "%timeit big_portfolio.get_cash(jitted=dict(parallel=False))\n",
    "%timeit big_portfolio.get_cash(jitted=dict(parallel=True))\n",
    "%timeit big_portfolio.get_cash(free=True)\n",
    "%timeit big_portfolio_grouped.get_cash(group_by=False)\n",
    "%timeit big_portfolio_shared.get_cash(group_by=False)\n",
    "\n",
    "%timeit big_portfolio.get_cash(group_by=big_group_by, jitted=dict(parallel=False))\n",
    "%timeit big_portfolio.get_cash(group_by=big_group_by, jitted=dict(parallel=True))\n",
    "%timeit big_portfolio_grouped.get_cash()\n",
    "%timeit big_portfolio_shared.get_cash()"
   ]
  },
  {
   "cell_type": "code",
   "execution_count": 66,
   "metadata": {},
   "outputs": [
    {
     "name": "stdout",
     "output_type": "stream",
     "text": [
      "              a    b    c\n",
      "2020-01-01  0.0  0.0  1.0\n",
      "2020-01-02  0.2  0.0  2.2\n",
      "2020-01-03  0.0  0.0  0.3\n",
      "2020-01-04  0.0  0.0  0.0\n",
      "2020-01-05  5.0  0.0  0.0\n",
      "              a     b    c\n",
      "2020-01-01  0.0   1.0  0.0\n",
      "2020-01-02  0.0   2.2  0.0\n",
      "2020-01-03  0.0   2.2  0.0\n",
      "2020-01-04  0.0   4.0  0.0\n",
      "2020-01-05  0.0  10.0  0.0\n",
      "              a     b    c\n",
      "2020-01-01  0.0  -1.0  1.0\n",
      "2020-01-02  0.2  -2.2  2.2\n",
      "2020-01-03  0.0  -2.2  0.3\n",
      "2020-01-04  0.0  -4.0  0.0\n",
      "2020-01-05  5.0 -10.0  0.0\n",
      "              a     b    c\n",
      "2020-01-01  0.0  -1.0  1.0\n",
      "2020-01-02  0.2  -2.2  2.2\n",
      "2020-01-03  0.0  -2.2  0.3\n",
      "2020-01-04  0.0  -4.0  0.0\n",
      "2020-01-05  5.0 -10.0  0.0\n",
      "              a     b    c\n",
      "2020-01-01  0.0  -1.0  1.0\n",
      "2020-01-02  0.2  -2.2  2.2\n",
      "2020-01-03  0.0  -2.2  0.3\n",
      "2020-01-04  0.0  -4.0  0.0\n",
      "2020-01-05  5.0 -10.0  0.0\n",
      "group       first  second\n",
      "2020-01-01   -1.0     1.0\n",
      "2020-01-02   -2.0     2.2\n",
      "2020-01-03   -2.2     0.3\n",
      "2020-01-04   -4.0     0.0\n",
      "2020-01-05   -5.0     0.0\n",
      "group       first  second\n",
      "2020-01-01   -1.0     1.0\n",
      "2020-01-02   -2.0     2.2\n",
      "2020-01-03   -2.2     0.3\n",
      "2020-01-04   -4.0     0.0\n",
      "2020-01-05   -5.0     0.0\n",
      "group       first  second\n",
      "2020-01-01   -1.0     1.0\n",
      "2020-01-02   -2.0     2.2\n",
      "2020-01-03   -2.2     0.3\n",
      "2020-01-04   -4.0     0.0\n",
      "2020-01-05   -5.0     0.0\n"
     ]
    }
   ],
   "source": [
    "print(portfolio.get_asset_value(direction='longonly'))\n",
    "print(portfolio.get_asset_value(direction='shortonly'))\n",
    "\n",
    "print(portfolio.get_asset_value())\n",
    "print(portfolio_grouped.get_asset_value(group_by=False))\n",
    "print(portfolio_shared.get_asset_value(group_by=False))\n",
    "\n",
    "print(portfolio.get_asset_value(group_by=group_by))\n",
    "print(portfolio_grouped.get_asset_value())\n",
    "print(portfolio_shared.get_asset_value())"
   ]
  },
  {
   "cell_type": "code",
   "execution_count": 67,
   "metadata": {},
   "outputs": [
    {
     "name": "stdout",
     "output_type": "stream",
     "text": [
      "25.1 ms ± 183 µs per loop (mean ± std. dev. of 7 runs, 10 loops each)\n",
      "26.8 ms ± 95.8 µs per loop (mean ± std. dev. of 7 runs, 10 loops each)\n",
      "27.2 ms ± 107 µs per loop (mean ± std. dev. of 7 runs, 10 loops each)\n",
      "28.7 ms ± 185 µs per loop (mean ± std. dev. of 7 runs, 10 loops each)\n",
      "28.6 ms ± 73.3 µs per loop (mean ± std. dev. of 7 runs, 10 loops each)\n",
      "29.8 ms ± 225 µs per loop (mean ± std. dev. of 7 runs, 10 loops each)\n",
      "30.1 ms ± 97.5 µs per loop (mean ± std. dev. of 7 runs, 10 loops each)\n"
     ]
    }
   ],
   "source": [
    "%timeit big_portfolio.get_asset_value()\n",
    "%timeit big_portfolio_grouped.get_asset_value(group_by=False)\n",
    "%timeit big_portfolio_shared.get_asset_value(group_by=False)\n",
    "\n",
    "%timeit big_portfolio.get_asset_value(group_by=big_group_by, jitted=dict(parallel=False))\n",
    "%timeit big_portfolio.get_asset_value(group_by=big_group_by, jitted=dict(parallel=True))\n",
    "%timeit big_portfolio_grouped.get_asset_value()\n",
    "%timeit big_portfolio_shared.get_asset_value()"
   ]
  },
  {
   "cell_type": "code",
   "execution_count": 68,
   "metadata": {},
   "outputs": [
    {
     "name": "stdout",
     "output_type": "stream",
     "text": [
      "                   a    b         c\n",
      "2020-01-01  0.000000  0.0  0.010012\n",
      "2020-01-02  0.002002  0.0  0.021831\n",
      "2020-01-03  0.000000  0.0  0.002949\n",
      "2020-01-04  0.000000  0.0  0.000000\n",
      "2020-01-05  0.050156  0.0  0.000000\n",
      "              a         b    c\n",
      "2020-01-01  0.0  0.010010  0.0\n",
      "2020-01-02  0.0  0.021825  0.0\n",
      "2020-01-03  0.0  0.021825  0.0\n",
      "2020-01-04  0.0  0.039098  0.0\n",
      "2020-01-05  0.0  0.096891  0.0\n",
      "                   a         b         c\n",
      "2020-01-01  0.000000 -0.010214  0.010012\n",
      "2020-01-02  0.002002 -0.022822  0.021831\n",
      "2020-01-03  0.000000 -0.022822  0.002949\n",
      "2020-01-04  0.000000 -0.042414  0.000000\n",
      "2020-01-05  0.050156 -0.120180  0.000000\n",
      "                   a         b         c\n",
      "2020-01-01  0.000000 -0.010214  0.010012\n",
      "2020-01-02  0.002002 -0.022822  0.021831\n",
      "2020-01-03  0.000000 -0.022822  0.002949\n",
      "2020-01-04  0.000000 -0.042414  0.000000\n",
      "2020-01-05  0.050156 -0.120180  0.000000\n",
      "                   a         b         c\n",
      "2020-01-01  0.000000 -0.005053  0.010012\n",
      "2020-01-02  0.001001 -0.011202  0.021831\n",
      "2020-01-03  0.000000 -0.011202  0.002949\n",
      "2020-01-04  0.000000 -0.020586  0.000000\n",
      "2020-01-05  0.025039 -0.054583  0.000000\n",
      "group          first    second\n",
      "2020-01-01 -0.005053  0.010012\n",
      "2020-01-02 -0.010189  0.021831\n",
      "2020-01-03 -0.011208  0.002949\n",
      "2020-01-04 -0.020598  0.000000\n",
      "2020-01-05 -0.027338  0.000000\n",
      "group          first    second\n",
      "2020-01-01 -0.005053  0.010012\n",
      "2020-01-02 -0.010189  0.021831\n",
      "2020-01-03 -0.011208  0.002949\n",
      "2020-01-04 -0.020598  0.000000\n",
      "2020-01-05 -0.027338  0.000000\n",
      "group          first    second\n",
      "2020-01-01 -0.005053  0.010012\n",
      "2020-01-02 -0.010189  0.021831\n",
      "2020-01-03 -0.011208  0.002949\n",
      "2020-01-04 -0.020598  0.000000\n",
      "2020-01-05 -0.027338  0.000000\n"
     ]
    }
   ],
   "source": [
    "print(portfolio.get_gross_exposure(direction='longonly'))\n",
    "print(portfolio.get_gross_exposure(direction='shortonly'))\n",
    "\n",
    "print(portfolio.get_gross_exposure())\n",
    "print(portfolio_grouped.get_gross_exposure(group_by=False))\n",
    "print(portfolio_shared.get_gross_exposure(group_by=False))\n",
    "\n",
    "print(portfolio.get_gross_exposure(group_by=group_by))\n",
    "print(portfolio_grouped.get_gross_exposure())\n",
    "print(portfolio_shared.get_gross_exposure())"
   ]
  },
  {
   "cell_type": "code",
   "execution_count": 69,
   "metadata": {},
   "outputs": [
    {
     "name": "stdout",
     "output_type": "stream",
     "text": [
      "69.6 ms ± 562 µs per loop (mean ± std. dev. of 7 runs, 10 loops each)\n",
      "68.8 ms ± 477 µs per loop (mean ± std. dev. of 7 runs, 1 loop each)\n",
      "73.6 ms ± 349 µs per loop (mean ± std. dev. of 7 runs, 10 loops each)\n",
      "86.5 ms ± 2.83 ms per loop (mean ± std. dev. of 7 runs, 10 loops each)\n",
      "71.8 ms ± 423 µs per loop (mean ± std. dev. of 7 runs, 10 loops each)\n",
      "72.4 ms ± 1.59 ms per loop (mean ± std. dev. of 7 runs, 10 loops each)\n",
      "69.4 ms ± 579 µs per loop (mean ± std. dev. of 7 runs, 10 loops each)\n"
     ]
    }
   ],
   "source": [
    "%timeit big_portfolio.get_gross_exposure(jitted=dict(parallel=False))\n",
    "%timeit big_portfolio.get_gross_exposure(jitted=dict(parallel=True))\n",
    "%timeit big_portfolio_grouped.get_gross_exposure(group_by=False)\n",
    "%timeit big_portfolio_shared.get_gross_exposure(group_by=False)\n",
    "\n",
    "%timeit big_portfolio.get_gross_exposure(group_by=big_group_by)\n",
    "%timeit big_portfolio_grouped.get_gross_exposure()\n",
    "%timeit big_portfolio_shared.get_gross_exposure()"
   ]
  },
  {
   "cell_type": "code",
   "execution_count": 70,
   "metadata": {},
   "outputs": [
    {
     "name": "stdout",
     "output_type": "stream",
     "text": [
      "                   a         b         c\n",
      "2020-01-01  0.000000 -0.010010  0.010012\n",
      "2020-01-02  0.002002 -0.021825  0.021831\n",
      "2020-01-03  0.000000 -0.021825  0.002949\n",
      "2020-01-04  0.000000 -0.039098  0.000000\n",
      "2020-01-05  0.050156 -0.096891  0.000000\n",
      "                   a         b         c\n",
      "2020-01-01  0.000000 -0.010010  0.010012\n",
      "2020-01-02  0.002002 -0.021825  0.021831\n",
      "2020-01-03  0.000000 -0.021825  0.002949\n",
      "2020-01-04  0.000000 -0.039098  0.000000\n",
      "2020-01-05  0.050156 -0.096891  0.000000\n",
      "                   a         b         c\n",
      "2020-01-01  0.000000 -0.005002  0.010012\n",
      "2020-01-02  0.001001 -0.010956  0.021831\n",
      "2020-01-03  0.000000 -0.010956  0.002949\n",
      "2020-01-04  0.000000 -0.019772  0.000000\n",
      "2020-01-05  0.025039 -0.049211  0.000000\n",
      "group          first    second\n",
      "2020-01-01 -0.005002  0.010012\n",
      "2020-01-02 -0.009965  0.021831\n",
      "2020-01-03 -0.010962  0.002949\n",
      "2020-01-04 -0.019783  0.000000\n",
      "2020-01-05 -0.024611  0.000000\n",
      "group          first    second\n",
      "2020-01-01 -0.005002  0.010012\n",
      "2020-01-02 -0.009965  0.021831\n",
      "2020-01-03 -0.010962  0.002949\n",
      "2020-01-04 -0.019783  0.000000\n",
      "2020-01-05 -0.024611  0.000000\n",
      "group          first    second\n",
      "2020-01-01 -0.005002  0.010012\n",
      "2020-01-02 -0.009965  0.021831\n",
      "2020-01-03 -0.010962  0.002949\n",
      "2020-01-04 -0.019783  0.000000\n",
      "2020-01-05 -0.024611  0.000000\n"
     ]
    }
   ],
   "source": [
    "print(portfolio.get_net_exposure())\n",
    "print(portfolio_grouped.get_net_exposure(group_by=False))\n",
    "print(portfolio_shared.get_net_exposure(group_by=False))\n",
    "\n",
    "print(portfolio.get_net_exposure(group_by=group_by))\n",
    "print(portfolio_grouped.get_net_exposure())\n",
    "print(portfolio_shared.get_net_exposure())"
   ]
  },
  {
   "cell_type": "code",
   "execution_count": 71,
   "metadata": {},
   "outputs": [
    {
     "name": "stdout",
     "output_type": "stream",
     "text": [
      "146 ms ± 387 µs per loop (mean ± std. dev. of 7 runs, 10 loops each)\n",
      "153 ms ± 541 µs per loop (mean ± std. dev. of 7 runs, 10 loops each)\n",
      "171 ms ± 843 µs per loop (mean ± std. dev. of 7 runs, 10 loops each)\n",
      "149 ms ± 1.18 ms per loop (mean ± std. dev. of 7 runs, 10 loops each)\n",
      "151 ms ± 380 µs per loop (mean ± std. dev. of 7 runs, 10 loops each)\n",
      "150 ms ± 12.5 ms per loop (mean ± std. dev. of 7 runs, 10 loops each)\n"
     ]
    }
   ],
   "source": [
    "%timeit big_portfolio.get_net_exposure()\n",
    "%timeit big_portfolio_grouped.get_net_exposure(group_by=False)\n",
    "%timeit big_portfolio_shared.get_net_exposure(group_by=False)\n",
    "\n",
    "%timeit big_portfolio.get_net_exposure(group_by=big_group_by)\n",
    "%timeit big_portfolio_grouped.get_net_exposure()\n",
    "%timeit big_portfolio_shared.get_net_exposure()"
   ]
  },
  {
   "cell_type": "code",
   "execution_count": 72,
   "metadata": {},
   "outputs": [
    {
     "name": "stdout",
     "output_type": "stream",
     "text": [
      "                    a         b          c\n",
      "2020-01-01  100.00000  99.88010   99.87990\n",
      "2020-01-02   99.89598  98.77612  100.77588\n",
      "2020-01-03   99.89001  98.77612  101.71618\n",
      "2020-01-04   99.89001  96.46808  101.70822\n",
      "2020-01-05   99.68951  95.26858  101.70822\n",
      "                    a         b          c\n",
      "2020-01-01  100.00000  99.88010   99.87990\n",
      "2020-01-02   99.89598  98.77612  100.77588\n",
      "2020-01-03   99.89001  98.77612  101.71618\n",
      "2020-01-04   99.89001  96.46808  101.70822\n",
      "2020-01-05   99.68951  95.26858  101.70822\n",
      "                    a          b          c\n",
      "2020-01-01  200.00000  199.88010   99.87990\n",
      "2020-01-02  199.89598  198.77612  100.77588\n",
      "2020-01-03  199.89001  198.77612  101.71618\n",
      "2020-01-04  199.89001  196.46808  101.70822\n",
      "2020-01-05  199.68951  195.26858  101.70822\n",
      "group           first     second\n",
      "2020-01-01  199.88010   99.87990\n",
      "2020-01-02  198.67210  100.77588\n",
      "2020-01-03  198.66613  101.71618\n",
      "2020-01-04  196.35809  101.70822\n",
      "2020-01-05  194.95809  101.70822\n",
      "group           first     second\n",
      "2020-01-01  199.88010   99.87990\n",
      "2020-01-02  198.67210  100.77588\n",
      "2020-01-03  198.66613  101.71618\n",
      "2020-01-04  196.35809  101.70822\n",
      "2020-01-05  194.95809  101.70822\n",
      "group           first     second\n",
      "2020-01-01  199.88010   99.87990\n",
      "2020-01-02  198.67210  100.77588\n",
      "2020-01-03  198.66613  101.71618\n",
      "2020-01-04  196.35809  101.70822\n",
      "2020-01-05  194.95809  101.70822\n"
     ]
    }
   ],
   "source": [
    "print(portfolio.get_value())\n",
    "print(portfolio_grouped.get_value(group_by=False))\n",
    "print(portfolio_shared.get_value(group_by=False))\n",
    "\n",
    "print(portfolio.get_value(group_by=group_by))\n",
    "print(portfolio_grouped.get_value())\n",
    "print(portfolio_shared.get_value())"
   ]
  },
  {
   "cell_type": "code",
   "execution_count": 73,
   "metadata": {},
   "outputs": [
    {
     "name": "stdout",
     "output_type": "stream",
     "text": [
      "53.4 ms ± 185 µs per loop (mean ± std. dev. of 7 runs, 10 loops each)\n",
      "56.6 ms ± 190 µs per loop (mean ± std. dev. of 7 runs, 10 loops each)\n",
      "66 ms ± 240 µs per loop (mean ± std. dev. of 7 runs, 10 loops each)\n",
      "62.2 ms ± 2.59 ms per loop (mean ± std. dev. of 7 runs, 10 loops each)\n",
      "64 ms ± 2.58 ms per loop (mean ± std. dev. of 7 runs, 10 loops each)\n",
      "57.9 ms ± 327 µs per loop (mean ± std. dev. of 7 runs, 10 loops each)\n"
     ]
    }
   ],
   "source": [
    "%timeit big_portfolio.get_value()\n",
    "%timeit big_portfolio_grouped.get_value(group_by=False)\n",
    "%timeit big_portfolio_shared.get_value(group_by=False)\n",
    "\n",
    "%timeit big_portfolio.get_value(group_by=big_group_by)\n",
    "%timeit big_portfolio_grouped.get_value()\n",
    "%timeit big_portfolio_shared.get_value()"
   ]
  },
  {
   "cell_type": "code",
   "execution_count": 74,
   "metadata": {},
   "outputs": [
    {
     "name": "stdout",
     "output_type": "stream",
     "text": [
      "a   -0.31049\n",
      "b   -4.73142\n",
      "c    1.70822\n",
      "Name: total_profit, dtype: float64\n",
      "a   -0.31049\n",
      "b   -4.73142\n",
      "c    1.70822\n",
      "Name: total_profit, dtype: float64\n",
      "a   -0.31049\n",
      "b   -4.73142\n",
      "c    1.70822\n",
      "Name: total_profit, dtype: float64\n",
      "group\n",
      "first    -5.04191\n",
      "second    1.70822\n",
      "Name: total_profit, dtype: float64\n",
      "group\n",
      "first    -5.04191\n",
      "second    1.70822\n",
      "Name: total_profit, dtype: float64\n",
      "group\n",
      "first    -5.04191\n",
      "second    1.70822\n",
      "Name: total_profit, dtype: float64\n"
     ]
    }
   ],
   "source": [
    "print(portfolio.get_total_profit())\n",
    "print(portfolio_grouped.get_total_profit(group_by=False))\n",
    "print(portfolio_shared.get_total_profit(group_by=False))\n",
    "\n",
    "print(portfolio.get_total_profit(group_by=group_by))\n",
    "print(portfolio_grouped.get_total_profit())\n",
    "print(portfolio_shared.get_total_profit())"
   ]
  },
  {
   "cell_type": "code",
   "execution_count": 75,
   "metadata": {},
   "outputs": [
    {
     "name": "stdout",
     "output_type": "stream",
     "text": [
      "17.1 ms ± 353 µs per loop (mean ± std. dev. of 7 runs, 1 loop each)\n",
      "15.8 ms ± 405 µs per loop (mean ± std. dev. of 7 runs, 1 loop each)\n",
      "17.9 ms ± 131 µs per loop (mean ± std. dev. of 7 runs, 100 loops each)\n",
      "18.1 ms ± 168 µs per loop (mean ± std. dev. of 7 runs, 100 loops each)\n",
      "18.2 ms ± 22.6 µs per loop (mean ± std. dev. of 7 runs, 100 loops each)\n",
      "17.3 ms ± 11.8 µs per loop (mean ± std. dev. of 7 runs, 100 loops each)\n",
      "18.8 ms ± 152 µs per loop (mean ± std. dev. of 7 runs, 100 loops each)\n",
      "19.3 ms ± 388 µs per loop (mean ± std. dev. of 7 runs, 10 loops each)\n"
     ]
    }
   ],
   "source": [
    "%timeit big_portfolio.get_total_profit(jitted=dict(parallel=False))\n",
    "%timeit big_portfolio.get_total_profit(jitted=dict(parallel=True))\n",
    "%timeit big_portfolio_grouped.get_total_profit(group_by=False)\n",
    "%timeit big_portfolio_shared.get_total_profit(group_by=False)\n",
    "\n",
    "%timeit big_portfolio.get_total_profit(group_by=big_group_by, jitted=dict(parallel=False))\n",
    "%timeit big_portfolio.get_total_profit(group_by=big_group_by, jitted=dict(parallel=True))\n",
    "%timeit big_portfolio_grouped.get_total_profit()\n",
    "%timeit big_portfolio_shared.get_total_profit()"
   ]
  },
  {
   "cell_type": "code",
   "execution_count": 76,
   "metadata": {},
   "outputs": [
    {
     "name": "stdout",
     "output_type": "stream",
     "text": [
      "a     99.68951\n",
      "b     95.26858\n",
      "c    101.70822\n",
      "Name: final_value, dtype: float64\n",
      "a     99.68951\n",
      "b     95.26858\n",
      "c    101.70822\n",
      "Name: final_value, dtype: float64\n",
      "a    199.68951\n",
      "b    195.26858\n",
      "c    101.70822\n",
      "Name: final_value, dtype: float64\n",
      "group\n",
      "first     194.95809\n",
      "second    101.70822\n",
      "Name: final_value, dtype: float64\n",
      "group\n",
      "first     194.95809\n",
      "second    101.70822\n",
      "Name: final_value, dtype: float64\n",
      "group\n",
      "first     194.95809\n",
      "second    101.70822\n",
      "Name: final_value, dtype: float64\n"
     ]
    }
   ],
   "source": [
    "print(portfolio.get_final_value())\n",
    "print(portfolio_grouped.get_final_value(group_by=False))\n",
    "print(portfolio_shared.get_final_value(group_by=False))\n",
    "\n",
    "print(portfolio.get_final_value(group_by=group_by))\n",
    "print(portfolio_grouped.get_final_value())\n",
    "print(portfolio_shared.get_final_value())"
   ]
  },
  {
   "cell_type": "code",
   "execution_count": 77,
   "metadata": {},
   "outputs": [
    {
     "name": "stdout",
     "output_type": "stream",
     "text": [
      "20.3 ms ± 51.2 µs per loop (mean ± std. dev. of 7 runs, 10 loops each)\n",
      "23.8 ms ± 55.2 µs per loop (mean ± std. dev. of 7 runs, 10 loops each)\n",
      "24.1 ms ± 49.1 µs per loop (mean ± std. dev. of 7 runs, 10 loops each)\n",
      "26.8 ms ± 888 µs per loop (mean ± std. dev. of 7 runs, 10 loops each)\n",
      "26.7 ms ± 57.7 µs per loop (mean ± std. dev. of 7 runs, 10 loops each)\n",
      "27 ms ± 114 µs per loop (mean ± std. dev. of 7 runs, 10 loops each)\n"
     ]
    }
   ],
   "source": [
    "%timeit big_portfolio.get_final_value()\n",
    "%timeit big_portfolio_grouped.get_final_value(group_by=False)\n",
    "%timeit big_portfolio_shared.get_final_value(group_by=False)\n",
    "\n",
    "%timeit big_portfolio.get_final_value(group_by=big_group_by)\n",
    "%timeit big_portfolio_grouped.get_final_value()\n",
    "%timeit big_portfolio_shared.get_final_value()"
   ]
  },
  {
   "cell_type": "code",
   "execution_count": 78,
   "metadata": {},
   "outputs": [
    {
     "name": "stdout",
     "output_type": "stream",
     "text": [
      "a   -0.003105\n",
      "b   -0.047314\n",
      "c    0.017082\n",
      "Name: total_return, dtype: float64\n",
      "a   -0.003105\n",
      "b   -0.047314\n",
      "c    0.017082\n",
      "Name: total_return, dtype: float64\n",
      "a   -0.001552\n",
      "b   -0.023657\n",
      "c    0.017082\n",
      "Name: total_return, dtype: float64\n",
      "group\n",
      "first    -0.025210\n",
      "second    0.017082\n",
      "Name: total_return, dtype: float64\n",
      "group\n",
      "first    -0.025210\n",
      "second    0.017082\n",
      "Name: total_return, dtype: float64\n",
      "group\n",
      "first    -0.025210\n",
      "second    0.017082\n",
      "Name: total_return, dtype: float64\n"
     ]
    }
   ],
   "source": [
    "print(portfolio.get_total_return())\n",
    "print(portfolio_grouped.get_total_return(group_by=False))\n",
    "print(portfolio_shared.get_total_return(group_by=False))\n",
    "\n",
    "print(portfolio.get_total_return(group_by=group_by))\n",
    "print(portfolio_grouped.get_total_return())\n",
    "print(portfolio_shared.get_total_return())"
   ]
  },
  {
   "cell_type": "code",
   "execution_count": 79,
   "metadata": {},
   "outputs": [
    {
     "name": "stdout",
     "output_type": "stream",
     "text": [
      "20.4 ms ± 340 µs per loop (mean ± std. dev. of 7 runs, 10 loops each)\n",
      "23.8 ms ± 116 µs per loop (mean ± std. dev. of 7 runs, 10 loops each)\n",
      "24.2 ms ± 87.9 µs per loop (mean ± std. dev. of 7 runs, 10 loops each)\n",
      "26.4 ms ± 154 µs per loop (mean ± std. dev. of 7 runs, 10 loops each)\n",
      "30 ms ± 4.04 ms per loop (mean ± std. dev. of 7 runs, 10 loops each)\n",
      "30.6 ms ± 2.62 ms per loop (mean ± std. dev. of 7 runs, 10 loops each)\n"
     ]
    }
   ],
   "source": [
    "%timeit big_portfolio.get_total_return()\n",
    "%timeit big_portfolio_grouped.get_total_return(group_by=False)\n",
    "%timeit big_portfolio_shared.get_total_return(group_by=False)\n",
    "\n",
    "%timeit big_portfolio.get_total_return(group_by=big_group_by)\n",
    "%timeit big_portfolio_grouped.get_total_return()\n",
    "%timeit big_portfolio_shared.get_total_return()"
   ]
  },
  {
   "cell_type": "code",
   "execution_count": 81,
   "metadata": {},
   "outputs": [
    {
     "name": "stdout",
     "output_type": "stream",
     "text": [
      "                   a         b         c\n",
      "2020-01-01  0.000000 -0.001199 -0.001201\n",
      "2020-01-02 -0.001040 -0.011053  0.008971\n",
      "2020-01-03 -0.000060  0.000000  0.009331\n",
      "2020-01-04  0.000000 -0.023366 -0.000078\n",
      "2020-01-05 -0.002007 -0.012434  0.000000\n",
      "                   a         b         c\n",
      "2020-01-01  0.000000 -0.001199 -0.001201\n",
      "2020-01-02 -0.001040 -0.011053  0.008971\n",
      "2020-01-03 -0.000060  0.000000  0.009331\n",
      "2020-01-04  0.000000 -0.023366 -0.000078\n",
      "2020-01-05 -0.002007 -0.012434  0.000000\n",
      "                   a         b         c\n",
      "2020-01-01  0.000000 -0.000600 -0.001201\n",
      "2020-01-02 -0.000520 -0.005523  0.008971\n",
      "2020-01-03 -0.000030  0.000000  0.009331\n",
      "2020-01-04  0.000000 -0.011611 -0.000078\n",
      "2020-01-05 -0.001003 -0.006105  0.000000\n",
      "group          first    second\n",
      "2020-01-01 -0.000600 -0.001201\n",
      "2020-01-02 -0.006044  0.008971\n",
      "2020-01-03 -0.000030  0.009331\n",
      "2020-01-04 -0.011618 -0.000078\n",
      "2020-01-05 -0.007130  0.000000\n",
      "group          first    second\n",
      "2020-01-01 -0.000600 -0.001201\n",
      "2020-01-02 -0.006044  0.008971\n",
      "2020-01-03 -0.000030  0.009331\n",
      "2020-01-04 -0.011618 -0.000078\n",
      "2020-01-05 -0.007130  0.000000\n",
      "group          first    second\n",
      "2020-01-01 -0.000600 -0.001201\n",
      "2020-01-02 -0.006044  0.008971\n",
      "2020-01-03 -0.000030  0.009331\n",
      "2020-01-04 -0.011618 -0.000078\n",
      "2020-01-05 -0.007130  0.000000\n"
     ]
    }
   ],
   "source": [
    "print(portfolio.get_returns())\n",
    "print(portfolio_grouped.get_returns(group_by=False))\n",
    "print(portfolio_shared.get_returns(group_by=False))\n",
    "\n",
    "print(portfolio.get_returns(group_by=group_by))\n",
    "print(portfolio_grouped.get_returns())\n",
    "print(portfolio_shared.get_returns())"
   ]
  },
  {
   "cell_type": "code",
   "execution_count": 82,
   "metadata": {},
   "outputs": [
    {
     "name": "stdout",
     "output_type": "stream",
     "text": [
      "62.8 ms ± 254 µs per loop (mean ± std. dev. of 7 runs, 10 loops each)\n",
      "62.4 ms ± 278 µs per loop (mean ± std. dev. of 7 runs, 1 loop each)\n",
      "67.6 ms ± 488 µs per loop (mean ± std. dev. of 7 runs, 10 loops each)\n",
      "85 ms ± 509 µs per loop (mean ± std. dev. of 7 runs, 10 loops each)\n",
      "73.5 ms ± 392 µs per loop (mean ± std. dev. of 7 runs, 10 loops each)\n",
      "74.3 ms ± 4.04 ms per loop (mean ± std. dev. of 7 runs, 10 loops each)\n",
      "74.6 ms ± 904 µs per loop (mean ± std. dev. of 7 runs, 10 loops each)\n",
      "79.8 ms ± 12.2 ms per loop (mean ± std. dev. of 7 runs, 10 loops each)\n"
     ]
    }
   ],
   "source": [
    "%timeit big_portfolio.get_returns(jitted=dict(parallel=False))\n",
    "%timeit big_portfolio.get_returns(jitted=dict(parallel=True))\n",
    "%timeit big_portfolio_grouped.get_returns(group_by=False)\n",
    "%timeit big_portfolio_shared.get_returns(group_by=False)\n",
    "\n",
    "%timeit big_portfolio.get_returns(group_by=big_group_by, jitted=dict(parallel=False))\n",
    "%timeit big_portfolio.get_returns(group_by=big_group_by, jitted=dict(parallel=True))\n",
    "%timeit big_portfolio_grouped.get_returns()\n",
    "%timeit big_portfolio_shared.get_returns()"
   ]
  },
  {
   "cell_type": "code",
   "execution_count": 83,
   "metadata": {},
   "outputs": [
    {
     "name": "stdout",
     "output_type": "stream",
     "text": [
      "                  a         b         c\n",
      "2020-01-01  0.00000 -0.119900 -0.120100\n",
      "2020-01-02 -0.52010 -1.103980  0.895980\n",
      "2020-01-03 -0.02985  0.000000  0.427409\n",
      "2020-01-04  0.00000 -1.049109 -0.026533\n",
      "2020-01-05 -0.04010 -0.299875  0.000000\n",
      "                  a         b         c\n",
      "2020-01-01  0.00000 -0.119900 -0.120100\n",
      "2020-01-02 -0.52010 -1.103980  0.895980\n",
      "2020-01-03 -0.02985  0.000000  0.427409\n",
      "2020-01-04  0.00000 -1.049109 -0.026533\n",
      "2020-01-05 -0.04010 -0.299875  0.000000\n",
      "                  a         b         c\n",
      "2020-01-01  0.00000 -0.119900 -0.120100\n",
      "2020-01-02 -0.52010 -1.103980  0.895980\n",
      "2020-01-03 -0.02985  0.000000  0.427409\n",
      "2020-01-04  0.00000 -1.049109 -0.026533\n",
      "2020-01-05 -0.04010 -0.299875  0.000000\n",
      "group          first    second\n",
      "2020-01-01 -0.119900 -0.120100\n",
      "2020-01-02 -1.208000  0.895980\n",
      "2020-01-03 -0.002985  0.427409\n",
      "2020-01-04 -1.049109 -0.026533\n",
      "2020-01-05 -0.350000  0.000000\n",
      "group          first    second\n",
      "2020-01-01 -0.119900 -0.120100\n",
      "2020-01-02 -1.208000  0.895980\n",
      "2020-01-03 -0.002985  0.427409\n",
      "2020-01-04 -1.049109 -0.026533\n",
      "2020-01-05 -0.350000  0.000000\n",
      "group          first    second\n",
      "2020-01-01 -0.119900 -0.120100\n",
      "2020-01-02 -1.208000  0.895980\n",
      "2020-01-03 -0.002985  0.427409\n",
      "2020-01-04 -1.049109 -0.026533\n",
      "2020-01-05 -0.350000  0.000000\n"
     ]
    }
   ],
   "source": [
    "print(portfolio.get_asset_returns())\n",
    "print(portfolio_grouped.get_asset_returns(group_by=False))\n",
    "print(portfolio_shared.get_asset_returns(group_by=False))\n",
    "\n",
    "print(portfolio.get_asset_returns(group_by=group_by))\n",
    "print(portfolio_grouped.get_asset_returns())\n",
    "print(portfolio_shared.get_asset_returns())"
   ]
  },
  {
   "cell_type": "code",
   "execution_count": 84,
   "metadata": {},
   "outputs": [
    {
     "name": "stdout",
     "output_type": "stream",
     "text": [
      "59.4 ms ± 270 µs per loop (mean ± std. dev. of 7 runs, 10 loops each)\n",
      "58.3 ms ± 232 µs per loop (mean ± std. dev. of 7 runs, 1 loop each)\n",
      "63 ms ± 401 µs per loop (mean ± std. dev. of 7 runs, 10 loops each)\n",
      "64.6 ms ± 1.25 ms per loop (mean ± std. dev. of 7 runs, 10 loops each)\n",
      "61 ms ± 805 µs per loop (mean ± std. dev. of 7 runs, 10 loops each)\n",
      "71.9 ms ± 10.9 ms per loop (mean ± std. dev. of 7 runs, 10 loops each)\n",
      "63.1 ms ± 335 µs per loop (mean ± std. dev. of 7 runs, 10 loops each)\n"
     ]
    }
   ],
   "source": [
    "%timeit big_portfolio.get_asset_returns(jitted=dict(parallel=False))\n",
    "%timeit big_portfolio.get_asset_returns(jitted=dict(parallel=True))\n",
    "%timeit big_portfolio_grouped.get_asset_returns(group_by=False)\n",
    "%timeit big_portfolio_shared.get_asset_returns(group_by=False)\n",
    "\n",
    "%timeit big_portfolio.get_asset_returns(group_by=big_group_by)\n",
    "%timeit big_portfolio_grouped.get_asset_returns()\n",
    "%timeit big_portfolio_shared.get_asset_returns()"
   ]
  },
  {
   "cell_type": "code",
   "execution_count": 85,
   "metadata": {},
   "outputs": [
    {
     "name": "stdout",
     "output_type": "stream",
     "text": [
      "                a      b      c\n",
      "2020-01-01  100.0  100.0  100.0\n",
      "2020-01-02  100.0  200.0  200.0\n",
      "2020-01-03  150.0  200.0  300.0\n",
      "2020-01-04  200.0  400.0  400.0\n",
      "2020-01-05  250.0  500.0  400.0\n",
      "                a      b      c\n",
      "2020-01-01  100.0  100.0  100.0\n",
      "2020-01-02  100.0  200.0  200.0\n",
      "2020-01-03  150.0  200.0  300.0\n",
      "2020-01-04  200.0  400.0  400.0\n",
      "2020-01-05  250.0  500.0  400.0\n",
      "                a       b      c\n",
      "2020-01-01  200.0   200.0  100.0\n",
      "2020-01-02  200.0   400.0  200.0\n",
      "2020-01-03  300.0   400.0  300.0\n",
      "2020-01-04  400.0   800.0  400.0\n",
      "2020-01-05  500.0  1000.0  400.0\n",
      "group       first  second\n",
      "2020-01-01  200.0   100.0\n",
      "2020-01-02  300.0   200.0\n",
      "2020-01-03  350.0   300.0\n",
      "2020-01-04  600.0   400.0\n",
      "2020-01-05  750.0   400.0\n",
      "group       first  second\n",
      "2020-01-01  200.0   100.0\n",
      "2020-01-02  300.0   200.0\n",
      "2020-01-03  350.0   300.0\n",
      "2020-01-04  600.0   400.0\n",
      "2020-01-05  750.0   400.0\n",
      "group       first  second\n",
      "2020-01-01  200.0   100.0\n",
      "2020-01-02  300.0   200.0\n",
      "2020-01-03  350.0   300.0\n",
      "2020-01-04  600.0   400.0\n",
      "2020-01-05  750.0   400.0\n"
     ]
    }
   ],
   "source": [
    "print(portfolio.get_market_value())\n",
    "print(portfolio_grouped.get_market_value(group_by=False))\n",
    "print(portfolio_shared.get_market_value(group_by=False))\n",
    "\n",
    "print(portfolio.get_market_value(group_by=group_by))\n",
    "print(portfolio_grouped.get_market_value())\n",
    "print(portfolio_shared.get_market_value())"
   ]
  },
  {
   "cell_type": "code",
   "execution_count": 86,
   "metadata": {},
   "outputs": [
    {
     "name": "stdout",
     "output_type": "stream",
     "text": [
      "8.56 ms ± 243 µs per loop (mean ± std. dev. of 7 runs, 100 loops each)\n",
      "8.93 ms ± 278 µs per loop (mean ± std. dev. of 7 runs, 1 loop each)\n",
      "11.5 ms ± 789 µs per loop (mean ± std. dev. of 7 runs, 100 loops each)\n",
      "21.3 ms ± 1.46 ms per loop (mean ± std. dev. of 7 runs, 10 loops each)\n",
      "12.6 ms ± 106 µs per loop (mean ± std. dev. of 7 runs, 100 loops each)\n",
      "11.7 ms ± 368 µs per loop (mean ± std. dev. of 7 runs, 1 loop each)\n",
      "16 ms ± 1.42 ms per loop (mean ± std. dev. of 7 runs, 100 loops each)\n",
      "23.5 ms ± 1.39 ms per loop (mean ± std. dev. of 7 runs, 10 loops each)\n"
     ]
    }
   ],
   "source": [
    "%timeit big_portfolio.get_market_value(jitted=dict(parallel=False))\n",
    "%timeit big_portfolio.get_market_value(jitted=dict(parallel=True))\n",
    "%timeit big_portfolio_grouped.get_market_value(group_by=False)\n",
    "%timeit big_portfolio_shared.get_market_value(group_by=False)\n",
    "\n",
    "%timeit big_portfolio.get_market_value(group_by=big_group_by, jitted=dict(parallel=False))\n",
    "%timeit big_portfolio.get_market_value(group_by=big_group_by, jitted=dict(parallel=True))\n",
    "%timeit big_portfolio_grouped.get_market_value()\n",
    "%timeit big_portfolio_shared.get_market_value()"
   ]
  },
  {
   "cell_type": "code",
   "execution_count": 104,
   "metadata": {},
   "outputs": [
    {
     "name": "stdout",
     "output_type": "stream",
     "text": [
      "                   a     b         c\n",
      "2020-01-01  0.000000  0.00  0.000000\n",
      "2020-01-02  0.000000  1.00  1.000000\n",
      "2020-01-03  0.500000  0.00  0.500000\n",
      "2020-01-04  0.333333  1.00  0.333333\n",
      "2020-01-05  0.250000  0.25  0.000000\n",
      "                   a     b         c\n",
      "2020-01-01  0.000000  0.00  0.000000\n",
      "2020-01-02  0.000000  1.00  1.000000\n",
      "2020-01-03  0.500000  0.00  0.500000\n",
      "2020-01-04  0.333333  1.00  0.333333\n",
      "2020-01-05  0.250000  0.25  0.000000\n",
      "                   a     b         c\n",
      "2020-01-01  0.000000  0.00  0.000000\n",
      "2020-01-02  0.000000  1.00  1.000000\n",
      "2020-01-03  0.500000  0.00  0.500000\n",
      "2020-01-04  0.333333  1.00  0.333333\n",
      "2020-01-05  0.250000  0.25  0.000000\n",
      "group          first    second\n",
      "2020-01-01  0.000000  0.000000\n",
      "2020-01-02  0.500000  1.000000\n",
      "2020-01-03  0.166667  0.500000\n",
      "2020-01-04  0.714286  0.333333\n",
      "2020-01-05  0.250000  0.000000\n",
      "group          first    second\n",
      "2020-01-01  0.000000  0.000000\n",
      "2020-01-02  0.500000  1.000000\n",
      "2020-01-03  0.166667  0.500000\n",
      "2020-01-04  0.714286  0.333333\n",
      "2020-01-05  0.250000  0.000000\n",
      "group          first    second\n",
      "2020-01-01  0.000000  0.000000\n",
      "2020-01-02  0.500000  1.000000\n",
      "2020-01-03  0.166667  0.500000\n",
      "2020-01-04  0.714286  0.333333\n",
      "2020-01-05  0.250000  0.000000\n"
     ]
    }
   ],
   "source": [
    "print(portfolio.get_market_returns())\n",
    "print(portfolio_grouped.get_market_returns(group_by=False))\n",
    "print(portfolio_shared.get_market_returns(group_by=False))\n",
    "\n",
    "print(portfolio.get_market_returns(group_by=group_by))\n",
    "print(portfolio_grouped.get_market_returns())\n",
    "print(portfolio_shared.get_market_returns())"
   ]
  },
  {
   "cell_type": "code",
   "execution_count": 105,
   "metadata": {},
   "outputs": [
    {
     "name": "stdout",
     "output_type": "stream",
     "text": [
      "18 ms ± 368 µs per loop (mean ± std. dev. of 7 runs, 10 loops each)\n",
      "18.2 ms ± 201 µs per loop (mean ± std. dev. of 7 runs, 100 loops each)\n",
      "22.2 ms ± 282 µs per loop (mean ± std. dev. of 7 runs, 10 loops each)\n",
      "39.4 ms ± 93.6 µs per loop (mean ± std. dev. of 7 runs, 10 loops each)\n",
      "26.3 ms ± 277 µs per loop (mean ± std. dev. of 7 runs, 10 loops each)\n",
      "28 ms ± 233 µs per loop (mean ± std. dev. of 7 runs, 10 loops each)\n",
      "30.9 ms ± 194 µs per loop (mean ± std. dev. of 7 runs, 10 loops each)\n"
     ]
    }
   ],
   "source": [
    "%timeit big_portfolio.get_market_returns(jitted=dict(parallel=False))\n",
    "%timeit big_portfolio.get_market_returns(jitted=dict(parallel=True))\n",
    "%timeit big_portfolio_grouped.get_market_returns(group_by=False)\n",
    "%timeit big_portfolio_shared.get_market_returns(group_by=False)\n",
    "\n",
    "%timeit big_portfolio.get_market_returns(group_by=big_group_by)\n",
    "%timeit big_portfolio_grouped.get_market_returns()\n",
    "%timeit big_portfolio_shared.get_market_returns()"
   ]
  },
  {
   "cell_type": "code",
   "execution_count": 107,
   "metadata": {},
   "outputs": [
    {
     "name": "stdout",
     "output_type": "stream",
     "text": [
      "a    1.5\n",
      "b    4.0\n",
      "c    3.0\n",
      "Name: total_market_return, dtype: float64\n",
      "a    1.5\n",
      "b    4.0\n",
      "c    3.0\n",
      "Name: total_market_return, dtype: float64\n",
      "a    1.5\n",
      "b    4.0\n",
      "c    3.0\n",
      "Name: total_market_return, dtype: float64\n",
      "group\n",
      "first     2.75\n",
      "second    3.00\n",
      "Name: total_market_return, dtype: float64\n",
      "group\n",
      "first     2.75\n",
      "second    3.00\n",
      "Name: total_market_return, dtype: float64\n",
      "group\n",
      "first     2.75\n",
      "second    3.00\n",
      "Name: total_market_return, dtype: float64\n"
     ]
    }
   ],
   "source": [
    "print(portfolio.get_total_market_return())\n",
    "print(portfolio_grouped.get_total_market_return(group_by=False))\n",
    "print(portfolio_shared.get_total_market_return(group_by=False))\n",
    "\n",
    "print(portfolio.get_total_market_return(group_by=group_by))\n",
    "print(portfolio_grouped.get_total_market_return())\n",
    "print(portfolio_shared.get_total_market_return())"
   ]
  },
  {
   "cell_type": "code",
   "execution_count": 108,
   "metadata": {},
   "outputs": [
    {
     "name": "stdout",
     "output_type": "stream",
     "text": [
      "11.7 ms ± 28.6 µs per loop (mean ± std. dev. of 7 runs, 100 loops each)\n",
      "11.7 ms ± 153 µs per loop (mean ± std. dev. of 7 runs, 100 loops each)\n",
      "16.6 ms ± 180 µs per loop (mean ± std. dev. of 7 runs, 100 loops each)\n",
      "25 ms ± 92.1 µs per loop (mean ± std. dev. of 7 runs, 10 loops each)\n",
      "21.1 ms ± 260 µs per loop (mean ± std. dev. of 7 runs, 10 loops each)\n",
      "22.3 ms ± 217 µs per loop (mean ± std. dev. of 7 runs, 10 loops each)\n",
      "28.7 ms ± 250 µs per loop (mean ± std. dev. of 7 runs, 10 loops each)\n"
     ]
    }
   ],
   "source": [
    "%timeit big_portfolio.get_total_market_return(jitted=dict(parallel=False))\n",
    "%timeit big_portfolio.get_total_market_return(jitted=dict(parallel=True))\n",
    "%timeit big_portfolio_grouped.get_total_market_return(group_by=False)\n",
    "%timeit big_portfolio_shared.get_total_market_return(group_by=False)\n",
    "\n",
    "%timeit big_portfolio.get_total_market_return(group_by=big_group_by)\n",
    "%timeit big_portfolio_grouped.get_total_market_return()\n",
    "%timeit big_portfolio_shared.get_total_market_return()"
   ]
  },
  {
   "cell_type": "code",
   "execution_count": 110,
   "metadata": {},
   "outputs": [
    {
     "name": "stdout",
     "output_type": "stream",
     "text": [
      "group          first    second\n",
      "2020-01-01 -0.000599 -0.001201\n",
      "2020-01-02 -0.006639  0.007759\n",
      "2020-01-03 -0.006669  0.017162\n",
      "2020-01-04 -0.018210  0.017082\n",
      "2020-01-05 -0.025210  0.017082\n",
      "                   a         b         c\n",
      "2020-01-01  0.000000 -0.000599 -0.001201\n",
      "2020-01-02 -0.000520 -0.006119  0.007759\n",
      "2020-01-03 -0.000550 -0.006119  0.017162\n",
      "2020-01-04 -0.000550 -0.017660  0.017082\n",
      "2020-01-05 -0.001552 -0.023657  0.017082\n"
     ]
    }
   ],
   "source": [
    "print(portfolio_shared.get_cumulative_returns())\n",
    "print(portfolio_shared.get_cumulative_returns(group_by=False))"
   ]
  },
  {
   "cell_type": "code",
   "execution_count": 111,
   "metadata": {},
   "outputs": [
    {
     "name": "stdout",
     "output_type": "stream",
     "text": [
      "group\n",
      "first    -20.095907\n",
      "second    12.345065\n",
      "Name: sharpe_ratio, dtype: float64\n",
      "group\n",
      "first    -59.622588\n",
      "second   -23.917188\n",
      "Name: sharpe_ratio, dtype: float64\n",
      "group\n",
      "first    -16.697884\n",
      "second    10.257635\n",
      "Name: sharpe_ratio, dtype: float64\n",
      "a   -13.309506\n",
      "b   -19.278625\n",
      "c    12.345065\n",
      "Name: sharpe_ratio, dtype: float64\n"
     ]
    }
   ],
   "source": [
    "print(portfolio_shared.get_sharpe_ratio())\n",
    "print(portfolio_shared.get_sharpe_ratio(risk_free=0.01))\n",
    "print(portfolio_shared.get_sharpe_ratio(year_freq='252D'))\n",
    "print(portfolio_shared.get_sharpe_ratio(group_by=False))"
   ]
  },
  {
   "cell_type": "code",
   "execution_count": 112,
   "metadata": {},
   "outputs": [
    {
     "name": "stdout",
     "output_type": "stream",
     "text": [
      "Start                         2020-01-01 00:00:00\n",
      "End                           2020-01-05 00:00:00\n",
      "Period                            5 days 00:00:00\n",
      "Start Value                                 100.0\n",
      "End Value                                98.88877\n",
      "Total Return [%]                         -1.11123\n",
      "Benchmark Return [%]                   283.333333\n",
      "Max Gross Exposure [%]                   2.059062\n",
      "Total Fees Paid                           0.42223\n",
      "Max Drawdown [%]                         1.645124\n",
      "Max Drawdown Duration             3 days 08:00:00\n",
      "Total Trades                                  2.0\n",
      "Total Closed Trades                      1.333333\n",
      "Total Open Trades                        0.666667\n",
      "Open Trade PnL                          -1.504206\n",
      "Win Rate [%]                            33.333333\n",
      "Best Trade [%]                         -98.380588\n",
      "Worst Trade [%]                       -100.803855\n",
      "Avg Winning Trade [%]                  143.916254\n",
      "Avg Losing Trade [%]                   -221.34646\n",
      "Avg Winning Trade Duration        2 days 12:00:00\n",
      "Avg Losing Trade Duration         2 days 00:00:00\n",
      "Profit Factor                                 inf\n",
      "Expectancy                               0.108273\n",
      "Sharpe Ratio                            -6.751008\n",
      "Calmar Ratio                           649.523633\n",
      "Omega Ratio                                4.7687\n",
      "Sortino Ratio                           31.599761\n",
      "Name: agg_func_mean, dtype: object\n"
     ]
    },
    {
     "name": "stderr",
     "output_type": "stream",
     "text": [
      "/Users/olegpolakow/miniconda3/lib/python3.7/site-packages/ipykernel_launcher.py:1: UserWarning: Object has multiple columns. Aggregating using <function mean at 0x7fd590368e18>. Pass column to select a single column/group.\n",
      "  \"\"\"Entry point for launching an IPython kernel.\n"
     ]
    }
   ],
   "source": [
    "print(portfolio.stats())  # mean statistics"
   ]
  },
  {
   "cell_type": "code",
   "execution_count": 113,
   "metadata": {},
   "outputs": [
    {
     "name": "stdout",
     "output_type": "stream",
     "text": [
      "Start                         2020-01-01 00:00:00\n",
      "End                           2020-01-05 00:00:00\n",
      "Period                            5 days 00:00:00\n",
      "Start Value                                 100.0\n",
      "End Value                                99.68951\n",
      "Total Return [%]                         -0.31049\n",
      "Benchmark Return [%]                        150.0\n",
      "Max Gross Exposure [%]                   5.015573\n",
      "Total Fees Paid                           0.35549\n",
      "Max Drawdown [%]                          0.31049\n",
      "Max Drawdown Duration             4 days 00:00:00\n",
      "Total Trades                                    2\n",
      "Total Closed Trades                             1\n",
      "Total Open Trades                               1\n",
      "Open Trade PnL                            -0.2005\n",
      "Win Rate [%]                                  0.0\n",
      "Best Trade [%]                         -54.450495\n",
      "Worst Trade [%]                        -54.450495\n",
      "Avg Winning Trade [%]                         NaN\n",
      "Avg Losing Trade [%]                   -54.450495\n",
      "Avg Winning Trade Duration                    NaT\n",
      "Avg Losing Trade Duration         1 days 00:00:00\n",
      "Profit Factor                                 0.0\n",
      "Expectancy                               -0.10999\n",
      "Sharpe Ratio                           -13.308045\n",
      "Calmar Ratio                           -65.408686\n",
      "Omega Ratio                                   0.0\n",
      "Sortino Ratio                          -11.738865\n",
      "Name: a, dtype: object\n"
     ]
    }
   ],
   "source": [
    "print(portfolio['a'].stats())"
   ]
  },
  {
   "cell_type": "code",
   "execution_count": 114,
   "metadata": {},
   "outputs": [
    {
     "name": "stdout",
     "output_type": "stream",
     "text": [
      "Start                         2020-01-01 00:00:00\n",
      "End                           2020-01-05 00:00:00\n",
      "Period                            5 days 00:00:00\n",
      "Start Value                                 100.0\n",
      "End Value                                99.68951\n",
      "Total Return [%]                         -0.31049\n",
      "Benchmark Return [%]                        150.0\n",
      "Max Gross Exposure [%]                   5.015573\n",
      "Total Fees Paid                           0.35549\n",
      "Max Drawdown [%]                          0.31049\n",
      "Max Drawdown Duration             4 days 00:00:00\n",
      "Total Trades                                    2\n",
      "Total Closed Trades                             1\n",
      "Total Open Trades                               1\n",
      "Open Trade PnL                            -0.2005\n",
      "Win Rate [%]                                  0.0\n",
      "Best Trade [%]                         -54.450495\n",
      "Worst Trade [%]                        -54.450495\n",
      "Avg Winning Trade [%]                         NaN\n",
      "Avg Losing Trade [%]                   -54.450495\n",
      "Avg Winning Trade Duration                    NaT\n",
      "Avg Losing Trade Duration         1 days 00:00:00\n",
      "Profit Factor                                 0.0\n",
      "Expectancy                               -0.10999\n",
      "Sharpe Ratio                          -227.458628\n",
      "Calmar Ratio                           -65.408686\n",
      "Omega Ratio                                   0.0\n",
      "Sortino Ratio                          -19.104372\n",
      "Name: a, dtype: object\n"
     ]
    }
   ],
   "source": [
    "print(portfolio['a'].stats(settings=dict(required_return=0.1, risk_free=0.01)))  # test kwargs"
   ]
  },
  {
   "cell_type": "code",
   "execution_count": 115,
   "metadata": {},
   "outputs": [
    {
     "name": "stdout",
     "output_type": "stream",
     "text": [
      "Start                         2020-01-01 00:00:00\n",
      "End                           2020-01-05 00:00:00\n",
      "Period                            5 days 00:00:00\n",
      "Start Value                                 100.0\n",
      "End Value                                99.68951\n",
      "Total Return [%]                         -0.31049\n",
      "Benchmark Return [%]                        150.0\n",
      "Max Gross Exposure [%]                   5.015573\n",
      "Total Fees Paid                           0.35549\n",
      "Max Drawdown [%]                          0.31049\n",
      "Max Drawdown Duration             4 days 00:00:00\n",
      "Total Trades                                    2\n",
      "Total Closed Trades                             1\n",
      "Total Open Trades                               1\n",
      "Open Trade PnL                            -0.2005\n",
      "Win Rate [%]                                  0.0\n",
      "Best Trade [%]                          -3.970297\n",
      "Worst Trade [%]                        -54.450495\n",
      "Avg Winning Trade [%]                         NaN\n",
      "Avg Losing Trade [%]                   -29.210396\n",
      "Avg Winning Trade Duration                    NaT\n",
      "Avg Losing Trade Duration         1 days 00:00:00\n",
      "Profit Factor                                 0.0\n",
      "Expectancy                              -0.155245\n",
      "Sharpe Ratio                           -13.308045\n",
      "Calmar Ratio                           -65.408686\n",
      "Omega Ratio                                   0.0\n",
      "Sortino Ratio                          -11.738865\n",
      "Name: a, dtype: object\n"
     ]
    }
   ],
   "source": [
    "print(portfolio['a'].stats(settings=dict(incl_open=True)))  # test incl_open"
   ]
  },
  {
   "cell_type": "code",
   "execution_count": 116,
   "metadata": {},
   "outputs": [
    {
     "data": {
      "text/plain": [
       "Start                         2020-01-01 00:00:00\n",
       "End                           2020-01-05 00:00:00\n",
       "Period                            5 days 00:00:00\n",
       "Start Value                                 200.0\n",
       "End Value                               194.95809\n",
       "Total Return [%]                        -2.520955\n",
       "Benchmark Return [%]                        275.0\n",
       "Max Gross Exposure [%]                  -0.505305\n",
       "Total Fees Paid                           0.82091\n",
       "Max Drawdown [%]                         2.462481\n",
       "Max Drawdown Duration             4 days 00:00:00\n",
       "Total Trades                                    4\n",
       "Total Closed Trades                             2\n",
       "Total Open Trades                               2\n",
       "Open Trade PnL                          -4.512618\n",
       "Win Rate [%]                                  0.0\n",
       "Best Trade [%]                         -54.450495\n",
       "Worst Trade [%]                       -388.242424\n",
       "Avg Winning Trade [%]                         NaN\n",
       "Avg Losing Trade [%]                   -221.34646\n",
       "Avg Winning Trade Duration                    NaT\n",
       "Avg Losing Trade Duration         2 days 00:00:00\n",
       "Profit Factor                                 0.0\n",
       "Expectancy                              -0.264646\n",
       "Sharpe Ratio                           -20.095907\n",
       "Calmar Ratio                           -33.516343\n",
       "Omega Ratio                                   0.0\n",
       "Sortino Ratio                          -14.554512\n",
       "Name: first, dtype: object"
      ]
     },
     "execution_count": 116,
     "metadata": {},
     "output_type": "execute_result"
    }
   ],
   "source": [
    "portfolio_grouped['first'].stats()"
   ]
  },
  {
   "cell_type": "code",
   "execution_count": 117,
   "metadata": {
    "tags": []
   },
   "outputs": [],
   "source": [
    "pd.testing.assert_series_equal(portfolio['c'].stats(), portfolio.stats(column='c'))\n",
    "pd.testing.assert_series_equal(portfolio['c'].stats(), portfolio_grouped.stats(column='c', group_by=False))\n",
    "pd.testing.assert_series_equal(portfolio_grouped['second'].stats(), portfolio_grouped.stats(column='second'))"
   ]
  },
  {
   "cell_type": "code",
   "execution_count": 123,
   "metadata": {},
   "outputs": [],
   "source": [
    "big_portfolio_one = big_portfolio.iloc[0]\n",
    "big_portfolio_grouped_one = big_portfolio_grouped.iloc[0]\n",
    "big_portfolio_shared_one = big_portfolio_shared.iloc[0]"
   ]
  },
  {
   "cell_type": "code",
   "execution_count": 124,
   "metadata": {},
   "outputs": [
    {
     "name": "stdout",
     "output_type": "stream",
     "text": [
      "79.9 ms ± 339 µs per loop (mean ± std. dev. of 7 runs, 10 loops each)\n",
      "118 ms ± 909 µs per loop (mean ± std. dev. of 7 runs, 10 loops each)\n",
      "125 ms ± 299 µs per loop (mean ± std. dev. of 7 runs, 10 loops each)\n",
      "149 ms ± 295 µs per loop (mean ± std. dev. of 7 runs, 10 loops each)\n",
      "133 ms ± 292 µs per loop (mean ± std. dev. of 7 runs, 10 loops each)\n",
      "134 ms ± 205 µs per loop (mean ± std. dev. of 7 runs, 10 loops each)\n"
     ]
    }
   ],
   "source": [
    "# Calculates stats for one column\n",
    "%timeit big_portfolio_one.stats()\n",
    "%timeit big_portfolio_grouped_one.stats(group_by=False, column=0)\n",
    "%timeit big_portfolio_shared_one.stats(group_by=False, column=0)\n",
    "\n",
    "%timeit big_portfolio_one.stats(group_by=np.array([0]))\n",
    "%timeit big_portfolio_grouped_one.stats()\n",
    "%timeit big_portfolio_shared_one.stats()"
   ]
  },
  {
   "cell_type": "code",
   "execution_count": 125,
   "metadata": {},
   "outputs": [
    {
     "name": "stdout",
     "output_type": "stream",
     "text": [
      "37 ms ± 414 µs per loop (mean ± std. dev. of 7 runs, 10 loops each)\n",
      "87.4 ms ± 653 µs per loop (mean ± std. dev. of 7 runs, 10 loops each)\n",
      "89.6 ms ± 207 µs per loop (mean ± std. dev. of 7 runs, 10 loops each)\n",
      "146 ms ± 323 µs per loop (mean ± std. dev. of 7 runs, 10 loops each)\n",
      "49.8 ms ± 496 µs per loop (mean ± std. dev. of 7 runs, 10 loops each)\n",
      "48.7 ms ± 111 µs per loop (mean ± std. dev. of 7 runs, 10 loops each)\n"
     ]
    }
   ],
   "source": [
    "vbt.settings.caching['disable_machinery'] = False\n",
    "%timeit big_portfolio_one.stats()\n",
    "%timeit big_portfolio_grouped_one.stats(group_by=False, column=0)\n",
    "%timeit big_portfolio_shared_one.stats(group_by=False, column=0)\n",
    "\n",
    "%timeit big_portfolio_one.stats(group_by=np.array([0]))\n",
    "%timeit big_portfolio_grouped_one.stats()\n",
    "%timeit big_portfolio_shared_one.stats()\n",
    "vbt.settings.caching['disable_machinery'] = True"
   ]
  },
  {
   "cell_type": "code",
   "execution_count": 120,
   "metadata": {},
   "outputs": [
    {
     "name": "stdout",
     "output_type": "stream",
     "text": [
      "start\n",
      "1.19 ms ± 333 µs per loop (mean ± std. dev. of 7 runs, 10 loops each)\n",
      "end\n",
      "1.03 ms ± 72.1 µs per loop (mean ± std. dev. of 7 runs, 10 loops each)\n",
      "period\n",
      "1.02 ms ± 128 µs per loop (mean ± std. dev. of 7 runs, 10 loops each)\n",
      "start_value\n",
      "1.23 ms ± 27.8 µs per loop (mean ± std. dev. of 7 runs, 10 loops each)\n",
      "end_value\n",
      "3.64 ms ± 242 µs per loop (mean ± std. dev. of 7 runs, 10 loops each)\n",
      "total_return\n",
      "3.49 ms ± 100 µs per loop (mean ± std. dev. of 7 runs, 10 loops each)\n",
      "benchmark_return\n",
      "8.52 ms ± 146 µs per loop (mean ± std. dev. of 7 runs, 10 loops each)\n",
      "max_gross_exposure\n",
      "6.68 ms ± 242 µs per loop (mean ± std. dev. of 7 runs, 10 loops each)\n",
      "total_fees_paid\n",
      "2.51 ms ± 6.76 µs per loop (mean ± std. dev. of 7 runs, 10 loops each)\n",
      "max_dd\n",
      "7.41 ms ± 189 µs per loop (mean ± std. dev. of 7 runs, 10 loops each)\n",
      "max_dd_duration\n",
      "7.5 ms ± 139 µs per loop (mean ± std. dev. of 7 runs, 10 loops each)\n",
      "total_trades\n",
      "3.33 ms ± 32.7 µs per loop (mean ± std. dev. of 7 runs, 10 loops each)\n",
      "total_closed_trades\n",
      "5.53 ms ± 202 µs per loop (mean ± std. dev. of 7 runs, 10 loops each)\n",
      "total_open_trades\n",
      "4.41 ms ± 84.5 µs per loop (mean ± std. dev. of 7 runs, 10 loops each)\n",
      "open_trade_pnl\n",
      "5.16 ms ± 175 µs per loop (mean ± std. dev. of 7 runs, 10 loops each)\n",
      "win_rate\n",
      "5.03 ms ± 121 µs per loop (mean ± std. dev. of 7 runs, 10 loops each)\n",
      "best_trade\n",
      "5.21 ms ± 124 µs per loop (mean ± std. dev. of 7 runs, 10 loops each)\n",
      "worst_trade\n",
      "5.4 ms ± 406 µs per loop (mean ± std. dev. of 7 runs, 10 loops each)\n",
      "avg_winning_trade\n",
      "6.42 ms ± 347 µs per loop (mean ± std. dev. of 7 runs, 10 loops each)\n",
      "avg_losing_trade\n",
      "6.27 ms ± 159 µs per loop (mean ± std. dev. of 7 runs, 10 loops each)\n",
      "avg_winning_trade_duration\n",
      "6.41 ms ± 184 µs per loop (mean ± std. dev. of 7 runs, 10 loops each)\n",
      "avg_losing_trade_duration\n",
      "7.28 ms ± 511 µs per loop (mean ± std. dev. of 7 runs, 10 loops each)\n",
      "profit_factor\n",
      "5.08 ms ± 211 µs per loop (mean ± std. dev. of 7 runs, 10 loops each)\n",
      "expectancy\n",
      "5.08 ms ± 154 µs per loop (mean ± std. dev. of 7 runs, 10 loops each)\n",
      "sharpe_ratio\n",
      "13.5 ms ± 414 µs per loop (mean ± std. dev. of 7 runs, 10 loops each)\n",
      "calmar_ratio\n",
      "13.3 ms ± 295 µs per loop (mean ± std. dev. of 7 runs, 10 loops each)\n",
      "omega_ratio\n",
      "14.1 ms ± 944 µs per loop (mean ± std. dev. of 7 runs, 10 loops each)\n",
      "sortino_ratio\n",
      "13.5 ms ± 320 µs per loop (mean ± std. dev. of 7 runs, 10 loops each)\n"
     ]
    }
   ],
   "source": [
    "for metric in big_portfolio_one.metrics:\n",
    "    print(metric)\n",
    "    %timeit -n 10 big_portfolio_one.stats(metrics=metric)"
   ]
  },
  {
   "cell_type": "code",
   "execution_count": 121,
   "metadata": {},
   "outputs": [
    {
     "name": "stdout",
     "output_type": "stream",
     "text": [
      "start\n",
      "1.2 ms ± 314 µs per loop (mean ± std. dev. of 7 runs, 10 loops each)\n",
      "end\n",
      "1.39 ms ± 89.4 µs per loop (mean ± std. dev. of 7 runs, 10 loops each)\n",
      "period\n",
      "1.5 ms ± 67.5 µs per loop (mean ± std. dev. of 7 runs, 10 loops each)\n",
      "start_value\n",
      "1.99 ms ± 13.3 µs per loop (mean ± std. dev. of 7 runs, 10 loops each)\n",
      "end_value\n",
      "5.02 ms ± 101 µs per loop (mean ± std. dev. of 7 runs, 10 loops each)\n",
      "total_return\n",
      "7.73 ms ± 202 µs per loop (mean ± std. dev. of 7 runs, 10 loops each)\n",
      "benchmark_return\n",
      "15.1 ms ± 260 µs per loop (mean ± std. dev. of 7 runs, 10 loops each)\n",
      "max_gross_exposure\n",
      "21.3 ms ± 171 µs per loop (mean ± std. dev. of 7 runs, 10 loops each)\n",
      "total_fees_paid\n",
      "23 ms ± 232 µs per loop (mean ± std. dev. of 7 runs, 10 loops each)\n",
      "max_dd\n",
      "30.8 ms ± 1.44 ms per loop (mean ± std. dev. of 7 runs, 10 loops each)\n",
      "max_dd_duration\n",
      "32.2 ms ± 1.92 ms per loop (mean ± std. dev. of 7 runs, 10 loops each)\n",
      "total_trades\n",
      "35 ms ± 1.59 ms per loop (mean ± std. dev. of 7 runs, 10 loops each)\n",
      "total_closed_trades\n",
      "36.9 ms ± 304 µs per loop (mean ± std. dev. of 7 runs, 10 loops each)\n",
      "total_open_trades\n",
      "40.4 ms ± 2.27 ms per loop (mean ± std. dev. of 7 runs, 10 loops each)\n",
      "open_trade_pnl\n",
      "40.8 ms ± 224 µs per loop (mean ± std. dev. of 7 runs, 10 loops each)\n",
      "win_rate\n",
      "43 ms ± 197 µs per loop (mean ± std. dev. of 7 runs, 10 loops each)\n",
      "best_trade\n",
      "46.2 ms ± 1.46 ms per loop (mean ± std. dev. of 7 runs, 10 loops each)\n",
      "worst_trade\n",
      "49.7 ms ± 2.9 ms per loop (mean ± std. dev. of 7 runs, 10 loops each)\n",
      "avg_winning_trade\n",
      "52 ms ± 1.82 ms per loop (mean ± std. dev. of 7 runs, 10 loops each)\n",
      "avg_losing_trade\n",
      "54.1 ms ± 293 µs per loop (mean ± std. dev. of 7 runs, 10 loops each)\n",
      "avg_winning_trade_duration\n",
      "57.5 ms ± 239 µs per loop (mean ± std. dev. of 7 runs, 10 loops each)\n",
      "avg_losing_trade_duration\n",
      "61.2 ms ± 387 µs per loop (mean ± std. dev. of 7 runs, 10 loops each)\n",
      "profit_factor\n",
      "63.2 ms ± 285 µs per loop (mean ± std. dev. of 7 runs, 10 loops each)\n",
      "expectancy\n",
      "66.5 ms ± 1.98 ms per loop (mean ± std. dev. of 7 runs, 10 loops each)\n",
      "sharpe_ratio\n",
      "82.5 ms ± 4.57 ms per loop (mean ± std. dev. of 7 runs, 10 loops each)\n",
      "calmar_ratio\n",
      "78.9 ms ± 300 µs per loop (mean ± std. dev. of 7 runs, 10 loops each)\n",
      "omega_ratio\n",
      "80.9 ms ± 2.17 ms per loop (mean ± std. dev. of 7 runs, 10 loops each)\n",
      "sortino_ratio\n",
      "82.2 ms ± 2.25 ms per loop (mean ± std. dev. of 7 runs, 10 loops each)\n"
     ]
    }
   ],
   "source": [
    "metrics = []\n",
    "for metric in big_portfolio_one.metrics:\n",
    "    print(metric)\n",
    "    metrics.append(metric)\n",
    "    %timeit -n 10 big_portfolio_one.stats(metrics=metrics)"
   ]
  },
  {
   "cell_type": "code",
   "execution_count": 126,
   "metadata": {},
   "outputs": [
    {
     "name": "stdout",
     "output_type": "stream",
     "text": [
      "528 ms ± 18.5 ms per loop (mean ± std. dev. of 7 runs, 1 loop each)\n",
      "559 ms ± 3.24 ms per loop (mean ± std. dev. of 7 runs, 1 loop each)\n",
      "631 ms ± 3.23 ms per loop (mean ± std. dev. of 7 runs, 1 loop each)\n",
      "605 ms ± 4.67 ms per loop (mean ± std. dev. of 7 runs, 1 loop each)\n",
      "604 ms ± 5.25 ms per loop (mean ± std. dev. of 7 runs, 1 loop each)\n",
      "601 ms ± 5.45 ms per loop (mean ± std. dev. of 7 runs, 1 loop each)\n"
     ]
    }
   ],
   "source": [
    "# Calculates stats for all columns and selects one, takes advantage of caching (which is disabled here)\n",
    "# Thus some series are re-calculated multiple times, such as records and returns\n",
    "%timeit big_portfolio.stats(column=0)\n",
    "%timeit big_portfolio_grouped.stats(group_by=False, column=0)\n",
    "%timeit big_portfolio_shared.stats(group_by=False, column=0)\n",
    "\n",
    "%timeit big_portfolio.stats(group_by=big_group_by, column=0)\n",
    "%timeit big_portfolio_grouped.stats(column=0)\n",
    "%timeit big_portfolio_shared.stats(column=0)"
   ]
  },
  {
   "cell_type": "code",
   "execution_count": 127,
   "metadata": {},
   "outputs": [
    {
     "name": "stdout",
     "output_type": "stream",
     "text": [
      "195 ms ± 3.21 ms per loop (mean ± std. dev. of 7 runs, 1 loop each)\n",
      "464 ms ± 8.57 ms per loop (mean ± std. dev. of 7 runs, 1 loop each)\n",
      "532 ms ± 17.3 ms per loop (mean ± std. dev. of 7 runs, 1 loop each)\n",
      "565 ms ± 12.6 ms per loop (mean ± std. dev. of 7 runs, 1 loop each)\n",
      "213 ms ± 6.78 ms per loop (mean ± std. dev. of 7 runs, 1 loop each)\n",
      "198 ms ± 1.51 ms per loop (mean ± std. dev. of 7 runs, 1 loop each)\n"
     ]
    }
   ],
   "source": [
    "vbt.settings.caching['disable_machinery'] = False\n",
    "%timeit big_portfolio.stats(column=0)\n",
    "%timeit big_portfolio_grouped.stats(group_by=False, column=0)\n",
    "%timeit big_portfolio_shared.stats(group_by=False, column=0)\n",
    "\n",
    "%timeit big_portfolio.stats(group_by=big_group_by, column=0)\n",
    "%timeit big_portfolio_grouped.stats(column=0)\n",
    "%timeit big_portfolio_shared.stats(column=0)\n",
    "vbt.settings.caching['disable_machinery'] = True"
   ]
  },
  {
   "cell_type": "code",
   "execution_count": 128,
   "metadata": {},
   "outputs": [
    {
     "name": "stdout",
     "output_type": "stream",
     "text": [
      "Start                        2020-01-01 00:00:00\n",
      "End                          2020-01-05 00:00:00\n",
      "Period                           5 days 00:00:00\n",
      "Total Return [%]                        -1.11123\n",
      "Benchmark Return [%]                  283.333333\n",
      "Annualized Return [%]                  42.313666\n",
      "Annualized Volatility [%]               9.984895\n",
      "Max Drawdown [%]                        1.645124\n",
      "Max Drawdown Duration            3 days 08:00:00\n",
      "Sharpe Ratio                           -6.751008\n",
      "Calmar Ratio                          649.523633\n",
      "Omega Ratio                               4.7687\n",
      "Sortino Ratio                          31.599761\n",
      "Skew                                   -0.399797\n",
      "Kurtosis                               -1.202541\n",
      "Tail Ratio                              3.164402\n",
      "Common Sense Ratio                     10.883528\n",
      "Value at Risk                           -0.00799\n",
      "Alpha                                   -0.35365\n",
      "Beta                                   -0.001234\n",
      "Name: agg_func_mean, dtype: object\n"
     ]
    },
    {
     "name": "stderr",
     "output_type": "stream",
     "text": [
      "/Users/olegpolakow/Documents/SourceTree/vectorbt/vectorbt/portfolio/base.py:6695: UserWarning: Object has multiple columns. Aggregating using <function mean at 0x7fd590368e18>. Pass column to select a single column/group.\n",
      "  return getattr(returns_acc, 'stats')(**kwargs)\n"
     ]
    }
   ],
   "source": [
    "print(portfolio.returns_stats())  # mean statistics"
   ]
  },
  {
   "cell_type": "code",
   "execution_count": 129,
   "metadata": {},
   "outputs": [
    {
     "name": "stdout",
     "output_type": "stream",
     "text": [
      "Start                        2020-01-01 00:00:00\n",
      "End                          2020-01-05 00:00:00\n",
      "Period                           5 days 00:00:00\n",
      "Total Return [%]                        -0.31049\n",
      "Benchmark Return [%]                       150.0\n",
      "Annualized Return [%]                 -20.308743\n",
      "Annualized Volatility [%]               1.704408\n",
      "Max Drawdown [%]                         0.31049\n",
      "Max Drawdown Duration            4 days 00:00:00\n",
      "Sharpe Ratio                          -13.308045\n",
      "Calmar Ratio                          -65.408686\n",
      "Omega Ratio                                  0.0\n",
      "Sortino Ratio                         -11.738865\n",
      "Skew                                   -1.219107\n",
      "Kurtosis                                0.122976\n",
      "Tail Ratio                                   0.0\n",
      "Common Sense Ratio                           0.0\n",
      "Value at Risk                          -0.001814\n",
      "Alpha                                  -0.248883\n",
      "Beta                                    0.000749\n",
      "Name: a, dtype: object\n"
     ]
    }
   ],
   "source": [
    "print(portfolio['a'].returns_stats())"
   ]
  },
  {
   "cell_type": "code",
   "execution_count": 130,
   "metadata": {},
   "outputs": [
    {
     "name": "stdout",
     "output_type": "stream",
     "text": [
      "Start                        2020-01-01 00:00:00\n",
      "End                          2020-01-05 00:00:00\n",
      "Period                           5 days 00:00:00\n",
      "Total Return [%]                       -2.520955\n",
      "Benchmark Return [%]                       275.0\n",
      "Annualized Return [%]                 -84.493192\n",
      "Annualized Volatility [%]               9.234269\n",
      "Max Drawdown [%]                        2.462481\n",
      "Max Drawdown Duration            4 days 00:00:00\n",
      "Sharpe Ratio                          -20.095907\n",
      "Calmar Ratio                          -33.516343\n",
      "Omega Ratio                                  0.0\n",
      "Sortino Ratio                         -14.554512\n",
      "Skew                                   -0.254782\n",
      "Kurtosis                               -1.363876\n",
      "Tail Ratio                              0.013427\n",
      "Common Sense Ratio                      0.002082\n",
      "Value at Risk                           -0.01072\n",
      "Alpha                                  -0.053947\n",
      "Beta                                   -0.015121\n",
      "Name: first, dtype: object\n"
     ]
    }
   ],
   "source": [
    "print(portfolio_grouped['first'].returns_stats())"
   ]
  },
  {
   "cell_type": "code",
   "execution_count": 131,
   "metadata": {},
   "outputs": [],
   "source": [
    "pd.testing.assert_series_equal(\n",
    "    portfolio['c'].returns_stats(), \n",
    "    portfolio.returns_stats(column='c'))\n",
    "pd.testing.assert_series_equal(\n",
    "    portfolio['c'].returns_stats(), \n",
    "    portfolio_grouped.returns_stats(column='c', group_by=False))\n",
    "pd.testing.assert_series_equal(\n",
    "    portfolio_grouped['second'].returns_stats(), \n",
    "    portfolio_grouped.returns_stats(column='second'))"
   ]
  },
  {
   "cell_type": "code",
   "execution_count": 132,
   "metadata": {},
   "outputs": [
    {
     "data": {
      "image/svg+xml": [
       "<svg class=\"main-svg\" xmlns=\"http://www.w3.org/2000/svg\" xmlns:xlink=\"http://www.w3.org/1999/xlink\" width=\"750\" height=\"960\" viewBox=\"0 0 750 960\"><rect x=\"0\" y=\"0\" width=\"750\" height=\"960\" style=\"fill: rgb(255, 255, 255); fill-opacity: 1;\"/><defs id=\"defs-5dca68\"><g class=\"clips\"><clipPath id=\"clip5dca68xyplot\" class=\"plotclip\"><rect width=\"625\" height=\"249.6388888888889\"/></clipPath><clipPath id=\"clip5dca68x2y2plot\" class=\"plotclip\"><rect width=\"625\" height=\"249.63888888888883\"/></clipPath><clipPath id=\"clip5dca68x3y3plot\" class=\"plotclip\"><rect width=\"625\" height=\"249.63888888888886\"/></clipPath><clipPath class=\"axesclip\" id=\"clip5dca68x\"><rect x=\"95\" y=\"0\" width=\"625\" height=\"960\"/></clipPath><clipPath class=\"axesclip\" id=\"clip5dca68y\"><rect x=\"0\" y=\"75\" width=\"750\" height=\"249.6388888888889\"/></clipPath><clipPath class=\"axesclip\" id=\"clip5dca68xy\"><rect x=\"95\" y=\"75\" width=\"625\" height=\"249.6388888888889\"/></clipPath><clipPath class=\"axesclip\" id=\"clip5dca68y2\"><rect x=\"0\" y=\"358.68055555555566\" width=\"750\" height=\"249.63888888888883\"/></clipPath><clipPath class=\"axesclip\" id=\"clip5dca68xy2\"><rect x=\"95\" y=\"358.68055555555566\" width=\"625\" height=\"249.63888888888883\"/></clipPath><clipPath class=\"axesclip\" id=\"clip5dca68y3\"><rect x=\"0\" y=\"642.3611111111111\" width=\"750\" height=\"249.63888888888886\"/></clipPath><clipPath class=\"axesclip\" id=\"clip5dca68xy3\"><rect x=\"95\" y=\"642.3611111111111\" width=\"625\" height=\"249.63888888888886\"/></clipPath><clipPath class=\"axesclip\" id=\"clip5dca68x2\"><rect x=\"95\" y=\"0\" width=\"625\" height=\"960\"/></clipPath><clipPath class=\"axesclip\" id=\"clip5dca68x2y\"><rect x=\"95\" y=\"75\" width=\"625\" height=\"249.6388888888889\"/></clipPath><clipPath class=\"axesclip\" id=\"clip5dca68x2y2\"><rect x=\"95\" y=\"358.68055555555566\" width=\"625\" height=\"249.63888888888883\"/></clipPath><clipPath class=\"axesclip\" id=\"clip5dca68x2y3\"><rect x=\"95\" y=\"642.3611111111111\" width=\"625\" height=\"249.63888888888886\"/></clipPath><clipPath class=\"axesclip\" id=\"clip5dca68x3\"><rect x=\"95\" y=\"0\" width=\"625\" height=\"960\"/></clipPath><clipPath class=\"axesclip\" id=\"clip5dca68x3y\"><rect x=\"95\" y=\"75\" width=\"625\" height=\"249.6388888888889\"/></clipPath><clipPath class=\"axesclip\" id=\"clip5dca68x3y2\"><rect x=\"95\" y=\"358.68055555555566\" width=\"625\" height=\"249.63888888888883\"/></clipPath><clipPath class=\"axesclip\" id=\"clip5dca68x3y3\"><rect x=\"95\" y=\"642.3611111111111\" width=\"625\" height=\"249.63888888888886\"/></clipPath></g><g class=\"gradients\"/><g class=\"patterns\"/></defs><g class=\"bglayer\"><rect class=\"bg\" x=\"95\" y=\"75\" width=\"625\" height=\"249.6388888888889\" style=\"fill: rgb(229, 236, 246); fill-opacity: 1; stroke-width: 0;\"/><rect class=\"bg\" x=\"95\" y=\"358.68055555555566\" width=\"625\" height=\"249.63888888888883\" style=\"fill: rgb(229, 236, 246); fill-opacity: 1; stroke-width: 0;\"/><rect class=\"bg\" x=\"95\" y=\"642.3611111111111\" width=\"625\" height=\"249.63888888888886\" style=\"fill: rgb(229, 236, 246); fill-opacity: 1; stroke-width: 0;\"/></g><g class=\"layer-below\"><g class=\"imagelayer\"/><g class=\"shapelayer\"/></g><g class=\"cartesianlayer\"><g class=\"subplot xy\"><g class=\"layer-subplot\"><g class=\"shapelayer\"/><g class=\"imagelayer\"/></g><g class=\"gridlayer\"><g class=\"x\"><path class=\"xgrid crisp\" transform=\"translate(130,0)\" d=\"M0,75v249.6388888888889\" style=\"stroke: rgb(255, 255, 255); stroke-opacity: 1; stroke-width: 1px;\"/><path class=\"xgrid crisp\" transform=\"translate(268.44,0)\" d=\"M0,75v249.6388888888889\" style=\"stroke: rgb(255, 255, 255); stroke-opacity: 1; stroke-width: 1px;\"/><path class=\"xgrid crisp\" transform=\"translate(406.87,0)\" d=\"M0,75v249.6388888888889\" style=\"stroke: rgb(255, 255, 255); stroke-opacity: 1; stroke-width: 1px;\"/><path class=\"xgrid crisp\" transform=\"translate(545.31,0)\" d=\"M0,75v249.6388888888889\" style=\"stroke: rgb(255, 255, 255); stroke-opacity: 1; stroke-width: 1px;\"/><path class=\"xgrid crisp\" transform=\"translate(683.75,0)\" d=\"M0,75v249.6388888888889\" style=\"stroke: rgb(255, 255, 255); stroke-opacity: 1; stroke-width: 1px;\"/></g><g class=\"y\"><path class=\"ygrid crisp\" transform=\"translate(0,308.40999999999997)\" d=\"M95,0h625\" style=\"stroke: rgb(255, 255, 255); stroke-opacity: 1; stroke-width: 1px;\"/><path class=\"ygrid crisp\" transform=\"translate(0,273.01)\" d=\"M95,0h625\" style=\"stroke: rgb(255, 255, 255); stroke-opacity: 1; stroke-width: 1px;\"/><path class=\"ygrid crisp\" transform=\"translate(0,237.61)\" d=\"M95,0h625\" style=\"stroke: rgb(255, 255, 255); stroke-opacity: 1; stroke-width: 1px;\"/><path class=\"ygrid crisp\" transform=\"translate(0,202.20999999999998)\" d=\"M95,0h625\" style=\"stroke: rgb(255, 255, 255); stroke-opacity: 1; stroke-width: 1px;\"/><path class=\"ygrid crisp\" transform=\"translate(0,166.82)\" d=\"M95,0h625\" style=\"stroke: rgb(255, 255, 255); stroke-opacity: 1; stroke-width: 1px;\"/><path class=\"ygrid crisp\" transform=\"translate(0,131.42000000000002)\" d=\"M95,0h625\" style=\"stroke: rgb(255, 255, 255); stroke-opacity: 1; stroke-width: 1px;\"/><path class=\"ygrid crisp\" transform=\"translate(0,96.02)\" d=\"M95,0h625\" style=\"stroke: rgb(255, 255, 255); stroke-opacity: 1; stroke-width: 1px;\"/></g></g><g class=\"zerolinelayer\"/><path class=\"xlines-below\"/><path class=\"ylines-below\"/><g class=\"overlines-below\"/><g class=\"xaxislayer-below\"/><g class=\"yaxislayer-below\"/><g class=\"overaxes-below\"/><g class=\"plot\" transform=\"translate(95,75)\" clip-path=\"url(#clip5dca68xyplot)\"><g class=\"scatterlayer mlayer\"><g class=\"trace scatter trace4764e267-f033-4a39-b402-43a7b52c6ea4\" style=\"stroke-miterlimit: 2; opacity: 1;\"><g class=\"fills\"/><g class=\"errorbars\"/><g class=\"lines\"><path class=\"js-line\" d=\"M173.44,233.41L588.75,21.02\" style=\"vector-effect: non-scaling-stroke; fill: none; stroke: rgb(31, 119, 180); stroke-opacity: 1; stroke-width: 2px; opacity: 1;\"/></g><g class=\"points\"><path class=\"point\" transform=\"translate(173.44,233.41)\" d=\"M3,0A3,3 0 1,1 0,-3A3,3 0 0,1 3,0Z\" style=\"opacity: 1; stroke-width: 0px; fill: rgb(31, 119, 180); fill-opacity: 1;\"/><path class=\"point\" transform=\"translate(311.87,162.61)\" d=\"M3,0A3,3 0 1,1 0,-3A3,3 0 0,1 3,0Z\" style=\"opacity: 1; stroke-width: 0px; fill: rgb(31, 119, 180); fill-opacity: 1;\"/><path class=\"point\" transform=\"translate(450.31,91.82)\" d=\"M3,0A3,3 0 1,1 0,-3A3,3 0 0,1 3,0Z\" style=\"opacity: 1; stroke-width: 0px; fill: rgb(31, 119, 180); fill-opacity: 1;\"/><path class=\"point\" transform=\"translate(588.75,21.02)\" d=\"M3,0A3,3 0 1,1 0,-3A3,3 0 0,1 3,0Z\" style=\"opacity: 1; stroke-width: 0px; fill: rgb(31, 119, 180); fill-opacity: 1;\"/></g><g class=\"text\"/></g><g class=\"trace scatter trace71dae5f5-d022-4903-b825-fdfd530e750e\" style=\"stroke-miterlimit: 2; opacity: 1;\"><g class=\"fills\"/><g class=\"errorbars\"/><g class=\"lines\"/><g class=\"points\"><path class=\"point plotly-customdata\" transform=\"translate(173.44,231.99)\" d=\"M-4.62,2H4.62L0,-4Z\" style=\"opacity: 1; stroke-width: 1px; fill: rgb(55, 177, 63); fill-opacity: 1; stroke: rgb(38, 123, 44); stroke-opacity: 1;\"/><path class=\"point plotly-customdata\" transform=\"translate(588.75,17.48)\" d=\"M-4.62,2H4.62L0,-4Z\" style=\"opacity: 1; stroke-width: 1px; fill: rgb(55, 177, 63); fill-opacity: 1; stroke: rgb(38, 123, 44); stroke-opacity: 1;\"/></g><g class=\"text\"/></g><g class=\"trace scatter trace1c579818-46d6-497a-a99f-f24aecc49297\" style=\"stroke-miterlimit: 2; opacity: 1;\"><g class=\"fills\"/><g class=\"errorbars\"/><g class=\"lines\"/><g class=\"points\"><path class=\"point plotly-customdata\" transform=\"translate(311.87,164.74)\" d=\"M-4.62,-2H4.62L0,4Z\" style=\"opacity: 1; stroke-width: 1px; fill: rgb(234, 67, 53); fill-opacity: 1; stroke: rgb(181, 31, 18); stroke-opacity: 1;\"/></g><g class=\"text\"/></g></g></g><g class=\"overplot\"/><path class=\"xlines-above crisp\" d=\"M0,0\" style=\"fill: none;\"/><path class=\"ylines-above crisp\" d=\"M0,0\" style=\"fill: none;\"/><g class=\"overlines-above\"/><g class=\"xaxislayer-above\"/><g class=\"yaxislayer-above\"><g class=\"ytick\"><text text-anchor=\"end\" x=\"94\" y=\"4.199999999999999\" transform=\"translate(0,308.40999999999997)\" style=\"font-family: 'Open Sans', verdana, arial, sans-serif; font-size: 12px; fill: rgb(42, 63, 95); fill-opacity: 1; white-space: pre; opacity: 1;\">2</text></g><g class=\"ytick\"><text text-anchor=\"end\" x=\"94\" y=\"4.199999999999999\" style=\"font-family: 'Open Sans', verdana, arial, sans-serif; font-size: 12px; fill: rgb(42, 63, 95); fill-opacity: 1; white-space: pre; opacity: 1;\" transform=\"translate(0,273.01)\">2.5</text></g><g class=\"ytick\"><text text-anchor=\"end\" x=\"94\" y=\"4.199999999999999\" style=\"font-family: 'Open Sans', verdana, arial, sans-serif; font-size: 12px; fill: rgb(42, 63, 95); fill-opacity: 1; white-space: pre; opacity: 1;\" transform=\"translate(0,237.61)\">3</text></g><g class=\"ytick\"><text text-anchor=\"end\" x=\"94\" y=\"4.199999999999999\" style=\"font-family: 'Open Sans', verdana, arial, sans-serif; font-size: 12px; fill: rgb(42, 63, 95); fill-opacity: 1; white-space: pre; opacity: 1;\" transform=\"translate(0,202.20999999999998)\">3.5</text></g><g class=\"ytick\"><text text-anchor=\"end\" x=\"94\" y=\"4.199999999999999\" style=\"font-family: 'Open Sans', verdana, arial, sans-serif; font-size: 12px; fill: rgb(42, 63, 95); fill-opacity: 1; white-space: pre; opacity: 1;\" transform=\"translate(0,166.82)\">4</text></g><g class=\"ytick\"><text text-anchor=\"end\" x=\"94\" y=\"4.199999999999999\" style=\"font-family: 'Open Sans', verdana, arial, sans-serif; font-size: 12px; fill: rgb(42, 63, 95); fill-opacity: 1; white-space: pre; opacity: 1;\" transform=\"translate(0,131.42000000000002)\">4.5</text></g><g class=\"ytick\"><text text-anchor=\"end\" x=\"94\" y=\"4.199999999999999\" style=\"font-family: 'Open Sans', verdana, arial, sans-serif; font-size: 12px; fill: rgb(42, 63, 95); fill-opacity: 1; white-space: pre; opacity: 1;\" transform=\"translate(0,96.02)\">5</text></g></g><g class=\"overaxes-above\"/></g><g class=\"subplot x2y2\"><g class=\"layer-subplot\"><g class=\"shapelayer\"/><g class=\"imagelayer\"/></g><g class=\"gridlayer\"><g class=\"x2\"><path class=\"x2grid crisp\" transform=\"translate(130,0)\" d=\"M0,358.68055555555566v249.63888888888883\" style=\"stroke: rgb(255, 255, 255); stroke-opacity: 1; stroke-width: 1px;\"/><path class=\"x2grid crisp\" transform=\"translate(268.44,0)\" d=\"M0,358.68055555555566v249.63888888888883\" style=\"stroke: rgb(255, 255, 255); stroke-opacity: 1; stroke-width: 1px;\"/><path class=\"x2grid crisp\" transform=\"translate(406.87,0)\" d=\"M0,358.68055555555566v249.63888888888883\" style=\"stroke: rgb(255, 255, 255); stroke-opacity: 1; stroke-width: 1px;\"/><path class=\"x2grid crisp\" transform=\"translate(545.31,0)\" d=\"M0,358.68055555555566v249.63888888888883\" style=\"stroke: rgb(255, 255, 255); stroke-opacity: 1; stroke-width: 1px;\"/><path class=\"x2grid crisp\" transform=\"translate(683.75,0)\" d=\"M0,358.68055555555566v249.63888888888883\" style=\"stroke: rgb(255, 255, 255); stroke-opacity: 1; stroke-width: 1px;\"/></g><g class=\"y2\"><path class=\"y2grid crisp\" transform=\"translate(0,568.5005555555556)\" d=\"M95,0h625\" style=\"stroke: rgb(255, 255, 255); stroke-opacity: 1; stroke-width: 1px;\"/><path class=\"y2grid crisp\" transform=\"translate(0,526.7405555555556)\" d=\"M95,0h625\" style=\"stroke: rgb(255, 255, 255); stroke-opacity: 1; stroke-width: 1px;\"/><path class=\"y2grid crisp\" transform=\"translate(0,484.9705555555557)\" d=\"M95,0h625\" style=\"stroke: rgb(255, 255, 255); stroke-opacity: 1; stroke-width: 1px;\"/><path class=\"y2grid crisp\" transform=\"translate(0,443.21055555555563)\" d=\"M95,0h625\" style=\"stroke: rgb(255, 255, 255); stroke-opacity: 1; stroke-width: 1px;\"/><path class=\"y2grid crisp\" transform=\"translate(0,401.44055555555565)\" d=\"M95,0h625\" style=\"stroke: rgb(255, 255, 255); stroke-opacity: 1; stroke-width: 1px;\"/></g></g><g class=\"zerolinelayer\"><path class=\"y2zl zl crisp\" transform=\"translate(0,359.68055555555566)\" d=\"M95,0h625\" style=\"stroke: rgb(255, 255, 255); stroke-opacity: 1; stroke-width: 2px;\"/></g><path class=\"xlines-below\"/><path class=\"ylines-below\"/><g class=\"overlines-below\"/><g class=\"xaxislayer-below\"/><g class=\"yaxislayer-below\"/><g class=\"overaxes-below\"/><g class=\"plot\" transform=\"translate(95,358.68055555555566)\" clip-path=\"url(#clip5dca68x2y2plot)\"><g class=\"scatterlayer mlayer\"><g class=\"trace scatter trace44ead29d-2116-4d24-811e-568051da4524\" style=\"stroke-miterlimit: 2; opacity: 1;\"><g class=\"fills\"/><g class=\"errorbars\"/><g class=\"lines\"/><g class=\"points\"><path class=\"point plotly-customdata\" transform=\"translate(311.87,228.41)\" d=\"M7,0A7,7 0 1,1 0,-7A7,7 0 0,1 7,0Z\" style=\"opacity: 0.9; stroke-width: 1px; fill: rgb(234, 67, 53); fill-opacity: 1; stroke: rgb(181, 31, 18); stroke-opacity: 1;\"/></g><g class=\"text\"/></g><g class=\"trace scatter traceb0f0c27e-ed6d-48ad-b830-b3ea5806b9a6\" style=\"stroke-miterlimit: 2; opacity: 1;\"><g class=\"fills\"/><g class=\"errorbars\"/><g class=\"lines\"/><g class=\"points\"><path class=\"point plotly-customdata\" transform=\"translate(588.75,17.58)\" d=\"M3.5,0A3.5,3.5 0 1,1 0,-3.5A3.5,3.5 0 0,1 3.5,0Z\" style=\"opacity: 0.75; stroke-width: 1px; fill: rgb(255, 170, 0); fill-opacity: 1; stroke: rgb(178, 118, 0); stroke-opacity: 1;\"/></g><g class=\"text\"/></g></g></g><g class=\"overplot\"/><path class=\"xlines-above crisp\" d=\"M0,0\" style=\"fill: none;\"/><path class=\"ylines-above crisp\" d=\"M0,0\" style=\"fill: none;\"/><g class=\"overlines-above\"/><g class=\"xaxislayer-above\"/><g class=\"yaxislayer-above\"><g class=\"y2tick\"><text text-anchor=\"end\" x=\"94\" y=\"4.199999999999999\" transform=\"translate(0,568.5005555555556)\" style=\"font-family: 'Open Sans', verdana, arial, sans-serif; font-size: 12px; fill: rgb(42, 63, 95); fill-opacity: 1; white-space: pre; opacity: 1;\">−50.00%</text></g><g class=\"y2tick\"><text text-anchor=\"end\" x=\"94\" y=\"4.199999999999999\" style=\"font-family: 'Open Sans', verdana, arial, sans-serif; font-size: 12px; fill: rgb(42, 63, 95); fill-opacity: 1; white-space: pre; opacity: 1;\" transform=\"translate(0,526.7405555555556)\">−40.00%</text></g><g class=\"y2tick\"><text text-anchor=\"end\" x=\"94\" y=\"4.199999999999999\" style=\"font-family: 'Open Sans', verdana, arial, sans-serif; font-size: 12px; fill: rgb(42, 63, 95); fill-opacity: 1; white-space: pre; opacity: 1;\" transform=\"translate(0,484.9705555555557)\">−30.00%</text></g><g class=\"y2tick\"><text text-anchor=\"end\" x=\"94\" y=\"4.199999999999999\" style=\"font-family: 'Open Sans', verdana, arial, sans-serif; font-size: 12px; fill: rgb(42, 63, 95); fill-opacity: 1; white-space: pre; opacity: 1;\" transform=\"translate(0,443.21055555555563)\">−20.00%</text></g><g class=\"y2tick\"><text text-anchor=\"end\" x=\"94\" y=\"4.199999999999999\" style=\"font-family: 'Open Sans', verdana, arial, sans-serif; font-size: 12px; fill: rgb(42, 63, 95); fill-opacity: 1; white-space: pre; opacity: 1;\" transform=\"translate(0,401.44055555555565)\">−10.00%</text></g><g class=\"y2tick\"><text text-anchor=\"end\" x=\"94\" y=\"4.199999999999999\" style=\"font-family: 'Open Sans', verdana, arial, sans-serif; font-size: 12px; fill: rgb(42, 63, 95); fill-opacity: 1; white-space: pre; opacity: 1;\" transform=\"translate(0,359.68055555555566)\">0.00%</text></g></g><g class=\"overaxes-above\"/></g><g class=\"subplot x3y3\"><g class=\"layer-subplot\"><g class=\"shapelayer\"/><g class=\"imagelayer\"/></g><g class=\"gridlayer\"><g class=\"x3\"><path class=\"x3grid crisp\" transform=\"translate(130,0)\" d=\"M0,642.3611111111111v249.63888888888886\" style=\"stroke: rgb(255, 255, 255); stroke-opacity: 1; stroke-width: 1px;\"/><path class=\"x3grid crisp\" transform=\"translate(268.44,0)\" d=\"M0,642.3611111111111v249.63888888888886\" style=\"stroke: rgb(255, 255, 255); stroke-opacity: 1; stroke-width: 1px;\"/><path class=\"x3grid crisp\" transform=\"translate(406.87,0)\" d=\"M0,642.3611111111111v249.63888888888886\" style=\"stroke: rgb(255, 255, 255); stroke-opacity: 1; stroke-width: 1px;\"/><path class=\"x3grid crisp\" transform=\"translate(545.31,0)\" d=\"M0,642.3611111111111v249.63888888888886\" style=\"stroke: rgb(255, 255, 255); stroke-opacity: 1; stroke-width: 1px;\"/><path class=\"x3grid crisp\" transform=\"translate(683.75,0)\" d=\"M0,642.3611111111111v249.63888888888886\" style=\"stroke: rgb(255, 255, 255); stroke-opacity: 1; stroke-width: 1px;\"/></g><g class=\"y3\"><path class=\"y3grid crisp\" transform=\"translate(0,875.3211111111111)\" d=\"M95,0h625\" style=\"stroke: rgb(255, 255, 255); stroke-opacity: 1; stroke-width: 1px;\"/><path class=\"y3grid crisp\" transform=\"translate(0,803.0811111111111)\" d=\"M95,0h625\" style=\"stroke: rgb(255, 255, 255); stroke-opacity: 1; stroke-width: 1px;\"/><path class=\"y3grid crisp\" transform=\"translate(0,730.8311111111111)\" d=\"M95,0h625\" style=\"stroke: rgb(255, 255, 255); stroke-opacity: 1; stroke-width: 1px;\"/><path class=\"y3grid crisp\" transform=\"translate(0,658.5911111111111)\" d=\"M95,0h625\" style=\"stroke: rgb(255, 255, 255); stroke-opacity: 1; stroke-width: 1px;\"/></g></g><g class=\"zerolinelayer\"/><path class=\"xlines-below\"/><path class=\"ylines-below\"/><g class=\"overlines-below\"/><g class=\"xaxislayer-below\"/><g class=\"yaxislayer-below\"/><g class=\"overaxes-below\"/><g class=\"plot\" transform=\"translate(95,642.3611111111111)\" clip-path=\"url(#clip5dca68x3y3plot)\"><g class=\"scatterlayer mlayer\"><g class=\"trace scatter trace34674076-ac93-4585-923d-0259ad01d374\" style=\"stroke-miterlimit: 2; opacity: 1;\"><g class=\"fills\"/><g class=\"errorbars\"/><g class=\"lines\"><path class=\"js-line\" d=\"M35,232.96L173.44,232.96L311.87,160.72L588.75,16.23\" style=\"vector-effect: non-scaling-stroke; fill: none; stroke: rgb(127, 127, 127); stroke-opacity: 1; stroke-width: 2px; opacity: 1;\"/></g><g class=\"points\"><path class=\"point\" transform=\"translate(35,232.96)\" d=\"M3,0A3,3 0 1,1 0,-3A3,3 0 0,1 3,0Z\" style=\"opacity: 1; stroke-width: 0px; fill: rgb(127, 127, 127); fill-opacity: 1;\"/><path class=\"point\" transform=\"translate(173.44,232.96)\" d=\"M3,0A3,3 0 1,1 0,-3A3,3 0 0,1 3,0Z\" style=\"opacity: 1; stroke-width: 0px; fill: rgb(127, 127, 127); fill-opacity: 1;\"/><path class=\"point\" transform=\"translate(311.87,160.72)\" d=\"M3,0A3,3 0 1,1 0,-3A3,3 0 0,1 3,0Z\" style=\"opacity: 1; stroke-width: 0px; fill: rgb(127, 127, 127); fill-opacity: 1;\"/><path class=\"point\" transform=\"translate(450.31,88.47)\" d=\"M3,0A3,3 0 1,1 0,-3A3,3 0 0,1 3,0Z\" style=\"opacity: 1; stroke-width: 0px; fill: rgb(127, 127, 127); fill-opacity: 1;\"/><path class=\"point\" transform=\"translate(588.75,16.23)\" d=\"M3,0A3,3 0 1,1 0,-3A3,3 0 0,1 3,0Z\" style=\"opacity: 1; stroke-width: 0px; fill: rgb(127, 127, 127); fill-opacity: 1;\"/></g><g class=\"text\"/></g><g class=\"trace scatter traceeef75add-5ce6-4510-a19a-721c2ee8ac61\" style=\"stroke-miterlimit: 2;\"><g class=\"fills\"><g><path class=\"js-fill\" d=\"M35,232.96L588.75,233.41L588.75,232.96L35,232.96Z\" style=\"fill: rgb(255, 0, 0); fill-opacity: 0.3; stroke-width: 0;\"/></g></g><g class=\"errorbars\"/><g class=\"lines\"><path class=\"js-line\" d=\"M35,232.96L588.75,232.96\" style=\"vector-effect: non-scaling-stroke; fill: none; stroke: rgb(0, 0, 0); stroke-opacity: 0; stroke-width: 0px; opacity: 1;\"/></g><g class=\"points\"><path class=\"point\" transform=\"translate(35,232.96)\" d=\"M3,0A3,3 0 1,1 0,-3A3,3 0 0,1 3,0Z\" style=\"opacity: 1; stroke-width: 0px; fill: rgb(0, 0, 0); fill-opacity: 0;\"/><path class=\"point\" transform=\"translate(173.44,232.96)\" d=\"M3,0A3,3 0 1,1 0,-3A3,3 0 0,1 3,0Z\" style=\"opacity: 1; stroke-width: 0px; fill: rgb(0, 0, 0); fill-opacity: 0;\"/><path class=\"point\" transform=\"translate(311.87,232.96)\" d=\"M3,0A3,3 0 1,1 0,-3A3,3 0 0,1 3,0Z\" style=\"opacity: 1; stroke-width: 0px; fill: rgb(0, 0, 0); fill-opacity: 0;\"/><path class=\"point\" transform=\"translate(450.31,232.96)\" d=\"M3,0A3,3 0 1,1 0,-3A3,3 0 0,1 3,0Z\" style=\"opacity: 1; stroke-width: 0px; fill: rgb(0, 0, 0); fill-opacity: 0;\"/><path class=\"point\" transform=\"translate(588.75,232.96)\" d=\"M3,0A3,3 0 1,1 0,-3A3,3 0 0,1 3,0Z\" style=\"opacity: 1; stroke-width: 0px; fill: rgb(0, 0, 0); fill-opacity: 0;\"/></g><g class=\"text\"/></g><g class=\"trace scatter trace47125afb-9443-4abf-a369-a4052e1b2dda\" style=\"stroke-miterlimit: 2;\"><g class=\"fills\"/><g class=\"errorbars\"/><g class=\"lines\"><path class=\"js-line\" d=\"M35,232.96L588.75,233.41\" style=\"vector-effect: non-scaling-stroke; fill: none; stroke: rgb(0, 0, 0); stroke-opacity: 0; stroke-width: 0px; opacity: 1;\"/></g><g class=\"points\"><path class=\"point\" transform=\"translate(35,232.96)\" d=\"M3,0A3,3 0 1,1 0,-3A3,3 0 0,1 3,0Z\" style=\"opacity: 1; stroke-width: 0px; fill: rgb(0, 0, 0); fill-opacity: 0;\"/><path class=\"point\" transform=\"translate(173.44,233.11)\" d=\"M3,0A3,3 0 1,1 0,-3A3,3 0 0,1 3,0Z\" style=\"opacity: 1; stroke-width: 0px; fill: rgb(0, 0, 0); fill-opacity: 0;\"/><path class=\"point\" transform=\"translate(311.87,233.12)\" d=\"M3,0A3,3 0 1,1 0,-3A3,3 0 0,1 3,0Z\" style=\"opacity: 1; stroke-width: 0px; fill: rgb(0, 0, 0); fill-opacity: 0;\"/><path class=\"point\" transform=\"translate(450.31,233.12)\" d=\"M3,0A3,3 0 1,1 0,-3A3,3 0 0,1 3,0Z\" style=\"opacity: 1; stroke-width: 0px; fill: rgb(0, 0, 0); fill-opacity: 0;\"/><path class=\"point\" transform=\"translate(588.75,233.41)\" d=\"M3,0A3,3 0 1,1 0,-3A3,3 0 0,1 3,0Z\" style=\"opacity: 1; stroke-width: 0px; fill: rgb(0, 0, 0); fill-opacity: 0;\"/></g><g class=\"text\"/></g><g class=\"trace scatter trace219fda56-0a7b-4a28-b8eb-df0666015b64\" style=\"stroke-miterlimit: 2; opacity: 1;\"><g class=\"fills\"/><g class=\"errorbars\"/><g class=\"lines\"><path class=\"js-line\" d=\"M35,232.96L588.75,233.41\" style=\"vector-effect: non-scaling-stroke; fill: none; stroke: rgb(148, 103, 189); stroke-opacity: 1; stroke-width: 2px; opacity: 1;\"/></g><g class=\"points\"><path class=\"point\" transform=\"translate(35,232.96)\" d=\"M3,0A3,3 0 1,1 0,-3A3,3 0 0,1 3,0Z\" style=\"opacity: 1; stroke-width: 0px; fill: rgb(148, 103, 189); fill-opacity: 1;\"/><path class=\"point\" transform=\"translate(173.44,233.11)\" d=\"M3,0A3,3 0 1,1 0,-3A3,3 0 0,1 3,0Z\" style=\"opacity: 1; stroke-width: 0px; fill: rgb(148, 103, 189); fill-opacity: 1;\"/><path class=\"point\" transform=\"translate(311.87,233.12)\" d=\"M3,0A3,3 0 1,1 0,-3A3,3 0 0,1 3,0Z\" style=\"opacity: 1; stroke-width: 0px; fill: rgb(148, 103, 189); fill-opacity: 1;\"/><path class=\"point\" transform=\"translate(450.31,233.12)\" d=\"M3,0A3,3 0 1,1 0,-3A3,3 0 0,1 3,0Z\" style=\"opacity: 1; stroke-width: 0px; fill: rgb(148, 103, 189); fill-opacity: 1;\"/><path class=\"point\" transform=\"translate(588.75,233.41)\" d=\"M3,0A3,3 0 1,1 0,-3A3,3 0 0,1 3,0Z\" style=\"opacity: 1; stroke-width: 0px; fill: rgb(148, 103, 189); fill-opacity: 1;\"/></g><g class=\"text\"/></g><g class=\"trace scatter trace1c24bf27-4bb0-406d-bf86-633c8379bac8\" style=\"stroke-miterlimit: 2; opacity: 0;\"><g class=\"fills\"/><g class=\"errorbars\"/><g class=\"lines\"><path class=\"js-line\" d=\"M35,232.96L588.75,232.96\" style=\"vector-effect: non-scaling-stroke; fill: none; stroke: rgb(0, 0, 0); stroke-opacity: 0; stroke-width: 0px; opacity: 1;\"/></g><g class=\"points\"><path class=\"point\" transform=\"translate(35,232.96)\" d=\"M3,0A3,3 0 1,1 0,-3A3,3 0 0,1 3,0Z\" style=\"opacity: 1; stroke-width: 0px; fill: rgb(0, 0, 0); fill-opacity: 0;\"/><path class=\"point\" transform=\"translate(173.44,232.96)\" d=\"M3,0A3,3 0 1,1 0,-3A3,3 0 0,1 3,0Z\" style=\"opacity: 1; stroke-width: 0px; fill: rgb(0, 0, 0); fill-opacity: 0;\"/><path class=\"point\" transform=\"translate(311.87,232.96)\" d=\"M3,0A3,3 0 1,1 0,-3A3,3 0 0,1 3,0Z\" style=\"opacity: 1; stroke-width: 0px; fill: rgb(0, 0, 0); fill-opacity: 0;\"/><path class=\"point\" transform=\"translate(450.31,232.96)\" d=\"M3,0A3,3 0 1,1 0,-3A3,3 0 0,1 3,0Z\" style=\"opacity: 1; stroke-width: 0px; fill: rgb(0, 0, 0); fill-opacity: 0;\"/><path class=\"point\" transform=\"translate(588.75,232.96)\" d=\"M3,0A3,3 0 1,1 0,-3A3,3 0 0,1 3,0Z\" style=\"opacity: 1; stroke-width: 0px; fill: rgb(0, 0, 0); fill-opacity: 0;\"/></g><g class=\"text\"/></g></g></g><g class=\"overplot\"/><path class=\"xlines-above crisp\" d=\"M0,0\" style=\"fill: none;\"/><path class=\"ylines-above crisp\" d=\"M0,0\" style=\"fill: none;\"/><g class=\"overlines-above\"/><g class=\"xaxislayer-above\"><g class=\"x3tick\"><text text-anchor=\"middle\" x=\"0\" y=\"905\" transform=\"translate(130,0)\" style=\"font-family: 'Open Sans', verdana, arial, sans-serif; font-size: 12px; fill: rgb(42, 63, 95); fill-opacity: 1; white-space: pre; opacity: 1;\"><tspan class=\"line\" dy=\"0em\" x=\"0\" y=\"905\">Jan 1</tspan><tspan class=\"line\" dy=\"1.3em\" x=\"0\" y=\"905\">2020</tspan></text></g><g class=\"x3tick\"><text text-anchor=\"middle\" x=\"0\" y=\"905\" style=\"font-family: 'Open Sans', verdana, arial, sans-serif; font-size: 12px; fill: rgb(42, 63, 95); fill-opacity: 1; white-space: pre; opacity: 1;\" transform=\"translate(268.44,0)\">Jan 2</text></g><g class=\"x3tick\"><text text-anchor=\"middle\" x=\"0\" y=\"905\" style=\"font-family: 'Open Sans', verdana, arial, sans-serif; font-size: 12px; fill: rgb(42, 63, 95); fill-opacity: 1; white-space: pre; opacity: 1;\" transform=\"translate(406.87,0)\">Jan 3</text></g><g class=\"x3tick\"><text text-anchor=\"middle\" x=\"0\" y=\"905\" style=\"font-family: 'Open Sans', verdana, arial, sans-serif; font-size: 12px; fill: rgb(42, 63, 95); fill-opacity: 1; white-space: pre; opacity: 1;\" transform=\"translate(545.31,0)\">Jan 4</text></g><g class=\"x3tick\"><text text-anchor=\"middle\" x=\"0\" y=\"905\" style=\"font-family: 'Open Sans', verdana, arial, sans-serif; font-size: 12px; fill: rgb(42, 63, 95); fill-opacity: 1; white-space: pre; opacity: 1;\" transform=\"translate(683.75,0)\">Jan 5</text></g></g><g class=\"yaxislayer-above\"><g class=\"y3tick\"><text text-anchor=\"end\" x=\"94\" y=\"4.199999999999999\" transform=\"translate(0,875.3211111111111)\" style=\"font-family: 'Open Sans', verdana, arial, sans-serif; font-size: 12px; fill: rgb(42, 63, 95); fill-opacity: 1; white-space: pre; opacity: 1;\">1</text></g><g class=\"y3tick\"><text text-anchor=\"end\" x=\"94\" y=\"4.199999999999999\" style=\"font-family: 'Open Sans', verdana, arial, sans-serif; font-size: 12px; fill: rgb(42, 63, 95); fill-opacity: 1; white-space: pre; opacity: 1;\" transform=\"translate(0,803.0811111111111)\">1.5</text></g><g class=\"y3tick\"><text text-anchor=\"end\" x=\"94\" y=\"4.199999999999999\" style=\"font-family: 'Open Sans', verdana, arial, sans-serif; font-size: 12px; fill: rgb(42, 63, 95); fill-opacity: 1; white-space: pre; opacity: 1;\" transform=\"translate(0,730.8311111111111)\">2</text></g><g class=\"y3tick\"><text text-anchor=\"end\" x=\"94\" y=\"4.199999999999999\" style=\"font-family: 'Open Sans', verdana, arial, sans-serif; font-size: 12px; fill: rgb(42, 63, 95); fill-opacity: 1; white-space: pre; opacity: 1;\" transform=\"translate(0,658.5911111111111)\">2.5</text></g></g><g class=\"overaxes-above\"/></g></g><g class=\"polarlayer\"/><g class=\"ternarylayer\"/><g class=\"geolayer\"/><g class=\"funnelarealayer\"/><g class=\"pielayer\"/><g class=\"iciclelayer\"/><g class=\"treemaplayer\"/><g class=\"sunburstlayer\"/><g class=\"glimages\"/><defs id=\"topdefs-5dca68\"><g class=\"clips\"/><clipPath id=\"legend5dca68\"><rect width=\"606\" height=\"29\" x=\"0\" y=\"0\"/></clipPath></defs><g class=\"layer-above\"><g class=\"imagelayer\"/><g class=\"shapelayer\"><path data-index=\"0\" fill-rule=\"evenodd\" d=\"M95,359.68055555555566L720,359.68055555555566\" clip-path=\"url(#clip5dca68y2)\" style=\"opacity: 1; stroke: rgb(128, 128, 128); stroke-opacity: 1; fill: rgb(0, 0, 0); fill-opacity: 0; stroke-dasharray: 9px, 9px; stroke-width: 2px;\"/><path data-index=\"1\" fill-rule=\"evenodd\" d=\"M95,875.3211111111111L720,875.3211111111111\" clip-path=\"url(#clip5dca68y3)\" style=\"opacity: 1; stroke: rgb(128, 128, 128); stroke-opacity: 1; fill: rgb(0, 0, 0); fill-opacity: 0; stroke-dasharray: 9px, 9px; stroke-width: 2px;\"/></g></g><g class=\"infolayer\"><g class=\"legend\" pointer-events=\"all\" transform=\"translate(114,11.958333333333272)\"><rect class=\"bg\" shape-rendering=\"crispEdges\" style=\"stroke: rgb(68, 68, 68); stroke-opacity: 1; fill: rgb(255, 255, 255); fill-opacity: 1; stroke-width: 0px;\" width=\"606\" height=\"29\" x=\"0\" y=\"0\"/><g class=\"scrollbox\" transform=\"\" clip-path=\"url(#legend5dca68)\"><g class=\"groups\"><g class=\"traces\" transform=\"translate(0,14.5)\" style=\"opacity: 1;\"><text class=\"legendtext\" text-anchor=\"start\" x=\"40\" y=\"4.680000000000001\" style=\"font-family: 'Open Sans', verdana, arial, sans-serif; font-size: 12px; fill: rgb(42, 63, 95); fill-opacity: 1; white-space: pre;\">Close</text><g class=\"layers\" style=\"opacity: 1;\"><g class=\"legendfill\"/><g class=\"legendlines\"><path class=\"js-line\" d=\"M5,0h30\" style=\"fill: none; stroke: rgb(31, 119, 180); stroke-opacity: 1; stroke-width: 2px;\"/></g><g class=\"legendsymbols\"><g class=\"legendpoints\"><path class=\"scatterpts\" transform=\"translate(20,0)\" d=\"M3,0A3,3 0 1,1 0,-3A3,3 0 0,1 3,0Z\" style=\"opacity: 1; stroke-width: 0px; fill: rgb(31, 119, 180); fill-opacity: 1;\"/></g></g></g><rect class=\"legendtoggle\" x=\"0\" y=\"-9.5\" width=\"74.84375\" height=\"19\" style=\"fill: rgb(0, 0, 0); fill-opacity: 0;\"/></g><g class=\"traces\" transform=\"translate(77.34375,14.5)\" style=\"opacity: 1;\"><text class=\"legendtext\" text-anchor=\"start\" x=\"40\" y=\"4.680000000000001\" style=\"font-family: 'Open Sans', verdana, arial, sans-serif; font-size: 12px; fill: rgb(42, 63, 95); fill-opacity: 1; white-space: pre;\">Buy</text><g class=\"layers\" style=\"opacity: 1;\"><g class=\"legendfill\"/><g class=\"legendlines\"/><g class=\"legendsymbols\"><g class=\"legendpoints\"><path class=\"scatterpts\" transform=\"translate(20,0)\" d=\"M-4.62,2H4.62L0,-4Z\" style=\"opacity: 1; stroke-width: 1px; fill: rgb(55, 177, 63); fill-opacity: 1; stroke: rgb(38, 123, 44); stroke-opacity: 1;\"/></g></g></g><rect class=\"legendtoggle\" x=\"0\" y=\"-9.5\" width=\"65.421875\" height=\"19\" style=\"fill: rgb(0, 0, 0); fill-opacity: 0;\"/></g><g class=\"traces\" transform=\"translate(145.265625,14.5)\" style=\"opacity: 1;\"><text class=\"legendtext\" text-anchor=\"start\" x=\"40\" y=\"4.680000000000001\" style=\"font-family: 'Open Sans', verdana, arial, sans-serif; font-size: 12px; fill: rgb(42, 63, 95); fill-opacity: 1; white-space: pre;\">Sell</text><g class=\"layers\" style=\"opacity: 1;\"><g class=\"legendfill\"/><g class=\"legendlines\"/><g class=\"legendsymbols\"><g class=\"legendpoints\"><path class=\"scatterpts\" transform=\"translate(20,0)\" d=\"M-4.62,-2H4.62L0,4Z\" style=\"opacity: 1; stroke-width: 1px; fill: rgb(234, 67, 53); fill-opacity: 1; stroke: rgb(181, 31, 18); stroke-opacity: 1;\"/></g></g></g><rect class=\"legendtoggle\" x=\"0\" y=\"-9.5\" width=\"64.4375\" height=\"19\" style=\"fill: rgb(0, 0, 0); fill-opacity: 0;\"/></g><g class=\"traces\" transform=\"translate(212.203125,14.5)\" style=\"opacity: 1;\"><text class=\"legendtext\" text-anchor=\"start\" x=\"40\" y=\"4.680000000000001\" style=\"font-family: 'Open Sans', verdana, arial, sans-serif; font-size: 12px; fill: rgb(42, 63, 95); fill-opacity: 1; white-space: pre;\">Closed - Loss</text><g class=\"layers\" style=\"opacity: 1;\"><g class=\"legendfill\"/><g class=\"legendlines\"/><g class=\"legendsymbols\"><g class=\"legendpoints\"><path class=\"scatterpts\" transform=\"translate(20,0)\" d=\"M7,0A7,7 0 1,1 0,-7A7,7 0 0,1 7,0Z\" style=\"opacity: 0.9; stroke-width: 1px; fill: rgb(234, 67, 53); fill-opacity: 1; stroke: rgb(181, 31, 18); stroke-opacity: 1;\"/></g></g></g><rect class=\"legendtoggle\" x=\"0\" y=\"-9.5\" width=\"122.671875\" height=\"19\" style=\"fill: rgb(0, 0, 0); fill-opacity: 0;\"/></g><g class=\"traces\" transform=\"translate(337.375,14.5)\" style=\"opacity: 1;\"><text class=\"legendtext\" text-anchor=\"start\" x=\"40\" y=\"4.680000000000001\" style=\"font-family: 'Open Sans', verdana, arial, sans-serif; font-size: 12px; fill: rgb(42, 63, 95); fill-opacity: 1; white-space: pre;\">Open</text><g class=\"layers\" style=\"opacity: 1;\"><g class=\"legendfill\"/><g class=\"legendlines\"/><g class=\"legendsymbols\"><g class=\"legendpoints\"><path class=\"scatterpts\" transform=\"translate(20,0)\" d=\"M3.5,0A3.5,3.5 0 1,1 0,-3.5A3.5,3.5 0 0,1 3.5,0Z\" style=\"opacity: 0.75; stroke-width: 1px; fill: rgb(255, 170, 0); fill-opacity: 1; stroke: rgb(178, 118, 0); stroke-opacity: 1;\"/></g></g></g><rect class=\"legendtoggle\" x=\"0\" y=\"-9.5\" width=\"74.15625\" height=\"19\" style=\"fill: rgb(0, 0, 0); fill-opacity: 0;\"/></g><g class=\"traces\" transform=\"translate(414.03125,14.5)\" style=\"opacity: 1;\"><text class=\"legendtext\" text-anchor=\"start\" x=\"40\" y=\"4.680000000000001\" style=\"font-family: 'Open Sans', verdana, arial, sans-serif; font-size: 12px; fill: rgb(42, 63, 95); fill-opacity: 1; white-space: pre;\">Benchmark</text><g class=\"layers\" style=\"opacity: 1;\"><g class=\"legendfill\"/><g class=\"legendlines\"><path class=\"js-line\" d=\"M5,0h30\" style=\"fill: none; stroke: rgb(127, 127, 127); stroke-opacity: 1; stroke-width: 2px;\"/></g><g class=\"legendsymbols\"><g class=\"legendpoints\"><path class=\"scatterpts\" transform=\"translate(20,0)\" d=\"M3,0A3,3 0 1,1 0,-3A3,3 0 0,1 3,0Z\" style=\"opacity: 1; stroke-width: 0px; fill: rgb(127, 127, 127); fill-opacity: 1;\"/></g></g></g><rect class=\"legendtoggle\" x=\"0\" y=\"-9.5\" width=\"110.40625\" height=\"19\" style=\"fill: rgb(0, 0, 0); fill-opacity: 0;\"/></g><g class=\"traces\" transform=\"translate(526.9375,14.5)\" style=\"opacity: 1;\"><text class=\"legendtext\" text-anchor=\"start\" x=\"40\" y=\"4.680000000000001\" style=\"font-family: 'Open Sans', verdana, arial, sans-serif; font-size: 12px; fill: rgb(42, 63, 95); fill-opacity: 1; white-space: pre;\">Value</text><g class=\"layers\" style=\"opacity: 1;\"><g class=\"legendfill\"/><g class=\"legendlines\"><path class=\"js-line\" d=\"M5,0h30\" style=\"fill: none; stroke: rgb(148, 103, 189); stroke-opacity: 1; stroke-width: 2px;\"/></g><g class=\"legendsymbols\"><g class=\"legendpoints\"><path class=\"scatterpts\" transform=\"translate(20,0)\" d=\"M3,0A3,3 0 1,1 0,-3A3,3 0 0,1 3,0Z\" style=\"opacity: 1; stroke-width: 0px; fill: rgb(148, 103, 189); fill-opacity: 1;\"/></g></g></g><rect class=\"legendtoggle\" x=\"0\" y=\"-9.5\" width=\"75.9375\" height=\"19\" style=\"fill: rgb(0, 0, 0); fill-opacity: 0;\"/></g></g></g><rect class=\"scrollbar\" rx=\"20\" ry=\"3\" width=\"0\" height=\"0\" style=\"fill: rgb(128, 139, 164); fill-opacity: 1;\" x=\"0\" y=\"0\"/></g><g class=\"g-gtitle\"/><g class=\"g-xtitle\"/><g class=\"g-x2title\"/><g class=\"g-x3title\"><text class=\"x3title\" x=\"407.5\" y=\"947.89375\" text-anchor=\"middle\" style=\"font-family: 'Open Sans', verdana, arial, sans-serif; font-size: 14px; fill: rgb(42, 63, 95); opacity: 1; font-weight: normal; white-space: pre;\">Index</text></g><g class=\"g-ytitle\"><text class=\"ytitle\" transform=\"rotate(-90,49.575,199.81944444444446)\" x=\"49.575\" y=\"199.81944444444446\" text-anchor=\"middle\" style=\"font-family: 'Open Sans', verdana, arial, sans-serif; font-size: 14px; fill: rgb(42, 63, 95); opacity: 1; font-weight: normal; white-space: pre;\">Price</text></g><g class=\"g-y2title\" transform=\"translate(2.4248046875,0)\"><text class=\"y2title\" transform=\"rotate(-90,11.575000000000003,483.50000000000006)\" x=\"11.575000000000003\" y=\"483.50000000000006\" text-anchor=\"middle\" style=\"font-family: 'Open Sans', verdana, arial, sans-serif; font-size: 14px; fill: rgb(42, 63, 95); opacity: 1; font-weight: normal; white-space: pre;\">Trade PnL</text></g><g class=\"g-y3title\"><text class=\"y3title\" transform=\"rotate(-90,49.575,767.1805555555555)\" x=\"49.575\" y=\"767.1805555555555\" text-anchor=\"middle\" style=\"font-family: 'Open Sans', verdana, arial, sans-serif; font-size: 14px; fill: rgb(42, 63, 95); opacity: 1; font-weight: normal; white-space: pre;\">Cumulative returns</text></g><g class=\"annotation\" data-index=\"0\" style=\"opacity: 1;\"><g class=\"annotation-text-g\" transform=\"rotate(0,407.5,63)\"><g class=\"cursor-pointer\" transform=\"translate(379,51)\"><rect class=\"bg\" x=\"0.5\" y=\"0.5\" width=\"57\" height=\"23\" style=\"stroke-width: 1px; stroke: rgb(0, 0, 0); stroke-opacity: 0; fill: rgb(0, 0, 0); fill-opacity: 0;\"/><text class=\"annotation-text\" text-anchor=\"middle\" x=\"29.03125\" y=\"18\" style=\"font-family: 'Open Sans', verdana, arial, sans-serif; font-size: 16px; fill: rgb(42, 63, 95); fill-opacity: 1; white-space: pre;\">Orders</text></g></g></g><g class=\"annotation\" data-index=\"1\" style=\"opacity: 1;\"><g class=\"annotation-text-g\" transform=\"rotate(0,407.5,346.68055555555566)\"><g class=\"cursor-pointer\" transform=\"translate(366,335)\"><rect class=\"bg\" x=\"0.5\" y=\"0.5\" width=\"83\" height=\"23\" style=\"stroke-width: 1px; stroke: rgb(0, 0, 0); stroke-opacity: 0; fill: rgb(0, 0, 0); fill-opacity: 0;\"/><text class=\"annotation-text\" text-anchor=\"middle\" x=\"42.046875\" y=\"18\" style=\"font-family: 'Open Sans', verdana, arial, sans-serif; font-size: 16px; fill: rgb(42, 63, 95); fill-opacity: 1; white-space: pre;\">Trade PnL</text></g></g></g><g class=\"annotation\" data-index=\"2\" style=\"opacity: 1;\"><g class=\"annotation-text-g\" transform=\"rotate(0,407.5,630.3611111111111)\"><g class=\"cursor-pointer\" transform=\"translate(326,618)\"><rect class=\"bg\" x=\"0.5\" y=\"0.5\" width=\"162\" height=\"23\" style=\"stroke-width: 1px; stroke: rgb(0, 0, 0); stroke-opacity: 0; fill: rgb(0, 0, 0); fill-opacity: 0;\"/><text class=\"annotation-text\" text-anchor=\"middle\" x=\"81.328125\" y=\"18\" style=\"font-family: 'Open Sans', verdana, arial, sans-serif; font-size: 16px; fill: rgb(42, 63, 95); fill-opacity: 1; white-space: pre;\">Cumulative Returns</text></g></g></g></g></svg>"
      ]
     },
     "metadata": {},
     "output_type": "display_data"
    }
   ],
   "source": [
    "portfolio['a'].plot().show_svg()"
   ]
  },
  {
   "cell_type": "code",
   "execution_count": 133,
   "metadata": {},
   "outputs": [
    {
     "name": "stderr",
     "output_type": "stream",
     "text": [
      "/Users/olegpolakow/Documents/SourceTree/vectorbt/vectorbt/generic/plots_builder.py:355: UserWarning:\n",
      "\n",
      "Subplot 'orders' does not support grouped data\n",
      "\n",
      "/Users/olegpolakow/Documents/SourceTree/vectorbt/vectorbt/generic/plots_builder.py:355: UserWarning:\n",
      "\n",
      "Subplot 'trade_pnl' does not support grouped data\n",
      "\n"
     ]
    },
    {
     "data": {
      "image/svg+xml": [
       "<svg class=\"main-svg\" xmlns=\"http://www.w3.org/2000/svg\" xmlns:xlink=\"http://www.w3.org/1999/xlink\" width=\"750\" height=\"380\" viewBox=\"0 0 750 380\"><rect x=\"0\" y=\"0\" width=\"750\" height=\"380\" style=\"fill: rgb(255, 255, 255); fill-opacity: 1;\"/><defs id=\"defs-ab821a\"><g class=\"clips\"><clipPath id=\"clipab821axyplot\" class=\"plotclip\"><rect width=\"663\" height=\"245\"/></clipPath><clipPath class=\"axesclip\" id=\"clipab821ax\"><rect x=\"57\" y=\"0\" width=\"663\" height=\"380\"/></clipPath><clipPath class=\"axesclip\" id=\"clipab821ay\"><rect x=\"0\" y=\"67\" width=\"750\" height=\"245\"/></clipPath><clipPath class=\"axesclip\" id=\"clipab821axy\"><rect x=\"57\" y=\"67\" width=\"663\" height=\"245\"/></clipPath></g><g class=\"gradients\"/><g class=\"patterns\"/></defs><g class=\"bglayer\"><rect class=\"bg\" x=\"57\" y=\"67\" width=\"663\" height=\"245\" style=\"fill: rgb(229, 236, 246); fill-opacity: 1; stroke-width: 0;\"/></g><g class=\"layer-below\"><g class=\"imagelayer\"/><g class=\"shapelayer\"/></g><g class=\"cartesianlayer\"><g class=\"subplot xy\"><g class=\"layer-subplot\"><g class=\"shapelayer\"/><g class=\"imagelayer\"/></g><g class=\"gridlayer\"><g class=\"x\"><path class=\"xgrid crisp\" transform=\"translate(93.9,0)\" d=\"M0,67v245\" style=\"stroke: rgb(255, 255, 255); stroke-opacity: 1; stroke-width: 1px;\"/><path class=\"xgrid crisp\" transform=\"translate(167.55,0)\" d=\"M0,67v245\" style=\"stroke: rgb(255, 255, 255); stroke-opacity: 1; stroke-width: 1px;\"/><path class=\"xgrid crisp\" transform=\"translate(241.2,0)\" d=\"M0,67v245\" style=\"stroke: rgb(255, 255, 255); stroke-opacity: 1; stroke-width: 1px;\"/><path class=\"xgrid crisp\" transform=\"translate(314.85,0)\" d=\"M0,67v245\" style=\"stroke: rgb(255, 255, 255); stroke-opacity: 1; stroke-width: 1px;\"/><path class=\"xgrid crisp\" transform=\"translate(388.5,0)\" d=\"M0,67v245\" style=\"stroke: rgb(255, 255, 255); stroke-opacity: 1; stroke-width: 1px;\"/><path class=\"xgrid crisp\" transform=\"translate(462.15,0)\" d=\"M0,67v245\" style=\"stroke: rgb(255, 255, 255); stroke-opacity: 1; stroke-width: 1px;\"/><path class=\"xgrid crisp\" transform=\"translate(535.8,0)\" d=\"M0,67v245\" style=\"stroke: rgb(255, 255, 255); stroke-opacity: 1; stroke-width: 1px;\"/><path class=\"xgrid crisp\" transform=\"translate(609.45,0)\" d=\"M0,67v245\" style=\"stroke: rgb(255, 255, 255); stroke-opacity: 1; stroke-width: 1px;\"/><path class=\"xgrid crisp\" transform=\"translate(683.1,0)\" d=\"M0,67v245\" style=\"stroke: rgb(255, 255, 255); stroke-opacity: 1; stroke-width: 1px;\"/></g><g class=\"y\"><path class=\"ygrid crisp\" transform=\"translate(0,294.07)\" d=\"M57,0h663\" style=\"stroke: rgb(255, 255, 255); stroke-opacity: 1; stroke-width: 1px;\"/><path class=\"ygrid crisp\" transform=\"translate(0,255.69)\" d=\"M57,0h663\" style=\"stroke: rgb(255, 255, 255); stroke-opacity: 1; stroke-width: 1px;\"/><path class=\"ygrid crisp\" transform=\"translate(0,217.31)\" d=\"M57,0h663\" style=\"stroke: rgb(255, 255, 255); stroke-opacity: 1; stroke-width: 1px;\"/><path class=\"ygrid crisp\" transform=\"translate(0,178.94)\" d=\"M57,0h663\" style=\"stroke: rgb(255, 255, 255); stroke-opacity: 1; stroke-width: 1px;\"/><path class=\"ygrid crisp\" transform=\"translate(0,140.56)\" d=\"M57,0h663\" style=\"stroke: rgb(255, 255, 255); stroke-opacity: 1; stroke-width: 1px;\"/><path class=\"ygrid crisp\" transform=\"translate(0,102.19)\" d=\"M57,0h663\" style=\"stroke: rgb(255, 255, 255); stroke-opacity: 1; stroke-width: 1px;\"/></g></g><g class=\"zerolinelayer\"/><path class=\"xlines-below\"/><path class=\"ylines-below\"/><g class=\"overlines-below\"/><g class=\"xaxislayer-below\"/><g class=\"yaxislayer-below\"/><g class=\"overaxes-below\"/><g class=\"plot\" transform=\"translate(57,67)\" clip-path=\"url(#clipab821axyplot)\"><g class=\"scatterlayer mlayer\"><g class=\"trace scatter trace52edfe7d-7160-48fb-8367-7ee2eed0cd5b\" style=\"stroke-miterlimit: 2; opacity: 1;\"><g class=\"fills\"/><g class=\"errorbars\"/><g class=\"lines\"><path class=\"js-line\" d=\"M36.9,227.07L184.2,188.69L331.5,169.5L478.8,73.56L626.1,16\" style=\"vector-effect: non-scaling-stroke; fill: none; stroke: rgb(127, 127, 127); stroke-opacity: 1; stroke-width: 2px; opacity: 1;\"/></g><g class=\"points\"><path class=\"point\" transform=\"translate(36.9,227.07)\" d=\"M3,0A3,3 0 1,1 0,-3A3,3 0 0,1 3,0Z\" style=\"opacity: 1; stroke-width: 0px; fill: rgb(127, 127, 127); fill-opacity: 1;\"/><path class=\"point\" transform=\"translate(184.2,188.69)\" d=\"M3,0A3,3 0 1,1 0,-3A3,3 0 0,1 3,0Z\" style=\"opacity: 1; stroke-width: 0px; fill: rgb(127, 127, 127); fill-opacity: 1;\"/><path class=\"point\" transform=\"translate(331.5,169.5)\" d=\"M3,0A3,3 0 1,1 0,-3A3,3 0 0,1 3,0Z\" style=\"opacity: 1; stroke-width: 0px; fill: rgb(127, 127, 127); fill-opacity: 1;\"/><path class=\"point\" transform=\"translate(478.8,73.56)\" d=\"M3,0A3,3 0 1,1 0,-3A3,3 0 0,1 3,0Z\" style=\"opacity: 1; stroke-width: 0px; fill: rgb(127, 127, 127); fill-opacity: 1;\"/><path class=\"point\" transform=\"translate(626.1,16)\" d=\"M3,0A3,3 0 1,1 0,-3A3,3 0 0,1 3,0Z\" style=\"opacity: 1; stroke-width: 0px; fill: rgb(127, 127, 127); fill-opacity: 1;\"/></g><g class=\"text\"/></g><g class=\"trace scatter trace2dbf7f58-f846-47c2-b187-2437f473a2e6\" style=\"stroke-miterlimit: 2;\"><g class=\"fills\"><g><path class=\"js-fill\" d=\"M36.9,227.11L626.1,229L626.1,227.07L36.9,227.07Z\" style=\"fill: rgb(255, 0, 0); fill-opacity: 0.3; stroke-width: 0;\"/></g></g><g class=\"errorbars\"/><g class=\"lines\"><path class=\"js-line\" d=\"M36.9,227.07L626.1,227.07\" style=\"vector-effect: non-scaling-stroke; fill: none; stroke: rgb(0, 0, 0); stroke-opacity: 0; stroke-width: 0px; opacity: 1;\"/></g><g class=\"points\"><path class=\"point\" transform=\"translate(36.9,227.07)\" d=\"M3,0A3,3 0 1,1 0,-3A3,3 0 0,1 3,0Z\" style=\"opacity: 1; stroke-width: 0px; fill: rgb(0, 0, 0); fill-opacity: 0;\"/><path class=\"point\" transform=\"translate(184.2,227.07)\" d=\"M3,0A3,3 0 1,1 0,-3A3,3 0 0,1 3,0Z\" style=\"opacity: 1; stroke-width: 0px; fill: rgb(0, 0, 0); fill-opacity: 0;\"/><path class=\"point\" transform=\"translate(331.5,227.07)\" d=\"M3,0A3,3 0 1,1 0,-3A3,3 0 0,1 3,0Z\" style=\"opacity: 1; stroke-width: 0px; fill: rgb(0, 0, 0); fill-opacity: 0;\"/><path class=\"point\" transform=\"translate(478.8,227.07)\" d=\"M3,0A3,3 0 1,1 0,-3A3,3 0 0,1 3,0Z\" style=\"opacity: 1; stroke-width: 0px; fill: rgb(0, 0, 0); fill-opacity: 0;\"/><path class=\"point\" transform=\"translate(626.1,227.07)\" d=\"M3,0A3,3 0 1,1 0,-3A3,3 0 0,1 3,0Z\" style=\"opacity: 1; stroke-width: 0px; fill: rgb(0, 0, 0); fill-opacity: 0;\"/></g><g class=\"text\"/></g><g class=\"trace scatter trace3c8bfe14-cb72-446d-962c-480bd535b5ad\" style=\"stroke-miterlimit: 2;\"><g class=\"fills\"/><g class=\"errorbars\"/><g class=\"lines\"><path class=\"js-line\" d=\"M36.9,227.11L626.1,229\" style=\"vector-effect: non-scaling-stroke; fill: none; stroke: rgb(0, 0, 0); stroke-opacity: 0; stroke-width: 0px; opacity: 1;\"/></g><g class=\"points\"><path class=\"point\" transform=\"translate(36.9,227.11)\" d=\"M3,0A3,3 0 1,1 0,-3A3,3 0 0,1 3,0Z\" style=\"opacity: 1; stroke-width: 0px; fill: rgb(0, 0, 0); fill-opacity: 0;\"/><path class=\"point\" transform=\"translate(184.2,227.57)\" d=\"M3,0A3,3 0 1,1 0,-3A3,3 0 0,1 3,0Z\" style=\"opacity: 1; stroke-width: 0px; fill: rgb(0, 0, 0); fill-opacity: 0;\"/><path class=\"point\" transform=\"translate(331.5,227.58)\" d=\"M3,0A3,3 0 1,1 0,-3A3,3 0 0,1 3,0Z\" style=\"opacity: 1; stroke-width: 0px; fill: rgb(0, 0, 0); fill-opacity: 0;\"/><path class=\"point\" transform=\"translate(478.8,228.46)\" d=\"M3,0A3,3 0 1,1 0,-3A3,3 0 0,1 3,0Z\" style=\"opacity: 1; stroke-width: 0px; fill: rgb(0, 0, 0); fill-opacity: 0;\"/><path class=\"point\" transform=\"translate(626.1,229)\" d=\"M3,0A3,3 0 1,1 0,-3A3,3 0 0,1 3,0Z\" style=\"opacity: 1; stroke-width: 0px; fill: rgb(0, 0, 0); fill-opacity: 0;\"/></g><g class=\"text\"/></g><g class=\"trace scatter trace4517b057-6baa-42f2-b046-abebaf478ceb\" style=\"stroke-miterlimit: 2; opacity: 1;\"><g class=\"fills\"/><g class=\"errorbars\"/><g class=\"lines\"><path class=\"js-line\" d=\"M36.9,227.11L626.1,229\" style=\"vector-effect: non-scaling-stroke; fill: none; stroke: rgb(148, 103, 189); stroke-opacity: 1; stroke-width: 2px; opacity: 1;\"/></g><g class=\"points\"><path class=\"point\" transform=\"translate(36.9,227.11)\" d=\"M3,0A3,3 0 1,1 0,-3A3,3 0 0,1 3,0Z\" style=\"opacity: 1; stroke-width: 0px; fill: rgb(148, 103, 189); fill-opacity: 1;\"/><path class=\"point\" transform=\"translate(184.2,227.57)\" d=\"M3,0A3,3 0 1,1 0,-3A3,3 0 0,1 3,0Z\" style=\"opacity: 1; stroke-width: 0px; fill: rgb(148, 103, 189); fill-opacity: 1;\"/><path class=\"point\" transform=\"translate(331.5,227.58)\" d=\"M3,0A3,3 0 1,1 0,-3A3,3 0 0,1 3,0Z\" style=\"opacity: 1; stroke-width: 0px; fill: rgb(148, 103, 189); fill-opacity: 1;\"/><path class=\"point\" transform=\"translate(478.8,228.46)\" d=\"M3,0A3,3 0 1,1 0,-3A3,3 0 0,1 3,0Z\" style=\"opacity: 1; stroke-width: 0px; fill: rgb(148, 103, 189); fill-opacity: 1;\"/><path class=\"point\" transform=\"translate(626.1,229)\" d=\"M3,0A3,3 0 1,1 0,-3A3,3 0 0,1 3,0Z\" style=\"opacity: 1; stroke-width: 0px; fill: rgb(148, 103, 189); fill-opacity: 1;\"/></g><g class=\"text\"/></g><g class=\"trace scatter trace50a05b20-8f3c-4d9c-8383-fa21e38c2014\" style=\"stroke-miterlimit: 2; opacity: 0;\"><g class=\"fills\"/><g class=\"errorbars\"/><g class=\"lines\"><path class=\"js-line\" d=\"M36.9,227.07L626.1,227.07\" style=\"vector-effect: non-scaling-stroke; fill: none; stroke: rgb(0, 0, 0); stroke-opacity: 0; stroke-width: 0px; opacity: 1;\"/></g><g class=\"points\"><path class=\"point\" transform=\"translate(36.9,227.07)\" d=\"M3,0A3,3 0 1,1 0,-3A3,3 0 0,1 3,0Z\" style=\"opacity: 1; stroke-width: 0px; fill: rgb(0, 0, 0); fill-opacity: 0;\"/><path class=\"point\" transform=\"translate(184.2,227.07)\" d=\"M3,0A3,3 0 1,1 0,-3A3,3 0 0,1 3,0Z\" style=\"opacity: 1; stroke-width: 0px; fill: rgb(0, 0, 0); fill-opacity: 0;\"/><path class=\"point\" transform=\"translate(331.5,227.07)\" d=\"M3,0A3,3 0 1,1 0,-3A3,3 0 0,1 3,0Z\" style=\"opacity: 1; stroke-width: 0px; fill: rgb(0, 0, 0); fill-opacity: 0;\"/><path class=\"point\" transform=\"translate(478.8,227.07)\" d=\"M3,0A3,3 0 1,1 0,-3A3,3 0 0,1 3,0Z\" style=\"opacity: 1; stroke-width: 0px; fill: rgb(0, 0, 0); fill-opacity: 0;\"/><path class=\"point\" transform=\"translate(626.1,227.07)\" d=\"M3,0A3,3 0 1,1 0,-3A3,3 0 0,1 3,0Z\" style=\"opacity: 1; stroke-width: 0px; fill: rgb(0, 0, 0); fill-opacity: 0;\"/></g><g class=\"text\"/></g></g></g><g class=\"overplot\"/><path class=\"xlines-above crisp\" d=\"M0,0\" style=\"fill: none;\"/><path class=\"ylines-above crisp\" d=\"M0,0\" style=\"fill: none;\"/><g class=\"overlines-above\"/><g class=\"xaxislayer-above\"><g class=\"xtick\"><text text-anchor=\"middle\" x=\"0\" y=\"325\" transform=\"translate(93.9,0)\" style=\"font-family: 'Open Sans', verdana, arial, sans-serif; font-size: 12px; fill: rgb(42, 63, 95); fill-opacity: 1; white-space: pre; opacity: 1;\"><tspan class=\"line\" dy=\"0em\" x=\"0\" y=\"325\">00:00</tspan><tspan class=\"line\" dy=\"1.3em\" x=\"0\" y=\"325\">Jan 1, 2020</tspan></text></g><g class=\"xtick\"><text text-anchor=\"middle\" x=\"0\" y=\"325\" style=\"font-family: 'Open Sans', verdana, arial, sans-serif; font-size: 12px; fill: rgb(42, 63, 95); fill-opacity: 1; white-space: pre; opacity: 1;\" transform=\"translate(167.55,0)\">12:00</text></g><g class=\"xtick\"><text text-anchor=\"middle\" x=\"0\" y=\"325\" style=\"font-family: 'Open Sans', verdana, arial, sans-serif; font-size: 12px; fill: rgb(42, 63, 95); fill-opacity: 1; white-space: pre; opacity: 1;\" transform=\"translate(241.2,0)\"><tspan class=\"line\" dy=\"0em\" x=\"0\" y=\"325\">00:00</tspan><tspan class=\"line\" dy=\"1.3em\" x=\"0\" y=\"325\">Jan 2, 2020</tspan></text></g><g class=\"xtick\"><text text-anchor=\"middle\" x=\"0\" y=\"325\" style=\"font-family: 'Open Sans', verdana, arial, sans-serif; font-size: 12px; fill: rgb(42, 63, 95); fill-opacity: 1; white-space: pre; opacity: 1;\" transform=\"translate(314.85,0)\">12:00</text></g><g class=\"xtick\"><text text-anchor=\"middle\" x=\"0\" y=\"325\" style=\"font-family: 'Open Sans', verdana, arial, sans-serif; font-size: 12px; fill: rgb(42, 63, 95); fill-opacity: 1; white-space: pre; opacity: 1;\" transform=\"translate(388.5,0)\"><tspan class=\"line\" dy=\"0em\" x=\"0\" y=\"325\">00:00</tspan><tspan class=\"line\" dy=\"1.3em\" x=\"0\" y=\"325\">Jan 3, 2020</tspan></text></g><g class=\"xtick\"><text text-anchor=\"middle\" x=\"0\" y=\"325\" style=\"font-family: 'Open Sans', verdana, arial, sans-serif; font-size: 12px; fill: rgb(42, 63, 95); fill-opacity: 1; white-space: pre; opacity: 1;\" transform=\"translate(462.15,0)\">12:00</text></g><g class=\"xtick\"><text text-anchor=\"middle\" x=\"0\" y=\"325\" style=\"font-family: 'Open Sans', verdana, arial, sans-serif; font-size: 12px; fill: rgb(42, 63, 95); fill-opacity: 1; white-space: pre; opacity: 1;\" transform=\"translate(535.8,0)\"><tspan class=\"line\" dy=\"0em\" x=\"0\" y=\"325\">00:00</tspan><tspan class=\"line\" dy=\"1.3em\" x=\"0\" y=\"325\">Jan 4, 2020</tspan></text></g><g class=\"xtick\"><text text-anchor=\"middle\" x=\"0\" y=\"325\" style=\"font-family: 'Open Sans', verdana, arial, sans-serif; font-size: 12px; fill: rgb(42, 63, 95); fill-opacity: 1; white-space: pre; opacity: 1;\" transform=\"translate(609.45,0)\">12:00</text></g><g class=\"xtick\"><text text-anchor=\"middle\" x=\"0\" y=\"325\" style=\"font-family: 'Open Sans', verdana, arial, sans-serif; font-size: 12px; fill: rgb(42, 63, 95); fill-opacity: 1; white-space: pre; opacity: 1;\" transform=\"translate(683.1,0)\"><tspan class=\"line\" dy=\"0em\" x=\"0\" y=\"325\">00:00</tspan><tspan class=\"line\" dy=\"1.3em\" x=\"0\" y=\"325\">Jan 5, 2020</tspan></text></g></g><g class=\"yaxislayer-above\"><g class=\"ytick\"><text text-anchor=\"end\" x=\"56\" y=\"4.199999999999999\" transform=\"translate(0,294.07)\" style=\"font-family: 'Open Sans', verdana, arial, sans-serif; font-size: 12px; fill: rgb(42, 63, 95); fill-opacity: 1; white-space: pre; opacity: 1;\">1</text></g><g class=\"ytick\"><text text-anchor=\"end\" x=\"56\" y=\"4.199999999999999\" style=\"font-family: 'Open Sans', verdana, arial, sans-serif; font-size: 12px; fill: rgb(42, 63, 95); fill-opacity: 1; white-space: pre; opacity: 1;\" transform=\"translate(0,255.69)\">1.5</text></g><g class=\"ytick\"><text text-anchor=\"end\" x=\"56\" y=\"4.199999999999999\" style=\"font-family: 'Open Sans', verdana, arial, sans-serif; font-size: 12px; fill: rgb(42, 63, 95); fill-opacity: 1; white-space: pre; opacity: 1;\" transform=\"translate(0,217.31)\">2</text></g><g class=\"ytick\"><text text-anchor=\"end\" x=\"56\" y=\"4.199999999999999\" style=\"font-family: 'Open Sans', verdana, arial, sans-serif; font-size: 12px; fill: rgb(42, 63, 95); fill-opacity: 1; white-space: pre; opacity: 1;\" transform=\"translate(0,178.94)\">2.5</text></g><g class=\"ytick\"><text text-anchor=\"end\" x=\"56\" y=\"4.199999999999999\" style=\"font-family: 'Open Sans', verdana, arial, sans-serif; font-size: 12px; fill: rgb(42, 63, 95); fill-opacity: 1; white-space: pre; opacity: 1;\" transform=\"translate(0,140.56)\">3</text></g><g class=\"ytick\"><text text-anchor=\"end\" x=\"56\" y=\"4.199999999999999\" style=\"font-family: 'Open Sans', verdana, arial, sans-serif; font-size: 12px; fill: rgb(42, 63, 95); fill-opacity: 1; white-space: pre; opacity: 1;\" transform=\"translate(0,102.19)\">3.5</text></g></g><g class=\"overaxes-above\"/></g></g><g class=\"polarlayer\"/><g class=\"ternarylayer\"/><g class=\"geolayer\"/><g class=\"funnelarealayer\"/><g class=\"pielayer\"/><g class=\"iciclelayer\"/><g class=\"treemaplayer\"/><g class=\"sunburstlayer\"/><g class=\"glimages\"/><defs id=\"topdefs-ab821a\"><g class=\"clips\"/><clipPath id=\"legendab821a\"><rect width=\"192\" height=\"29\" x=\"0\" y=\"0\"/></clipPath></defs><g class=\"layer-above\"><g class=\"imagelayer\"/><g class=\"shapelayer\"><path data-index=\"0\" fill-rule=\"evenodd\" d=\"M57,294.07L720,294.07\" clip-path=\"url(#clipab821ay)\" style=\"opacity: 1; stroke: rgb(128, 128, 128); stroke-opacity: 1; fill: rgb(0, 0, 0); fill-opacity: 0; stroke-dasharray: 9px, 9px; stroke-width: 2px;\"/></g></g><g class=\"infolayer\"><g class=\"legend\" pointer-events=\"all\" transform=\"translate(528,12.210526315789501)\"><rect class=\"bg\" shape-rendering=\"crispEdges\" width=\"192\" height=\"29\" x=\"0\" y=\"0\" style=\"stroke: rgb(68, 68, 68); stroke-opacity: 1; fill: rgb(255, 255, 255); fill-opacity: 1; stroke-width: 0px;\"/><g class=\"scrollbox\" transform=\"\" clip-path=\"url(#legendab821a)\"><g class=\"groups\"><g class=\"traces\" transform=\"translate(0,14.5)\" style=\"opacity: 1;\"><text class=\"legendtext\" text-anchor=\"start\" x=\"40\" y=\"4.680000000000001\" style=\"font-family: 'Open Sans', verdana, arial, sans-serif; font-size: 12px; fill: rgb(42, 63, 95); fill-opacity: 1; white-space: pre;\">Benchmark</text><g class=\"layers\" style=\"opacity: 1;\"><g class=\"legendfill\"/><g class=\"legendlines\"><path class=\"js-line\" d=\"M5,0h30\" style=\"fill: none; stroke: rgb(127, 127, 127); stroke-opacity: 1; stroke-width: 2px;\"/></g><g class=\"legendsymbols\"><g class=\"legendpoints\"><path class=\"scatterpts\" transform=\"translate(20,0)\" d=\"M3,0A3,3 0 1,1 0,-3A3,3 0 0,1 3,0Z\" style=\"opacity: 1; stroke-width: 0px; fill: rgb(127, 127, 127); fill-opacity: 1;\"/></g></g></g><rect class=\"legendtoggle\" x=\"0\" y=\"-9.5\" width=\"110.40625\" height=\"19\" style=\"fill: rgb(0, 0, 0); fill-opacity: 0;\"/></g><g class=\"traces\" transform=\"translate(112.90625,14.5)\" style=\"opacity: 1;\"><text class=\"legendtext\" text-anchor=\"start\" x=\"40\" y=\"4.680000000000001\" style=\"font-family: 'Open Sans', verdana, arial, sans-serif; font-size: 12px; fill: rgb(42, 63, 95); fill-opacity: 1; white-space: pre;\">Value</text><g class=\"layers\" style=\"opacity: 1;\"><g class=\"legendfill\"/><g class=\"legendlines\"><path class=\"js-line\" d=\"M5,0h30\" style=\"fill: none; stroke: rgb(148, 103, 189); stroke-opacity: 1; stroke-width: 2px;\"/></g><g class=\"legendsymbols\"><g class=\"legendpoints\"><path class=\"scatterpts\" transform=\"translate(20,0)\" d=\"M3,0A3,3 0 1,1 0,-3A3,3 0 0,1 3,0Z\" style=\"opacity: 1; stroke-width: 0px; fill: rgb(148, 103, 189); fill-opacity: 1;\"/></g></g></g><rect class=\"legendtoggle\" x=\"0\" y=\"-9.5\" width=\"75.9375\" height=\"19\" style=\"fill: rgb(0, 0, 0); fill-opacity: 0;\"/></g></g></g><rect class=\"scrollbar\" rx=\"20\" ry=\"3\" width=\"0\" height=\"0\" x=\"0\" y=\"0\" style=\"fill: rgb(128, 139, 164); fill-opacity: 1;\"/></g><g class=\"g-gtitle\"/><g class=\"g-xtitle\"><text class=\"xtitle\" x=\"388.5\" y=\"367.89375\" text-anchor=\"middle\" style=\"font-family: 'Open Sans', verdana, arial, sans-serif; font-size: 14px; fill: rgb(42, 63, 95); opacity: 1; font-weight: normal; white-space: pre;\">Index</text></g><g class=\"g-ytitle\" transform=\"translate(2.4248046875,0)\"><text class=\"ytitle\" transform=\"rotate(-90,11.575000000000003,189.5)\" x=\"11.575000000000003\" y=\"189.5\" text-anchor=\"middle\" style=\"font-family: 'Open Sans', verdana, arial, sans-serif; font-size: 14px; fill: rgb(42, 63, 95); opacity: 1; font-weight: normal; white-space: pre;\">Cumulative returns</text></g><g class=\"annotation\" data-index=\"0\" style=\"opacity: 1;\"><g class=\"annotation-text-g\" transform=\"rotate(0,388.5,54.99999999999999)\"><g class=\"cursor-pointer\" transform=\"translate(307,43)\"><rect class=\"bg\" x=\"0.5\" y=\"0.5\" width=\"162\" height=\"23\" style=\"stroke-width: 1px; stroke: rgb(0, 0, 0); stroke-opacity: 0; fill: rgb(0, 0, 0); fill-opacity: 0;\"/><text class=\"annotation-text\" text-anchor=\"middle\" x=\"81.328125\" y=\"18\" style=\"font-family: 'Open Sans', verdana, arial, sans-serif; font-size: 16px; fill: rgb(42, 63, 95); fill-opacity: 1; white-space: pre;\">Cumulative Returns</text></g></g></g></g></svg>"
      ]
     },
     "metadata": {},
     "output_type": "display_data"
    }
   ],
   "source": [
    "portfolio_shared['first'].plot().show_svg()"
   ]
  },
  {
   "cell_type": "code",
   "execution_count": 134,
   "metadata": {},
   "outputs": [
    {
     "data": {
      "image/svg+xml": [
       "<svg class=\"main-svg\" xmlns=\"http://www.w3.org/2000/svg\" xmlns:xlink=\"http://www.w3.org/1999/xlink\" width=\"750\" height=\"4150\" viewBox=\"0 0 750 4150\"><rect x=\"0\" y=\"0\" width=\"750\" height=\"4150\" style=\"fill: rgb(255, 255, 255); fill-opacity: 1;\"/><defs id=\"defs-663257\"><g class=\"clips\"><clipPath id=\"clip663257xyplot\" class=\"plotclip\"><rect width=\"602\" height=\"245.35301204819274\"/></clipPath><clipPath id=\"clip663257x2y2plot\" class=\"plotclip\"><rect width=\"602\" height=\"245.35301204819274\"/></clipPath><clipPath id=\"clip663257x3y3plot\" class=\"plotclip\"><rect width=\"602\" height=\"245.35301204819274\"/></clipPath><clipPath id=\"clip663257x4y4plot\" class=\"plotclip\"><rect width=\"602\" height=\"245.35301204819274\"/></clipPath><clipPath id=\"clip663257x5y5plot\" class=\"plotclip\"><rect width=\"602\" height=\"245.35301204819274\"/></clipPath><clipPath id=\"clip663257x6y6plot\" class=\"plotclip\"><rect width=\"602\" height=\"245.35301204819274\"/></clipPath><clipPath id=\"clip663257x7y7plot\" class=\"plotclip\"><rect width=\"602\" height=\"245.35301204819274\"/></clipPath><clipPath id=\"clip663257x8y8plot\" class=\"plotclip\"><rect width=\"602\" height=\"245.35301204819274\"/></clipPath><clipPath id=\"clip663257x9y9plot\" class=\"plotclip\"><rect width=\"602\" height=\"245.35301204819274\"/></clipPath><clipPath id=\"clip663257x10y10plot\" class=\"plotclip\"><rect width=\"602\" height=\"245.35301204819274\"/></clipPath><clipPath id=\"clip663257x11y11plot\" class=\"plotclip\"><rect width=\"602\" height=\"245.35301204819285\"/></clipPath><clipPath id=\"clip663257x12y12plot\" class=\"plotclip\"><rect width=\"602\" height=\"245.35301204819274\"/></clipPath><clipPath id=\"clip663257x13y13plot\" class=\"plotclip\"><rect width=\"602\" height=\"245.3530120481928\"/></clipPath><clipPath id=\"clip663257x14y14plot\" class=\"plotclip\"><rect width=\"602\" height=\"245.35301204819277\"/></clipPath><clipPath class=\"axesclip\" id=\"clip663257x\"><rect x=\"118\" y=\"0\" width=\"602\" height=\"4150\"/></clipPath><clipPath class=\"axesclip\" id=\"clip663257y\"><rect x=\"0\" y=\"155\" width=\"750\" height=\"245.35301204819274\"/></clipPath><clipPath class=\"axesclip\" id=\"clip663257xy\"><rect x=\"118\" y=\"155\" width=\"602\" height=\"245.35301204819274\"/></clipPath><clipPath class=\"axesclip\" id=\"clip663257y2\"><rect x=\"0\" y=\"438.2036144578312\" width=\"750\" height=\"245.35301204819274\"/></clipPath><clipPath class=\"axesclip\" id=\"clip663257xy2\"><rect x=\"118\" y=\"438.2036144578312\" width=\"602\" height=\"245.35301204819274\"/></clipPath><clipPath class=\"axesclip\" id=\"clip663257y3\"><rect x=\"0\" y=\"721.4072289156624\" width=\"750\" height=\"245.35301204819274\"/></clipPath><clipPath class=\"axesclip\" id=\"clip663257xy3\"><rect x=\"118\" y=\"721.4072289156624\" width=\"602\" height=\"245.35301204819274\"/></clipPath><clipPath class=\"axesclip\" id=\"clip663257y4\"><rect x=\"0\" y=\"1004.6108433734939\" width=\"750\" height=\"245.35301204819274\"/></clipPath><clipPath class=\"axesclip\" id=\"clip663257xy4\"><rect x=\"118\" y=\"1004.6108433734939\" width=\"602\" height=\"245.35301204819274\"/></clipPath><clipPath class=\"axesclip\" id=\"clip663257y5\"><rect x=\"0\" y=\"1287.8144578313252\" width=\"750\" height=\"245.35301204819274\"/></clipPath><clipPath class=\"axesclip\" id=\"clip663257xy5\"><rect x=\"118\" y=\"1287.8144578313252\" width=\"602\" height=\"245.35301204819274\"/></clipPath><clipPath class=\"axesclip\" id=\"clip663257y6\"><rect x=\"0\" y=\"1571.0180722891566\" width=\"750\" height=\"245.35301204819274\"/></clipPath><clipPath class=\"axesclip\" id=\"clip663257xy6\"><rect x=\"118\" y=\"1571.0180722891566\" width=\"602\" height=\"245.35301204819274\"/></clipPath><clipPath class=\"axesclip\" id=\"clip663257y7\"><rect x=\"0\" y=\"1854.2216867469879\" width=\"750\" height=\"245.35301204819274\"/></clipPath><clipPath class=\"axesclip\" id=\"clip663257xy7\"><rect x=\"118\" y=\"1854.2216867469879\" width=\"602\" height=\"245.35301204819274\"/></clipPath><clipPath class=\"axesclip\" id=\"clip663257y8\"><rect x=\"0\" y=\"2137.425301204819\" width=\"750\" height=\"245.35301204819274\"/></clipPath><clipPath class=\"axesclip\" id=\"clip663257xy8\"><rect x=\"118\" y=\"2137.425301204819\" width=\"602\" height=\"245.35301204819274\"/></clipPath><clipPath class=\"axesclip\" id=\"clip663257y9\"><rect x=\"0\" y=\"2420.628915662651\" width=\"750\" height=\"245.35301204819274\"/></clipPath><clipPath class=\"axesclip\" id=\"clip663257xy9\"><rect x=\"118\" y=\"2420.628915662651\" width=\"602\" height=\"245.35301204819274\"/></clipPath><clipPath class=\"axesclip\" id=\"clip663257y10\"><rect x=\"0\" y=\"2703.8325301204823\" width=\"750\" height=\"245.35301204819274\"/></clipPath><clipPath class=\"axesclip\" id=\"clip663257xy10\"><rect x=\"118\" y=\"2703.8325301204823\" width=\"602\" height=\"245.35301204819274\"/></clipPath><clipPath class=\"axesclip\" id=\"clip663257y11\"><rect x=\"0\" y=\"2987.0361445783133\" width=\"750\" height=\"245.35301204819285\"/></clipPath><clipPath class=\"axesclip\" id=\"clip663257xy11\"><rect x=\"118\" y=\"2987.0361445783133\" width=\"602\" height=\"245.35301204819285\"/></clipPath><clipPath class=\"axesclip\" id=\"clip663257y12\"><rect x=\"0\" y=\"3270.2397590361443\" width=\"750\" height=\"245.35301204819274\"/></clipPath><clipPath class=\"axesclip\" id=\"clip663257xy12\"><rect x=\"118\" y=\"3270.2397590361443\" width=\"602\" height=\"245.35301204819274\"/></clipPath><clipPath class=\"axesclip\" id=\"clip663257y13\"><rect x=\"0\" y=\"3553.4433734939757\" width=\"750\" height=\"245.3530120481928\"/></clipPath><clipPath class=\"axesclip\" id=\"clip663257xy13\"><rect x=\"118\" y=\"3553.4433734939757\" width=\"602\" height=\"245.3530120481928\"/></clipPath><clipPath class=\"axesclip\" id=\"clip663257y14\"><rect x=\"0\" y=\"3836.646987951807\" width=\"750\" height=\"245.35301204819277\"/></clipPath><clipPath class=\"axesclip\" id=\"clip663257xy14\"><rect x=\"118\" y=\"3836.646987951807\" width=\"602\" height=\"245.35301204819277\"/></clipPath><clipPath class=\"axesclip\" id=\"clip663257x2\"><rect x=\"118\" y=\"0\" width=\"602\" height=\"4150\"/></clipPath><clipPath class=\"axesclip\" id=\"clip663257x2y\"><rect x=\"118\" y=\"155\" width=\"602\" height=\"245.35301204819274\"/></clipPath><clipPath class=\"axesclip\" id=\"clip663257x2y2\"><rect x=\"118\" y=\"438.2036144578312\" width=\"602\" height=\"245.35301204819274\"/></clipPath><clipPath class=\"axesclip\" id=\"clip663257x2y3\"><rect x=\"118\" y=\"721.4072289156624\" width=\"602\" height=\"245.35301204819274\"/></clipPath><clipPath class=\"axesclip\" id=\"clip663257x2y4\"><rect x=\"118\" y=\"1004.6108433734939\" width=\"602\" height=\"245.35301204819274\"/></clipPath><clipPath class=\"axesclip\" id=\"clip663257x2y5\"><rect x=\"118\" y=\"1287.8144578313252\" width=\"602\" height=\"245.35301204819274\"/></clipPath><clipPath class=\"axesclip\" id=\"clip663257x2y6\"><rect x=\"118\" y=\"1571.0180722891566\" width=\"602\" height=\"245.35301204819274\"/></clipPath><clipPath class=\"axesclip\" id=\"clip663257x2y7\"><rect x=\"118\" y=\"1854.2216867469879\" width=\"602\" height=\"245.35301204819274\"/></clipPath><clipPath class=\"axesclip\" id=\"clip663257x2y8\"><rect x=\"118\" y=\"2137.425301204819\" width=\"602\" height=\"245.35301204819274\"/></clipPath><clipPath class=\"axesclip\" id=\"clip663257x2y9\"><rect x=\"118\" y=\"2420.628915662651\" width=\"602\" height=\"245.35301204819274\"/></clipPath><clipPath class=\"axesclip\" id=\"clip663257x2y10\"><rect x=\"118\" y=\"2703.8325301204823\" width=\"602\" height=\"245.35301204819274\"/></clipPath><clipPath class=\"axesclip\" id=\"clip663257x2y11\"><rect x=\"118\" y=\"2987.0361445783133\" width=\"602\" height=\"245.35301204819285\"/></clipPath><clipPath class=\"axesclip\" id=\"clip663257x2y12\"><rect x=\"118\" y=\"3270.2397590361443\" width=\"602\" height=\"245.35301204819274\"/></clipPath><clipPath class=\"axesclip\" id=\"clip663257x2y13\"><rect x=\"118\" y=\"3553.4433734939757\" width=\"602\" height=\"245.3530120481928\"/></clipPath><clipPath class=\"axesclip\" id=\"clip663257x2y14\"><rect x=\"118\" y=\"3836.646987951807\" width=\"602\" height=\"245.35301204819277\"/></clipPath><clipPath class=\"axesclip\" id=\"clip663257x3\"><rect x=\"118\" y=\"0\" width=\"602\" height=\"4150\"/></clipPath><clipPath class=\"axesclip\" id=\"clip663257x3y\"><rect x=\"118\" y=\"155\" width=\"602\" height=\"245.35301204819274\"/></clipPath><clipPath class=\"axesclip\" id=\"clip663257x3y2\"><rect x=\"118\" y=\"438.2036144578312\" width=\"602\" height=\"245.35301204819274\"/></clipPath><clipPath class=\"axesclip\" id=\"clip663257x3y3\"><rect x=\"118\" y=\"721.4072289156624\" width=\"602\" height=\"245.35301204819274\"/></clipPath><clipPath class=\"axesclip\" id=\"clip663257x3y4\"><rect x=\"118\" y=\"1004.6108433734939\" width=\"602\" height=\"245.35301204819274\"/></clipPath><clipPath class=\"axesclip\" id=\"clip663257x3y5\"><rect x=\"118\" y=\"1287.8144578313252\" width=\"602\" height=\"245.35301204819274\"/></clipPath><clipPath class=\"axesclip\" id=\"clip663257x3y6\"><rect x=\"118\" y=\"1571.0180722891566\" width=\"602\" height=\"245.35301204819274\"/></clipPath><clipPath class=\"axesclip\" id=\"clip663257x3y7\"><rect x=\"118\" y=\"1854.2216867469879\" width=\"602\" height=\"245.35301204819274\"/></clipPath><clipPath class=\"axesclip\" id=\"clip663257x3y8\"><rect x=\"118\" y=\"2137.425301204819\" width=\"602\" height=\"245.35301204819274\"/></clipPath><clipPath class=\"axesclip\" id=\"clip663257x3y9\"><rect x=\"118\" y=\"2420.628915662651\" width=\"602\" height=\"245.35301204819274\"/></clipPath><clipPath class=\"axesclip\" id=\"clip663257x3y10\"><rect x=\"118\" y=\"2703.8325301204823\" width=\"602\" height=\"245.35301204819274\"/></clipPath><clipPath class=\"axesclip\" id=\"clip663257x3y11\"><rect x=\"118\" y=\"2987.0361445783133\" width=\"602\" height=\"245.35301204819285\"/></clipPath><clipPath class=\"axesclip\" id=\"clip663257x3y12\"><rect x=\"118\" y=\"3270.2397590361443\" width=\"602\" height=\"245.35301204819274\"/></clipPath><clipPath class=\"axesclip\" id=\"clip663257x3y13\"><rect x=\"118\" y=\"3553.4433734939757\" width=\"602\" height=\"245.3530120481928\"/></clipPath><clipPath class=\"axesclip\" id=\"clip663257x3y14\"><rect x=\"118\" y=\"3836.646987951807\" width=\"602\" height=\"245.35301204819277\"/></clipPath><clipPath class=\"axesclip\" id=\"clip663257x4\"><rect x=\"118\" y=\"0\" width=\"602\" height=\"4150\"/></clipPath><clipPath class=\"axesclip\" id=\"clip663257x4y\"><rect x=\"118\" y=\"155\" width=\"602\" height=\"245.35301204819274\"/></clipPath><clipPath class=\"axesclip\" id=\"clip663257x4y2\"><rect x=\"118\" y=\"438.2036144578312\" width=\"602\" height=\"245.35301204819274\"/></clipPath><clipPath class=\"axesclip\" id=\"clip663257x4y3\"><rect x=\"118\" y=\"721.4072289156624\" width=\"602\" height=\"245.35301204819274\"/></clipPath><clipPath class=\"axesclip\" id=\"clip663257x4y4\"><rect x=\"118\" y=\"1004.6108433734939\" width=\"602\" height=\"245.35301204819274\"/></clipPath><clipPath class=\"axesclip\" id=\"clip663257x4y5\"><rect x=\"118\" y=\"1287.8144578313252\" width=\"602\" height=\"245.35301204819274\"/></clipPath><clipPath class=\"axesclip\" id=\"clip663257x4y6\"><rect x=\"118\" y=\"1571.0180722891566\" width=\"602\" height=\"245.35301204819274\"/></clipPath><clipPath class=\"axesclip\" id=\"clip663257x4y7\"><rect x=\"118\" y=\"1854.2216867469879\" width=\"602\" height=\"245.35301204819274\"/></clipPath><clipPath class=\"axesclip\" id=\"clip663257x4y8\"><rect x=\"118\" y=\"2137.425301204819\" width=\"602\" height=\"245.35301204819274\"/></clipPath><clipPath class=\"axesclip\" id=\"clip663257x4y9\"><rect x=\"118\" y=\"2420.628915662651\" width=\"602\" height=\"245.35301204819274\"/></clipPath><clipPath class=\"axesclip\" id=\"clip663257x4y10\"><rect x=\"118\" y=\"2703.8325301204823\" width=\"602\" height=\"245.35301204819274\"/></clipPath><clipPath class=\"axesclip\" id=\"clip663257x4y11\"><rect x=\"118\" y=\"2987.0361445783133\" width=\"602\" height=\"245.35301204819285\"/></clipPath><clipPath class=\"axesclip\" id=\"clip663257x4y12\"><rect x=\"118\" y=\"3270.2397590361443\" width=\"602\" height=\"245.35301204819274\"/></clipPath><clipPath class=\"axesclip\" id=\"clip663257x4y13\"><rect x=\"118\" y=\"3553.4433734939757\" width=\"602\" height=\"245.3530120481928\"/></clipPath><clipPath class=\"axesclip\" id=\"clip663257x4y14\"><rect x=\"118\" y=\"3836.646987951807\" width=\"602\" height=\"245.35301204819277\"/></clipPath><clipPath class=\"axesclip\" id=\"clip663257x5\"><rect x=\"118\" y=\"0\" width=\"602\" height=\"4150\"/></clipPath><clipPath class=\"axesclip\" id=\"clip663257x5y\"><rect x=\"118\" y=\"155\" width=\"602\" height=\"245.35301204819274\"/></clipPath><clipPath class=\"axesclip\" id=\"clip663257x5y2\"><rect x=\"118\" y=\"438.2036144578312\" width=\"602\" height=\"245.35301204819274\"/></clipPath><clipPath class=\"axesclip\" id=\"clip663257x5y3\"><rect x=\"118\" y=\"721.4072289156624\" width=\"602\" height=\"245.35301204819274\"/></clipPath><clipPath class=\"axesclip\" id=\"clip663257x5y4\"><rect x=\"118\" y=\"1004.6108433734939\" width=\"602\" height=\"245.35301204819274\"/></clipPath><clipPath class=\"axesclip\" id=\"clip663257x5y5\"><rect x=\"118\" y=\"1287.8144578313252\" width=\"602\" height=\"245.35301204819274\"/></clipPath><clipPath class=\"axesclip\" id=\"clip663257x5y6\"><rect x=\"118\" y=\"1571.0180722891566\" width=\"602\" height=\"245.35301204819274\"/></clipPath><clipPath class=\"axesclip\" id=\"clip663257x5y7\"><rect x=\"118\" y=\"1854.2216867469879\" width=\"602\" height=\"245.35301204819274\"/></clipPath><clipPath class=\"axesclip\" id=\"clip663257x5y8\"><rect x=\"118\" y=\"2137.425301204819\" width=\"602\" height=\"245.35301204819274\"/></clipPath><clipPath class=\"axesclip\" id=\"clip663257x5y9\"><rect x=\"118\" y=\"2420.628915662651\" width=\"602\" height=\"245.35301204819274\"/></clipPath><clipPath class=\"axesclip\" id=\"clip663257x5y10\"><rect x=\"118\" y=\"2703.8325301204823\" width=\"602\" height=\"245.35301204819274\"/></clipPath><clipPath class=\"axesclip\" id=\"clip663257x5y11\"><rect x=\"118\" y=\"2987.0361445783133\" width=\"602\" height=\"245.35301204819285\"/></clipPath><clipPath class=\"axesclip\" id=\"clip663257x5y12\"><rect x=\"118\" y=\"3270.2397590361443\" width=\"602\" height=\"245.35301204819274\"/></clipPath><clipPath class=\"axesclip\" id=\"clip663257x5y13\"><rect x=\"118\" y=\"3553.4433734939757\" width=\"602\" height=\"245.3530120481928\"/></clipPath><clipPath class=\"axesclip\" id=\"clip663257x5y14\"><rect x=\"118\" y=\"3836.646987951807\" width=\"602\" height=\"245.35301204819277\"/></clipPath><clipPath class=\"axesclip\" id=\"clip663257x6\"><rect x=\"118\" y=\"0\" width=\"602\" height=\"4150\"/></clipPath><clipPath class=\"axesclip\" id=\"clip663257x6y\"><rect x=\"118\" y=\"155\" width=\"602\" height=\"245.35301204819274\"/></clipPath><clipPath class=\"axesclip\" id=\"clip663257x6y2\"><rect x=\"118\" y=\"438.2036144578312\" width=\"602\" height=\"245.35301204819274\"/></clipPath><clipPath class=\"axesclip\" id=\"clip663257x6y3\"><rect x=\"118\" y=\"721.4072289156624\" width=\"602\" height=\"245.35301204819274\"/></clipPath><clipPath class=\"axesclip\" id=\"clip663257x6y4\"><rect x=\"118\" y=\"1004.6108433734939\" width=\"602\" height=\"245.35301204819274\"/></clipPath><clipPath class=\"axesclip\" id=\"clip663257x6y5\"><rect x=\"118\" y=\"1287.8144578313252\" width=\"602\" height=\"245.35301204819274\"/></clipPath><clipPath class=\"axesclip\" id=\"clip663257x6y6\"><rect x=\"118\" y=\"1571.0180722891566\" width=\"602\" height=\"245.35301204819274\"/></clipPath><clipPath class=\"axesclip\" id=\"clip663257x6y7\"><rect x=\"118\" y=\"1854.2216867469879\" width=\"602\" height=\"245.35301204819274\"/></clipPath><clipPath class=\"axesclip\" id=\"clip663257x6y8\"><rect x=\"118\" y=\"2137.425301204819\" width=\"602\" height=\"245.35301204819274\"/></clipPath><clipPath class=\"axesclip\" id=\"clip663257x6y9\"><rect x=\"118\" y=\"2420.628915662651\" width=\"602\" height=\"245.35301204819274\"/></clipPath><clipPath class=\"axesclip\" id=\"clip663257x6y10\"><rect x=\"118\" y=\"2703.8325301204823\" width=\"602\" height=\"245.35301204819274\"/></clipPath><clipPath class=\"axesclip\" id=\"clip663257x6y11\"><rect x=\"118\" y=\"2987.0361445783133\" width=\"602\" height=\"245.35301204819285\"/></clipPath><clipPath class=\"axesclip\" id=\"clip663257x6y12\"><rect x=\"118\" y=\"3270.2397590361443\" width=\"602\" height=\"245.35301204819274\"/></clipPath><clipPath class=\"axesclip\" id=\"clip663257x6y13\"><rect x=\"118\" y=\"3553.4433734939757\" width=\"602\" height=\"245.3530120481928\"/></clipPath><clipPath class=\"axesclip\" id=\"clip663257x6y14\"><rect x=\"118\" y=\"3836.646987951807\" width=\"602\" height=\"245.35301204819277\"/></clipPath><clipPath class=\"axesclip\" id=\"clip663257x7\"><rect x=\"118\" y=\"0\" width=\"602\" height=\"4150\"/></clipPath><clipPath class=\"axesclip\" id=\"clip663257x7y\"><rect x=\"118\" y=\"155\" width=\"602\" height=\"245.35301204819274\"/></clipPath><clipPath class=\"axesclip\" id=\"clip663257x7y2\"><rect x=\"118\" y=\"438.2036144578312\" width=\"602\" height=\"245.35301204819274\"/></clipPath><clipPath class=\"axesclip\" id=\"clip663257x7y3\"><rect x=\"118\" y=\"721.4072289156624\" width=\"602\" height=\"245.35301204819274\"/></clipPath><clipPath class=\"axesclip\" id=\"clip663257x7y4\"><rect x=\"118\" y=\"1004.6108433734939\" width=\"602\" height=\"245.35301204819274\"/></clipPath><clipPath class=\"axesclip\" id=\"clip663257x7y5\"><rect x=\"118\" y=\"1287.8144578313252\" width=\"602\" height=\"245.35301204819274\"/></clipPath><clipPath class=\"axesclip\" id=\"clip663257x7y6\"><rect x=\"118\" y=\"1571.0180722891566\" width=\"602\" height=\"245.35301204819274\"/></clipPath><clipPath class=\"axesclip\" id=\"clip663257x7y7\"><rect x=\"118\" y=\"1854.2216867469879\" width=\"602\" height=\"245.35301204819274\"/></clipPath><clipPath class=\"axesclip\" id=\"clip663257x7y8\"><rect x=\"118\" y=\"2137.425301204819\" width=\"602\" height=\"245.35301204819274\"/></clipPath><clipPath class=\"axesclip\" id=\"clip663257x7y9\"><rect x=\"118\" y=\"2420.628915662651\" width=\"602\" height=\"245.35301204819274\"/></clipPath><clipPath class=\"axesclip\" id=\"clip663257x7y10\"><rect x=\"118\" y=\"2703.8325301204823\" width=\"602\" height=\"245.35301204819274\"/></clipPath><clipPath class=\"axesclip\" id=\"clip663257x7y11\"><rect x=\"118\" y=\"2987.0361445783133\" width=\"602\" height=\"245.35301204819285\"/></clipPath><clipPath class=\"axesclip\" id=\"clip663257x7y12\"><rect x=\"118\" y=\"3270.2397590361443\" width=\"602\" height=\"245.35301204819274\"/></clipPath><clipPath class=\"axesclip\" id=\"clip663257x7y13\"><rect x=\"118\" y=\"3553.4433734939757\" width=\"602\" height=\"245.3530120481928\"/></clipPath><clipPath class=\"axesclip\" id=\"clip663257x7y14\"><rect x=\"118\" y=\"3836.646987951807\" width=\"602\" height=\"245.35301204819277\"/></clipPath><clipPath class=\"axesclip\" id=\"clip663257x8\"><rect x=\"118\" y=\"0\" width=\"602\" height=\"4150\"/></clipPath><clipPath class=\"axesclip\" id=\"clip663257x8y\"><rect x=\"118\" y=\"155\" width=\"602\" height=\"245.35301204819274\"/></clipPath><clipPath class=\"axesclip\" id=\"clip663257x8y2\"><rect x=\"118\" y=\"438.2036144578312\" width=\"602\" height=\"245.35301204819274\"/></clipPath><clipPath class=\"axesclip\" id=\"clip663257x8y3\"><rect x=\"118\" y=\"721.4072289156624\" width=\"602\" height=\"245.35301204819274\"/></clipPath><clipPath class=\"axesclip\" id=\"clip663257x8y4\"><rect x=\"118\" y=\"1004.6108433734939\" width=\"602\" height=\"245.35301204819274\"/></clipPath><clipPath class=\"axesclip\" id=\"clip663257x8y5\"><rect x=\"118\" y=\"1287.8144578313252\" width=\"602\" height=\"245.35301204819274\"/></clipPath><clipPath class=\"axesclip\" id=\"clip663257x8y6\"><rect x=\"118\" y=\"1571.0180722891566\" width=\"602\" height=\"245.35301204819274\"/></clipPath><clipPath class=\"axesclip\" id=\"clip663257x8y7\"><rect x=\"118\" y=\"1854.2216867469879\" width=\"602\" height=\"245.35301204819274\"/></clipPath><clipPath class=\"axesclip\" id=\"clip663257x8y8\"><rect x=\"118\" y=\"2137.425301204819\" width=\"602\" height=\"245.35301204819274\"/></clipPath><clipPath class=\"axesclip\" id=\"clip663257x8y9\"><rect x=\"118\" y=\"2420.628915662651\" width=\"602\" height=\"245.35301204819274\"/></clipPath><clipPath class=\"axesclip\" id=\"clip663257x8y10\"><rect x=\"118\" y=\"2703.8325301204823\" width=\"602\" height=\"245.35301204819274\"/></clipPath><clipPath class=\"axesclip\" id=\"clip663257x8y11\"><rect x=\"118\" y=\"2987.0361445783133\" width=\"602\" height=\"245.35301204819285\"/></clipPath><clipPath class=\"axesclip\" id=\"clip663257x8y12\"><rect x=\"118\" y=\"3270.2397590361443\" width=\"602\" height=\"245.35301204819274\"/></clipPath><clipPath class=\"axesclip\" id=\"clip663257x8y13\"><rect x=\"118\" y=\"3553.4433734939757\" width=\"602\" height=\"245.3530120481928\"/></clipPath><clipPath class=\"axesclip\" id=\"clip663257x8y14\"><rect x=\"118\" y=\"3836.646987951807\" width=\"602\" height=\"245.35301204819277\"/></clipPath><clipPath class=\"axesclip\" id=\"clip663257x9\"><rect x=\"118\" y=\"0\" width=\"602\" height=\"4150\"/></clipPath><clipPath class=\"axesclip\" id=\"clip663257x9y\"><rect x=\"118\" y=\"155\" width=\"602\" height=\"245.35301204819274\"/></clipPath><clipPath class=\"axesclip\" id=\"clip663257x9y2\"><rect x=\"118\" y=\"438.2036144578312\" width=\"602\" height=\"245.35301204819274\"/></clipPath><clipPath class=\"axesclip\" id=\"clip663257x9y3\"><rect x=\"118\" y=\"721.4072289156624\" width=\"602\" height=\"245.35301204819274\"/></clipPath><clipPath class=\"axesclip\" id=\"clip663257x9y4\"><rect x=\"118\" y=\"1004.6108433734939\" width=\"602\" height=\"245.35301204819274\"/></clipPath><clipPath class=\"axesclip\" id=\"clip663257x9y5\"><rect x=\"118\" y=\"1287.8144578313252\" width=\"602\" height=\"245.35301204819274\"/></clipPath><clipPath class=\"axesclip\" id=\"clip663257x9y6\"><rect x=\"118\" y=\"1571.0180722891566\" width=\"602\" height=\"245.35301204819274\"/></clipPath><clipPath class=\"axesclip\" id=\"clip663257x9y7\"><rect x=\"118\" y=\"1854.2216867469879\" width=\"602\" height=\"245.35301204819274\"/></clipPath><clipPath class=\"axesclip\" id=\"clip663257x9y8\"><rect x=\"118\" y=\"2137.425301204819\" width=\"602\" height=\"245.35301204819274\"/></clipPath><clipPath class=\"axesclip\" id=\"clip663257x9y9\"><rect x=\"118\" y=\"2420.628915662651\" width=\"602\" height=\"245.35301204819274\"/></clipPath><clipPath class=\"axesclip\" id=\"clip663257x9y10\"><rect x=\"118\" y=\"2703.8325301204823\" width=\"602\" height=\"245.35301204819274\"/></clipPath><clipPath class=\"axesclip\" id=\"clip663257x9y11\"><rect x=\"118\" y=\"2987.0361445783133\" width=\"602\" height=\"245.35301204819285\"/></clipPath><clipPath class=\"axesclip\" id=\"clip663257x9y12\"><rect x=\"118\" y=\"3270.2397590361443\" width=\"602\" height=\"245.35301204819274\"/></clipPath><clipPath class=\"axesclip\" id=\"clip663257x9y13\"><rect x=\"118\" y=\"3553.4433734939757\" width=\"602\" height=\"245.3530120481928\"/></clipPath><clipPath class=\"axesclip\" id=\"clip663257x9y14\"><rect x=\"118\" y=\"3836.646987951807\" width=\"602\" height=\"245.35301204819277\"/></clipPath><clipPath class=\"axesclip\" id=\"clip663257x10\"><rect x=\"118\" y=\"0\" width=\"602\" height=\"4150\"/></clipPath><clipPath class=\"axesclip\" id=\"clip663257x10y\"><rect x=\"118\" y=\"155\" width=\"602\" height=\"245.35301204819274\"/></clipPath><clipPath class=\"axesclip\" id=\"clip663257x10y2\"><rect x=\"118\" y=\"438.2036144578312\" width=\"602\" height=\"245.35301204819274\"/></clipPath><clipPath class=\"axesclip\" id=\"clip663257x10y3\"><rect x=\"118\" y=\"721.4072289156624\" width=\"602\" height=\"245.35301204819274\"/></clipPath><clipPath class=\"axesclip\" id=\"clip663257x10y4\"><rect x=\"118\" y=\"1004.6108433734939\" width=\"602\" height=\"245.35301204819274\"/></clipPath><clipPath class=\"axesclip\" id=\"clip663257x10y5\"><rect x=\"118\" y=\"1287.8144578313252\" width=\"602\" height=\"245.35301204819274\"/></clipPath><clipPath class=\"axesclip\" id=\"clip663257x10y6\"><rect x=\"118\" y=\"1571.0180722891566\" width=\"602\" height=\"245.35301204819274\"/></clipPath><clipPath class=\"axesclip\" id=\"clip663257x10y7\"><rect x=\"118\" y=\"1854.2216867469879\" width=\"602\" height=\"245.35301204819274\"/></clipPath><clipPath class=\"axesclip\" id=\"clip663257x10y8\"><rect x=\"118\" y=\"2137.425301204819\" width=\"602\" height=\"245.35301204819274\"/></clipPath><clipPath class=\"axesclip\" id=\"clip663257x10y9\"><rect x=\"118\" y=\"2420.628915662651\" width=\"602\" height=\"245.35301204819274\"/></clipPath><clipPath class=\"axesclip\" id=\"clip663257x10y10\"><rect x=\"118\" y=\"2703.8325301204823\" width=\"602\" height=\"245.35301204819274\"/></clipPath><clipPath class=\"axesclip\" id=\"clip663257x10y11\"><rect x=\"118\" y=\"2987.0361445783133\" width=\"602\" height=\"245.35301204819285\"/></clipPath><clipPath class=\"axesclip\" id=\"clip663257x10y12\"><rect x=\"118\" y=\"3270.2397590361443\" width=\"602\" height=\"245.35301204819274\"/></clipPath><clipPath class=\"axesclip\" id=\"clip663257x10y13\"><rect x=\"118\" y=\"3553.4433734939757\" width=\"602\" height=\"245.3530120481928\"/></clipPath><clipPath class=\"axesclip\" id=\"clip663257x10y14\"><rect x=\"118\" y=\"3836.646987951807\" width=\"602\" height=\"245.35301204819277\"/></clipPath><clipPath class=\"axesclip\" id=\"clip663257x11\"><rect x=\"118\" y=\"0\" width=\"602\" height=\"4150\"/></clipPath><clipPath class=\"axesclip\" id=\"clip663257x11y\"><rect x=\"118\" y=\"155\" width=\"602\" height=\"245.35301204819274\"/></clipPath><clipPath class=\"axesclip\" id=\"clip663257x11y2\"><rect x=\"118\" y=\"438.2036144578312\" width=\"602\" height=\"245.35301204819274\"/></clipPath><clipPath class=\"axesclip\" id=\"clip663257x11y3\"><rect x=\"118\" y=\"721.4072289156624\" width=\"602\" height=\"245.35301204819274\"/></clipPath><clipPath class=\"axesclip\" id=\"clip663257x11y4\"><rect x=\"118\" y=\"1004.6108433734939\" width=\"602\" height=\"245.35301204819274\"/></clipPath><clipPath class=\"axesclip\" id=\"clip663257x11y5\"><rect x=\"118\" y=\"1287.8144578313252\" width=\"602\" height=\"245.35301204819274\"/></clipPath><clipPath class=\"axesclip\" id=\"clip663257x11y6\"><rect x=\"118\" y=\"1571.0180722891566\" width=\"602\" height=\"245.35301204819274\"/></clipPath><clipPath class=\"axesclip\" id=\"clip663257x11y7\"><rect x=\"118\" y=\"1854.2216867469879\" width=\"602\" height=\"245.35301204819274\"/></clipPath><clipPath class=\"axesclip\" id=\"clip663257x11y8\"><rect x=\"118\" y=\"2137.425301204819\" width=\"602\" height=\"245.35301204819274\"/></clipPath><clipPath class=\"axesclip\" id=\"clip663257x11y9\"><rect x=\"118\" y=\"2420.628915662651\" width=\"602\" height=\"245.35301204819274\"/></clipPath><clipPath class=\"axesclip\" id=\"clip663257x11y10\"><rect x=\"118\" y=\"2703.8325301204823\" width=\"602\" height=\"245.35301204819274\"/></clipPath><clipPath class=\"axesclip\" id=\"clip663257x11y11\"><rect x=\"118\" y=\"2987.0361445783133\" width=\"602\" height=\"245.35301204819285\"/></clipPath><clipPath class=\"axesclip\" id=\"clip663257x11y12\"><rect x=\"118\" y=\"3270.2397590361443\" width=\"602\" height=\"245.35301204819274\"/></clipPath><clipPath class=\"axesclip\" id=\"clip663257x11y13\"><rect x=\"118\" y=\"3553.4433734939757\" width=\"602\" height=\"245.3530120481928\"/></clipPath><clipPath class=\"axesclip\" id=\"clip663257x11y14\"><rect x=\"118\" y=\"3836.646987951807\" width=\"602\" height=\"245.35301204819277\"/></clipPath><clipPath class=\"axesclip\" id=\"clip663257x12\"><rect x=\"118\" y=\"0\" width=\"602\" height=\"4150\"/></clipPath><clipPath class=\"axesclip\" id=\"clip663257x12y\"><rect x=\"118\" y=\"155\" width=\"602\" height=\"245.35301204819274\"/></clipPath><clipPath class=\"axesclip\" id=\"clip663257x12y2\"><rect x=\"118\" y=\"438.2036144578312\" width=\"602\" height=\"245.35301204819274\"/></clipPath><clipPath class=\"axesclip\" id=\"clip663257x12y3\"><rect x=\"118\" y=\"721.4072289156624\" width=\"602\" height=\"245.35301204819274\"/></clipPath><clipPath class=\"axesclip\" id=\"clip663257x12y4\"><rect x=\"118\" y=\"1004.6108433734939\" width=\"602\" height=\"245.35301204819274\"/></clipPath><clipPath class=\"axesclip\" id=\"clip663257x12y5\"><rect x=\"118\" y=\"1287.8144578313252\" width=\"602\" height=\"245.35301204819274\"/></clipPath><clipPath class=\"axesclip\" id=\"clip663257x12y6\"><rect x=\"118\" y=\"1571.0180722891566\" width=\"602\" height=\"245.35301204819274\"/></clipPath><clipPath class=\"axesclip\" id=\"clip663257x12y7\"><rect x=\"118\" y=\"1854.2216867469879\" width=\"602\" height=\"245.35301204819274\"/></clipPath><clipPath class=\"axesclip\" id=\"clip663257x12y8\"><rect x=\"118\" y=\"2137.425301204819\" width=\"602\" height=\"245.35301204819274\"/></clipPath><clipPath class=\"axesclip\" id=\"clip663257x12y9\"><rect x=\"118\" y=\"2420.628915662651\" width=\"602\" height=\"245.35301204819274\"/></clipPath><clipPath class=\"axesclip\" id=\"clip663257x12y10\"><rect x=\"118\" y=\"2703.8325301204823\" width=\"602\" height=\"245.35301204819274\"/></clipPath><clipPath class=\"axesclip\" id=\"clip663257x12y11\"><rect x=\"118\" y=\"2987.0361445783133\" width=\"602\" height=\"245.35301204819285\"/></clipPath><clipPath class=\"axesclip\" id=\"clip663257x12y12\"><rect x=\"118\" y=\"3270.2397590361443\" width=\"602\" height=\"245.35301204819274\"/></clipPath><clipPath class=\"axesclip\" id=\"clip663257x12y13\"><rect x=\"118\" y=\"3553.4433734939757\" width=\"602\" height=\"245.3530120481928\"/></clipPath><clipPath class=\"axesclip\" id=\"clip663257x12y14\"><rect x=\"118\" y=\"3836.646987951807\" width=\"602\" height=\"245.35301204819277\"/></clipPath><clipPath class=\"axesclip\" id=\"clip663257x13\"><rect x=\"118\" y=\"0\" width=\"602\" height=\"4150\"/></clipPath><clipPath class=\"axesclip\" id=\"clip663257x13y\"><rect x=\"118\" y=\"155\" width=\"602\" height=\"245.35301204819274\"/></clipPath><clipPath class=\"axesclip\" id=\"clip663257x13y2\"><rect x=\"118\" y=\"438.2036144578312\" width=\"602\" height=\"245.35301204819274\"/></clipPath><clipPath class=\"axesclip\" id=\"clip663257x13y3\"><rect x=\"118\" y=\"721.4072289156624\" width=\"602\" height=\"245.35301204819274\"/></clipPath><clipPath class=\"axesclip\" id=\"clip663257x13y4\"><rect x=\"118\" y=\"1004.6108433734939\" width=\"602\" height=\"245.35301204819274\"/></clipPath><clipPath class=\"axesclip\" id=\"clip663257x13y5\"><rect x=\"118\" y=\"1287.8144578313252\" width=\"602\" height=\"245.35301204819274\"/></clipPath><clipPath class=\"axesclip\" id=\"clip663257x13y6\"><rect x=\"118\" y=\"1571.0180722891566\" width=\"602\" height=\"245.35301204819274\"/></clipPath><clipPath class=\"axesclip\" id=\"clip663257x13y7\"><rect x=\"118\" y=\"1854.2216867469879\" width=\"602\" height=\"245.35301204819274\"/></clipPath><clipPath class=\"axesclip\" id=\"clip663257x13y8\"><rect x=\"118\" y=\"2137.425301204819\" width=\"602\" height=\"245.35301204819274\"/></clipPath><clipPath class=\"axesclip\" id=\"clip663257x13y9\"><rect x=\"118\" y=\"2420.628915662651\" width=\"602\" height=\"245.35301204819274\"/></clipPath><clipPath class=\"axesclip\" id=\"clip663257x13y10\"><rect x=\"118\" y=\"2703.8325301204823\" width=\"602\" height=\"245.35301204819274\"/></clipPath><clipPath class=\"axesclip\" id=\"clip663257x13y11\"><rect x=\"118\" y=\"2987.0361445783133\" width=\"602\" height=\"245.35301204819285\"/></clipPath><clipPath class=\"axesclip\" id=\"clip663257x13y12\"><rect x=\"118\" y=\"3270.2397590361443\" width=\"602\" height=\"245.35301204819274\"/></clipPath><clipPath class=\"axesclip\" id=\"clip663257x13y13\"><rect x=\"118\" y=\"3553.4433734939757\" width=\"602\" height=\"245.3530120481928\"/></clipPath><clipPath class=\"axesclip\" id=\"clip663257x13y14\"><rect x=\"118\" y=\"3836.646987951807\" width=\"602\" height=\"245.35301204819277\"/></clipPath><clipPath class=\"axesclip\" id=\"clip663257x14\"><rect x=\"118\" y=\"0\" width=\"602\" height=\"4150\"/></clipPath><clipPath class=\"axesclip\" id=\"clip663257x14y\"><rect x=\"118\" y=\"155\" width=\"602\" height=\"245.35301204819274\"/></clipPath><clipPath class=\"axesclip\" id=\"clip663257x14y2\"><rect x=\"118\" y=\"438.2036144578312\" width=\"602\" height=\"245.35301204819274\"/></clipPath><clipPath class=\"axesclip\" id=\"clip663257x14y3\"><rect x=\"118\" y=\"721.4072289156624\" width=\"602\" height=\"245.35301204819274\"/></clipPath><clipPath class=\"axesclip\" id=\"clip663257x14y4\"><rect x=\"118\" y=\"1004.6108433734939\" width=\"602\" height=\"245.35301204819274\"/></clipPath><clipPath class=\"axesclip\" id=\"clip663257x14y5\"><rect x=\"118\" y=\"1287.8144578313252\" width=\"602\" height=\"245.35301204819274\"/></clipPath><clipPath class=\"axesclip\" id=\"clip663257x14y6\"><rect x=\"118\" y=\"1571.0180722891566\" width=\"602\" height=\"245.35301204819274\"/></clipPath><clipPath class=\"axesclip\" id=\"clip663257x14y7\"><rect x=\"118\" y=\"1854.2216867469879\" width=\"602\" height=\"245.35301204819274\"/></clipPath><clipPath class=\"axesclip\" id=\"clip663257x14y8\"><rect x=\"118\" y=\"2137.425301204819\" width=\"602\" height=\"245.35301204819274\"/></clipPath><clipPath class=\"axesclip\" id=\"clip663257x14y9\"><rect x=\"118\" y=\"2420.628915662651\" width=\"602\" height=\"245.35301204819274\"/></clipPath><clipPath class=\"axesclip\" id=\"clip663257x14y10\"><rect x=\"118\" y=\"2703.8325301204823\" width=\"602\" height=\"245.35301204819274\"/></clipPath><clipPath class=\"axesclip\" id=\"clip663257x14y11\"><rect x=\"118\" y=\"2987.0361445783133\" width=\"602\" height=\"245.35301204819285\"/></clipPath><clipPath class=\"axesclip\" id=\"clip663257x14y12\"><rect x=\"118\" y=\"3270.2397590361443\" width=\"602\" height=\"245.35301204819274\"/></clipPath><clipPath class=\"axesclip\" id=\"clip663257x14y13\"><rect x=\"118\" y=\"3553.4433734939757\" width=\"602\" height=\"245.3530120481928\"/></clipPath><clipPath class=\"axesclip\" id=\"clip663257x14y14\"><rect x=\"118\" y=\"3836.646987951807\" width=\"602\" height=\"245.35301204819277\"/></clipPath></g><g class=\"gradients\"/><g class=\"patterns\"/></defs><g class=\"bglayer\"><rect class=\"bg\" x=\"118\" y=\"155\" width=\"602\" height=\"245.35301204819274\" style=\"fill: rgb(229, 236, 246); fill-opacity: 1; stroke-width: 0;\"/><rect class=\"bg\" x=\"118\" y=\"438.2036144578312\" width=\"602\" height=\"245.35301204819274\" style=\"fill: rgb(229, 236, 246); fill-opacity: 1; stroke-width: 0;\"/><rect class=\"bg\" x=\"118\" y=\"721.4072289156624\" width=\"602\" height=\"245.35301204819274\" style=\"fill: rgb(229, 236, 246); fill-opacity: 1; stroke-width: 0;\"/><rect class=\"bg\" x=\"118\" y=\"1004.6108433734939\" width=\"602\" height=\"245.35301204819274\" style=\"fill: rgb(229, 236, 246); fill-opacity: 1; stroke-width: 0;\"/><rect class=\"bg\" x=\"118\" y=\"1287.8144578313252\" width=\"602\" height=\"245.35301204819274\" style=\"fill: rgb(229, 236, 246); fill-opacity: 1; stroke-width: 0;\"/><rect class=\"bg\" x=\"118\" y=\"1571.0180722891566\" width=\"602\" height=\"245.35301204819274\" style=\"fill: rgb(229, 236, 246); fill-opacity: 1; stroke-width: 0;\"/><rect class=\"bg\" x=\"118\" y=\"1854.2216867469879\" width=\"602\" height=\"245.35301204819274\" style=\"fill: rgb(229, 236, 246); fill-opacity: 1; stroke-width: 0;\"/><rect class=\"bg\" x=\"118\" y=\"2137.425301204819\" width=\"602\" height=\"245.35301204819274\" style=\"fill: rgb(229, 236, 246); fill-opacity: 1; stroke-width: 0;\"/><rect class=\"bg\" x=\"118\" y=\"2420.628915662651\" width=\"602\" height=\"245.35301204819274\" style=\"fill: rgb(229, 236, 246); fill-opacity: 1; stroke-width: 0;\"/><rect class=\"bg\" x=\"118\" y=\"2703.8325301204823\" width=\"602\" height=\"245.35301204819274\" style=\"fill: rgb(229, 236, 246); fill-opacity: 1; stroke-width: 0;\"/><rect class=\"bg\" x=\"118\" y=\"2987.0361445783133\" width=\"602\" height=\"245.35301204819285\" style=\"fill: rgb(229, 236, 246); fill-opacity: 1; stroke-width: 0;\"/><rect class=\"bg\" x=\"118\" y=\"3270.2397590361443\" width=\"602\" height=\"245.35301204819274\" style=\"fill: rgb(229, 236, 246); fill-opacity: 1; stroke-width: 0;\"/><rect class=\"bg\" x=\"118\" y=\"3553.4433734939757\" width=\"602\" height=\"245.3530120481928\" style=\"fill: rgb(229, 236, 246); fill-opacity: 1; stroke-width: 0;\"/><rect class=\"bg\" x=\"118\" y=\"3836.646987951807\" width=\"602\" height=\"245.35301204819277\" style=\"fill: rgb(229, 236, 246); fill-opacity: 1; stroke-width: 0;\"/></g><g class=\"layer-below\"><g class=\"imagelayer\"/><g class=\"shapelayer\"><path data-index=\"10\" fill-rule=\"evenodd\" d=\"M151.92000000000002,3232.389156626506H684.9V2987.0361445783133H151.92000000000002Z\" clip-path=\"url(#clip663257x11)\" style=\"opacity: 0.2; stroke: rgb(0, 0, 0); stroke-opacity: 0; fill: rgb(255, 165, 0); fill-opacity: 1; stroke-width: 0px;\"/></g></g><g class=\"cartesianlayer\"><g class=\"subplot xy\"><g class=\"layer-subplot\"><g class=\"shapelayer\"/><g class=\"imagelayer\"/></g><g class=\"gridlayer\"><g class=\"x\"><path class=\"xgrid crisp\" transform=\"translate(151.92000000000002,0)\" d=\"M0,155v245.35301204819274\" style=\"stroke: rgb(255, 255, 255); stroke-opacity: 1; stroke-width: 1px;\"/><path class=\"xgrid crisp\" transform=\"translate(285.15999999999997,0)\" d=\"M0,155v245.35301204819274\" style=\"stroke: rgb(255, 255, 255); stroke-opacity: 1; stroke-width: 1px;\"/><path class=\"xgrid crisp\" transform=\"translate(418.41,0)\" d=\"M0,155v245.35301204819274\" style=\"stroke: rgb(255, 255, 255); stroke-opacity: 1; stroke-width: 1px;\"/><path class=\"xgrid crisp\" transform=\"translate(551.65,0)\" d=\"M0,155v245.35301204819274\" style=\"stroke: rgb(255, 255, 255); stroke-opacity: 1; stroke-width: 1px;\"/><path class=\"xgrid crisp\" transform=\"translate(684.9,0)\" d=\"M0,155v245.35301204819274\" style=\"stroke: rgb(255, 255, 255); stroke-opacity: 1; stroke-width: 1px;\"/></g><g class=\"y\"><path class=\"ygrid crisp\" transform=\"translate(0,384.34000000000003)\" d=\"M118,0h602\" style=\"stroke: rgb(255, 255, 255); stroke-opacity: 1; stroke-width: 1px;\"/><path class=\"ygrid crisp\" transform=\"translate(0,349.57)\" d=\"M118,0h602\" style=\"stroke: rgb(255, 255, 255); stroke-opacity: 1; stroke-width: 1px;\"/><path class=\"ygrid crisp\" transform=\"translate(0,314.8)\" d=\"M118,0h602\" style=\"stroke: rgb(255, 255, 255); stroke-opacity: 1; stroke-width: 1px;\"/><path class=\"ygrid crisp\" transform=\"translate(0,280.04)\" d=\"M118,0h602\" style=\"stroke: rgb(255, 255, 255); stroke-opacity: 1; stroke-width: 1px;\"/><path class=\"ygrid crisp\" transform=\"translate(0,245.26999999999998)\" d=\"M118,0h602\" style=\"stroke: rgb(255, 255, 255); stroke-opacity: 1; stroke-width: 1px;\"/><path class=\"ygrid crisp\" transform=\"translate(0,210.51)\" d=\"M118,0h602\" style=\"stroke: rgb(255, 255, 255); stroke-opacity: 1; stroke-width: 1px;\"/><path class=\"ygrid crisp\" transform=\"translate(0,175.74)\" d=\"M118,0h602\" style=\"stroke: rgb(255, 255, 255); stroke-opacity: 1; stroke-width: 1px;\"/></g></g><g class=\"zerolinelayer\"/><path class=\"xlines-below\"/><path class=\"ylines-below\"/><g class=\"overlines-below\"/><g class=\"xaxislayer-below\"/><g class=\"yaxislayer-below\"/><g class=\"overaxes-below\"/><g class=\"plot\" transform=\"translate(118,155)\" clip-path=\"url(#clip663257xyplot)\"><g class=\"scatterlayer mlayer\"><g class=\"trace scatter trace4eebf69a-535e-4997-84b8-5f95f33eff67\" style=\"stroke-miterlimit: 2; opacity: 1;\"><g class=\"fills\"/><g class=\"errorbars\"/><g class=\"lines\"><path class=\"js-line\" d=\"M167.16,229.34L566.9,20.74\" style=\"vector-effect: non-scaling-stroke; fill: none; stroke: rgb(31, 119, 180); stroke-opacity: 1; stroke-width: 2px; opacity: 1;\"/></g><g class=\"points\"><path class=\"point\" transform=\"translate(167.16,229.34)\" d=\"M3,0A3,3 0 1,1 0,-3A3,3 0 0,1 3,0Z\" style=\"opacity: 1; stroke-width: 0px; fill: rgb(31, 119, 180); fill-opacity: 1;\"/><path class=\"point\" transform=\"translate(300.41,159.8)\" d=\"M3,0A3,3 0 1,1 0,-3A3,3 0 0,1 3,0Z\" style=\"opacity: 1; stroke-width: 0px; fill: rgb(31, 119, 180); fill-opacity: 1;\"/><path class=\"point\" transform=\"translate(433.65,90.27)\" d=\"M3,0A3,3 0 1,1 0,-3A3,3 0 0,1 3,0Z\" style=\"opacity: 1; stroke-width: 0px; fill: rgb(31, 119, 180); fill-opacity: 1;\"/><path class=\"point\" transform=\"translate(566.9,20.74)\" d=\"M3,0A3,3 0 1,1 0,-3A3,3 0 0,1 3,0Z\" style=\"opacity: 1; stroke-width: 0px; fill: rgb(31, 119, 180); fill-opacity: 1;\"/></g><g class=\"text\"/></g><g class=\"trace scatter tracedca82bc6-f3e2-4dfb-a6f2-93a19c06999b\" style=\"stroke-miterlimit: 2; opacity: 1;\"><g class=\"fills\"/><g class=\"errorbars\"/><g class=\"lines\"/><g class=\"points\"><path class=\"point plotly-customdata\" transform=\"translate(167.16,227.94)\" d=\"M-4.62,2H4.62L0,-4Z\" style=\"opacity: 1; stroke-width: 1px; fill: rgb(55, 177, 63); fill-opacity: 1; stroke: rgb(38, 123, 44); stroke-opacity: 1;\"/><path class=\"point plotly-customdata\" transform=\"translate(566.9,17.27)\" d=\"M-4.62,2H4.62L0,-4Z\" style=\"opacity: 1; stroke-width: 1px; fill: rgb(55, 177, 63); fill-opacity: 1; stroke: rgb(38, 123, 44); stroke-opacity: 1;\"/></g><g class=\"text\"/></g><g class=\"trace scatter tracec21e03b6-02c3-4166-81c4-90e7211ad045\" style=\"stroke-miterlimit: 2; opacity: 1;\"><g class=\"fills\"/><g class=\"errorbars\"/><g class=\"lines\"/><g class=\"points\"><path class=\"point plotly-customdata\" transform=\"translate(300.41,161.89)\" d=\"M-4.62,-2H4.62L0,4Z\" style=\"opacity: 1; stroke-width: 1px; fill: rgb(234, 67, 53); fill-opacity: 1; stroke: rgb(181, 31, 18); stroke-opacity: 1;\"/></g><g class=\"text\"/></g></g></g><g class=\"overplot\"/><path class=\"xlines-above crisp\" d=\"M0,0\" style=\"fill: none;\"/><path class=\"ylines-above crisp\" d=\"M0,0\" style=\"fill: none;\"/><g class=\"overlines-above\"/><g class=\"xaxislayer-above\"/><g class=\"yaxislayer-above\"><g class=\"ytick\"><text text-anchor=\"end\" x=\"117\" y=\"4.199999999999999\" transform=\"translate(0,384.34000000000003)\" style=\"font-family: 'Open Sans', verdana, arial, sans-serif; font-size: 12px; fill: rgb(42, 63, 95); fill-opacity: 1; white-space: pre; opacity: 1;\">2</text></g><g class=\"ytick\"><text text-anchor=\"end\" x=\"117\" y=\"4.199999999999999\" style=\"font-family: 'Open Sans', verdana, arial, sans-serif; font-size: 12px; fill: rgb(42, 63, 95); fill-opacity: 1; white-space: pre; opacity: 1;\" transform=\"translate(0,349.57)\">2.5</text></g><g class=\"ytick\"><text text-anchor=\"end\" x=\"117\" y=\"4.199999999999999\" style=\"font-family: 'Open Sans', verdana, arial, sans-serif; font-size: 12px; fill: rgb(42, 63, 95); fill-opacity: 1; white-space: pre; opacity: 1;\" transform=\"translate(0,314.8)\">3</text></g><g class=\"ytick\"><text text-anchor=\"end\" x=\"117\" y=\"4.199999999999999\" style=\"font-family: 'Open Sans', verdana, arial, sans-serif; font-size: 12px; fill: rgb(42, 63, 95); fill-opacity: 1; white-space: pre; opacity: 1;\" transform=\"translate(0,280.04)\">3.5</text></g><g class=\"ytick\"><text text-anchor=\"end\" x=\"117\" y=\"4.199999999999999\" style=\"font-family: 'Open Sans', verdana, arial, sans-serif; font-size: 12px; fill: rgb(42, 63, 95); fill-opacity: 1; white-space: pre; opacity: 1;\" transform=\"translate(0,245.26999999999998)\">4</text></g><g class=\"ytick\"><text text-anchor=\"end\" x=\"117\" y=\"4.199999999999999\" style=\"font-family: 'Open Sans', verdana, arial, sans-serif; font-size: 12px; fill: rgb(42, 63, 95); fill-opacity: 1; white-space: pre; opacity: 1;\" transform=\"translate(0,210.51)\">4.5</text></g><g class=\"ytick\"><text text-anchor=\"end\" x=\"117\" y=\"4.199999999999999\" style=\"font-family: 'Open Sans', verdana, arial, sans-serif; font-size: 12px; fill: rgb(42, 63, 95); fill-opacity: 1; white-space: pre; opacity: 1;\" transform=\"translate(0,175.74)\">5</text></g></g><g class=\"overaxes-above\"/></g><g class=\"subplot x2y2\"><g class=\"layer-subplot\"><g class=\"shapelayer\"><path data-index=\"0\" fill-rule=\"evenodd\" d=\"M285.15999999999997,666.1436144578312H418.41V599.8936144578312H285.15999999999997Z\" clip-path=\"url(#clip663257x2y2)\" style=\"opacity: 0.2; stroke: rgb(0, 0, 0); stroke-opacity: 0; fill: rgb(255, 0, 0); fill-opacity: 1; stroke-width: 0px;\"/><path data-index=\"1\" fill-rule=\"evenodd\" d=\"M684.9,454.84361445783117H684.9V458.3336144578312H684.9Z\" clip-path=\"url(#clip663257x2y2)\" style=\"opacity: 0.2; stroke: rgb(0, 0, 0); stroke-opacity: 0; fill: rgb(255, 0, 0); fill-opacity: 1; stroke-width: 0px;\"/></g><g class=\"imagelayer\"/></g><g class=\"gridlayer\"><g class=\"x2\"><path class=\"x2grid crisp\" transform=\"translate(151.92000000000002,0)\" d=\"M0,438.2036144578312v245.35301204819274\" style=\"stroke: rgb(255, 255, 255); stroke-opacity: 1; stroke-width: 1px;\"/><path class=\"x2grid crisp\" transform=\"translate(285.15999999999997,0)\" d=\"M0,438.2036144578312v245.35301204819274\" style=\"stroke: rgb(255, 255, 255); stroke-opacity: 1; stroke-width: 1px;\"/><path class=\"x2grid crisp\" transform=\"translate(418.41,0)\" d=\"M0,438.2036144578312v245.35301204819274\" style=\"stroke: rgb(255, 255, 255); stroke-opacity: 1; stroke-width: 1px;\"/><path class=\"x2grid crisp\" transform=\"translate(551.65,0)\" d=\"M0,438.2036144578312v245.35301204819274\" style=\"stroke: rgb(255, 255, 255); stroke-opacity: 1; stroke-width: 1px;\"/><path class=\"x2grid crisp\" transform=\"translate(684.9,0)\" d=\"M0,438.2036144578312v245.35301204819274\" style=\"stroke: rgb(255, 255, 255); stroke-opacity: 1; stroke-width: 1px;\"/></g><g class=\"y2\"><path class=\"y2grid crisp\" transform=\"translate(0,667.5436144578312)\" d=\"M118,0h602\" style=\"stroke: rgb(255, 255, 255); stroke-opacity: 1; stroke-width: 1px;\"/><path class=\"y2grid crisp\" transform=\"translate(0,632.6736144578311)\" d=\"M118,0h602\" style=\"stroke: rgb(255, 255, 255); stroke-opacity: 1; stroke-width: 1px;\"/><path class=\"y2grid crisp\" transform=\"translate(0,597.8036144578311)\" d=\"M118,0h602\" style=\"stroke: rgb(255, 255, 255); stroke-opacity: 1; stroke-width: 1px;\"/><path class=\"y2grid crisp\" transform=\"translate(0,562.9336144578311)\" d=\"M118,0h602\" style=\"stroke: rgb(255, 255, 255); stroke-opacity: 1; stroke-width: 1px;\"/><path class=\"y2grid crisp\" transform=\"translate(0,528.0636144578311)\" d=\"M118,0h602\" style=\"stroke: rgb(255, 255, 255); stroke-opacity: 1; stroke-width: 1px;\"/><path class=\"y2grid crisp\" transform=\"translate(0,493.2036144578312)\" d=\"M118,0h602\" style=\"stroke: rgb(255, 255, 255); stroke-opacity: 1; stroke-width: 1px;\"/><path class=\"y2grid crisp\" transform=\"translate(0,458.3336144578312)\" d=\"M118,0h602\" style=\"stroke: rgb(255, 255, 255); stroke-opacity: 1; stroke-width: 1px;\"/></g></g><g class=\"zerolinelayer\"/><path class=\"xlines-below\"/><path class=\"ylines-below\"/><g class=\"overlines-below\"/><g class=\"xaxislayer-below\"/><g class=\"yaxislayer-below\"/><g class=\"overaxes-below\"/><g class=\"plot\" transform=\"translate(118,438.2036144578312)\" clip-path=\"url(#clip663257x2y2plot)\"><g class=\"scatterlayer mlayer\"><g class=\"trace scatter traceb64b7470-3ac2-4a1f-a796-9a5b6413ec39\" style=\"stroke-miterlimit: 2; opacity: 1;\"><g class=\"fills\"/><g class=\"errorbars\"/><g class=\"lines\"><path class=\"js-line\" d=\"M167.16,229.34L566.9,20.13\" style=\"vector-effect: non-scaling-stroke; fill: none; stroke: rgb(31, 119, 180); stroke-opacity: 1; stroke-width: 2px; opacity: 1;\"/></g><g class=\"points\"><path class=\"point\" transform=\"translate(167.16,229.34)\" d=\"M3,0A3,3 0 1,1 0,-3A3,3 0 0,1 3,0Z\" style=\"opacity: 1; stroke-width: 0px; fill: rgb(31, 119, 180); fill-opacity: 1;\"/><path class=\"point\" transform=\"translate(300.41,159.6)\" d=\"M3,0A3,3 0 1,1 0,-3A3,3 0 0,1 3,0Z\" style=\"opacity: 1; stroke-width: 0px; fill: rgb(31, 119, 180); fill-opacity: 1;\"/><path class=\"point\" transform=\"translate(433.65,89.86)\" d=\"M3,0A3,3 0 1,1 0,-3A3,3 0 0,1 3,0Z\" style=\"opacity: 1; stroke-width: 0px; fill: rgb(31, 119, 180); fill-opacity: 1;\"/><path class=\"point\" transform=\"translate(566.9,20.13)\" d=\"M3,0A3,3 0 1,1 0,-3A3,3 0 0,1 3,0Z\" style=\"opacity: 1; stroke-width: 0px; fill: rgb(31, 119, 180); fill-opacity: 1;\"/></g><g class=\"text\"/></g><g class=\"trace scatter trace3c02b899-d6fb-4b93-bfa9-e1d6b1af0b9c\" style=\"stroke-miterlimit: 2; opacity: 1;\"><g class=\"fills\"/><g class=\"errorbars\"/><g class=\"lines\"/><g class=\"points\"><path class=\"point plotly-customdata\" transform=\"translate(167.16,227.94)\" d=\"M3.5,3.5H-3.5V-3.5H3.5Z\" style=\"opacity: 1; stroke-width: 1px; fill: rgb(66, 133, 244); fill-opacity: 1; stroke: rgb(11, 84, 205); stroke-opacity: 1;\"/><path class=\"point plotly-customdata\" transform=\"translate(566.9,16.64)\" d=\"M3.5,3.5H-3.5V-3.5H3.5Z\" style=\"opacity: 1; stroke-width: 1px; fill: rgb(66, 133, 244); fill-opacity: 1; stroke: rgb(11, 84, 205); stroke-opacity: 1;\"/></g><g class=\"text\"/></g><g class=\"trace scatter trace53e5b4ea-111d-4f04-9956-206817c037ca\" style=\"stroke-miterlimit: 2; opacity: 1;\"><g class=\"fills\"/><g class=\"errorbars\"/><g class=\"lines\"/><g class=\"points\"><path class=\"point plotly-customdata\" transform=\"translate(300.41,161.69)\" d=\"M3.5,3.5H-3.5V-3.5H3.5Z\" style=\"opacity: 1; stroke-width: 1px; fill: rgb(234, 67, 53); fill-opacity: 1; stroke: rgb(181, 31, 18); stroke-opacity: 1;\"/></g><g class=\"text\"/></g><g class=\"trace scatter trace57f55e66-732b-4ca1-9398-eaf2da056318\" style=\"stroke-miterlimit: 2; opacity: 1;\"><g class=\"fills\"/><g class=\"errorbars\"/><g class=\"lines\"/><g class=\"points\"><path class=\"point plotly-customdata\" transform=\"translate(566.9,20.13)\" d=\"M3.5,3.5H-3.5V-3.5H3.5Z\" style=\"opacity: 1; stroke-width: 1px; fill: rgb(255, 170, 0); fill-opacity: 1; stroke: rgb(178, 118, 0); stroke-opacity: 1;\"/></g><g class=\"text\"/></g></g></g><g class=\"overplot\"/><path class=\"xlines-above crisp\" d=\"M0,0\" style=\"fill: none;\"/><path class=\"ylines-above crisp\" d=\"M0,0\" style=\"fill: none;\"/><g class=\"overlines-above\"/><g class=\"xaxislayer-above\"/><g class=\"yaxislayer-above\"><g class=\"y2tick\"><text text-anchor=\"end\" x=\"117\" y=\"4.199999999999999\" transform=\"translate(0,667.5436144578312)\" style=\"font-family: 'Open Sans', verdana, arial, sans-serif; font-size: 12px; fill: rgb(42, 63, 95); fill-opacity: 1; white-space: pre; opacity: 1;\">2</text></g><g class=\"y2tick\"><text text-anchor=\"end\" x=\"117\" y=\"4.199999999999999\" style=\"font-family: 'Open Sans', verdana, arial, sans-serif; font-size: 12px; fill: rgb(42, 63, 95); fill-opacity: 1; white-space: pre; opacity: 1;\" transform=\"translate(0,632.6736144578311)\">2.5</text></g><g class=\"y2tick\"><text text-anchor=\"end\" x=\"117\" y=\"4.199999999999999\" style=\"font-family: 'Open Sans', verdana, arial, sans-serif; font-size: 12px; fill: rgb(42, 63, 95); fill-opacity: 1; white-space: pre; opacity: 1;\" transform=\"translate(0,597.8036144578311)\">3</text></g><g class=\"y2tick\"><text text-anchor=\"end\" x=\"117\" y=\"4.199999999999999\" style=\"font-family: 'Open Sans', verdana, arial, sans-serif; font-size: 12px; fill: rgb(42, 63, 95); fill-opacity: 1; white-space: pre; opacity: 1;\" transform=\"translate(0,562.9336144578311)\">3.5</text></g><g class=\"y2tick\"><text text-anchor=\"end\" x=\"117\" y=\"4.199999999999999\" style=\"font-family: 'Open Sans', verdana, arial, sans-serif; font-size: 12px; fill: rgb(42, 63, 95); fill-opacity: 1; white-space: pre; opacity: 1;\" transform=\"translate(0,528.0636144578311)\">4</text></g><g class=\"y2tick\"><text text-anchor=\"end\" x=\"117\" y=\"4.199999999999999\" style=\"font-family: 'Open Sans', verdana, arial, sans-serif; font-size: 12px; fill: rgb(42, 63, 95); fill-opacity: 1; white-space: pre; opacity: 1;\" transform=\"translate(0,493.2036144578312)\">4.5</text></g><g class=\"y2tick\"><text text-anchor=\"end\" x=\"117\" y=\"4.199999999999999\" style=\"font-family: 'Open Sans', verdana, arial, sans-serif; font-size: 12px; fill: rgb(42, 63, 95); fill-opacity: 1; white-space: pre; opacity: 1;\" transform=\"translate(0,458.3336144578312)\">5</text></g></g><g class=\"overaxes-above\"/></g><g class=\"subplot x3y3\"><g class=\"layer-subplot\"><g class=\"shapelayer\"/><g class=\"imagelayer\"/></g><g class=\"gridlayer\"><g class=\"x3\"><path class=\"x3grid crisp\" transform=\"translate(151.92000000000002,0)\" d=\"M0,721.4072289156624v245.35301204819274\" style=\"stroke: rgb(255, 255, 255); stroke-opacity: 1; stroke-width: 1px;\"/><path class=\"x3grid crisp\" transform=\"translate(285.15999999999997,0)\" d=\"M0,721.4072289156624v245.35301204819274\" style=\"stroke: rgb(255, 255, 255); stroke-opacity: 1; stroke-width: 1px;\"/><path class=\"x3grid crisp\" transform=\"translate(418.41,0)\" d=\"M0,721.4072289156624v245.35301204819274\" style=\"stroke: rgb(255, 255, 255); stroke-opacity: 1; stroke-width: 1px;\"/><path class=\"x3grid crisp\" transform=\"translate(551.65,0)\" d=\"M0,721.4072289156624v245.35301204819274\" style=\"stroke: rgb(255, 255, 255); stroke-opacity: 1; stroke-width: 1px;\"/><path class=\"x3grid crisp\" transform=\"translate(684.9,0)\" d=\"M0,721.4072289156624v245.35301204819274\" style=\"stroke: rgb(255, 255, 255); stroke-opacity: 1; stroke-width: 1px;\"/></g><g class=\"y3\"><path class=\"y3grid crisp\" transform=\"translate(0,927.4872289156624)\" d=\"M118,0h602\" style=\"stroke: rgb(255, 255, 255); stroke-opacity: 1; stroke-width: 1px;\"/><path class=\"y3grid crisp\" transform=\"translate(0,886.4672289156624)\" d=\"M118,0h602\" style=\"stroke: rgb(255, 255, 255); stroke-opacity: 1; stroke-width: 1px;\"/><path class=\"y3grid crisp\" transform=\"translate(0,845.4572289156623)\" d=\"M118,0h602\" style=\"stroke: rgb(255, 255, 255); stroke-opacity: 1; stroke-width: 1px;\"/><path class=\"y3grid crisp\" transform=\"translate(0,804.4372289156623)\" d=\"M118,0h602\" style=\"stroke: rgb(255, 255, 255); stroke-opacity: 1; stroke-width: 1px;\"/><path class=\"y3grid crisp\" transform=\"translate(0,763.4272289156623)\" d=\"M118,0h602\" style=\"stroke: rgb(255, 255, 255); stroke-opacity: 1; stroke-width: 1px;\"/></g></g><g class=\"zerolinelayer\"><path class=\"y3zl zl crisp\" transform=\"translate(0,722.4072289156624)\" d=\"M118,0h602\" style=\"stroke: rgb(255, 255, 255); stroke-opacity: 1; stroke-width: 2px;\"/></g><path class=\"xlines-below\"/><path class=\"ylines-below\"/><g class=\"overlines-below\"/><g class=\"xaxislayer-below\"/><g class=\"yaxislayer-below\"/><g class=\"overaxes-below\"/><g class=\"plot\" transform=\"translate(118,721.4072289156624)\" clip-path=\"url(#clip663257x3y3plot)\"><g class=\"scatterlayer mlayer\"><g class=\"trace scatter trace48c8e6a9-609f-478c-b107-af9bfe6aa8f5\" style=\"stroke-miterlimit: 2; opacity: 1;\"><g class=\"fills\"/><g class=\"errorbars\"/><g class=\"lines\"/><g class=\"points\"><path class=\"point plotly-customdata\" transform=\"translate(300.41,224.34)\" d=\"M7,0A7,7 0 1,1 0,-7A7,7 0 0,1 7,0Z\" style=\"opacity: 0.9; stroke-width: 1px; fill: rgb(234, 67, 53); fill-opacity: 1; stroke: rgb(181, 31, 18); stroke-opacity: 1;\"/></g><g class=\"text\"/></g><g class=\"trace scatter trace0fc4aaa1-ad50-4108-934e-1222dfc970ca\" style=\"stroke-miterlimit: 2; opacity: 1;\"><g class=\"fills\"/><g class=\"errorbars\"/><g class=\"lines\"/><g class=\"points\"><path class=\"point plotly-customdata\" transform=\"translate(566.9,17.28)\" d=\"M3.5,0A3.5,3.5 0 1,1 0,-3.5A3.5,3.5 0 0,1 3.5,0Z\" style=\"opacity: 0.75; stroke-width: 1px; fill: rgb(255, 170, 0); fill-opacity: 1; stroke: rgb(178, 118, 0); stroke-opacity: 1;\"/></g><g class=\"text\"/></g></g></g><g class=\"overplot\"/><path class=\"xlines-above crisp\" d=\"M0,0\" style=\"fill: none;\"/><path class=\"ylines-above crisp\" d=\"M0,0\" style=\"fill: none;\"/><g class=\"overlines-above\"/><g class=\"xaxislayer-above\"/><g class=\"yaxislayer-above\"><g class=\"y3tick\"><text text-anchor=\"end\" x=\"117\" y=\"4.199999999999999\" transform=\"translate(0,927.4872289156624)\" style=\"font-family: 'Open Sans', verdana, arial, sans-serif; font-size: 12px; fill: rgb(42, 63, 95); fill-opacity: 1; white-space: pre; opacity: 1;\">−50.00%</text></g><g class=\"y3tick\"><text text-anchor=\"end\" x=\"117\" y=\"4.199999999999999\" style=\"font-family: 'Open Sans', verdana, arial, sans-serif; font-size: 12px; fill: rgb(42, 63, 95); fill-opacity: 1; white-space: pre; opacity: 1;\" transform=\"translate(0,886.4672289156624)\">−40.00%</text></g><g class=\"y3tick\"><text text-anchor=\"end\" x=\"117\" y=\"4.199999999999999\" style=\"font-family: 'Open Sans', verdana, arial, sans-serif; font-size: 12px; fill: rgb(42, 63, 95); fill-opacity: 1; white-space: pre; opacity: 1;\" transform=\"translate(0,845.4572289156623)\">−30.00%</text></g><g class=\"y3tick\"><text text-anchor=\"end\" x=\"117\" y=\"4.199999999999999\" style=\"font-family: 'Open Sans', verdana, arial, sans-serif; font-size: 12px; fill: rgb(42, 63, 95); fill-opacity: 1; white-space: pre; opacity: 1;\" transform=\"translate(0,804.4372289156623)\">−20.00%</text></g><g class=\"y3tick\"><text text-anchor=\"end\" x=\"117\" y=\"4.199999999999999\" style=\"font-family: 'Open Sans', verdana, arial, sans-serif; font-size: 12px; fill: rgb(42, 63, 95); fill-opacity: 1; white-space: pre; opacity: 1;\" transform=\"translate(0,763.4272289156623)\">−10.00%</text></g><g class=\"y3tick\"><text text-anchor=\"end\" x=\"117\" y=\"4.199999999999999\" style=\"font-family: 'Open Sans', verdana, arial, sans-serif; font-size: 12px; fill: rgb(42, 63, 95); fill-opacity: 1; white-space: pre; opacity: 1;\" transform=\"translate(0,722.4072289156624)\">0.00%</text></g></g><g class=\"overaxes-above\"/></g><g class=\"subplot x4y4\"><g class=\"layer-subplot\"><g class=\"shapelayer\"/><g class=\"imagelayer\"/></g><g class=\"gridlayer\"><g class=\"x4\"><path class=\"x4grid crisp\" transform=\"translate(151.92000000000002,0)\" d=\"M0,1004.6108433734939v245.35301204819274\" style=\"stroke: rgb(255, 255, 255); stroke-opacity: 1; stroke-width: 1px;\"/><path class=\"x4grid crisp\" transform=\"translate(285.15999999999997,0)\" d=\"M0,1004.6108433734939v245.35301204819274\" style=\"stroke: rgb(255, 255, 255); stroke-opacity: 1; stroke-width: 1px;\"/><path class=\"x4grid crisp\" transform=\"translate(418.41,0)\" d=\"M0,1004.6108433734939v245.35301204819274\" style=\"stroke: rgb(255, 255, 255); stroke-opacity: 1; stroke-width: 1px;\"/><path class=\"x4grid crisp\" transform=\"translate(551.65,0)\" d=\"M0,1004.6108433734939v245.35301204819274\" style=\"stroke: rgb(255, 255, 255); stroke-opacity: 1; stroke-width: 1px;\"/><path class=\"x4grid crisp\" transform=\"translate(684.9,0)\" d=\"M0,1004.6108433734939v245.35301204819274\" style=\"stroke: rgb(255, 255, 255); stroke-opacity: 1; stroke-width: 1px;\"/></g><g class=\"y4\"><path class=\"y4grid crisp\" transform=\"translate(0,1175.770843373494)\" d=\"M118,0h602\" style=\"stroke: rgb(255, 255, 255); stroke-opacity: 1; stroke-width: 1px;\"/><path class=\"y4grid crisp\" transform=\"translate(0,1136.9808433734938)\" d=\"M118,0h602\" style=\"stroke: rgb(255, 255, 255); stroke-opacity: 1; stroke-width: 1px;\"/><path class=\"y4grid crisp\" transform=\"translate(0,1098.2008433734939)\" d=\"M118,0h602\" style=\"stroke: rgb(255, 255, 255); stroke-opacity: 1; stroke-width: 1px;\"/><path class=\"y4grid crisp\" transform=\"translate(0,1059.410843373494)\" d=\"M118,0h602\" style=\"stroke: rgb(255, 255, 255); stroke-opacity: 1; stroke-width: 1px;\"/><path class=\"y4grid crisp\" transform=\"translate(0,1020.6308433734939)\" d=\"M118,0h602\" style=\"stroke: rgb(255, 255, 255); stroke-opacity: 1; stroke-width: 1px;\"/></g></g><g class=\"zerolinelayer\"><path class=\"y4zl zl crisp\" transform=\"translate(0,1214.550843373494)\" d=\"M118,0h602\" style=\"stroke: rgb(255, 255, 255); stroke-opacity: 1; stroke-width: 2px;\"/></g><path class=\"xlines-below\"/><path class=\"ylines-below\"/><g class=\"overlines-below\"/><g class=\"xaxislayer-below\"/><g class=\"yaxislayer-below\"/><g class=\"overaxes-below\"/><g class=\"plot\" transform=\"translate(118,1004.6108433734939)\" clip-path=\"url(#clip663257x4y4plot)\"><g class=\"scatterlayer mlayer\"><g class=\"trace scatter trace2a0d91f0-6180-411e-9762-c7761f16742b\" style=\"stroke-miterlimit: 2; opacity: 1;\"><g class=\"fills\"/><g class=\"errorbars\"/><g class=\"lines\"><path class=\"js-line\" d=\"M33.92,209.94L167.16,190.55L300.41,229.34L433.65,209.94L566.9,16.02\" style=\"vector-effect: non-scaling-stroke; fill: none; stroke: rgb(140, 86, 75); stroke-opacity: 1; stroke-width: 2px; opacity: 1;\"/></g><g class=\"points\"><path class=\"point\" transform=\"translate(33.92,209.94)\" d=\"M3,0A3,3 0 1,1 0,-3A3,3 0 0,1 3,0Z\" style=\"opacity: 1; stroke-width: 0px; fill: rgb(140, 86, 75); fill-opacity: 1;\"/><path class=\"point\" transform=\"translate(167.16,190.55)\" d=\"M3,0A3,3 0 1,1 0,-3A3,3 0 0,1 3,0Z\" style=\"opacity: 1; stroke-width: 0px; fill: rgb(140, 86, 75); fill-opacity: 1;\"/><path class=\"point\" transform=\"translate(300.41,229.34)\" d=\"M3,0A3,3 0 1,1 0,-3A3,3 0 0,1 3,0Z\" style=\"opacity: 1; stroke-width: 0px; fill: rgb(140, 86, 75); fill-opacity: 1;\"/><path class=\"point\" transform=\"translate(433.65,209.94)\" d=\"M3,0A3,3 0 1,1 0,-3A3,3 0 0,1 3,0Z\" style=\"opacity: 1; stroke-width: 0px; fill: rgb(140, 86, 75); fill-opacity: 1;\"/><path class=\"point\" transform=\"translate(566.9,16.02)\" d=\"M3,0A3,3 0 1,1 0,-3A3,3 0 0,1 3,0Z\" style=\"opacity: 1; stroke-width: 0px; fill: rgb(140, 86, 75); fill-opacity: 1;\"/></g><g class=\"text\"/></g></g></g><g class=\"overplot\"/><path class=\"xlines-above crisp\" d=\"M0,0\" style=\"fill: none;\"/><path class=\"ylines-above crisp\" d=\"M0,0\" style=\"fill: none;\"/><g class=\"overlines-above\"/><g class=\"xaxislayer-above\"/><g class=\"yaxislayer-above\"><g class=\"y4tick\"><text text-anchor=\"end\" x=\"117\" y=\"4.199999999999999\" transform=\"translate(0,1214.550843373494)\" style=\"font-family: 'Open Sans', verdana, arial, sans-serif; font-size: 12px; fill: rgb(42, 63, 95); fill-opacity: 1; white-space: pre; opacity: 1;\">0</text></g><g class=\"y4tick\"><text text-anchor=\"end\" x=\"117\" y=\"4.199999999999999\" style=\"font-family: 'Open Sans', verdana, arial, sans-serif; font-size: 12px; fill: rgb(42, 63, 95); fill-opacity: 1; white-space: pre; opacity: 1;\" transform=\"translate(0,1175.770843373494)\">0.2</text></g><g class=\"y4tick\"><text text-anchor=\"end\" x=\"117\" y=\"4.199999999999999\" style=\"font-family: 'Open Sans', verdana, arial, sans-serif; font-size: 12px; fill: rgb(42, 63, 95); fill-opacity: 1; white-space: pre; opacity: 1;\" transform=\"translate(0,1136.9808433734938)\">0.4</text></g><g class=\"y4tick\"><text text-anchor=\"end\" x=\"117\" y=\"4.199999999999999\" style=\"font-family: 'Open Sans', verdana, arial, sans-serif; font-size: 12px; fill: rgb(42, 63, 95); fill-opacity: 1; white-space: pre; opacity: 1;\" transform=\"translate(0,1098.2008433734939)\">0.6</text></g><g class=\"y4tick\"><text text-anchor=\"end\" x=\"117\" y=\"4.199999999999999\" style=\"font-family: 'Open Sans', verdana, arial, sans-serif; font-size: 12px; fill: rgb(42, 63, 95); fill-opacity: 1; white-space: pre; opacity: 1;\" transform=\"translate(0,1059.410843373494)\">0.8</text></g><g class=\"y4tick\"><text text-anchor=\"end\" x=\"117\" y=\"4.199999999999999\" style=\"font-family: 'Open Sans', verdana, arial, sans-serif; font-size: 12px; fill: rgb(42, 63, 95); fill-opacity: 1; white-space: pre; opacity: 1;\" transform=\"translate(0,1020.6308433734939)\">1</text></g></g><g class=\"overaxes-above\"/></g><g class=\"subplot x5y5\"><g class=\"layer-subplot\"><g class=\"shapelayer\"/><g class=\"imagelayer\"/></g><g class=\"gridlayer\"><g class=\"x5\"><path class=\"x5grid crisp\" transform=\"translate(151.92000000000002,0)\" d=\"M0,1287.8144578313252v245.35301204819274\" style=\"stroke: rgb(255, 255, 255); stroke-opacity: 1; stroke-width: 1px;\"/><path class=\"x5grid crisp\" transform=\"translate(285.15999999999997,0)\" d=\"M0,1287.8144578313252v245.35301204819274\" style=\"stroke: rgb(255, 255, 255); stroke-opacity: 1; stroke-width: 1px;\"/><path class=\"x5grid crisp\" transform=\"translate(418.41,0)\" d=\"M0,1287.8144578313252v245.35301204819274\" style=\"stroke: rgb(255, 255, 255); stroke-opacity: 1; stroke-width: 1px;\"/><path class=\"x5grid crisp\" transform=\"translate(551.65,0)\" d=\"M0,1287.8144578313252v245.35301204819274\" style=\"stroke: rgb(255, 255, 255); stroke-opacity: 1; stroke-width: 1px;\"/><path class=\"x5grid crisp\" transform=\"translate(684.9,0)\" d=\"M0,1287.8144578313252v245.35301204819274\" style=\"stroke: rgb(255, 255, 255); stroke-opacity: 1; stroke-width: 1px;\"/></g><g class=\"y5\"><path class=\"y5grid crisp\" transform=\"translate(0,1509.2244578313253)\" d=\"M118,0h602\" style=\"stroke: rgb(255, 255, 255); stroke-opacity: 1; stroke-width: 1px;\"/><path class=\"y5grid crisp\" transform=\"translate(0,1469.674457831325)\" d=\"M118,0h602\" style=\"stroke: rgb(255, 255, 255); stroke-opacity: 1; stroke-width: 1px;\"/><path class=\"y5grid crisp\" transform=\"translate(0,1430.134457831325)\" d=\"M118,0h602\" style=\"stroke: rgb(255, 255, 255); stroke-opacity: 1; stroke-width: 1px;\"/><path class=\"y5grid crisp\" transform=\"translate(0,1390.5944578313251)\" d=\"M118,0h602\" style=\"stroke: rgb(255, 255, 255); stroke-opacity: 1; stroke-width: 1px;\"/><path class=\"y5grid crisp\" transform=\"translate(0,1351.0444578313252)\" d=\"M118,0h602\" style=\"stroke: rgb(255, 255, 255); stroke-opacity: 1; stroke-width: 1px;\"/></g></g><g class=\"zerolinelayer\"><path class=\"y5zl zl crisp\" transform=\"translate(0,1311.5044578313252)\" d=\"M118,0h602\" style=\"stroke: rgb(255, 255, 255); stroke-opacity: 1; stroke-width: 2px;\"/></g><path class=\"xlines-below\"/><path class=\"ylines-below\"/><g class=\"overlines-below\"/><g class=\"xaxislayer-below\"/><g class=\"yaxislayer-below\"/><g class=\"overaxes-below\"/><g class=\"plot\" transform=\"translate(118,1287.8144578313252)\" clip-path=\"url(#clip663257x5y5plot)\"><g class=\"scatterlayer mlayer\"><g class=\"trace scatter trace46f31b3b-d560-46a1-a2fe-eedc0f737597\" style=\"stroke-miterlimit: 2; opacity: 1;\"><g class=\"fills\"/><g class=\"errorbars\"/><g class=\"lines\"><path class=\"js-line\" d=\"M33.92,23.69L167.16,35.71L300.41,16.02L433.65,23.69L566.9,229.34\" style=\"vector-effect: non-scaling-stroke; fill: none; stroke: rgb(44, 160, 44); stroke-opacity: 1; stroke-width: 2px; opacity: 1;\"/></g><g class=\"points\"><path class=\"point\" transform=\"translate(33.92,23.69)\" d=\"M3,0A3,3 0 1,1 0,-3A3,3 0 0,1 3,0Z\" style=\"opacity: 1; stroke-width: 0px; fill: rgb(44, 160, 44); fill-opacity: 1;\"/><path class=\"point\" transform=\"translate(167.16,35.71)\" d=\"M3,0A3,3 0 1,1 0,-3A3,3 0 0,1 3,0Z\" style=\"opacity: 1; stroke-width: 0px; fill: rgb(44, 160, 44); fill-opacity: 1;\"/><path class=\"point\" transform=\"translate(300.41,16.02)\" d=\"M3,0A3,3 0 1,1 0,-3A3,3 0 0,1 3,0Z\" style=\"opacity: 1; stroke-width: 0px; fill: rgb(44, 160, 44); fill-opacity: 1;\"/><path class=\"point\" transform=\"translate(433.65,23.69)\" d=\"M3,0A3,3 0 1,1 0,-3A3,3 0 0,1 3,0Z\" style=\"opacity: 1; stroke-width: 0px; fill: rgb(44, 160, 44); fill-opacity: 1;\"/><path class=\"point\" transform=\"translate(566.9,229.34)\" d=\"M3,0A3,3 0 1,1 0,-3A3,3 0 0,1 3,0Z\" style=\"opacity: 1; stroke-width: 0px; fill: rgb(44, 160, 44); fill-opacity: 1;\"/></g><g class=\"text\"/></g></g></g><g class=\"overplot\"/><path class=\"xlines-above crisp\" d=\"M0,0\" style=\"fill: none;\"/><path class=\"ylines-above crisp\" d=\"M0,0\" style=\"fill: none;\"/><g class=\"overlines-above\"/><g class=\"xaxislayer-above\"/><g class=\"yaxislayer-above\"><g class=\"y5tick\"><text text-anchor=\"end\" x=\"117\" y=\"4.199999999999999\" transform=\"translate(0,1509.2244578313253)\" style=\"font-family: 'Open Sans', verdana, arial, sans-serif; font-size: 12px; fill: rgb(42, 63, 95); fill-opacity: 1; white-space: pre; opacity: 1;\">−5</text></g><g class=\"y5tick\"><text text-anchor=\"end\" x=\"117\" y=\"4.199999999999999\" style=\"font-family: 'Open Sans', verdana, arial, sans-serif; font-size: 12px; fill: rgb(42, 63, 95); fill-opacity: 1; white-space: pre; opacity: 1;\" transform=\"translate(0,1469.674457831325)\">−4</text></g><g class=\"y5tick\"><text text-anchor=\"end\" x=\"117\" y=\"4.199999999999999\" style=\"font-family: 'Open Sans', verdana, arial, sans-serif; font-size: 12px; fill: rgb(42, 63, 95); fill-opacity: 1; white-space: pre; opacity: 1;\" transform=\"translate(0,1430.134457831325)\">−3</text></g><g class=\"y5tick\"><text text-anchor=\"end\" x=\"117\" y=\"4.199999999999999\" style=\"font-family: 'Open Sans', verdana, arial, sans-serif; font-size: 12px; fill: rgb(42, 63, 95); fill-opacity: 1; white-space: pre; opacity: 1;\" transform=\"translate(0,1390.5944578313251)\">−2</text></g><g class=\"y5tick\"><text text-anchor=\"end\" x=\"117\" y=\"4.199999999999999\" style=\"font-family: 'Open Sans', verdana, arial, sans-serif; font-size: 12px; fill: rgb(42, 63, 95); fill-opacity: 1; white-space: pre; opacity: 1;\" transform=\"translate(0,1351.0444578313252)\">−1</text></g><g class=\"y5tick\"><text text-anchor=\"end\" x=\"117\" y=\"4.199999999999999\" style=\"font-family: 'Open Sans', verdana, arial, sans-serif; font-size: 12px; fill: rgb(42, 63, 95); fill-opacity: 1; white-space: pre; opacity: 1;\" transform=\"translate(0,1311.5044578313252)\">0</text></g></g><g class=\"overaxes-above\"/></g><g class=\"subplot x6y6\"><g class=\"layer-subplot\"><g class=\"shapelayer\"/><g class=\"imagelayer\"/></g><g class=\"gridlayer\"><g class=\"x6\"><path class=\"x6grid crisp\" transform=\"translate(151.92000000000002,0)\" d=\"M0,1571.0180722891566v245.35301204819274\" style=\"stroke: rgb(255, 255, 255); stroke-opacity: 1; stroke-width: 1px;\"/><path class=\"x6grid crisp\" transform=\"translate(285.15999999999997,0)\" d=\"M0,1571.0180722891566v245.35301204819274\" style=\"stroke: rgb(255, 255, 255); stroke-opacity: 1; stroke-width: 1px;\"/><path class=\"x6grid crisp\" transform=\"translate(418.41,0)\" d=\"M0,1571.0180722891566v245.35301204819274\" style=\"stroke: rgb(255, 255, 255); stroke-opacity: 1; stroke-width: 1px;\"/><path class=\"x6grid crisp\" transform=\"translate(551.65,0)\" d=\"M0,1571.0180722891566v245.35301204819274\" style=\"stroke: rgb(255, 255, 255); stroke-opacity: 1; stroke-width: 1px;\"/><path class=\"x6grid crisp\" transform=\"translate(684.9,0)\" d=\"M0,1571.0180722891566v245.35301204819274\" style=\"stroke: rgb(255, 255, 255); stroke-opacity: 1; stroke-width: 1px;\"/></g><g class=\"y6\"><path class=\"y6grid crisp\" transform=\"translate(0,1757.6880722891567)\" d=\"M118,0h602\" style=\"stroke: rgb(255, 255, 255); stroke-opacity: 1; stroke-width: 1px;\"/><path class=\"y6grid crisp\" transform=\"translate(0,1715.0280722891566)\" d=\"M118,0h602\" style=\"stroke: rgb(255, 255, 255); stroke-opacity: 1; stroke-width: 1px;\"/><path class=\"y6grid crisp\" transform=\"translate(0,1672.3580722891566)\" d=\"M118,0h602\" style=\"stroke: rgb(255, 255, 255); stroke-opacity: 1; stroke-width: 1px;\"/><path class=\"y6grid crisp\" transform=\"translate(0,1629.6980722891567)\" d=\"M118,0h602\" style=\"stroke: rgb(255, 255, 255); stroke-opacity: 1; stroke-width: 1px;\"/><path class=\"y6grid crisp\" transform=\"translate(0,1587.0380722891566)\" d=\"M118,0h602\" style=\"stroke: rgb(255, 255, 255); stroke-opacity: 1; stroke-width: 1px;\"/></g></g><g class=\"zerolinelayer\"><path class=\"y6zl zl crisp\" transform=\"translate(0,1800.3580722891566)\" d=\"M118,0h602\" style=\"stroke: rgb(255, 255, 255); stroke-opacity: 1; stroke-width: 2px;\"/></g><path class=\"xlines-below\"/><path class=\"ylines-below\"/><g class=\"overlines-below\"/><g class=\"xaxislayer-below\"/><g class=\"yaxislayer-below\"/><g class=\"overaxes-below\"/><g class=\"plot\" transform=\"translate(118,1571.0180722891566)\" clip-path=\"url(#clip663257x6y6plot)\"><g class=\"scatterlayer mlayer\"><g class=\"trace scatter tracee167e109-bf93-4f5d-9190-479fbf3bde24\" style=\"stroke-miterlimit: 2;\"><g class=\"fills\"><g><path class=\"js-fill\" d=\"M33.92,229.34L167.16,208L300.41,229.34L433.65,229.34L566.9,16.02L566.9,229.34L33.92,229.34Z\" style=\"fill: rgb(140, 86, 75); fill-opacity: 0.3; stroke-width: 0;\"/></g></g><g class=\"errorbars\"/><g class=\"lines\"><path class=\"js-line\" d=\"M33.92,229.34L566.9,229.34\" style=\"vector-effect: non-scaling-stroke; fill: none; stroke: rgb(0, 0, 0); stroke-opacity: 0; stroke-width: 0px; opacity: 1;\"/></g><g class=\"points\"><path class=\"point\" transform=\"translate(33.92,229.34)\" d=\"M3,0A3,3 0 1,1 0,-3A3,3 0 0,1 3,0Z\" style=\"opacity: 1; stroke-width: 0px; fill: rgb(0, 0, 0); fill-opacity: 0;\"/><path class=\"point\" transform=\"translate(167.16,229.34)\" d=\"M3,0A3,3 0 1,1 0,-3A3,3 0 0,1 3,0Z\" style=\"opacity: 1; stroke-width: 0px; fill: rgb(0, 0, 0); fill-opacity: 0;\"/><path class=\"point\" transform=\"translate(300.41,229.34)\" d=\"M3,0A3,3 0 1,1 0,-3A3,3 0 0,1 3,0Z\" style=\"opacity: 1; stroke-width: 0px; fill: rgb(0, 0, 0); fill-opacity: 0;\"/><path class=\"point\" transform=\"translate(433.65,229.34)\" d=\"M3,0A3,3 0 1,1 0,-3A3,3 0 0,1 3,0Z\" style=\"opacity: 1; stroke-width: 0px; fill: rgb(0, 0, 0); fill-opacity: 0;\"/><path class=\"point\" transform=\"translate(566.9,229.34)\" d=\"M3,0A3,3 0 1,1 0,-3A3,3 0 0,1 3,0Z\" style=\"opacity: 1; stroke-width: 0px; fill: rgb(0, 0, 0); fill-opacity: 0;\"/></g><g class=\"text\"/></g><g class=\"trace scatter trace5affb870-15e5-4c75-ae2b-f59c1a6fbeb8\" style=\"stroke-miterlimit: 2;\"><g class=\"fills\"/><g class=\"errorbars\"/><g class=\"lines\"><path class=\"js-line\" d=\"M33.92,229.34L167.16,208L300.41,229.34L433.65,229.34L566.9,16.02\" style=\"vector-effect: non-scaling-stroke; fill: none; stroke: rgb(0, 0, 0); stroke-opacity: 0; stroke-width: 0px; opacity: 1;\"/></g><g class=\"points\"><path class=\"point\" transform=\"translate(33.92,229.34)\" d=\"M3,0A3,3 0 1,1 0,-3A3,3 0 0,1 3,0Z\" style=\"opacity: 1; stroke-width: 0px; fill: rgb(0, 0, 0); fill-opacity: 0;\"/><path class=\"point\" transform=\"translate(167.16,208)\" d=\"M3,0A3,3 0 1,1 0,-3A3,3 0 0,1 3,0Z\" style=\"opacity: 1; stroke-width: 0px; fill: rgb(0, 0, 0); fill-opacity: 0;\"/><path class=\"point\" transform=\"translate(300.41,229.34)\" d=\"M3,0A3,3 0 1,1 0,-3A3,3 0 0,1 3,0Z\" style=\"opacity: 1; stroke-width: 0px; fill: rgb(0, 0, 0); fill-opacity: 0;\"/><path class=\"point\" transform=\"translate(433.65,229.34)\" d=\"M3,0A3,3 0 1,1 0,-3A3,3 0 0,1 3,0Z\" style=\"opacity: 1; stroke-width: 0px; fill: rgb(0, 0, 0); fill-opacity: 0;\"/><path class=\"point\" transform=\"translate(566.9,16.02)\" d=\"M3,0A3,3 0 1,1 0,-3A3,3 0 0,1 3,0Z\" style=\"opacity: 1; stroke-width: 0px; fill: rgb(0, 0, 0); fill-opacity: 0;\"/></g><g class=\"text\"/></g><g class=\"trace scatter tracedbe8d621-2840-4f7a-953d-0d08db0d4850\" style=\"stroke-miterlimit: 2; opacity: 1;\"><g class=\"fills\"/><g class=\"errorbars\"/><g class=\"lines\"><path class=\"js-line\" d=\"M33.92,229.34L167.16,208L300.41,229.34L433.65,229.34L566.9,16.02\" style=\"vector-effect: non-scaling-stroke; fill: none; stroke: rgb(140, 86, 75); stroke-opacity: 1; stroke-width: 2px; opacity: 1;\"/></g><g class=\"points\"><path class=\"point\" transform=\"translate(33.92,229.34)\" d=\"M3,0A3,3 0 1,1 0,-3A3,3 0 0,1 3,0Z\" style=\"opacity: 1; stroke-width: 0px; fill: rgb(140, 86, 75); fill-opacity: 1;\"/><path class=\"point\" transform=\"translate(167.16,208)\" d=\"M3,0A3,3 0 1,1 0,-3A3,3 0 0,1 3,0Z\" style=\"opacity: 1; stroke-width: 0px; fill: rgb(140, 86, 75); fill-opacity: 1;\"/><path class=\"point\" transform=\"translate(300.41,229.34)\" d=\"M3,0A3,3 0 1,1 0,-3A3,3 0 0,1 3,0Z\" style=\"opacity: 1; stroke-width: 0px; fill: rgb(140, 86, 75); fill-opacity: 1;\"/><path class=\"point\" transform=\"translate(433.65,229.34)\" d=\"M3,0A3,3 0 1,1 0,-3A3,3 0 0,1 3,0Z\" style=\"opacity: 1; stroke-width: 0px; fill: rgb(140, 86, 75); fill-opacity: 1;\"/><path class=\"point\" transform=\"translate(566.9,16.02)\" d=\"M3,0A3,3 0 1,1 0,-3A3,3 0 0,1 3,0Z\" style=\"opacity: 1; stroke-width: 0px; fill: rgb(140, 86, 75); fill-opacity: 1;\"/></g><g class=\"text\"/></g><g class=\"trace scatter tracebdd1d857-557b-4293-a9c5-fd8fa7937d56\" style=\"stroke-miterlimit: 2; opacity: 0;\"><g class=\"fills\"/><g class=\"errorbars\"/><g class=\"lines\"><path class=\"js-line\" d=\"M33.92,229.34L566.9,229.34\" style=\"vector-effect: non-scaling-stroke; fill: none; stroke: rgb(0, 0, 0); stroke-opacity: 0; stroke-width: 0px; opacity: 1;\"/></g><g class=\"points\"><path class=\"point\" transform=\"translate(33.92,229.34)\" d=\"M3,0A3,3 0 1,1 0,-3A3,3 0 0,1 3,0Z\" style=\"opacity: 1; stroke-width: 0px; fill: rgb(0, 0, 0); fill-opacity: 0;\"/><path class=\"point\" transform=\"translate(167.16,229.34)\" d=\"M3,0A3,3 0 1,1 0,-3A3,3 0 0,1 3,0Z\" style=\"opacity: 1; stroke-width: 0px; fill: rgb(0, 0, 0); fill-opacity: 0;\"/><path class=\"point\" transform=\"translate(300.41,229.34)\" d=\"M3,0A3,3 0 1,1 0,-3A3,3 0 0,1 3,0Z\" style=\"opacity: 1; stroke-width: 0px; fill: rgb(0, 0, 0); fill-opacity: 0;\"/><path class=\"point\" transform=\"translate(433.65,229.34)\" d=\"M3,0A3,3 0 1,1 0,-3A3,3 0 0,1 3,0Z\" style=\"opacity: 1; stroke-width: 0px; fill: rgb(0, 0, 0); fill-opacity: 0;\"/><path class=\"point\" transform=\"translate(566.9,229.34)\" d=\"M3,0A3,3 0 1,1 0,-3A3,3 0 0,1 3,0Z\" style=\"opacity: 1; stroke-width: 0px; fill: rgb(0, 0, 0); fill-opacity: 0;\"/></g><g class=\"text\"/></g></g></g><g class=\"overplot\"/><path class=\"xlines-above crisp\" d=\"M0,0\" style=\"fill: none;\"/><path class=\"ylines-above crisp\" d=\"M0,0\" style=\"fill: none;\"/><g class=\"overlines-above\"/><g class=\"xaxislayer-above\"/><g class=\"yaxislayer-above\"><g class=\"y6tick\"><text text-anchor=\"end\" x=\"117\" y=\"4.199999999999999\" transform=\"translate(0,1800.3580722891566)\" style=\"font-family: 'Open Sans', verdana, arial, sans-serif; font-size: 12px; fill: rgb(42, 63, 95); fill-opacity: 1; white-space: pre; opacity: 1;\">0</text></g><g class=\"y6tick\"><text text-anchor=\"end\" x=\"117\" y=\"4.199999999999999\" style=\"font-family: 'Open Sans', verdana, arial, sans-serif; font-size: 12px; fill: rgb(42, 63, 95); fill-opacity: 1; white-space: pre; opacity: 1;\" transform=\"translate(0,1757.6880722891567)\">0.2</text></g><g class=\"y6tick\"><text text-anchor=\"end\" x=\"117\" y=\"4.199999999999999\" style=\"font-family: 'Open Sans', verdana, arial, sans-serif; font-size: 12px; fill: rgb(42, 63, 95); fill-opacity: 1; white-space: pre; opacity: 1;\" transform=\"translate(0,1715.0280722891566)\">0.4</text></g><g class=\"y6tick\"><text text-anchor=\"end\" x=\"117\" y=\"4.199999999999999\" style=\"font-family: 'Open Sans', verdana, arial, sans-serif; font-size: 12px; fill: rgb(42, 63, 95); fill-opacity: 1; white-space: pre; opacity: 1;\" transform=\"translate(0,1672.3580722891566)\">0.6</text></g><g class=\"y6tick\"><text text-anchor=\"end\" x=\"117\" y=\"4.199999999999999\" style=\"font-family: 'Open Sans', verdana, arial, sans-serif; font-size: 12px; fill: rgb(42, 63, 95); fill-opacity: 1; white-space: pre; opacity: 1;\" transform=\"translate(0,1629.6980722891567)\">0.8</text></g><g class=\"y6tick\"><text text-anchor=\"end\" x=\"117\" y=\"4.199999999999999\" style=\"font-family: 'Open Sans', verdana, arial, sans-serif; font-size: 12px; fill: rgb(42, 63, 95); fill-opacity: 1; white-space: pre; opacity: 1;\" transform=\"translate(0,1587.0380722891566)\">1</text></g></g><g class=\"overaxes-above\"/></g><g class=\"subplot x7y7\"><g class=\"layer-subplot\"><g class=\"shapelayer\"/><g class=\"imagelayer\"/></g><g class=\"gridlayer\"><g class=\"x7\"><path class=\"x7grid crisp\" transform=\"translate(151.92000000000002,0)\" d=\"M0,1854.2216867469879v245.35301204819274\" style=\"stroke: rgb(255, 255, 255); stroke-opacity: 1; stroke-width: 1px;\"/><path class=\"x7grid crisp\" transform=\"translate(285.15999999999997,0)\" d=\"M0,1854.2216867469879v245.35301204819274\" style=\"stroke: rgb(255, 255, 255); stroke-opacity: 1; stroke-width: 1px;\"/><path class=\"x7grid crisp\" transform=\"translate(418.41,0)\" d=\"M0,1854.2216867469879v245.35301204819274\" style=\"stroke: rgb(255, 255, 255); stroke-opacity: 1; stroke-width: 1px;\"/><path class=\"x7grid crisp\" transform=\"translate(551.65,0)\" d=\"M0,1854.2216867469879v245.35301204819274\" style=\"stroke: rgb(255, 255, 255); stroke-opacity: 1; stroke-width: 1px;\"/><path class=\"x7grid crisp\" transform=\"translate(684.9,0)\" d=\"M0,1854.2216867469879v245.35301204819274\" style=\"stroke: rgb(255, 255, 255); stroke-opacity: 1; stroke-width: 1px;\"/></g><g class=\"y7\"><path class=\"y7grid crisp\" transform=\"translate(0,2071.081686746988)\" d=\"M118,0h602\" style=\"stroke: rgb(255, 255, 255); stroke-opacity: 1; stroke-width: 1px;\"/><path class=\"y7grid crisp\" transform=\"translate(0,2030.911686746988)\" d=\"M118,0h602\" style=\"stroke: rgb(255, 255, 255); stroke-opacity: 1; stroke-width: 1px;\"/><path class=\"y7grid crisp\" transform=\"translate(0,1990.7516867469878)\" d=\"M118,0h602\" style=\"stroke: rgb(255, 255, 255); stroke-opacity: 1; stroke-width: 1px;\"/><path class=\"y7grid crisp\" transform=\"translate(0,1950.5816867469878)\" d=\"M118,0h602\" style=\"stroke: rgb(255, 255, 255); stroke-opacity: 1; stroke-width: 1px;\"/><path class=\"y7grid crisp\" transform=\"translate(0,1910.411686746988)\" d=\"M118,0h602\" style=\"stroke: rgb(255, 255, 255); stroke-opacity: 1; stroke-width: 1px;\"/><path class=\"y7grid crisp\" transform=\"translate(0,1870.2416867469879)\" d=\"M118,0h602\" style=\"stroke: rgb(255, 255, 255); stroke-opacity: 1; stroke-width: 1px;\"/></g></g><g class=\"zerolinelayer\"/><path class=\"xlines-below\"/><path class=\"ylines-below\"/><g class=\"overlines-below\"/><g class=\"xaxislayer-below\"/><g class=\"yaxislayer-below\"/><g class=\"overaxes-below\"/><g class=\"plot\" transform=\"translate(118,1854.2216867469879)\" clip-path=\"url(#clip663257x7y7plot)\"><g class=\"scatterlayer mlayer\"><g class=\"trace scatter trace575a5b1c-6d7c-4693-afdb-7d568bebea82\" style=\"stroke-miterlimit: 2;\"><g class=\"fills\"><g><path class=\"js-fill\" d=\"M33.92,16.02L167.16,28.23L300.41,20.44L433.65,20.44L566.9,229.34L566.9,16.02L33.92,16.02Z\" style=\"fill: rgb(220, 57, 18); fill-opacity: 0.3; stroke-width: 0;\"/></g></g><g class=\"errorbars\"/><g class=\"lines\"><path class=\"js-line\" d=\"M33.92,16.02L566.9,16.02\" style=\"vector-effect: non-scaling-stroke; fill: none; stroke: rgb(0, 0, 0); stroke-opacity: 0; stroke-width: 0px; opacity: 1;\"/></g><g class=\"points\"><path class=\"point\" transform=\"translate(33.92,16.02)\" d=\"M3,0A3,3 0 1,1 0,-3A3,3 0 0,1 3,0Z\" style=\"opacity: 1; stroke-width: 0px; fill: rgb(0, 0, 0); fill-opacity: 0;\"/><path class=\"point\" transform=\"translate(167.16,16.02)\" d=\"M3,0A3,3 0 1,1 0,-3A3,3 0 0,1 3,0Z\" style=\"opacity: 1; stroke-width: 0px; fill: rgb(0, 0, 0); fill-opacity: 0;\"/><path class=\"point\" transform=\"translate(300.41,16.02)\" d=\"M3,0A3,3 0 1,1 0,-3A3,3 0 0,1 3,0Z\" style=\"opacity: 1; stroke-width: 0px; fill: rgb(0, 0, 0); fill-opacity: 0;\"/><path class=\"point\" transform=\"translate(433.65,16.02)\" d=\"M3,0A3,3 0 1,1 0,-3A3,3 0 0,1 3,0Z\" style=\"opacity: 1; stroke-width: 0px; fill: rgb(0, 0, 0); fill-opacity: 0;\"/><path class=\"point\" transform=\"translate(566.9,16.02)\" d=\"M3,0A3,3 0 1,1 0,-3A3,3 0 0,1 3,0Z\" style=\"opacity: 1; stroke-width: 0px; fill: rgb(0, 0, 0); fill-opacity: 0;\"/></g><g class=\"text\"/></g><g class=\"trace scatter trace6ecc43d1-a58d-49f2-b40b-d6dbec4e58c7\" style=\"stroke-miterlimit: 2;\"><g class=\"fills\"/><g class=\"errorbars\"/><g class=\"lines\"><path class=\"js-line\" d=\"M33.92,16.02L167.16,28.23L300.41,20.44L433.65,20.44L566.9,229.34\" style=\"vector-effect: non-scaling-stroke; fill: none; stroke: rgb(0, 0, 0); stroke-opacity: 0; stroke-width: 0px; opacity: 1;\"/></g><g class=\"points\"><path class=\"point\" transform=\"translate(33.92,16.02)\" d=\"M3,0A3,3 0 1,1 0,-3A3,3 0 0,1 3,0Z\" style=\"opacity: 1; stroke-width: 0px; fill: rgb(0, 0, 0); fill-opacity: 0;\"/><path class=\"point\" transform=\"translate(167.16,28.23)\" d=\"M3,0A3,3 0 1,1 0,-3A3,3 0 0,1 3,0Z\" style=\"opacity: 1; stroke-width: 0px; fill: rgb(0, 0, 0); fill-opacity: 0;\"/><path class=\"point\" transform=\"translate(300.41,20.44)\" d=\"M3,0A3,3 0 1,1 0,-3A3,3 0 0,1 3,0Z\" style=\"opacity: 1; stroke-width: 0px; fill: rgb(0, 0, 0); fill-opacity: 0;\"/><path class=\"point\" transform=\"translate(433.65,20.44)\" d=\"M3,0A3,3 0 1,1 0,-3A3,3 0 0,1 3,0Z\" style=\"opacity: 1; stroke-width: 0px; fill: rgb(0, 0, 0); fill-opacity: 0;\"/><path class=\"point\" transform=\"translate(566.9,229.34)\" d=\"M3,0A3,3 0 1,1 0,-3A3,3 0 0,1 3,0Z\" style=\"opacity: 1; stroke-width: 0px; fill: rgb(0, 0, 0); fill-opacity: 0;\"/></g><g class=\"text\"/></g><g class=\"trace scatter trace1364ba43-c16a-420a-a692-3a27c745d385\" style=\"stroke-miterlimit: 2; opacity: 1;\"><g class=\"fills\"/><g class=\"errorbars\"/><g class=\"lines\"><path class=\"js-line\" d=\"M33.92,16.02L167.16,28.23L300.41,20.44L433.65,20.44L566.9,229.34\" style=\"vector-effect: non-scaling-stroke; fill: none; stroke: rgb(44, 160, 44); stroke-opacity: 1; stroke-width: 2px; opacity: 1;\"/></g><g class=\"points\"><path class=\"point\" transform=\"translate(33.92,16.02)\" d=\"M3,0A3,3 0 1,1 0,-3A3,3 0 0,1 3,0Z\" style=\"opacity: 1; stroke-width: 0px; fill: rgb(44, 160, 44); fill-opacity: 1;\"/><path class=\"point\" transform=\"translate(167.16,28.23)\" d=\"M3,0A3,3 0 1,1 0,-3A3,3 0 0,1 3,0Z\" style=\"opacity: 1; stroke-width: 0px; fill: rgb(44, 160, 44); fill-opacity: 1;\"/><path class=\"point\" transform=\"translate(300.41,20.44)\" d=\"M3,0A3,3 0 1,1 0,-3A3,3 0 0,1 3,0Z\" style=\"opacity: 1; stroke-width: 0px; fill: rgb(44, 160, 44); fill-opacity: 1;\"/><path class=\"point\" transform=\"translate(433.65,20.44)\" d=\"M3,0A3,3 0 1,1 0,-3A3,3 0 0,1 3,0Z\" style=\"opacity: 1; stroke-width: 0px; fill: rgb(44, 160, 44); fill-opacity: 1;\"/><path class=\"point\" transform=\"translate(566.9,229.34)\" d=\"M3,0A3,3 0 1,1 0,-3A3,3 0 0,1 3,0Z\" style=\"opacity: 1; stroke-width: 0px; fill: rgb(44, 160, 44); fill-opacity: 1;\"/></g><g class=\"text\"/></g><g class=\"trace scatter traceefecec85-5e0c-4697-8a0d-295a341149ac\" style=\"stroke-miterlimit: 2; opacity: 0;\"><g class=\"fills\"/><g class=\"errorbars\"/><g class=\"lines\"><path class=\"js-line\" d=\"M33.92,16.02L566.9,16.02\" style=\"vector-effect: non-scaling-stroke; fill: none; stroke: rgb(0, 0, 0); stroke-opacity: 0; stroke-width: 0px; opacity: 1;\"/></g><g class=\"points\"><path class=\"point\" transform=\"translate(33.92,16.02)\" d=\"M3,0A3,3 0 1,1 0,-3A3,3 0 0,1 3,0Z\" style=\"opacity: 1; stroke-width: 0px; fill: rgb(0, 0, 0); fill-opacity: 0;\"/><path class=\"point\" transform=\"translate(167.16,16.02)\" d=\"M3,0A3,3 0 1,1 0,-3A3,3 0 0,1 3,0Z\" style=\"opacity: 1; stroke-width: 0px; fill: rgb(0, 0, 0); fill-opacity: 0;\"/><path class=\"point\" transform=\"translate(300.41,16.02)\" d=\"M3,0A3,3 0 1,1 0,-3A3,3 0 0,1 3,0Z\" style=\"opacity: 1; stroke-width: 0px; fill: rgb(0, 0, 0); fill-opacity: 0;\"/><path class=\"point\" transform=\"translate(433.65,16.02)\" d=\"M3,0A3,3 0 1,1 0,-3A3,3 0 0,1 3,0Z\" style=\"opacity: 1; stroke-width: 0px; fill: rgb(0, 0, 0); fill-opacity: 0;\"/><path class=\"point\" transform=\"translate(566.9,16.02)\" d=\"M3,0A3,3 0 1,1 0,-3A3,3 0 0,1 3,0Z\" style=\"opacity: 1; stroke-width: 0px; fill: rgb(0, 0, 0); fill-opacity: 0;\"/></g><g class=\"text\"/></g></g></g><g class=\"overplot\"/><path class=\"xlines-above crisp\" d=\"M0,0\" style=\"fill: none;\"/><path class=\"ylines-above crisp\" d=\"M0,0\" style=\"fill: none;\"/><g class=\"overlines-above\"/><g class=\"xaxislayer-above\"/><g class=\"yaxislayer-above\"><g class=\"y7tick\"><text text-anchor=\"end\" x=\"117\" y=\"4.199999999999999\" transform=\"translate(0,2071.081686746988)\" style=\"font-family: 'Open Sans', verdana, arial, sans-serif; font-size: 12px; fill: rgb(42, 63, 95); fill-opacity: 1; white-space: pre; opacity: 1;\">95</text></g><g class=\"y7tick\"><text text-anchor=\"end\" x=\"117\" y=\"4.199999999999999\" style=\"font-family: 'Open Sans', verdana, arial, sans-serif; font-size: 12px; fill: rgb(42, 63, 95); fill-opacity: 1; white-space: pre; opacity: 1;\" transform=\"translate(0,2030.911686746988)\">96</text></g><g class=\"y7tick\"><text text-anchor=\"end\" x=\"117\" y=\"4.199999999999999\" style=\"font-family: 'Open Sans', verdana, arial, sans-serif; font-size: 12px; fill: rgb(42, 63, 95); fill-opacity: 1; white-space: pre; opacity: 1;\" transform=\"translate(0,1990.7516867469878)\">97</text></g><g class=\"y7tick\"><text text-anchor=\"end\" x=\"117\" y=\"4.199999999999999\" style=\"font-family: 'Open Sans', verdana, arial, sans-serif; font-size: 12px; fill: rgb(42, 63, 95); fill-opacity: 1; white-space: pre; opacity: 1;\" transform=\"translate(0,1950.5816867469878)\">98</text></g><g class=\"y7tick\"><text text-anchor=\"end\" x=\"117\" y=\"4.199999999999999\" style=\"font-family: 'Open Sans', verdana, arial, sans-serif; font-size: 12px; fill: rgb(42, 63, 95); fill-opacity: 1; white-space: pre; opacity: 1;\" transform=\"translate(0,1910.411686746988)\">99</text></g><g class=\"y7tick\"><text text-anchor=\"end\" x=\"117\" y=\"4.199999999999999\" style=\"font-family: 'Open Sans', verdana, arial, sans-serif; font-size: 12px; fill: rgb(42, 63, 95); fill-opacity: 1; white-space: pre; opacity: 1;\" transform=\"translate(0,1870.2416867469879)\">100</text></g></g><g class=\"overaxes-above\"/></g><g class=\"subplot x8y8\"><g class=\"layer-subplot\"><g class=\"shapelayer\"/><g class=\"imagelayer\"/></g><g class=\"gridlayer\"><g class=\"x8\"><path class=\"x8grid crisp\" transform=\"translate(151.92000000000002,0)\" d=\"M0,2137.425301204819v245.35301204819274\" style=\"stroke: rgb(255, 255, 255); stroke-opacity: 1; stroke-width: 1px;\"/><path class=\"x8grid crisp\" transform=\"translate(285.15999999999997,0)\" d=\"M0,2137.425301204819v245.35301204819274\" style=\"stroke: rgb(255, 255, 255); stroke-opacity: 1; stroke-width: 1px;\"/><path class=\"x8grid crisp\" transform=\"translate(418.41,0)\" d=\"M0,2137.425301204819v245.35301204819274\" style=\"stroke: rgb(255, 255, 255); stroke-opacity: 1; stroke-width: 1px;\"/><path class=\"x8grid crisp\" transform=\"translate(551.65,0)\" d=\"M0,2137.425301204819v245.35301204819274\" style=\"stroke: rgb(255, 255, 255); stroke-opacity: 1; stroke-width: 1px;\"/><path class=\"x8grid crisp\" transform=\"translate(684.9,0)\" d=\"M0,2137.425301204819v245.35301204819274\" style=\"stroke: rgb(255, 255, 255); stroke-opacity: 1; stroke-width: 1px;\"/></g><g class=\"y8\"><path class=\"y8grid crisp\" transform=\"translate(0,2324.095301204819)\" d=\"M118,0h602\" style=\"stroke: rgb(255, 255, 255); stroke-opacity: 1; stroke-width: 1px;\"/><path class=\"y8grid crisp\" transform=\"translate(0,2281.4353012048186)\" d=\"M118,0h602\" style=\"stroke: rgb(255, 255, 255); stroke-opacity: 1; stroke-width: 1px;\"/><path class=\"y8grid crisp\" transform=\"translate(0,2238.765301204819)\" d=\"M118,0h602\" style=\"stroke: rgb(255, 255, 255); stroke-opacity: 1; stroke-width: 1px;\"/><path class=\"y8grid crisp\" transform=\"translate(0,2196.1053012048187)\" d=\"M118,0h602\" style=\"stroke: rgb(255, 255, 255); stroke-opacity: 1; stroke-width: 1px;\"/><path class=\"y8grid crisp\" transform=\"translate(0,2153.445301204819)\" d=\"M118,0h602\" style=\"stroke: rgb(255, 255, 255); stroke-opacity: 1; stroke-width: 1px;\"/></g></g><g class=\"zerolinelayer\"><path class=\"y8zl zl crisp\" transform=\"translate(0,2366.765301204819)\" d=\"M118,0h602\" style=\"stroke: rgb(255, 255, 255); stroke-opacity: 1; stroke-width: 2px;\"/></g><path class=\"xlines-below\"/><path class=\"ylines-below\"/><g class=\"overlines-below\"/><g class=\"xaxislayer-below\"/><g class=\"yaxislayer-below\"/><g class=\"overaxes-below\"/><g class=\"plot\" transform=\"translate(118,2137.425301204819)\" clip-path=\"url(#clip663257x8y8plot)\"><g class=\"scatterlayer mlayer\"><g class=\"trace scatter trace456e4e6a-c62c-405a-977d-4941709b42b7\" style=\"stroke-miterlimit: 2;\"><g class=\"fills\"><g><path class=\"js-fill\" d=\"M33.92,229.34L167.16,220.8L300.41,229.34L433.65,229.34L566.9,16.02L566.9,229.34L33.92,229.34Z\" style=\"fill: rgb(23, 190, 207); fill-opacity: 0.3; stroke-width: 0;\"/></g></g><g class=\"errorbars\"/><g class=\"lines\"><path class=\"js-line\" d=\"M33.92,229.34L566.9,229.34\" style=\"vector-effect: non-scaling-stroke; fill: none; stroke: rgb(0, 0, 0); stroke-opacity: 0; stroke-width: 0px; opacity: 1;\"/></g><g class=\"points\"><path class=\"point\" transform=\"translate(33.92,229.34)\" d=\"M3,0A3,3 0 1,1 0,-3A3,3 0 0,1 3,0Z\" style=\"opacity: 1; stroke-width: 0px; fill: rgb(0, 0, 0); fill-opacity: 0;\"/><path class=\"point\" transform=\"translate(167.16,229.34)\" d=\"M3,0A3,3 0 1,1 0,-3A3,3 0 0,1 3,0Z\" style=\"opacity: 1; stroke-width: 0px; fill: rgb(0, 0, 0); fill-opacity: 0;\"/><path class=\"point\" transform=\"translate(300.41,229.34)\" d=\"M3,0A3,3 0 1,1 0,-3A3,3 0 0,1 3,0Z\" style=\"opacity: 1; stroke-width: 0px; fill: rgb(0, 0, 0); fill-opacity: 0;\"/><path class=\"point\" transform=\"translate(433.65,229.34)\" d=\"M3,0A3,3 0 1,1 0,-3A3,3 0 0,1 3,0Z\" style=\"opacity: 1; stroke-width: 0px; fill: rgb(0, 0, 0); fill-opacity: 0;\"/><path class=\"point\" transform=\"translate(566.9,229.34)\" d=\"M3,0A3,3 0 1,1 0,-3A3,3 0 0,1 3,0Z\" style=\"opacity: 1; stroke-width: 0px; fill: rgb(0, 0, 0); fill-opacity: 0;\"/></g><g class=\"text\"/></g><g class=\"trace scatter trace75aa1870-cb20-4afb-b78b-cded5ee4ad03\" style=\"stroke-miterlimit: 2;\"><g class=\"fills\"/><g class=\"errorbars\"/><g class=\"lines\"><path class=\"js-line\" d=\"M33.92,229.34L167.16,220.8L300.41,229.34L433.65,229.34L566.9,16.02\" style=\"vector-effect: non-scaling-stroke; fill: none; stroke: rgb(0, 0, 0); stroke-opacity: 0; stroke-width: 0px; opacity: 1;\"/></g><g class=\"points\"><path class=\"point\" transform=\"translate(33.92,229.34)\" d=\"M3,0A3,3 0 1,1 0,-3A3,3 0 0,1 3,0Z\" style=\"opacity: 1; stroke-width: 0px; fill: rgb(0, 0, 0); fill-opacity: 0;\"/><path class=\"point\" transform=\"translate(167.16,220.8)\" d=\"M3,0A3,3 0 1,1 0,-3A3,3 0 0,1 3,0Z\" style=\"opacity: 1; stroke-width: 0px; fill: rgb(0, 0, 0); fill-opacity: 0;\"/><path class=\"point\" transform=\"translate(300.41,229.34)\" d=\"M3,0A3,3 0 1,1 0,-3A3,3 0 0,1 3,0Z\" style=\"opacity: 1; stroke-width: 0px; fill: rgb(0, 0, 0); fill-opacity: 0;\"/><path class=\"point\" transform=\"translate(433.65,229.34)\" d=\"M3,0A3,3 0 1,1 0,-3A3,3 0 0,1 3,0Z\" style=\"opacity: 1; stroke-width: 0px; fill: rgb(0, 0, 0); fill-opacity: 0;\"/><path class=\"point\" transform=\"translate(566.9,16.02)\" d=\"M3,0A3,3 0 1,1 0,-3A3,3 0 0,1 3,0Z\" style=\"opacity: 1; stroke-width: 0px; fill: rgb(0, 0, 0); fill-opacity: 0;\"/></g><g class=\"text\"/></g><g class=\"trace scatter traceccdb349c-473e-4af7-8e6b-ad5e524d441a\" style=\"stroke-miterlimit: 2; opacity: 1;\"><g class=\"fills\"/><g class=\"errorbars\"/><g class=\"lines\"><path class=\"js-line\" d=\"M33.92,229.34L167.16,220.8L300.41,229.34L433.65,229.34L566.9,16.02\" style=\"vector-effect: non-scaling-stroke; fill: none; stroke: rgb(23, 190, 207); stroke-opacity: 1; stroke-width: 2px; opacity: 1;\"/></g><g class=\"points\"><path class=\"point\" transform=\"translate(33.92,229.34)\" d=\"M3,0A3,3 0 1,1 0,-3A3,3 0 0,1 3,0Z\" style=\"opacity: 1; stroke-width: 0px; fill: rgb(23, 190, 207); fill-opacity: 1;\"/><path class=\"point\" transform=\"translate(167.16,220.8)\" d=\"M3,0A3,3 0 1,1 0,-3A3,3 0 0,1 3,0Z\" style=\"opacity: 1; stroke-width: 0px; fill: rgb(23, 190, 207); fill-opacity: 1;\"/><path class=\"point\" transform=\"translate(300.41,229.34)\" d=\"M3,0A3,3 0 1,1 0,-3A3,3 0 0,1 3,0Z\" style=\"opacity: 1; stroke-width: 0px; fill: rgb(23, 190, 207); fill-opacity: 1;\"/><path class=\"point\" transform=\"translate(433.65,229.34)\" d=\"M3,0A3,3 0 1,1 0,-3A3,3 0 0,1 3,0Z\" style=\"opacity: 1; stroke-width: 0px; fill: rgb(23, 190, 207); fill-opacity: 1;\"/><path class=\"point\" transform=\"translate(566.9,16.02)\" d=\"M3,0A3,3 0 1,1 0,-3A3,3 0 0,1 3,0Z\" style=\"opacity: 1; stroke-width: 0px; fill: rgb(23, 190, 207); fill-opacity: 1;\"/></g><g class=\"text\"/></g><g class=\"trace scatter trace0889482b-890a-417b-88d1-1c405d5eea9b\" style=\"stroke-miterlimit: 2; opacity: 0;\"><g class=\"fills\"/><g class=\"errorbars\"/><g class=\"lines\"><path class=\"js-line\" d=\"M33.92,229.34L566.9,229.34\" style=\"vector-effect: non-scaling-stroke; fill: none; stroke: rgb(0, 0, 0); stroke-opacity: 0; stroke-width: 0px; opacity: 1;\"/></g><g class=\"points\"><path class=\"point\" transform=\"translate(33.92,229.34)\" d=\"M3,0A3,3 0 1,1 0,-3A3,3 0 0,1 3,0Z\" style=\"opacity: 1; stroke-width: 0px; fill: rgb(0, 0, 0); fill-opacity: 0;\"/><path class=\"point\" transform=\"translate(167.16,229.34)\" d=\"M3,0A3,3 0 1,1 0,-3A3,3 0 0,1 3,0Z\" style=\"opacity: 1; stroke-width: 0px; fill: rgb(0, 0, 0); fill-opacity: 0;\"/><path class=\"point\" transform=\"translate(300.41,229.34)\" d=\"M3,0A3,3 0 1,1 0,-3A3,3 0 0,1 3,0Z\" style=\"opacity: 1; stroke-width: 0px; fill: rgb(0, 0, 0); fill-opacity: 0;\"/><path class=\"point\" transform=\"translate(433.65,229.34)\" d=\"M3,0A3,3 0 1,1 0,-3A3,3 0 0,1 3,0Z\" style=\"opacity: 1; stroke-width: 0px; fill: rgb(0, 0, 0); fill-opacity: 0;\"/><path class=\"point\" transform=\"translate(566.9,229.34)\" d=\"M3,0A3,3 0 1,1 0,-3A3,3 0 0,1 3,0Z\" style=\"opacity: 1; stroke-width: 0px; fill: rgb(0, 0, 0); fill-opacity: 0;\"/></g><g class=\"text\"/></g></g></g><g class=\"overplot\"/><path class=\"xlines-above crisp\" d=\"M0,0\" style=\"fill: none;\"/><path class=\"ylines-above crisp\" d=\"M0,0\" style=\"fill: none;\"/><g class=\"overlines-above\"/><g class=\"xaxislayer-above\"/><g class=\"yaxislayer-above\"><g class=\"y8tick\"><text text-anchor=\"end\" x=\"117\" y=\"4.199999999999999\" transform=\"translate(0,2366.765301204819)\" style=\"font-family: 'Open Sans', verdana, arial, sans-serif; font-size: 12px; fill: rgb(42, 63, 95); fill-opacity: 1; white-space: pre; opacity: 1;\">0</text></g><g class=\"y8tick\"><text text-anchor=\"end\" x=\"117\" y=\"4.199999999999999\" style=\"font-family: 'Open Sans', verdana, arial, sans-serif; font-size: 12px; fill: rgb(42, 63, 95); fill-opacity: 1; white-space: pre; opacity: 1;\" transform=\"translate(0,2324.095301204819)\">1</text></g><g class=\"y8tick\"><text text-anchor=\"end\" x=\"117\" y=\"4.199999999999999\" style=\"font-family: 'Open Sans', verdana, arial, sans-serif; font-size: 12px; fill: rgb(42, 63, 95); fill-opacity: 1; white-space: pre; opacity: 1;\" transform=\"translate(0,2281.4353012048186)\">2</text></g><g class=\"y8tick\"><text text-anchor=\"end\" x=\"117\" y=\"4.199999999999999\" style=\"font-family: 'Open Sans', verdana, arial, sans-serif; font-size: 12px; fill: rgb(42, 63, 95); fill-opacity: 1; white-space: pre; opacity: 1;\" transform=\"translate(0,2238.765301204819)\">3</text></g><g class=\"y8tick\"><text text-anchor=\"end\" x=\"117\" y=\"4.199999999999999\" style=\"font-family: 'Open Sans', verdana, arial, sans-serif; font-size: 12px; fill: rgb(42, 63, 95); fill-opacity: 1; white-space: pre; opacity: 1;\" transform=\"translate(0,2196.1053012048187)\">4</text></g><g class=\"y8tick\"><text text-anchor=\"end\" x=\"117\" y=\"4.199999999999999\" style=\"font-family: 'Open Sans', verdana, arial, sans-serif; font-size: 12px; fill: rgb(42, 63, 95); fill-opacity: 1; white-space: pre; opacity: 1;\" transform=\"translate(0,2153.445301204819)\">5</text></g></g><g class=\"overaxes-above\"/></g><g class=\"subplot x9y9\"><g class=\"layer-subplot\"><g class=\"shapelayer\"/><g class=\"imagelayer\"/></g><g class=\"gridlayer\"><g class=\"x9\"><path class=\"x9grid crisp\" transform=\"translate(151.92000000000002,0)\" d=\"M0,2420.628915662651v245.35301204819274\" style=\"stroke: rgb(255, 255, 255); stroke-opacity: 1; stroke-width: 1px;\"/><path class=\"x9grid crisp\" transform=\"translate(285.15999999999997,0)\" d=\"M0,2420.628915662651v245.35301204819274\" style=\"stroke: rgb(255, 255, 255); stroke-opacity: 1; stroke-width: 1px;\"/><path class=\"x9grid crisp\" transform=\"translate(418.41,0)\" d=\"M0,2420.628915662651v245.35301204819274\" style=\"stroke: rgb(255, 255, 255); stroke-opacity: 1; stroke-width: 1px;\"/><path class=\"x9grid crisp\" transform=\"translate(551.65,0)\" d=\"M0,2420.628915662651v245.35301204819274\" style=\"stroke: rgb(255, 255, 255); stroke-opacity: 1; stroke-width: 1px;\"/><path class=\"x9grid crisp\" transform=\"translate(684.9,0)\" d=\"M0,2420.628915662651v245.35301204819274\" style=\"stroke: rgb(255, 255, 255); stroke-opacity: 1; stroke-width: 1px;\"/></g><g class=\"y9\"><path class=\"y9grid crisp\" transform=\"translate(0,2642.758915662651)\" d=\"M118,0h602\" style=\"stroke: rgb(255, 255, 255); stroke-opacity: 1; stroke-width: 1px;\"/><path class=\"y9grid crisp\" transform=\"translate(0,2574.048915662651)\" d=\"M118,0h602\" style=\"stroke: rgb(255, 255, 255); stroke-opacity: 1; stroke-width: 1px;\"/><path class=\"y9grid crisp\" transform=\"translate(0,2505.3489156626506)\" d=\"M118,0h602\" style=\"stroke: rgb(255, 255, 255); stroke-opacity: 1; stroke-width: 1px;\"/><path class=\"y9grid crisp\" transform=\"translate(0,2436.648915662651)\" d=\"M118,0h602\" style=\"stroke: rgb(255, 255, 255); stroke-opacity: 1; stroke-width: 1px;\"/></g></g><g class=\"zerolinelayer\"/><path class=\"xlines-below\"/><path class=\"ylines-below\"/><g class=\"overlines-below\"/><g class=\"xaxislayer-below\"/><g class=\"yaxislayer-below\"/><g class=\"overaxes-below\"/><g class=\"plot\" transform=\"translate(118,2420.628915662651)\" clip-path=\"url(#clip663257x9y9plot)\"><g class=\"scatterlayer mlayer\"><g class=\"trace scatter trace3c26731a-0a1e-43ee-bad7-5d7b77a1feea\" style=\"stroke-miterlimit: 2;\"><g class=\"fills\"><g><path class=\"js-fill\" d=\"M33.92,16.02L167.16,87.48L300.41,91.58L433.65,91.58L566.9,229.34L566.9,16.02L33.92,16.02Z\" style=\"fill: rgb(255, 0, 0); fill-opacity: 0.3; stroke-width: 0;\"/></g></g><g class=\"errorbars\"/><g class=\"lines\"><path class=\"js-line\" d=\"M33.92,16.02L566.9,16.02\" style=\"vector-effect: non-scaling-stroke; fill: none; stroke: rgb(0, 0, 0); stroke-opacity: 0; stroke-width: 0px; opacity: 1;\"/></g><g class=\"points\"><path class=\"point\" transform=\"translate(33.92,16.02)\" d=\"M3,0A3,3 0 1,1 0,-3A3,3 0 0,1 3,0Z\" style=\"opacity: 1; stroke-width: 0px; fill: rgb(0, 0, 0); fill-opacity: 0;\"/><path class=\"point\" transform=\"translate(167.16,16.02)\" d=\"M3,0A3,3 0 1,1 0,-3A3,3 0 0,1 3,0Z\" style=\"opacity: 1; stroke-width: 0px; fill: rgb(0, 0, 0); fill-opacity: 0;\"/><path class=\"point\" transform=\"translate(300.41,16.02)\" d=\"M3,0A3,3 0 1,1 0,-3A3,3 0 0,1 3,0Z\" style=\"opacity: 1; stroke-width: 0px; fill: rgb(0, 0, 0); fill-opacity: 0;\"/><path class=\"point\" transform=\"translate(433.65,16.02)\" d=\"M3,0A3,3 0 1,1 0,-3A3,3 0 0,1 3,0Z\" style=\"opacity: 1; stroke-width: 0px; fill: rgb(0, 0, 0); fill-opacity: 0;\"/><path class=\"point\" transform=\"translate(566.9,16.02)\" d=\"M3,0A3,3 0 1,1 0,-3A3,3 0 0,1 3,0Z\" style=\"opacity: 1; stroke-width: 0px; fill: rgb(0, 0, 0); fill-opacity: 0;\"/></g><g class=\"text\"/></g><g class=\"trace scatter traceae4c877f-6e4b-44ca-8452-70379c7328ee\" style=\"stroke-miterlimit: 2;\"><g class=\"fills\"/><g class=\"errorbars\"/><g class=\"lines\"><path class=\"js-line\" d=\"M33.92,16.02L167.16,87.48L300.41,91.58L433.65,91.58L566.9,229.34\" style=\"vector-effect: non-scaling-stroke; fill: none; stroke: rgb(0, 0, 0); stroke-opacity: 0; stroke-width: 0px; opacity: 1;\"/></g><g class=\"points\"><path class=\"point\" transform=\"translate(33.92,16.02)\" d=\"M3,0A3,3 0 1,1 0,-3A3,3 0 0,1 3,0Z\" style=\"opacity: 1; stroke-width: 0px; fill: rgb(0, 0, 0); fill-opacity: 0;\"/><path class=\"point\" transform=\"translate(167.16,87.48)\" d=\"M3,0A3,3 0 1,1 0,-3A3,3 0 0,1 3,0Z\" style=\"opacity: 1; stroke-width: 0px; fill: rgb(0, 0, 0); fill-opacity: 0;\"/><path class=\"point\" transform=\"translate(300.41,91.58)\" d=\"M3,0A3,3 0 1,1 0,-3A3,3 0 0,1 3,0Z\" style=\"opacity: 1; stroke-width: 0px; fill: rgb(0, 0, 0); fill-opacity: 0;\"/><path class=\"point\" transform=\"translate(433.65,91.58)\" d=\"M3,0A3,3 0 1,1 0,-3A3,3 0 0,1 3,0Z\" style=\"opacity: 1; stroke-width: 0px; fill: rgb(0, 0, 0); fill-opacity: 0;\"/><path class=\"point\" transform=\"translate(566.9,229.34)\" d=\"M3,0A3,3 0 1,1 0,-3A3,3 0 0,1 3,0Z\" style=\"opacity: 1; stroke-width: 0px; fill: rgb(0, 0, 0); fill-opacity: 0;\"/></g><g class=\"text\"/></g><g class=\"trace scatter trace50c8d67e-b930-419e-8af8-d5e9860e46a1\" style=\"stroke-miterlimit: 2; opacity: 1;\"><g class=\"fills\"/><g class=\"errorbars\"/><g class=\"lines\"><path class=\"js-line\" d=\"M33.92,16.02L167.16,87.48L300.41,91.58L433.65,91.58L566.9,229.34\" style=\"vector-effect: non-scaling-stroke; fill: none; stroke: rgb(148, 103, 189); stroke-opacity: 1; stroke-width: 2px; opacity: 1;\"/></g><g class=\"points\"><path class=\"point\" transform=\"translate(33.92,16.02)\" d=\"M3,0A3,3 0 1,1 0,-3A3,3 0 0,1 3,0Z\" style=\"opacity: 1; stroke-width: 0px; fill: rgb(148, 103, 189); fill-opacity: 1;\"/><path class=\"point\" transform=\"translate(167.16,87.48)\" d=\"M3,0A3,3 0 1,1 0,-3A3,3 0 0,1 3,0Z\" style=\"opacity: 1; stroke-width: 0px; fill: rgb(148, 103, 189); fill-opacity: 1;\"/><path class=\"point\" transform=\"translate(300.41,91.58)\" d=\"M3,0A3,3 0 1,1 0,-3A3,3 0 0,1 3,0Z\" style=\"opacity: 1; stroke-width: 0px; fill: rgb(148, 103, 189); fill-opacity: 1;\"/><path class=\"point\" transform=\"translate(433.65,91.58)\" d=\"M3,0A3,3 0 1,1 0,-3A3,3 0 0,1 3,0Z\" style=\"opacity: 1; stroke-width: 0px; fill: rgb(148, 103, 189); fill-opacity: 1;\"/><path class=\"point\" transform=\"translate(566.9,229.34)\" d=\"M3,0A3,3 0 1,1 0,-3A3,3 0 0,1 3,0Z\" style=\"opacity: 1; stroke-width: 0px; fill: rgb(148, 103, 189); fill-opacity: 1;\"/></g><g class=\"text\"/></g><g class=\"trace scatter tracec7c5b4ce-f180-486a-8ce3-ce88cecdbc74\" style=\"stroke-miterlimit: 2; opacity: 0;\"><g class=\"fills\"/><g class=\"errorbars\"/><g class=\"lines\"><path class=\"js-line\" d=\"M33.92,16.02L566.9,16.02\" style=\"vector-effect: non-scaling-stroke; fill: none; stroke: rgb(0, 0, 0); stroke-opacity: 0; stroke-width: 0px; opacity: 1;\"/></g><g class=\"points\"><path class=\"point\" transform=\"translate(33.92,16.02)\" d=\"M3,0A3,3 0 1,1 0,-3A3,3 0 0,1 3,0Z\" style=\"opacity: 1; stroke-width: 0px; fill: rgb(0, 0, 0); fill-opacity: 0;\"/><path class=\"point\" transform=\"translate(167.16,16.02)\" d=\"M3,0A3,3 0 1,1 0,-3A3,3 0 0,1 3,0Z\" style=\"opacity: 1; stroke-width: 0px; fill: rgb(0, 0, 0); fill-opacity: 0;\"/><path class=\"point\" transform=\"translate(300.41,16.02)\" d=\"M3,0A3,3 0 1,1 0,-3A3,3 0 0,1 3,0Z\" style=\"opacity: 1; stroke-width: 0px; fill: rgb(0, 0, 0); fill-opacity: 0;\"/><path class=\"point\" transform=\"translate(433.65,16.02)\" d=\"M3,0A3,3 0 1,1 0,-3A3,3 0 0,1 3,0Z\" style=\"opacity: 1; stroke-width: 0px; fill: rgb(0, 0, 0); fill-opacity: 0;\"/><path class=\"point\" transform=\"translate(566.9,16.02)\" d=\"M3,0A3,3 0 1,1 0,-3A3,3 0 0,1 3,0Z\" style=\"opacity: 1; stroke-width: 0px; fill: rgb(0, 0, 0); fill-opacity: 0;\"/></g><g class=\"text\"/></g></g></g><g class=\"overplot\"/><path class=\"xlines-above crisp\" d=\"M0,0\" style=\"fill: none;\"/><path class=\"ylines-above crisp\" d=\"M0,0\" style=\"fill: none;\"/><g class=\"overlines-above\"/><g class=\"xaxislayer-above\"/><g class=\"yaxislayer-above\"><g class=\"y9tick\"><text text-anchor=\"end\" x=\"117\" y=\"4.199999999999999\" transform=\"translate(0,2642.758915662651)\" style=\"font-family: 'Open Sans', verdana, arial, sans-serif; font-size: 12px; fill: rgb(42, 63, 95); fill-opacity: 1; white-space: pre; opacity: 1;\">99.7</text></g><g class=\"y9tick\"><text text-anchor=\"end\" x=\"117\" y=\"4.199999999999999\" style=\"font-family: 'Open Sans', verdana, arial, sans-serif; font-size: 12px; fill: rgb(42, 63, 95); fill-opacity: 1; white-space: pre; opacity: 1;\" transform=\"translate(0,2574.048915662651)\">99.8</text></g><g class=\"y9tick\"><text text-anchor=\"end\" x=\"117\" y=\"4.199999999999999\" style=\"font-family: 'Open Sans', verdana, arial, sans-serif; font-size: 12px; fill: rgb(42, 63, 95); fill-opacity: 1; white-space: pre; opacity: 1;\" transform=\"translate(0,2505.3489156626506)\">99.9</text></g><g class=\"y9tick\"><text text-anchor=\"end\" x=\"117\" y=\"4.199999999999999\" style=\"font-family: 'Open Sans', verdana, arial, sans-serif; font-size: 12px; fill: rgb(42, 63, 95); fill-opacity: 1; white-space: pre; opacity: 1;\" transform=\"translate(0,2436.648915662651)\">100</text></g></g><g class=\"overaxes-above\"/></g><g class=\"subplot x10y10\"><g class=\"layer-subplot\"><g class=\"shapelayer\"/><g class=\"imagelayer\"/></g><g class=\"gridlayer\"><g class=\"x10\"><path class=\"x10grid crisp\" transform=\"translate(151.92000000000002,0)\" d=\"M0,2703.8325301204823v245.35301204819274\" style=\"stroke: rgb(255, 255, 255); stroke-opacity: 1; stroke-width: 1px;\"/><path class=\"x10grid crisp\" transform=\"translate(285.15999999999997,0)\" d=\"M0,2703.8325301204823v245.35301204819274\" style=\"stroke: rgb(255, 255, 255); stroke-opacity: 1; stroke-width: 1px;\"/><path class=\"x10grid crisp\" transform=\"translate(418.41,0)\" d=\"M0,2703.8325301204823v245.35301204819274\" style=\"stroke: rgb(255, 255, 255); stroke-opacity: 1; stroke-width: 1px;\"/><path class=\"x10grid crisp\" transform=\"translate(551.65,0)\" d=\"M0,2703.8325301204823v245.35301204819274\" style=\"stroke: rgb(255, 255, 255); stroke-opacity: 1; stroke-width: 1px;\"/><path class=\"x10grid crisp\" transform=\"translate(684.9,0)\" d=\"M0,2703.8325301204823v245.35301204819274\" style=\"stroke: rgb(255, 255, 255); stroke-opacity: 1; stroke-width: 1px;\"/></g><g class=\"y10\"><path class=\"y10grid crisp\" transform=\"translate(0,2932.722530120482)\" d=\"M118,0h602\" style=\"stroke: rgb(255, 255, 255); stroke-opacity: 1; stroke-width: 1px;\"/><path class=\"y10grid crisp\" transform=\"translate(0,2861.7725301204823)\" d=\"M118,0h602\" style=\"stroke: rgb(255, 255, 255); stroke-opacity: 1; stroke-width: 1px;\"/><path class=\"y10grid crisp\" transform=\"translate(0,2790.8125301204823)\" d=\"M118,0h602\" style=\"stroke: rgb(255, 255, 255); stroke-opacity: 1; stroke-width: 1px;\"/><path class=\"y10grid crisp\" transform=\"translate(0,2719.8525301204822)\" d=\"M118,0h602\" style=\"stroke: rgb(255, 255, 255); stroke-opacity: 1; stroke-width: 1px;\"/></g></g><g class=\"zerolinelayer\"/><path class=\"xlines-below\"/><path class=\"ylines-below\"/><g class=\"overlines-below\"/><g class=\"xaxislayer-below\"/><g class=\"yaxislayer-below\"/><g class=\"overaxes-below\"/><g class=\"plot\" transform=\"translate(118,2703.8325301204823)\" clip-path=\"url(#clip663257x10y10plot)\"><g class=\"scatterlayer mlayer\"><g class=\"trace scatter trace1cb9f88d-4f1d-47e8-92a0-ab36b07e1ad1\" style=\"stroke-miterlimit: 2; opacity: 1;\"><g class=\"fills\"/><g class=\"errorbars\"/><g class=\"lines\"><path class=\"js-line\" d=\"M33.92,228.89L167.16,228.89L300.41,157.94L566.9,16.02\" style=\"vector-effect: non-scaling-stroke; fill: none; stroke: rgb(127, 127, 127); stroke-opacity: 1; stroke-width: 2px; opacity: 1;\"/></g><g class=\"points\"><path class=\"point\" transform=\"translate(33.92,228.89)\" d=\"M3,0A3,3 0 1,1 0,-3A3,3 0 0,1 3,0Z\" style=\"opacity: 1; stroke-width: 0px; fill: rgb(127, 127, 127); fill-opacity: 1;\"/><path class=\"point\" transform=\"translate(167.16,228.89)\" d=\"M3,0A3,3 0 1,1 0,-3A3,3 0 0,1 3,0Z\" style=\"opacity: 1; stroke-width: 0px; fill: rgb(127, 127, 127); fill-opacity: 1;\"/><path class=\"point\" transform=\"translate(300.41,157.94)\" d=\"M3,0A3,3 0 1,1 0,-3A3,3 0 0,1 3,0Z\" style=\"opacity: 1; stroke-width: 0px; fill: rgb(127, 127, 127); fill-opacity: 1;\"/><path class=\"point\" transform=\"translate(433.65,86.98)\" d=\"M3,0A3,3 0 1,1 0,-3A3,3 0 0,1 3,0Z\" style=\"opacity: 1; stroke-width: 0px; fill: rgb(127, 127, 127); fill-opacity: 1;\"/><path class=\"point\" transform=\"translate(566.9,16.02)\" d=\"M3,0A3,3 0 1,1 0,-3A3,3 0 0,1 3,0Z\" style=\"opacity: 1; stroke-width: 0px; fill: rgb(127, 127, 127); fill-opacity: 1;\"/></g><g class=\"text\"/></g><g class=\"trace scatter trace68041b5c-8195-4d9d-8b71-3435dbced138\" style=\"stroke-miterlimit: 2;\"><g class=\"fills\"><g><path class=\"js-fill\" d=\"M33.92,228.89L566.9,229.34L566.9,228.89L33.92,228.89Z\" style=\"fill: rgb(255, 0, 0); fill-opacity: 0.3; stroke-width: 0;\"/></g></g><g class=\"errorbars\"/><g class=\"lines\"><path class=\"js-line\" d=\"M33.92,228.89L566.9,228.89\" style=\"vector-effect: non-scaling-stroke; fill: none; stroke: rgb(0, 0, 0); stroke-opacity: 0; stroke-width: 0px; opacity: 1;\"/></g><g class=\"points\"><path class=\"point\" transform=\"translate(33.92,228.89)\" d=\"M3,0A3,3 0 1,1 0,-3A3,3 0 0,1 3,0Z\" style=\"opacity: 1; stroke-width: 0px; fill: rgb(0, 0, 0); fill-opacity: 0;\"/><path class=\"point\" transform=\"translate(167.16,228.89)\" d=\"M3,0A3,3 0 1,1 0,-3A3,3 0 0,1 3,0Z\" style=\"opacity: 1; stroke-width: 0px; fill: rgb(0, 0, 0); fill-opacity: 0;\"/><path class=\"point\" transform=\"translate(300.41,228.89)\" d=\"M3,0A3,3 0 1,1 0,-3A3,3 0 0,1 3,0Z\" style=\"opacity: 1; stroke-width: 0px; fill: rgb(0, 0, 0); fill-opacity: 0;\"/><path class=\"point\" transform=\"translate(433.65,228.89)\" d=\"M3,0A3,3 0 1,1 0,-3A3,3 0 0,1 3,0Z\" style=\"opacity: 1; stroke-width: 0px; fill: rgb(0, 0, 0); fill-opacity: 0;\"/><path class=\"point\" transform=\"translate(566.9,228.89)\" d=\"M3,0A3,3 0 1,1 0,-3A3,3 0 0,1 3,0Z\" style=\"opacity: 1; stroke-width: 0px; fill: rgb(0, 0, 0); fill-opacity: 0;\"/></g><g class=\"text\"/></g><g class=\"trace scatter tracecafe8c8f-028e-4aeb-9ddf-6164fa43a3d2\" style=\"stroke-miterlimit: 2;\"><g class=\"fills\"/><g class=\"errorbars\"/><g class=\"lines\"><path class=\"js-line\" d=\"M33.92,228.89L566.9,229.34\" style=\"vector-effect: non-scaling-stroke; fill: none; stroke: rgb(0, 0, 0); stroke-opacity: 0; stroke-width: 0px; opacity: 1;\"/></g><g class=\"points\"><path class=\"point\" transform=\"translate(33.92,228.89)\" d=\"M3,0A3,3 0 1,1 0,-3A3,3 0 0,1 3,0Z\" style=\"opacity: 1; stroke-width: 0px; fill: rgb(0, 0, 0); fill-opacity: 0;\"/><path class=\"point\" transform=\"translate(167.16,229.04)\" d=\"M3,0A3,3 0 1,1 0,-3A3,3 0 0,1 3,0Z\" style=\"opacity: 1; stroke-width: 0px; fill: rgb(0, 0, 0); fill-opacity: 0;\"/><path class=\"point\" transform=\"translate(300.41,229.05)\" d=\"M3,0A3,3 0 1,1 0,-3A3,3 0 0,1 3,0Z\" style=\"opacity: 1; stroke-width: 0px; fill: rgb(0, 0, 0); fill-opacity: 0;\"/><path class=\"point\" transform=\"translate(433.65,229.05)\" d=\"M3,0A3,3 0 1,1 0,-3A3,3 0 0,1 3,0Z\" style=\"opacity: 1; stroke-width: 0px; fill: rgb(0, 0, 0); fill-opacity: 0;\"/><path class=\"point\" transform=\"translate(566.9,229.34)\" d=\"M3,0A3,3 0 1,1 0,-3A3,3 0 0,1 3,0Z\" style=\"opacity: 1; stroke-width: 0px; fill: rgb(0, 0, 0); fill-opacity: 0;\"/></g><g class=\"text\"/></g><g class=\"trace scatter trace5e9f6fe8-da5c-43bd-a2d2-eccc1c2b87e6\" style=\"stroke-miterlimit: 2; opacity: 1;\"><g class=\"fills\"/><g class=\"errorbars\"/><g class=\"lines\"><path class=\"js-line\" d=\"M33.92,228.89L566.9,229.34\" style=\"vector-effect: non-scaling-stroke; fill: none; stroke: rgb(148, 103, 189); stroke-opacity: 1; stroke-width: 2px; opacity: 1;\"/></g><g class=\"points\"><path class=\"point\" transform=\"translate(33.92,228.89)\" d=\"M3,0A3,3 0 1,1 0,-3A3,3 0 0,1 3,0Z\" style=\"opacity: 1; stroke-width: 0px; fill: rgb(148, 103, 189); fill-opacity: 1;\"/><path class=\"point\" transform=\"translate(167.16,229.04)\" d=\"M3,0A3,3 0 1,1 0,-3A3,3 0 0,1 3,0Z\" style=\"opacity: 1; stroke-width: 0px; fill: rgb(148, 103, 189); fill-opacity: 1;\"/><path class=\"point\" transform=\"translate(300.41,229.05)\" d=\"M3,0A3,3 0 1,1 0,-3A3,3 0 0,1 3,0Z\" style=\"opacity: 1; stroke-width: 0px; fill: rgb(148, 103, 189); fill-opacity: 1;\"/><path class=\"point\" transform=\"translate(433.65,229.05)\" d=\"M3,0A3,3 0 1,1 0,-3A3,3 0 0,1 3,0Z\" style=\"opacity: 1; stroke-width: 0px; fill: rgb(148, 103, 189); fill-opacity: 1;\"/><path class=\"point\" transform=\"translate(566.9,229.34)\" d=\"M3,0A3,3 0 1,1 0,-3A3,3 0 0,1 3,0Z\" style=\"opacity: 1; stroke-width: 0px; fill: rgb(148, 103, 189); fill-opacity: 1;\"/></g><g class=\"text\"/></g><g class=\"trace scatter trace94d2db35-5150-437e-a2c3-b7f6150a0245\" style=\"stroke-miterlimit: 2; opacity: 0;\"><g class=\"fills\"/><g class=\"errorbars\"/><g class=\"lines\"><path class=\"js-line\" d=\"M33.92,228.89L566.9,228.89\" style=\"vector-effect: non-scaling-stroke; fill: none; stroke: rgb(0, 0, 0); stroke-opacity: 0; stroke-width: 0px; opacity: 1;\"/></g><g class=\"points\"><path class=\"point\" transform=\"translate(33.92,228.89)\" d=\"M3,0A3,3 0 1,1 0,-3A3,3 0 0,1 3,0Z\" style=\"opacity: 1; stroke-width: 0px; fill: rgb(0, 0, 0); fill-opacity: 0;\"/><path class=\"point\" transform=\"translate(167.16,228.89)\" d=\"M3,0A3,3 0 1,1 0,-3A3,3 0 0,1 3,0Z\" style=\"opacity: 1; stroke-width: 0px; fill: rgb(0, 0, 0); fill-opacity: 0;\"/><path class=\"point\" transform=\"translate(300.41,228.89)\" d=\"M3,0A3,3 0 1,1 0,-3A3,3 0 0,1 3,0Z\" style=\"opacity: 1; stroke-width: 0px; fill: rgb(0, 0, 0); fill-opacity: 0;\"/><path class=\"point\" transform=\"translate(433.65,228.89)\" d=\"M3,0A3,3 0 1,1 0,-3A3,3 0 0,1 3,0Z\" style=\"opacity: 1; stroke-width: 0px; fill: rgb(0, 0, 0); fill-opacity: 0;\"/><path class=\"point\" transform=\"translate(566.9,228.89)\" d=\"M3,0A3,3 0 1,1 0,-3A3,3 0 0,1 3,0Z\" style=\"opacity: 1; stroke-width: 0px; fill: rgb(0, 0, 0); fill-opacity: 0;\"/></g><g class=\"text\"/></g></g></g><g class=\"overplot\"/><path class=\"xlines-above crisp\" d=\"M0,0\" style=\"fill: none;\"/><path class=\"ylines-above crisp\" d=\"M0,0\" style=\"fill: none;\"/><g class=\"overlines-above\"/><g class=\"xaxislayer-above\"/><g class=\"yaxislayer-above\"><g class=\"y10tick\"><text text-anchor=\"end\" x=\"117\" y=\"4.199999999999999\" transform=\"translate(0,2932.722530120482)\" style=\"font-family: 'Open Sans', verdana, arial, sans-serif; font-size: 12px; fill: rgb(42, 63, 95); fill-opacity: 1; white-space: pre; opacity: 1;\">1</text></g><g class=\"y10tick\"><text text-anchor=\"end\" x=\"117\" y=\"4.199999999999999\" style=\"font-family: 'Open Sans', verdana, arial, sans-serif; font-size: 12px; fill: rgb(42, 63, 95); fill-opacity: 1; white-space: pre; opacity: 1;\" transform=\"translate(0,2861.7725301204823)\">1.5</text></g><g class=\"y10tick\"><text text-anchor=\"end\" x=\"117\" y=\"4.199999999999999\" style=\"font-family: 'Open Sans', verdana, arial, sans-serif; font-size: 12px; fill: rgb(42, 63, 95); fill-opacity: 1; white-space: pre; opacity: 1;\" transform=\"translate(0,2790.8125301204823)\">2</text></g><g class=\"y10tick\"><text text-anchor=\"end\" x=\"117\" y=\"4.199999999999999\" style=\"font-family: 'Open Sans', verdana, arial, sans-serif; font-size: 12px; fill: rgb(42, 63, 95); fill-opacity: 1; white-space: pre; opacity: 1;\" transform=\"translate(0,2719.8525301204822)\">2.5</text></g></g><g class=\"overaxes-above\"/></g><g class=\"subplot x11y11\"><g class=\"layer-subplot\"><g class=\"shapelayer\"/><g class=\"imagelayer\"/></g><g class=\"gridlayer\"><g class=\"x11\"><path class=\"x11grid crisp\" transform=\"translate(151.92000000000002,0)\" d=\"M0,2987.0361445783133v245.35301204819285\" style=\"stroke: rgb(255, 255, 255); stroke-opacity: 1; stroke-width: 1px;\"/><path class=\"x11grid crisp\" transform=\"translate(285.15999999999997,0)\" d=\"M0,2987.0361445783133v245.35301204819285\" style=\"stroke: rgb(255, 255, 255); stroke-opacity: 1; stroke-width: 1px;\"/><path class=\"x11grid crisp\" transform=\"translate(418.41,0)\" d=\"M0,2987.0361445783133v245.35301204819285\" style=\"stroke: rgb(255, 255, 255); stroke-opacity: 1; stroke-width: 1px;\"/><path class=\"x11grid crisp\" transform=\"translate(551.65,0)\" d=\"M0,2987.0361445783133v245.35301204819285\" style=\"stroke: rgb(255, 255, 255); stroke-opacity: 1; stroke-width: 1px;\"/><path class=\"x11grid crisp\" transform=\"translate(684.9,0)\" d=\"M0,2987.0361445783133v245.35301204819285\" style=\"stroke: rgb(255, 255, 255); stroke-opacity: 1; stroke-width: 1px;\"/></g><g class=\"y11\"><path class=\"y11grid crisp\" transform=\"translate(0,3208.5861445783135)\" d=\"M118,0h602\" style=\"stroke: rgb(255, 255, 255); stroke-opacity: 1; stroke-width: 1px;\"/><path class=\"y11grid crisp\" transform=\"translate(0,3140.2761445783135)\" d=\"M118,0h602\" style=\"stroke: rgb(255, 255, 255); stroke-opacity: 1; stroke-width: 1px;\"/><path class=\"y11grid crisp\" transform=\"translate(0,3071.9761445783133)\" d=\"M118,0h602\" style=\"stroke: rgb(255, 255, 255); stroke-opacity: 1; stroke-width: 1px;\"/><path class=\"y11grid crisp\" transform=\"translate(0,3003.676144578313)\" d=\"M118,0h602\" style=\"stroke: rgb(255, 255, 255); stroke-opacity: 1; stroke-width: 1px;\"/></g></g><g class=\"zerolinelayer\"/><path class=\"xlines-below\"/><path class=\"ylines-below\"/><g class=\"overlines-below\"/><g class=\"xaxislayer-below\"/><g class=\"yaxislayer-below\"/><g class=\"overaxes-below\"/><g class=\"plot\" transform=\"translate(118,2987.0361445783133)\" clip-path=\"url(#clip663257x11y11plot)\"><g class=\"scatterlayer mlayer\"><g class=\"trace scatter trace1f3f2c07-215d-498c-b882-ee3be6059309\" style=\"stroke-miterlimit: 2; opacity: 1;\"><g class=\"fills\"/><g class=\"errorbars\"/><g class=\"lines\"><path class=\"js-line\" d=\"M33.92,16.64L167.16,87.69L300.41,91.77L433.65,91.77L566.9,228.71\" style=\"vector-effect: non-scaling-stroke; fill: none; stroke: rgb(148, 103, 189); stroke-opacity: 1; stroke-width: 2px; opacity: 1;\"/></g><g class=\"points\"><path class=\"point\" transform=\"translate(33.92,16.64)\" d=\"M3,0A3,3 0 1,1 0,-3A3,3 0 0,1 3,0Z\" style=\"opacity: 1; stroke-width: 0px; fill: rgb(148, 103, 189); fill-opacity: 1;\"/><path class=\"point\" transform=\"translate(167.16,87.69)\" d=\"M3,0A3,3 0 1,1 0,-3A3,3 0 0,1 3,0Z\" style=\"opacity: 1; stroke-width: 0px; fill: rgb(148, 103, 189); fill-opacity: 1;\"/><path class=\"point\" transform=\"translate(300.41,91.77)\" d=\"M3,0A3,3 0 1,1 0,-3A3,3 0 0,1 3,0Z\" style=\"opacity: 1; stroke-width: 0px; fill: rgb(148, 103, 189); fill-opacity: 1;\"/><path class=\"point\" transform=\"translate(433.65,91.77)\" d=\"M3,0A3,3 0 1,1 0,-3A3,3 0 0,1 3,0Z\" style=\"opacity: 1; stroke-width: 0px; fill: rgb(148, 103, 189); fill-opacity: 1;\"/><path class=\"point\" transform=\"translate(566.9,228.71)\" d=\"M3,0A3,3 0 1,1 0,-3A3,3 0 0,1 3,0Z\" style=\"opacity: 1; stroke-width: 0px; fill: rgb(148, 103, 189); fill-opacity: 1;\"/></g><g class=\"text\"/></g><g class=\"trace scatter trace73db8875-6989-420f-9b09-847c783cf6e8\" style=\"stroke-miterlimit: 2; opacity: 1;\"><g class=\"fills\"/><g class=\"errorbars\"/><g class=\"lines\"/><g class=\"points\"><path class=\"point plotly-customdata\" transform=\"translate(33.92,16.64)\" d=\"M4.55,0L0,4.55L-4.55,0L0,-4.55Z\" style=\"opacity: 1; stroke-width: 1px; fill: rgb(66, 133, 244); fill-opacity: 1; stroke: rgb(11, 84, 205); stroke-opacity: 1;\"/></g><g class=\"text\"/></g><g class=\"trace scatter trace08cd99ee-c4e8-4df6-9560-7412b3beb201\" style=\"stroke-miterlimit: 2; opacity: 1;\"><g class=\"fills\"/><g class=\"errorbars\"/><g class=\"lines\"/><g class=\"points\"><path class=\"point plotly-customdata\" transform=\"translate(566.9,228.71)\" d=\"M4.55,0L0,4.55L-4.55,0L0,-4.55Z\" style=\"opacity: 1; stroke-width: 1px; fill: rgb(255, 170, 0); fill-opacity: 1; stroke: rgb(178, 118, 0); stroke-opacity: 1;\"/></g><g class=\"text\"/></g></g></g><g class=\"overplot\"/><path class=\"xlines-above crisp\" d=\"M0,0\" style=\"fill: none;\"/><path class=\"ylines-above crisp\" d=\"M0,0\" style=\"fill: none;\"/><g class=\"overlines-above\"/><g class=\"xaxislayer-above\"/><g class=\"yaxislayer-above\"><g class=\"y11tick\"><text text-anchor=\"end\" x=\"117\" y=\"4.199999999999999\" transform=\"translate(0,3208.5861445783135)\" style=\"font-family: 'Open Sans', verdana, arial, sans-serif; font-size: 12px; fill: rgb(42, 63, 95); fill-opacity: 1; white-space: pre; opacity: 1;\">99.7</text></g><g class=\"y11tick\"><text text-anchor=\"end\" x=\"117\" y=\"4.199999999999999\" style=\"font-family: 'Open Sans', verdana, arial, sans-serif; font-size: 12px; fill: rgb(42, 63, 95); fill-opacity: 1; white-space: pre; opacity: 1;\" transform=\"translate(0,3140.2761445783135)\">99.8</text></g><g class=\"y11tick\"><text text-anchor=\"end\" x=\"117\" y=\"4.199999999999999\" style=\"font-family: 'Open Sans', verdana, arial, sans-serif; font-size: 12px; fill: rgb(42, 63, 95); fill-opacity: 1; white-space: pre; opacity: 1;\" transform=\"translate(0,3071.9761445783133)\">99.9</text></g><g class=\"y11tick\"><text text-anchor=\"end\" x=\"117\" y=\"4.199999999999999\" style=\"font-family: 'Open Sans', verdana, arial, sans-serif; font-size: 12px; fill: rgb(42, 63, 95); fill-opacity: 1; white-space: pre; opacity: 1;\" transform=\"translate(0,3003.676144578313)\">100</text></g></g><g class=\"overaxes-above\"/></g><g class=\"subplot x12y12\"><g class=\"layer-subplot\"><g class=\"shapelayer\"/><g class=\"imagelayer\"/></g><g class=\"gridlayer\"><g class=\"x12\"><path class=\"x12grid crisp\" transform=\"translate(151.92000000000002,0)\" d=\"M0,3270.2397590361443v245.35301204819274\" style=\"stroke: rgb(255, 255, 255); stroke-opacity: 1; stroke-width: 1px;\"/><path class=\"x12grid crisp\" transform=\"translate(285.15999999999997,0)\" d=\"M0,3270.2397590361443v245.35301204819274\" style=\"stroke: rgb(255, 255, 255); stroke-opacity: 1; stroke-width: 1px;\"/><path class=\"x12grid crisp\" transform=\"translate(418.41,0)\" d=\"M0,3270.2397590361443v245.35301204819274\" style=\"stroke: rgb(255, 255, 255); stroke-opacity: 1; stroke-width: 1px;\"/><path class=\"x12grid crisp\" transform=\"translate(551.65,0)\" d=\"M0,3270.2397590361443v245.35301204819274\" style=\"stroke: rgb(255, 255, 255); stroke-opacity: 1; stroke-width: 1px;\"/><path class=\"x12grid crisp\" transform=\"translate(684.9,0)\" d=\"M0,3270.2397590361443v245.35301204819274\" style=\"stroke: rgb(255, 255, 255); stroke-opacity: 1; stroke-width: 1px;\"/></g><g class=\"y12\"><path class=\"y12grid crisp\" transform=\"translate(0,3491.859759036144)\" d=\"M118,0h602\" style=\"stroke: rgb(255, 255, 255); stroke-opacity: 1; stroke-width: 1px;\"/><path class=\"y12grid crisp\" transform=\"translate(0,3455.089759036144)\" d=\"M118,0h602\" style=\"stroke: rgb(255, 255, 255); stroke-opacity: 1; stroke-width: 1px;\"/><path class=\"y12grid crisp\" transform=\"translate(0,3418.319759036144)\" d=\"M118,0h602\" style=\"stroke: rgb(255, 255, 255); stroke-opacity: 1; stroke-width: 1px;\"/><path class=\"y12grid crisp\" transform=\"translate(0,3381.549759036144)\" d=\"M118,0h602\" style=\"stroke: rgb(255, 255, 255); stroke-opacity: 1; stroke-width: 1px;\"/><path class=\"y12grid crisp\" transform=\"translate(0,3344.7797590361442)\" d=\"M118,0h602\" style=\"stroke: rgb(255, 255, 255); stroke-opacity: 1; stroke-width: 1px;\"/><path class=\"y12grid crisp\" transform=\"translate(0,3308.0097590361443)\" d=\"M118,0h602\" style=\"stroke: rgb(255, 255, 255); stroke-opacity: 1; stroke-width: 1px;\"/></g></g><g class=\"zerolinelayer\"><path class=\"y12zl zl crisp\" transform=\"translate(0,3271.2397590361443)\" d=\"M118,0h602\" style=\"stroke: rgb(255, 255, 255); stroke-opacity: 1; stroke-width: 2px;\"/></g><path class=\"xlines-below\"/><path class=\"ylines-below\"/><g class=\"overlines-below\"/><g class=\"xaxislayer-below\"/><g class=\"yaxislayer-below\"/><g class=\"overaxes-below\"/><g class=\"plot\" transform=\"translate(118,3270.2397590361443)\" clip-path=\"url(#clip663257x12y12plot)\"><g class=\"scatterlayer mlayer\"><g class=\"trace scatter trace4b79dc7f-bbd9-4f1d-a311-08354bb99714\" style=\"stroke-miterlimit: 2;\"><g class=\"fills\"><g><path class=\"js-fill\" d=\"M566.9,1L33.92,1L33.92,1L167.16,77.5L300.41,81.89L433.65,81.89L566.9,229.34\" style=\"fill: rgb(220, 57, 18); fill-opacity: 0.3; stroke-width: 0;\"/></g></g><g class=\"errorbars\"/><g class=\"lines\"><path class=\"js-line\" d=\"M33.92,1L167.16,77.5L300.41,81.89L433.65,81.89L566.9,229.34\" style=\"vector-effect: non-scaling-stroke; fill: none; stroke: rgb(220, 57, 18); stroke-opacity: 1; stroke-width: 2px; opacity: 1;\"/></g><g class=\"points\"><path class=\"point\" transform=\"translate(33.92,1)\" d=\"M3,0A3,3 0 1,1 0,-3A3,3 0 0,1 3,0Z\" style=\"opacity: 1; stroke-width: 0px; fill: rgb(220, 57, 18); fill-opacity: 1;\"/><path class=\"point\" transform=\"translate(167.16,77.5)\" d=\"M3,0A3,3 0 1,1 0,-3A3,3 0 0,1 3,0Z\" style=\"opacity: 1; stroke-width: 0px; fill: rgb(220, 57, 18); fill-opacity: 1;\"/><path class=\"point\" transform=\"translate(300.41,81.89)\" d=\"M3,0A3,3 0 1,1 0,-3A3,3 0 0,1 3,0Z\" style=\"opacity: 1; stroke-width: 0px; fill: rgb(220, 57, 18); fill-opacity: 1;\"/><path class=\"point\" transform=\"translate(433.65,81.89)\" d=\"M3,0A3,3 0 1,1 0,-3A3,3 0 0,1 3,0Z\" style=\"opacity: 1; stroke-width: 0px; fill: rgb(220, 57, 18); fill-opacity: 1;\"/><path class=\"point\" transform=\"translate(566.9,229.34)\" d=\"M3,0A3,3 0 1,1 0,-3A3,3 0 0,1 3,0Z\" style=\"opacity: 1; stroke-width: 0px; fill: rgb(220, 57, 18); fill-opacity: 1;\"/></g><g class=\"text\"/></g></g></g><g class=\"overplot\"/><path class=\"xlines-above crisp\" d=\"M0,0\" style=\"fill: none;\"/><path class=\"ylines-above crisp\" d=\"M0,0\" style=\"fill: none;\"/><g class=\"overlines-above\"/><g class=\"xaxislayer-above\"/><g class=\"yaxislayer-above\"><g class=\"y12tick\"><text text-anchor=\"end\" x=\"117\" y=\"4.199999999999999\" transform=\"translate(0,3491.859759036144)\" style=\"font-family: 'Open Sans', verdana, arial, sans-serif; font-size: 12px; fill: rgb(42, 63, 95); fill-opacity: 1; white-space: pre; opacity: 1;\">−0.300000%</text></g><g class=\"y12tick\"><text text-anchor=\"end\" x=\"117\" y=\"4.199999999999999\" style=\"font-family: 'Open Sans', verdana, arial, sans-serif; font-size: 12px; fill: rgb(42, 63, 95); fill-opacity: 1; white-space: pre; opacity: 1;\" transform=\"translate(0,3455.089759036144)\">−0.250000%</text></g><g class=\"y12tick\"><text text-anchor=\"end\" x=\"117\" y=\"4.199999999999999\" style=\"font-family: 'Open Sans', verdana, arial, sans-serif; font-size: 12px; fill: rgb(42, 63, 95); fill-opacity: 1; white-space: pre; opacity: 1;\" transform=\"translate(0,3418.319759036144)\">−0.200000%</text></g><g class=\"y12tick\"><text text-anchor=\"end\" x=\"117\" y=\"4.199999999999999\" style=\"font-family: 'Open Sans', verdana, arial, sans-serif; font-size: 12px; fill: rgb(42, 63, 95); fill-opacity: 1; white-space: pre; opacity: 1;\" transform=\"translate(0,3381.549759036144)\">−0.150000%</text></g><g class=\"y12tick\"><text text-anchor=\"end\" x=\"117\" y=\"4.199999999999999\" style=\"font-family: 'Open Sans', verdana, arial, sans-serif; font-size: 12px; fill: rgb(42, 63, 95); fill-opacity: 1; white-space: pre; opacity: 1;\" transform=\"translate(0,3344.7797590361442)\">−0.100000%</text></g><g class=\"y12tick\"><text text-anchor=\"end\" x=\"117\" y=\"4.199999999999999\" style=\"font-family: 'Open Sans', verdana, arial, sans-serif; font-size: 12px; fill: rgb(42, 63, 95); fill-opacity: 1; white-space: pre; opacity: 1;\" transform=\"translate(0,3308.0097590361443)\">−0.050000%</text></g><g class=\"y12tick\"><text text-anchor=\"end\" x=\"117\" y=\"4.199999999999999\" style=\"font-family: 'Open Sans', verdana, arial, sans-serif; font-size: 12px; fill: rgb(42, 63, 95); fill-opacity: 1; white-space: pre; opacity: 1;\" transform=\"translate(0,3271.2397590361443)\">0.000000%</text></g></g><g class=\"overaxes-above\"/></g><g class=\"subplot x13y13\"><g class=\"layer-subplot\"><g class=\"shapelayer\"/><g class=\"imagelayer\"/></g><g class=\"gridlayer\"><g class=\"x13\"><path class=\"x13grid crisp\" transform=\"translate(151.92000000000002,0)\" d=\"M0,3553.4433734939757v245.3530120481928\" style=\"stroke: rgb(255, 255, 255); stroke-opacity: 1; stroke-width: 1px;\"/><path class=\"x13grid crisp\" transform=\"translate(285.15999999999997,0)\" d=\"M0,3553.4433734939757v245.3530120481928\" style=\"stroke: rgb(255, 255, 255); stroke-opacity: 1; stroke-width: 1px;\"/><path class=\"x13grid crisp\" transform=\"translate(418.41,0)\" d=\"M0,3553.4433734939757v245.3530120481928\" style=\"stroke: rgb(255, 255, 255); stroke-opacity: 1; stroke-width: 1px;\"/><path class=\"x13grid crisp\" transform=\"translate(551.65,0)\" d=\"M0,3553.4433734939757v245.3530120481928\" style=\"stroke: rgb(255, 255, 255); stroke-opacity: 1; stroke-width: 1px;\"/><path class=\"x13grid crisp\" transform=\"translate(684.9,0)\" d=\"M0,3553.4433734939757v245.3530120481928\" style=\"stroke: rgb(255, 255, 255); stroke-opacity: 1; stroke-width: 1px;\"/></g><g class=\"y13\"><path class=\"y13grid crisp\" transform=\"translate(0,3740.113373493976)\" d=\"M118,0h602\" style=\"stroke: rgb(255, 255, 255); stroke-opacity: 1; stroke-width: 1px;\"/><path class=\"y13grid crisp\" transform=\"translate(0,3697.453373493976)\" d=\"M118,0h602\" style=\"stroke: rgb(255, 255, 255); stroke-opacity: 1; stroke-width: 1px;\"/><path class=\"y13grid crisp\" transform=\"translate(0,3654.783373493976)\" d=\"M118,0h602\" style=\"stroke: rgb(255, 255, 255); stroke-opacity: 1; stroke-width: 1px;\"/><path class=\"y13grid crisp\" transform=\"translate(0,3612.1233734939756)\" d=\"M118,0h602\" style=\"stroke: rgb(255, 255, 255); stroke-opacity: 1; stroke-width: 1px;\"/><path class=\"y13grid crisp\" transform=\"translate(0,3569.4633734939757)\" d=\"M118,0h602\" style=\"stroke: rgb(255, 255, 255); stroke-opacity: 1; stroke-width: 1px;\"/></g></g><g class=\"zerolinelayer\"><path class=\"y13zl zl crisp\" transform=\"translate(0,3782.783373493976)\" d=\"M118,0h602\" style=\"stroke: rgb(255, 255, 255); stroke-opacity: 1; stroke-width: 2px;\"/></g><path class=\"xlines-below\"/><path class=\"ylines-below\"/><g class=\"overlines-below\"/><g class=\"xaxislayer-below\"/><g class=\"yaxislayer-below\"/><g class=\"overaxes-below\"/><g class=\"plot\" transform=\"translate(118,3553.4433734939757)\" clip-path=\"url(#clip663257x13y13plot)\"><g class=\"scatterlayer mlayer\"><g class=\"trace scatter traced26754fe-6bab-4fd3-aeb7-8ef8afd5ae6d\" style=\"stroke-miterlimit: 2;\"><g class=\"fills\"><g><path class=\"js-fill\" d=\"M33.92,229.34L167.16,228.91L300.41,229.34L433.65,229.34L566.9,218.64L566.9,16.02L33.92,16.02Z\" style=\"fill: rgb(227, 119, 194); fill-opacity: 0.3; stroke-width: 0;\"/></g></g><g class=\"errorbars\"/><g class=\"lines\"><path class=\"js-line\" d=\"M33.92,16.02L566.9,16.02\" style=\"vector-effect: non-scaling-stroke; fill: none; stroke: rgb(0, 0, 0); stroke-opacity: 0; stroke-width: 0px; opacity: 1;\"/></g><g class=\"points\"><path class=\"point\" transform=\"translate(33.92,16.02)\" d=\"M3,0A3,3 0 1,1 0,-3A3,3 0 0,1 3,0Z\" style=\"opacity: 1; stroke-width: 0px; fill: rgb(0, 0, 0); fill-opacity: 0;\"/><path class=\"point\" transform=\"translate(167.16,16.02)\" d=\"M3,0A3,3 0 1,1 0,-3A3,3 0 0,1 3,0Z\" style=\"opacity: 1; stroke-width: 0px; fill: rgb(0, 0, 0); fill-opacity: 0;\"/><path class=\"point\" transform=\"translate(300.41,16.02)\" d=\"M3,0A3,3 0 1,1 0,-3A3,3 0 0,1 3,0Z\" style=\"opacity: 1; stroke-width: 0px; fill: rgb(0, 0, 0); fill-opacity: 0;\"/><path class=\"point\" transform=\"translate(433.65,16.02)\" d=\"M3,0A3,3 0 1,1 0,-3A3,3 0 0,1 3,0Z\" style=\"opacity: 1; stroke-width: 0px; fill: rgb(0, 0, 0); fill-opacity: 0;\"/><path class=\"point\" transform=\"translate(566.9,16.02)\" d=\"M3,0A3,3 0 1,1 0,-3A3,3 0 0,1 3,0Z\" style=\"opacity: 1; stroke-width: 0px; fill: rgb(0, 0, 0); fill-opacity: 0;\"/></g><g class=\"text\"/></g><g class=\"trace scatter trace90704bc0-4f27-4b4e-8c94-81d93912c296\" style=\"stroke-miterlimit: 2;\"><g class=\"fills\"/><g class=\"errorbars\"/><g class=\"lines\"><path class=\"js-line\" d=\"M33.92,229.34L167.16,228.91L300.41,229.34L433.65,229.34L566.9,218.64\" style=\"vector-effect: non-scaling-stroke; fill: none; stroke: rgb(0, 0, 0); stroke-opacity: 0; stroke-width: 0px; opacity: 1;\"/></g><g class=\"points\"><path class=\"point\" transform=\"translate(33.92,229.34)\" d=\"M3,0A3,3 0 1,1 0,-3A3,3 0 0,1 3,0Z\" style=\"opacity: 1; stroke-width: 0px; fill: rgb(0, 0, 0); fill-opacity: 0;\"/><path class=\"point\" transform=\"translate(167.16,228.91)\" d=\"M3,0A3,3 0 1,1 0,-3A3,3 0 0,1 3,0Z\" style=\"opacity: 1; stroke-width: 0px; fill: rgb(0, 0, 0); fill-opacity: 0;\"/><path class=\"point\" transform=\"translate(300.41,229.34)\" d=\"M3,0A3,3 0 1,1 0,-3A3,3 0 0,1 3,0Z\" style=\"opacity: 1; stroke-width: 0px; fill: rgb(0, 0, 0); fill-opacity: 0;\"/><path class=\"point\" transform=\"translate(433.65,229.34)\" d=\"M3,0A3,3 0 1,1 0,-3A3,3 0 0,1 3,0Z\" style=\"opacity: 1; stroke-width: 0px; fill: rgb(0, 0, 0); fill-opacity: 0;\"/><path class=\"point\" transform=\"translate(566.9,218.64)\" d=\"M3,0A3,3 0 1,1 0,-3A3,3 0 0,1 3,0Z\" style=\"opacity: 1; stroke-width: 0px; fill: rgb(0, 0, 0); fill-opacity: 0;\"/></g><g class=\"text\"/></g><g class=\"trace scatter trace0e62ecc8-38ea-4c76-8876-daf5ca7f5ef8\" style=\"stroke-miterlimit: 2; opacity: 1;\"><g class=\"fills\"/><g class=\"errorbars\"/><g class=\"lines\"><path class=\"js-line\" d=\"M33.92,229.34L167.16,228.91L300.41,229.34L433.65,229.34L566.9,218.64\" style=\"vector-effect: non-scaling-stroke; fill: none; stroke: rgb(227, 119, 194); stroke-opacity: 1; stroke-width: 2px; opacity: 1;\"/></g><g class=\"points\"><path class=\"point\" transform=\"translate(33.92,229.34)\" d=\"M3,0A3,3 0 1,1 0,-3A3,3 0 0,1 3,0Z\" style=\"opacity: 1; stroke-width: 0px; fill: rgb(227, 119, 194); fill-opacity: 1;\"/><path class=\"point\" transform=\"translate(167.16,228.91)\" d=\"M3,0A3,3 0 1,1 0,-3A3,3 0 0,1 3,0Z\" style=\"opacity: 1; stroke-width: 0px; fill: rgb(227, 119, 194); fill-opacity: 1;\"/><path class=\"point\" transform=\"translate(300.41,229.34)\" d=\"M3,0A3,3 0 1,1 0,-3A3,3 0 0,1 3,0Z\" style=\"opacity: 1; stroke-width: 0px; fill: rgb(227, 119, 194); fill-opacity: 1;\"/><path class=\"point\" transform=\"translate(433.65,229.34)\" d=\"M3,0A3,3 0 1,1 0,-3A3,3 0 0,1 3,0Z\" style=\"opacity: 1; stroke-width: 0px; fill: rgb(227, 119, 194); fill-opacity: 1;\"/><path class=\"point\" transform=\"translate(566.9,218.64)\" d=\"M3,0A3,3 0 1,1 0,-3A3,3 0 0,1 3,0Z\" style=\"opacity: 1; stroke-width: 0px; fill: rgb(227, 119, 194); fill-opacity: 1;\"/></g><g class=\"text\"/></g><g class=\"trace scatter trace414507df-b68e-4ffc-9e66-125b5096ac76\" style=\"stroke-miterlimit: 2; opacity: 0;\"><g class=\"fills\"/><g class=\"errorbars\"/><g class=\"lines\"><path class=\"js-line\" d=\"M33.92,16.02L566.9,16.02\" style=\"vector-effect: non-scaling-stroke; fill: none; stroke: rgb(0, 0, 0); stroke-opacity: 0; stroke-width: 0px; opacity: 1;\"/></g><g class=\"points\"><path class=\"point\" transform=\"translate(33.92,16.02)\" d=\"M3,0A3,3 0 1,1 0,-3A3,3 0 0,1 3,0Z\" style=\"opacity: 1; stroke-width: 0px; fill: rgb(0, 0, 0); fill-opacity: 0;\"/><path class=\"point\" transform=\"translate(167.16,16.02)\" d=\"M3,0A3,3 0 1,1 0,-3A3,3 0 0,1 3,0Z\" style=\"opacity: 1; stroke-width: 0px; fill: rgb(0, 0, 0); fill-opacity: 0;\"/><path class=\"point\" transform=\"translate(300.41,16.02)\" d=\"M3,0A3,3 0 1,1 0,-3A3,3 0 0,1 3,0Z\" style=\"opacity: 1; stroke-width: 0px; fill: rgb(0, 0, 0); fill-opacity: 0;\"/><path class=\"point\" transform=\"translate(433.65,16.02)\" d=\"M3,0A3,3 0 1,1 0,-3A3,3 0 0,1 3,0Z\" style=\"opacity: 1; stroke-width: 0px; fill: rgb(0, 0, 0); fill-opacity: 0;\"/><path class=\"point\" transform=\"translate(566.9,16.02)\" d=\"M3,0A3,3 0 1,1 0,-3A3,3 0 0,1 3,0Z\" style=\"opacity: 1; stroke-width: 0px; fill: rgb(0, 0, 0); fill-opacity: 0;\"/></g><g class=\"text\"/></g></g></g><g class=\"overplot\"/><path class=\"xlines-above crisp\" d=\"M0,0\" style=\"fill: none;\"/><path class=\"ylines-above crisp\" d=\"M0,0\" style=\"fill: none;\"/><g class=\"overlines-above\"/><g class=\"xaxislayer-above\"/><g class=\"yaxislayer-above\"><g class=\"y13tick\"><text text-anchor=\"end\" x=\"117\" y=\"4.199999999999999\" transform=\"translate(0,3782.783373493976)\" style=\"font-family: 'Open Sans', verdana, arial, sans-serif; font-size: 12px; fill: rgb(42, 63, 95); fill-opacity: 1; white-space: pre; opacity: 1;\">0</text></g><g class=\"y13tick\"><text text-anchor=\"end\" x=\"117\" y=\"4.199999999999999\" style=\"font-family: 'Open Sans', verdana, arial, sans-serif; font-size: 12px; fill: rgb(42, 63, 95); fill-opacity: 1; white-space: pre; opacity: 1;\" transform=\"translate(0,3740.113373493976)\">0.2</text></g><g class=\"y13tick\"><text text-anchor=\"end\" x=\"117\" y=\"4.199999999999999\" style=\"font-family: 'Open Sans', verdana, arial, sans-serif; font-size: 12px; fill: rgb(42, 63, 95); fill-opacity: 1; white-space: pre; opacity: 1;\" transform=\"translate(0,3697.453373493976)\">0.4</text></g><g class=\"y13tick\"><text text-anchor=\"end\" x=\"117\" y=\"4.199999999999999\" style=\"font-family: 'Open Sans', verdana, arial, sans-serif; font-size: 12px; fill: rgb(42, 63, 95); fill-opacity: 1; white-space: pre; opacity: 1;\" transform=\"translate(0,3654.783373493976)\">0.6</text></g><g class=\"y13tick\"><text text-anchor=\"end\" x=\"117\" y=\"4.199999999999999\" style=\"font-family: 'Open Sans', verdana, arial, sans-serif; font-size: 12px; fill: rgb(42, 63, 95); fill-opacity: 1; white-space: pre; opacity: 1;\" transform=\"translate(0,3612.1233734939756)\">0.8</text></g><g class=\"y13tick\"><text text-anchor=\"end\" x=\"117\" y=\"4.199999999999999\" style=\"font-family: 'Open Sans', verdana, arial, sans-serif; font-size: 12px; fill: rgb(42, 63, 95); fill-opacity: 1; white-space: pre; opacity: 1;\" transform=\"translate(0,3569.4633734939757)\">1</text></g></g><g class=\"overaxes-above\"/></g><g class=\"subplot x14y14\"><g class=\"layer-subplot\"><g class=\"shapelayer\"/><g class=\"imagelayer\"/></g><g class=\"gridlayer\"><g class=\"x14\"><path class=\"x14grid crisp\" transform=\"translate(151.92000000000002,0)\" d=\"M0,3836.646987951807v245.35301204819277\" style=\"stroke: rgb(255, 255, 255); stroke-opacity: 1; stroke-width: 1px;\"/><path class=\"x14grid crisp\" transform=\"translate(285.15999999999997,0)\" d=\"M0,3836.646987951807v245.35301204819277\" style=\"stroke: rgb(255, 255, 255); stroke-opacity: 1; stroke-width: 1px;\"/><path class=\"x14grid crisp\" transform=\"translate(418.41,0)\" d=\"M0,3836.646987951807v245.35301204819277\" style=\"stroke: rgb(255, 255, 255); stroke-opacity: 1; stroke-width: 1px;\"/><path class=\"x14grid crisp\" transform=\"translate(551.65,0)\" d=\"M0,3836.646987951807v245.35301204819277\" style=\"stroke: rgb(255, 255, 255); stroke-opacity: 1; stroke-width: 1px;\"/><path class=\"x14grid crisp\" transform=\"translate(684.9,0)\" d=\"M0,3836.646987951807v245.35301204819277\" style=\"stroke: rgb(255, 255, 255); stroke-opacity: 1; stroke-width: 1px;\"/></g><g class=\"y14\"><path class=\"y14grid crisp\" transform=\"translate(0,4023.4469879518074)\" d=\"M118,0h602\" style=\"stroke: rgb(255, 255, 255); stroke-opacity: 1; stroke-width: 1px;\"/><path class=\"y14grid crisp\" transform=\"translate(0,3980.916987951807)\" d=\"M118,0h602\" style=\"stroke: rgb(255, 255, 255); stroke-opacity: 1; stroke-width: 1px;\"/><path class=\"y14grid crisp\" transform=\"translate(0,3938.386987951807)\" d=\"M118,0h602\" style=\"stroke: rgb(255, 255, 255); stroke-opacity: 1; stroke-width: 1px;\"/><path class=\"y14grid crisp\" transform=\"translate(0,3895.8569879518072)\" d=\"M118,0h602\" style=\"stroke: rgb(255, 255, 255); stroke-opacity: 1; stroke-width: 1px;\"/><path class=\"y14grid crisp\" transform=\"translate(0,3853.326987951807)\" d=\"M118,0h602\" style=\"stroke: rgb(255, 255, 255); stroke-opacity: 1; stroke-width: 1px;\"/></g></g><g class=\"zerolinelayer\"><path class=\"y14zl zl crisp\" transform=\"translate(0,4065.9869879518074)\" d=\"M118,0h602\" style=\"stroke: rgb(255, 255, 255); stroke-opacity: 1; stroke-width: 2px;\"/></g><path class=\"xlines-below\"/><path class=\"ylines-below\"/><g class=\"overlines-below\"/><g class=\"xaxislayer-below\"/><g class=\"yaxislayer-below\"/><g class=\"overaxes-below\"/><g class=\"plot\" transform=\"translate(118,3836.646987951807)\" clip-path=\"url(#clip663257x14y14plot)\"><g class=\"scatterlayer mlayer\"><g class=\"trace scatter trace6cfeba89-d77c-4be6-adde-47f09a3fd79c\" style=\"stroke-miterlimit: 2;\"><g class=\"fills\"><g><path class=\"js-fill\" d=\"M33.92,229.34L167.16,220.82L300.41,229.34L433.65,229.34L566.9,16.02L566.9,229.34L33.92,229.34Z\" style=\"fill: rgb(227, 119, 194); fill-opacity: 0.3; stroke-width: 0;\"/></g></g><g class=\"errorbars\"/><g class=\"lines\"><path class=\"js-line\" d=\"M33.92,229.34L566.9,229.34\" style=\"vector-effect: non-scaling-stroke; fill: none; stroke: rgb(0, 0, 0); stroke-opacity: 0; stroke-width: 0px; opacity: 1;\"/></g><g class=\"points\"><path class=\"point\" transform=\"translate(33.92,229.34)\" d=\"M3,0A3,3 0 1,1 0,-3A3,3 0 0,1 3,0Z\" style=\"opacity: 1; stroke-width: 0px; fill: rgb(0, 0, 0); fill-opacity: 0;\"/><path class=\"point\" transform=\"translate(167.16,229.34)\" d=\"M3,0A3,3 0 1,1 0,-3A3,3 0 0,1 3,0Z\" style=\"opacity: 1; stroke-width: 0px; fill: rgb(0, 0, 0); fill-opacity: 0;\"/><path class=\"point\" transform=\"translate(300.41,229.34)\" d=\"M3,0A3,3 0 1,1 0,-3A3,3 0 0,1 3,0Z\" style=\"opacity: 1; stroke-width: 0px; fill: rgb(0, 0, 0); fill-opacity: 0;\"/><path class=\"point\" transform=\"translate(433.65,229.34)\" d=\"M3,0A3,3 0 1,1 0,-3A3,3 0 0,1 3,0Z\" style=\"opacity: 1; stroke-width: 0px; fill: rgb(0, 0, 0); fill-opacity: 0;\"/><path class=\"point\" transform=\"translate(566.9,229.34)\" d=\"M3,0A3,3 0 1,1 0,-3A3,3 0 0,1 3,0Z\" style=\"opacity: 1; stroke-width: 0px; fill: rgb(0, 0, 0); fill-opacity: 0;\"/></g><g class=\"text\"/></g><g class=\"trace scatter tracedb2afda5-a59d-4662-90a3-197785734a5d\" style=\"stroke-miterlimit: 2;\"><g class=\"fills\"/><g class=\"errorbars\"/><g class=\"lines\"><path class=\"js-line\" d=\"M33.92,229.34L167.16,220.82L300.41,229.34L433.65,229.34L566.9,16.02\" style=\"vector-effect: non-scaling-stroke; fill: none; stroke: rgb(0, 0, 0); stroke-opacity: 0; stroke-width: 0px; opacity: 1;\"/></g><g class=\"points\"><path class=\"point\" transform=\"translate(33.92,229.34)\" d=\"M3,0A3,3 0 1,1 0,-3A3,3 0 0,1 3,0Z\" style=\"opacity: 1; stroke-width: 0px; fill: rgb(0, 0, 0); fill-opacity: 0;\"/><path class=\"point\" transform=\"translate(167.16,220.82)\" d=\"M3,0A3,3 0 1,1 0,-3A3,3 0 0,1 3,0Z\" style=\"opacity: 1; stroke-width: 0px; fill: rgb(0, 0, 0); fill-opacity: 0;\"/><path class=\"point\" transform=\"translate(300.41,229.34)\" d=\"M3,0A3,3 0 1,1 0,-3A3,3 0 0,1 3,0Z\" style=\"opacity: 1; stroke-width: 0px; fill: rgb(0, 0, 0); fill-opacity: 0;\"/><path class=\"point\" transform=\"translate(433.65,229.34)\" d=\"M3,0A3,3 0 1,1 0,-3A3,3 0 0,1 3,0Z\" style=\"opacity: 1; stroke-width: 0px; fill: rgb(0, 0, 0); fill-opacity: 0;\"/><path class=\"point\" transform=\"translate(566.9,16.02)\" d=\"M3,0A3,3 0 1,1 0,-3A3,3 0 0,1 3,0Z\" style=\"opacity: 1; stroke-width: 0px; fill: rgb(0, 0, 0); fill-opacity: 0;\"/></g><g class=\"text\"/></g><g class=\"trace scatter trace463b6cf5-b8c1-4e2b-8d91-1ed1a864d8c3\" style=\"stroke-miterlimit: 2; opacity: 1;\"><g class=\"fills\"/><g class=\"errorbars\"/><g class=\"lines\"><path class=\"js-line\" d=\"M33.92,229.34L167.16,220.82L300.41,229.34L433.65,229.34L566.9,16.02\" style=\"vector-effect: non-scaling-stroke; fill: none; stroke: rgb(227, 119, 194); stroke-opacity: 1; stroke-width: 2px; opacity: 1;\"/></g><g class=\"points\"><path class=\"point\" transform=\"translate(33.92,229.34)\" d=\"M3,0A3,3 0 1,1 0,-3A3,3 0 0,1 3,0Z\" style=\"opacity: 1; stroke-width: 0px; fill: rgb(227, 119, 194); fill-opacity: 1;\"/><path class=\"point\" transform=\"translate(167.16,220.82)\" d=\"M3,0A3,3 0 1,1 0,-3A3,3 0 0,1 3,0Z\" style=\"opacity: 1; stroke-width: 0px; fill: rgb(227, 119, 194); fill-opacity: 1;\"/><path class=\"point\" transform=\"translate(300.41,229.34)\" d=\"M3,0A3,3 0 1,1 0,-3A3,3 0 0,1 3,0Z\" style=\"opacity: 1; stroke-width: 0px; fill: rgb(227, 119, 194); fill-opacity: 1;\"/><path class=\"point\" transform=\"translate(433.65,229.34)\" d=\"M3,0A3,3 0 1,1 0,-3A3,3 0 0,1 3,0Z\" style=\"opacity: 1; stroke-width: 0px; fill: rgb(227, 119, 194); fill-opacity: 1;\"/><path class=\"point\" transform=\"translate(566.9,16.02)\" d=\"M3,0A3,3 0 1,1 0,-3A3,3 0 0,1 3,0Z\" style=\"opacity: 1; stroke-width: 0px; fill: rgb(227, 119, 194); fill-opacity: 1;\"/></g><g class=\"text\"/></g><g class=\"trace scatter trace97ae6c1f-df25-4e75-9e79-f784099ad772\" style=\"stroke-miterlimit: 2; opacity: 0;\"><g class=\"fills\"/><g class=\"errorbars\"/><g class=\"lines\"><path class=\"js-line\" d=\"M33.92,229.34L566.9,229.34\" style=\"vector-effect: non-scaling-stroke; fill: none; stroke: rgb(0, 0, 0); stroke-opacity: 0; stroke-width: 0px; opacity: 1;\"/></g><g class=\"points\"><path class=\"point\" transform=\"translate(33.92,229.34)\" d=\"M3,0A3,3 0 1,1 0,-3A3,3 0 0,1 3,0Z\" style=\"opacity: 1; stroke-width: 0px; fill: rgb(0, 0, 0); fill-opacity: 0;\"/><path class=\"point\" transform=\"translate(167.16,229.34)\" d=\"M3,0A3,3 0 1,1 0,-3A3,3 0 0,1 3,0Z\" style=\"opacity: 1; stroke-width: 0px; fill: rgb(0, 0, 0); fill-opacity: 0;\"/><path class=\"point\" transform=\"translate(300.41,229.34)\" d=\"M3,0A3,3 0 1,1 0,-3A3,3 0 0,1 3,0Z\" style=\"opacity: 1; stroke-width: 0px; fill: rgb(0, 0, 0); fill-opacity: 0;\"/><path class=\"point\" transform=\"translate(433.65,229.34)\" d=\"M3,0A3,3 0 1,1 0,-3A3,3 0 0,1 3,0Z\" style=\"opacity: 1; stroke-width: 0px; fill: rgb(0, 0, 0); fill-opacity: 0;\"/><path class=\"point\" transform=\"translate(566.9,229.34)\" d=\"M3,0A3,3 0 1,1 0,-3A3,3 0 0,1 3,0Z\" style=\"opacity: 1; stroke-width: 0px; fill: rgb(0, 0, 0); fill-opacity: 0;\"/></g><g class=\"text\"/></g></g></g><g class=\"overplot\"/><path class=\"xlines-above crisp\" d=\"M0,0\" style=\"fill: none;\"/><path class=\"ylines-above crisp\" d=\"M0,0\" style=\"fill: none;\"/><g class=\"overlines-above\"/><g class=\"xaxislayer-above\"><g class=\"x14tick\"><text text-anchor=\"middle\" x=\"0\" y=\"4095\" transform=\"translate(151.92000000000002,0)\" style=\"font-family: 'Open Sans', verdana, arial, sans-serif; font-size: 12px; fill: rgb(42, 63, 95); fill-opacity: 1; white-space: pre; opacity: 1;\"><tspan class=\"line\" dy=\"0em\" x=\"0\" y=\"4095\">Jan 1</tspan><tspan class=\"line\" dy=\"1.3em\" x=\"0\" y=\"4095\">2020</tspan></text></g><g class=\"x14tick\"><text text-anchor=\"middle\" x=\"0\" y=\"4095\" style=\"font-family: 'Open Sans', verdana, arial, sans-serif; font-size: 12px; fill: rgb(42, 63, 95); fill-opacity: 1; white-space: pre; opacity: 1;\" transform=\"translate(285.15999999999997,0)\">Jan 2</text></g><g class=\"x14tick\"><text text-anchor=\"middle\" x=\"0\" y=\"4095\" style=\"font-family: 'Open Sans', verdana, arial, sans-serif; font-size: 12px; fill: rgb(42, 63, 95); fill-opacity: 1; white-space: pre; opacity: 1;\" transform=\"translate(418.41,0)\">Jan 3</text></g><g class=\"x14tick\"><text text-anchor=\"middle\" x=\"0\" y=\"4095\" style=\"font-family: 'Open Sans', verdana, arial, sans-serif; font-size: 12px; fill: rgb(42, 63, 95); fill-opacity: 1; white-space: pre; opacity: 1;\" transform=\"translate(551.65,0)\">Jan 4</text></g><g class=\"x14tick\"><text text-anchor=\"middle\" x=\"0\" y=\"4095\" style=\"font-family: 'Open Sans', verdana, arial, sans-serif; font-size: 12px; fill: rgb(42, 63, 95); fill-opacity: 1; white-space: pre; opacity: 1;\" transform=\"translate(684.9,0)\">Jan 5</text></g></g><g class=\"yaxislayer-above\"><g class=\"y14tick\"><text text-anchor=\"end\" x=\"117\" y=\"4.199999999999999\" transform=\"translate(0,4065.9869879518074)\" style=\"font-family: 'Open Sans', verdana, arial, sans-serif; font-size: 12px; fill: rgb(42, 63, 95); fill-opacity: 1; white-space: pre; opacity: 1;\">0</text></g><g class=\"y14tick\"><text text-anchor=\"end\" x=\"117\" y=\"4.199999999999999\" style=\"font-family: 'Open Sans', verdana, arial, sans-serif; font-size: 12px; fill: rgb(42, 63, 95); fill-opacity: 1; white-space: pre; opacity: 1;\" transform=\"translate(0,4023.4469879518074)\">0.01</text></g><g class=\"y14tick\"><text text-anchor=\"end\" x=\"117\" y=\"4.199999999999999\" style=\"font-family: 'Open Sans', verdana, arial, sans-serif; font-size: 12px; fill: rgb(42, 63, 95); fill-opacity: 1; white-space: pre; opacity: 1;\" transform=\"translate(0,3980.916987951807)\">0.02</text></g><g class=\"y14tick\"><text text-anchor=\"end\" x=\"117\" y=\"4.199999999999999\" style=\"font-family: 'Open Sans', verdana, arial, sans-serif; font-size: 12px; fill: rgb(42, 63, 95); fill-opacity: 1; white-space: pre; opacity: 1;\" transform=\"translate(0,3938.386987951807)\">0.03</text></g><g class=\"y14tick\"><text text-anchor=\"end\" x=\"117\" y=\"4.199999999999999\" style=\"font-family: 'Open Sans', verdana, arial, sans-serif; font-size: 12px; fill: rgb(42, 63, 95); fill-opacity: 1; white-space: pre; opacity: 1;\" transform=\"translate(0,3895.8569879518072)\">0.04</text></g><g class=\"y14tick\"><text text-anchor=\"end\" x=\"117\" y=\"4.199999999999999\" style=\"font-family: 'Open Sans', verdana, arial, sans-serif; font-size: 12px; fill: rgb(42, 63, 95); fill-opacity: 1; white-space: pre; opacity: 1;\" transform=\"translate(0,3853.326987951807)\">0.05</text></g></g><g class=\"overaxes-above\"/></g></g><g class=\"polarlayer\"/><g class=\"ternarylayer\"/><g class=\"geolayer\"/><g class=\"funnelarealayer\"/><g class=\"pielayer\"/><g class=\"iciclelayer\"/><g class=\"treemaplayer\"/><g class=\"sunburstlayer\"/><g class=\"glimages\"/><defs id=\"topdefs-663257\"><g class=\"clips\"/><clipPath id=\"legend663257\"><rect width=\"485\" height=\"105\" x=\"0\" y=\"0\"/></clipPath></defs><g class=\"layer-above\"><g class=\"imagelayer\"/><g class=\"shapelayer\"><path data-index=\"2\" fill-rule=\"evenodd\" d=\"M118,722.4072289156624L720,722.4072289156624\" clip-path=\"url(#clip663257y3)\" style=\"opacity: 1; stroke: rgb(128, 128, 128); stroke-opacity: 1; fill: rgb(0, 0, 0); fill-opacity: 0; stroke-dasharray: 9px, 9px; stroke-width: 2px;\"/><path data-index=\"3\" fill-rule=\"evenodd\" d=\"M118,1214.550843373494L720,1214.550843373494\" clip-path=\"url(#clip663257y4)\" style=\"opacity: 1; stroke: rgb(128, 128, 128); stroke-opacity: 1; fill: rgb(0, 0, 0); fill-opacity: 0; stroke-dasharray: 9px, 9px; stroke-width: 2px;\"/><path data-index=\"4\" fill-rule=\"evenodd\" d=\"M118,1311.5044578313252L720,1311.5044578313252\" clip-path=\"url(#clip663257y5)\" style=\"opacity: 1; stroke: rgb(128, 128, 128); stroke-opacity: 1; fill: rgb(0, 0, 0); fill-opacity: 0; stroke-dasharray: 9px, 9px; stroke-width: 2px;\"/><path data-index=\"5\" fill-rule=\"evenodd\" d=\"M118,1800.3580722891566L720,1800.3580722891566\" clip-path=\"url(#clip663257y6)\" style=\"opacity: 1; stroke: rgb(128, 128, 128); stroke-opacity: 1; fill: rgb(0, 0, 0); fill-opacity: 0; stroke-dasharray: 9px, 9px; stroke-width: 2px;\"/><path data-index=\"6\" fill-rule=\"evenodd\" d=\"M118,1870.2416867469879L720,1870.2416867469879\" clip-path=\"url(#clip663257y7)\" style=\"opacity: 1; stroke: rgb(128, 128, 128); stroke-opacity: 1; fill: rgb(0, 0, 0); fill-opacity: 0; stroke-dasharray: 9px, 9px; stroke-width: 2px;\"/><path data-index=\"7\" fill-rule=\"evenodd\" d=\"M118,2366.765301204819L720,2366.765301204819\" clip-path=\"url(#clip663257y8)\" style=\"opacity: 1; stroke: rgb(128, 128, 128); stroke-opacity: 1; fill: rgb(0, 0, 0); fill-opacity: 0; stroke-dasharray: 9px, 9px; stroke-width: 2px;\"/><path data-index=\"8\" fill-rule=\"evenodd\" d=\"M118,2436.648915662651L720,2436.648915662651\" clip-path=\"url(#clip663257y9)\" style=\"opacity: 1; stroke: rgb(128, 128, 128); stroke-opacity: 1; fill: rgb(0, 0, 0); fill-opacity: 0; stroke-dasharray: 9px, 9px; stroke-width: 2px;\"/><path data-index=\"9\" fill-rule=\"evenodd\" d=\"M118,2932.722530120482L720,2932.722530120482\" clip-path=\"url(#clip663257y10)\" style=\"opacity: 1; stroke: rgb(128, 128, 128); stroke-opacity: 1; fill: rgb(0, 0, 0); fill-opacity: 0; stroke-dasharray: 9px, 9px; stroke-width: 2px;\"/><path data-index=\"11\" fill-rule=\"evenodd\" d=\"M118,3271.2397590361443L720,3271.2397590361443\" clip-path=\"url(#clip663257y12)\" style=\"opacity: 1; stroke: rgb(128, 128, 128); stroke-opacity: 1; fill: rgb(0, 0, 0); fill-opacity: 0; stroke-dasharray: 9px, 9px; stroke-width: 2px;\"/><path data-index=\"12\" fill-rule=\"evenodd\" d=\"M118,3569.4633734939757L720,3569.4633734939757\" clip-path=\"url(#clip663257y13)\" style=\"opacity: 1; stroke: rgb(128, 128, 128); stroke-opacity: 1; fill: rgb(0, 0, 0); fill-opacity: 0; stroke-dasharray: 9px, 9px; stroke-width: 2px;\"/><path data-index=\"13\" fill-rule=\"evenodd\" d=\"M118,4065.9869879518074L720,4065.9869879518074\" clip-path=\"url(#clip663257y14)\" style=\"opacity: 1; stroke: rgb(128, 128, 128); stroke-opacity: 1; fill: rgb(0, 0, 0); fill-opacity: 0; stroke-dasharray: 9px, 9px; stroke-width: 2px;\"/></g></g><g class=\"infolayer\"><g class=\"legend\" pointer-events=\"all\" transform=\"translate(235,12.149397590361147)\"><rect class=\"bg\" shape-rendering=\"crispEdges\" style=\"stroke: rgb(68, 68, 68); stroke-opacity: 1; fill: rgb(255, 255, 255); fill-opacity: 1; stroke-width: 0px;\" width=\"485\" height=\"105\" x=\"0\" y=\"0\"/><g class=\"scrollbox\" transform=\"\" clip-path=\"url(#legend663257)\"><g class=\"groups\"><g class=\"traces\" transform=\"translate(0,14.5)\" style=\"opacity: 1;\"><text class=\"legendtext\" text-anchor=\"start\" x=\"40\" y=\"4.680000000000001\" style=\"font-family: 'Open Sans', verdana, arial, sans-serif; font-size: 12px; fill: rgb(42, 63, 95); fill-opacity: 1; white-space: pre;\">Close</text><g class=\"layers\" style=\"opacity: 1;\"><g class=\"legendfill\"/><g class=\"legendlines\"><path class=\"js-line\" d=\"M5,0h30\" style=\"fill: none; stroke: rgb(31, 119, 180); stroke-opacity: 1; stroke-width: 2px;\"/></g><g class=\"legendsymbols\"><g class=\"legendpoints\"><path class=\"scatterpts\" transform=\"translate(20,0)\" d=\"M3,0A3,3 0 1,1 0,-3A3,3 0 0,1 3,0Z\" style=\"opacity: 1; stroke-width: 0px; fill: rgb(31, 119, 180); fill-opacity: 1;\"/></g></g></g><rect class=\"legendtoggle\" x=\"0\" y=\"-9.5\" width=\"74.84375\" height=\"19\" style=\"fill: rgb(0, 0, 0); fill-opacity: 0;\"/></g><g class=\"traces\" transform=\"translate(125.171875,14.5)\" style=\"opacity: 1;\"><text class=\"legendtext\" text-anchor=\"start\" x=\"40\" y=\"4.680000000000001\" style=\"font-family: 'Open Sans', verdana, arial, sans-serif; font-size: 12px; fill: rgb(42, 63, 95); fill-opacity: 1; white-space: pre;\">Buy</text><g class=\"layers\" style=\"opacity: 1;\"><g class=\"legendfill\"/><g class=\"legendlines\"/><g class=\"legendsymbols\"><g class=\"legendpoints\"><path class=\"scatterpts\" transform=\"translate(20,0)\" d=\"M-4.62,2H4.62L0,-4Z\" style=\"opacity: 1; stroke-width: 1px; fill: rgb(55, 177, 63); fill-opacity: 1; stroke: rgb(38, 123, 44); stroke-opacity: 1;\"/></g></g></g><rect class=\"legendtoggle\" x=\"0\" y=\"-9.5\" width=\"65.421875\" height=\"19\" style=\"fill: rgb(0, 0, 0); fill-opacity: 0;\"/></g><g class=\"traces\" transform=\"translate(250.34375,14.5)\" style=\"opacity: 1;\"><text class=\"legendtext\" text-anchor=\"start\" x=\"40\" y=\"4.680000000000001\" style=\"font-family: 'Open Sans', verdana, arial, sans-serif; font-size: 12px; fill: rgb(42, 63, 95); fill-opacity: 1; white-space: pre;\">Sell</text><g class=\"layers\" style=\"opacity: 1;\"><g class=\"legendfill\"/><g class=\"legendlines\"/><g class=\"legendsymbols\"><g class=\"legendpoints\"><path class=\"scatterpts\" transform=\"translate(20,0)\" d=\"M-4.62,-2H4.62L0,4Z\" style=\"opacity: 1; stroke-width: 1px; fill: rgb(234, 67, 53); fill-opacity: 1; stroke: rgb(181, 31, 18); stroke-opacity: 1;\"/></g></g></g><rect class=\"legendtoggle\" x=\"0\" y=\"-9.5\" width=\"64.4375\" height=\"19\" style=\"fill: rgb(0, 0, 0); fill-opacity: 0;\"/></g><g class=\"traces\" transform=\"translate(375.515625,14.5)\" style=\"opacity: 1;\"><text class=\"legendtext\" text-anchor=\"start\" x=\"40\" y=\"4.680000000000001\" style=\"font-family: 'Open Sans', verdana, arial, sans-serif; font-size: 12px; fill: rgb(42, 63, 95); fill-opacity: 1; white-space: pre;\">Entry</text><g class=\"layers\" style=\"opacity: 1;\"><g class=\"legendfill\"/><g class=\"legendlines\"/><g class=\"legendsymbols\"><g class=\"legendpoints\"><path class=\"scatterpts\" transform=\"translate(20,0)\" d=\"M3.5,3.5H-3.5V-3.5H3.5Z\" style=\"opacity: 1; stroke-width: 1px; fill: rgb(66, 133, 244); fill-opacity: 1; stroke: rgb(11, 84, 205); stroke-opacity: 1;\"/></g></g></g><rect class=\"legendtoggle\" x=\"0\" y=\"-9.5\" width=\"74.625\" height=\"19\" style=\"fill: rgb(0, 0, 0); fill-opacity: 0;\"/></g><g class=\"traces\" transform=\"translate(0,33.5)\" style=\"opacity: 1;\"><text class=\"legendtext\" text-anchor=\"start\" x=\"40\" y=\"4.680000000000001\" style=\"font-family: 'Open Sans', verdana, arial, sans-serif; font-size: 12px; fill: rgb(42, 63, 95); fill-opacity: 1; white-space: pre;\">Exit - Loss</text><g class=\"layers\" style=\"opacity: 1;\"><g class=\"legendfill\"/><g class=\"legendlines\"/><g class=\"legendsymbols\"><g class=\"legendpoints\"><path class=\"scatterpts\" transform=\"translate(20,0)\" d=\"M3.5,3.5H-3.5V-3.5H3.5Z\" style=\"opacity: 1; stroke-width: 1px; fill: rgb(234, 67, 53); fill-opacity: 1; stroke: rgb(181, 31, 18); stroke-opacity: 1;\"/></g></g></g><rect class=\"legendtoggle\" x=\"0\" y=\"-9.5\" width=\"105.5625\" height=\"19\" style=\"fill: rgb(0, 0, 0); fill-opacity: 0;\"/></g><g class=\"traces\" transform=\"translate(125.171875,33.5)\" style=\"opacity: 1;\"><text class=\"legendtext\" text-anchor=\"start\" x=\"40\" y=\"4.680000000000001\" style=\"font-family: 'Open Sans', verdana, arial, sans-serif; font-size: 12px; fill: rgb(42, 63, 95); fill-opacity: 1; white-space: pre;\">Active</text><g class=\"layers\" style=\"opacity: 1;\"><g class=\"legendfill\"/><g class=\"legendlines\"/><g class=\"legendsymbols\"><g class=\"legendpoints\"><path class=\"scatterpts\" transform=\"translate(20,0)\" d=\"M3.5,3.5H-3.5V-3.5H3.5Z\" style=\"opacity: 1; stroke-width: 1px; fill: rgb(255, 170, 0); fill-opacity: 1; stroke: rgb(178, 118, 0); stroke-opacity: 1;\"/></g></g></g><rect class=\"legendtoggle\" x=\"0\" y=\"-9.5\" width=\"79.21875\" height=\"19\" style=\"fill: rgb(0, 0, 0); fill-opacity: 0;\"/></g><g class=\"traces\" transform=\"translate(250.34375,33.5)\" style=\"opacity: 1;\"><text class=\"legendtext\" text-anchor=\"start\" x=\"40\" y=\"4.680000000000001\" style=\"font-family: 'Open Sans', verdana, arial, sans-serif; font-size: 12px; fill: rgb(42, 63, 95); fill-opacity: 1; white-space: pre;\">Closed - Loss</text><g class=\"layers\" style=\"opacity: 1;\"><g class=\"legendfill\"/><g class=\"legendlines\"/><g class=\"legendsymbols\"><g class=\"legendpoints\"><path class=\"scatterpts\" transform=\"translate(20,0)\" d=\"M7,0A7,7 0 1,1 0,-7A7,7 0 0,1 7,0Z\" style=\"opacity: 0.9; stroke-width: 1px; fill: rgb(234, 67, 53); fill-opacity: 1; stroke: rgb(181, 31, 18); stroke-opacity: 1;\"/></g></g></g><rect class=\"legendtoggle\" x=\"0\" y=\"-9.5\" width=\"122.671875\" height=\"19\" style=\"fill: rgb(0, 0, 0); fill-opacity: 0;\"/></g><g class=\"traces\" transform=\"translate(375.515625,33.5)\" style=\"opacity: 1;\"><text class=\"legendtext\" text-anchor=\"start\" x=\"40\" y=\"4.680000000000001\" style=\"font-family: 'Open Sans', verdana, arial, sans-serif; font-size: 12px; fill: rgb(42, 63, 95); fill-opacity: 1; white-space: pre;\">Open</text><g class=\"layers\" style=\"opacity: 1;\"><g class=\"legendfill\"/><g class=\"legendlines\"/><g class=\"legendsymbols\"><g class=\"legendpoints\"><path class=\"scatterpts\" transform=\"translate(20,0)\" d=\"M3.5,0A3.5,3.5 0 1,1 0,-3.5A3.5,3.5 0 0,1 3.5,0Z\" style=\"opacity: 0.75; stroke-width: 1px; fill: rgb(255, 170, 0); fill-opacity: 1; stroke: rgb(178, 118, 0); stroke-opacity: 1;\"/></g></g></g><rect class=\"legendtoggle\" x=\"0\" y=\"-9.5\" width=\"74.15625\" height=\"19\" style=\"fill: rgb(0, 0, 0); fill-opacity: 0;\"/></g><g class=\"traces\" transform=\"translate(0,52.5)\" style=\"opacity: 1;\"><text class=\"legendtext\" text-anchor=\"start\" x=\"40\" y=\"4.680000000000001\" style=\"font-family: 'Open Sans', verdana, arial, sans-serif; font-size: 12px; fill: rgb(42, 63, 95); fill-opacity: 1; white-space: pre;\">Assets</text><g class=\"layers\" style=\"opacity: 1;\"><g class=\"legendfill\"/><g class=\"legendlines\"><path class=\"js-line\" d=\"M5,0h30\" style=\"fill: none; stroke: rgb(140, 86, 75); stroke-opacity: 1; stroke-width: 2px;\"/></g><g class=\"legendsymbols\"><g class=\"legendpoints\"><path class=\"scatterpts\" transform=\"translate(20,0)\" d=\"M3,0A3,3 0 1,1 0,-3A3,3 0 0,1 3,0Z\" style=\"opacity: 1; stroke-width: 0px; fill: rgb(140, 86, 75); fill-opacity: 1;\"/></g></g></g><rect class=\"legendtoggle\" x=\"0\" y=\"-9.5\" width=\"81.328125\" height=\"19\" style=\"fill: rgb(0, 0, 0); fill-opacity: 0;\"/></g><g class=\"traces\" transform=\"translate(125.171875,52.5)\" style=\"opacity: 1;\"><text class=\"legendtext\" text-anchor=\"start\" x=\"40\" y=\"4.680000000000001\" style=\"font-family: 'Open Sans', verdana, arial, sans-serif; font-size: 12px; fill: rgb(42, 63, 95); fill-opacity: 1; white-space: pre;\">Cash</text><g class=\"layers\" style=\"opacity: 1;\"><g class=\"legendfill\"/><g class=\"legendlines\"><path class=\"js-line\" d=\"M5,0h30\" style=\"fill: none; stroke: rgb(44, 160, 44); stroke-opacity: 1; stroke-width: 2px;\"/></g><g class=\"legendsymbols\"><g class=\"legendpoints\"><path class=\"scatterpts\" transform=\"translate(20,0)\" d=\"M3,0A3,3 0 1,1 0,-3A3,3 0 0,1 3,0Z\" style=\"opacity: 1; stroke-width: 0px; fill: rgb(44, 160, 44); fill-opacity: 1;\"/></g></g></g><rect class=\"legendtoggle\" x=\"0\" y=\"-9.5\" width=\"71.921875\" height=\"19\" style=\"fill: rgb(0, 0, 0); fill-opacity: 0;\"/></g><g class=\"traces\" transform=\"translate(250.34375,52.5)\" style=\"opacity: 1;\"><text class=\"legendtext\" text-anchor=\"start\" x=\"40\" y=\"4.680000000000001\" style=\"font-family: 'Open Sans', verdana, arial, sans-serif; font-size: 12px; fill: rgb(42, 63, 95); fill-opacity: 1; white-space: pre;\">Asset Value</text><g class=\"layers\" style=\"opacity: 1;\"><g class=\"legendfill\"/><g class=\"legendlines\"><path class=\"js-line\" d=\"M5,0h30\" style=\"fill: none; stroke: rgb(23, 190, 207); stroke-opacity: 1; stroke-width: 2px;\"/></g><g class=\"legendsymbols\"><g class=\"legendpoints\"><path class=\"scatterpts\" transform=\"translate(20,0)\" d=\"M3,0A3,3 0 1,1 0,-3A3,3 0 0,1 3,0Z\" style=\"opacity: 1; stroke-width: 0px; fill: rgb(23, 190, 207); fill-opacity: 1;\"/></g></g></g><rect class=\"legendtoggle\" x=\"0\" y=\"-9.5\" width=\"112.734375\" height=\"19\" style=\"fill: rgb(0, 0, 0); fill-opacity: 0;\"/></g><g class=\"traces\" transform=\"translate(375.515625,52.5)\" style=\"opacity: 1;\"><text class=\"legendtext\" text-anchor=\"start\" x=\"40\" y=\"4.680000000000001\" style=\"font-family: 'Open Sans', verdana, arial, sans-serif; font-size: 12px; fill: rgb(42, 63, 95); fill-opacity: 1; white-space: pre;\">Value</text><g class=\"layers\" style=\"opacity: 1;\"><g class=\"legendfill\"/><g class=\"legendlines\"><path class=\"js-line\" d=\"M5,0h30\" style=\"fill: none; stroke: rgb(148, 103, 189); stroke-opacity: 1; stroke-width: 2px;\"/></g><g class=\"legendsymbols\"><g class=\"legendpoints\"><path class=\"scatterpts\" transform=\"translate(20,0)\" d=\"M3,0A3,3 0 1,1 0,-3A3,3 0 0,1 3,0Z\" style=\"opacity: 1; stroke-width: 0px; fill: rgb(148, 103, 189); fill-opacity: 1;\"/></g></g></g><rect class=\"legendtoggle\" x=\"0\" y=\"-9.5\" width=\"75.9375\" height=\"19\" style=\"fill: rgb(0, 0, 0); fill-opacity: 0;\"/></g><g class=\"traces\" transform=\"translate(0,71.5)\" style=\"opacity: 1;\"><text class=\"legendtext\" text-anchor=\"start\" x=\"40\" y=\"4.680000000000001\" style=\"font-family: 'Open Sans', verdana, arial, sans-serif; font-size: 12px; fill: rgb(42, 63, 95); fill-opacity: 1; white-space: pre;\">Benchmark</text><g class=\"layers\" style=\"opacity: 1;\"><g class=\"legendfill\"/><g class=\"legendlines\"><path class=\"js-line\" d=\"M5,0h30\" style=\"fill: none; stroke: rgb(127, 127, 127); stroke-opacity: 1; stroke-width: 2px;\"/></g><g class=\"legendsymbols\"><g class=\"legendpoints\"><path class=\"scatterpts\" transform=\"translate(20,0)\" d=\"M3,0A3,3 0 1,1 0,-3A3,3 0 0,1 3,0Z\" style=\"opacity: 1; stroke-width: 0px; fill: rgb(127, 127, 127); fill-opacity: 1;\"/></g></g></g><rect class=\"legendtoggle\" x=\"0\" y=\"-9.5\" width=\"110.40625\" height=\"19\" style=\"fill: rgb(0, 0, 0); fill-opacity: 0;\"/></g><g class=\"traces\" transform=\"translate(125.171875,71.5)\" style=\"opacity: 1;\"><text class=\"legendtext\" text-anchor=\"start\" x=\"40\" y=\"4.680000000000001\" style=\"font-family: 'Open Sans', verdana, arial, sans-serif; font-size: 12px; fill: rgb(42, 63, 95); fill-opacity: 1; white-space: pre;\">Peak</text><g class=\"layers\" style=\"opacity: 1;\"><g class=\"legendfill\"/><g class=\"legendlines\"/><g class=\"legendsymbols\"><g class=\"legendpoints\"><path class=\"scatterpts\" transform=\"translate(20,0)\" d=\"M4.55,0L0,4.55L-4.55,0L0,-4.55Z\" style=\"opacity: 1; stroke-width: 1px; fill: rgb(66, 133, 244); fill-opacity: 1; stroke: rgb(11, 84, 205); stroke-opacity: 1;\"/></g></g></g><rect class=\"legendtoggle\" x=\"0\" y=\"-9.5\" width=\"71.1875\" height=\"19\" style=\"fill: rgb(0, 0, 0); fill-opacity: 0;\"/></g><g class=\"traces\" transform=\"translate(250.34375,71.5)\" style=\"opacity: 1;\"><text class=\"legendtext\" text-anchor=\"start\" x=\"40\" y=\"4.680000000000001\" style=\"font-family: 'Open Sans', verdana, arial, sans-serif; font-size: 12px; fill: rgb(42, 63, 95); fill-opacity: 1; white-space: pre;\">Active</text><g class=\"layers\" style=\"opacity: 1;\"><g class=\"legendfill\"/><g class=\"legendlines\"/><g class=\"legendsymbols\"><g class=\"legendpoints\"><path class=\"scatterpts\" transform=\"translate(20,0)\" d=\"M4.55,0L0,4.55L-4.55,0L0,-4.55Z\" style=\"opacity: 1; stroke-width: 1px; fill: rgb(255, 170, 0); fill-opacity: 1; stroke: rgb(178, 118, 0); stroke-opacity: 1;\"/></g></g></g><rect class=\"legendtoggle\" x=\"0\" y=\"-9.5\" width=\"79.21875\" height=\"19\" style=\"fill: rgb(0, 0, 0); fill-opacity: 0;\"/></g><g class=\"traces\" transform=\"translate(375.515625,71.5)\" style=\"opacity: 1;\"><text class=\"legendtext\" text-anchor=\"start\" x=\"40\" y=\"4.680000000000001\" style=\"font-family: 'Open Sans', verdana, arial, sans-serif; font-size: 12px; fill: rgb(42, 63, 95); fill-opacity: 1; white-space: pre;\">Drawdown</text><g class=\"layers\"><g class=\"legendfill\"><path class=\"js-fill\" d=\"M5,0h30v6h-30z\" style=\"stroke-width: 0; fill: rgb(220, 57, 18); fill-opacity: 0.3;\"/></g><g class=\"legendlines\"><path class=\"js-line\" d=\"M5,0h30\" style=\"fill: none; stroke: rgb(220, 57, 18); stroke-opacity: 1; stroke-width: 2px;\"/></g><g class=\"legendsymbols\"><g class=\"legendpoints\"><path class=\"scatterpts\" transform=\"translate(20,0)\" d=\"M3,0A3,3 0 1,1 0,-3A3,3 0 0,1 3,0Z\" style=\"opacity: 1; stroke-width: 0px; fill: rgb(220, 57, 18); fill-opacity: 1;\"/></g></g></g><rect class=\"legendtoggle\" x=\"0\" y=\"-9.5\" width=\"106.0625\" height=\"19\" style=\"fill: rgb(0, 0, 0); fill-opacity: 0;\"/></g><g class=\"traces\" transform=\"translate(0,90.5)\" style=\"opacity: 1;\"><text class=\"legendtext\" text-anchor=\"start\" x=\"40\" y=\"4.680000000000001\" style=\"font-family: 'Open Sans', verdana, arial, sans-serif; font-size: 12px; fill: rgb(42, 63, 95); fill-opacity: 1; white-space: pre;\">Exposure</text><g class=\"layers\" style=\"opacity: 1;\"><g class=\"legendfill\"/><g class=\"legendlines\"><path class=\"js-line\" d=\"M5,0h30\" style=\"fill: none; stroke: rgb(227, 119, 194); stroke-opacity: 1; stroke-width: 2px;\"/></g><g class=\"legendsymbols\"><g class=\"legendpoints\"><path class=\"scatterpts\" transform=\"translate(20,0)\" d=\"M3,0A3,3 0 1,1 0,-3A3,3 0 0,1 3,0Z\" style=\"opacity: 1; stroke-width: 0px; fill: rgb(227, 119, 194); fill-opacity: 1;\"/></g></g></g><rect class=\"legendtoggle\" x=\"0\" y=\"-9.5\" width=\"98.0625\" height=\"19\" style=\"fill: rgb(0, 0, 0); fill-opacity: 0;\"/></g></g></g><rect class=\"scrollbar\" rx=\"20\" ry=\"3\" width=\"0\" height=\"0\" style=\"fill: rgb(128, 139, 164); fill-opacity: 1;\" x=\"0\" y=\"0\"/></g><g class=\"g-gtitle\"/><g class=\"g-xtitle\"/><g class=\"g-x2title\"/><g class=\"g-x3title\"/><g class=\"g-x4title\"/><g class=\"g-x5title\"/><g class=\"g-x6title\"/><g class=\"g-x7title\"/><g class=\"g-x8title\"/><g class=\"g-x9title\"/><g class=\"g-x10title\"/><g class=\"g-x11title\"/><g class=\"g-x12title\"/><g class=\"g-x13title\"/><g class=\"g-x14title\"><text class=\"x14title\" x=\"419\" y=\"4137.89375\" text-anchor=\"middle\" style=\"font-family: 'Open Sans', verdana, arial, sans-serif; font-size: 14px; fill: rgb(42, 63, 95); opacity: 1; font-weight: normal; white-space: pre;\">Index</text></g><g class=\"g-ytitle\"><text class=\"ytitle\" transform=\"rotate(-90,72.575,277.6765060240964)\" x=\"72.575\" y=\"277.6765060240964\" text-anchor=\"middle\" style=\"font-family: 'Open Sans', verdana, arial, sans-serif; font-size: 14px; fill: rgb(42, 63, 95); opacity: 1; font-weight: normal; white-space: pre;\">Price</text></g><g class=\"g-y2title\"><text class=\"y2title\" transform=\"rotate(-90,72.575,560.8801204819275)\" x=\"72.575\" y=\"560.8801204819275\" text-anchor=\"middle\" style=\"font-family: 'Open Sans', verdana, arial, sans-serif; font-size: 14px; fill: rgb(42, 63, 95); opacity: 1; font-weight: normal; white-space: pre;\">Price</text></g><g class=\"g-y3title\"><text class=\"y3title\" transform=\"rotate(-90,34.575,844.0837349397588)\" x=\"34.575\" y=\"844.0837349397588\" text-anchor=\"middle\" style=\"font-family: 'Open Sans', verdana, arial, sans-serif; font-size: 14px; fill: rgb(42, 63, 95); opacity: 1; font-weight: normal; white-space: pre;\">Trade PnL</text></g><g class=\"g-y4title\"><text class=\"y4title\" transform=\"rotate(-90,72.575,1127.2873493975903)\" x=\"72.575\" y=\"1127.2873493975903\" text-anchor=\"middle\" style=\"font-family: 'Open Sans', verdana, arial, sans-serif; font-size: 14px; fill: rgb(42, 63, 95); opacity: 1; font-weight: normal; white-space: pre;\">Asset flow</text></g><g class=\"g-y5title\"><text class=\"y5title\" transform=\"rotate(-90,74.746875,1410.4909638554216)\" x=\"74.746875\" y=\"1410.4909638554216\" text-anchor=\"middle\" style=\"font-family: 'Open Sans', verdana, arial, sans-serif; font-size: 14px; fill: rgb(42, 63, 95); opacity: 1; font-weight: normal; white-space: pre;\">Cash flow</text></g><g class=\"g-y6title\"><text class=\"y6title\" transform=\"rotate(-90,72.575,1693.694578313253)\" x=\"72.575\" y=\"1693.694578313253\" text-anchor=\"middle\" style=\"font-family: 'Open Sans', verdana, arial, sans-serif; font-size: 14px; fill: rgb(42, 63, 95); opacity: 1; font-weight: normal; white-space: pre;\">Assets</text></g><g class=\"g-y7title\"><text class=\"y7title\" transform=\"rotate(-90,69.309375,1976.8981927710843)\" x=\"69.309375\" y=\"1976.8981927710843\" text-anchor=\"middle\" style=\"font-family: 'Open Sans', verdana, arial, sans-serif; font-size: 14px; fill: rgb(42, 63, 95); opacity: 1; font-weight: normal; white-space: pre;\">Cash</text></g><g class=\"g-y8title\"><text class=\"y8title\" transform=\"rotate(-90,84.559375,2260.1018072289153)\" x=\"84.559375\" y=\"2260.1018072289153\" text-anchor=\"middle\" style=\"font-family: 'Open Sans', verdana, arial, sans-serif; font-size: 14px; fill: rgb(42, 63, 95); opacity: 1; font-weight: normal; white-space: pre;\">Asset value</text></g><g class=\"g-y9title\"><text class=\"y9title\" transform=\"rotate(-90,64.934375,2543.305421686747)\" x=\"64.934375\" y=\"2543.305421686747\" text-anchor=\"middle\" style=\"font-family: 'Open Sans', verdana, arial, sans-serif; font-size: 14px; fill: rgb(42, 63, 95); opacity: 1; font-weight: normal; white-space: pre;\">Value</text></g><g class=\"g-y10title\"><text class=\"y10title\" transform=\"rotate(-90,72.575,2826.5090361445787)\" x=\"72.575\" y=\"2826.5090361445787\" text-anchor=\"middle\" style=\"font-family: 'Open Sans', verdana, arial, sans-serif; font-size: 14px; fill: rgb(42, 63, 95); opacity: 1; font-weight: normal; white-space: pre;\">Cumulative returns</text></g><g class=\"g-y11title\"><text class=\"y11title\" transform=\"rotate(-90,64.934375,3109.7126506024097)\" x=\"64.934375\" y=\"3109.7126506024097\" text-anchor=\"middle\" style=\"font-family: 'Open Sans', verdana, arial, sans-serif; font-size: 14px; fill: rgb(42, 63, 95); opacity: 1; font-weight: normal; white-space: pre;\">Value</text></g><g class=\"g-y12title\" transform=\"translate(2.3251953125,0)\"><text class=\"y12title\" transform=\"rotate(-90,11.684375000000003,3392.9162650602407)\" x=\"11.684375000000003\" y=\"3392.9162650602407\" text-anchor=\"middle\" style=\"font-family: 'Open Sans', verdana, arial, sans-serif; font-size: 14px; fill: rgb(42, 63, 95); opacity: 1; font-weight: normal; white-space: pre;\">Drawdown</text></g><g class=\"g-y13title\"><text class=\"y13title\" transform=\"rotate(-90,72.575,3676.119879518072)\" x=\"72.575\" y=\"3676.119879518072\" text-anchor=\"middle\" style=\"font-family: 'Open Sans', verdana, arial, sans-serif; font-size: 14px; fill: rgb(42, 63, 95); opacity: 1; font-weight: normal; white-space: pre;\">Gross exposure</text></g><g class=\"g-y14title\"><text class=\"y14title\" transform=\"rotate(-90,64.934375,3959.3234939759036)\" x=\"64.934375\" y=\"3959.3234939759036\" text-anchor=\"middle\" style=\"font-family: 'Open Sans', verdana, arial, sans-serif; font-size: 14px; fill: rgb(42, 63, 95); opacity: 1; font-weight: normal; white-space: pre;\">Net exposure</text></g><g class=\"annotation\" data-index=\"0\" style=\"opacity: 1;\"><g class=\"annotation-text-g\" transform=\"rotate(0,419,143)\"><g class=\"cursor-pointer\" transform=\"translate(390,131)\"><rect class=\"bg\" x=\"0.5\" y=\"0.5\" width=\"57\" height=\"23\" style=\"stroke-width: 1px; stroke: rgb(0, 0, 0); stroke-opacity: 0; fill: rgb(0, 0, 0); fill-opacity: 0;\"/><text class=\"annotation-text\" text-anchor=\"middle\" x=\"29.03125\" y=\"18\" style=\"font-family: 'Open Sans', verdana, arial, sans-serif; font-size: 16px; fill: rgb(42, 63, 95); fill-opacity: 1; white-space: pre;\">Orders</text></g></g></g><g class=\"annotation\" data-index=\"1\" style=\"opacity: 1;\"><g class=\"annotation-text-g\" transform=\"rotate(0,419,426.2036144578312)\"><g class=\"cursor-pointer\" transform=\"translate(390,414)\"><rect class=\"bg\" x=\"0.5\" y=\"0.5\" width=\"57\" height=\"23\" style=\"stroke-width: 1px; stroke: rgb(0, 0, 0); stroke-opacity: 0; fill: rgb(0, 0, 0); fill-opacity: 0;\"/><text class=\"annotation-text\" text-anchor=\"middle\" x=\"29.0625\" y=\"18\" style=\"font-family: 'Open Sans', verdana, arial, sans-serif; font-size: 16px; fill: rgb(42, 63, 95); fill-opacity: 1; white-space: pre;\">Trades</text></g></g></g><g class=\"annotation\" data-index=\"2\" style=\"opacity: 1;\"><g class=\"annotation-text-g\" transform=\"rotate(0,419,709.4072289156624)\"><g class=\"cursor-pointer\" transform=\"translate(377,697)\"><rect class=\"bg\" x=\"0.5\" y=\"0.5\" width=\"83\" height=\"23\" style=\"stroke-width: 1px; stroke: rgb(0, 0, 0); stroke-opacity: 0; fill: rgb(0, 0, 0); fill-opacity: 0;\"/><text class=\"annotation-text\" text-anchor=\"middle\" x=\"42.046875\" y=\"18\" style=\"font-family: 'Open Sans', verdana, arial, sans-serif; font-size: 16px; fill: rgb(42, 63, 95); fill-opacity: 1; white-space: pre;\">Trade PnL</text></g></g></g><g class=\"annotation\" data-index=\"3\" style=\"opacity: 1;\"><g class=\"annotation-text-g\" transform=\"rotate(0,419,992.6108433734939)\"><g class=\"cursor-pointer\" transform=\"translate(375,981)\"><rect class=\"bg\" x=\"0.5\" y=\"0.5\" width=\"88\" height=\"23\" style=\"stroke-width: 1px; stroke: rgb(0, 0, 0); stroke-opacity: 0; fill: rgb(0, 0, 0); fill-opacity: 0;\"/><text class=\"annotation-text\" text-anchor=\"middle\" x=\"44.71875\" y=\"18\" style=\"font-family: 'Open Sans', verdana, arial, sans-serif; font-size: 16px; fill: rgb(42, 63, 95); fill-opacity: 1; white-space: pre;\">Asset Flow</text></g></g></g><g class=\"annotation\" data-index=\"4\" style=\"opacity: 1;\"><g class=\"annotation-text-g\" transform=\"rotate(0,419,1275.8144578313252)\"><g class=\"cursor-pointer\" transform=\"translate(377,1264)\"><rect class=\"bg\" x=\"0.5\" y=\"0.5\" width=\"84\" height=\"23\" style=\"stroke-width: 1px; stroke: rgb(0, 0, 0); stroke-opacity: 0; fill: rgb(0, 0, 0); fill-opacity: 0;\"/><text class=\"annotation-text\" text-anchor=\"middle\" x=\"42.625\" y=\"18\" style=\"font-family: 'Open Sans', verdana, arial, sans-serif; font-size: 16px; fill: rgb(42, 63, 95); fill-opacity: 1; white-space: pre;\">Cash Flow</text></g></g></g><g class=\"annotation\" data-index=\"5\" style=\"opacity: 1;\"><g class=\"annotation-text-g\" transform=\"rotate(0,419,1559.0180722891566)\"><g class=\"cursor-pointer\" transform=\"translate(391,1547)\"><rect class=\"bg\" x=\"0.5\" y=\"0.5\" width=\"55\" height=\"23\" style=\"stroke-width: 1px; stroke: rgb(0, 0, 0); stroke-opacity: 0; fill: rgb(0, 0, 0); fill-opacity: 0;\"/><text class=\"annotation-text\" text-anchor=\"middle\" x=\"27.890625\" y=\"18\" style=\"font-family: 'Open Sans', verdana, arial, sans-serif; font-size: 16px; fill: rgb(42, 63, 95); fill-opacity: 1; white-space: pre;\">Assets</text></g></g></g><g class=\"annotation\" data-index=\"6\" style=\"opacity: 1;\"><g class=\"annotation-text-g\" transform=\"rotate(0,419,1842.2216867469879)\"><g class=\"cursor-pointer\" transform=\"translate(398,1830)\"><rect class=\"bg\" x=\"0.5\" y=\"0.5\" width=\"42\" height=\"23\" style=\"stroke-width: 1px; stroke: rgb(0, 0, 0); stroke-opacity: 0; fill: rgb(0, 0, 0); fill-opacity: 0;\"/><text class=\"annotation-text\" text-anchor=\"middle\" x=\"21.609375\" y=\"18\" style=\"font-family: 'Open Sans', verdana, arial, sans-serif; font-size: 16px; fill: rgb(42, 63, 95); fill-opacity: 1; white-space: pre;\">Cash</text></g></g></g><g class=\"annotation\" data-index=\"7\" style=\"opacity: 1;\"><g class=\"annotation-text-g\" transform=\"rotate(0,419,2125.425301204819)\"><g class=\"cursor-pointer\" transform=\"translate(370,2113)\"><rect class=\"bg\" x=\"0.5\" y=\"0.5\" width=\"97\" height=\"23\" style=\"stroke-width: 1px; stroke: rgb(0, 0, 0); stroke-opacity: 0; fill: rgb(0, 0, 0); fill-opacity: 0;\"/><text class=\"annotation-text\" text-anchor=\"middle\" x=\"48.828125\" y=\"18\" style=\"font-family: 'Open Sans', verdana, arial, sans-serif; font-size: 16px; fill: rgb(42, 63, 95); fill-opacity: 1; white-space: pre;\">Asset Value</text></g></g></g><g class=\"annotation\" data-index=\"8\" style=\"opacity: 1;\"><g class=\"annotation-text-g\" transform=\"rotate(0,419,2408.628915662651)\"><g class=\"cursor-pointer\" transform=\"translate(395,2397)\"><rect class=\"bg\" x=\"0.5\" y=\"0.5\" width=\"48\" height=\"23\" style=\"stroke-width: 1px; stroke: rgb(0, 0, 0); stroke-opacity: 0; fill: rgb(0, 0, 0); fill-opacity: 0;\"/><text class=\"annotation-text\" text-anchor=\"middle\" x=\"24.296875\" y=\"18\" style=\"font-family: 'Open Sans', verdana, arial, sans-serif; font-size: 16px; fill: rgb(42, 63, 95); fill-opacity: 1; white-space: pre;\">Value</text></g></g></g><g class=\"annotation\" data-index=\"9\" style=\"opacity: 1;\"><g class=\"annotation-text-g\" transform=\"rotate(0,419,2691.8325301204823)\"><g class=\"cursor-pointer\" transform=\"translate(338,2680)\"><rect class=\"bg\" x=\"0.5\" y=\"0.5\" width=\"162\" height=\"23\" style=\"stroke-width: 1px; stroke: rgb(0, 0, 0); stroke-opacity: 0; fill: rgb(0, 0, 0); fill-opacity: 0;\"/><text class=\"annotation-text\" text-anchor=\"middle\" x=\"81.328125\" y=\"18\" style=\"font-family: 'Open Sans', verdana, arial, sans-serif; font-size: 16px; fill: rgb(42, 63, 95); fill-opacity: 1; white-space: pre;\">Cumulative Returns</text></g></g></g><g class=\"annotation\" data-index=\"10\" style=\"opacity: 1;\"><g class=\"annotation-text-g\" transform=\"rotate(0,419,2975.0361445783133)\"><g class=\"cursor-pointer\" transform=\"translate(371,2963)\"><rect class=\"bg\" x=\"0.5\" y=\"0.5\" width=\"96\" height=\"23\" style=\"stroke-width: 1px; stroke: rgb(0, 0, 0); stroke-opacity: 0; fill: rgb(0, 0, 0); fill-opacity: 0;\"/><text class=\"annotation-text\" text-anchor=\"middle\" x=\"48.546875\" y=\"18\" style=\"font-family: 'Open Sans', verdana, arial, sans-serif; font-size: 16px; fill: rgb(42, 63, 95); fill-opacity: 1; white-space: pre;\">Drawdowns</text></g></g></g><g class=\"annotation\" data-index=\"11\" style=\"opacity: 1;\"><g class=\"annotation-text-g\" transform=\"rotate(0,419,3258.2397590361443)\"><g class=\"cursor-pointer\" transform=\"translate(370,3246)\"><rect class=\"bg\" x=\"0.5\" y=\"0.5\" width=\"97\" height=\"23\" style=\"stroke-width: 1px; stroke: rgb(0, 0, 0); stroke-opacity: 0; fill: rgb(0, 0, 0); fill-opacity: 0;\"/><text class=\"annotation-text\" text-anchor=\"middle\" x=\"48.765625\" y=\"18\" style=\"font-family: 'Open Sans', verdana, arial, sans-serif; font-size: 16px; fill: rgb(42, 63, 95); fill-opacity: 1; white-space: pre;\">Underwater</text></g></g></g><g class=\"annotation\" data-index=\"12\" style=\"opacity: 1;\"><g class=\"annotation-text-g\" transform=\"rotate(0,419,3541.4433734939757)\"><g class=\"cursor-pointer\" transform=\"translate(355,3529)\"><rect class=\"bg\" x=\"0.5\" y=\"0.5\" width=\"128\" height=\"23\" style=\"stroke-width: 1px; stroke: rgb(0, 0, 0); stroke-opacity: 0; fill: rgb(0, 0, 0); fill-opacity: 0;\"/><text class=\"annotation-text\" text-anchor=\"middle\" x=\"64.65625\" y=\"18\" style=\"font-family: 'Open Sans', verdana, arial, sans-serif; font-size: 16px; fill: rgb(42, 63, 95); fill-opacity: 1; white-space: pre;\">Gross Exposure</text></g></g></g><g class=\"annotation\" data-index=\"13\" style=\"opacity: 1;\"><g class=\"annotation-text-g\" transform=\"rotate(0,419,3824.646987951807)\"><g class=\"cursor-pointer\" transform=\"translate(363,3813)\"><rect class=\"bg\" x=\"0.5\" y=\"0.5\" width=\"111\" height=\"23\" style=\"stroke-width: 1px; stroke: rgb(0, 0, 0); stroke-opacity: 0; fill: rgb(0, 0, 0); fill-opacity: 0;\"/><text class=\"annotation-text\" text-anchor=\"middle\" x=\"55.75\" y=\"18\" style=\"font-family: 'Open Sans', verdana, arial, sans-serif; font-size: 16px; fill: rgb(42, 63, 95); fill-opacity: 1; white-space: pre;\">Net Exposure</text></g></g></g></g></svg>"
      ]
     },
     "metadata": {},
     "output_type": "display_data"
    }
   ],
   "source": [
    "portfolio['a'].plot(subplots='all').show_svg()"
   ]
  },
  {
   "cell_type": "code",
   "execution_count": 135,
   "metadata": {},
   "outputs": [
    {
     "name": "stderr",
     "output_type": "stream",
     "text": [
      "/Users/olegpolakow/Documents/SourceTree/vectorbt/vectorbt/generic/plots_builder.py:355: UserWarning:\n",
      "\n",
      "Subplot 'orders' does not support grouped data\n",
      "\n",
      "/Users/olegpolakow/Documents/SourceTree/vectorbt/vectorbt/generic/plots_builder.py:355: UserWarning:\n",
      "\n",
      "Subplot 'trades' does not support grouped data\n",
      "\n",
      "/Users/olegpolakow/Documents/SourceTree/vectorbt/vectorbt/generic/plots_builder.py:355: UserWarning:\n",
      "\n",
      "Subplot 'trade_pnl' does not support grouped data\n",
      "\n",
      "/Users/olegpolakow/Documents/SourceTree/vectorbt/vectorbt/generic/plots_builder.py:355: UserWarning:\n",
      "\n",
      "Subplot 'asset_flow' does not support grouped data\n",
      "\n",
      "/Users/olegpolakow/Documents/SourceTree/vectorbt/vectorbt/generic/plots_builder.py:355: UserWarning:\n",
      "\n",
      "Subplot 'assets' does not support grouped data\n",
      "\n"
     ]
    },
    {
     "data": {
      "image/svg+xml": [
       "<svg class=\"main-svg\" xmlns=\"http://www.w3.org/2000/svg\" xmlns:xlink=\"http://www.w3.org/1999/xlink\" width=\"750\" height=\"2700\" viewBox=\"0 0 750 2700\"><rect x=\"0\" y=\"0\" width=\"750\" height=\"2700\" style=\"fill: rgb(255, 255, 255); fill-opacity: 1;\"/><defs id=\"defs-bc0592\"><g class=\"clips\"><clipPath id=\"clipbc0592xyplot\" class=\"plotclip\"><rect width=\"602\" height=\"248.1860082304525\"/></clipPath><clipPath id=\"clipbc0592x2y2plot\" class=\"plotclip\"><rect width=\"602\" height=\"248.18600823045279\"/></clipPath><clipPath id=\"clipbc0592x3y3plot\" class=\"plotclip\"><rect width=\"602\" height=\"248.18600823045279\"/></clipPath><clipPath id=\"clipbc0592x4y4plot\" class=\"plotclip\"><rect width=\"602\" height=\"248.18600823045279\"/></clipPath><clipPath id=\"clipbc0592x5y5plot\" class=\"plotclip\"><rect width=\"602\" height=\"248.18600823045279\"/></clipPath><clipPath id=\"clipbc0592x6y6plot\" class=\"plotclip\"><rect width=\"602\" height=\"248.18600823045264\"/></clipPath><clipPath id=\"clipbc0592x7y7plot\" class=\"plotclip\"><rect width=\"602\" height=\"248.18600823045264\"/></clipPath><clipPath id=\"clipbc0592x8y8plot\" class=\"plotclip\"><rect width=\"602\" height=\"248.18600823045264\"/></clipPath><clipPath id=\"clipbc0592x9y9plot\" class=\"plotclip\"><rect width=\"602\" height=\"248.18600823045267\"/></clipPath><clipPath class=\"axesclip\" id=\"clipbc0592x\"><rect x=\"118\" y=\"0\" width=\"602\" height=\"2700\"/></clipPath><clipPath class=\"axesclip\" id=\"clipbc0592y\"><rect x=\"0\" y=\"98\" width=\"750\" height=\"248.1860082304525\"/></clipPath><clipPath class=\"axesclip\" id=\"clipbc0592xy\"><rect x=\"118\" y=\"98\" width=\"602\" height=\"248.1860082304525\"/></clipPath><clipPath class=\"axesclip\" id=\"clipbc0592y2\"><rect x=\"0\" y=\"383.726748971193\" width=\"750\" height=\"248.18600823045279\"/></clipPath><clipPath class=\"axesclip\" id=\"clipbc0592xy2\"><rect x=\"118\" y=\"383.726748971193\" width=\"602\" height=\"248.18600823045279\"/></clipPath><clipPath class=\"axesclip\" id=\"clipbc0592y3\"><rect x=\"0\" y=\"669.4534979423865\" width=\"750\" height=\"248.18600823045279\"/></clipPath><clipPath class=\"axesclip\" id=\"clipbc0592xy3\"><rect x=\"118\" y=\"669.4534979423865\" width=\"602\" height=\"248.18600823045279\"/></clipPath><clipPath class=\"axesclip\" id=\"clipbc0592y4\"><rect x=\"0\" y=\"955.1802469135802\" width=\"750\" height=\"248.18600823045279\"/></clipPath><clipPath class=\"axesclip\" id=\"clipbc0592xy4\"><rect x=\"118\" y=\"955.1802469135802\" width=\"602\" height=\"248.18600823045279\"/></clipPath><clipPath class=\"axesclip\" id=\"clipbc0592y5\"><rect x=\"0\" y=\"1240.9069958847736\" width=\"750\" height=\"248.18600823045279\"/></clipPath><clipPath class=\"axesclip\" id=\"clipbc0592xy5\"><rect x=\"118\" y=\"1240.9069958847736\" width=\"602\" height=\"248.18600823045279\"/></clipPath><clipPath class=\"axesclip\" id=\"clipbc0592y6\"><rect x=\"0\" y=\"1526.633744855967\" width=\"750\" height=\"248.18600823045264\"/></clipPath><clipPath class=\"axesclip\" id=\"clipbc0592xy6\"><rect x=\"118\" y=\"1526.633744855967\" width=\"602\" height=\"248.18600823045264\"/></clipPath><clipPath class=\"axesclip\" id=\"clipbc0592y7\"><rect x=\"0\" y=\"1812.3604938271603\" width=\"750\" height=\"248.18600823045264\"/></clipPath><clipPath class=\"axesclip\" id=\"clipbc0592xy7\"><rect x=\"118\" y=\"1812.3604938271603\" width=\"602\" height=\"248.18600823045264\"/></clipPath><clipPath class=\"axesclip\" id=\"clipbc0592y8\"><rect x=\"0\" y=\"2098.087242798354\" width=\"750\" height=\"248.18600823045264\"/></clipPath><clipPath class=\"axesclip\" id=\"clipbc0592xy8\"><rect x=\"118\" y=\"2098.087242798354\" width=\"602\" height=\"248.18600823045264\"/></clipPath><clipPath class=\"axesclip\" id=\"clipbc0592y9\"><rect x=\"0\" y=\"2383.813991769547\" width=\"750\" height=\"248.18600823045267\"/></clipPath><clipPath class=\"axesclip\" id=\"clipbc0592xy9\"><rect x=\"118\" y=\"2383.813991769547\" width=\"602\" height=\"248.18600823045267\"/></clipPath><clipPath class=\"axesclip\" id=\"clipbc0592x2\"><rect x=\"118\" y=\"0\" width=\"602\" height=\"2700\"/></clipPath><clipPath class=\"axesclip\" id=\"clipbc0592x2y\"><rect x=\"118\" y=\"98\" width=\"602\" height=\"248.1860082304525\"/></clipPath><clipPath class=\"axesclip\" id=\"clipbc0592x2y2\"><rect x=\"118\" y=\"383.726748971193\" width=\"602\" height=\"248.18600823045279\"/></clipPath><clipPath class=\"axesclip\" id=\"clipbc0592x2y3\"><rect x=\"118\" y=\"669.4534979423865\" width=\"602\" height=\"248.18600823045279\"/></clipPath><clipPath class=\"axesclip\" id=\"clipbc0592x2y4\"><rect x=\"118\" y=\"955.1802469135802\" width=\"602\" height=\"248.18600823045279\"/></clipPath><clipPath class=\"axesclip\" id=\"clipbc0592x2y5\"><rect x=\"118\" y=\"1240.9069958847736\" width=\"602\" height=\"248.18600823045279\"/></clipPath><clipPath class=\"axesclip\" id=\"clipbc0592x2y6\"><rect x=\"118\" y=\"1526.633744855967\" width=\"602\" height=\"248.18600823045264\"/></clipPath><clipPath class=\"axesclip\" id=\"clipbc0592x2y7\"><rect x=\"118\" y=\"1812.3604938271603\" width=\"602\" height=\"248.18600823045264\"/></clipPath><clipPath class=\"axesclip\" id=\"clipbc0592x2y8\"><rect x=\"118\" y=\"2098.087242798354\" width=\"602\" height=\"248.18600823045264\"/></clipPath><clipPath class=\"axesclip\" id=\"clipbc0592x2y9\"><rect x=\"118\" y=\"2383.813991769547\" width=\"602\" height=\"248.18600823045267\"/></clipPath><clipPath class=\"axesclip\" id=\"clipbc0592x3\"><rect x=\"118\" y=\"0\" width=\"602\" height=\"2700\"/></clipPath><clipPath class=\"axesclip\" id=\"clipbc0592x3y\"><rect x=\"118\" y=\"98\" width=\"602\" height=\"248.1860082304525\"/></clipPath><clipPath class=\"axesclip\" id=\"clipbc0592x3y2\"><rect x=\"118\" y=\"383.726748971193\" width=\"602\" height=\"248.18600823045279\"/></clipPath><clipPath class=\"axesclip\" id=\"clipbc0592x3y3\"><rect x=\"118\" y=\"669.4534979423865\" width=\"602\" height=\"248.18600823045279\"/></clipPath><clipPath class=\"axesclip\" id=\"clipbc0592x3y4\"><rect x=\"118\" y=\"955.1802469135802\" width=\"602\" height=\"248.18600823045279\"/></clipPath><clipPath class=\"axesclip\" id=\"clipbc0592x3y5\"><rect x=\"118\" y=\"1240.9069958847736\" width=\"602\" height=\"248.18600823045279\"/></clipPath><clipPath class=\"axesclip\" id=\"clipbc0592x3y6\"><rect x=\"118\" y=\"1526.633744855967\" width=\"602\" height=\"248.18600823045264\"/></clipPath><clipPath class=\"axesclip\" id=\"clipbc0592x3y7\"><rect x=\"118\" y=\"1812.3604938271603\" width=\"602\" height=\"248.18600823045264\"/></clipPath><clipPath class=\"axesclip\" id=\"clipbc0592x3y8\"><rect x=\"118\" y=\"2098.087242798354\" width=\"602\" height=\"248.18600823045264\"/></clipPath><clipPath class=\"axesclip\" id=\"clipbc0592x3y9\"><rect x=\"118\" y=\"2383.813991769547\" width=\"602\" height=\"248.18600823045267\"/></clipPath><clipPath class=\"axesclip\" id=\"clipbc0592x4\"><rect x=\"118\" y=\"0\" width=\"602\" height=\"2700\"/></clipPath><clipPath class=\"axesclip\" id=\"clipbc0592x4y\"><rect x=\"118\" y=\"98\" width=\"602\" height=\"248.1860082304525\"/></clipPath><clipPath class=\"axesclip\" id=\"clipbc0592x4y2\"><rect x=\"118\" y=\"383.726748971193\" width=\"602\" height=\"248.18600823045279\"/></clipPath><clipPath class=\"axesclip\" id=\"clipbc0592x4y3\"><rect x=\"118\" y=\"669.4534979423865\" width=\"602\" height=\"248.18600823045279\"/></clipPath><clipPath class=\"axesclip\" id=\"clipbc0592x4y4\"><rect x=\"118\" y=\"955.1802469135802\" width=\"602\" height=\"248.18600823045279\"/></clipPath><clipPath class=\"axesclip\" id=\"clipbc0592x4y5\"><rect x=\"118\" y=\"1240.9069958847736\" width=\"602\" height=\"248.18600823045279\"/></clipPath><clipPath class=\"axesclip\" id=\"clipbc0592x4y6\"><rect x=\"118\" y=\"1526.633744855967\" width=\"602\" height=\"248.18600823045264\"/></clipPath><clipPath class=\"axesclip\" id=\"clipbc0592x4y7\"><rect x=\"118\" y=\"1812.3604938271603\" width=\"602\" height=\"248.18600823045264\"/></clipPath><clipPath class=\"axesclip\" id=\"clipbc0592x4y8\"><rect x=\"118\" y=\"2098.087242798354\" width=\"602\" height=\"248.18600823045264\"/></clipPath><clipPath class=\"axesclip\" id=\"clipbc0592x4y9\"><rect x=\"118\" y=\"2383.813991769547\" width=\"602\" height=\"248.18600823045267\"/></clipPath><clipPath class=\"axesclip\" id=\"clipbc0592x5\"><rect x=\"118\" y=\"0\" width=\"602\" height=\"2700\"/></clipPath><clipPath class=\"axesclip\" id=\"clipbc0592x5y\"><rect x=\"118\" y=\"98\" width=\"602\" height=\"248.1860082304525\"/></clipPath><clipPath class=\"axesclip\" id=\"clipbc0592x5y2\"><rect x=\"118\" y=\"383.726748971193\" width=\"602\" height=\"248.18600823045279\"/></clipPath><clipPath class=\"axesclip\" id=\"clipbc0592x5y3\"><rect x=\"118\" y=\"669.4534979423865\" width=\"602\" height=\"248.18600823045279\"/></clipPath><clipPath class=\"axesclip\" id=\"clipbc0592x5y4\"><rect x=\"118\" y=\"955.1802469135802\" width=\"602\" height=\"248.18600823045279\"/></clipPath><clipPath class=\"axesclip\" id=\"clipbc0592x5y5\"><rect x=\"118\" y=\"1240.9069958847736\" width=\"602\" height=\"248.18600823045279\"/></clipPath><clipPath class=\"axesclip\" id=\"clipbc0592x5y6\"><rect x=\"118\" y=\"1526.633744855967\" width=\"602\" height=\"248.18600823045264\"/></clipPath><clipPath class=\"axesclip\" id=\"clipbc0592x5y7\"><rect x=\"118\" y=\"1812.3604938271603\" width=\"602\" height=\"248.18600823045264\"/></clipPath><clipPath class=\"axesclip\" id=\"clipbc0592x5y8\"><rect x=\"118\" y=\"2098.087242798354\" width=\"602\" height=\"248.18600823045264\"/></clipPath><clipPath class=\"axesclip\" id=\"clipbc0592x5y9\"><rect x=\"118\" y=\"2383.813991769547\" width=\"602\" height=\"248.18600823045267\"/></clipPath><clipPath class=\"axesclip\" id=\"clipbc0592x6\"><rect x=\"118\" y=\"0\" width=\"602\" height=\"2700\"/></clipPath><clipPath class=\"axesclip\" id=\"clipbc0592x6y\"><rect x=\"118\" y=\"98\" width=\"602\" height=\"248.1860082304525\"/></clipPath><clipPath class=\"axesclip\" id=\"clipbc0592x6y2\"><rect x=\"118\" y=\"383.726748971193\" width=\"602\" height=\"248.18600823045279\"/></clipPath><clipPath class=\"axesclip\" id=\"clipbc0592x6y3\"><rect x=\"118\" y=\"669.4534979423865\" width=\"602\" height=\"248.18600823045279\"/></clipPath><clipPath class=\"axesclip\" id=\"clipbc0592x6y4\"><rect x=\"118\" y=\"955.1802469135802\" width=\"602\" height=\"248.18600823045279\"/></clipPath><clipPath class=\"axesclip\" id=\"clipbc0592x6y5\"><rect x=\"118\" y=\"1240.9069958847736\" width=\"602\" height=\"248.18600823045279\"/></clipPath><clipPath class=\"axesclip\" id=\"clipbc0592x6y6\"><rect x=\"118\" y=\"1526.633744855967\" width=\"602\" height=\"248.18600823045264\"/></clipPath><clipPath class=\"axesclip\" id=\"clipbc0592x6y7\"><rect x=\"118\" y=\"1812.3604938271603\" width=\"602\" height=\"248.18600823045264\"/></clipPath><clipPath class=\"axesclip\" id=\"clipbc0592x6y8\"><rect x=\"118\" y=\"2098.087242798354\" width=\"602\" height=\"248.18600823045264\"/></clipPath><clipPath class=\"axesclip\" id=\"clipbc0592x6y9\"><rect x=\"118\" y=\"2383.813991769547\" width=\"602\" height=\"248.18600823045267\"/></clipPath><clipPath class=\"axesclip\" id=\"clipbc0592x7\"><rect x=\"118\" y=\"0\" width=\"602\" height=\"2700\"/></clipPath><clipPath class=\"axesclip\" id=\"clipbc0592x7y\"><rect x=\"118\" y=\"98\" width=\"602\" height=\"248.1860082304525\"/></clipPath><clipPath class=\"axesclip\" id=\"clipbc0592x7y2\"><rect x=\"118\" y=\"383.726748971193\" width=\"602\" height=\"248.18600823045279\"/></clipPath><clipPath class=\"axesclip\" id=\"clipbc0592x7y3\"><rect x=\"118\" y=\"669.4534979423865\" width=\"602\" height=\"248.18600823045279\"/></clipPath><clipPath class=\"axesclip\" id=\"clipbc0592x7y4\"><rect x=\"118\" y=\"955.1802469135802\" width=\"602\" height=\"248.18600823045279\"/></clipPath><clipPath class=\"axesclip\" id=\"clipbc0592x7y5\"><rect x=\"118\" y=\"1240.9069958847736\" width=\"602\" height=\"248.18600823045279\"/></clipPath><clipPath class=\"axesclip\" id=\"clipbc0592x7y6\"><rect x=\"118\" y=\"1526.633744855967\" width=\"602\" height=\"248.18600823045264\"/></clipPath><clipPath class=\"axesclip\" id=\"clipbc0592x7y7\"><rect x=\"118\" y=\"1812.3604938271603\" width=\"602\" height=\"248.18600823045264\"/></clipPath><clipPath class=\"axesclip\" id=\"clipbc0592x7y8\"><rect x=\"118\" y=\"2098.087242798354\" width=\"602\" height=\"248.18600823045264\"/></clipPath><clipPath class=\"axesclip\" id=\"clipbc0592x7y9\"><rect x=\"118\" y=\"2383.813991769547\" width=\"602\" height=\"248.18600823045267\"/></clipPath><clipPath class=\"axesclip\" id=\"clipbc0592x8\"><rect x=\"118\" y=\"0\" width=\"602\" height=\"2700\"/></clipPath><clipPath class=\"axesclip\" id=\"clipbc0592x8y\"><rect x=\"118\" y=\"98\" width=\"602\" height=\"248.1860082304525\"/></clipPath><clipPath class=\"axesclip\" id=\"clipbc0592x8y2\"><rect x=\"118\" y=\"383.726748971193\" width=\"602\" height=\"248.18600823045279\"/></clipPath><clipPath class=\"axesclip\" id=\"clipbc0592x8y3\"><rect x=\"118\" y=\"669.4534979423865\" width=\"602\" height=\"248.18600823045279\"/></clipPath><clipPath class=\"axesclip\" id=\"clipbc0592x8y4\"><rect x=\"118\" y=\"955.1802469135802\" width=\"602\" height=\"248.18600823045279\"/></clipPath><clipPath class=\"axesclip\" id=\"clipbc0592x8y5\"><rect x=\"118\" y=\"1240.9069958847736\" width=\"602\" height=\"248.18600823045279\"/></clipPath><clipPath class=\"axesclip\" id=\"clipbc0592x8y6\"><rect x=\"118\" y=\"1526.633744855967\" width=\"602\" height=\"248.18600823045264\"/></clipPath><clipPath class=\"axesclip\" id=\"clipbc0592x8y7\"><rect x=\"118\" y=\"1812.3604938271603\" width=\"602\" height=\"248.18600823045264\"/></clipPath><clipPath class=\"axesclip\" id=\"clipbc0592x8y8\"><rect x=\"118\" y=\"2098.087242798354\" width=\"602\" height=\"248.18600823045264\"/></clipPath><clipPath class=\"axesclip\" id=\"clipbc0592x8y9\"><rect x=\"118\" y=\"2383.813991769547\" width=\"602\" height=\"248.18600823045267\"/></clipPath><clipPath class=\"axesclip\" id=\"clipbc0592x9\"><rect x=\"118\" y=\"0\" width=\"602\" height=\"2700\"/></clipPath><clipPath class=\"axesclip\" id=\"clipbc0592x9y\"><rect x=\"118\" y=\"98\" width=\"602\" height=\"248.1860082304525\"/></clipPath><clipPath class=\"axesclip\" id=\"clipbc0592x9y2\"><rect x=\"118\" y=\"383.726748971193\" width=\"602\" height=\"248.18600823045279\"/></clipPath><clipPath class=\"axesclip\" id=\"clipbc0592x9y3\"><rect x=\"118\" y=\"669.4534979423865\" width=\"602\" height=\"248.18600823045279\"/></clipPath><clipPath class=\"axesclip\" id=\"clipbc0592x9y4\"><rect x=\"118\" y=\"955.1802469135802\" width=\"602\" height=\"248.18600823045279\"/></clipPath><clipPath class=\"axesclip\" id=\"clipbc0592x9y5\"><rect x=\"118\" y=\"1240.9069958847736\" width=\"602\" height=\"248.18600823045279\"/></clipPath><clipPath class=\"axesclip\" id=\"clipbc0592x9y6\"><rect x=\"118\" y=\"1526.633744855967\" width=\"602\" height=\"248.18600823045264\"/></clipPath><clipPath class=\"axesclip\" id=\"clipbc0592x9y7\"><rect x=\"118\" y=\"1812.3604938271603\" width=\"602\" height=\"248.18600823045264\"/></clipPath><clipPath class=\"axesclip\" id=\"clipbc0592x9y8\"><rect x=\"118\" y=\"2098.087242798354\" width=\"602\" height=\"248.18600823045264\"/></clipPath><clipPath class=\"axesclip\" id=\"clipbc0592x9y9\"><rect x=\"118\" y=\"2383.813991769547\" width=\"602\" height=\"248.18600823045267\"/></clipPath></g><g class=\"gradients\"/><g class=\"patterns\"/></defs><g class=\"bglayer\"><rect class=\"bg\" x=\"118\" y=\"98\" width=\"602\" height=\"248.1860082304525\" style=\"fill: rgb(229, 236, 246); fill-opacity: 1; stroke-width: 0;\"/><rect class=\"bg\" x=\"118\" y=\"383.726748971193\" width=\"602\" height=\"248.18600823045279\" style=\"fill: rgb(229, 236, 246); fill-opacity: 1; stroke-width: 0;\"/><rect class=\"bg\" x=\"118\" y=\"669.4534979423865\" width=\"602\" height=\"248.18600823045279\" style=\"fill: rgb(229, 236, 246); fill-opacity: 1; stroke-width: 0;\"/><rect class=\"bg\" x=\"118\" y=\"955.1802469135802\" width=\"602\" height=\"248.18600823045279\" style=\"fill: rgb(229, 236, 246); fill-opacity: 1; stroke-width: 0;\"/><rect class=\"bg\" x=\"118\" y=\"1240.9069958847736\" width=\"602\" height=\"248.18600823045279\" style=\"fill: rgb(229, 236, 246); fill-opacity: 1; stroke-width: 0;\"/><rect class=\"bg\" x=\"118\" y=\"1526.633744855967\" width=\"602\" height=\"248.18600823045264\" style=\"fill: rgb(229, 236, 246); fill-opacity: 1; stroke-width: 0;\"/><rect class=\"bg\" x=\"118\" y=\"1812.3604938271603\" width=\"602\" height=\"248.18600823045264\" style=\"fill: rgb(229, 236, 246); fill-opacity: 1; stroke-width: 0;\"/><rect class=\"bg\" x=\"118\" y=\"2098.087242798354\" width=\"602\" height=\"248.18600823045264\" style=\"fill: rgb(229, 236, 246); fill-opacity: 1; stroke-width: 0;\"/><rect class=\"bg\" x=\"118\" y=\"2383.813991769547\" width=\"602\" height=\"248.18600823045267\" style=\"fill: rgb(229, 236, 246); fill-opacity: 1; stroke-width: 0;\"/></g><g class=\"layer-below\"><g class=\"imagelayer\"/><g class=\"shapelayer\"><path data-index=\"5\" fill-rule=\"evenodd\" d=\"M151.92000000000002,1774.8197530864195H686.08V1526.633744855967H151.92000000000002Z\" clip-path=\"url(#clipbc0592x6)\" style=\"opacity: 0.2; stroke: rgb(0, 0, 0); stroke-opacity: 0; fill: rgb(255, 165, 0); fill-opacity: 1; stroke-width: 0px;\"/></g></g><g class=\"cartesianlayer\"><g class=\"subplot xy\"><g class=\"layer-subplot\"><g class=\"shapelayer\"/><g class=\"imagelayer\"/></g><g class=\"gridlayer\"><g class=\"x\"><path class=\"xgrid crisp\" transform=\"translate(151.92000000000002,0)\" d=\"M0,98v248.1860082304525\" style=\"stroke: rgb(255, 255, 255); stroke-opacity: 1; stroke-width: 1px;\"/><path class=\"xgrid crisp\" transform=\"translate(285.46000000000004,0)\" d=\"M0,98v248.1860082304525\" style=\"stroke: rgb(255, 255, 255); stroke-opacity: 1; stroke-width: 1px;\"/><path class=\"xgrid crisp\" transform=\"translate(419,0)\" d=\"M0,98v248.1860082304525\" style=\"stroke: rgb(255, 255, 255); stroke-opacity: 1; stroke-width: 1px;\"/><path class=\"xgrid crisp\" transform=\"translate(552.54,0)\" d=\"M0,98v248.1860082304525\" style=\"stroke: rgb(255, 255, 255); stroke-opacity: 1; stroke-width: 1px;\"/><path class=\"xgrid crisp\" transform=\"translate(686.08,0)\" d=\"M0,98v248.1860082304525\" style=\"stroke: rgb(255, 255, 255); stroke-opacity: 1; stroke-width: 1px;\"/></g><g class=\"y\"><path class=\"ygrid crisp\" transform=\"translate(0,328.78)\" d=\"M118,0h602\" style=\"stroke: rgb(255, 255, 255); stroke-opacity: 1; stroke-width: 1px;\"/><path class=\"ygrid crisp\" transform=\"translate(0,173.26999999999998)\" d=\"M118,0h602\" style=\"stroke: rgb(255, 255, 255); stroke-opacity: 1; stroke-width: 1px;\"/></g></g><g class=\"zerolinelayer\"><path class=\"yzl zl crisp\" transform=\"translate(0,251.02)\" d=\"M118,0h602\" style=\"stroke: rgb(255, 255, 255); stroke-opacity: 1; stroke-width: 2px;\"/></g><path class=\"xlines-below\"/><path class=\"ylines-below\"/><g class=\"overlines-below\"/><g class=\"xaxislayer-below\"/><g class=\"yaxislayer-below\"/><g class=\"overaxes-below\"/><g class=\"plot\" transform=\"translate(118,98)\" clip-path=\"url(#clipbc0592xyplot)\"><g class=\"scatterlayer mlayer\"><g class=\"trace scatter traceb49e7f95-f118-411e-95f8-f99dd8d288b9\" style=\"stroke-miterlimit: 2; opacity: 1;\"><g class=\"fills\"/><g class=\"errorbars\"/><g class=\"lines\"><path class=\"js-line\" d=\"M33.92,16.16L167.46,185.37L301,122.85L434.54,232.03L568.08,215.23\" style=\"vector-effect: non-scaling-stroke; fill: none; stroke: rgb(44, 160, 44); stroke-opacity: 1; stroke-width: 2px; opacity: 1;\"/></g><g class=\"points\"><path class=\"point\" transform=\"translate(33.92,16.16)\" d=\"M3,0A3,3 0 1,1 0,-3A3,3 0 0,1 3,0Z\" style=\"opacity: 1; stroke-width: 0px; fill: rgb(44, 160, 44); fill-opacity: 1;\"/><path class=\"point\" transform=\"translate(167.46,185.37)\" d=\"M3,0A3,3 0 1,1 0,-3A3,3 0 0,1 3,0Z\" style=\"opacity: 1; stroke-width: 0px; fill: rgb(44, 160, 44); fill-opacity: 1;\"/><path class=\"point\" transform=\"translate(301,122.85)\" d=\"M3,0A3,3 0 1,1 0,-3A3,3 0 0,1 3,0Z\" style=\"opacity: 1; stroke-width: 0px; fill: rgb(44, 160, 44); fill-opacity: 1;\"/><path class=\"point\" transform=\"translate(434.54,232.03)\" d=\"M3,0A3,3 0 1,1 0,-3A3,3 0 0,1 3,0Z\" style=\"opacity: 1; stroke-width: 0px; fill: rgb(44, 160, 44); fill-opacity: 1;\"/><path class=\"point\" transform=\"translate(568.08,215.23)\" d=\"M3,0A3,3 0 1,1 0,-3A3,3 0 0,1 3,0Z\" style=\"opacity: 1; stroke-width: 0px; fill: rgb(44, 160, 44); fill-opacity: 1;\"/></g><g class=\"text\"/></g></g></g><g class=\"overplot\"/><path class=\"xlines-above crisp\" d=\"M0,0\" style=\"fill: none;\"/><path class=\"ylines-above crisp\" d=\"M0,0\" style=\"fill: none;\"/><g class=\"overlines-above\"/><g class=\"xaxislayer-above\"/><g class=\"yaxislayer-above\"><g class=\"ytick\"><text text-anchor=\"end\" x=\"117\" y=\"4.199999999999999\" transform=\"translate(0,328.78)\" style=\"font-family: 'Open Sans', verdana, arial, sans-serif; font-size: 12px; fill: rgb(42, 63, 95); fill-opacity: 1; white-space: pre; opacity: 1;\">−0.5</text></g><g class=\"ytick\"><text text-anchor=\"end\" x=\"117\" y=\"4.199999999999999\" style=\"font-family: 'Open Sans', verdana, arial, sans-serif; font-size: 12px; fill: rgb(42, 63, 95); fill-opacity: 1; white-space: pre; opacity: 1;\" transform=\"translate(0,251.02)\">0</text></g><g class=\"ytick\"><text text-anchor=\"end\" x=\"117\" y=\"4.199999999999999\" style=\"font-family: 'Open Sans', verdana, arial, sans-serif; font-size: 12px; fill: rgb(42, 63, 95); fill-opacity: 1; white-space: pre; opacity: 1;\" transform=\"translate(0,173.26999999999998)\">0.5</text></g></g><g class=\"overaxes-above\"/></g><g class=\"subplot x2y2\"><g class=\"layer-subplot\"><g class=\"shapelayer\"/><g class=\"imagelayer\"/></g><g class=\"gridlayer\"><g class=\"x2\"><path class=\"x2grid crisp\" transform=\"translate(151.92000000000002,0)\" d=\"M0,383.726748971193v248.18600823045279\" style=\"stroke: rgb(255, 255, 255); stroke-opacity: 1; stroke-width: 1px;\"/><path class=\"x2grid crisp\" transform=\"translate(285.46000000000004,0)\" d=\"M0,383.726748971193v248.18600823045279\" style=\"stroke: rgb(255, 255, 255); stroke-opacity: 1; stroke-width: 1px;\"/><path class=\"x2grid crisp\" transform=\"translate(419,0)\" d=\"M0,383.726748971193v248.18600823045279\" style=\"stroke: rgb(255, 255, 255); stroke-opacity: 1; stroke-width: 1px;\"/><path class=\"x2grid crisp\" transform=\"translate(552.54,0)\" d=\"M0,383.726748971193v248.18600823045279\" style=\"stroke: rgb(255, 255, 255); stroke-opacity: 1; stroke-width: 1px;\"/><path class=\"x2grid crisp\" transform=\"translate(686.08,0)\" d=\"M0,383.726748971193v248.18600823045279\" style=\"stroke: rgb(255, 255, 255); stroke-opacity: 1; stroke-width: 1px;\"/></g><g class=\"y2\"><path class=\"y2grid crisp\" transform=\"translate(0,605.936748971193)\" d=\"M118,0h602\" style=\"stroke: rgb(255, 255, 255); stroke-opacity: 1; stroke-width: 1px;\"/><path class=\"y2grid crisp\" transform=\"translate(0,559.1167489711929)\" d=\"M118,0h602\" style=\"stroke: rgb(255, 255, 255); stroke-opacity: 1; stroke-width: 1px;\"/><path class=\"y2grid crisp\" transform=\"translate(0,512.286748971193)\" d=\"M118,0h602\" style=\"stroke: rgb(255, 255, 255); stroke-opacity: 1; stroke-width: 1px;\"/><path class=\"y2grid crisp\" transform=\"translate(0,465.466748971193)\" d=\"M118,0h602\" style=\"stroke: rgb(255, 255, 255); stroke-opacity: 1; stroke-width: 1px;\"/><path class=\"y2grid crisp\" transform=\"translate(0,418.636748971193)\" d=\"M118,0h602\" style=\"stroke: rgb(255, 255, 255); stroke-opacity: 1; stroke-width: 1px;\"/></g></g><g class=\"zerolinelayer\"/><path class=\"xlines-below\"/><path class=\"ylines-below\"/><g class=\"overlines-below\"/><g class=\"xaxislayer-below\"/><g class=\"yaxislayer-below\"/><g class=\"overaxes-below\"/><g class=\"plot\" transform=\"translate(118,383.726748971193)\" clip-path=\"url(#clipbc0592x2y2plot)\"><g class=\"scatterlayer mlayer\"><g class=\"trace scatter traceec59c297-7b96-44ff-bb32-f61ad2514f96\" style=\"stroke-miterlimit: 2;\"><g class=\"fills\"><g><path class=\"js-fill\" d=\"M33.92,16.16L167.46,64.86L301,19.43L434.54,138.38L568.08,222.21L568.08,222.21L33.92,222.21Z\" style=\"fill: rgb(44, 160, 44); fill-opacity: 0.3; stroke-width: 0;\"/></g></g><g class=\"errorbars\"/><g class=\"lines\"><path class=\"js-line\" d=\"M33.92,222.21L568.08,222.21\" style=\"vector-effect: non-scaling-stroke; fill: none; stroke: rgb(0, 0, 0); stroke-opacity: 0; stroke-width: 0px; opacity: 1;\"/></g><g class=\"points\"><path class=\"point\" transform=\"translate(33.92,222.21)\" d=\"M3,0A3,3 0 1,1 0,-3A3,3 0 0,1 3,0Z\" style=\"opacity: 1; stroke-width: 0px; fill: rgb(0, 0, 0); fill-opacity: 0;\"/><path class=\"point\" transform=\"translate(167.46,222.21)\" d=\"M3,0A3,3 0 1,1 0,-3A3,3 0 0,1 3,0Z\" style=\"opacity: 1; stroke-width: 0px; fill: rgb(0, 0, 0); fill-opacity: 0;\"/><path class=\"point\" transform=\"translate(301,222.21)\" d=\"M3,0A3,3 0 1,1 0,-3A3,3 0 0,1 3,0Z\" style=\"opacity: 1; stroke-width: 0px; fill: rgb(0, 0, 0); fill-opacity: 0;\"/><path class=\"point\" transform=\"translate(434.54,222.21)\" d=\"M3,0A3,3 0 1,1 0,-3A3,3 0 0,1 3,0Z\" style=\"opacity: 1; stroke-width: 0px; fill: rgb(0, 0, 0); fill-opacity: 0;\"/><path class=\"point\" transform=\"translate(568.08,222.21)\" d=\"M3,0A3,3 0 1,1 0,-3A3,3 0 0,1 3,0Z\" style=\"opacity: 1; stroke-width: 0px; fill: rgb(0, 0, 0); fill-opacity: 0;\"/></g><g class=\"text\"/></g><g class=\"trace scatter trace0bd1b8fd-9f80-47eb-9bc5-0756c258c5ce\" style=\"stroke-miterlimit: 2;\"><g class=\"fills\"/><g class=\"errorbars\"/><g class=\"lines\"><path class=\"js-line\" d=\"M33.92,16.16L167.46,64.86L301,19.43L434.54,138.38L568.08,222.21\" style=\"vector-effect: non-scaling-stroke; fill: none; stroke: rgb(0, 0, 0); stroke-opacity: 0; stroke-width: 0px; opacity: 1;\"/></g><g class=\"points\"><path class=\"point\" transform=\"translate(33.92,16.16)\" d=\"M3,0A3,3 0 1,1 0,-3A3,3 0 0,1 3,0Z\" style=\"opacity: 1; stroke-width: 0px; fill: rgb(0, 0, 0); fill-opacity: 0;\"/><path class=\"point\" transform=\"translate(167.46,64.86)\" d=\"M3,0A3,3 0 1,1 0,-3A3,3 0 0,1 3,0Z\" style=\"opacity: 1; stroke-width: 0px; fill: rgb(0, 0, 0); fill-opacity: 0;\"/><path class=\"point\" transform=\"translate(301,19.43)\" d=\"M3,0A3,3 0 1,1 0,-3A3,3 0 0,1 3,0Z\" style=\"opacity: 1; stroke-width: 0px; fill: rgb(0, 0, 0); fill-opacity: 0;\"/><path class=\"point\" transform=\"translate(434.54,138.38)\" d=\"M3,0A3,3 0 1,1 0,-3A3,3 0 0,1 3,0Z\" style=\"opacity: 1; stroke-width: 0px; fill: rgb(0, 0, 0); fill-opacity: 0;\"/><path class=\"point\" transform=\"translate(568.08,222.21)\" d=\"M3,0A3,3 0 1,1 0,-3A3,3 0 0,1 3,0Z\" style=\"opacity: 1; stroke-width: 0px; fill: rgb(0, 0, 0); fill-opacity: 0;\"/></g><g class=\"text\"/></g><g class=\"trace scatter trace368f5f76-e5ac-453a-a9b6-6d308efde4f1\" style=\"stroke-miterlimit: 2;\"><g class=\"fills\"><g><path class=\"js-fill\" d=\"M33.92,222.21L434.54,222.21L568.08,232.03L568.08,222.21L33.92,222.21Z\" style=\"fill: rgb(220, 57, 18); fill-opacity: 0.3; stroke-width: 0;\"/></g></g><g class=\"errorbars\"/><g class=\"lines\"><path class=\"js-line\" d=\"M33.92,222.21L568.08,222.21\" style=\"vector-effect: non-scaling-stroke; fill: none; stroke: rgb(0, 0, 0); stroke-opacity: 0; stroke-width: 0px; opacity: 1;\"/></g><g class=\"points\"><path class=\"point\" transform=\"translate(33.92,222.21)\" d=\"M3,0A3,3 0 1,1 0,-3A3,3 0 0,1 3,0Z\" style=\"opacity: 1; stroke-width: 0px; fill: rgb(0, 0, 0); fill-opacity: 0;\"/><path class=\"point\" transform=\"translate(167.46,222.21)\" d=\"M3,0A3,3 0 1,1 0,-3A3,3 0 0,1 3,0Z\" style=\"opacity: 1; stroke-width: 0px; fill: rgb(0, 0, 0); fill-opacity: 0;\"/><path class=\"point\" transform=\"translate(301,222.21)\" d=\"M3,0A3,3 0 1,1 0,-3A3,3 0 0,1 3,0Z\" style=\"opacity: 1; stroke-width: 0px; fill: rgb(0, 0, 0); fill-opacity: 0;\"/><path class=\"point\" transform=\"translate(434.54,222.21)\" d=\"M3,0A3,3 0 1,1 0,-3A3,3 0 0,1 3,0Z\" style=\"opacity: 1; stroke-width: 0px; fill: rgb(0, 0, 0); fill-opacity: 0;\"/><path class=\"point\" transform=\"translate(568.08,222.21)\" d=\"M3,0A3,3 0 1,1 0,-3A3,3 0 0,1 3,0Z\" style=\"opacity: 1; stroke-width: 0px; fill: rgb(0, 0, 0); fill-opacity: 0;\"/></g><g class=\"text\"/></g><g class=\"trace scatter trace12a7bb21-ba51-488f-8efa-955226514b4d\" style=\"stroke-miterlimit: 2;\"><g class=\"fills\"/><g class=\"errorbars\"/><g class=\"lines\"><path class=\"js-line\" d=\"M33.92,222.21L434.54,222.21L568.08,232.03\" style=\"vector-effect: non-scaling-stroke; fill: none; stroke: rgb(0, 0, 0); stroke-opacity: 0; stroke-width: 0px; opacity: 1;\"/></g><g class=\"points\"><path class=\"point\" transform=\"translate(33.92,222.21)\" d=\"M3,0A3,3 0 1,1 0,-3A3,3 0 0,1 3,0Z\" style=\"opacity: 1; stroke-width: 0px; fill: rgb(0, 0, 0); fill-opacity: 0;\"/><path class=\"point\" transform=\"translate(167.46,222.21)\" d=\"M3,0A3,3 0 1,1 0,-3A3,3 0 0,1 3,0Z\" style=\"opacity: 1; stroke-width: 0px; fill: rgb(0, 0, 0); fill-opacity: 0;\"/><path class=\"point\" transform=\"translate(301,222.21)\" d=\"M3,0A3,3 0 1,1 0,-3A3,3 0 0,1 3,0Z\" style=\"opacity: 1; stroke-width: 0px; fill: rgb(0, 0, 0); fill-opacity: 0;\"/><path class=\"point\" transform=\"translate(434.54,222.21)\" d=\"M3,0A3,3 0 1,1 0,-3A3,3 0 0,1 3,0Z\" style=\"opacity: 1; stroke-width: 0px; fill: rgb(0, 0, 0); fill-opacity: 0;\"/><path class=\"point\" transform=\"translate(568.08,232.03)\" d=\"M3,0A3,3 0 1,1 0,-3A3,3 0 0,1 3,0Z\" style=\"opacity: 1; stroke-width: 0px; fill: rgb(0, 0, 0); fill-opacity: 0;\"/></g><g class=\"text\"/></g><g class=\"trace scatter trace3eae3630-0f1c-4bff-a271-b237e661934c\" style=\"stroke-miterlimit: 2; opacity: 1;\"><g class=\"fills\"/><g class=\"errorbars\"/><g class=\"lines\"><path class=\"js-line\" d=\"M33.92,16.16L167.46,64.86L301,19.43L434.54,138.38L568.08,232.03\" style=\"vector-effect: non-scaling-stroke; fill: none; stroke: rgb(44, 160, 44); stroke-opacity: 1; stroke-width: 2px; opacity: 1;\"/></g><g class=\"points\"><path class=\"point\" transform=\"translate(33.92,16.16)\" d=\"M3,0A3,3 0 1,1 0,-3A3,3 0 0,1 3,0Z\" style=\"opacity: 1; stroke-width: 0px; fill: rgb(44, 160, 44); fill-opacity: 1;\"/><path class=\"point\" transform=\"translate(167.46,64.86)\" d=\"M3,0A3,3 0 1,1 0,-3A3,3 0 0,1 3,0Z\" style=\"opacity: 1; stroke-width: 0px; fill: rgb(44, 160, 44); fill-opacity: 1;\"/><path class=\"point\" transform=\"translate(301,19.43)\" d=\"M3,0A3,3 0 1,1 0,-3A3,3 0 0,1 3,0Z\" style=\"opacity: 1; stroke-width: 0px; fill: rgb(44, 160, 44); fill-opacity: 1;\"/><path class=\"point\" transform=\"translate(434.54,138.38)\" d=\"M3,0A3,3 0 1,1 0,-3A3,3 0 0,1 3,0Z\" style=\"opacity: 1; stroke-width: 0px; fill: rgb(44, 160, 44); fill-opacity: 1;\"/><path class=\"point\" transform=\"translate(568.08,232.03)\" d=\"M3,0A3,3 0 1,1 0,-3A3,3 0 0,1 3,0Z\" style=\"opacity: 1; stroke-width: 0px; fill: rgb(44, 160, 44); fill-opacity: 1;\"/></g><g class=\"text\"/></g><g class=\"trace scatter trace10b2d16c-7b6e-4689-bd67-907c194f2da2\" style=\"stroke-miterlimit: 2; opacity: 0;\"><g class=\"fills\"/><g class=\"errorbars\"/><g class=\"lines\"><path class=\"js-line\" d=\"M33.92,222.21L568.08,222.21\" style=\"vector-effect: non-scaling-stroke; fill: none; stroke: rgb(0, 0, 0); stroke-opacity: 0; stroke-width: 0px; opacity: 1;\"/></g><g class=\"points\"><path class=\"point\" transform=\"translate(33.92,222.21)\" d=\"M3,0A3,3 0 1,1 0,-3A3,3 0 0,1 3,0Z\" style=\"opacity: 1; stroke-width: 0px; fill: rgb(0, 0, 0); fill-opacity: 0;\"/><path class=\"point\" transform=\"translate(167.46,222.21)\" d=\"M3,0A3,3 0 1,1 0,-3A3,3 0 0,1 3,0Z\" style=\"opacity: 1; stroke-width: 0px; fill: rgb(0, 0, 0); fill-opacity: 0;\"/><path class=\"point\" transform=\"translate(301,222.21)\" d=\"M3,0A3,3 0 1,1 0,-3A3,3 0 0,1 3,0Z\" style=\"opacity: 1; stroke-width: 0px; fill: rgb(0, 0, 0); fill-opacity: 0;\"/><path class=\"point\" transform=\"translate(434.54,222.21)\" d=\"M3,0A3,3 0 1,1 0,-3A3,3 0 0,1 3,0Z\" style=\"opacity: 1; stroke-width: 0px; fill: rgb(0, 0, 0); fill-opacity: 0;\"/><path class=\"point\" transform=\"translate(568.08,222.21)\" d=\"M3,0A3,3 0 1,1 0,-3A3,3 0 0,1 3,0Z\" style=\"opacity: 1; stroke-width: 0px; fill: rgb(0, 0, 0); fill-opacity: 0;\"/></g><g class=\"text\"/></g></g></g><g class=\"overplot\"/><path class=\"xlines-above crisp\" d=\"M0,0\" style=\"fill: none;\"/><path class=\"ylines-above crisp\" d=\"M0,0\" style=\"fill: none;\"/><g class=\"overlines-above\"/><g class=\"xaxislayer-above\"/><g class=\"yaxislayer-above\"><g class=\"y2tick\"><text text-anchor=\"end\" x=\"117\" y=\"4.199999999999999\" transform=\"translate(0,605.936748971193)\" style=\"font-family: 'Open Sans', verdana, arial, sans-serif; font-size: 12px; fill: rgb(42, 63, 95); fill-opacity: 1; white-space: pre; opacity: 1;\">200</text></g><g class=\"y2tick\"><text text-anchor=\"end\" x=\"117\" y=\"4.199999999999999\" style=\"font-family: 'Open Sans', verdana, arial, sans-serif; font-size: 12px; fill: rgb(42, 63, 95); fill-opacity: 1; white-space: pre; opacity: 1;\" transform=\"translate(0,559.1167489711929)\">200.2</text></g><g class=\"y2tick\"><text text-anchor=\"end\" x=\"117\" y=\"4.199999999999999\" style=\"font-family: 'Open Sans', verdana, arial, sans-serif; font-size: 12px; fill: rgb(42, 63, 95); fill-opacity: 1; white-space: pre; opacity: 1;\" transform=\"translate(0,512.286748971193)\">200.4</text></g><g class=\"y2tick\"><text text-anchor=\"end\" x=\"117\" y=\"4.199999999999999\" style=\"font-family: 'Open Sans', verdana, arial, sans-serif; font-size: 12px; fill: rgb(42, 63, 95); fill-opacity: 1; white-space: pre; opacity: 1;\" transform=\"translate(0,465.466748971193)\">200.6</text></g><g class=\"y2tick\"><text text-anchor=\"end\" x=\"117\" y=\"4.199999999999999\" style=\"font-family: 'Open Sans', verdana, arial, sans-serif; font-size: 12px; fill: rgb(42, 63, 95); fill-opacity: 1; white-space: pre; opacity: 1;\" transform=\"translate(0,418.636748971193)\">200.8</text></g></g><g class=\"overaxes-above\"/></g><g class=\"subplot x3y3\"><g class=\"layer-subplot\"><g class=\"shapelayer\"/><g class=\"imagelayer\"/></g><g class=\"gridlayer\"><g class=\"x3\"><path class=\"x3grid crisp\" transform=\"translate(151.92000000000002,0)\" d=\"M0,669.4534979423865v248.18600823045279\" style=\"stroke: rgb(255, 255, 255); stroke-opacity: 1; stroke-width: 1px;\"/><path class=\"x3grid crisp\" transform=\"translate(285.46000000000004,0)\" d=\"M0,669.4534979423865v248.18600823045279\" style=\"stroke: rgb(255, 255, 255); stroke-opacity: 1; stroke-width: 1px;\"/><path class=\"x3grid crisp\" transform=\"translate(419,0)\" d=\"M0,669.4534979423865v248.18600823045279\" style=\"stroke: rgb(255, 255, 255); stroke-opacity: 1; stroke-width: 1px;\"/><path class=\"x3grid crisp\" transform=\"translate(552.54,0)\" d=\"M0,669.4534979423865v248.18600823045279\" style=\"stroke: rgb(255, 255, 255); stroke-opacity: 1; stroke-width: 1px;\"/><path class=\"x3grid crisp\" transform=\"translate(686.08,0)\" d=\"M0,669.4534979423865v248.18600823045279\" style=\"stroke: rgb(255, 255, 255); stroke-opacity: 1; stroke-width: 1px;\"/></g><g class=\"y3\"><path class=\"y3grid crisp\" transform=\"translate(0,901.4834979423865)\" d=\"M118,0h602\" style=\"stroke: rgb(255, 255, 255); stroke-opacity: 1; stroke-width: 1px;\"/><path class=\"y3grid crisp\" transform=\"translate(0,858.3034979423866)\" d=\"M118,0h602\" style=\"stroke: rgb(255, 255, 255); stroke-opacity: 1; stroke-width: 1px;\"/><path class=\"y3grid crisp\" transform=\"translate(0,815.1334979423866)\" d=\"M118,0h602\" style=\"stroke: rgb(255, 255, 255); stroke-opacity: 1; stroke-width: 1px;\"/><path class=\"y3grid crisp\" transform=\"translate(0,771.9634979423865)\" d=\"M118,0h602\" style=\"stroke: rgb(255, 255, 255); stroke-opacity: 1; stroke-width: 1px;\"/><path class=\"y3grid crisp\" transform=\"translate(0,728.7834979423866)\" d=\"M118,0h602\" style=\"stroke: rgb(255, 255, 255); stroke-opacity: 1; stroke-width: 1px;\"/></g></g><g class=\"zerolinelayer\"><path class=\"y3zl zl crisp\" transform=\"translate(0,685.6134979423865)\" d=\"M118,0h602\" style=\"stroke: rgb(255, 255, 255); stroke-opacity: 1; stroke-width: 2px;\"/></g><path class=\"xlines-below\"/><path class=\"ylines-below\"/><g class=\"overlines-below\"/><g class=\"xaxislayer-below\"/><g class=\"yaxislayer-below\"/><g class=\"overaxes-below\"/><g class=\"plot\" transform=\"translate(118,669.4534979423865)\" clip-path=\"url(#clipbc0592x3y3plot)\"><g class=\"scatterlayer mlayer\"><g class=\"trace scatter trace6a871621-b4e6-48b3-817f-ba4cae4f3a0d\" style=\"stroke-miterlimit: 2;\"><g class=\"fills\"><g><path class=\"js-fill\" d=\"M33.92,59.33L167.46,102.51L301,111.14L434.54,188.85L568.08,232.03L568.08,16.16L33.92,16.16Z\" style=\"fill: rgb(255, 127, 14); fill-opacity: 0.3; stroke-width: 0;\"/></g></g><g class=\"errorbars\"/><g class=\"lines\"><path class=\"js-line\" d=\"M33.92,16.16L568.08,16.16\" style=\"vector-effect: non-scaling-stroke; fill: none; stroke: rgb(0, 0, 0); stroke-opacity: 0; stroke-width: 0px; opacity: 1;\"/></g><g class=\"points\"><path class=\"point\" transform=\"translate(33.92,16.16)\" d=\"M3,0A3,3 0 1,1 0,-3A3,3 0 0,1 3,0Z\" style=\"opacity: 1; stroke-width: 0px; fill: rgb(0, 0, 0); fill-opacity: 0;\"/><path class=\"point\" transform=\"translate(167.46,16.16)\" d=\"M3,0A3,3 0 1,1 0,-3A3,3 0 0,1 3,0Z\" style=\"opacity: 1; stroke-width: 0px; fill: rgb(0, 0, 0); fill-opacity: 0;\"/><path class=\"point\" transform=\"translate(301,16.16)\" d=\"M3,0A3,3 0 1,1 0,-3A3,3 0 0,1 3,0Z\" style=\"opacity: 1; stroke-width: 0px; fill: rgb(0, 0, 0); fill-opacity: 0;\"/><path class=\"point\" transform=\"translate(434.54,16.16)\" d=\"M3,0A3,3 0 1,1 0,-3A3,3 0 0,1 3,0Z\" style=\"opacity: 1; stroke-width: 0px; fill: rgb(0, 0, 0); fill-opacity: 0;\"/><path class=\"point\" transform=\"translate(568.08,16.16)\" d=\"M3,0A3,3 0 1,1 0,-3A3,3 0 0,1 3,0Z\" style=\"opacity: 1; stroke-width: 0px; fill: rgb(0, 0, 0); fill-opacity: 0;\"/></g><g class=\"text\"/></g><g class=\"trace scatter trace9d474af0-e670-4bf3-99ab-4470078ec5df\" style=\"stroke-miterlimit: 2;\"><g class=\"fills\"/><g class=\"errorbars\"/><g class=\"lines\"><path class=\"js-line\" d=\"M33.92,59.33L167.46,102.51L301,111.14L434.54,188.85L568.08,232.03\" style=\"vector-effect: non-scaling-stroke; fill: none; stroke: rgb(0, 0, 0); stroke-opacity: 0; stroke-width: 0px; opacity: 1;\"/></g><g class=\"points\"><path class=\"point\" transform=\"translate(33.92,59.33)\" d=\"M3,0A3,3 0 1,1 0,-3A3,3 0 0,1 3,0Z\" style=\"opacity: 1; stroke-width: 0px; fill: rgb(0, 0, 0); fill-opacity: 0;\"/><path class=\"point\" transform=\"translate(167.46,102.51)\" d=\"M3,0A3,3 0 1,1 0,-3A3,3 0 0,1 3,0Z\" style=\"opacity: 1; stroke-width: 0px; fill: rgb(0, 0, 0); fill-opacity: 0;\"/><path class=\"point\" transform=\"translate(301,111.14)\" d=\"M3,0A3,3 0 1,1 0,-3A3,3 0 0,1 3,0Z\" style=\"opacity: 1; stroke-width: 0px; fill: rgb(0, 0, 0); fill-opacity: 0;\"/><path class=\"point\" transform=\"translate(434.54,188.85)\" d=\"M3,0A3,3 0 1,1 0,-3A3,3 0 0,1 3,0Z\" style=\"opacity: 1; stroke-width: 0px; fill: rgb(0, 0, 0); fill-opacity: 0;\"/><path class=\"point\" transform=\"translate(568.08,232.03)\" d=\"M3,0A3,3 0 1,1 0,-3A3,3 0 0,1 3,0Z\" style=\"opacity: 1; stroke-width: 0px; fill: rgb(0, 0, 0); fill-opacity: 0;\"/></g><g class=\"text\"/></g><g class=\"trace scatter tracec46846c2-9cfb-47bd-ba8b-fce38489d65f\" style=\"stroke-miterlimit: 2; opacity: 1;\"><g class=\"fills\"/><g class=\"errorbars\"/><g class=\"lines\"><path class=\"js-line\" d=\"M33.92,59.33L167.46,102.51L301,111.14L434.54,188.85L568.08,232.03\" style=\"vector-effect: non-scaling-stroke; fill: none; stroke: rgb(23, 190, 207); stroke-opacity: 1; stroke-width: 2px; opacity: 1;\"/></g><g class=\"points\"><path class=\"point\" transform=\"translate(33.92,59.33)\" d=\"M3,0A3,3 0 1,1 0,-3A3,3 0 0,1 3,0Z\" style=\"opacity: 1; stroke-width: 0px; fill: rgb(23, 190, 207); fill-opacity: 1;\"/><path class=\"point\" transform=\"translate(167.46,102.51)\" d=\"M3,0A3,3 0 1,1 0,-3A3,3 0 0,1 3,0Z\" style=\"opacity: 1; stroke-width: 0px; fill: rgb(23, 190, 207); fill-opacity: 1;\"/><path class=\"point\" transform=\"translate(301,111.14)\" d=\"M3,0A3,3 0 1,1 0,-3A3,3 0 0,1 3,0Z\" style=\"opacity: 1; stroke-width: 0px; fill: rgb(23, 190, 207); fill-opacity: 1;\"/><path class=\"point\" transform=\"translate(434.54,188.85)\" d=\"M3,0A3,3 0 1,1 0,-3A3,3 0 0,1 3,0Z\" style=\"opacity: 1; stroke-width: 0px; fill: rgb(23, 190, 207); fill-opacity: 1;\"/><path class=\"point\" transform=\"translate(568.08,232.03)\" d=\"M3,0A3,3 0 1,1 0,-3A3,3 0 0,1 3,0Z\" style=\"opacity: 1; stroke-width: 0px; fill: rgb(23, 190, 207); fill-opacity: 1;\"/></g><g class=\"text\"/></g><g class=\"trace scatter trace823fd95d-7877-4aec-b63f-7f8bfe1bcd39\" style=\"stroke-miterlimit: 2; opacity: 0;\"><g class=\"fills\"/><g class=\"errorbars\"/><g class=\"lines\"><path class=\"js-line\" d=\"M33.92,16.16L568.08,16.16\" style=\"vector-effect: non-scaling-stroke; fill: none; stroke: rgb(0, 0, 0); stroke-opacity: 0; stroke-width: 0px; opacity: 1;\"/></g><g class=\"points\"><path class=\"point\" transform=\"translate(33.92,16.16)\" d=\"M3,0A3,3 0 1,1 0,-3A3,3 0 0,1 3,0Z\" style=\"opacity: 1; stroke-width: 0px; fill: rgb(0, 0, 0); fill-opacity: 0;\"/><path class=\"point\" transform=\"translate(167.46,16.16)\" d=\"M3,0A3,3 0 1,1 0,-3A3,3 0 0,1 3,0Z\" style=\"opacity: 1; stroke-width: 0px; fill: rgb(0, 0, 0); fill-opacity: 0;\"/><path class=\"point\" transform=\"translate(301,16.16)\" d=\"M3,0A3,3 0 1,1 0,-3A3,3 0 0,1 3,0Z\" style=\"opacity: 1; stroke-width: 0px; fill: rgb(0, 0, 0); fill-opacity: 0;\"/><path class=\"point\" transform=\"translate(434.54,16.16)\" d=\"M3,0A3,3 0 1,1 0,-3A3,3 0 0,1 3,0Z\" style=\"opacity: 1; stroke-width: 0px; fill: rgb(0, 0, 0); fill-opacity: 0;\"/><path class=\"point\" transform=\"translate(568.08,16.16)\" d=\"M3,0A3,3 0 1,1 0,-3A3,3 0 0,1 3,0Z\" style=\"opacity: 1; stroke-width: 0px; fill: rgb(0, 0, 0); fill-opacity: 0;\"/></g><g class=\"text\"/></g></g></g><g class=\"overplot\"/><path class=\"xlines-above crisp\" d=\"M0,0\" style=\"fill: none;\"/><path class=\"ylines-above crisp\" d=\"M0,0\" style=\"fill: none;\"/><g class=\"overlines-above\"/><g class=\"xaxislayer-above\"/><g class=\"yaxislayer-above\"><g class=\"y3tick\"><text text-anchor=\"end\" x=\"117\" y=\"4.199999999999999\" transform=\"translate(0,901.4834979423865)\" style=\"font-family: 'Open Sans', verdana, arial, sans-serif; font-size: 12px; fill: rgb(42, 63, 95); fill-opacity: 1; white-space: pre; opacity: 1;\">−5</text></g><g class=\"y3tick\"><text text-anchor=\"end\" x=\"117\" y=\"4.199999999999999\" style=\"font-family: 'Open Sans', verdana, arial, sans-serif; font-size: 12px; fill: rgb(42, 63, 95); fill-opacity: 1; white-space: pre; opacity: 1;\" transform=\"translate(0,858.3034979423866)\">−4</text></g><g class=\"y3tick\"><text text-anchor=\"end\" x=\"117\" y=\"4.199999999999999\" style=\"font-family: 'Open Sans', verdana, arial, sans-serif; font-size: 12px; fill: rgb(42, 63, 95); fill-opacity: 1; white-space: pre; opacity: 1;\" transform=\"translate(0,815.1334979423866)\">−3</text></g><g class=\"y3tick\"><text text-anchor=\"end\" x=\"117\" y=\"4.199999999999999\" style=\"font-family: 'Open Sans', verdana, arial, sans-serif; font-size: 12px; fill: rgb(42, 63, 95); fill-opacity: 1; white-space: pre; opacity: 1;\" transform=\"translate(0,771.9634979423865)\">−2</text></g><g class=\"y3tick\"><text text-anchor=\"end\" x=\"117\" y=\"4.199999999999999\" style=\"font-family: 'Open Sans', verdana, arial, sans-serif; font-size: 12px; fill: rgb(42, 63, 95); fill-opacity: 1; white-space: pre; opacity: 1;\" transform=\"translate(0,728.7834979423866)\">−1</text></g><g class=\"y3tick\"><text text-anchor=\"end\" x=\"117\" y=\"4.199999999999999\" style=\"font-family: 'Open Sans', verdana, arial, sans-serif; font-size: 12px; fill: rgb(42, 63, 95); fill-opacity: 1; white-space: pre; opacity: 1;\" transform=\"translate(0,685.6134979423865)\">0</text></g></g><g class=\"overaxes-above\"/></g><g class=\"subplot x4y4\"><g class=\"layer-subplot\"><g class=\"shapelayer\"/><g class=\"imagelayer\"/></g><g class=\"gridlayer\"><g class=\"x4\"><path class=\"x4grid crisp\" transform=\"translate(151.92000000000002,0)\" d=\"M0,955.1802469135802v248.18600823045279\" style=\"stroke: rgb(255, 255, 255); stroke-opacity: 1; stroke-width: 1px;\"/><path class=\"x4grid crisp\" transform=\"translate(285.46000000000004,0)\" d=\"M0,955.1802469135802v248.18600823045279\" style=\"stroke: rgb(255, 255, 255); stroke-opacity: 1; stroke-width: 1px;\"/><path class=\"x4grid crisp\" transform=\"translate(419,0)\" d=\"M0,955.1802469135802v248.18600823045279\" style=\"stroke: rgb(255, 255, 255); stroke-opacity: 1; stroke-width: 1px;\"/><path class=\"x4grid crisp\" transform=\"translate(552.54,0)\" d=\"M0,955.1802469135802v248.18600823045279\" style=\"stroke: rgb(255, 255, 255); stroke-opacity: 1; stroke-width: 1px;\"/><path class=\"x4grid crisp\" transform=\"translate(686.08,0)\" d=\"M0,955.1802469135802v248.18600823045279\" style=\"stroke: rgb(255, 255, 255); stroke-opacity: 1; stroke-width: 1px;\"/></g><g class=\"y4\"><path class=\"y4grid crisp\" transform=\"translate(0,1185.41024691358)\" d=\"M118,0h602\" style=\"stroke: rgb(255, 255, 255); stroke-opacity: 1; stroke-width: 1px;\"/><path class=\"y4grid crisp\" transform=\"translate(0,1142.6002469135801)\" d=\"M118,0h602\" style=\"stroke: rgb(255, 255, 255); stroke-opacity: 1; stroke-width: 1px;\"/><path class=\"y4grid crisp\" transform=\"translate(0,1099.7802469135802)\" d=\"M118,0h602\" style=\"stroke: rgb(255, 255, 255); stroke-opacity: 1; stroke-width: 1px;\"/><path class=\"y4grid crisp\" transform=\"translate(0,1056.9702469135802)\" d=\"M118,0h602\" style=\"stroke: rgb(255, 255, 255); stroke-opacity: 1; stroke-width: 1px;\"/><path class=\"y4grid crisp\" transform=\"translate(0,1014.1502469135802)\" d=\"M118,0h602\" style=\"stroke: rgb(255, 255, 255); stroke-opacity: 1; stroke-width: 1px;\"/><path class=\"y4grid crisp\" transform=\"translate(0,971.3402469135801)\" d=\"M118,0h602\" style=\"stroke: rgb(255, 255, 255); stroke-opacity: 1; stroke-width: 1px;\"/></g></g><g class=\"zerolinelayer\"/><path class=\"xlines-below\"/><path class=\"ylines-below\"/><g class=\"overlines-below\"/><g class=\"xaxislayer-below\"/><g class=\"yaxislayer-below\"/><g class=\"overaxes-below\"/><g class=\"plot\" transform=\"translate(118,955.1802469135802)\" clip-path=\"url(#clipbc0592x4y4plot)\"><g class=\"scatterlayer mlayer\"><g class=\"trace scatter trace3827826d-f71b-47c5-ac8f-52b21d5110b6\" style=\"stroke-miterlimit: 2;\"><g class=\"fills\"><g><path class=\"js-fill\" d=\"M33.92,21.29L167.46,73.01L301,73.27L434.54,172.09L568.08,232.03L568.08,16.16L33.92,16.16Z\" style=\"fill: rgb(255, 0, 0); fill-opacity: 0.3; stroke-width: 0;\"/></g></g><g class=\"errorbars\"/><g class=\"lines\"><path class=\"js-line\" d=\"M33.92,16.16L568.08,16.16\" style=\"vector-effect: non-scaling-stroke; fill: none; stroke: rgb(0, 0, 0); stroke-opacity: 0; stroke-width: 0px; opacity: 1;\"/></g><g class=\"points\"><path class=\"point\" transform=\"translate(33.92,16.16)\" d=\"M3,0A3,3 0 1,1 0,-3A3,3 0 0,1 3,0Z\" style=\"opacity: 1; stroke-width: 0px; fill: rgb(0, 0, 0); fill-opacity: 0;\"/><path class=\"point\" transform=\"translate(167.46,16.16)\" d=\"M3,0A3,3 0 1,1 0,-3A3,3 0 0,1 3,0Z\" style=\"opacity: 1; stroke-width: 0px; fill: rgb(0, 0, 0); fill-opacity: 0;\"/><path class=\"point\" transform=\"translate(301,16.16)\" d=\"M3,0A3,3 0 1,1 0,-3A3,3 0 0,1 3,0Z\" style=\"opacity: 1; stroke-width: 0px; fill: rgb(0, 0, 0); fill-opacity: 0;\"/><path class=\"point\" transform=\"translate(434.54,16.16)\" d=\"M3,0A3,3 0 1,1 0,-3A3,3 0 0,1 3,0Z\" style=\"opacity: 1; stroke-width: 0px; fill: rgb(0, 0, 0); fill-opacity: 0;\"/><path class=\"point\" transform=\"translate(568.08,16.16)\" d=\"M3,0A3,3 0 1,1 0,-3A3,3 0 0,1 3,0Z\" style=\"opacity: 1; stroke-width: 0px; fill: rgb(0, 0, 0); fill-opacity: 0;\"/></g><g class=\"text\"/></g><g class=\"trace scatter trace472297c1-56f1-4430-a9d2-0b797e0ebb91\" style=\"stroke-miterlimit: 2;\"><g class=\"fills\"/><g class=\"errorbars\"/><g class=\"lines\"><path class=\"js-line\" d=\"M33.92,21.29L167.46,73.01L301,73.27L434.54,172.09L568.08,232.03\" style=\"vector-effect: non-scaling-stroke; fill: none; stroke: rgb(0, 0, 0); stroke-opacity: 0; stroke-width: 0px; opacity: 1;\"/></g><g class=\"points\"><path class=\"point\" transform=\"translate(33.92,21.29)\" d=\"M3,0A3,3 0 1,1 0,-3A3,3 0 0,1 3,0Z\" style=\"opacity: 1; stroke-width: 0px; fill: rgb(0, 0, 0); fill-opacity: 0;\"/><path class=\"point\" transform=\"translate(167.46,73.01)\" d=\"M3,0A3,3 0 1,1 0,-3A3,3 0 0,1 3,0Z\" style=\"opacity: 1; stroke-width: 0px; fill: rgb(0, 0, 0); fill-opacity: 0;\"/><path class=\"point\" transform=\"translate(301,73.27)\" d=\"M3,0A3,3 0 1,1 0,-3A3,3 0 0,1 3,0Z\" style=\"opacity: 1; stroke-width: 0px; fill: rgb(0, 0, 0); fill-opacity: 0;\"/><path class=\"point\" transform=\"translate(434.54,172.09)\" d=\"M3,0A3,3 0 1,1 0,-3A3,3 0 0,1 3,0Z\" style=\"opacity: 1; stroke-width: 0px; fill: rgb(0, 0, 0); fill-opacity: 0;\"/><path class=\"point\" transform=\"translate(568.08,232.03)\" d=\"M3,0A3,3 0 1,1 0,-3A3,3 0 0,1 3,0Z\" style=\"opacity: 1; stroke-width: 0px; fill: rgb(0, 0, 0); fill-opacity: 0;\"/></g><g class=\"text\"/></g><g class=\"trace scatter trace3d075076-b90f-4283-ba30-3bb426850a75\" style=\"stroke-miterlimit: 2; opacity: 1;\"><g class=\"fills\"/><g class=\"errorbars\"/><g class=\"lines\"><path class=\"js-line\" d=\"M33.92,21.29L167.46,73.01L301,73.27L434.54,172.09L568.08,232.03\" style=\"vector-effect: non-scaling-stroke; fill: none; stroke: rgb(148, 103, 189); stroke-opacity: 1; stroke-width: 2px; opacity: 1;\"/></g><g class=\"points\"><path class=\"point\" transform=\"translate(33.92,21.29)\" d=\"M3,0A3,3 0 1,1 0,-3A3,3 0 0,1 3,0Z\" style=\"opacity: 1; stroke-width: 0px; fill: rgb(148, 103, 189); fill-opacity: 1;\"/><path class=\"point\" transform=\"translate(167.46,73.01)\" d=\"M3,0A3,3 0 1,1 0,-3A3,3 0 0,1 3,0Z\" style=\"opacity: 1; stroke-width: 0px; fill: rgb(148, 103, 189); fill-opacity: 1;\"/><path class=\"point\" transform=\"translate(301,73.27)\" d=\"M3,0A3,3 0 1,1 0,-3A3,3 0 0,1 3,0Z\" style=\"opacity: 1; stroke-width: 0px; fill: rgb(148, 103, 189); fill-opacity: 1;\"/><path class=\"point\" transform=\"translate(434.54,172.09)\" d=\"M3,0A3,3 0 1,1 0,-3A3,3 0 0,1 3,0Z\" style=\"opacity: 1; stroke-width: 0px; fill: rgb(148, 103, 189); fill-opacity: 1;\"/><path class=\"point\" transform=\"translate(568.08,232.03)\" d=\"M3,0A3,3 0 1,1 0,-3A3,3 0 0,1 3,0Z\" style=\"opacity: 1; stroke-width: 0px; fill: rgb(148, 103, 189); fill-opacity: 1;\"/></g><g class=\"text\"/></g><g class=\"trace scatter trace8c5ab516-3734-4f45-ab44-f61789ab0190\" style=\"stroke-miterlimit: 2; opacity: 0;\"><g class=\"fills\"/><g class=\"errorbars\"/><g class=\"lines\"><path class=\"js-line\" d=\"M33.92,16.16L568.08,16.16\" style=\"vector-effect: non-scaling-stroke; fill: none; stroke: rgb(0, 0, 0); stroke-opacity: 0; stroke-width: 0px; opacity: 1;\"/></g><g class=\"points\"><path class=\"point\" transform=\"translate(33.92,16.16)\" d=\"M3,0A3,3 0 1,1 0,-3A3,3 0 0,1 3,0Z\" style=\"opacity: 1; stroke-width: 0px; fill: rgb(0, 0, 0); fill-opacity: 0;\"/><path class=\"point\" transform=\"translate(167.46,16.16)\" d=\"M3,0A3,3 0 1,1 0,-3A3,3 0 0,1 3,0Z\" style=\"opacity: 1; stroke-width: 0px; fill: rgb(0, 0, 0); fill-opacity: 0;\"/><path class=\"point\" transform=\"translate(301,16.16)\" d=\"M3,0A3,3 0 1,1 0,-3A3,3 0 0,1 3,0Z\" style=\"opacity: 1; stroke-width: 0px; fill: rgb(0, 0, 0); fill-opacity: 0;\"/><path class=\"point\" transform=\"translate(434.54,16.16)\" d=\"M3,0A3,3 0 1,1 0,-3A3,3 0 0,1 3,0Z\" style=\"opacity: 1; stroke-width: 0px; fill: rgb(0, 0, 0); fill-opacity: 0;\"/><path class=\"point\" transform=\"translate(568.08,16.16)\" d=\"M3,0A3,3 0 1,1 0,-3A3,3 0 0,1 3,0Z\" style=\"opacity: 1; stroke-width: 0px; fill: rgb(0, 0, 0); fill-opacity: 0;\"/></g><g class=\"text\"/></g></g></g><g class=\"overplot\"/><path class=\"xlines-above crisp\" d=\"M0,0\" style=\"fill: none;\"/><path class=\"ylines-above crisp\" d=\"M0,0\" style=\"fill: none;\"/><g class=\"overlines-above\"/><g class=\"xaxislayer-above\"/><g class=\"yaxislayer-above\"><g class=\"y4tick\"><text text-anchor=\"end\" x=\"117\" y=\"4.199999999999999\" transform=\"translate(0,1185.41024691358)\" style=\"font-family: 'Open Sans', verdana, arial, sans-serif; font-size: 12px; fill: rgb(42, 63, 95); fill-opacity: 1; white-space: pre; opacity: 1;\">195</text></g><g class=\"y4tick\"><text text-anchor=\"end\" x=\"117\" y=\"4.199999999999999\" style=\"font-family: 'Open Sans', verdana, arial, sans-serif; font-size: 12px; fill: rgb(42, 63, 95); fill-opacity: 1; white-space: pre; opacity: 1;\" transform=\"translate(0,1142.6002469135801)\">196</text></g><g class=\"y4tick\"><text text-anchor=\"end\" x=\"117\" y=\"4.199999999999999\" style=\"font-family: 'Open Sans', verdana, arial, sans-serif; font-size: 12px; fill: rgb(42, 63, 95); fill-opacity: 1; white-space: pre; opacity: 1;\" transform=\"translate(0,1099.7802469135802)\">197</text></g><g class=\"y4tick\"><text text-anchor=\"end\" x=\"117\" y=\"4.199999999999999\" style=\"font-family: 'Open Sans', verdana, arial, sans-serif; font-size: 12px; fill: rgb(42, 63, 95); fill-opacity: 1; white-space: pre; opacity: 1;\" transform=\"translate(0,1056.9702469135802)\">198</text></g><g class=\"y4tick\"><text text-anchor=\"end\" x=\"117\" y=\"4.199999999999999\" style=\"font-family: 'Open Sans', verdana, arial, sans-serif; font-size: 12px; fill: rgb(42, 63, 95); fill-opacity: 1; white-space: pre; opacity: 1;\" transform=\"translate(0,1014.1502469135802)\">199</text></g><g class=\"y4tick\"><text text-anchor=\"end\" x=\"117\" y=\"4.199999999999999\" style=\"font-family: 'Open Sans', verdana, arial, sans-serif; font-size: 12px; fill: rgb(42, 63, 95); fill-opacity: 1; white-space: pre; opacity: 1;\" transform=\"translate(0,971.3402469135801)\">200</text></g></g><g class=\"overaxes-above\"/></g><g class=\"subplot x5y5\"><g class=\"layer-subplot\"><g class=\"shapelayer\"/><g class=\"imagelayer\"/></g><g class=\"gridlayer\"><g class=\"x5\"><path class=\"x5grid crisp\" transform=\"translate(151.92000000000002,0)\" d=\"M0,1240.9069958847736v248.18600823045279\" style=\"stroke: rgb(255, 255, 255); stroke-opacity: 1; stroke-width: 1px;\"/><path class=\"x5grid crisp\" transform=\"translate(285.46000000000004,0)\" d=\"M0,1240.9069958847736v248.18600823045279\" style=\"stroke: rgb(255, 255, 255); stroke-opacity: 1; stroke-width: 1px;\"/><path class=\"x5grid crisp\" transform=\"translate(419,0)\" d=\"M0,1240.9069958847736v248.18600823045279\" style=\"stroke: rgb(255, 255, 255); stroke-opacity: 1; stroke-width: 1px;\"/><path class=\"x5grid crisp\" transform=\"translate(552.54,0)\" d=\"M0,1240.9069958847736v248.18600823045279\" style=\"stroke: rgb(255, 255, 255); stroke-opacity: 1; stroke-width: 1px;\"/><path class=\"x5grid crisp\" transform=\"translate(686.08,0)\" d=\"M0,1240.9069958847736v248.18600823045279\" style=\"stroke: rgb(255, 255, 255); stroke-opacity: 1; stroke-width: 1px;\"/></g><g class=\"y5\"><path class=\"y5grid crisp\" transform=\"translate(0,1470.9769958847735)\" d=\"M118,0h602\" style=\"stroke: rgb(255, 255, 255); stroke-opacity: 1; stroke-width: 1px;\"/><path class=\"y5grid crisp\" transform=\"translate(0,1432.0769958847736)\" d=\"M118,0h602\" style=\"stroke: rgb(255, 255, 255); stroke-opacity: 1; stroke-width: 1px;\"/><path class=\"y5grid crisp\" transform=\"translate(0,1393.1869958847735)\" d=\"M118,0h602\" style=\"stroke: rgb(255, 255, 255); stroke-opacity: 1; stroke-width: 1px;\"/><path class=\"y5grid crisp\" transform=\"translate(0,1354.2969958847737)\" d=\"M118,0h602\" style=\"stroke: rgb(255, 255, 255); stroke-opacity: 1; stroke-width: 1px;\"/><path class=\"y5grid crisp\" transform=\"translate(0,1315.4069958847736)\" d=\"M118,0h602\" style=\"stroke: rgb(255, 255, 255); stroke-opacity: 1; stroke-width: 1px;\"/><path class=\"y5grid crisp\" transform=\"translate(0,1276.5169958847735)\" d=\"M118,0h602\" style=\"stroke: rgb(255, 255, 255); stroke-opacity: 1; stroke-width: 1px;\"/></g></g><g class=\"zerolinelayer\"/><path class=\"xlines-below\"/><path class=\"ylines-below\"/><g class=\"overlines-below\"/><g class=\"xaxislayer-below\"/><g class=\"yaxislayer-below\"/><g class=\"overaxes-below\"/><g class=\"plot\" transform=\"translate(118,1240.9069958847736)\" clip-path=\"url(#clipbc0592x5y5plot)\"><g class=\"scatterlayer mlayer\"><g class=\"trace scatter tracee0c74575-131b-4282-ae25-4bafd42b4bc5\" style=\"stroke-miterlimit: 2; opacity: 1;\"><g class=\"fills\"/><g class=\"errorbars\"/><g class=\"lines\"><path class=\"js-line\" d=\"M33.92,230.07L167.46,191.17L301,171.73L434.54,74.5L568.08,16.16\" style=\"vector-effect: non-scaling-stroke; fill: none; stroke: rgb(127, 127, 127); stroke-opacity: 1; stroke-width: 2px; opacity: 1;\"/></g><g class=\"points\"><path class=\"point\" transform=\"translate(33.92,230.07)\" d=\"M3,0A3,3 0 1,1 0,-3A3,3 0 0,1 3,0Z\" style=\"opacity: 1; stroke-width: 0px; fill: rgb(127, 127, 127); fill-opacity: 1;\"/><path class=\"point\" transform=\"translate(167.46,191.17)\" d=\"M3,0A3,3 0 1,1 0,-3A3,3 0 0,1 3,0Z\" style=\"opacity: 1; stroke-width: 0px; fill: rgb(127, 127, 127); fill-opacity: 1;\"/><path class=\"point\" transform=\"translate(301,171.73)\" d=\"M3,0A3,3 0 1,1 0,-3A3,3 0 0,1 3,0Z\" style=\"opacity: 1; stroke-width: 0px; fill: rgb(127, 127, 127); fill-opacity: 1;\"/><path class=\"point\" transform=\"translate(434.54,74.5)\" d=\"M3,0A3,3 0 1,1 0,-3A3,3 0 0,1 3,0Z\" style=\"opacity: 1; stroke-width: 0px; fill: rgb(127, 127, 127); fill-opacity: 1;\"/><path class=\"point\" transform=\"translate(568.08,16.16)\" d=\"M3,0A3,3 0 1,1 0,-3A3,3 0 0,1 3,0Z\" style=\"opacity: 1; stroke-width: 0px; fill: rgb(127, 127, 127); fill-opacity: 1;\"/></g><g class=\"text\"/></g><g class=\"trace scatter trace9fac81b8-e364-4231-a502-784d271ff54f\" style=\"stroke-miterlimit: 2;\"><g class=\"fills\"><g><path class=\"js-fill\" d=\"M33.92,230.11L568.08,232.03L568.08,230.07L33.92,230.07Z\" style=\"fill: rgb(255, 0, 0); fill-opacity: 0.3; stroke-width: 0;\"/></g></g><g class=\"errorbars\"/><g class=\"lines\"><path class=\"js-line\" d=\"M33.92,230.07L568.08,230.07\" style=\"vector-effect: non-scaling-stroke; fill: none; stroke: rgb(0, 0, 0); stroke-opacity: 0; stroke-width: 0px; opacity: 1;\"/></g><g class=\"points\"><path class=\"point\" transform=\"translate(33.92,230.07)\" d=\"M3,0A3,3 0 1,1 0,-3A3,3 0 0,1 3,0Z\" style=\"opacity: 1; stroke-width: 0px; fill: rgb(0, 0, 0); fill-opacity: 0;\"/><path class=\"point\" transform=\"translate(167.46,230.07)\" d=\"M3,0A3,3 0 1,1 0,-3A3,3 0 0,1 3,0Z\" style=\"opacity: 1; stroke-width: 0px; fill: rgb(0, 0, 0); fill-opacity: 0;\"/><path class=\"point\" transform=\"translate(301,230.07)\" d=\"M3,0A3,3 0 1,1 0,-3A3,3 0 0,1 3,0Z\" style=\"opacity: 1; stroke-width: 0px; fill: rgb(0, 0, 0); fill-opacity: 0;\"/><path class=\"point\" transform=\"translate(434.54,230.07)\" d=\"M3,0A3,3 0 1,1 0,-3A3,3 0 0,1 3,0Z\" style=\"opacity: 1; stroke-width: 0px; fill: rgb(0, 0, 0); fill-opacity: 0;\"/><path class=\"point\" transform=\"translate(568.08,230.07)\" d=\"M3,0A3,3 0 1,1 0,-3A3,3 0 0,1 3,0Z\" style=\"opacity: 1; stroke-width: 0px; fill: rgb(0, 0, 0); fill-opacity: 0;\"/></g><g class=\"text\"/></g><g class=\"trace scatter trace78d1ead8-bf6e-4889-83b0-2ec071ea7ffd\" style=\"stroke-miterlimit: 2;\"><g class=\"fills\"/><g class=\"errorbars\"/><g class=\"lines\"><path class=\"js-line\" d=\"M33.92,230.11L568.08,232.03\" style=\"vector-effect: non-scaling-stroke; fill: none; stroke: rgb(0, 0, 0); stroke-opacity: 0; stroke-width: 0px; opacity: 1;\"/></g><g class=\"points\"><path class=\"point\" transform=\"translate(33.92,230.11)\" d=\"M3,0A3,3 0 1,1 0,-3A3,3 0 0,1 3,0Z\" style=\"opacity: 1; stroke-width: 0px; fill: rgb(0, 0, 0); fill-opacity: 0;\"/><path class=\"point\" transform=\"translate(167.46,230.58)\" d=\"M3,0A3,3 0 1,1 0,-3A3,3 0 0,1 3,0Z\" style=\"opacity: 1; stroke-width: 0px; fill: rgb(0, 0, 0); fill-opacity: 0;\"/><path class=\"point\" transform=\"translate(301,230.58)\" d=\"M3,0A3,3 0 1,1 0,-3A3,3 0 0,1 3,0Z\" style=\"opacity: 1; stroke-width: 0px; fill: rgb(0, 0, 0); fill-opacity: 0;\"/><path class=\"point\" transform=\"translate(434.54,231.48)\" d=\"M3,0A3,3 0 1,1 0,-3A3,3 0 0,1 3,0Z\" style=\"opacity: 1; stroke-width: 0px; fill: rgb(0, 0, 0); fill-opacity: 0;\"/><path class=\"point\" transform=\"translate(568.08,232.03)\" d=\"M3,0A3,3 0 1,1 0,-3A3,3 0 0,1 3,0Z\" style=\"opacity: 1; stroke-width: 0px; fill: rgb(0, 0, 0); fill-opacity: 0;\"/></g><g class=\"text\"/></g><g class=\"trace scatter trace39853482-c48e-4c1f-93bb-b1a776af0ce6\" style=\"stroke-miterlimit: 2; opacity: 1;\"><g class=\"fills\"/><g class=\"errorbars\"/><g class=\"lines\"><path class=\"js-line\" d=\"M33.92,230.11L568.08,232.03\" style=\"vector-effect: non-scaling-stroke; fill: none; stroke: rgb(148, 103, 189); stroke-opacity: 1; stroke-width: 2px; opacity: 1;\"/></g><g class=\"points\"><path class=\"point\" transform=\"translate(33.92,230.11)\" d=\"M3,0A3,3 0 1,1 0,-3A3,3 0 0,1 3,0Z\" style=\"opacity: 1; stroke-width: 0px; fill: rgb(148, 103, 189); fill-opacity: 1;\"/><path class=\"point\" transform=\"translate(167.46,230.58)\" d=\"M3,0A3,3 0 1,1 0,-3A3,3 0 0,1 3,0Z\" style=\"opacity: 1; stroke-width: 0px; fill: rgb(148, 103, 189); fill-opacity: 1;\"/><path class=\"point\" transform=\"translate(301,230.58)\" d=\"M3,0A3,3 0 1,1 0,-3A3,3 0 0,1 3,0Z\" style=\"opacity: 1; stroke-width: 0px; fill: rgb(148, 103, 189); fill-opacity: 1;\"/><path class=\"point\" transform=\"translate(434.54,231.48)\" d=\"M3,0A3,3 0 1,1 0,-3A3,3 0 0,1 3,0Z\" style=\"opacity: 1; stroke-width: 0px; fill: rgb(148, 103, 189); fill-opacity: 1;\"/><path class=\"point\" transform=\"translate(568.08,232.03)\" d=\"M3,0A3,3 0 1,1 0,-3A3,3 0 0,1 3,0Z\" style=\"opacity: 1; stroke-width: 0px; fill: rgb(148, 103, 189); fill-opacity: 1;\"/></g><g class=\"text\"/></g><g class=\"trace scatter trace0fe3adf7-8fa6-4c25-8804-0bde94362269\" style=\"stroke-miterlimit: 2; opacity: 0;\"><g class=\"fills\"/><g class=\"errorbars\"/><g class=\"lines\"><path class=\"js-line\" d=\"M33.92,230.07L568.08,230.07\" style=\"vector-effect: non-scaling-stroke; fill: none; stroke: rgb(0, 0, 0); stroke-opacity: 0; stroke-width: 0px; opacity: 1;\"/></g><g class=\"points\"><path class=\"point\" transform=\"translate(33.92,230.07)\" d=\"M3,0A3,3 0 1,1 0,-3A3,3 0 0,1 3,0Z\" style=\"opacity: 1; stroke-width: 0px; fill: rgb(0, 0, 0); fill-opacity: 0;\"/><path class=\"point\" transform=\"translate(167.46,230.07)\" d=\"M3,0A3,3 0 1,1 0,-3A3,3 0 0,1 3,0Z\" style=\"opacity: 1; stroke-width: 0px; fill: rgb(0, 0, 0); fill-opacity: 0;\"/><path class=\"point\" transform=\"translate(301,230.07)\" d=\"M3,0A3,3 0 1,1 0,-3A3,3 0 0,1 3,0Z\" style=\"opacity: 1; stroke-width: 0px; fill: rgb(0, 0, 0); fill-opacity: 0;\"/><path class=\"point\" transform=\"translate(434.54,230.07)\" d=\"M3,0A3,3 0 1,1 0,-3A3,3 0 0,1 3,0Z\" style=\"opacity: 1; stroke-width: 0px; fill: rgb(0, 0, 0); fill-opacity: 0;\"/><path class=\"point\" transform=\"translate(568.08,230.07)\" d=\"M3,0A3,3 0 1,1 0,-3A3,3 0 0,1 3,0Z\" style=\"opacity: 1; stroke-width: 0px; fill: rgb(0, 0, 0); fill-opacity: 0;\"/></g><g class=\"text\"/></g></g></g><g class=\"overplot\"/><path class=\"xlines-above crisp\" d=\"M0,0\" style=\"fill: none;\"/><path class=\"ylines-above crisp\" d=\"M0,0\" style=\"fill: none;\"/><g class=\"overlines-above\"/><g class=\"xaxislayer-above\"/><g class=\"yaxislayer-above\"><g class=\"y5tick\"><text text-anchor=\"end\" x=\"117\" y=\"4.199999999999999\" transform=\"translate(0,1470.9769958847735)\" style=\"font-family: 'Open Sans', verdana, arial, sans-serif; font-size: 12px; fill: rgb(42, 63, 95); fill-opacity: 1; white-space: pre; opacity: 1;\">1</text></g><g class=\"y5tick\"><text text-anchor=\"end\" x=\"117\" y=\"4.199999999999999\" style=\"font-family: 'Open Sans', verdana, arial, sans-serif; font-size: 12px; fill: rgb(42, 63, 95); fill-opacity: 1; white-space: pre; opacity: 1;\" transform=\"translate(0,1432.0769958847736)\">1.5</text></g><g class=\"y5tick\"><text text-anchor=\"end\" x=\"117\" y=\"4.199999999999999\" style=\"font-family: 'Open Sans', verdana, arial, sans-serif; font-size: 12px; fill: rgb(42, 63, 95); fill-opacity: 1; white-space: pre; opacity: 1;\" transform=\"translate(0,1393.1869958847735)\">2</text></g><g class=\"y5tick\"><text text-anchor=\"end\" x=\"117\" y=\"4.199999999999999\" style=\"font-family: 'Open Sans', verdana, arial, sans-serif; font-size: 12px; fill: rgb(42, 63, 95); fill-opacity: 1; white-space: pre; opacity: 1;\" transform=\"translate(0,1354.2969958847737)\">2.5</text></g><g class=\"y5tick\"><text text-anchor=\"end\" x=\"117\" y=\"4.199999999999999\" style=\"font-family: 'Open Sans', verdana, arial, sans-serif; font-size: 12px; fill: rgb(42, 63, 95); fill-opacity: 1; white-space: pre; opacity: 1;\" transform=\"translate(0,1315.4069958847736)\">3</text></g><g class=\"y5tick\"><text text-anchor=\"end\" x=\"117\" y=\"4.199999999999999\" style=\"font-family: 'Open Sans', verdana, arial, sans-serif; font-size: 12px; fill: rgb(42, 63, 95); fill-opacity: 1; white-space: pre; opacity: 1;\" transform=\"translate(0,1276.5169958847735)\">3.5</text></g></g><g class=\"overaxes-above\"/></g><g class=\"subplot x6y6\"><g class=\"layer-subplot\"><g class=\"shapelayer\"/><g class=\"imagelayer\"/></g><g class=\"gridlayer\"><g class=\"x6\"><path class=\"x6grid crisp\" transform=\"translate(151.92000000000002,0)\" d=\"M0,1526.633744855967v248.18600823045264\" style=\"stroke: rgb(255, 255, 255); stroke-opacity: 1; stroke-width: 1px;\"/><path class=\"x6grid crisp\" transform=\"translate(285.46000000000004,0)\" d=\"M0,1526.633744855967v248.18600823045264\" style=\"stroke: rgb(255, 255, 255); stroke-opacity: 1; stroke-width: 1px;\"/><path class=\"x6grid crisp\" transform=\"translate(419,0)\" d=\"M0,1526.633744855967v248.18600823045264\" style=\"stroke: rgb(255, 255, 255); stroke-opacity: 1; stroke-width: 1px;\"/><path class=\"x6grid crisp\" transform=\"translate(552.54,0)\" d=\"M0,1526.633744855967v248.18600823045264\" style=\"stroke: rgb(255, 255, 255); stroke-opacity: 1; stroke-width: 1px;\"/><path class=\"x6grid crisp\" transform=\"translate(686.08,0)\" d=\"M0,1526.633744855967v248.18600823045264\" style=\"stroke: rgb(255, 255, 255); stroke-opacity: 1; stroke-width: 1px;\"/></g><g class=\"y6\"><path class=\"y6grid crisp\" transform=\"translate(0,1756.203744855967)\" d=\"M118,0h602\" style=\"stroke: rgb(255, 255, 255); stroke-opacity: 1; stroke-width: 1px;\"/><path class=\"y6grid crisp\" transform=\"translate(0,1712.603744855967)\" d=\"M118,0h602\" style=\"stroke: rgb(255, 255, 255); stroke-opacity: 1; stroke-width: 1px;\"/><path class=\"y6grid crisp\" transform=\"translate(0,1669.003744855967)\" d=\"M118,0h602\" style=\"stroke: rgb(255, 255, 255); stroke-opacity: 1; stroke-width: 1px;\"/><path class=\"y6grid crisp\" transform=\"translate(0,1625.393744855967)\" d=\"M118,0h602\" style=\"stroke: rgb(255, 255, 255); stroke-opacity: 1; stroke-width: 1px;\"/><path class=\"y6grid crisp\" transform=\"translate(0,1581.7937448559671)\" d=\"M118,0h602\" style=\"stroke: rgb(255, 255, 255); stroke-opacity: 1; stroke-width: 1px;\"/><path class=\"y6grid crisp\" transform=\"translate(0,1538.193744855967)\" d=\"M118,0h602\" style=\"stroke: rgb(255, 255, 255); stroke-opacity: 1; stroke-width: 1px;\"/></g></g><g class=\"zerolinelayer\"/><path class=\"xlines-below\"/><path class=\"ylines-below\"/><g class=\"overlines-below\"/><g class=\"xaxislayer-below\"/><g class=\"yaxislayer-below\"/><g class=\"overaxes-below\"/><g class=\"plot\" transform=\"translate(118,1526.633744855967)\" clip-path=\"url(#clipbc0592x6y6plot)\"><g class=\"scatterlayer mlayer\"><g class=\"trace scatter trace983d1c0c-feaa-40c3-9d85-19d37bcf69eb\" style=\"stroke-miterlimit: 2; opacity: 1;\"><g class=\"fills\"/><g class=\"errorbars\"/><g class=\"lines\"><path class=\"js-line\" d=\"M33.92,16.78L167.46,69.46L301,69.72L434.54,170.36L568.08,231.4\" style=\"vector-effect: non-scaling-stroke; fill: none; stroke: rgb(148, 103, 189); stroke-opacity: 1; stroke-width: 2px; opacity: 1;\"/></g><g class=\"points\"><path class=\"point\" transform=\"translate(33.92,16.78)\" d=\"M3,0A3,3 0 1,1 0,-3A3,3 0 0,1 3,0Z\" style=\"opacity: 1; stroke-width: 0px; fill: rgb(148, 103, 189); fill-opacity: 1;\"/><path class=\"point\" transform=\"translate(167.46,69.46)\" d=\"M3,0A3,3 0 1,1 0,-3A3,3 0 0,1 3,0Z\" style=\"opacity: 1; stroke-width: 0px; fill: rgb(148, 103, 189); fill-opacity: 1;\"/><path class=\"point\" transform=\"translate(301,69.72)\" d=\"M3,0A3,3 0 1,1 0,-3A3,3 0 0,1 3,0Z\" style=\"opacity: 1; stroke-width: 0px; fill: rgb(148, 103, 189); fill-opacity: 1;\"/><path class=\"point\" transform=\"translate(434.54,170.36)\" d=\"M3,0A3,3 0 1,1 0,-3A3,3 0 0,1 3,0Z\" style=\"opacity: 1; stroke-width: 0px; fill: rgb(148, 103, 189); fill-opacity: 1;\"/><path class=\"point\" transform=\"translate(568.08,231.4)\" d=\"M3,0A3,3 0 1,1 0,-3A3,3 0 0,1 3,0Z\" style=\"opacity: 1; stroke-width: 0px; fill: rgb(148, 103, 189); fill-opacity: 1;\"/></g><g class=\"text\"/></g><g class=\"trace scatter trace700e3e43-f1bf-4238-a923-8c68324168c5\" style=\"stroke-miterlimit: 2; opacity: 1;\"><g class=\"fills\"/><g class=\"errorbars\"/><g class=\"lines\"/><g class=\"points\"><path class=\"point plotly-customdata\" transform=\"translate(33.92,16.78)\" d=\"M4.55,0L0,4.55L-4.55,0L0,-4.55Z\" style=\"opacity: 1; stroke-width: 1px; fill: rgb(66, 133, 244); fill-opacity: 1; stroke: rgb(11, 84, 205); stroke-opacity: 1;\"/></g><g class=\"text\"/></g><g class=\"trace scatter trace7e1f009a-8643-4d36-a1a7-99f688bf88ad\" style=\"stroke-miterlimit: 2; opacity: 1;\"><g class=\"fills\"/><g class=\"errorbars\"/><g class=\"lines\"/><g class=\"points\"><path class=\"point plotly-customdata\" transform=\"translate(568.08,231.4)\" d=\"M4.55,0L0,4.55L-4.55,0L0,-4.55Z\" style=\"opacity: 1; stroke-width: 1px; fill: rgb(255, 170, 0); fill-opacity: 1; stroke: rgb(178, 118, 0); stroke-opacity: 1;\"/></g><g class=\"text\"/></g></g></g><g class=\"overplot\"/><path class=\"xlines-above crisp\" d=\"M0,0\" style=\"fill: none;\"/><path class=\"ylines-above crisp\" d=\"M0,0\" style=\"fill: none;\"/><g class=\"overlines-above\"/><g class=\"xaxislayer-above\"/><g class=\"yaxislayer-above\"><g class=\"y6tick\"><text text-anchor=\"end\" x=\"117\" y=\"4.199999999999999\" transform=\"translate(0,1756.203744855967)\" style=\"font-family: 'Open Sans', verdana, arial, sans-serif; font-size: 12px; fill: rgb(42, 63, 95); fill-opacity: 1; white-space: pre; opacity: 1;\">195</text></g><g class=\"y6tick\"><text text-anchor=\"end\" x=\"117\" y=\"4.199999999999999\" style=\"font-family: 'Open Sans', verdana, arial, sans-serif; font-size: 12px; fill: rgb(42, 63, 95); fill-opacity: 1; white-space: pre; opacity: 1;\" transform=\"translate(0,1712.603744855967)\">196</text></g><g class=\"y6tick\"><text text-anchor=\"end\" x=\"117\" y=\"4.199999999999999\" style=\"font-family: 'Open Sans', verdana, arial, sans-serif; font-size: 12px; fill: rgb(42, 63, 95); fill-opacity: 1; white-space: pre; opacity: 1;\" transform=\"translate(0,1669.003744855967)\">197</text></g><g class=\"y6tick\"><text text-anchor=\"end\" x=\"117\" y=\"4.199999999999999\" style=\"font-family: 'Open Sans', verdana, arial, sans-serif; font-size: 12px; fill: rgb(42, 63, 95); fill-opacity: 1; white-space: pre; opacity: 1;\" transform=\"translate(0,1625.393744855967)\">198</text></g><g class=\"y6tick\"><text text-anchor=\"end\" x=\"117\" y=\"4.199999999999999\" style=\"font-family: 'Open Sans', verdana, arial, sans-serif; font-size: 12px; fill: rgb(42, 63, 95); fill-opacity: 1; white-space: pre; opacity: 1;\" transform=\"translate(0,1581.7937448559671)\">199</text></g><g class=\"y6tick\"><text text-anchor=\"end\" x=\"117\" y=\"4.199999999999999\" style=\"font-family: 'Open Sans', verdana, arial, sans-serif; font-size: 12px; fill: rgb(42, 63, 95); fill-opacity: 1; white-space: pre; opacity: 1;\" transform=\"translate(0,1538.193744855967)\">200</text></g></g><g class=\"overaxes-above\"/></g><g class=\"subplot x7y7\"><g class=\"layer-subplot\"><g class=\"shapelayer\"/><g class=\"imagelayer\"/></g><g class=\"gridlayer\"><g class=\"x7\"><path class=\"x7grid crisp\" transform=\"translate(151.92000000000002,0)\" d=\"M0,1812.3604938271603v248.18600823045264\" style=\"stroke: rgb(255, 255, 255); stroke-opacity: 1; stroke-width: 1px;\"/><path class=\"x7grid crisp\" transform=\"translate(285.46000000000004,0)\" d=\"M0,1812.3604938271603v248.18600823045264\" style=\"stroke: rgb(255, 255, 255); stroke-opacity: 1; stroke-width: 1px;\"/><path class=\"x7grid crisp\" transform=\"translate(419,0)\" d=\"M0,1812.3604938271603v248.18600823045264\" style=\"stroke: rgb(255, 255, 255); stroke-opacity: 1; stroke-width: 1px;\"/><path class=\"x7grid crisp\" transform=\"translate(552.54,0)\" d=\"M0,1812.3604938271603v248.18600823045264\" style=\"stroke: rgb(255, 255, 255); stroke-opacity: 1; stroke-width: 1px;\"/><path class=\"x7grid crisp\" transform=\"translate(686.08,0)\" d=\"M0,1812.3604938271603v248.18600823045264\" style=\"stroke: rgb(255, 255, 255); stroke-opacity: 1; stroke-width: 1px;\"/></g><g class=\"y7\"><path class=\"y7grid crisp\" transform=\"translate(0,2047.9104938271603)\" d=\"M118,0h602\" style=\"stroke: rgb(255, 255, 255); stroke-opacity: 1; stroke-width: 1px;\"/><path class=\"y7grid crisp\" transform=\"translate(0,2001.0004938271604)\" d=\"M118,0h602\" style=\"stroke: rgb(255, 255, 255); stroke-opacity: 1; stroke-width: 1px;\"/><path class=\"y7grid crisp\" transform=\"translate(0,1954.0904938271603)\" d=\"M118,0h602\" style=\"stroke: rgb(255, 255, 255); stroke-opacity: 1; stroke-width: 1px;\"/><path class=\"y7grid crisp\" transform=\"translate(0,1907.1804938271603)\" d=\"M118,0h602\" style=\"stroke: rgb(255, 255, 255); stroke-opacity: 1; stroke-width: 1px;\"/><path class=\"y7grid crisp\" transform=\"translate(0,1860.2704938271604)\" d=\"M118,0h602\" style=\"stroke: rgb(255, 255, 255); stroke-opacity: 1; stroke-width: 1px;\"/></g></g><g class=\"zerolinelayer\"><path class=\"y7zl zl crisp\" transform=\"translate(0,1813.3604938271603)\" d=\"M118,0h602\" style=\"stroke: rgb(255, 255, 255); stroke-opacity: 1; stroke-width: 2px;\"/></g><path class=\"xlines-below\"/><path class=\"ylines-below\"/><g class=\"overlines-below\"/><g class=\"xaxislayer-below\"/><g class=\"yaxislayer-below\"/><g class=\"overaxes-below\"/><g class=\"plot\" transform=\"translate(118,1812.3604938271603)\" clip-path=\"url(#clipbc0592x7y7plot)\"><g class=\"scatterlayer mlayer\"><g class=\"trace scatter traceb820be42-cd48-449e-aff5-9f468dfdb76e\" style=\"stroke-miterlimit: 2;\"><g class=\"fills\"><g><path class=\"js-fill\" d=\"M568.08,1L33.92,1L33.92,1L167.46,57.7L301,57.98L434.54,166.31L568.08,232.03\" style=\"fill: rgb(220, 57, 18); fill-opacity: 0.3; stroke-width: 0;\"/></g></g><g class=\"errorbars\"/><g class=\"lines\"><path class=\"js-line\" d=\"M33.92,1L167.46,57.7L301,57.98L434.54,166.31L568.08,232.03\" style=\"vector-effect: non-scaling-stroke; fill: none; stroke: rgb(220, 57, 18); stroke-opacity: 1; stroke-width: 2px; opacity: 1;\"/></g><g class=\"points\"><path class=\"point\" transform=\"translate(33.92,1)\" d=\"M3,0A3,3 0 1,1 0,-3A3,3 0 0,1 3,0Z\" style=\"opacity: 1; stroke-width: 0px; fill: rgb(220, 57, 18); fill-opacity: 1;\"/><path class=\"point\" transform=\"translate(167.46,57.7)\" d=\"M3,0A3,3 0 1,1 0,-3A3,3 0 0,1 3,0Z\" style=\"opacity: 1; stroke-width: 0px; fill: rgb(220, 57, 18); fill-opacity: 1;\"/><path class=\"point\" transform=\"translate(301,57.98)\" d=\"M3,0A3,3 0 1,1 0,-3A3,3 0 0,1 3,0Z\" style=\"opacity: 1; stroke-width: 0px; fill: rgb(220, 57, 18); fill-opacity: 1;\"/><path class=\"point\" transform=\"translate(434.54,166.31)\" d=\"M3,0A3,3 0 1,1 0,-3A3,3 0 0,1 3,0Z\" style=\"opacity: 1; stroke-width: 0px; fill: rgb(220, 57, 18); fill-opacity: 1;\"/><path class=\"point\" transform=\"translate(568.08,232.03)\" d=\"M3,0A3,3 0 1,1 0,-3A3,3 0 0,1 3,0Z\" style=\"opacity: 1; stroke-width: 0px; fill: rgb(220, 57, 18); fill-opacity: 1;\"/></g><g class=\"text\"/></g></g></g><g class=\"overplot\"/><path class=\"xlines-above crisp\" d=\"M0,0\" style=\"fill: none;\"/><path class=\"ylines-above crisp\" d=\"M0,0\" style=\"fill: none;\"/><g class=\"overlines-above\"/><g class=\"xaxislayer-above\"/><g class=\"yaxislayer-above\"><g class=\"y7tick\"><text text-anchor=\"end\" x=\"117\" y=\"4.199999999999999\" transform=\"translate(0,2047.9104938271603)\" style=\"font-family: 'Open Sans', verdana, arial, sans-serif; font-size: 12px; fill: rgb(42, 63, 95); fill-opacity: 1; white-space: pre; opacity: 1;\">−2.500000%</text></g><g class=\"y7tick\"><text text-anchor=\"end\" x=\"117\" y=\"4.199999999999999\" style=\"font-family: 'Open Sans', verdana, arial, sans-serif; font-size: 12px; fill: rgb(42, 63, 95); fill-opacity: 1; white-space: pre; opacity: 1;\" transform=\"translate(0,2001.0004938271604)\">−2.000000%</text></g><g class=\"y7tick\"><text text-anchor=\"end\" x=\"117\" y=\"4.199999999999999\" style=\"font-family: 'Open Sans', verdana, arial, sans-serif; font-size: 12px; fill: rgb(42, 63, 95); fill-opacity: 1; white-space: pre; opacity: 1;\" transform=\"translate(0,1954.0904938271603)\">−1.500000%</text></g><g class=\"y7tick\"><text text-anchor=\"end\" x=\"117\" y=\"4.199999999999999\" style=\"font-family: 'Open Sans', verdana, arial, sans-serif; font-size: 12px; fill: rgb(42, 63, 95); fill-opacity: 1; white-space: pre; opacity: 1;\" transform=\"translate(0,1907.1804938271603)\">−1.000000%</text></g><g class=\"y7tick\"><text text-anchor=\"end\" x=\"117\" y=\"4.199999999999999\" style=\"font-family: 'Open Sans', verdana, arial, sans-serif; font-size: 12px; fill: rgb(42, 63, 95); fill-opacity: 1; white-space: pre; opacity: 1;\" transform=\"translate(0,1860.2704938271604)\">−0.500000%</text></g><g class=\"y7tick\"><text text-anchor=\"end\" x=\"117\" y=\"4.199999999999999\" style=\"font-family: 'Open Sans', verdana, arial, sans-serif; font-size: 12px; fill: rgb(42, 63, 95); fill-opacity: 1; white-space: pre; opacity: 1;\" transform=\"translate(0,1813.3604938271603)\">0.000000%</text></g></g><g class=\"overaxes-above\"/></g><g class=\"subplot x8y8\"><g class=\"layer-subplot\"><g class=\"shapelayer\"/><g class=\"imagelayer\"/></g><g class=\"gridlayer\"><g class=\"x8\"><path class=\"x8grid crisp\" transform=\"translate(151.92000000000002,0)\" d=\"M0,2098.087242798354v248.18600823045264\" style=\"stroke: rgb(255, 255, 255); stroke-opacity: 1; stroke-width: 1px;\"/><path class=\"x8grid crisp\" transform=\"translate(285.46000000000004,0)\" d=\"M0,2098.087242798354v248.18600823045264\" style=\"stroke: rgb(255, 255, 255); stroke-opacity: 1; stroke-width: 1px;\"/><path class=\"x8grid crisp\" transform=\"translate(419,0)\" d=\"M0,2098.087242798354v248.18600823045264\" style=\"stroke: rgb(255, 255, 255); stroke-opacity: 1; stroke-width: 1px;\"/><path class=\"x8grid crisp\" transform=\"translate(552.54,0)\" d=\"M0,2098.087242798354v248.18600823045264\" style=\"stroke: rgb(255, 255, 255); stroke-opacity: 1; stroke-width: 1px;\"/><path class=\"x8grid crisp\" transform=\"translate(686.08,0)\" d=\"M0,2098.087242798354v248.18600823045264\" style=\"stroke: rgb(255, 255, 255); stroke-opacity: 1; stroke-width: 1px;\"/></g><g class=\"y8\"><path class=\"y8grid crisp\" transform=\"translate(0,2282.3472427983543)\" d=\"M118,0h602\" style=\"stroke: rgb(255, 255, 255); stroke-opacity: 1; stroke-width: 1px;\"/><path class=\"y8grid crisp\" transform=\"translate(0,2240.317242798354)\" d=\"M118,0h602\" style=\"stroke: rgb(255, 255, 255); stroke-opacity: 1; stroke-width: 1px;\"/><path class=\"y8grid crisp\" transform=\"translate(0,2198.297242798354)\" d=\"M118,0h602\" style=\"stroke: rgb(255, 255, 255); stroke-opacity: 1; stroke-width: 1px;\"/><path class=\"y8grid crisp\" transform=\"translate(0,2156.267242798354)\" d=\"M118,0h602\" style=\"stroke: rgb(255, 255, 255); stroke-opacity: 1; stroke-width: 1px;\"/><path class=\"y8grid crisp\" transform=\"translate(0,2114.247242798354)\" d=\"M118,0h602\" style=\"stroke: rgb(255, 255, 255); stroke-opacity: 1; stroke-width: 1px;\"/></g></g><g class=\"zerolinelayer\"><path class=\"y8zl zl crisp\" transform=\"translate(0,2324.3672427983543)\" d=\"M118,0h602\" style=\"stroke: rgb(255, 255, 255); stroke-opacity: 1; stroke-width: 2px;\"/></g><path class=\"xlines-below\"/><path class=\"ylines-below\"/><g class=\"overlines-below\"/><g class=\"xaxislayer-below\"/><g class=\"yaxislayer-below\"/><g class=\"overaxes-below\"/><g class=\"plot\" transform=\"translate(118,2098.087242798354)\" clip-path=\"url(#clipbc0592x8y8plot)\"><g class=\"scatterlayer mlayer\"><g class=\"trace scatter traceb4bf81a3-8ab5-481a-abbe-9862b911f8e1\" style=\"stroke-miterlimit: 2;\"><g class=\"fills\"><g><path class=\"js-fill\" d=\"M33.92,227.34L167.46,228.42L301,228.64L568.08,232.03L568.08,16.16L33.92,16.16Z\" style=\"fill: rgb(227, 119, 194); fill-opacity: 0.3; stroke-width: 0;\"/></g></g><g class=\"errorbars\"/><g class=\"lines\"><path class=\"js-line\" d=\"M33.92,16.16L568.08,16.16\" style=\"vector-effect: non-scaling-stroke; fill: none; stroke: rgb(0, 0, 0); stroke-opacity: 0; stroke-width: 0px; opacity: 1;\"/></g><g class=\"points\"><path class=\"point\" transform=\"translate(33.92,16.16)\" d=\"M3,0A3,3 0 1,1 0,-3A3,3 0 0,1 3,0Z\" style=\"opacity: 1; stroke-width: 0px; fill: rgb(0, 0, 0); fill-opacity: 0;\"/><path class=\"point\" transform=\"translate(167.46,16.16)\" d=\"M3,0A3,3 0 1,1 0,-3A3,3 0 0,1 3,0Z\" style=\"opacity: 1; stroke-width: 0px; fill: rgb(0, 0, 0); fill-opacity: 0;\"/><path class=\"point\" transform=\"translate(301,16.16)\" d=\"M3,0A3,3 0 1,1 0,-3A3,3 0 0,1 3,0Z\" style=\"opacity: 1; stroke-width: 0px; fill: rgb(0, 0, 0); fill-opacity: 0;\"/><path class=\"point\" transform=\"translate(434.54,16.16)\" d=\"M3,0A3,3 0 1,1 0,-3A3,3 0 0,1 3,0Z\" style=\"opacity: 1; stroke-width: 0px; fill: rgb(0, 0, 0); fill-opacity: 0;\"/><path class=\"point\" transform=\"translate(568.08,16.16)\" d=\"M3,0A3,3 0 1,1 0,-3A3,3 0 0,1 3,0Z\" style=\"opacity: 1; stroke-width: 0px; fill: rgb(0, 0, 0); fill-opacity: 0;\"/></g><g class=\"text\"/></g><g class=\"trace scatter trace14d8dcd3-7b15-4e4e-8552-76e7c59cce59\" style=\"stroke-miterlimit: 2;\"><g class=\"fills\"/><g class=\"errorbars\"/><g class=\"lines\"><path class=\"js-line\" d=\"M33.92,227.34L167.46,228.42L301,228.64L568.08,232.03\" style=\"vector-effect: non-scaling-stroke; fill: none; stroke: rgb(0, 0, 0); stroke-opacity: 0; stroke-width: 0px; opacity: 1;\"/></g><g class=\"points\"><path class=\"point\" transform=\"translate(33.92,227.34)\" d=\"M3,0A3,3 0 1,1 0,-3A3,3 0 0,1 3,0Z\" style=\"opacity: 1; stroke-width: 0px; fill: rgb(0, 0, 0); fill-opacity: 0;\"/><path class=\"point\" transform=\"translate(167.46,228.42)\" d=\"M3,0A3,3 0 1,1 0,-3A3,3 0 0,1 3,0Z\" style=\"opacity: 1; stroke-width: 0px; fill: rgb(0, 0, 0); fill-opacity: 0;\"/><path class=\"point\" transform=\"translate(301,228.64)\" d=\"M3,0A3,3 0 1,1 0,-3A3,3 0 0,1 3,0Z\" style=\"opacity: 1; stroke-width: 0px; fill: rgb(0, 0, 0); fill-opacity: 0;\"/><path class=\"point\" transform=\"translate(434.54,230.61)\" d=\"M3,0A3,3 0 1,1 0,-3A3,3 0 0,1 3,0Z\" style=\"opacity: 1; stroke-width: 0px; fill: rgb(0, 0, 0); fill-opacity: 0;\"/><path class=\"point\" transform=\"translate(568.08,232.03)\" d=\"M3,0A3,3 0 1,1 0,-3A3,3 0 0,1 3,0Z\" style=\"opacity: 1; stroke-width: 0px; fill: rgb(0, 0, 0); fill-opacity: 0;\"/></g><g class=\"text\"/></g><g class=\"trace scatter traceadd5458a-e908-4c7e-bdf1-b171a43250ae\" style=\"stroke-miterlimit: 2; opacity: 1;\"><g class=\"fills\"/><g class=\"errorbars\"/><g class=\"lines\"><path class=\"js-line\" d=\"M33.92,227.34L167.46,228.42L301,228.64L568.08,232.03\" style=\"vector-effect: non-scaling-stroke; fill: none; stroke: rgb(227, 119, 194); stroke-opacity: 1; stroke-width: 2px; opacity: 1;\"/></g><g class=\"points\"><path class=\"point\" transform=\"translate(33.92,227.34)\" d=\"M3,0A3,3 0 1,1 0,-3A3,3 0 0,1 3,0Z\" style=\"opacity: 1; stroke-width: 0px; fill: rgb(227, 119, 194); fill-opacity: 1;\"/><path class=\"point\" transform=\"translate(167.46,228.42)\" d=\"M3,0A3,3 0 1,1 0,-3A3,3 0 0,1 3,0Z\" style=\"opacity: 1; stroke-width: 0px; fill: rgb(227, 119, 194); fill-opacity: 1;\"/><path class=\"point\" transform=\"translate(301,228.64)\" d=\"M3,0A3,3 0 1,1 0,-3A3,3 0 0,1 3,0Z\" style=\"opacity: 1; stroke-width: 0px; fill: rgb(227, 119, 194); fill-opacity: 1;\"/><path class=\"point\" transform=\"translate(434.54,230.61)\" d=\"M3,0A3,3 0 1,1 0,-3A3,3 0 0,1 3,0Z\" style=\"opacity: 1; stroke-width: 0px; fill: rgb(227, 119, 194); fill-opacity: 1;\"/><path class=\"point\" transform=\"translate(568.08,232.03)\" d=\"M3,0A3,3 0 1,1 0,-3A3,3 0 0,1 3,0Z\" style=\"opacity: 1; stroke-width: 0px; fill: rgb(227, 119, 194); fill-opacity: 1;\"/></g><g class=\"text\"/></g><g class=\"trace scatter traced6941d28-6fc5-492d-aefb-baef9194dd9f\" style=\"stroke-miterlimit: 2; opacity: 0;\"><g class=\"fills\"/><g class=\"errorbars\"/><g class=\"lines\"><path class=\"js-line\" d=\"M33.92,16.16L568.08,16.16\" style=\"vector-effect: non-scaling-stroke; fill: none; stroke: rgb(0, 0, 0); stroke-opacity: 0; stroke-width: 0px; opacity: 1;\"/></g><g class=\"points\"><path class=\"point\" transform=\"translate(33.92,16.16)\" d=\"M3,0A3,3 0 1,1 0,-3A3,3 0 0,1 3,0Z\" style=\"opacity: 1; stroke-width: 0px; fill: rgb(0, 0, 0); fill-opacity: 0;\"/><path class=\"point\" transform=\"translate(167.46,16.16)\" d=\"M3,0A3,3 0 1,1 0,-3A3,3 0 0,1 3,0Z\" style=\"opacity: 1; stroke-width: 0px; fill: rgb(0, 0, 0); fill-opacity: 0;\"/><path class=\"point\" transform=\"translate(301,16.16)\" d=\"M3,0A3,3 0 1,1 0,-3A3,3 0 0,1 3,0Z\" style=\"opacity: 1; stroke-width: 0px; fill: rgb(0, 0, 0); fill-opacity: 0;\"/><path class=\"point\" transform=\"translate(434.54,16.16)\" d=\"M3,0A3,3 0 1,1 0,-3A3,3 0 0,1 3,0Z\" style=\"opacity: 1; stroke-width: 0px; fill: rgb(0, 0, 0); fill-opacity: 0;\"/><path class=\"point\" transform=\"translate(568.08,16.16)\" d=\"M3,0A3,3 0 1,1 0,-3A3,3 0 0,1 3,0Z\" style=\"opacity: 1; stroke-width: 0px; fill: rgb(0, 0, 0); fill-opacity: 0;\"/></g><g class=\"text\"/></g></g></g><g class=\"overplot\"/><path class=\"xlines-above crisp\" d=\"M0,0\" style=\"fill: none;\"/><path class=\"ylines-above crisp\" d=\"M0,0\" style=\"fill: none;\"/><g class=\"overlines-above\"/><g class=\"xaxislayer-above\"/><g class=\"yaxislayer-above\"><g class=\"y8tick\"><text text-anchor=\"end\" x=\"117\" y=\"4.199999999999999\" transform=\"translate(0,2324.3672427983543)\" style=\"font-family: 'Open Sans', verdana, arial, sans-serif; font-size: 12px; fill: rgb(42, 63, 95); fill-opacity: 1; white-space: pre; opacity: 1;\">0</text></g><g class=\"y8tick\"><text text-anchor=\"end\" x=\"117\" y=\"4.199999999999999\" style=\"font-family: 'Open Sans', verdana, arial, sans-serif; font-size: 12px; fill: rgb(42, 63, 95); fill-opacity: 1; white-space: pre; opacity: 1;\" transform=\"translate(0,2282.3472427983543)\">0.2</text></g><g class=\"y8tick\"><text text-anchor=\"end\" x=\"117\" y=\"4.199999999999999\" style=\"font-family: 'Open Sans', verdana, arial, sans-serif; font-size: 12px; fill: rgb(42, 63, 95); fill-opacity: 1; white-space: pre; opacity: 1;\" transform=\"translate(0,2240.317242798354)\">0.4</text></g><g class=\"y8tick\"><text text-anchor=\"end\" x=\"117\" y=\"4.199999999999999\" style=\"font-family: 'Open Sans', verdana, arial, sans-serif; font-size: 12px; fill: rgb(42, 63, 95); fill-opacity: 1; white-space: pre; opacity: 1;\" transform=\"translate(0,2198.297242798354)\">0.6</text></g><g class=\"y8tick\"><text text-anchor=\"end\" x=\"117\" y=\"4.199999999999999\" style=\"font-family: 'Open Sans', verdana, arial, sans-serif; font-size: 12px; fill: rgb(42, 63, 95); fill-opacity: 1; white-space: pre; opacity: 1;\" transform=\"translate(0,2156.267242798354)\">0.8</text></g><g class=\"y8tick\"><text text-anchor=\"end\" x=\"117\" y=\"4.199999999999999\" style=\"font-family: 'Open Sans', verdana, arial, sans-serif; font-size: 12px; fill: rgb(42, 63, 95); fill-opacity: 1; white-space: pre; opacity: 1;\" transform=\"translate(0,2114.247242798354)\">1</text></g></g><g class=\"overaxes-above\"/></g><g class=\"subplot x9y9\"><g class=\"layer-subplot\"><g class=\"shapelayer\"/><g class=\"imagelayer\"/></g><g class=\"gridlayer\"><g class=\"x9\"><path class=\"x9grid crisp\" transform=\"translate(151.92000000000002,0)\" d=\"M0,2383.813991769547v248.18600823045267\" style=\"stroke: rgb(255, 255, 255); stroke-opacity: 1; stroke-width: 1px;\"/><path class=\"x9grid crisp\" transform=\"translate(285.46000000000004,0)\" d=\"M0,2383.813991769547v248.18600823045267\" style=\"stroke: rgb(255, 255, 255); stroke-opacity: 1; stroke-width: 1px;\"/><path class=\"x9grid crisp\" transform=\"translate(419,0)\" d=\"M0,2383.813991769547v248.18600823045267\" style=\"stroke: rgb(255, 255, 255); stroke-opacity: 1; stroke-width: 1px;\"/><path class=\"x9grid crisp\" transform=\"translate(552.54,0)\" d=\"M0,2383.813991769547v248.18600823045267\" style=\"stroke: rgb(255, 255, 255); stroke-opacity: 1; stroke-width: 1px;\"/><path class=\"x9grid crisp\" transform=\"translate(686.08,0)\" d=\"M0,2383.813991769547v248.18600823045267\" style=\"stroke: rgb(255, 255, 255); stroke-opacity: 1; stroke-width: 1px;\"/></g><g class=\"y9\"><path class=\"y9grid crisp\" transform=\"translate(0,2619.253991769547)\" d=\"M118,0h602\" style=\"stroke: rgb(255, 255, 255); stroke-opacity: 1; stroke-width: 1px;\"/><path class=\"y9grid crisp\" transform=\"translate(0,2575.4039917695472)\" d=\"M118,0h602\" style=\"stroke: rgb(255, 255, 255); stroke-opacity: 1; stroke-width: 1px;\"/><path class=\"y9grid crisp\" transform=\"translate(0,2531.543991769547)\" d=\"M118,0h602\" style=\"stroke: rgb(255, 255, 255); stroke-opacity: 1; stroke-width: 1px;\"/><path class=\"y9grid crisp\" transform=\"translate(0,2487.683991769547)\" d=\"M118,0h602\" style=\"stroke: rgb(255, 255, 255); stroke-opacity: 1; stroke-width: 1px;\"/><path class=\"y9grid crisp\" transform=\"translate(0,2443.833991769547)\" d=\"M118,0h602\" style=\"stroke: rgb(255, 255, 255); stroke-opacity: 1; stroke-width: 1px;\"/></g></g><g class=\"zerolinelayer\"><path class=\"y9zl zl crisp\" transform=\"translate(0,2399.973991769547)\" d=\"M118,0h602\" style=\"stroke: rgb(255, 255, 255); stroke-opacity: 1; stroke-width: 2px;\"/></g><path class=\"xlines-below\"/><path class=\"ylines-below\"/><g class=\"overlines-below\"/><g class=\"xaxislayer-below\"/><g class=\"yaxislayer-below\"/><g class=\"overaxes-below\"/><g class=\"plot\" transform=\"translate(118,2383.813991769547)\" clip-path=\"url(#clipbc0592x9y9plot)\"><g class=\"scatterlayer mlayer\"><g class=\"trace scatter tracea3cea7c7-7a30-40de-b8c8-8d0229c61fb7\" style=\"stroke-miterlimit: 2;\"><g class=\"fills\"><g><path class=\"js-fill\" d=\"M33.92,60.04L167.46,103.57L301,112.31L434.54,189.68L568.08,232.03L568.08,16.16L33.92,16.16Z\" style=\"fill: rgb(255, 127, 14); fill-opacity: 0.3; stroke-width: 0;\"/></g></g><g class=\"errorbars\"/><g class=\"lines\"><path class=\"js-line\" d=\"M33.92,16.16L568.08,16.16\" style=\"vector-effect: non-scaling-stroke; fill: none; stroke: rgb(0, 0, 0); stroke-opacity: 0; stroke-width: 0px; opacity: 1;\"/></g><g class=\"points\"><path class=\"point\" transform=\"translate(33.92,16.16)\" d=\"M3,0A3,3 0 1,1 0,-3A3,3 0 0,1 3,0Z\" style=\"opacity: 1; stroke-width: 0px; fill: rgb(0, 0, 0); fill-opacity: 0;\"/><path class=\"point\" transform=\"translate(167.46,16.16)\" d=\"M3,0A3,3 0 1,1 0,-3A3,3 0 0,1 3,0Z\" style=\"opacity: 1; stroke-width: 0px; fill: rgb(0, 0, 0); fill-opacity: 0;\"/><path class=\"point\" transform=\"translate(301,16.16)\" d=\"M3,0A3,3 0 1,1 0,-3A3,3 0 0,1 3,0Z\" style=\"opacity: 1; stroke-width: 0px; fill: rgb(0, 0, 0); fill-opacity: 0;\"/><path class=\"point\" transform=\"translate(434.54,16.16)\" d=\"M3,0A3,3 0 1,1 0,-3A3,3 0 0,1 3,0Z\" style=\"opacity: 1; stroke-width: 0px; fill: rgb(0, 0, 0); fill-opacity: 0;\"/><path class=\"point\" transform=\"translate(568.08,16.16)\" d=\"M3,0A3,3 0 1,1 0,-3A3,3 0 0,1 3,0Z\" style=\"opacity: 1; stroke-width: 0px; fill: rgb(0, 0, 0); fill-opacity: 0;\"/></g><g class=\"text\"/></g><g class=\"trace scatter tracea0d71205-34c5-4c5a-87c6-477a49df72c0\" style=\"stroke-miterlimit: 2;\"><g class=\"fills\"/><g class=\"errorbars\"/><g class=\"lines\"><path class=\"js-line\" d=\"M33.92,60.04L167.46,103.57L301,112.31L434.54,189.68L568.08,232.03\" style=\"vector-effect: non-scaling-stroke; fill: none; stroke: rgb(0, 0, 0); stroke-opacity: 0; stroke-width: 0px; opacity: 1;\"/></g><g class=\"points\"><path class=\"point\" transform=\"translate(33.92,60.04)\" d=\"M3,0A3,3 0 1,1 0,-3A3,3 0 0,1 3,0Z\" style=\"opacity: 1; stroke-width: 0px; fill: rgb(0, 0, 0); fill-opacity: 0;\"/><path class=\"point\" transform=\"translate(167.46,103.57)\" d=\"M3,0A3,3 0 1,1 0,-3A3,3 0 0,1 3,0Z\" style=\"opacity: 1; stroke-width: 0px; fill: rgb(0, 0, 0); fill-opacity: 0;\"/><path class=\"point\" transform=\"translate(301,112.31)\" d=\"M3,0A3,3 0 1,1 0,-3A3,3 0 0,1 3,0Z\" style=\"opacity: 1; stroke-width: 0px; fill: rgb(0, 0, 0); fill-opacity: 0;\"/><path class=\"point\" transform=\"translate(434.54,189.68)\" d=\"M3,0A3,3 0 1,1 0,-3A3,3 0 0,1 3,0Z\" style=\"opacity: 1; stroke-width: 0px; fill: rgb(0, 0, 0); fill-opacity: 0;\"/><path class=\"point\" transform=\"translate(568.08,232.03)\" d=\"M3,0A3,3 0 1,1 0,-3A3,3 0 0,1 3,0Z\" style=\"opacity: 1; stroke-width: 0px; fill: rgb(0, 0, 0); fill-opacity: 0;\"/></g><g class=\"text\"/></g><g class=\"trace scatter tracedc6a5382-e2ad-419a-b4a0-ef0e1cbb1fe7\" style=\"stroke-miterlimit: 2; opacity: 1;\"><g class=\"fills\"/><g class=\"errorbars\"/><g class=\"lines\"><path class=\"js-line\" d=\"M33.92,60.04L167.46,103.57L301,112.31L434.54,189.68L568.08,232.03\" style=\"vector-effect: non-scaling-stroke; fill: none; stroke: rgb(227, 119, 194); stroke-opacity: 1; stroke-width: 2px; opacity: 1;\"/></g><g class=\"points\"><path class=\"point\" transform=\"translate(33.92,60.04)\" d=\"M3,0A3,3 0 1,1 0,-3A3,3 0 0,1 3,0Z\" style=\"opacity: 1; stroke-width: 0px; fill: rgb(227, 119, 194); fill-opacity: 1;\"/><path class=\"point\" transform=\"translate(167.46,103.57)\" d=\"M3,0A3,3 0 1,1 0,-3A3,3 0 0,1 3,0Z\" style=\"opacity: 1; stroke-width: 0px; fill: rgb(227, 119, 194); fill-opacity: 1;\"/><path class=\"point\" transform=\"translate(301,112.31)\" d=\"M3,0A3,3 0 1,1 0,-3A3,3 0 0,1 3,0Z\" style=\"opacity: 1; stroke-width: 0px; fill: rgb(227, 119, 194); fill-opacity: 1;\"/><path class=\"point\" transform=\"translate(434.54,189.68)\" d=\"M3,0A3,3 0 1,1 0,-3A3,3 0 0,1 3,0Z\" style=\"opacity: 1; stroke-width: 0px; fill: rgb(227, 119, 194); fill-opacity: 1;\"/><path class=\"point\" transform=\"translate(568.08,232.03)\" d=\"M3,0A3,3 0 1,1 0,-3A3,3 0 0,1 3,0Z\" style=\"opacity: 1; stroke-width: 0px; fill: rgb(227, 119, 194); fill-opacity: 1;\"/></g><g class=\"text\"/></g><g class=\"trace scatter trace7eb337b7-bed8-4458-a408-bd0bc6b1fb33\" style=\"stroke-miterlimit: 2; opacity: 0;\"><g class=\"fills\"/><g class=\"errorbars\"/><g class=\"lines\"><path class=\"js-line\" d=\"M33.92,16.16L568.08,16.16\" style=\"vector-effect: non-scaling-stroke; fill: none; stroke: rgb(0, 0, 0); stroke-opacity: 0; stroke-width: 0px; opacity: 1;\"/></g><g class=\"points\"><path class=\"point\" transform=\"translate(33.92,16.16)\" d=\"M3,0A3,3 0 1,1 0,-3A3,3 0 0,1 3,0Z\" style=\"opacity: 1; stroke-width: 0px; fill: rgb(0, 0, 0); fill-opacity: 0;\"/><path class=\"point\" transform=\"translate(167.46,16.16)\" d=\"M3,0A3,3 0 1,1 0,-3A3,3 0 0,1 3,0Z\" style=\"opacity: 1; stroke-width: 0px; fill: rgb(0, 0, 0); fill-opacity: 0;\"/><path class=\"point\" transform=\"translate(301,16.16)\" d=\"M3,0A3,3 0 1,1 0,-3A3,3 0 0,1 3,0Z\" style=\"opacity: 1; stroke-width: 0px; fill: rgb(0, 0, 0); fill-opacity: 0;\"/><path class=\"point\" transform=\"translate(434.54,16.16)\" d=\"M3,0A3,3 0 1,1 0,-3A3,3 0 0,1 3,0Z\" style=\"opacity: 1; stroke-width: 0px; fill: rgb(0, 0, 0); fill-opacity: 0;\"/><path class=\"point\" transform=\"translate(568.08,16.16)\" d=\"M3,0A3,3 0 1,1 0,-3A3,3 0 0,1 3,0Z\" style=\"opacity: 1; stroke-width: 0px; fill: rgb(0, 0, 0); fill-opacity: 0;\"/></g><g class=\"text\"/></g></g></g><g class=\"overplot\"/><path class=\"xlines-above crisp\" d=\"M0,0\" style=\"fill: none;\"/><path class=\"ylines-above crisp\" d=\"M0,0\" style=\"fill: none;\"/><g class=\"overlines-above\"/><g class=\"xaxislayer-above\"><g class=\"x9tick\"><text text-anchor=\"middle\" x=\"0\" y=\"2645\" transform=\"translate(151.92000000000002,0)\" style=\"font-family: 'Open Sans', verdana, arial, sans-serif; font-size: 12px; fill: rgb(42, 63, 95); fill-opacity: 1; white-space: pre; opacity: 1;\"><tspan class=\"line\" dy=\"0em\" x=\"0\" y=\"2645\">Jan 1</tspan><tspan class=\"line\" dy=\"1.3em\" x=\"0\" y=\"2645\">2020</tspan></text></g><g class=\"x9tick\"><text text-anchor=\"middle\" x=\"0\" y=\"2645\" style=\"font-family: 'Open Sans', verdana, arial, sans-serif; font-size: 12px; fill: rgb(42, 63, 95); fill-opacity: 1; white-space: pre; opacity: 1;\" transform=\"translate(285.46000000000004,0)\">Jan 2</text></g><g class=\"x9tick\"><text text-anchor=\"middle\" x=\"0\" y=\"2645\" style=\"font-family: 'Open Sans', verdana, arial, sans-serif; font-size: 12px; fill: rgb(42, 63, 95); fill-opacity: 1; white-space: pre; opacity: 1;\" transform=\"translate(419,0)\">Jan 3</text></g><g class=\"x9tick\"><text text-anchor=\"middle\" x=\"0\" y=\"2645\" style=\"font-family: 'Open Sans', verdana, arial, sans-serif; font-size: 12px; fill: rgb(42, 63, 95); fill-opacity: 1; white-space: pre; opacity: 1;\" transform=\"translate(552.54,0)\">Jan 4</text></g><g class=\"x9tick\"><text text-anchor=\"middle\" x=\"0\" y=\"2645\" style=\"font-family: 'Open Sans', verdana, arial, sans-serif; font-size: 12px; fill: rgb(42, 63, 95); fill-opacity: 1; white-space: pre; opacity: 1;\" transform=\"translate(686.08,0)\">Jan 5</text></g></g><g class=\"yaxislayer-above\"><g class=\"y9tick\"><text text-anchor=\"end\" x=\"117\" y=\"4.199999999999999\" transform=\"translate(0,2619.253991769547)\" style=\"font-family: 'Open Sans', verdana, arial, sans-serif; font-size: 12px; fill: rgb(42, 63, 95); fill-opacity: 1; white-space: pre; opacity: 1;\">−0.025</text></g><g class=\"y9tick\"><text text-anchor=\"end\" x=\"117\" y=\"4.199999999999999\" style=\"font-family: 'Open Sans', verdana, arial, sans-serif; font-size: 12px; fill: rgb(42, 63, 95); fill-opacity: 1; white-space: pre; opacity: 1;\" transform=\"translate(0,2575.4039917695472)\">−0.02</text></g><g class=\"y9tick\"><text text-anchor=\"end\" x=\"117\" y=\"4.199999999999999\" style=\"font-family: 'Open Sans', verdana, arial, sans-serif; font-size: 12px; fill: rgb(42, 63, 95); fill-opacity: 1; white-space: pre; opacity: 1;\" transform=\"translate(0,2531.543991769547)\">−0.015</text></g><g class=\"y9tick\"><text text-anchor=\"end\" x=\"117\" y=\"4.199999999999999\" style=\"font-family: 'Open Sans', verdana, arial, sans-serif; font-size: 12px; fill: rgb(42, 63, 95); fill-opacity: 1; white-space: pre; opacity: 1;\" transform=\"translate(0,2487.683991769547)\">−0.01</text></g><g class=\"y9tick\"><text text-anchor=\"end\" x=\"117\" y=\"4.199999999999999\" style=\"font-family: 'Open Sans', verdana, arial, sans-serif; font-size: 12px; fill: rgb(42, 63, 95); fill-opacity: 1; white-space: pre; opacity: 1;\" transform=\"translate(0,2443.833991769547)\">−0.005</text></g><g class=\"y9tick\"><text text-anchor=\"end\" x=\"117\" y=\"4.199999999999999\" style=\"font-family: 'Open Sans', verdana, arial, sans-serif; font-size: 12px; fill: rgb(42, 63, 95); fill-opacity: 1; white-space: pre; opacity: 1;\" transform=\"translate(0,2399.973991769547)\">0</text></g></g><g class=\"overaxes-above\"/></g></g><g class=\"polarlayer\"/><g class=\"ternarylayer\"/><g class=\"geolayer\"/><g class=\"funnelarealayer\"/><g class=\"pielayer\"/><g class=\"iciclelayer\"/><g class=\"treemaplayer\"/><g class=\"sunburstlayer\"/><g class=\"glimages\"/><defs id=\"topdefs-bc0592\"><g class=\"clips\"/><clipPath id=\"legendbc0592\"><rect width=\"535\" height=\"48\" x=\"0\" y=\"0\"/></clipPath></defs><g class=\"layer-above\"><g class=\"imagelayer\"/><g class=\"shapelayer\"><path data-index=\"0\" fill-rule=\"evenodd\" d=\"M118,251.02L720,251.02\" clip-path=\"url(#clipbc0592y)\" style=\"opacity: 1; stroke: rgb(128, 128, 128); stroke-opacity: 1; fill: rgb(0, 0, 0); fill-opacity: 0; stroke-dasharray: 9px, 9px; stroke-width: 2px;\"/><path data-index=\"1\" fill-rule=\"evenodd\" d=\"M118,605.936748971193L720,605.936748971193\" clip-path=\"url(#clipbc0592y2)\" style=\"opacity: 1; stroke: rgb(128, 128, 128); stroke-opacity: 1; fill: rgb(0, 0, 0); fill-opacity: 0; stroke-dasharray: 9px, 9px; stroke-width: 2px;\"/><path data-index=\"2\" fill-rule=\"evenodd\" d=\"M118,685.6134979423865L720,685.6134979423865\" clip-path=\"url(#clipbc0592y3)\" style=\"opacity: 1; stroke: rgb(128, 128, 128); stroke-opacity: 1; fill: rgb(0, 0, 0); fill-opacity: 0; stroke-dasharray: 9px, 9px; stroke-width: 2px;\"/><path data-index=\"3\" fill-rule=\"evenodd\" d=\"M118,971.3402469135801L720,971.3402469135801\" clip-path=\"url(#clipbc0592y4)\" style=\"opacity: 1; stroke: rgb(128, 128, 128); stroke-opacity: 1; fill: rgb(0, 0, 0); fill-opacity: 0; stroke-dasharray: 9px, 9px; stroke-width: 2px;\"/><path data-index=\"4\" fill-rule=\"evenodd\" d=\"M118,1470.9769958847735L720,1470.9769958847735\" clip-path=\"url(#clipbc0592y5)\" style=\"opacity: 1; stroke: rgb(128, 128, 128); stroke-opacity: 1; fill: rgb(0, 0, 0); fill-opacity: 0; stroke-dasharray: 9px, 9px; stroke-width: 2px;\"/><path data-index=\"6\" fill-rule=\"evenodd\" d=\"M118,1813.3604938271603L720,1813.3604938271603\" clip-path=\"url(#clipbc0592y7)\" style=\"opacity: 1; stroke: rgb(128, 128, 128); stroke-opacity: 1; fill: rgb(0, 0, 0); fill-opacity: 0; stroke-dasharray: 9px, 9px; stroke-width: 2px;\"/><path data-index=\"7\" fill-rule=\"evenodd\" d=\"M118,2114.247242798354L720,2114.247242798354\" clip-path=\"url(#clipbc0592y8)\" style=\"opacity: 1; stroke: rgb(128, 128, 128); stroke-opacity: 1; fill: rgb(0, 0, 0); fill-opacity: 0; stroke-dasharray: 9px, 9px; stroke-width: 2px;\"/><path data-index=\"8\" fill-rule=\"evenodd\" d=\"M118,2399.973991769547L720,2399.973991769547\" clip-path=\"url(#clipbc0592y9)\" style=\"opacity: 1; stroke: rgb(128, 128, 128); stroke-opacity: 1; fill: rgb(0, 0, 0); fill-opacity: 0; stroke-dasharray: 9px, 9px; stroke-width: 2px;\"/></g></g><g class=\"infolayer\"><g class=\"legend\" pointer-events=\"all\" transform=\"translate(185,12.459259259259206)\"><rect class=\"bg\" shape-rendering=\"crispEdges\" width=\"535\" height=\"48\" x=\"0\" y=\"0\" style=\"stroke: rgb(68, 68, 68); stroke-opacity: 1; fill: rgb(255, 255, 255); fill-opacity: 1; stroke-width: 0px;\"/><g class=\"scrollbox\" transform=\"\" clip-path=\"url(#legendbc0592)\"><g class=\"groups\"><g class=\"traces\" transform=\"translate(0,14.5)\" style=\"opacity: 1;\"><text class=\"legendtext\" text-anchor=\"start\" x=\"40\" y=\"4.680000000000001\" style=\"font-family: 'Open Sans', verdana, arial, sans-serif; font-size: 12px; fill: rgb(42, 63, 95); fill-opacity: 1; white-space: pre;\">Cash</text><g class=\"layers\" style=\"opacity: 1;\"><g class=\"legendfill\"/><g class=\"legendlines\"><path class=\"js-line\" d=\"M5,0h30\" style=\"fill: none; stroke: rgb(44, 160, 44); stroke-opacity: 1; stroke-width: 2px;\"/></g><g class=\"legendsymbols\"><g class=\"legendpoints\"><path class=\"scatterpts\" transform=\"translate(20,0)\" d=\"M3,0A3,3 0 1,1 0,-3A3,3 0 0,1 3,0Z\" style=\"opacity: 1; stroke-width: 0px; fill: rgb(44, 160, 44); fill-opacity: 1;\"/></g></g></g><rect class=\"legendtoggle\" x=\"0\" y=\"-9.5\" width=\"71.921875\" height=\"19\" style=\"fill: rgb(0, 0, 0); fill-opacity: 0;\"/></g><g class=\"traces\" transform=\"translate(115.234375,14.5)\" style=\"opacity: 1;\"><text class=\"legendtext\" text-anchor=\"start\" x=\"40\" y=\"4.680000000000001\" style=\"font-family: 'Open Sans', verdana, arial, sans-serif; font-size: 12px; fill: rgb(42, 63, 95); fill-opacity: 1; white-space: pre;\">Asset Value</text><g class=\"layers\" style=\"opacity: 1;\"><g class=\"legendfill\"/><g class=\"legendlines\"><path class=\"js-line\" d=\"M5,0h30\" style=\"fill: none; stroke: rgb(23, 190, 207); stroke-opacity: 1; stroke-width: 2px;\"/></g><g class=\"legendsymbols\"><g class=\"legendpoints\"><path class=\"scatterpts\" transform=\"translate(20,0)\" d=\"M3,0A3,3 0 1,1 0,-3A3,3 0 0,1 3,0Z\" style=\"opacity: 1; stroke-width: 0px; fill: rgb(23, 190, 207); fill-opacity: 1;\"/></g></g></g><rect class=\"legendtoggle\" x=\"0\" y=\"-9.5\" width=\"112.734375\" height=\"19\" style=\"fill: rgb(0, 0, 0); fill-opacity: 0;\"/></g><g class=\"traces\" transform=\"translate(230.46875,14.5)\" style=\"opacity: 1;\"><text class=\"legendtext\" text-anchor=\"start\" x=\"40\" y=\"4.680000000000001\" style=\"font-family: 'Open Sans', verdana, arial, sans-serif; font-size: 12px; fill: rgb(42, 63, 95); fill-opacity: 1; white-space: pre;\">Value</text><g class=\"layers\" style=\"opacity: 1;\"><g class=\"legendfill\"/><g class=\"legendlines\"><path class=\"js-line\" d=\"M5,0h30\" style=\"fill: none; stroke: rgb(148, 103, 189); stroke-opacity: 1; stroke-width: 2px;\"/></g><g class=\"legendsymbols\"><g class=\"legendpoints\"><path class=\"scatterpts\" transform=\"translate(20,0)\" d=\"M3,0A3,3 0 1,1 0,-3A3,3 0 0,1 3,0Z\" style=\"opacity: 1; stroke-width: 0px; fill: rgb(148, 103, 189); fill-opacity: 1;\"/></g></g></g><rect class=\"legendtoggle\" x=\"0\" y=\"-9.5\" width=\"75.9375\" height=\"19\" style=\"fill: rgb(0, 0, 0); fill-opacity: 0;\"/></g><g class=\"traces\" transform=\"translate(345.703125,14.5)\" style=\"opacity: 1;\"><text class=\"legendtext\" text-anchor=\"start\" x=\"40\" y=\"4.680000000000001\" style=\"font-family: 'Open Sans', verdana, arial, sans-serif; font-size: 12px; fill: rgb(42, 63, 95); fill-opacity: 1; white-space: pre;\">Benchmark</text><g class=\"layers\" style=\"opacity: 1;\"><g class=\"legendfill\"/><g class=\"legendlines\"><path class=\"js-line\" d=\"M5,0h30\" style=\"fill: none; stroke: rgb(127, 127, 127); stroke-opacity: 1; stroke-width: 2px;\"/></g><g class=\"legendsymbols\"><g class=\"legendpoints\"><path class=\"scatterpts\" transform=\"translate(20,0)\" d=\"M3,0A3,3 0 1,1 0,-3A3,3 0 0,1 3,0Z\" style=\"opacity: 1; stroke-width: 0px; fill: rgb(127, 127, 127); fill-opacity: 1;\"/></g></g></g><rect class=\"legendtoggle\" x=\"0\" y=\"-9.5\" width=\"110.40625\" height=\"19\" style=\"fill: rgb(0, 0, 0); fill-opacity: 0;\"/></g><g class=\"traces\" transform=\"translate(460.9375,14.5)\" style=\"opacity: 1;\"><text class=\"legendtext\" text-anchor=\"start\" x=\"40\" y=\"4.680000000000001\" style=\"font-family: 'Open Sans', verdana, arial, sans-serif; font-size: 12px; fill: rgb(42, 63, 95); fill-opacity: 1; white-space: pre;\">Peak</text><g class=\"layers\" style=\"opacity: 1;\"><g class=\"legendfill\"/><g class=\"legendlines\"/><g class=\"legendsymbols\"><g class=\"legendpoints\"><path class=\"scatterpts\" transform=\"translate(20,0)\" d=\"M4.55,0L0,4.55L-4.55,0L0,-4.55Z\" style=\"opacity: 1; stroke-width: 1px; fill: rgb(66, 133, 244); fill-opacity: 1; stroke: rgb(11, 84, 205); stroke-opacity: 1;\"/></g></g></g><rect class=\"legendtoggle\" x=\"0\" y=\"-9.5\" width=\"71.1875\" height=\"19\" style=\"fill: rgb(0, 0, 0); fill-opacity: 0;\"/></g><g class=\"traces\" transform=\"translate(0,33.5)\" style=\"opacity: 1;\"><text class=\"legendtext\" text-anchor=\"start\" x=\"40\" y=\"4.680000000000001\" style=\"font-family: 'Open Sans', verdana, arial, sans-serif; font-size: 12px; fill: rgb(42, 63, 95); fill-opacity: 1; white-space: pre;\">Active</text><g class=\"layers\" style=\"opacity: 1;\"><g class=\"legendfill\"/><g class=\"legendlines\"/><g class=\"legendsymbols\"><g class=\"legendpoints\"><path class=\"scatterpts\" transform=\"translate(20,0)\" d=\"M4.55,0L0,4.55L-4.55,0L0,-4.55Z\" style=\"opacity: 1; stroke-width: 1px; fill: rgb(255, 170, 0); fill-opacity: 1; stroke: rgb(178, 118, 0); stroke-opacity: 1;\"/></g></g></g><rect class=\"legendtoggle\" x=\"0\" y=\"-9.5\" width=\"79.21875\" height=\"19\" style=\"fill: rgb(0, 0, 0); fill-opacity: 0;\"/></g><g class=\"traces\" transform=\"translate(115.234375,33.5)\" style=\"opacity: 1;\"><text class=\"legendtext\" text-anchor=\"start\" x=\"40\" y=\"4.680000000000001\" style=\"font-family: 'Open Sans', verdana, arial, sans-serif; font-size: 12px; fill: rgb(42, 63, 95); fill-opacity: 1; white-space: pre;\">Drawdown</text><g class=\"layers\"><g class=\"legendfill\"><path class=\"js-fill\" d=\"M5,0h30v6h-30z\" style=\"stroke-width: 0; fill: rgb(220, 57, 18); fill-opacity: 0.3;\"/></g><g class=\"legendlines\"><path class=\"js-line\" d=\"M5,0h30\" style=\"fill: none; stroke: rgb(220, 57, 18); stroke-opacity: 1; stroke-width: 2px;\"/></g><g class=\"legendsymbols\"><g class=\"legendpoints\"><path class=\"scatterpts\" transform=\"translate(20,0)\" d=\"M3,0A3,3 0 1,1 0,-3A3,3 0 0,1 3,0Z\" style=\"opacity: 1; stroke-width: 0px; fill: rgb(220, 57, 18); fill-opacity: 1;\"/></g></g></g><rect class=\"legendtoggle\" x=\"0\" y=\"-9.5\" width=\"106.0625\" height=\"19\" style=\"fill: rgb(0, 0, 0); fill-opacity: 0;\"/></g><g class=\"traces\" transform=\"translate(230.46875,33.5)\" style=\"opacity: 1;\"><text class=\"legendtext\" text-anchor=\"start\" x=\"40\" y=\"4.680000000000001\" style=\"font-family: 'Open Sans', verdana, arial, sans-serif; font-size: 12px; fill: rgb(42, 63, 95); fill-opacity: 1; white-space: pre;\">Exposure</text><g class=\"layers\" style=\"opacity: 1;\"><g class=\"legendfill\"/><g class=\"legendlines\"><path class=\"js-line\" d=\"M5,0h30\" style=\"fill: none; stroke: rgb(227, 119, 194); stroke-opacity: 1; stroke-width: 2px;\"/></g><g class=\"legendsymbols\"><g class=\"legendpoints\"><path class=\"scatterpts\" transform=\"translate(20,0)\" d=\"M3,0A3,3 0 1,1 0,-3A3,3 0 0,1 3,0Z\" style=\"opacity: 1; stroke-width: 0px; fill: rgb(227, 119, 194); fill-opacity: 1;\"/></g></g></g><rect class=\"legendtoggle\" x=\"0\" y=\"-9.5\" width=\"98.0625\" height=\"19\" style=\"fill: rgb(0, 0, 0); fill-opacity: 0;\"/></g></g></g><rect class=\"scrollbar\" rx=\"20\" ry=\"3\" width=\"0\" height=\"0\" x=\"0\" y=\"0\" style=\"fill: rgb(128, 139, 164); fill-opacity: 1;\"/></g><g class=\"g-gtitle\"/><g class=\"g-xtitle\"/><g class=\"g-x2title\"/><g class=\"g-x3title\"/><g class=\"g-x4title\"/><g class=\"g-x5title\"/><g class=\"g-x6title\"/><g class=\"g-x7title\"/><g class=\"g-x8title\"/><g class=\"g-x9title\"><text class=\"x9title\" x=\"419\" y=\"2687.89375\" text-anchor=\"middle\" style=\"font-family: 'Open Sans', verdana, arial, sans-serif; font-size: 14px; fill: rgb(42, 63, 95); opacity: 1; font-weight: normal; white-space: pre;\">Index</text></g><g class=\"g-ytitle\"><text class=\"ytitle\" transform=\"rotate(-90,62.746875,222.09300411522625)\" x=\"62.746875\" y=\"222.09300411522625\" text-anchor=\"middle\" style=\"font-family: 'Open Sans', verdana, arial, sans-serif; font-size: 14px; fill: rgb(42, 63, 95); opacity: 1; font-weight: normal; white-space: pre;\">Cash flow</text></g><g class=\"g-y2title\"><text class=\"y2title\" transform=\"rotate(-90,57.309375,507.8197530864194)\" x=\"57.309375\" y=\"507.8197530864194\" text-anchor=\"middle\" style=\"font-family: 'Open Sans', verdana, arial, sans-serif; font-size: 14px; fill: rgb(42, 63, 95); opacity: 1; font-weight: normal; white-space: pre;\">Cash</text></g><g class=\"g-y3title\"><text class=\"y3title\" transform=\"rotate(-90,74.746875,793.546502057613)\" x=\"74.746875\" y=\"793.546502057613\" text-anchor=\"middle\" style=\"font-family: 'Open Sans', verdana, arial, sans-serif; font-size: 14px; fill: rgb(42, 63, 95); opacity: 1; font-weight: normal; white-space: pre;\">Asset value</text></g><g class=\"g-y4title\"><text class=\"y4title\" transform=\"rotate(-90,69.309375,1079.2732510288065)\" x=\"69.309375\" y=\"1079.2732510288065\" text-anchor=\"middle\" style=\"font-family: 'Open Sans', verdana, arial, sans-serif; font-size: 14px; fill: rgb(42, 63, 95); opacity: 1; font-weight: normal; white-space: pre;\">Value</text></g><g class=\"g-y5title\"><text class=\"y5title\" transform=\"rotate(-90,72.575,1365)\" x=\"72.575\" y=\"1365\" text-anchor=\"middle\" style=\"font-family: 'Open Sans', verdana, arial, sans-serif; font-size: 14px; fill: rgb(42, 63, 95); opacity: 1; font-weight: normal; white-space: pre;\">Cumulative returns</text></g><g class=\"g-y6title\"><text class=\"y6title\" transform=\"rotate(-90,69.309375,1650.7267489711933)\" x=\"69.309375\" y=\"1650.7267489711933\" text-anchor=\"middle\" style=\"font-family: 'Open Sans', verdana, arial, sans-serif; font-size: 14px; fill: rgb(42, 63, 95); opacity: 1; font-weight: normal; white-space: pre;\">Value</text></g><g class=\"g-y7title\" transform=\"translate(2.31640625,0)\"><text class=\"y7title\" transform=\"rotate(-90,11.684375000000003,1936.4534979423865)\" x=\"11.684375000000003\" y=\"1936.4534979423865\" text-anchor=\"middle\" style=\"font-family: 'Open Sans', verdana, arial, sans-serif; font-size: 14px; fill: rgb(42, 63, 95); opacity: 1; font-weight: normal; white-space: pre;\">Drawdown</text></g><g class=\"g-y8title\"><text class=\"y8title\" transform=\"rotate(-90,72.575,2222.1802469135805)\" x=\"72.575\" y=\"2222.1802469135805\" text-anchor=\"middle\" style=\"font-family: 'Open Sans', verdana, arial, sans-serif; font-size: 14px; fill: rgb(42, 63, 95); opacity: 1; font-weight: normal; white-space: pre;\">Gross exposure</text></g><g class=\"g-y9title\"><text class=\"y9title\" transform=\"rotate(-90,47.496875,2507.9069958847736)\" x=\"47.496875\" y=\"2507.9069958847736\" text-anchor=\"middle\" style=\"font-family: 'Open Sans', verdana, arial, sans-serif; font-size: 14px; fill: rgb(42, 63, 95); opacity: 1; font-weight: normal; white-space: pre;\">Net exposure</text></g><g class=\"annotation\" data-index=\"0\" style=\"opacity: 1;\"><g class=\"annotation-text-g\" transform=\"rotate(0,419,86)\"><g class=\"cursor-pointer\" transform=\"translate(377,74)\"><rect class=\"bg\" x=\"0.5\" y=\"0.5\" width=\"84\" height=\"23\" style=\"stroke-width: 1px; stroke: rgb(0, 0, 0); stroke-opacity: 0; fill: rgb(0, 0, 0); fill-opacity: 0;\"/><text class=\"annotation-text\" text-anchor=\"middle\" x=\"42.625\" y=\"18\" style=\"font-family: 'Open Sans', verdana, arial, sans-serif; font-size: 16px; fill: rgb(42, 63, 95); fill-opacity: 1; white-space: pre;\">Cash Flow</text></g></g></g><g class=\"annotation\" data-index=\"1\" style=\"opacity: 1;\"><g class=\"annotation-text-g\" transform=\"rotate(0,419,371.726748971193)\"><g class=\"cursor-pointer\" transform=\"translate(398,360)\"><rect class=\"bg\" x=\"0.5\" y=\"0.5\" width=\"42\" height=\"23\" style=\"stroke-width: 1px; stroke: rgb(0, 0, 0); stroke-opacity: 0; fill: rgb(0, 0, 0); fill-opacity: 0;\"/><text class=\"annotation-text\" text-anchor=\"middle\" x=\"21.609375\" y=\"18\" style=\"font-family: 'Open Sans', verdana, arial, sans-serif; font-size: 16px; fill: rgb(42, 63, 95); fill-opacity: 1; white-space: pre;\">Cash</text></g></g></g><g class=\"annotation\" data-index=\"2\" style=\"opacity: 1;\"><g class=\"annotation-text-g\" transform=\"rotate(0,419,657.4534979423865)\"><g class=\"cursor-pointer\" transform=\"translate(370,645)\"><rect class=\"bg\" x=\"0.5\" y=\"0.5\" width=\"97\" height=\"23\" style=\"stroke-width: 1px; stroke: rgb(0, 0, 0); stroke-opacity: 0; fill: rgb(0, 0, 0); fill-opacity: 0;\"/><text class=\"annotation-text\" text-anchor=\"middle\" x=\"48.828125\" y=\"18\" style=\"font-family: 'Open Sans', verdana, arial, sans-serif; font-size: 16px; fill: rgb(42, 63, 95); fill-opacity: 1; white-space: pre;\">Asset Value</text></g></g></g><g class=\"annotation\" data-index=\"3\" style=\"opacity: 1;\"><g class=\"annotation-text-g\" transform=\"rotate(0,419,943.1802469135802)\"><g class=\"cursor-pointer\" transform=\"translate(395,931)\"><rect class=\"bg\" x=\"0.5\" y=\"0.5\" width=\"48\" height=\"23\" style=\"stroke-width: 1px; stroke: rgb(0, 0, 0); stroke-opacity: 0; fill: rgb(0, 0, 0); fill-opacity: 0;\"/><text class=\"annotation-text\" text-anchor=\"middle\" x=\"24.296875\" y=\"18\" style=\"font-family: 'Open Sans', verdana, arial, sans-serif; font-size: 16px; fill: rgb(42, 63, 95); fill-opacity: 1; white-space: pre;\">Value</text></g></g></g><g class=\"annotation\" data-index=\"4\" style=\"opacity: 1;\"><g class=\"annotation-text-g\" transform=\"rotate(0,419,1228.9069958847736)\"><g class=\"cursor-pointer\" transform=\"translate(338,1217)\"><rect class=\"bg\" x=\"0.5\" y=\"0.5\" width=\"162\" height=\"23\" style=\"stroke-width: 1px; stroke: rgb(0, 0, 0); stroke-opacity: 0; fill: rgb(0, 0, 0); fill-opacity: 0;\"/><text class=\"annotation-text\" text-anchor=\"middle\" x=\"81.328125\" y=\"18\" style=\"font-family: 'Open Sans', verdana, arial, sans-serif; font-size: 16px; fill: rgb(42, 63, 95); fill-opacity: 1; white-space: pre;\">Cumulative Returns</text></g></g></g><g class=\"annotation\" data-index=\"5\" style=\"opacity: 1;\"><g class=\"annotation-text-g\" transform=\"rotate(0,419,1514.633744855967)\"><g class=\"cursor-pointer\" transform=\"translate(371,1503)\"><rect class=\"bg\" x=\"0.5\" y=\"0.5\" width=\"96\" height=\"23\" style=\"stroke-width: 1px; stroke: rgb(0, 0, 0); stroke-opacity: 0; fill: rgb(0, 0, 0); fill-opacity: 0;\"/><text class=\"annotation-text\" text-anchor=\"middle\" x=\"48.546875\" y=\"18\" style=\"font-family: 'Open Sans', verdana, arial, sans-serif; font-size: 16px; fill: rgb(42, 63, 95); fill-opacity: 1; white-space: pre;\">Drawdowns</text></g></g></g><g class=\"annotation\" data-index=\"6\" style=\"opacity: 1;\"><g class=\"annotation-text-g\" transform=\"rotate(0,419,1800.3604938271603)\"><g class=\"cursor-pointer\" transform=\"translate(370,1788)\"><rect class=\"bg\" x=\"0.5\" y=\"0.5\" width=\"97\" height=\"23\" style=\"stroke-width: 1px; stroke: rgb(0, 0, 0); stroke-opacity: 0; fill: rgb(0, 0, 0); fill-opacity: 0;\"/><text class=\"annotation-text\" text-anchor=\"middle\" x=\"48.765625\" y=\"18\" style=\"font-family: 'Open Sans', verdana, arial, sans-serif; font-size: 16px; fill: rgb(42, 63, 95); fill-opacity: 1; white-space: pre;\">Underwater</text></g></g></g><g class=\"annotation\" data-index=\"7\" style=\"opacity: 1;\"><g class=\"annotation-text-g\" transform=\"rotate(0,419,2086.087242798354)\"><g class=\"cursor-pointer\" transform=\"translate(355,2074)\"><rect class=\"bg\" x=\"0.5\" y=\"0.5\" width=\"128\" height=\"23\" style=\"stroke-width: 1px; stroke: rgb(0, 0, 0); stroke-opacity: 0; fill: rgb(0, 0, 0); fill-opacity: 0;\"/><text class=\"annotation-text\" text-anchor=\"middle\" x=\"64.65625\" y=\"18\" style=\"font-family: 'Open Sans', verdana, arial, sans-serif; font-size: 16px; fill: rgb(42, 63, 95); fill-opacity: 1; white-space: pre;\">Gross Exposure</text></g></g></g><g class=\"annotation\" data-index=\"8\" style=\"opacity: 1;\"><g class=\"annotation-text-g\" transform=\"rotate(0,419,2371.813991769547)\"><g class=\"cursor-pointer\" transform=\"translate(363,2360)\"><rect class=\"bg\" x=\"0.5\" y=\"0.5\" width=\"111\" height=\"23\" style=\"stroke-width: 1px; stroke: rgb(0, 0, 0); stroke-opacity: 0; fill: rgb(0, 0, 0); fill-opacity: 0;\"/><text class=\"annotation-text\" text-anchor=\"middle\" x=\"55.75\" y=\"18\" style=\"font-family: 'Open Sans', verdana, arial, sans-serif; font-size: 16px; fill: rgb(42, 63, 95); fill-opacity: 1; white-space: pre;\">Net Exposure</text></g></g></g></g></svg>"
      ]
     },
     "metadata": {},
     "output_type": "display_data"
    }
   ],
   "source": [
    "portfolio_shared['first'].plot(subplots='all').show_svg()"
   ]
  },
  {
   "cell_type": "code",
   "execution_count": 136,
   "metadata": {},
   "outputs": [
    {
     "name": "stderr",
     "output_type": "stream",
     "text": [
      "/Users/olegpolakow/Documents/SourceTree/vectorbt/vectorbt/generic/plots_builder.py:355: UserWarning:\n",
      "\n",
      "Subplot 'orders' does not support grouped data\n",
      "\n",
      "/Users/olegpolakow/Documents/SourceTree/vectorbt/vectorbt/generic/plots_builder.py:355: UserWarning:\n",
      "\n",
      "Subplot 'trades' does not support grouped data\n",
      "\n",
      "/Users/olegpolakow/Documents/SourceTree/vectorbt/vectorbt/generic/plots_builder.py:355: UserWarning:\n",
      "\n",
      "Subplot 'trade_pnl' does not support grouped data\n",
      "\n",
      "/Users/olegpolakow/Documents/SourceTree/vectorbt/vectorbt/generic/plots_builder.py:355: UserWarning:\n",
      "\n",
      "Subplot 'asset_flow' does not support grouped data\n",
      "\n",
      "/Users/olegpolakow/Documents/SourceTree/vectorbt/vectorbt/generic/plots_builder.py:355: UserWarning:\n",
      "\n",
      "Subplot 'assets' does not support grouped data\n",
      "\n"
     ]
    },
    {
     "data": {
      "image/svg+xml": [
       "<svg class=\"main-svg\" xmlns=\"http://www.w3.org/2000/svg\" xmlns:xlink=\"http://www.w3.org/1999/xlink\" width=\"750\" height=\"2700\" viewBox=\"0 0 750 2700\"><rect x=\"0\" y=\"0\" width=\"750\" height=\"2700\" style=\"fill: rgb(255, 255, 255); fill-opacity: 1;\"/><defs id=\"defs-ffa999\"><g class=\"clips\"><clipPath id=\"clipffa999xyplot\" class=\"plotclip\"><rect width=\"602\" height=\"248.1860082304525\"/></clipPath><clipPath id=\"clipffa999x2y2plot\" class=\"plotclip\"><rect width=\"602\" height=\"248.18600823045279\"/></clipPath><clipPath id=\"clipffa999x3y3plot\" class=\"plotclip\"><rect width=\"602\" height=\"248.18600823045279\"/></clipPath><clipPath id=\"clipffa999x4y4plot\" class=\"plotclip\"><rect width=\"602\" height=\"248.18600823045279\"/></clipPath><clipPath id=\"clipffa999x5y5plot\" class=\"plotclip\"><rect width=\"602\" height=\"248.18600823045279\"/></clipPath><clipPath id=\"clipffa999x6y6plot\" class=\"plotclip\"><rect width=\"602\" height=\"248.18600823045264\"/></clipPath><clipPath id=\"clipffa999x7y7plot\" class=\"plotclip\"><rect width=\"602\" height=\"248.18600823045264\"/></clipPath><clipPath id=\"clipffa999x8y8plot\" class=\"plotclip\"><rect width=\"602\" height=\"248.18600823045264\"/></clipPath><clipPath id=\"clipffa999x9y9plot\" class=\"plotclip\"><rect width=\"602\" height=\"248.18600823045267\"/></clipPath><clipPath class=\"axesclip\" id=\"clipffa999x\"><rect x=\"118\" y=\"0\" width=\"602\" height=\"2700\"/></clipPath><clipPath class=\"axesclip\" id=\"clipffa999y\"><rect x=\"0\" y=\"98\" width=\"750\" height=\"248.1860082304525\"/></clipPath><clipPath class=\"axesclip\" id=\"clipffa999xy\"><rect x=\"118\" y=\"98\" width=\"602\" height=\"248.1860082304525\"/></clipPath><clipPath class=\"axesclip\" id=\"clipffa999y2\"><rect x=\"0\" y=\"383.726748971193\" width=\"750\" height=\"248.18600823045279\"/></clipPath><clipPath class=\"axesclip\" id=\"clipffa999xy2\"><rect x=\"118\" y=\"383.726748971193\" width=\"602\" height=\"248.18600823045279\"/></clipPath><clipPath class=\"axesclip\" id=\"clipffa999y3\"><rect x=\"0\" y=\"669.4534979423865\" width=\"750\" height=\"248.18600823045279\"/></clipPath><clipPath class=\"axesclip\" id=\"clipffa999xy3\"><rect x=\"118\" y=\"669.4534979423865\" width=\"602\" height=\"248.18600823045279\"/></clipPath><clipPath class=\"axesclip\" id=\"clipffa999y4\"><rect x=\"0\" y=\"955.1802469135802\" width=\"750\" height=\"248.18600823045279\"/></clipPath><clipPath class=\"axesclip\" id=\"clipffa999xy4\"><rect x=\"118\" y=\"955.1802469135802\" width=\"602\" height=\"248.18600823045279\"/></clipPath><clipPath class=\"axesclip\" id=\"clipffa999y5\"><rect x=\"0\" y=\"1240.9069958847736\" width=\"750\" height=\"248.18600823045279\"/></clipPath><clipPath class=\"axesclip\" id=\"clipffa999xy5\"><rect x=\"118\" y=\"1240.9069958847736\" width=\"602\" height=\"248.18600823045279\"/></clipPath><clipPath class=\"axesclip\" id=\"clipffa999y6\"><rect x=\"0\" y=\"1526.633744855967\" width=\"750\" height=\"248.18600823045264\"/></clipPath><clipPath class=\"axesclip\" id=\"clipffa999xy6\"><rect x=\"118\" y=\"1526.633744855967\" width=\"602\" height=\"248.18600823045264\"/></clipPath><clipPath class=\"axesclip\" id=\"clipffa999y7\"><rect x=\"0\" y=\"1812.3604938271603\" width=\"750\" height=\"248.18600823045264\"/></clipPath><clipPath class=\"axesclip\" id=\"clipffa999xy7\"><rect x=\"118\" y=\"1812.3604938271603\" width=\"602\" height=\"248.18600823045264\"/></clipPath><clipPath class=\"axesclip\" id=\"clipffa999y8\"><rect x=\"0\" y=\"2098.087242798354\" width=\"750\" height=\"248.18600823045264\"/></clipPath><clipPath class=\"axesclip\" id=\"clipffa999xy8\"><rect x=\"118\" y=\"2098.087242798354\" width=\"602\" height=\"248.18600823045264\"/></clipPath><clipPath class=\"axesclip\" id=\"clipffa999y9\"><rect x=\"0\" y=\"2383.813991769547\" width=\"750\" height=\"248.18600823045267\"/></clipPath><clipPath class=\"axesclip\" id=\"clipffa999xy9\"><rect x=\"118\" y=\"2383.813991769547\" width=\"602\" height=\"248.18600823045267\"/></clipPath><clipPath class=\"axesclip\" id=\"clipffa999x2\"><rect x=\"118\" y=\"0\" width=\"602\" height=\"2700\"/></clipPath><clipPath class=\"axesclip\" id=\"clipffa999x2y\"><rect x=\"118\" y=\"98\" width=\"602\" height=\"248.1860082304525\"/></clipPath><clipPath class=\"axesclip\" id=\"clipffa999x2y2\"><rect x=\"118\" y=\"383.726748971193\" width=\"602\" height=\"248.18600823045279\"/></clipPath><clipPath class=\"axesclip\" id=\"clipffa999x2y3\"><rect x=\"118\" y=\"669.4534979423865\" width=\"602\" height=\"248.18600823045279\"/></clipPath><clipPath class=\"axesclip\" id=\"clipffa999x2y4\"><rect x=\"118\" y=\"955.1802469135802\" width=\"602\" height=\"248.18600823045279\"/></clipPath><clipPath class=\"axesclip\" id=\"clipffa999x2y5\"><rect x=\"118\" y=\"1240.9069958847736\" width=\"602\" height=\"248.18600823045279\"/></clipPath><clipPath class=\"axesclip\" id=\"clipffa999x2y6\"><rect x=\"118\" y=\"1526.633744855967\" width=\"602\" height=\"248.18600823045264\"/></clipPath><clipPath class=\"axesclip\" id=\"clipffa999x2y7\"><rect x=\"118\" y=\"1812.3604938271603\" width=\"602\" height=\"248.18600823045264\"/></clipPath><clipPath class=\"axesclip\" id=\"clipffa999x2y8\"><rect x=\"118\" y=\"2098.087242798354\" width=\"602\" height=\"248.18600823045264\"/></clipPath><clipPath class=\"axesclip\" id=\"clipffa999x2y9\"><rect x=\"118\" y=\"2383.813991769547\" width=\"602\" height=\"248.18600823045267\"/></clipPath><clipPath class=\"axesclip\" id=\"clipffa999x3\"><rect x=\"118\" y=\"0\" width=\"602\" height=\"2700\"/></clipPath><clipPath class=\"axesclip\" id=\"clipffa999x3y\"><rect x=\"118\" y=\"98\" width=\"602\" height=\"248.1860082304525\"/></clipPath><clipPath class=\"axesclip\" id=\"clipffa999x3y2\"><rect x=\"118\" y=\"383.726748971193\" width=\"602\" height=\"248.18600823045279\"/></clipPath><clipPath class=\"axesclip\" id=\"clipffa999x3y3\"><rect x=\"118\" y=\"669.4534979423865\" width=\"602\" height=\"248.18600823045279\"/></clipPath><clipPath class=\"axesclip\" id=\"clipffa999x3y4\"><rect x=\"118\" y=\"955.1802469135802\" width=\"602\" height=\"248.18600823045279\"/></clipPath><clipPath class=\"axesclip\" id=\"clipffa999x3y5\"><rect x=\"118\" y=\"1240.9069958847736\" width=\"602\" height=\"248.18600823045279\"/></clipPath><clipPath class=\"axesclip\" id=\"clipffa999x3y6\"><rect x=\"118\" y=\"1526.633744855967\" width=\"602\" height=\"248.18600823045264\"/></clipPath><clipPath class=\"axesclip\" id=\"clipffa999x3y7\"><rect x=\"118\" y=\"1812.3604938271603\" width=\"602\" height=\"248.18600823045264\"/></clipPath><clipPath class=\"axesclip\" id=\"clipffa999x3y8\"><rect x=\"118\" y=\"2098.087242798354\" width=\"602\" height=\"248.18600823045264\"/></clipPath><clipPath class=\"axesclip\" id=\"clipffa999x3y9\"><rect x=\"118\" y=\"2383.813991769547\" width=\"602\" height=\"248.18600823045267\"/></clipPath><clipPath class=\"axesclip\" id=\"clipffa999x4\"><rect x=\"118\" y=\"0\" width=\"602\" height=\"2700\"/></clipPath><clipPath class=\"axesclip\" id=\"clipffa999x4y\"><rect x=\"118\" y=\"98\" width=\"602\" height=\"248.1860082304525\"/></clipPath><clipPath class=\"axesclip\" id=\"clipffa999x4y2\"><rect x=\"118\" y=\"383.726748971193\" width=\"602\" height=\"248.18600823045279\"/></clipPath><clipPath class=\"axesclip\" id=\"clipffa999x4y3\"><rect x=\"118\" y=\"669.4534979423865\" width=\"602\" height=\"248.18600823045279\"/></clipPath><clipPath class=\"axesclip\" id=\"clipffa999x4y4\"><rect x=\"118\" y=\"955.1802469135802\" width=\"602\" height=\"248.18600823045279\"/></clipPath><clipPath class=\"axesclip\" id=\"clipffa999x4y5\"><rect x=\"118\" y=\"1240.9069958847736\" width=\"602\" height=\"248.18600823045279\"/></clipPath><clipPath class=\"axesclip\" id=\"clipffa999x4y6\"><rect x=\"118\" y=\"1526.633744855967\" width=\"602\" height=\"248.18600823045264\"/></clipPath><clipPath class=\"axesclip\" id=\"clipffa999x4y7\"><rect x=\"118\" y=\"1812.3604938271603\" width=\"602\" height=\"248.18600823045264\"/></clipPath><clipPath class=\"axesclip\" id=\"clipffa999x4y8\"><rect x=\"118\" y=\"2098.087242798354\" width=\"602\" height=\"248.18600823045264\"/></clipPath><clipPath class=\"axesclip\" id=\"clipffa999x4y9\"><rect x=\"118\" y=\"2383.813991769547\" width=\"602\" height=\"248.18600823045267\"/></clipPath><clipPath class=\"axesclip\" id=\"clipffa999x5\"><rect x=\"118\" y=\"0\" width=\"602\" height=\"2700\"/></clipPath><clipPath class=\"axesclip\" id=\"clipffa999x5y\"><rect x=\"118\" y=\"98\" width=\"602\" height=\"248.1860082304525\"/></clipPath><clipPath class=\"axesclip\" id=\"clipffa999x5y2\"><rect x=\"118\" y=\"383.726748971193\" width=\"602\" height=\"248.18600823045279\"/></clipPath><clipPath class=\"axesclip\" id=\"clipffa999x5y3\"><rect x=\"118\" y=\"669.4534979423865\" width=\"602\" height=\"248.18600823045279\"/></clipPath><clipPath class=\"axesclip\" id=\"clipffa999x5y4\"><rect x=\"118\" y=\"955.1802469135802\" width=\"602\" height=\"248.18600823045279\"/></clipPath><clipPath class=\"axesclip\" id=\"clipffa999x5y5\"><rect x=\"118\" y=\"1240.9069958847736\" width=\"602\" height=\"248.18600823045279\"/></clipPath><clipPath class=\"axesclip\" id=\"clipffa999x5y6\"><rect x=\"118\" y=\"1526.633744855967\" width=\"602\" height=\"248.18600823045264\"/></clipPath><clipPath class=\"axesclip\" id=\"clipffa999x5y7\"><rect x=\"118\" y=\"1812.3604938271603\" width=\"602\" height=\"248.18600823045264\"/></clipPath><clipPath class=\"axesclip\" id=\"clipffa999x5y8\"><rect x=\"118\" y=\"2098.087242798354\" width=\"602\" height=\"248.18600823045264\"/></clipPath><clipPath class=\"axesclip\" id=\"clipffa999x5y9\"><rect x=\"118\" y=\"2383.813991769547\" width=\"602\" height=\"248.18600823045267\"/></clipPath><clipPath class=\"axesclip\" id=\"clipffa999x6\"><rect x=\"118\" y=\"0\" width=\"602\" height=\"2700\"/></clipPath><clipPath class=\"axesclip\" id=\"clipffa999x6y\"><rect x=\"118\" y=\"98\" width=\"602\" height=\"248.1860082304525\"/></clipPath><clipPath class=\"axesclip\" id=\"clipffa999x6y2\"><rect x=\"118\" y=\"383.726748971193\" width=\"602\" height=\"248.18600823045279\"/></clipPath><clipPath class=\"axesclip\" id=\"clipffa999x6y3\"><rect x=\"118\" y=\"669.4534979423865\" width=\"602\" height=\"248.18600823045279\"/></clipPath><clipPath class=\"axesclip\" id=\"clipffa999x6y4\"><rect x=\"118\" y=\"955.1802469135802\" width=\"602\" height=\"248.18600823045279\"/></clipPath><clipPath class=\"axesclip\" id=\"clipffa999x6y5\"><rect x=\"118\" y=\"1240.9069958847736\" width=\"602\" height=\"248.18600823045279\"/></clipPath><clipPath class=\"axesclip\" id=\"clipffa999x6y6\"><rect x=\"118\" y=\"1526.633744855967\" width=\"602\" height=\"248.18600823045264\"/></clipPath><clipPath class=\"axesclip\" id=\"clipffa999x6y7\"><rect x=\"118\" y=\"1812.3604938271603\" width=\"602\" height=\"248.18600823045264\"/></clipPath><clipPath class=\"axesclip\" id=\"clipffa999x6y8\"><rect x=\"118\" y=\"2098.087242798354\" width=\"602\" height=\"248.18600823045264\"/></clipPath><clipPath class=\"axesclip\" id=\"clipffa999x6y9\"><rect x=\"118\" y=\"2383.813991769547\" width=\"602\" height=\"248.18600823045267\"/></clipPath><clipPath class=\"axesclip\" id=\"clipffa999x7\"><rect x=\"118\" y=\"0\" width=\"602\" height=\"2700\"/></clipPath><clipPath class=\"axesclip\" id=\"clipffa999x7y\"><rect x=\"118\" y=\"98\" width=\"602\" height=\"248.1860082304525\"/></clipPath><clipPath class=\"axesclip\" id=\"clipffa999x7y2\"><rect x=\"118\" y=\"383.726748971193\" width=\"602\" height=\"248.18600823045279\"/></clipPath><clipPath class=\"axesclip\" id=\"clipffa999x7y3\"><rect x=\"118\" y=\"669.4534979423865\" width=\"602\" height=\"248.18600823045279\"/></clipPath><clipPath class=\"axesclip\" id=\"clipffa999x7y4\"><rect x=\"118\" y=\"955.1802469135802\" width=\"602\" height=\"248.18600823045279\"/></clipPath><clipPath class=\"axesclip\" id=\"clipffa999x7y5\"><rect x=\"118\" y=\"1240.9069958847736\" width=\"602\" height=\"248.18600823045279\"/></clipPath><clipPath class=\"axesclip\" id=\"clipffa999x7y6\"><rect x=\"118\" y=\"1526.633744855967\" width=\"602\" height=\"248.18600823045264\"/></clipPath><clipPath class=\"axesclip\" id=\"clipffa999x7y7\"><rect x=\"118\" y=\"1812.3604938271603\" width=\"602\" height=\"248.18600823045264\"/></clipPath><clipPath class=\"axesclip\" id=\"clipffa999x7y8\"><rect x=\"118\" y=\"2098.087242798354\" width=\"602\" height=\"248.18600823045264\"/></clipPath><clipPath class=\"axesclip\" id=\"clipffa999x7y9\"><rect x=\"118\" y=\"2383.813991769547\" width=\"602\" height=\"248.18600823045267\"/></clipPath><clipPath class=\"axesclip\" id=\"clipffa999x8\"><rect x=\"118\" y=\"0\" width=\"602\" height=\"2700\"/></clipPath><clipPath class=\"axesclip\" id=\"clipffa999x8y\"><rect x=\"118\" y=\"98\" width=\"602\" height=\"248.1860082304525\"/></clipPath><clipPath class=\"axesclip\" id=\"clipffa999x8y2\"><rect x=\"118\" y=\"383.726748971193\" width=\"602\" height=\"248.18600823045279\"/></clipPath><clipPath class=\"axesclip\" id=\"clipffa999x8y3\"><rect x=\"118\" y=\"669.4534979423865\" width=\"602\" height=\"248.18600823045279\"/></clipPath><clipPath class=\"axesclip\" id=\"clipffa999x8y4\"><rect x=\"118\" y=\"955.1802469135802\" width=\"602\" height=\"248.18600823045279\"/></clipPath><clipPath class=\"axesclip\" id=\"clipffa999x8y5\"><rect x=\"118\" y=\"1240.9069958847736\" width=\"602\" height=\"248.18600823045279\"/></clipPath><clipPath class=\"axesclip\" id=\"clipffa999x8y6\"><rect x=\"118\" y=\"1526.633744855967\" width=\"602\" height=\"248.18600823045264\"/></clipPath><clipPath class=\"axesclip\" id=\"clipffa999x8y7\"><rect x=\"118\" y=\"1812.3604938271603\" width=\"602\" height=\"248.18600823045264\"/></clipPath><clipPath class=\"axesclip\" id=\"clipffa999x8y8\"><rect x=\"118\" y=\"2098.087242798354\" width=\"602\" height=\"248.18600823045264\"/></clipPath><clipPath class=\"axesclip\" id=\"clipffa999x8y9\"><rect x=\"118\" y=\"2383.813991769547\" width=\"602\" height=\"248.18600823045267\"/></clipPath><clipPath class=\"axesclip\" id=\"clipffa999x9\"><rect x=\"118\" y=\"0\" width=\"602\" height=\"2700\"/></clipPath><clipPath class=\"axesclip\" id=\"clipffa999x9y\"><rect x=\"118\" y=\"98\" width=\"602\" height=\"248.1860082304525\"/></clipPath><clipPath class=\"axesclip\" id=\"clipffa999x9y2\"><rect x=\"118\" y=\"383.726748971193\" width=\"602\" height=\"248.18600823045279\"/></clipPath><clipPath class=\"axesclip\" id=\"clipffa999x9y3\"><rect x=\"118\" y=\"669.4534979423865\" width=\"602\" height=\"248.18600823045279\"/></clipPath><clipPath class=\"axesclip\" id=\"clipffa999x9y4\"><rect x=\"118\" y=\"955.1802469135802\" width=\"602\" height=\"248.18600823045279\"/></clipPath><clipPath class=\"axesclip\" id=\"clipffa999x9y5\"><rect x=\"118\" y=\"1240.9069958847736\" width=\"602\" height=\"248.18600823045279\"/></clipPath><clipPath class=\"axesclip\" id=\"clipffa999x9y6\"><rect x=\"118\" y=\"1526.633744855967\" width=\"602\" height=\"248.18600823045264\"/></clipPath><clipPath class=\"axesclip\" id=\"clipffa999x9y7\"><rect x=\"118\" y=\"1812.3604938271603\" width=\"602\" height=\"248.18600823045264\"/></clipPath><clipPath class=\"axesclip\" id=\"clipffa999x9y8\"><rect x=\"118\" y=\"2098.087242798354\" width=\"602\" height=\"248.18600823045264\"/></clipPath><clipPath class=\"axesclip\" id=\"clipffa999x9y9\"><rect x=\"118\" y=\"2383.813991769547\" width=\"602\" height=\"248.18600823045267\"/></clipPath></g><g class=\"gradients\"/><g class=\"patterns\"/></defs><g class=\"bglayer\"><rect class=\"bg\" x=\"118\" y=\"98\" width=\"602\" height=\"248.1860082304525\" style=\"fill: rgb(229, 236, 246); fill-opacity: 1; stroke-width: 0;\"/><rect class=\"bg\" x=\"118\" y=\"383.726748971193\" width=\"602\" height=\"248.18600823045279\" style=\"fill: rgb(229, 236, 246); fill-opacity: 1; stroke-width: 0;\"/><rect class=\"bg\" x=\"118\" y=\"669.4534979423865\" width=\"602\" height=\"248.18600823045279\" style=\"fill: rgb(229, 236, 246); fill-opacity: 1; stroke-width: 0;\"/><rect class=\"bg\" x=\"118\" y=\"955.1802469135802\" width=\"602\" height=\"248.18600823045279\" style=\"fill: rgb(229, 236, 246); fill-opacity: 1; stroke-width: 0;\"/><rect class=\"bg\" x=\"118\" y=\"1240.9069958847736\" width=\"602\" height=\"248.18600823045279\" style=\"fill: rgb(229, 236, 246); fill-opacity: 1; stroke-width: 0;\"/><rect class=\"bg\" x=\"118\" y=\"1526.633744855967\" width=\"602\" height=\"248.18600823045264\" style=\"fill: rgb(229, 236, 246); fill-opacity: 1; stroke-width: 0;\"/><rect class=\"bg\" x=\"118\" y=\"1812.3604938271603\" width=\"602\" height=\"248.18600823045264\" style=\"fill: rgb(229, 236, 246); fill-opacity: 1; stroke-width: 0;\"/><rect class=\"bg\" x=\"118\" y=\"2098.087242798354\" width=\"602\" height=\"248.18600823045264\" style=\"fill: rgb(229, 236, 246); fill-opacity: 1; stroke-width: 0;\"/><rect class=\"bg\" x=\"118\" y=\"2383.813991769547\" width=\"602\" height=\"248.18600823045267\" style=\"fill: rgb(229, 236, 246); fill-opacity: 1; stroke-width: 0;\"/></g><g class=\"layer-below\"><g class=\"imagelayer\"/><g class=\"shapelayer\"><path data-index=\"5\" fill-rule=\"evenodd\" d=\"M151.92000000000002,1774.8197530864195H686.08V1526.633744855967H151.92000000000002Z\" clip-path=\"url(#clipffa999x6)\" style=\"opacity: 0.2; stroke: rgb(0, 0, 0); stroke-opacity: 0; fill: rgb(255, 165, 0); fill-opacity: 1; stroke-width: 0px;\"/></g></g><g class=\"cartesianlayer\"><g class=\"subplot xy\"><g class=\"layer-subplot\"><g class=\"shapelayer\"/><g class=\"imagelayer\"/></g><g class=\"gridlayer\"><g class=\"x\"><path class=\"xgrid crisp\" transform=\"translate(151.92000000000002,0)\" d=\"M0,98v248.1860082304525\" style=\"stroke: rgb(255, 255, 255); stroke-opacity: 1; stroke-width: 1px;\"/><path class=\"xgrid crisp\" transform=\"translate(285.46000000000004,0)\" d=\"M0,98v248.1860082304525\" style=\"stroke: rgb(255, 255, 255); stroke-opacity: 1; stroke-width: 1px;\"/><path class=\"xgrid crisp\" transform=\"translate(419,0)\" d=\"M0,98v248.1860082304525\" style=\"stroke: rgb(255, 255, 255); stroke-opacity: 1; stroke-width: 1px;\"/><path class=\"xgrid crisp\" transform=\"translate(552.54,0)\" d=\"M0,98v248.1860082304525\" style=\"stroke: rgb(255, 255, 255); stroke-opacity: 1; stroke-width: 1px;\"/><path class=\"xgrid crisp\" transform=\"translate(686.08,0)\" d=\"M0,98v248.1860082304525\" style=\"stroke: rgb(255, 255, 255); stroke-opacity: 1; stroke-width: 1px;\"/></g><g class=\"y\"><path class=\"ygrid crisp\" transform=\"translate(0,328.78)\" d=\"M118,0h602\" style=\"stroke: rgb(255, 255, 255); stroke-opacity: 1; stroke-width: 1px;\"/><path class=\"ygrid crisp\" transform=\"translate(0,173.26999999999998)\" d=\"M118,0h602\" style=\"stroke: rgb(255, 255, 255); stroke-opacity: 1; stroke-width: 1px;\"/></g></g><g class=\"zerolinelayer\"><path class=\"yzl zl crisp\" transform=\"translate(0,251.02)\" d=\"M118,0h602\" style=\"stroke: rgb(255, 255, 255); stroke-opacity: 1; stroke-width: 2px;\"/></g><path class=\"xlines-below\"/><path class=\"ylines-below\"/><g class=\"overlines-below\"/><g class=\"xaxislayer-below\"/><g class=\"yaxislayer-below\"/><g class=\"overaxes-below\"/><g class=\"plot\" transform=\"translate(118,98)\" clip-path=\"url(#clipffa999xyplot)\"><g class=\"scatterlayer mlayer\"><g class=\"trace scatter trace896d2f46-3404-4b30-96a3-b2d3837f88e6\" style=\"stroke-miterlimit: 2; opacity: 1;\"><g class=\"fills\"/><g class=\"errorbars\"/><g class=\"lines\"><path class=\"js-line\" d=\"M33.92,16.16L167.46,185.37L301,122.85L434.54,232.03L568.08,215.23\" style=\"vector-effect: non-scaling-stroke; fill: none; stroke: rgb(44, 160, 44); stroke-opacity: 1; stroke-width: 2px; opacity: 1;\"/></g><g class=\"points\"><path class=\"point\" transform=\"translate(33.92,16.16)\" d=\"M3,0A3,3 0 1,1 0,-3A3,3 0 0,1 3,0Z\" style=\"opacity: 1; stroke-width: 0px; fill: rgb(44, 160, 44); fill-opacity: 1;\"/><path class=\"point\" transform=\"translate(167.46,185.37)\" d=\"M3,0A3,3 0 1,1 0,-3A3,3 0 0,1 3,0Z\" style=\"opacity: 1; stroke-width: 0px; fill: rgb(44, 160, 44); fill-opacity: 1;\"/><path class=\"point\" transform=\"translate(301,122.85)\" d=\"M3,0A3,3 0 1,1 0,-3A3,3 0 0,1 3,0Z\" style=\"opacity: 1; stroke-width: 0px; fill: rgb(44, 160, 44); fill-opacity: 1;\"/><path class=\"point\" transform=\"translate(434.54,232.03)\" d=\"M3,0A3,3 0 1,1 0,-3A3,3 0 0,1 3,0Z\" style=\"opacity: 1; stroke-width: 0px; fill: rgb(44, 160, 44); fill-opacity: 1;\"/><path class=\"point\" transform=\"translate(568.08,215.23)\" d=\"M3,0A3,3 0 1,1 0,-3A3,3 0 0,1 3,0Z\" style=\"opacity: 1; stroke-width: 0px; fill: rgb(44, 160, 44); fill-opacity: 1;\"/></g><g class=\"text\"/></g></g></g><g class=\"overplot\"/><path class=\"xlines-above crisp\" d=\"M0,0\" style=\"fill: none;\"/><path class=\"ylines-above crisp\" d=\"M0,0\" style=\"fill: none;\"/><g class=\"overlines-above\"/><g class=\"xaxislayer-above\"/><g class=\"yaxislayer-above\"><g class=\"ytick\"><text text-anchor=\"end\" x=\"117\" y=\"4.199999999999999\" transform=\"translate(0,328.78)\" style=\"font-family: 'Open Sans', verdana, arial, sans-serif; font-size: 12px; fill: rgb(42, 63, 95); fill-opacity: 1; white-space: pre; opacity: 1;\">−0.5</text></g><g class=\"ytick\"><text text-anchor=\"end\" x=\"117\" y=\"4.199999999999999\" style=\"font-family: 'Open Sans', verdana, arial, sans-serif; font-size: 12px; fill: rgb(42, 63, 95); fill-opacity: 1; white-space: pre; opacity: 1;\" transform=\"translate(0,251.02)\">0</text></g><g class=\"ytick\"><text text-anchor=\"end\" x=\"117\" y=\"4.199999999999999\" style=\"font-family: 'Open Sans', verdana, arial, sans-serif; font-size: 12px; fill: rgb(42, 63, 95); fill-opacity: 1; white-space: pre; opacity: 1;\" transform=\"translate(0,173.26999999999998)\">0.5</text></g></g><g class=\"overaxes-above\"/></g><g class=\"subplot x2y2\"><g class=\"layer-subplot\"><g class=\"shapelayer\"/><g class=\"imagelayer\"/></g><g class=\"gridlayer\"><g class=\"x2\"><path class=\"x2grid crisp\" transform=\"translate(151.92000000000002,0)\" d=\"M0,383.726748971193v248.18600823045279\" style=\"stroke: rgb(255, 255, 255); stroke-opacity: 1; stroke-width: 1px;\"/><path class=\"x2grid crisp\" transform=\"translate(285.46000000000004,0)\" d=\"M0,383.726748971193v248.18600823045279\" style=\"stroke: rgb(255, 255, 255); stroke-opacity: 1; stroke-width: 1px;\"/><path class=\"x2grid crisp\" transform=\"translate(419,0)\" d=\"M0,383.726748971193v248.18600823045279\" style=\"stroke: rgb(255, 255, 255); stroke-opacity: 1; stroke-width: 1px;\"/><path class=\"x2grid crisp\" transform=\"translate(552.54,0)\" d=\"M0,383.726748971193v248.18600823045279\" style=\"stroke: rgb(255, 255, 255); stroke-opacity: 1; stroke-width: 1px;\"/><path class=\"x2grid crisp\" transform=\"translate(686.08,0)\" d=\"M0,383.726748971193v248.18600823045279\" style=\"stroke: rgb(255, 255, 255); stroke-opacity: 1; stroke-width: 1px;\"/></g><g class=\"y2\"><path class=\"y2grid crisp\" transform=\"translate(0,605.936748971193)\" d=\"M118,0h602\" style=\"stroke: rgb(255, 255, 255); stroke-opacity: 1; stroke-width: 1px;\"/><path class=\"y2grid crisp\" transform=\"translate(0,559.1167489711929)\" d=\"M118,0h602\" style=\"stroke: rgb(255, 255, 255); stroke-opacity: 1; stroke-width: 1px;\"/><path class=\"y2grid crisp\" transform=\"translate(0,512.286748971193)\" d=\"M118,0h602\" style=\"stroke: rgb(255, 255, 255); stroke-opacity: 1; stroke-width: 1px;\"/><path class=\"y2grid crisp\" transform=\"translate(0,465.466748971193)\" d=\"M118,0h602\" style=\"stroke: rgb(255, 255, 255); stroke-opacity: 1; stroke-width: 1px;\"/><path class=\"y2grid crisp\" transform=\"translate(0,418.636748971193)\" d=\"M118,0h602\" style=\"stroke: rgb(255, 255, 255); stroke-opacity: 1; stroke-width: 1px;\"/></g></g><g class=\"zerolinelayer\"/><path class=\"xlines-below\"/><path class=\"ylines-below\"/><g class=\"overlines-below\"/><g class=\"xaxislayer-below\"/><g class=\"yaxislayer-below\"/><g class=\"overaxes-below\"/><g class=\"plot\" transform=\"translate(118,383.726748971193)\" clip-path=\"url(#clipffa999x2y2plot)\"><g class=\"scatterlayer mlayer\"><g class=\"trace scatter trace5db2349f-4621-4448-8236-b460d2ec646c\" style=\"stroke-miterlimit: 2;\"><g class=\"fills\"><g><path class=\"js-fill\" d=\"M33.92,16.16L167.46,64.86L301,19.43L434.54,138.38L568.08,222.21L568.08,222.21L33.92,222.21Z\" style=\"fill: rgb(44, 160, 44); fill-opacity: 0.3; stroke-width: 0;\"/></g></g><g class=\"errorbars\"/><g class=\"lines\"><path class=\"js-line\" d=\"M33.92,222.21L568.08,222.21\" style=\"vector-effect: non-scaling-stroke; fill: none; stroke: rgb(0, 0, 0); stroke-opacity: 0; stroke-width: 0px; opacity: 1;\"/></g><g class=\"points\"><path class=\"point\" transform=\"translate(33.92,222.21)\" d=\"M3,0A3,3 0 1,1 0,-3A3,3 0 0,1 3,0Z\" style=\"opacity: 1; stroke-width: 0px; fill: rgb(0, 0, 0); fill-opacity: 0;\"/><path class=\"point\" transform=\"translate(167.46,222.21)\" d=\"M3,0A3,3 0 1,1 0,-3A3,3 0 0,1 3,0Z\" style=\"opacity: 1; stroke-width: 0px; fill: rgb(0, 0, 0); fill-opacity: 0;\"/><path class=\"point\" transform=\"translate(301,222.21)\" d=\"M3,0A3,3 0 1,1 0,-3A3,3 0 0,1 3,0Z\" style=\"opacity: 1; stroke-width: 0px; fill: rgb(0, 0, 0); fill-opacity: 0;\"/><path class=\"point\" transform=\"translate(434.54,222.21)\" d=\"M3,0A3,3 0 1,1 0,-3A3,3 0 0,1 3,0Z\" style=\"opacity: 1; stroke-width: 0px; fill: rgb(0, 0, 0); fill-opacity: 0;\"/><path class=\"point\" transform=\"translate(568.08,222.21)\" d=\"M3,0A3,3 0 1,1 0,-3A3,3 0 0,1 3,0Z\" style=\"opacity: 1; stroke-width: 0px; fill: rgb(0, 0, 0); fill-opacity: 0;\"/></g><g class=\"text\"/></g><g class=\"trace scatter traceb11adbb5-2972-4805-b04e-51972ae1a35c\" style=\"stroke-miterlimit: 2;\"><g class=\"fills\"/><g class=\"errorbars\"/><g class=\"lines\"><path class=\"js-line\" d=\"M33.92,16.16L167.46,64.86L301,19.43L434.54,138.38L568.08,222.21\" style=\"vector-effect: non-scaling-stroke; fill: none; stroke: rgb(0, 0, 0); stroke-opacity: 0; stroke-width: 0px; opacity: 1;\"/></g><g class=\"points\"><path class=\"point\" transform=\"translate(33.92,16.16)\" d=\"M3,0A3,3 0 1,1 0,-3A3,3 0 0,1 3,0Z\" style=\"opacity: 1; stroke-width: 0px; fill: rgb(0, 0, 0); fill-opacity: 0;\"/><path class=\"point\" transform=\"translate(167.46,64.86)\" d=\"M3,0A3,3 0 1,1 0,-3A3,3 0 0,1 3,0Z\" style=\"opacity: 1; stroke-width: 0px; fill: rgb(0, 0, 0); fill-opacity: 0;\"/><path class=\"point\" transform=\"translate(301,19.43)\" d=\"M3,0A3,3 0 1,1 0,-3A3,3 0 0,1 3,0Z\" style=\"opacity: 1; stroke-width: 0px; fill: rgb(0, 0, 0); fill-opacity: 0;\"/><path class=\"point\" transform=\"translate(434.54,138.38)\" d=\"M3,0A3,3 0 1,1 0,-3A3,3 0 0,1 3,0Z\" style=\"opacity: 1; stroke-width: 0px; fill: rgb(0, 0, 0); fill-opacity: 0;\"/><path class=\"point\" transform=\"translate(568.08,222.21)\" d=\"M3,0A3,3 0 1,1 0,-3A3,3 0 0,1 3,0Z\" style=\"opacity: 1; stroke-width: 0px; fill: rgb(0, 0, 0); fill-opacity: 0;\"/></g><g class=\"text\"/></g><g class=\"trace scatter tracef57833aa-00d6-47f0-9f28-b2d5b146ec6e\" style=\"stroke-miterlimit: 2;\"><g class=\"fills\"><g><path class=\"js-fill\" d=\"M33.92,222.21L434.54,222.21L568.08,232.03L568.08,222.21L33.92,222.21Z\" style=\"fill: rgb(220, 57, 18); fill-opacity: 0.3; stroke-width: 0;\"/></g></g><g class=\"errorbars\"/><g class=\"lines\"><path class=\"js-line\" d=\"M33.92,222.21L568.08,222.21\" style=\"vector-effect: non-scaling-stroke; fill: none; stroke: rgb(0, 0, 0); stroke-opacity: 0; stroke-width: 0px; opacity: 1;\"/></g><g class=\"points\"><path class=\"point\" transform=\"translate(33.92,222.21)\" d=\"M3,0A3,3 0 1,1 0,-3A3,3 0 0,1 3,0Z\" style=\"opacity: 1; stroke-width: 0px; fill: rgb(0, 0, 0); fill-opacity: 0;\"/><path class=\"point\" transform=\"translate(167.46,222.21)\" d=\"M3,0A3,3 0 1,1 0,-3A3,3 0 0,1 3,0Z\" style=\"opacity: 1; stroke-width: 0px; fill: rgb(0, 0, 0); fill-opacity: 0;\"/><path class=\"point\" transform=\"translate(301,222.21)\" d=\"M3,0A3,3 0 1,1 0,-3A3,3 0 0,1 3,0Z\" style=\"opacity: 1; stroke-width: 0px; fill: rgb(0, 0, 0); fill-opacity: 0;\"/><path class=\"point\" transform=\"translate(434.54,222.21)\" d=\"M3,0A3,3 0 1,1 0,-3A3,3 0 0,1 3,0Z\" style=\"opacity: 1; stroke-width: 0px; fill: rgb(0, 0, 0); fill-opacity: 0;\"/><path class=\"point\" transform=\"translate(568.08,222.21)\" d=\"M3,0A3,3 0 1,1 0,-3A3,3 0 0,1 3,0Z\" style=\"opacity: 1; stroke-width: 0px; fill: rgb(0, 0, 0); fill-opacity: 0;\"/></g><g class=\"text\"/></g><g class=\"trace scatter trace954085d7-11b6-4763-9f85-d5a5a3208991\" style=\"stroke-miterlimit: 2;\"><g class=\"fills\"/><g class=\"errorbars\"/><g class=\"lines\"><path class=\"js-line\" d=\"M33.92,222.21L434.54,222.21L568.08,232.03\" style=\"vector-effect: non-scaling-stroke; fill: none; stroke: rgb(0, 0, 0); stroke-opacity: 0; stroke-width: 0px; opacity: 1;\"/></g><g class=\"points\"><path class=\"point\" transform=\"translate(33.92,222.21)\" d=\"M3,0A3,3 0 1,1 0,-3A3,3 0 0,1 3,0Z\" style=\"opacity: 1; stroke-width: 0px; fill: rgb(0, 0, 0); fill-opacity: 0;\"/><path class=\"point\" transform=\"translate(167.46,222.21)\" d=\"M3,0A3,3 0 1,1 0,-3A3,3 0 0,1 3,0Z\" style=\"opacity: 1; stroke-width: 0px; fill: rgb(0, 0, 0); fill-opacity: 0;\"/><path class=\"point\" transform=\"translate(301,222.21)\" d=\"M3,0A3,3 0 1,1 0,-3A3,3 0 0,1 3,0Z\" style=\"opacity: 1; stroke-width: 0px; fill: rgb(0, 0, 0); fill-opacity: 0;\"/><path class=\"point\" transform=\"translate(434.54,222.21)\" d=\"M3,0A3,3 0 1,1 0,-3A3,3 0 0,1 3,0Z\" style=\"opacity: 1; stroke-width: 0px; fill: rgb(0, 0, 0); fill-opacity: 0;\"/><path class=\"point\" transform=\"translate(568.08,232.03)\" d=\"M3,0A3,3 0 1,1 0,-3A3,3 0 0,1 3,0Z\" style=\"opacity: 1; stroke-width: 0px; fill: rgb(0, 0, 0); fill-opacity: 0;\"/></g><g class=\"text\"/></g><g class=\"trace scatter trace829e2e3b-dca0-4411-9359-601f6dfa2093\" style=\"stroke-miterlimit: 2; opacity: 1;\"><g class=\"fills\"/><g class=\"errorbars\"/><g class=\"lines\"><path class=\"js-line\" d=\"M33.92,16.16L167.46,64.86L301,19.43L434.54,138.38L568.08,232.03\" style=\"vector-effect: non-scaling-stroke; fill: none; stroke: rgb(44, 160, 44); stroke-opacity: 1; stroke-width: 2px; opacity: 1;\"/></g><g class=\"points\"><path class=\"point\" transform=\"translate(33.92,16.16)\" d=\"M3,0A3,3 0 1,1 0,-3A3,3 0 0,1 3,0Z\" style=\"opacity: 1; stroke-width: 0px; fill: rgb(44, 160, 44); fill-opacity: 1;\"/><path class=\"point\" transform=\"translate(167.46,64.86)\" d=\"M3,0A3,3 0 1,1 0,-3A3,3 0 0,1 3,0Z\" style=\"opacity: 1; stroke-width: 0px; fill: rgb(44, 160, 44); fill-opacity: 1;\"/><path class=\"point\" transform=\"translate(301,19.43)\" d=\"M3,0A3,3 0 1,1 0,-3A3,3 0 0,1 3,0Z\" style=\"opacity: 1; stroke-width: 0px; fill: rgb(44, 160, 44); fill-opacity: 1;\"/><path class=\"point\" transform=\"translate(434.54,138.38)\" d=\"M3,0A3,3 0 1,1 0,-3A3,3 0 0,1 3,0Z\" style=\"opacity: 1; stroke-width: 0px; fill: rgb(44, 160, 44); fill-opacity: 1;\"/><path class=\"point\" transform=\"translate(568.08,232.03)\" d=\"M3,0A3,3 0 1,1 0,-3A3,3 0 0,1 3,0Z\" style=\"opacity: 1; stroke-width: 0px; fill: rgb(44, 160, 44); fill-opacity: 1;\"/></g><g class=\"text\"/></g><g class=\"trace scatter trace50cf897a-ce16-4015-bee8-911de1ac5fd7\" style=\"stroke-miterlimit: 2; opacity: 0;\"><g class=\"fills\"/><g class=\"errorbars\"/><g class=\"lines\"><path class=\"js-line\" d=\"M33.92,222.21L568.08,222.21\" style=\"vector-effect: non-scaling-stroke; fill: none; stroke: rgb(0, 0, 0); stroke-opacity: 0; stroke-width: 0px; opacity: 1;\"/></g><g class=\"points\"><path class=\"point\" transform=\"translate(33.92,222.21)\" d=\"M3,0A3,3 0 1,1 0,-3A3,3 0 0,1 3,0Z\" style=\"opacity: 1; stroke-width: 0px; fill: rgb(0, 0, 0); fill-opacity: 0;\"/><path class=\"point\" transform=\"translate(167.46,222.21)\" d=\"M3,0A3,3 0 1,1 0,-3A3,3 0 0,1 3,0Z\" style=\"opacity: 1; stroke-width: 0px; fill: rgb(0, 0, 0); fill-opacity: 0;\"/><path class=\"point\" transform=\"translate(301,222.21)\" d=\"M3,0A3,3 0 1,1 0,-3A3,3 0 0,1 3,0Z\" style=\"opacity: 1; stroke-width: 0px; fill: rgb(0, 0, 0); fill-opacity: 0;\"/><path class=\"point\" transform=\"translate(434.54,222.21)\" d=\"M3,0A3,3 0 1,1 0,-3A3,3 0 0,1 3,0Z\" style=\"opacity: 1; stroke-width: 0px; fill: rgb(0, 0, 0); fill-opacity: 0;\"/><path class=\"point\" transform=\"translate(568.08,222.21)\" d=\"M3,0A3,3 0 1,1 0,-3A3,3 0 0,1 3,0Z\" style=\"opacity: 1; stroke-width: 0px; fill: rgb(0, 0, 0); fill-opacity: 0;\"/></g><g class=\"text\"/></g></g></g><g class=\"overplot\"/><path class=\"xlines-above crisp\" d=\"M0,0\" style=\"fill: none;\"/><path class=\"ylines-above crisp\" d=\"M0,0\" style=\"fill: none;\"/><g class=\"overlines-above\"/><g class=\"xaxislayer-above\"/><g class=\"yaxislayer-above\"><g class=\"y2tick\"><text text-anchor=\"end\" x=\"117\" y=\"4.199999999999999\" transform=\"translate(0,605.936748971193)\" style=\"font-family: 'Open Sans', verdana, arial, sans-serif; font-size: 12px; fill: rgb(42, 63, 95); fill-opacity: 1; white-space: pre; opacity: 1;\">200</text></g><g class=\"y2tick\"><text text-anchor=\"end\" x=\"117\" y=\"4.199999999999999\" style=\"font-family: 'Open Sans', verdana, arial, sans-serif; font-size: 12px; fill: rgb(42, 63, 95); fill-opacity: 1; white-space: pre; opacity: 1;\" transform=\"translate(0,559.1167489711929)\">200.2</text></g><g class=\"y2tick\"><text text-anchor=\"end\" x=\"117\" y=\"4.199999999999999\" style=\"font-family: 'Open Sans', verdana, arial, sans-serif; font-size: 12px; fill: rgb(42, 63, 95); fill-opacity: 1; white-space: pre; opacity: 1;\" transform=\"translate(0,512.286748971193)\">200.4</text></g><g class=\"y2tick\"><text text-anchor=\"end\" x=\"117\" y=\"4.199999999999999\" style=\"font-family: 'Open Sans', verdana, arial, sans-serif; font-size: 12px; fill: rgb(42, 63, 95); fill-opacity: 1; white-space: pre; opacity: 1;\" transform=\"translate(0,465.466748971193)\">200.6</text></g><g class=\"y2tick\"><text text-anchor=\"end\" x=\"117\" y=\"4.199999999999999\" style=\"font-family: 'Open Sans', verdana, arial, sans-serif; font-size: 12px; fill: rgb(42, 63, 95); fill-opacity: 1; white-space: pre; opacity: 1;\" transform=\"translate(0,418.636748971193)\">200.8</text></g></g><g class=\"overaxes-above\"/></g><g class=\"subplot x3y3\"><g class=\"layer-subplot\"><g class=\"shapelayer\"/><g class=\"imagelayer\"/></g><g class=\"gridlayer\"><g class=\"x3\"><path class=\"x3grid crisp\" transform=\"translate(151.92000000000002,0)\" d=\"M0,669.4534979423865v248.18600823045279\" style=\"stroke: rgb(255, 255, 255); stroke-opacity: 1; stroke-width: 1px;\"/><path class=\"x3grid crisp\" transform=\"translate(285.46000000000004,0)\" d=\"M0,669.4534979423865v248.18600823045279\" style=\"stroke: rgb(255, 255, 255); stroke-opacity: 1; stroke-width: 1px;\"/><path class=\"x3grid crisp\" transform=\"translate(419,0)\" d=\"M0,669.4534979423865v248.18600823045279\" style=\"stroke: rgb(255, 255, 255); stroke-opacity: 1; stroke-width: 1px;\"/><path class=\"x3grid crisp\" transform=\"translate(552.54,0)\" d=\"M0,669.4534979423865v248.18600823045279\" style=\"stroke: rgb(255, 255, 255); stroke-opacity: 1; stroke-width: 1px;\"/><path class=\"x3grid crisp\" transform=\"translate(686.08,0)\" d=\"M0,669.4534979423865v248.18600823045279\" style=\"stroke: rgb(255, 255, 255); stroke-opacity: 1; stroke-width: 1px;\"/></g><g class=\"y3\"><path class=\"y3grid crisp\" transform=\"translate(0,901.4834979423865)\" d=\"M118,0h602\" style=\"stroke: rgb(255, 255, 255); stroke-opacity: 1; stroke-width: 1px;\"/><path class=\"y3grid crisp\" transform=\"translate(0,858.3034979423866)\" d=\"M118,0h602\" style=\"stroke: rgb(255, 255, 255); stroke-opacity: 1; stroke-width: 1px;\"/><path class=\"y3grid crisp\" transform=\"translate(0,815.1334979423866)\" d=\"M118,0h602\" style=\"stroke: rgb(255, 255, 255); stroke-opacity: 1; stroke-width: 1px;\"/><path class=\"y3grid crisp\" transform=\"translate(0,771.9634979423865)\" d=\"M118,0h602\" style=\"stroke: rgb(255, 255, 255); stroke-opacity: 1; stroke-width: 1px;\"/><path class=\"y3grid crisp\" transform=\"translate(0,728.7834979423866)\" d=\"M118,0h602\" style=\"stroke: rgb(255, 255, 255); stroke-opacity: 1; stroke-width: 1px;\"/></g></g><g class=\"zerolinelayer\"><path class=\"y3zl zl crisp\" transform=\"translate(0,685.6134979423865)\" d=\"M118,0h602\" style=\"stroke: rgb(255, 255, 255); stroke-opacity: 1; stroke-width: 2px;\"/></g><path class=\"xlines-below\"/><path class=\"ylines-below\"/><g class=\"overlines-below\"/><g class=\"xaxislayer-below\"/><g class=\"yaxislayer-below\"/><g class=\"overaxes-below\"/><g class=\"plot\" transform=\"translate(118,669.4534979423865)\" clip-path=\"url(#clipffa999x3y3plot)\"><g class=\"scatterlayer mlayer\"><g class=\"trace scatter traced71ca546-e177-4ba7-a2a7-57874ba407bc\" style=\"stroke-miterlimit: 2;\"><g class=\"fills\"><g><path class=\"js-fill\" d=\"M33.92,59.33L167.46,102.51L301,111.14L434.54,188.85L568.08,232.03L568.08,16.16L33.92,16.16Z\" style=\"fill: rgb(255, 127, 14); fill-opacity: 0.3; stroke-width: 0;\"/></g></g><g class=\"errorbars\"/><g class=\"lines\"><path class=\"js-line\" d=\"M33.92,16.16L568.08,16.16\" style=\"vector-effect: non-scaling-stroke; fill: none; stroke: rgb(0, 0, 0); stroke-opacity: 0; stroke-width: 0px; opacity: 1;\"/></g><g class=\"points\"><path class=\"point\" transform=\"translate(33.92,16.16)\" d=\"M3,0A3,3 0 1,1 0,-3A3,3 0 0,1 3,0Z\" style=\"opacity: 1; stroke-width: 0px; fill: rgb(0, 0, 0); fill-opacity: 0;\"/><path class=\"point\" transform=\"translate(167.46,16.16)\" d=\"M3,0A3,3 0 1,1 0,-3A3,3 0 0,1 3,0Z\" style=\"opacity: 1; stroke-width: 0px; fill: rgb(0, 0, 0); fill-opacity: 0;\"/><path class=\"point\" transform=\"translate(301,16.16)\" d=\"M3,0A3,3 0 1,1 0,-3A3,3 0 0,1 3,0Z\" style=\"opacity: 1; stroke-width: 0px; fill: rgb(0, 0, 0); fill-opacity: 0;\"/><path class=\"point\" transform=\"translate(434.54,16.16)\" d=\"M3,0A3,3 0 1,1 0,-3A3,3 0 0,1 3,0Z\" style=\"opacity: 1; stroke-width: 0px; fill: rgb(0, 0, 0); fill-opacity: 0;\"/><path class=\"point\" transform=\"translate(568.08,16.16)\" d=\"M3,0A3,3 0 1,1 0,-3A3,3 0 0,1 3,0Z\" style=\"opacity: 1; stroke-width: 0px; fill: rgb(0, 0, 0); fill-opacity: 0;\"/></g><g class=\"text\"/></g><g class=\"trace scatter tracecb103fe2-97f2-451f-8deb-9465613a11cc\" style=\"stroke-miterlimit: 2;\"><g class=\"fills\"/><g class=\"errorbars\"/><g class=\"lines\"><path class=\"js-line\" d=\"M33.92,59.33L167.46,102.51L301,111.14L434.54,188.85L568.08,232.03\" style=\"vector-effect: non-scaling-stroke; fill: none; stroke: rgb(0, 0, 0); stroke-opacity: 0; stroke-width: 0px; opacity: 1;\"/></g><g class=\"points\"><path class=\"point\" transform=\"translate(33.92,59.33)\" d=\"M3,0A3,3 0 1,1 0,-3A3,3 0 0,1 3,0Z\" style=\"opacity: 1; stroke-width: 0px; fill: rgb(0, 0, 0); fill-opacity: 0;\"/><path class=\"point\" transform=\"translate(167.46,102.51)\" d=\"M3,0A3,3 0 1,1 0,-3A3,3 0 0,1 3,0Z\" style=\"opacity: 1; stroke-width: 0px; fill: rgb(0, 0, 0); fill-opacity: 0;\"/><path class=\"point\" transform=\"translate(301,111.14)\" d=\"M3,0A3,3 0 1,1 0,-3A3,3 0 0,1 3,0Z\" style=\"opacity: 1; stroke-width: 0px; fill: rgb(0, 0, 0); fill-opacity: 0;\"/><path class=\"point\" transform=\"translate(434.54,188.85)\" d=\"M3,0A3,3 0 1,1 0,-3A3,3 0 0,1 3,0Z\" style=\"opacity: 1; stroke-width: 0px; fill: rgb(0, 0, 0); fill-opacity: 0;\"/><path class=\"point\" transform=\"translate(568.08,232.03)\" d=\"M3,0A3,3 0 1,1 0,-3A3,3 0 0,1 3,0Z\" style=\"opacity: 1; stroke-width: 0px; fill: rgb(0, 0, 0); fill-opacity: 0;\"/></g><g class=\"text\"/></g><g class=\"trace scatter tracecebb0fac-9021-47d1-8ad9-6d8181cfc984\" style=\"stroke-miterlimit: 2; opacity: 1;\"><g class=\"fills\"/><g class=\"errorbars\"/><g class=\"lines\"><path class=\"js-line\" d=\"M33.92,59.33L167.46,102.51L301,111.14L434.54,188.85L568.08,232.03\" style=\"vector-effect: non-scaling-stroke; fill: none; stroke: rgb(23, 190, 207); stroke-opacity: 1; stroke-width: 2px; opacity: 1;\"/></g><g class=\"points\"><path class=\"point\" transform=\"translate(33.92,59.33)\" d=\"M3,0A3,3 0 1,1 0,-3A3,3 0 0,1 3,0Z\" style=\"opacity: 1; stroke-width: 0px; fill: rgb(23, 190, 207); fill-opacity: 1;\"/><path class=\"point\" transform=\"translate(167.46,102.51)\" d=\"M3,0A3,3 0 1,1 0,-3A3,3 0 0,1 3,0Z\" style=\"opacity: 1; stroke-width: 0px; fill: rgb(23, 190, 207); fill-opacity: 1;\"/><path class=\"point\" transform=\"translate(301,111.14)\" d=\"M3,0A3,3 0 1,1 0,-3A3,3 0 0,1 3,0Z\" style=\"opacity: 1; stroke-width: 0px; fill: rgb(23, 190, 207); fill-opacity: 1;\"/><path class=\"point\" transform=\"translate(434.54,188.85)\" d=\"M3,0A3,3 0 1,1 0,-3A3,3 0 0,1 3,0Z\" style=\"opacity: 1; stroke-width: 0px; fill: rgb(23, 190, 207); fill-opacity: 1;\"/><path class=\"point\" transform=\"translate(568.08,232.03)\" d=\"M3,0A3,3 0 1,1 0,-3A3,3 0 0,1 3,0Z\" style=\"opacity: 1; stroke-width: 0px; fill: rgb(23, 190, 207); fill-opacity: 1;\"/></g><g class=\"text\"/></g><g class=\"trace scatter trace39c8bc08-e3ff-41a1-8eef-679a39ba520f\" style=\"stroke-miterlimit: 2; opacity: 0;\"><g class=\"fills\"/><g class=\"errorbars\"/><g class=\"lines\"><path class=\"js-line\" d=\"M33.92,16.16L568.08,16.16\" style=\"vector-effect: non-scaling-stroke; fill: none; stroke: rgb(0, 0, 0); stroke-opacity: 0; stroke-width: 0px; opacity: 1;\"/></g><g class=\"points\"><path class=\"point\" transform=\"translate(33.92,16.16)\" d=\"M3,0A3,3 0 1,1 0,-3A3,3 0 0,1 3,0Z\" style=\"opacity: 1; stroke-width: 0px; fill: rgb(0, 0, 0); fill-opacity: 0;\"/><path class=\"point\" transform=\"translate(167.46,16.16)\" d=\"M3,0A3,3 0 1,1 0,-3A3,3 0 0,1 3,0Z\" style=\"opacity: 1; stroke-width: 0px; fill: rgb(0, 0, 0); fill-opacity: 0;\"/><path class=\"point\" transform=\"translate(301,16.16)\" d=\"M3,0A3,3 0 1,1 0,-3A3,3 0 0,1 3,0Z\" style=\"opacity: 1; stroke-width: 0px; fill: rgb(0, 0, 0); fill-opacity: 0;\"/><path class=\"point\" transform=\"translate(434.54,16.16)\" d=\"M3,0A3,3 0 1,1 0,-3A3,3 0 0,1 3,0Z\" style=\"opacity: 1; stroke-width: 0px; fill: rgb(0, 0, 0); fill-opacity: 0;\"/><path class=\"point\" transform=\"translate(568.08,16.16)\" d=\"M3,0A3,3 0 1,1 0,-3A3,3 0 0,1 3,0Z\" style=\"opacity: 1; stroke-width: 0px; fill: rgb(0, 0, 0); fill-opacity: 0;\"/></g><g class=\"text\"/></g></g></g><g class=\"overplot\"/><path class=\"xlines-above crisp\" d=\"M0,0\" style=\"fill: none;\"/><path class=\"ylines-above crisp\" d=\"M0,0\" style=\"fill: none;\"/><g class=\"overlines-above\"/><g class=\"xaxislayer-above\"/><g class=\"yaxislayer-above\"><g class=\"y3tick\"><text text-anchor=\"end\" x=\"117\" y=\"4.199999999999999\" transform=\"translate(0,901.4834979423865)\" style=\"font-family: 'Open Sans', verdana, arial, sans-serif; font-size: 12px; fill: rgb(42, 63, 95); fill-opacity: 1; white-space: pre; opacity: 1;\">−5</text></g><g class=\"y3tick\"><text text-anchor=\"end\" x=\"117\" y=\"4.199999999999999\" style=\"font-family: 'Open Sans', verdana, arial, sans-serif; font-size: 12px; fill: rgb(42, 63, 95); fill-opacity: 1; white-space: pre; opacity: 1;\" transform=\"translate(0,858.3034979423866)\">−4</text></g><g class=\"y3tick\"><text text-anchor=\"end\" x=\"117\" y=\"4.199999999999999\" style=\"font-family: 'Open Sans', verdana, arial, sans-serif; font-size: 12px; fill: rgb(42, 63, 95); fill-opacity: 1; white-space: pre; opacity: 1;\" transform=\"translate(0,815.1334979423866)\">−3</text></g><g class=\"y3tick\"><text text-anchor=\"end\" x=\"117\" y=\"4.199999999999999\" style=\"font-family: 'Open Sans', verdana, arial, sans-serif; font-size: 12px; fill: rgb(42, 63, 95); fill-opacity: 1; white-space: pre; opacity: 1;\" transform=\"translate(0,771.9634979423865)\">−2</text></g><g class=\"y3tick\"><text text-anchor=\"end\" x=\"117\" y=\"4.199999999999999\" style=\"font-family: 'Open Sans', verdana, arial, sans-serif; font-size: 12px; fill: rgb(42, 63, 95); fill-opacity: 1; white-space: pre; opacity: 1;\" transform=\"translate(0,728.7834979423866)\">−1</text></g><g class=\"y3tick\"><text text-anchor=\"end\" x=\"117\" y=\"4.199999999999999\" style=\"font-family: 'Open Sans', verdana, arial, sans-serif; font-size: 12px; fill: rgb(42, 63, 95); fill-opacity: 1; white-space: pre; opacity: 1;\" transform=\"translate(0,685.6134979423865)\">0</text></g></g><g class=\"overaxes-above\"/></g><g class=\"subplot x4y4\"><g class=\"layer-subplot\"><g class=\"shapelayer\"/><g class=\"imagelayer\"/></g><g class=\"gridlayer\"><g class=\"x4\"><path class=\"x4grid crisp\" transform=\"translate(151.92000000000002,0)\" d=\"M0,955.1802469135802v248.18600823045279\" style=\"stroke: rgb(255, 255, 255); stroke-opacity: 1; stroke-width: 1px;\"/><path class=\"x4grid crisp\" transform=\"translate(285.46000000000004,0)\" d=\"M0,955.1802469135802v248.18600823045279\" style=\"stroke: rgb(255, 255, 255); stroke-opacity: 1; stroke-width: 1px;\"/><path class=\"x4grid crisp\" transform=\"translate(419,0)\" d=\"M0,955.1802469135802v248.18600823045279\" style=\"stroke: rgb(255, 255, 255); stroke-opacity: 1; stroke-width: 1px;\"/><path class=\"x4grid crisp\" transform=\"translate(552.54,0)\" d=\"M0,955.1802469135802v248.18600823045279\" style=\"stroke: rgb(255, 255, 255); stroke-opacity: 1; stroke-width: 1px;\"/><path class=\"x4grid crisp\" transform=\"translate(686.08,0)\" d=\"M0,955.1802469135802v248.18600823045279\" style=\"stroke: rgb(255, 255, 255); stroke-opacity: 1; stroke-width: 1px;\"/></g><g class=\"y4\"><path class=\"y4grid crisp\" transform=\"translate(0,1185.41024691358)\" d=\"M118,0h602\" style=\"stroke: rgb(255, 255, 255); stroke-opacity: 1; stroke-width: 1px;\"/><path class=\"y4grid crisp\" transform=\"translate(0,1142.6002469135801)\" d=\"M118,0h602\" style=\"stroke: rgb(255, 255, 255); stroke-opacity: 1; stroke-width: 1px;\"/><path class=\"y4grid crisp\" transform=\"translate(0,1099.7802469135802)\" d=\"M118,0h602\" style=\"stroke: rgb(255, 255, 255); stroke-opacity: 1; stroke-width: 1px;\"/><path class=\"y4grid crisp\" transform=\"translate(0,1056.9702469135802)\" d=\"M118,0h602\" style=\"stroke: rgb(255, 255, 255); stroke-opacity: 1; stroke-width: 1px;\"/><path class=\"y4grid crisp\" transform=\"translate(0,1014.1502469135802)\" d=\"M118,0h602\" style=\"stroke: rgb(255, 255, 255); stroke-opacity: 1; stroke-width: 1px;\"/><path class=\"y4grid crisp\" transform=\"translate(0,971.3402469135801)\" d=\"M118,0h602\" style=\"stroke: rgb(255, 255, 255); stroke-opacity: 1; stroke-width: 1px;\"/></g></g><g class=\"zerolinelayer\"/><path class=\"xlines-below\"/><path class=\"ylines-below\"/><g class=\"overlines-below\"/><g class=\"xaxislayer-below\"/><g class=\"yaxislayer-below\"/><g class=\"overaxes-below\"/><g class=\"plot\" transform=\"translate(118,955.1802469135802)\" clip-path=\"url(#clipffa999x4y4plot)\"><g class=\"scatterlayer mlayer\"><g class=\"trace scatter traceba52b0ff-bef9-49c3-a3e4-1abfb712b9c2\" style=\"stroke-miterlimit: 2;\"><g class=\"fills\"><g><path class=\"js-fill\" d=\"M33.92,21.29L167.46,73.01L301,73.27L434.54,172.09L568.08,232.03L568.08,16.16L33.92,16.16Z\" style=\"fill: rgb(255, 0, 0); fill-opacity: 0.3; stroke-width: 0;\"/></g></g><g class=\"errorbars\"/><g class=\"lines\"><path class=\"js-line\" d=\"M33.92,16.16L568.08,16.16\" style=\"vector-effect: non-scaling-stroke; fill: none; stroke: rgb(0, 0, 0); stroke-opacity: 0; stroke-width: 0px; opacity: 1;\"/></g><g class=\"points\"><path class=\"point\" transform=\"translate(33.92,16.16)\" d=\"M3,0A3,3 0 1,1 0,-3A3,3 0 0,1 3,0Z\" style=\"opacity: 1; stroke-width: 0px; fill: rgb(0, 0, 0); fill-opacity: 0;\"/><path class=\"point\" transform=\"translate(167.46,16.16)\" d=\"M3,0A3,3 0 1,1 0,-3A3,3 0 0,1 3,0Z\" style=\"opacity: 1; stroke-width: 0px; fill: rgb(0, 0, 0); fill-opacity: 0;\"/><path class=\"point\" transform=\"translate(301,16.16)\" d=\"M3,0A3,3 0 1,1 0,-3A3,3 0 0,1 3,0Z\" style=\"opacity: 1; stroke-width: 0px; fill: rgb(0, 0, 0); fill-opacity: 0;\"/><path class=\"point\" transform=\"translate(434.54,16.16)\" d=\"M3,0A3,3 0 1,1 0,-3A3,3 0 0,1 3,0Z\" style=\"opacity: 1; stroke-width: 0px; fill: rgb(0, 0, 0); fill-opacity: 0;\"/><path class=\"point\" transform=\"translate(568.08,16.16)\" d=\"M3,0A3,3 0 1,1 0,-3A3,3 0 0,1 3,0Z\" style=\"opacity: 1; stroke-width: 0px; fill: rgb(0, 0, 0); fill-opacity: 0;\"/></g><g class=\"text\"/></g><g class=\"trace scatter trace2c752ff5-7308-4743-ae09-10bf83909559\" style=\"stroke-miterlimit: 2;\"><g class=\"fills\"/><g class=\"errorbars\"/><g class=\"lines\"><path class=\"js-line\" d=\"M33.92,21.29L167.46,73.01L301,73.27L434.54,172.09L568.08,232.03\" style=\"vector-effect: non-scaling-stroke; fill: none; stroke: rgb(0, 0, 0); stroke-opacity: 0; stroke-width: 0px; opacity: 1;\"/></g><g class=\"points\"><path class=\"point\" transform=\"translate(33.92,21.29)\" d=\"M3,0A3,3 0 1,1 0,-3A3,3 0 0,1 3,0Z\" style=\"opacity: 1; stroke-width: 0px; fill: rgb(0, 0, 0); fill-opacity: 0;\"/><path class=\"point\" transform=\"translate(167.46,73.01)\" d=\"M3,0A3,3 0 1,1 0,-3A3,3 0 0,1 3,0Z\" style=\"opacity: 1; stroke-width: 0px; fill: rgb(0, 0, 0); fill-opacity: 0;\"/><path class=\"point\" transform=\"translate(301,73.27)\" d=\"M3,0A3,3 0 1,1 0,-3A3,3 0 0,1 3,0Z\" style=\"opacity: 1; stroke-width: 0px; fill: rgb(0, 0, 0); fill-opacity: 0;\"/><path class=\"point\" transform=\"translate(434.54,172.09)\" d=\"M3,0A3,3 0 1,1 0,-3A3,3 0 0,1 3,0Z\" style=\"opacity: 1; stroke-width: 0px; fill: rgb(0, 0, 0); fill-opacity: 0;\"/><path class=\"point\" transform=\"translate(568.08,232.03)\" d=\"M3,0A3,3 0 1,1 0,-3A3,3 0 0,1 3,0Z\" style=\"opacity: 1; stroke-width: 0px; fill: rgb(0, 0, 0); fill-opacity: 0;\"/></g><g class=\"text\"/></g><g class=\"trace scatter traced9f774c6-9a1b-42af-a994-3972bd6a2916\" style=\"stroke-miterlimit: 2; opacity: 1;\"><g class=\"fills\"/><g class=\"errorbars\"/><g class=\"lines\"><path class=\"js-line\" d=\"M33.92,21.29L167.46,73.01L301,73.27L434.54,172.09L568.08,232.03\" style=\"vector-effect: non-scaling-stroke; fill: none; stroke: rgb(148, 103, 189); stroke-opacity: 1; stroke-width: 2px; opacity: 1;\"/></g><g class=\"points\"><path class=\"point\" transform=\"translate(33.92,21.29)\" d=\"M3,0A3,3 0 1,1 0,-3A3,3 0 0,1 3,0Z\" style=\"opacity: 1; stroke-width: 0px; fill: rgb(148, 103, 189); fill-opacity: 1;\"/><path class=\"point\" transform=\"translate(167.46,73.01)\" d=\"M3,0A3,3 0 1,1 0,-3A3,3 0 0,1 3,0Z\" style=\"opacity: 1; stroke-width: 0px; fill: rgb(148, 103, 189); fill-opacity: 1;\"/><path class=\"point\" transform=\"translate(301,73.27)\" d=\"M3,0A3,3 0 1,1 0,-3A3,3 0 0,1 3,0Z\" style=\"opacity: 1; stroke-width: 0px; fill: rgb(148, 103, 189); fill-opacity: 1;\"/><path class=\"point\" transform=\"translate(434.54,172.09)\" d=\"M3,0A3,3 0 1,1 0,-3A3,3 0 0,1 3,0Z\" style=\"opacity: 1; stroke-width: 0px; fill: rgb(148, 103, 189); fill-opacity: 1;\"/><path class=\"point\" transform=\"translate(568.08,232.03)\" d=\"M3,0A3,3 0 1,1 0,-3A3,3 0 0,1 3,0Z\" style=\"opacity: 1; stroke-width: 0px; fill: rgb(148, 103, 189); fill-opacity: 1;\"/></g><g class=\"text\"/></g><g class=\"trace scatter traced2bb649c-d111-45d7-ba04-657a0059202c\" style=\"stroke-miterlimit: 2; opacity: 0;\"><g class=\"fills\"/><g class=\"errorbars\"/><g class=\"lines\"><path class=\"js-line\" d=\"M33.92,16.16L568.08,16.16\" style=\"vector-effect: non-scaling-stroke; fill: none; stroke: rgb(0, 0, 0); stroke-opacity: 0; stroke-width: 0px; opacity: 1;\"/></g><g class=\"points\"><path class=\"point\" transform=\"translate(33.92,16.16)\" d=\"M3,0A3,3 0 1,1 0,-3A3,3 0 0,1 3,0Z\" style=\"opacity: 1; stroke-width: 0px; fill: rgb(0, 0, 0); fill-opacity: 0;\"/><path class=\"point\" transform=\"translate(167.46,16.16)\" d=\"M3,0A3,3 0 1,1 0,-3A3,3 0 0,1 3,0Z\" style=\"opacity: 1; stroke-width: 0px; fill: rgb(0, 0, 0); fill-opacity: 0;\"/><path class=\"point\" transform=\"translate(301,16.16)\" d=\"M3,0A3,3 0 1,1 0,-3A3,3 0 0,1 3,0Z\" style=\"opacity: 1; stroke-width: 0px; fill: rgb(0, 0, 0); fill-opacity: 0;\"/><path class=\"point\" transform=\"translate(434.54,16.16)\" d=\"M3,0A3,3 0 1,1 0,-3A3,3 0 0,1 3,0Z\" style=\"opacity: 1; stroke-width: 0px; fill: rgb(0, 0, 0); fill-opacity: 0;\"/><path class=\"point\" transform=\"translate(568.08,16.16)\" d=\"M3,0A3,3 0 1,1 0,-3A3,3 0 0,1 3,0Z\" style=\"opacity: 1; stroke-width: 0px; fill: rgb(0, 0, 0); fill-opacity: 0;\"/></g><g class=\"text\"/></g></g></g><g class=\"overplot\"/><path class=\"xlines-above crisp\" d=\"M0,0\" style=\"fill: none;\"/><path class=\"ylines-above crisp\" d=\"M0,0\" style=\"fill: none;\"/><g class=\"overlines-above\"/><g class=\"xaxislayer-above\"/><g class=\"yaxislayer-above\"><g class=\"y4tick\"><text text-anchor=\"end\" x=\"117\" y=\"4.199999999999999\" transform=\"translate(0,1185.41024691358)\" style=\"font-family: 'Open Sans', verdana, arial, sans-serif; font-size: 12px; fill: rgb(42, 63, 95); fill-opacity: 1; white-space: pre; opacity: 1;\">195</text></g><g class=\"y4tick\"><text text-anchor=\"end\" x=\"117\" y=\"4.199999999999999\" style=\"font-family: 'Open Sans', verdana, arial, sans-serif; font-size: 12px; fill: rgb(42, 63, 95); fill-opacity: 1; white-space: pre; opacity: 1;\" transform=\"translate(0,1142.6002469135801)\">196</text></g><g class=\"y4tick\"><text text-anchor=\"end\" x=\"117\" y=\"4.199999999999999\" style=\"font-family: 'Open Sans', verdana, arial, sans-serif; font-size: 12px; fill: rgb(42, 63, 95); fill-opacity: 1; white-space: pre; opacity: 1;\" transform=\"translate(0,1099.7802469135802)\">197</text></g><g class=\"y4tick\"><text text-anchor=\"end\" x=\"117\" y=\"4.199999999999999\" style=\"font-family: 'Open Sans', verdana, arial, sans-serif; font-size: 12px; fill: rgb(42, 63, 95); fill-opacity: 1; white-space: pre; opacity: 1;\" transform=\"translate(0,1056.9702469135802)\">198</text></g><g class=\"y4tick\"><text text-anchor=\"end\" x=\"117\" y=\"4.199999999999999\" style=\"font-family: 'Open Sans', verdana, arial, sans-serif; font-size: 12px; fill: rgb(42, 63, 95); fill-opacity: 1; white-space: pre; opacity: 1;\" transform=\"translate(0,1014.1502469135802)\">199</text></g><g class=\"y4tick\"><text text-anchor=\"end\" x=\"117\" y=\"4.199999999999999\" style=\"font-family: 'Open Sans', verdana, arial, sans-serif; font-size: 12px; fill: rgb(42, 63, 95); fill-opacity: 1; white-space: pre; opacity: 1;\" transform=\"translate(0,971.3402469135801)\">200</text></g></g><g class=\"overaxes-above\"/></g><g class=\"subplot x5y5\"><g class=\"layer-subplot\"><g class=\"shapelayer\"/><g class=\"imagelayer\"/></g><g class=\"gridlayer\"><g class=\"x5\"><path class=\"x5grid crisp\" transform=\"translate(151.92000000000002,0)\" d=\"M0,1240.9069958847736v248.18600823045279\" style=\"stroke: rgb(255, 255, 255); stroke-opacity: 1; stroke-width: 1px;\"/><path class=\"x5grid crisp\" transform=\"translate(285.46000000000004,0)\" d=\"M0,1240.9069958847736v248.18600823045279\" style=\"stroke: rgb(255, 255, 255); stroke-opacity: 1; stroke-width: 1px;\"/><path class=\"x5grid crisp\" transform=\"translate(419,0)\" d=\"M0,1240.9069958847736v248.18600823045279\" style=\"stroke: rgb(255, 255, 255); stroke-opacity: 1; stroke-width: 1px;\"/><path class=\"x5grid crisp\" transform=\"translate(552.54,0)\" d=\"M0,1240.9069958847736v248.18600823045279\" style=\"stroke: rgb(255, 255, 255); stroke-opacity: 1; stroke-width: 1px;\"/><path class=\"x5grid crisp\" transform=\"translate(686.08,0)\" d=\"M0,1240.9069958847736v248.18600823045279\" style=\"stroke: rgb(255, 255, 255); stroke-opacity: 1; stroke-width: 1px;\"/></g><g class=\"y5\"><path class=\"y5grid crisp\" transform=\"translate(0,1470.9769958847735)\" d=\"M118,0h602\" style=\"stroke: rgb(255, 255, 255); stroke-opacity: 1; stroke-width: 1px;\"/><path class=\"y5grid crisp\" transform=\"translate(0,1432.0769958847736)\" d=\"M118,0h602\" style=\"stroke: rgb(255, 255, 255); stroke-opacity: 1; stroke-width: 1px;\"/><path class=\"y5grid crisp\" transform=\"translate(0,1393.1869958847735)\" d=\"M118,0h602\" style=\"stroke: rgb(255, 255, 255); stroke-opacity: 1; stroke-width: 1px;\"/><path class=\"y5grid crisp\" transform=\"translate(0,1354.2969958847737)\" d=\"M118,0h602\" style=\"stroke: rgb(255, 255, 255); stroke-opacity: 1; stroke-width: 1px;\"/><path class=\"y5grid crisp\" transform=\"translate(0,1315.4069958847736)\" d=\"M118,0h602\" style=\"stroke: rgb(255, 255, 255); stroke-opacity: 1; stroke-width: 1px;\"/><path class=\"y5grid crisp\" transform=\"translate(0,1276.5169958847735)\" d=\"M118,0h602\" style=\"stroke: rgb(255, 255, 255); stroke-opacity: 1; stroke-width: 1px;\"/></g></g><g class=\"zerolinelayer\"/><path class=\"xlines-below\"/><path class=\"ylines-below\"/><g class=\"overlines-below\"/><g class=\"xaxislayer-below\"/><g class=\"yaxislayer-below\"/><g class=\"overaxes-below\"/><g class=\"plot\" transform=\"translate(118,1240.9069958847736)\" clip-path=\"url(#clipffa999x5y5plot)\"><g class=\"scatterlayer mlayer\"><g class=\"trace scatter trace961a933a-3bbd-4a1c-8f5f-1b18c0e73765\" style=\"stroke-miterlimit: 2; opacity: 1;\"><g class=\"fills\"/><g class=\"errorbars\"/><g class=\"lines\"><path class=\"js-line\" d=\"M33.92,230.07L167.46,191.17L301,171.73L434.54,74.5L568.08,16.16\" style=\"vector-effect: non-scaling-stroke; fill: none; stroke: rgb(127, 127, 127); stroke-opacity: 1; stroke-width: 2px; opacity: 1;\"/></g><g class=\"points\"><path class=\"point\" transform=\"translate(33.92,230.07)\" d=\"M3,0A3,3 0 1,1 0,-3A3,3 0 0,1 3,0Z\" style=\"opacity: 1; stroke-width: 0px; fill: rgb(127, 127, 127); fill-opacity: 1;\"/><path class=\"point\" transform=\"translate(167.46,191.17)\" d=\"M3,0A3,3 0 1,1 0,-3A3,3 0 0,1 3,0Z\" style=\"opacity: 1; stroke-width: 0px; fill: rgb(127, 127, 127); fill-opacity: 1;\"/><path class=\"point\" transform=\"translate(301,171.73)\" d=\"M3,0A3,3 0 1,1 0,-3A3,3 0 0,1 3,0Z\" style=\"opacity: 1; stroke-width: 0px; fill: rgb(127, 127, 127); fill-opacity: 1;\"/><path class=\"point\" transform=\"translate(434.54,74.5)\" d=\"M3,0A3,3 0 1,1 0,-3A3,3 0 0,1 3,0Z\" style=\"opacity: 1; stroke-width: 0px; fill: rgb(127, 127, 127); fill-opacity: 1;\"/><path class=\"point\" transform=\"translate(568.08,16.16)\" d=\"M3,0A3,3 0 1,1 0,-3A3,3 0 0,1 3,0Z\" style=\"opacity: 1; stroke-width: 0px; fill: rgb(127, 127, 127); fill-opacity: 1;\"/></g><g class=\"text\"/></g><g class=\"trace scatter trace2e2fc523-e6e2-4ada-b77a-517e31157418\" style=\"stroke-miterlimit: 2;\"><g class=\"fills\"><g><path class=\"js-fill\" d=\"M33.92,230.11L568.08,232.03L568.08,230.07L33.92,230.07Z\" style=\"fill: rgb(255, 0, 0); fill-opacity: 0.3; stroke-width: 0;\"/></g></g><g class=\"errorbars\"/><g class=\"lines\"><path class=\"js-line\" d=\"M33.92,230.07L568.08,230.07\" style=\"vector-effect: non-scaling-stroke; fill: none; stroke: rgb(0, 0, 0); stroke-opacity: 0; stroke-width: 0px; opacity: 1;\"/></g><g class=\"points\"><path class=\"point\" transform=\"translate(33.92,230.07)\" d=\"M3,0A3,3 0 1,1 0,-3A3,3 0 0,1 3,0Z\" style=\"opacity: 1; stroke-width: 0px; fill: rgb(0, 0, 0); fill-opacity: 0;\"/><path class=\"point\" transform=\"translate(167.46,230.07)\" d=\"M3,0A3,3 0 1,1 0,-3A3,3 0 0,1 3,0Z\" style=\"opacity: 1; stroke-width: 0px; fill: rgb(0, 0, 0); fill-opacity: 0;\"/><path class=\"point\" transform=\"translate(301,230.07)\" d=\"M3,0A3,3 0 1,1 0,-3A3,3 0 0,1 3,0Z\" style=\"opacity: 1; stroke-width: 0px; fill: rgb(0, 0, 0); fill-opacity: 0;\"/><path class=\"point\" transform=\"translate(434.54,230.07)\" d=\"M3,0A3,3 0 1,1 0,-3A3,3 0 0,1 3,0Z\" style=\"opacity: 1; stroke-width: 0px; fill: rgb(0, 0, 0); fill-opacity: 0;\"/><path class=\"point\" transform=\"translate(568.08,230.07)\" d=\"M3,0A3,3 0 1,1 0,-3A3,3 0 0,1 3,0Z\" style=\"opacity: 1; stroke-width: 0px; fill: rgb(0, 0, 0); fill-opacity: 0;\"/></g><g class=\"text\"/></g><g class=\"trace scatter traceb8767791-a45c-4a2f-9d89-8559ef00f21a\" style=\"stroke-miterlimit: 2;\"><g class=\"fills\"/><g class=\"errorbars\"/><g class=\"lines\"><path class=\"js-line\" d=\"M33.92,230.11L568.08,232.03\" style=\"vector-effect: non-scaling-stroke; fill: none; stroke: rgb(0, 0, 0); stroke-opacity: 0; stroke-width: 0px; opacity: 1;\"/></g><g class=\"points\"><path class=\"point\" transform=\"translate(33.92,230.11)\" d=\"M3,0A3,3 0 1,1 0,-3A3,3 0 0,1 3,0Z\" style=\"opacity: 1; stroke-width: 0px; fill: rgb(0, 0, 0); fill-opacity: 0;\"/><path class=\"point\" transform=\"translate(167.46,230.58)\" d=\"M3,0A3,3 0 1,1 0,-3A3,3 0 0,1 3,0Z\" style=\"opacity: 1; stroke-width: 0px; fill: rgb(0, 0, 0); fill-opacity: 0;\"/><path class=\"point\" transform=\"translate(301,230.58)\" d=\"M3,0A3,3 0 1,1 0,-3A3,3 0 0,1 3,0Z\" style=\"opacity: 1; stroke-width: 0px; fill: rgb(0, 0, 0); fill-opacity: 0;\"/><path class=\"point\" transform=\"translate(434.54,231.48)\" d=\"M3,0A3,3 0 1,1 0,-3A3,3 0 0,1 3,0Z\" style=\"opacity: 1; stroke-width: 0px; fill: rgb(0, 0, 0); fill-opacity: 0;\"/><path class=\"point\" transform=\"translate(568.08,232.03)\" d=\"M3,0A3,3 0 1,1 0,-3A3,3 0 0,1 3,0Z\" style=\"opacity: 1; stroke-width: 0px; fill: rgb(0, 0, 0); fill-opacity: 0;\"/></g><g class=\"text\"/></g><g class=\"trace scatter trace7d6bb0ac-189b-4265-8d88-6d1c70bfadcd\" style=\"stroke-miterlimit: 2; opacity: 1;\"><g class=\"fills\"/><g class=\"errorbars\"/><g class=\"lines\"><path class=\"js-line\" d=\"M33.92,230.11L568.08,232.03\" style=\"vector-effect: non-scaling-stroke; fill: none; stroke: rgb(148, 103, 189); stroke-opacity: 1; stroke-width: 2px; opacity: 1;\"/></g><g class=\"points\"><path class=\"point\" transform=\"translate(33.92,230.11)\" d=\"M3,0A3,3 0 1,1 0,-3A3,3 0 0,1 3,0Z\" style=\"opacity: 1; stroke-width: 0px; fill: rgb(148, 103, 189); fill-opacity: 1;\"/><path class=\"point\" transform=\"translate(167.46,230.58)\" d=\"M3,0A3,3 0 1,1 0,-3A3,3 0 0,1 3,0Z\" style=\"opacity: 1; stroke-width: 0px; fill: rgb(148, 103, 189); fill-opacity: 1;\"/><path class=\"point\" transform=\"translate(301,230.58)\" d=\"M3,0A3,3 0 1,1 0,-3A3,3 0 0,1 3,0Z\" style=\"opacity: 1; stroke-width: 0px; fill: rgb(148, 103, 189); fill-opacity: 1;\"/><path class=\"point\" transform=\"translate(434.54,231.48)\" d=\"M3,0A3,3 0 1,1 0,-3A3,3 0 0,1 3,0Z\" style=\"opacity: 1; stroke-width: 0px; fill: rgb(148, 103, 189); fill-opacity: 1;\"/><path class=\"point\" transform=\"translate(568.08,232.03)\" d=\"M3,0A3,3 0 1,1 0,-3A3,3 0 0,1 3,0Z\" style=\"opacity: 1; stroke-width: 0px; fill: rgb(148, 103, 189); fill-opacity: 1;\"/></g><g class=\"text\"/></g><g class=\"trace scatter trace44d6b9a1-0f42-4c4c-83b0-f6795ca8bdca\" style=\"stroke-miterlimit: 2; opacity: 0;\"><g class=\"fills\"/><g class=\"errorbars\"/><g class=\"lines\"><path class=\"js-line\" d=\"M33.92,230.07L568.08,230.07\" style=\"vector-effect: non-scaling-stroke; fill: none; stroke: rgb(0, 0, 0); stroke-opacity: 0; stroke-width: 0px; opacity: 1;\"/></g><g class=\"points\"><path class=\"point\" transform=\"translate(33.92,230.07)\" d=\"M3,0A3,3 0 1,1 0,-3A3,3 0 0,1 3,0Z\" style=\"opacity: 1; stroke-width: 0px; fill: rgb(0, 0, 0); fill-opacity: 0;\"/><path class=\"point\" transform=\"translate(167.46,230.07)\" d=\"M3,0A3,3 0 1,1 0,-3A3,3 0 0,1 3,0Z\" style=\"opacity: 1; stroke-width: 0px; fill: rgb(0, 0, 0); fill-opacity: 0;\"/><path class=\"point\" transform=\"translate(301,230.07)\" d=\"M3,0A3,3 0 1,1 0,-3A3,3 0 0,1 3,0Z\" style=\"opacity: 1; stroke-width: 0px; fill: rgb(0, 0, 0); fill-opacity: 0;\"/><path class=\"point\" transform=\"translate(434.54,230.07)\" d=\"M3,0A3,3 0 1,1 0,-3A3,3 0 0,1 3,0Z\" style=\"opacity: 1; stroke-width: 0px; fill: rgb(0, 0, 0); fill-opacity: 0;\"/><path class=\"point\" transform=\"translate(568.08,230.07)\" d=\"M3,0A3,3 0 1,1 0,-3A3,3 0 0,1 3,0Z\" style=\"opacity: 1; stroke-width: 0px; fill: rgb(0, 0, 0); fill-opacity: 0;\"/></g><g class=\"text\"/></g></g></g><g class=\"overplot\"/><path class=\"xlines-above crisp\" d=\"M0,0\" style=\"fill: none;\"/><path class=\"ylines-above crisp\" d=\"M0,0\" style=\"fill: none;\"/><g class=\"overlines-above\"/><g class=\"xaxislayer-above\"/><g class=\"yaxislayer-above\"><g class=\"y5tick\"><text text-anchor=\"end\" x=\"117\" y=\"4.199999999999999\" transform=\"translate(0,1470.9769958847735)\" style=\"font-family: 'Open Sans', verdana, arial, sans-serif; font-size: 12px; fill: rgb(42, 63, 95); fill-opacity: 1; white-space: pre; opacity: 1;\">1</text></g><g class=\"y5tick\"><text text-anchor=\"end\" x=\"117\" y=\"4.199999999999999\" style=\"font-family: 'Open Sans', verdana, arial, sans-serif; font-size: 12px; fill: rgb(42, 63, 95); fill-opacity: 1; white-space: pre; opacity: 1;\" transform=\"translate(0,1432.0769958847736)\">1.5</text></g><g class=\"y5tick\"><text text-anchor=\"end\" x=\"117\" y=\"4.199999999999999\" style=\"font-family: 'Open Sans', verdana, arial, sans-serif; font-size: 12px; fill: rgb(42, 63, 95); fill-opacity: 1; white-space: pre; opacity: 1;\" transform=\"translate(0,1393.1869958847735)\">2</text></g><g class=\"y5tick\"><text text-anchor=\"end\" x=\"117\" y=\"4.199999999999999\" style=\"font-family: 'Open Sans', verdana, arial, sans-serif; font-size: 12px; fill: rgb(42, 63, 95); fill-opacity: 1; white-space: pre; opacity: 1;\" transform=\"translate(0,1354.2969958847737)\">2.5</text></g><g class=\"y5tick\"><text text-anchor=\"end\" x=\"117\" y=\"4.199999999999999\" style=\"font-family: 'Open Sans', verdana, arial, sans-serif; font-size: 12px; fill: rgb(42, 63, 95); fill-opacity: 1; white-space: pre; opacity: 1;\" transform=\"translate(0,1315.4069958847736)\">3</text></g><g class=\"y5tick\"><text text-anchor=\"end\" x=\"117\" y=\"4.199999999999999\" style=\"font-family: 'Open Sans', verdana, arial, sans-serif; font-size: 12px; fill: rgb(42, 63, 95); fill-opacity: 1; white-space: pre; opacity: 1;\" transform=\"translate(0,1276.5169958847735)\">3.5</text></g></g><g class=\"overaxes-above\"/></g><g class=\"subplot x6y6\"><g class=\"layer-subplot\"><g class=\"shapelayer\"/><g class=\"imagelayer\"/></g><g class=\"gridlayer\"><g class=\"x6\"><path class=\"x6grid crisp\" transform=\"translate(151.92000000000002,0)\" d=\"M0,1526.633744855967v248.18600823045264\" style=\"stroke: rgb(255, 255, 255); stroke-opacity: 1; stroke-width: 1px;\"/><path class=\"x6grid crisp\" transform=\"translate(285.46000000000004,0)\" d=\"M0,1526.633744855967v248.18600823045264\" style=\"stroke: rgb(255, 255, 255); stroke-opacity: 1; stroke-width: 1px;\"/><path class=\"x6grid crisp\" transform=\"translate(419,0)\" d=\"M0,1526.633744855967v248.18600823045264\" style=\"stroke: rgb(255, 255, 255); stroke-opacity: 1; stroke-width: 1px;\"/><path class=\"x6grid crisp\" transform=\"translate(552.54,0)\" d=\"M0,1526.633744855967v248.18600823045264\" style=\"stroke: rgb(255, 255, 255); stroke-opacity: 1; stroke-width: 1px;\"/><path class=\"x6grid crisp\" transform=\"translate(686.08,0)\" d=\"M0,1526.633744855967v248.18600823045264\" style=\"stroke: rgb(255, 255, 255); stroke-opacity: 1; stroke-width: 1px;\"/></g><g class=\"y6\"><path class=\"y6grid crisp\" transform=\"translate(0,1756.203744855967)\" d=\"M118,0h602\" style=\"stroke: rgb(255, 255, 255); stroke-opacity: 1; stroke-width: 1px;\"/><path class=\"y6grid crisp\" transform=\"translate(0,1712.603744855967)\" d=\"M118,0h602\" style=\"stroke: rgb(255, 255, 255); stroke-opacity: 1; stroke-width: 1px;\"/><path class=\"y6grid crisp\" transform=\"translate(0,1669.003744855967)\" d=\"M118,0h602\" style=\"stroke: rgb(255, 255, 255); stroke-opacity: 1; stroke-width: 1px;\"/><path class=\"y6grid crisp\" transform=\"translate(0,1625.393744855967)\" d=\"M118,0h602\" style=\"stroke: rgb(255, 255, 255); stroke-opacity: 1; stroke-width: 1px;\"/><path class=\"y6grid crisp\" transform=\"translate(0,1581.7937448559671)\" d=\"M118,0h602\" style=\"stroke: rgb(255, 255, 255); stroke-opacity: 1; stroke-width: 1px;\"/><path class=\"y6grid crisp\" transform=\"translate(0,1538.193744855967)\" d=\"M118,0h602\" style=\"stroke: rgb(255, 255, 255); stroke-opacity: 1; stroke-width: 1px;\"/></g></g><g class=\"zerolinelayer\"/><path class=\"xlines-below\"/><path class=\"ylines-below\"/><g class=\"overlines-below\"/><g class=\"xaxislayer-below\"/><g class=\"yaxislayer-below\"/><g class=\"overaxes-below\"/><g class=\"plot\" transform=\"translate(118,1526.633744855967)\" clip-path=\"url(#clipffa999x6y6plot)\"><g class=\"scatterlayer mlayer\"><g class=\"trace scatter tracee9e37e48-d697-41bf-9bdf-615f7794fbed\" style=\"stroke-miterlimit: 2; opacity: 1;\"><g class=\"fills\"/><g class=\"errorbars\"/><g class=\"lines\"><path class=\"js-line\" d=\"M33.92,16.78L167.46,69.46L301,69.72L434.54,170.36L568.08,231.4\" style=\"vector-effect: non-scaling-stroke; fill: none; stroke: rgb(148, 103, 189); stroke-opacity: 1; stroke-width: 2px; opacity: 1;\"/></g><g class=\"points\"><path class=\"point\" transform=\"translate(33.92,16.78)\" d=\"M3,0A3,3 0 1,1 0,-3A3,3 0 0,1 3,0Z\" style=\"opacity: 1; stroke-width: 0px; fill: rgb(148, 103, 189); fill-opacity: 1;\"/><path class=\"point\" transform=\"translate(167.46,69.46)\" d=\"M3,0A3,3 0 1,1 0,-3A3,3 0 0,1 3,0Z\" style=\"opacity: 1; stroke-width: 0px; fill: rgb(148, 103, 189); fill-opacity: 1;\"/><path class=\"point\" transform=\"translate(301,69.72)\" d=\"M3,0A3,3 0 1,1 0,-3A3,3 0 0,1 3,0Z\" style=\"opacity: 1; stroke-width: 0px; fill: rgb(148, 103, 189); fill-opacity: 1;\"/><path class=\"point\" transform=\"translate(434.54,170.36)\" d=\"M3,0A3,3 0 1,1 0,-3A3,3 0 0,1 3,0Z\" style=\"opacity: 1; stroke-width: 0px; fill: rgb(148, 103, 189); fill-opacity: 1;\"/><path class=\"point\" transform=\"translate(568.08,231.4)\" d=\"M3,0A3,3 0 1,1 0,-3A3,3 0 0,1 3,0Z\" style=\"opacity: 1; stroke-width: 0px; fill: rgb(148, 103, 189); fill-opacity: 1;\"/></g><g class=\"text\"/></g><g class=\"trace scatter trace81e56261-4d7e-405f-ac11-9326d74bf822\" style=\"stroke-miterlimit: 2; opacity: 1;\"><g class=\"fills\"/><g class=\"errorbars\"/><g class=\"lines\"/><g class=\"points\"><path class=\"point plotly-customdata\" transform=\"translate(33.92,16.78)\" d=\"M4.55,0L0,4.55L-4.55,0L0,-4.55Z\" style=\"opacity: 1; stroke-width: 1px; fill: rgb(66, 133, 244); fill-opacity: 1; stroke: rgb(11, 84, 205); stroke-opacity: 1;\"/></g><g class=\"text\"/></g><g class=\"trace scatter trace2cf7dcae-28e4-484b-9300-7f7a5d354675\" style=\"stroke-miterlimit: 2; opacity: 1;\"><g class=\"fills\"/><g class=\"errorbars\"/><g class=\"lines\"/><g class=\"points\"><path class=\"point plotly-customdata\" transform=\"translate(568.08,231.4)\" d=\"M4.55,0L0,4.55L-4.55,0L0,-4.55Z\" style=\"opacity: 1; stroke-width: 1px; fill: rgb(255, 170, 0); fill-opacity: 1; stroke: rgb(178, 118, 0); stroke-opacity: 1;\"/></g><g class=\"text\"/></g></g></g><g class=\"overplot\"/><path class=\"xlines-above crisp\" d=\"M0,0\" style=\"fill: none;\"/><path class=\"ylines-above crisp\" d=\"M0,0\" style=\"fill: none;\"/><g class=\"overlines-above\"/><g class=\"xaxislayer-above\"/><g class=\"yaxislayer-above\"><g class=\"y6tick\"><text text-anchor=\"end\" x=\"117\" y=\"4.199999999999999\" transform=\"translate(0,1756.203744855967)\" style=\"font-family: 'Open Sans', verdana, arial, sans-serif; font-size: 12px; fill: rgb(42, 63, 95); fill-opacity: 1; white-space: pre; opacity: 1;\">195</text></g><g class=\"y6tick\"><text text-anchor=\"end\" x=\"117\" y=\"4.199999999999999\" style=\"font-family: 'Open Sans', verdana, arial, sans-serif; font-size: 12px; fill: rgb(42, 63, 95); fill-opacity: 1; white-space: pre; opacity: 1;\" transform=\"translate(0,1712.603744855967)\">196</text></g><g class=\"y6tick\"><text text-anchor=\"end\" x=\"117\" y=\"4.199999999999999\" style=\"font-family: 'Open Sans', verdana, arial, sans-serif; font-size: 12px; fill: rgb(42, 63, 95); fill-opacity: 1; white-space: pre; opacity: 1;\" transform=\"translate(0,1669.003744855967)\">197</text></g><g class=\"y6tick\"><text text-anchor=\"end\" x=\"117\" y=\"4.199999999999999\" style=\"font-family: 'Open Sans', verdana, arial, sans-serif; font-size: 12px; fill: rgb(42, 63, 95); fill-opacity: 1; white-space: pre; opacity: 1;\" transform=\"translate(0,1625.393744855967)\">198</text></g><g class=\"y6tick\"><text text-anchor=\"end\" x=\"117\" y=\"4.199999999999999\" style=\"font-family: 'Open Sans', verdana, arial, sans-serif; font-size: 12px; fill: rgb(42, 63, 95); fill-opacity: 1; white-space: pre; opacity: 1;\" transform=\"translate(0,1581.7937448559671)\">199</text></g><g class=\"y6tick\"><text text-anchor=\"end\" x=\"117\" y=\"4.199999999999999\" style=\"font-family: 'Open Sans', verdana, arial, sans-serif; font-size: 12px; fill: rgb(42, 63, 95); fill-opacity: 1; white-space: pre; opacity: 1;\" transform=\"translate(0,1538.193744855967)\">200</text></g></g><g class=\"overaxes-above\"/></g><g class=\"subplot x7y7\"><g class=\"layer-subplot\"><g class=\"shapelayer\"/><g class=\"imagelayer\"/></g><g class=\"gridlayer\"><g class=\"x7\"><path class=\"x7grid crisp\" transform=\"translate(151.92000000000002,0)\" d=\"M0,1812.3604938271603v248.18600823045264\" style=\"stroke: rgb(255, 255, 255); stroke-opacity: 1; stroke-width: 1px;\"/><path class=\"x7grid crisp\" transform=\"translate(285.46000000000004,0)\" d=\"M0,1812.3604938271603v248.18600823045264\" style=\"stroke: rgb(255, 255, 255); stroke-opacity: 1; stroke-width: 1px;\"/><path class=\"x7grid crisp\" transform=\"translate(419,0)\" d=\"M0,1812.3604938271603v248.18600823045264\" style=\"stroke: rgb(255, 255, 255); stroke-opacity: 1; stroke-width: 1px;\"/><path class=\"x7grid crisp\" transform=\"translate(552.54,0)\" d=\"M0,1812.3604938271603v248.18600823045264\" style=\"stroke: rgb(255, 255, 255); stroke-opacity: 1; stroke-width: 1px;\"/><path class=\"x7grid crisp\" transform=\"translate(686.08,0)\" d=\"M0,1812.3604938271603v248.18600823045264\" style=\"stroke: rgb(255, 255, 255); stroke-opacity: 1; stroke-width: 1px;\"/></g><g class=\"y7\"><path class=\"y7grid crisp\" transform=\"translate(0,2047.9104938271603)\" d=\"M118,0h602\" style=\"stroke: rgb(255, 255, 255); stroke-opacity: 1; stroke-width: 1px;\"/><path class=\"y7grid crisp\" transform=\"translate(0,2001.0004938271604)\" d=\"M118,0h602\" style=\"stroke: rgb(255, 255, 255); stroke-opacity: 1; stroke-width: 1px;\"/><path class=\"y7grid crisp\" transform=\"translate(0,1954.0904938271603)\" d=\"M118,0h602\" style=\"stroke: rgb(255, 255, 255); stroke-opacity: 1; stroke-width: 1px;\"/><path class=\"y7grid crisp\" transform=\"translate(0,1907.1804938271603)\" d=\"M118,0h602\" style=\"stroke: rgb(255, 255, 255); stroke-opacity: 1; stroke-width: 1px;\"/><path class=\"y7grid crisp\" transform=\"translate(0,1860.2704938271604)\" d=\"M118,0h602\" style=\"stroke: rgb(255, 255, 255); stroke-opacity: 1; stroke-width: 1px;\"/></g></g><g class=\"zerolinelayer\"><path class=\"y7zl zl crisp\" transform=\"translate(0,1813.3604938271603)\" d=\"M118,0h602\" style=\"stroke: rgb(255, 255, 255); stroke-opacity: 1; stroke-width: 2px;\"/></g><path class=\"xlines-below\"/><path class=\"ylines-below\"/><g class=\"overlines-below\"/><g class=\"xaxislayer-below\"/><g class=\"yaxislayer-below\"/><g class=\"overaxes-below\"/><g class=\"plot\" transform=\"translate(118,1812.3604938271603)\" clip-path=\"url(#clipffa999x7y7plot)\"><g class=\"scatterlayer mlayer\"><g class=\"trace scatter trace05336fc9-eaf1-4021-a7fa-6b791f44bfa4\" style=\"stroke-miterlimit: 2;\"><g class=\"fills\"><g><path class=\"js-fill\" d=\"M568.08,1L33.92,1L33.92,1L167.46,57.7L301,57.98L434.54,166.31L568.08,232.03\" style=\"fill: rgb(220, 57, 18); fill-opacity: 0.3; stroke-width: 0;\"/></g></g><g class=\"errorbars\"/><g class=\"lines\"><path class=\"js-line\" d=\"M33.92,1L167.46,57.7L301,57.98L434.54,166.31L568.08,232.03\" style=\"vector-effect: non-scaling-stroke; fill: none; stroke: rgb(220, 57, 18); stroke-opacity: 1; stroke-width: 2px; opacity: 1;\"/></g><g class=\"points\"><path class=\"point\" transform=\"translate(33.92,1)\" d=\"M3,0A3,3 0 1,1 0,-3A3,3 0 0,1 3,0Z\" style=\"opacity: 1; stroke-width: 0px; fill: rgb(220, 57, 18); fill-opacity: 1;\"/><path class=\"point\" transform=\"translate(167.46,57.7)\" d=\"M3,0A3,3 0 1,1 0,-3A3,3 0 0,1 3,0Z\" style=\"opacity: 1; stroke-width: 0px; fill: rgb(220, 57, 18); fill-opacity: 1;\"/><path class=\"point\" transform=\"translate(301,57.98)\" d=\"M3,0A3,3 0 1,1 0,-3A3,3 0 0,1 3,0Z\" style=\"opacity: 1; stroke-width: 0px; fill: rgb(220, 57, 18); fill-opacity: 1;\"/><path class=\"point\" transform=\"translate(434.54,166.31)\" d=\"M3,0A3,3 0 1,1 0,-3A3,3 0 0,1 3,0Z\" style=\"opacity: 1; stroke-width: 0px; fill: rgb(220, 57, 18); fill-opacity: 1;\"/><path class=\"point\" transform=\"translate(568.08,232.03)\" d=\"M3,0A3,3 0 1,1 0,-3A3,3 0 0,1 3,0Z\" style=\"opacity: 1; stroke-width: 0px; fill: rgb(220, 57, 18); fill-opacity: 1;\"/></g><g class=\"text\"/></g></g></g><g class=\"overplot\"/><path class=\"xlines-above crisp\" d=\"M0,0\" style=\"fill: none;\"/><path class=\"ylines-above crisp\" d=\"M0,0\" style=\"fill: none;\"/><g class=\"overlines-above\"/><g class=\"xaxislayer-above\"/><g class=\"yaxislayer-above\"><g class=\"y7tick\"><text text-anchor=\"end\" x=\"117\" y=\"4.199999999999999\" transform=\"translate(0,2047.9104938271603)\" style=\"font-family: 'Open Sans', verdana, arial, sans-serif; font-size: 12px; fill: rgb(42, 63, 95); fill-opacity: 1; white-space: pre; opacity: 1;\">−2.500000%</text></g><g class=\"y7tick\"><text text-anchor=\"end\" x=\"117\" y=\"4.199999999999999\" style=\"font-family: 'Open Sans', verdana, arial, sans-serif; font-size: 12px; fill: rgb(42, 63, 95); fill-opacity: 1; white-space: pre; opacity: 1;\" transform=\"translate(0,2001.0004938271604)\">−2.000000%</text></g><g class=\"y7tick\"><text text-anchor=\"end\" x=\"117\" y=\"4.199999999999999\" style=\"font-family: 'Open Sans', verdana, arial, sans-serif; font-size: 12px; fill: rgb(42, 63, 95); fill-opacity: 1; white-space: pre; opacity: 1;\" transform=\"translate(0,1954.0904938271603)\">−1.500000%</text></g><g class=\"y7tick\"><text text-anchor=\"end\" x=\"117\" y=\"4.199999999999999\" style=\"font-family: 'Open Sans', verdana, arial, sans-serif; font-size: 12px; fill: rgb(42, 63, 95); fill-opacity: 1; white-space: pre; opacity: 1;\" transform=\"translate(0,1907.1804938271603)\">−1.000000%</text></g><g class=\"y7tick\"><text text-anchor=\"end\" x=\"117\" y=\"4.199999999999999\" style=\"font-family: 'Open Sans', verdana, arial, sans-serif; font-size: 12px; fill: rgb(42, 63, 95); fill-opacity: 1; white-space: pre; opacity: 1;\" transform=\"translate(0,1860.2704938271604)\">−0.500000%</text></g><g class=\"y7tick\"><text text-anchor=\"end\" x=\"117\" y=\"4.199999999999999\" style=\"font-family: 'Open Sans', verdana, arial, sans-serif; font-size: 12px; fill: rgb(42, 63, 95); fill-opacity: 1; white-space: pre; opacity: 1;\" transform=\"translate(0,1813.3604938271603)\">0.000000%</text></g></g><g class=\"overaxes-above\"/></g><g class=\"subplot x8y8\"><g class=\"layer-subplot\"><g class=\"shapelayer\"/><g class=\"imagelayer\"/></g><g class=\"gridlayer\"><g class=\"x8\"><path class=\"x8grid crisp\" transform=\"translate(151.92000000000002,0)\" d=\"M0,2098.087242798354v248.18600823045264\" style=\"stroke: rgb(255, 255, 255); stroke-opacity: 1; stroke-width: 1px;\"/><path class=\"x8grid crisp\" transform=\"translate(285.46000000000004,0)\" d=\"M0,2098.087242798354v248.18600823045264\" style=\"stroke: rgb(255, 255, 255); stroke-opacity: 1; stroke-width: 1px;\"/><path class=\"x8grid crisp\" transform=\"translate(419,0)\" d=\"M0,2098.087242798354v248.18600823045264\" style=\"stroke: rgb(255, 255, 255); stroke-opacity: 1; stroke-width: 1px;\"/><path class=\"x8grid crisp\" transform=\"translate(552.54,0)\" d=\"M0,2098.087242798354v248.18600823045264\" style=\"stroke: rgb(255, 255, 255); stroke-opacity: 1; stroke-width: 1px;\"/><path class=\"x8grid crisp\" transform=\"translate(686.08,0)\" d=\"M0,2098.087242798354v248.18600823045264\" style=\"stroke: rgb(255, 255, 255); stroke-opacity: 1; stroke-width: 1px;\"/></g><g class=\"y8\"><path class=\"y8grid crisp\" transform=\"translate(0,2282.3472427983543)\" d=\"M118,0h602\" style=\"stroke: rgb(255, 255, 255); stroke-opacity: 1; stroke-width: 1px;\"/><path class=\"y8grid crisp\" transform=\"translate(0,2240.317242798354)\" d=\"M118,0h602\" style=\"stroke: rgb(255, 255, 255); stroke-opacity: 1; stroke-width: 1px;\"/><path class=\"y8grid crisp\" transform=\"translate(0,2198.297242798354)\" d=\"M118,0h602\" style=\"stroke: rgb(255, 255, 255); stroke-opacity: 1; stroke-width: 1px;\"/><path class=\"y8grid crisp\" transform=\"translate(0,2156.267242798354)\" d=\"M118,0h602\" style=\"stroke: rgb(255, 255, 255); stroke-opacity: 1; stroke-width: 1px;\"/><path class=\"y8grid crisp\" transform=\"translate(0,2114.247242798354)\" d=\"M118,0h602\" style=\"stroke: rgb(255, 255, 255); stroke-opacity: 1; stroke-width: 1px;\"/></g></g><g class=\"zerolinelayer\"><path class=\"y8zl zl crisp\" transform=\"translate(0,2324.3672427983543)\" d=\"M118,0h602\" style=\"stroke: rgb(255, 255, 255); stroke-opacity: 1; stroke-width: 2px;\"/></g><path class=\"xlines-below\"/><path class=\"ylines-below\"/><g class=\"overlines-below\"/><g class=\"xaxislayer-below\"/><g class=\"yaxislayer-below\"/><g class=\"overaxes-below\"/><g class=\"plot\" transform=\"translate(118,2098.087242798354)\" clip-path=\"url(#clipffa999x8y8plot)\"><g class=\"scatterlayer mlayer\"><g class=\"trace scatter trace319503cf-282f-4566-82d0-9c54c05ea445\" style=\"stroke-miterlimit: 2;\"><g class=\"fills\"><g><path class=\"js-fill\" d=\"M33.92,227.34L167.46,228.42L301,228.64L568.08,232.03L568.08,16.16L33.92,16.16Z\" style=\"fill: rgb(227, 119, 194); fill-opacity: 0.3; stroke-width: 0;\"/></g></g><g class=\"errorbars\"/><g class=\"lines\"><path class=\"js-line\" d=\"M33.92,16.16L568.08,16.16\" style=\"vector-effect: non-scaling-stroke; fill: none; stroke: rgb(0, 0, 0); stroke-opacity: 0; stroke-width: 0px; opacity: 1;\"/></g><g class=\"points\"><path class=\"point\" transform=\"translate(33.92,16.16)\" d=\"M3,0A3,3 0 1,1 0,-3A3,3 0 0,1 3,0Z\" style=\"opacity: 1; stroke-width: 0px; fill: rgb(0, 0, 0); fill-opacity: 0;\"/><path class=\"point\" transform=\"translate(167.46,16.16)\" d=\"M3,0A3,3 0 1,1 0,-3A3,3 0 0,1 3,0Z\" style=\"opacity: 1; stroke-width: 0px; fill: rgb(0, 0, 0); fill-opacity: 0;\"/><path class=\"point\" transform=\"translate(301,16.16)\" d=\"M3,0A3,3 0 1,1 0,-3A3,3 0 0,1 3,0Z\" style=\"opacity: 1; stroke-width: 0px; fill: rgb(0, 0, 0); fill-opacity: 0;\"/><path class=\"point\" transform=\"translate(434.54,16.16)\" d=\"M3,0A3,3 0 1,1 0,-3A3,3 0 0,1 3,0Z\" style=\"opacity: 1; stroke-width: 0px; fill: rgb(0, 0, 0); fill-opacity: 0;\"/><path class=\"point\" transform=\"translate(568.08,16.16)\" d=\"M3,0A3,3 0 1,1 0,-3A3,3 0 0,1 3,0Z\" style=\"opacity: 1; stroke-width: 0px; fill: rgb(0, 0, 0); fill-opacity: 0;\"/></g><g class=\"text\"/></g><g class=\"trace scatter trace3baa32d6-3afb-40b5-91c8-c85541e65cb1\" style=\"stroke-miterlimit: 2;\"><g class=\"fills\"/><g class=\"errorbars\"/><g class=\"lines\"><path class=\"js-line\" d=\"M33.92,227.34L167.46,228.42L301,228.64L568.08,232.03\" style=\"vector-effect: non-scaling-stroke; fill: none; stroke: rgb(0, 0, 0); stroke-opacity: 0; stroke-width: 0px; opacity: 1;\"/></g><g class=\"points\"><path class=\"point\" transform=\"translate(33.92,227.34)\" d=\"M3,0A3,3 0 1,1 0,-3A3,3 0 0,1 3,0Z\" style=\"opacity: 1; stroke-width: 0px; fill: rgb(0, 0, 0); fill-opacity: 0;\"/><path class=\"point\" transform=\"translate(167.46,228.42)\" d=\"M3,0A3,3 0 1,1 0,-3A3,3 0 0,1 3,0Z\" style=\"opacity: 1; stroke-width: 0px; fill: rgb(0, 0, 0); fill-opacity: 0;\"/><path class=\"point\" transform=\"translate(301,228.64)\" d=\"M3,0A3,3 0 1,1 0,-3A3,3 0 0,1 3,0Z\" style=\"opacity: 1; stroke-width: 0px; fill: rgb(0, 0, 0); fill-opacity: 0;\"/><path class=\"point\" transform=\"translate(434.54,230.61)\" d=\"M3,0A3,3 0 1,1 0,-3A3,3 0 0,1 3,0Z\" style=\"opacity: 1; stroke-width: 0px; fill: rgb(0, 0, 0); fill-opacity: 0;\"/><path class=\"point\" transform=\"translate(568.08,232.03)\" d=\"M3,0A3,3 0 1,1 0,-3A3,3 0 0,1 3,0Z\" style=\"opacity: 1; stroke-width: 0px; fill: rgb(0, 0, 0); fill-opacity: 0;\"/></g><g class=\"text\"/></g><g class=\"trace scatter traced0d7f7a7-56f2-4e9c-b597-a8c0b8a993cf\" style=\"stroke-miterlimit: 2; opacity: 1;\"><g class=\"fills\"/><g class=\"errorbars\"/><g class=\"lines\"><path class=\"js-line\" d=\"M33.92,227.34L167.46,228.42L301,228.64L568.08,232.03\" style=\"vector-effect: non-scaling-stroke; fill: none; stroke: rgb(227, 119, 194); stroke-opacity: 1; stroke-width: 2px; opacity: 1;\"/></g><g class=\"points\"><path class=\"point\" transform=\"translate(33.92,227.34)\" d=\"M3,0A3,3 0 1,1 0,-3A3,3 0 0,1 3,0Z\" style=\"opacity: 1; stroke-width: 0px; fill: rgb(227, 119, 194); fill-opacity: 1;\"/><path class=\"point\" transform=\"translate(167.46,228.42)\" d=\"M3,0A3,3 0 1,1 0,-3A3,3 0 0,1 3,0Z\" style=\"opacity: 1; stroke-width: 0px; fill: rgb(227, 119, 194); fill-opacity: 1;\"/><path class=\"point\" transform=\"translate(301,228.64)\" d=\"M3,0A3,3 0 1,1 0,-3A3,3 0 0,1 3,0Z\" style=\"opacity: 1; stroke-width: 0px; fill: rgb(227, 119, 194); fill-opacity: 1;\"/><path class=\"point\" transform=\"translate(434.54,230.61)\" d=\"M3,0A3,3 0 1,1 0,-3A3,3 0 0,1 3,0Z\" style=\"opacity: 1; stroke-width: 0px; fill: rgb(227, 119, 194); fill-opacity: 1;\"/><path class=\"point\" transform=\"translate(568.08,232.03)\" d=\"M3,0A3,3 0 1,1 0,-3A3,3 0 0,1 3,0Z\" style=\"opacity: 1; stroke-width: 0px; fill: rgb(227, 119, 194); fill-opacity: 1;\"/></g><g class=\"text\"/></g><g class=\"trace scatter trace8b29e9e8-7f66-4086-97e5-3b45892ef592\" style=\"stroke-miterlimit: 2; opacity: 0;\"><g class=\"fills\"/><g class=\"errorbars\"/><g class=\"lines\"><path class=\"js-line\" d=\"M33.92,16.16L568.08,16.16\" style=\"vector-effect: non-scaling-stroke; fill: none; stroke: rgb(0, 0, 0); stroke-opacity: 0; stroke-width: 0px; opacity: 1;\"/></g><g class=\"points\"><path class=\"point\" transform=\"translate(33.92,16.16)\" d=\"M3,0A3,3 0 1,1 0,-3A3,3 0 0,1 3,0Z\" style=\"opacity: 1; stroke-width: 0px; fill: rgb(0, 0, 0); fill-opacity: 0;\"/><path class=\"point\" transform=\"translate(167.46,16.16)\" d=\"M3,0A3,3 0 1,1 0,-3A3,3 0 0,1 3,0Z\" style=\"opacity: 1; stroke-width: 0px; fill: rgb(0, 0, 0); fill-opacity: 0;\"/><path class=\"point\" transform=\"translate(301,16.16)\" d=\"M3,0A3,3 0 1,1 0,-3A3,3 0 0,1 3,0Z\" style=\"opacity: 1; stroke-width: 0px; fill: rgb(0, 0, 0); fill-opacity: 0;\"/><path class=\"point\" transform=\"translate(434.54,16.16)\" d=\"M3,0A3,3 0 1,1 0,-3A3,3 0 0,1 3,0Z\" style=\"opacity: 1; stroke-width: 0px; fill: rgb(0, 0, 0); fill-opacity: 0;\"/><path class=\"point\" transform=\"translate(568.08,16.16)\" d=\"M3,0A3,3 0 1,1 0,-3A3,3 0 0,1 3,0Z\" style=\"opacity: 1; stroke-width: 0px; fill: rgb(0, 0, 0); fill-opacity: 0;\"/></g><g class=\"text\"/></g></g></g><g class=\"overplot\"/><path class=\"xlines-above crisp\" d=\"M0,0\" style=\"fill: none;\"/><path class=\"ylines-above crisp\" d=\"M0,0\" style=\"fill: none;\"/><g class=\"overlines-above\"/><g class=\"xaxislayer-above\"/><g class=\"yaxislayer-above\"><g class=\"y8tick\"><text text-anchor=\"end\" x=\"117\" y=\"4.199999999999999\" transform=\"translate(0,2324.3672427983543)\" style=\"font-family: 'Open Sans', verdana, arial, sans-serif; font-size: 12px; fill: rgb(42, 63, 95); fill-opacity: 1; white-space: pre; opacity: 1;\">0</text></g><g class=\"y8tick\"><text text-anchor=\"end\" x=\"117\" y=\"4.199999999999999\" style=\"font-family: 'Open Sans', verdana, arial, sans-serif; font-size: 12px; fill: rgb(42, 63, 95); fill-opacity: 1; white-space: pre; opacity: 1;\" transform=\"translate(0,2282.3472427983543)\">0.2</text></g><g class=\"y8tick\"><text text-anchor=\"end\" x=\"117\" y=\"4.199999999999999\" style=\"font-family: 'Open Sans', verdana, arial, sans-serif; font-size: 12px; fill: rgb(42, 63, 95); fill-opacity: 1; white-space: pre; opacity: 1;\" transform=\"translate(0,2240.317242798354)\">0.4</text></g><g class=\"y8tick\"><text text-anchor=\"end\" x=\"117\" y=\"4.199999999999999\" style=\"font-family: 'Open Sans', verdana, arial, sans-serif; font-size: 12px; fill: rgb(42, 63, 95); fill-opacity: 1; white-space: pre; opacity: 1;\" transform=\"translate(0,2198.297242798354)\">0.6</text></g><g class=\"y8tick\"><text text-anchor=\"end\" x=\"117\" y=\"4.199999999999999\" style=\"font-family: 'Open Sans', verdana, arial, sans-serif; font-size: 12px; fill: rgb(42, 63, 95); fill-opacity: 1; white-space: pre; opacity: 1;\" transform=\"translate(0,2156.267242798354)\">0.8</text></g><g class=\"y8tick\"><text text-anchor=\"end\" x=\"117\" y=\"4.199999999999999\" style=\"font-family: 'Open Sans', verdana, arial, sans-serif; font-size: 12px; fill: rgb(42, 63, 95); fill-opacity: 1; white-space: pre; opacity: 1;\" transform=\"translate(0,2114.247242798354)\">1</text></g></g><g class=\"overaxes-above\"/></g><g class=\"subplot x9y9\"><g class=\"layer-subplot\"><g class=\"shapelayer\"/><g class=\"imagelayer\"/></g><g class=\"gridlayer\"><g class=\"x9\"><path class=\"x9grid crisp\" transform=\"translate(151.92000000000002,0)\" d=\"M0,2383.813991769547v248.18600823045267\" style=\"stroke: rgb(255, 255, 255); stroke-opacity: 1; stroke-width: 1px;\"/><path class=\"x9grid crisp\" transform=\"translate(285.46000000000004,0)\" d=\"M0,2383.813991769547v248.18600823045267\" style=\"stroke: rgb(255, 255, 255); stroke-opacity: 1; stroke-width: 1px;\"/><path class=\"x9grid crisp\" transform=\"translate(419,0)\" d=\"M0,2383.813991769547v248.18600823045267\" style=\"stroke: rgb(255, 255, 255); stroke-opacity: 1; stroke-width: 1px;\"/><path class=\"x9grid crisp\" transform=\"translate(552.54,0)\" d=\"M0,2383.813991769547v248.18600823045267\" style=\"stroke: rgb(255, 255, 255); stroke-opacity: 1; stroke-width: 1px;\"/><path class=\"x9grid crisp\" transform=\"translate(686.08,0)\" d=\"M0,2383.813991769547v248.18600823045267\" style=\"stroke: rgb(255, 255, 255); stroke-opacity: 1; stroke-width: 1px;\"/></g><g class=\"y9\"><path class=\"y9grid crisp\" transform=\"translate(0,2619.253991769547)\" d=\"M118,0h602\" style=\"stroke: rgb(255, 255, 255); stroke-opacity: 1; stroke-width: 1px;\"/><path class=\"y9grid crisp\" transform=\"translate(0,2575.4039917695472)\" d=\"M118,0h602\" style=\"stroke: rgb(255, 255, 255); stroke-opacity: 1; stroke-width: 1px;\"/><path class=\"y9grid crisp\" transform=\"translate(0,2531.543991769547)\" d=\"M118,0h602\" style=\"stroke: rgb(255, 255, 255); stroke-opacity: 1; stroke-width: 1px;\"/><path class=\"y9grid crisp\" transform=\"translate(0,2487.683991769547)\" d=\"M118,0h602\" style=\"stroke: rgb(255, 255, 255); stroke-opacity: 1; stroke-width: 1px;\"/><path class=\"y9grid crisp\" transform=\"translate(0,2443.833991769547)\" d=\"M118,0h602\" style=\"stroke: rgb(255, 255, 255); stroke-opacity: 1; stroke-width: 1px;\"/></g></g><g class=\"zerolinelayer\"><path class=\"y9zl zl crisp\" transform=\"translate(0,2399.973991769547)\" d=\"M118,0h602\" style=\"stroke: rgb(255, 255, 255); stroke-opacity: 1; stroke-width: 2px;\"/></g><path class=\"xlines-below\"/><path class=\"ylines-below\"/><g class=\"overlines-below\"/><g class=\"xaxislayer-below\"/><g class=\"yaxislayer-below\"/><g class=\"overaxes-below\"/><g class=\"plot\" transform=\"translate(118,2383.813991769547)\" clip-path=\"url(#clipffa999x9y9plot)\"><g class=\"scatterlayer mlayer\"><g class=\"trace scatter trace18a316dd-d5bf-4fcd-bc8b-cf0d9b594c77\" style=\"stroke-miterlimit: 2;\"><g class=\"fills\"><g><path class=\"js-fill\" d=\"M33.92,60.04L167.46,103.57L301,112.31L434.54,189.68L568.08,232.03L568.08,16.16L33.92,16.16Z\" style=\"fill: rgb(255, 127, 14); fill-opacity: 0.3; stroke-width: 0;\"/></g></g><g class=\"errorbars\"/><g class=\"lines\"><path class=\"js-line\" d=\"M33.92,16.16L568.08,16.16\" style=\"vector-effect: non-scaling-stroke; fill: none; stroke: rgb(0, 0, 0); stroke-opacity: 0; stroke-width: 0px; opacity: 1;\"/></g><g class=\"points\"><path class=\"point\" transform=\"translate(33.92,16.16)\" d=\"M3,0A3,3 0 1,1 0,-3A3,3 0 0,1 3,0Z\" style=\"opacity: 1; stroke-width: 0px; fill: rgb(0, 0, 0); fill-opacity: 0;\"/><path class=\"point\" transform=\"translate(167.46,16.16)\" d=\"M3,0A3,3 0 1,1 0,-3A3,3 0 0,1 3,0Z\" style=\"opacity: 1; stroke-width: 0px; fill: rgb(0, 0, 0); fill-opacity: 0;\"/><path class=\"point\" transform=\"translate(301,16.16)\" d=\"M3,0A3,3 0 1,1 0,-3A3,3 0 0,1 3,0Z\" style=\"opacity: 1; stroke-width: 0px; fill: rgb(0, 0, 0); fill-opacity: 0;\"/><path class=\"point\" transform=\"translate(434.54,16.16)\" d=\"M3,0A3,3 0 1,1 0,-3A3,3 0 0,1 3,0Z\" style=\"opacity: 1; stroke-width: 0px; fill: rgb(0, 0, 0); fill-opacity: 0;\"/><path class=\"point\" transform=\"translate(568.08,16.16)\" d=\"M3,0A3,3 0 1,1 0,-3A3,3 0 0,1 3,0Z\" style=\"opacity: 1; stroke-width: 0px; fill: rgb(0, 0, 0); fill-opacity: 0;\"/></g><g class=\"text\"/></g><g class=\"trace scatter trace5cea7957-f5a2-481a-9d02-373525634b52\" style=\"stroke-miterlimit: 2;\"><g class=\"fills\"/><g class=\"errorbars\"/><g class=\"lines\"><path class=\"js-line\" d=\"M33.92,60.04L167.46,103.57L301,112.31L434.54,189.68L568.08,232.03\" style=\"vector-effect: non-scaling-stroke; fill: none; stroke: rgb(0, 0, 0); stroke-opacity: 0; stroke-width: 0px; opacity: 1;\"/></g><g class=\"points\"><path class=\"point\" transform=\"translate(33.92,60.04)\" d=\"M3,0A3,3 0 1,1 0,-3A3,3 0 0,1 3,0Z\" style=\"opacity: 1; stroke-width: 0px; fill: rgb(0, 0, 0); fill-opacity: 0;\"/><path class=\"point\" transform=\"translate(167.46,103.57)\" d=\"M3,0A3,3 0 1,1 0,-3A3,3 0 0,1 3,0Z\" style=\"opacity: 1; stroke-width: 0px; fill: rgb(0, 0, 0); fill-opacity: 0;\"/><path class=\"point\" transform=\"translate(301,112.31)\" d=\"M3,0A3,3 0 1,1 0,-3A3,3 0 0,1 3,0Z\" style=\"opacity: 1; stroke-width: 0px; fill: rgb(0, 0, 0); fill-opacity: 0;\"/><path class=\"point\" transform=\"translate(434.54,189.68)\" d=\"M3,0A3,3 0 1,1 0,-3A3,3 0 0,1 3,0Z\" style=\"opacity: 1; stroke-width: 0px; fill: rgb(0, 0, 0); fill-opacity: 0;\"/><path class=\"point\" transform=\"translate(568.08,232.03)\" d=\"M3,0A3,3 0 1,1 0,-3A3,3 0 0,1 3,0Z\" style=\"opacity: 1; stroke-width: 0px; fill: rgb(0, 0, 0); fill-opacity: 0;\"/></g><g class=\"text\"/></g><g class=\"trace scatter tracea2179e21-c64a-41df-9894-ced2677948b3\" style=\"stroke-miterlimit: 2; opacity: 1;\"><g class=\"fills\"/><g class=\"errorbars\"/><g class=\"lines\"><path class=\"js-line\" d=\"M33.92,60.04L167.46,103.57L301,112.31L434.54,189.68L568.08,232.03\" style=\"vector-effect: non-scaling-stroke; fill: none; stroke: rgb(227, 119, 194); stroke-opacity: 1; stroke-width: 2px; opacity: 1;\"/></g><g class=\"points\"><path class=\"point\" transform=\"translate(33.92,60.04)\" d=\"M3,0A3,3 0 1,1 0,-3A3,3 0 0,1 3,0Z\" style=\"opacity: 1; stroke-width: 0px; fill: rgb(227, 119, 194); fill-opacity: 1;\"/><path class=\"point\" transform=\"translate(167.46,103.57)\" d=\"M3,0A3,3 0 1,1 0,-3A3,3 0 0,1 3,0Z\" style=\"opacity: 1; stroke-width: 0px; fill: rgb(227, 119, 194); fill-opacity: 1;\"/><path class=\"point\" transform=\"translate(301,112.31)\" d=\"M3,0A3,3 0 1,1 0,-3A3,3 0 0,1 3,0Z\" style=\"opacity: 1; stroke-width: 0px; fill: rgb(227, 119, 194); fill-opacity: 1;\"/><path class=\"point\" transform=\"translate(434.54,189.68)\" d=\"M3,0A3,3 0 1,1 0,-3A3,3 0 0,1 3,0Z\" style=\"opacity: 1; stroke-width: 0px; fill: rgb(227, 119, 194); fill-opacity: 1;\"/><path class=\"point\" transform=\"translate(568.08,232.03)\" d=\"M3,0A3,3 0 1,1 0,-3A3,3 0 0,1 3,0Z\" style=\"opacity: 1; stroke-width: 0px; fill: rgb(227, 119, 194); fill-opacity: 1;\"/></g><g class=\"text\"/></g><g class=\"trace scatter trace22198a46-9b81-4552-a888-fb5a54651c17\" style=\"stroke-miterlimit: 2; opacity: 0;\"><g class=\"fills\"/><g class=\"errorbars\"/><g class=\"lines\"><path class=\"js-line\" d=\"M33.92,16.16L568.08,16.16\" style=\"vector-effect: non-scaling-stroke; fill: none; stroke: rgb(0, 0, 0); stroke-opacity: 0; stroke-width: 0px; opacity: 1;\"/></g><g class=\"points\"><path class=\"point\" transform=\"translate(33.92,16.16)\" d=\"M3,0A3,3 0 1,1 0,-3A3,3 0 0,1 3,0Z\" style=\"opacity: 1; stroke-width: 0px; fill: rgb(0, 0, 0); fill-opacity: 0;\"/><path class=\"point\" transform=\"translate(167.46,16.16)\" d=\"M3,0A3,3 0 1,1 0,-3A3,3 0 0,1 3,0Z\" style=\"opacity: 1; stroke-width: 0px; fill: rgb(0, 0, 0); fill-opacity: 0;\"/><path class=\"point\" transform=\"translate(301,16.16)\" d=\"M3,0A3,3 0 1,1 0,-3A3,3 0 0,1 3,0Z\" style=\"opacity: 1; stroke-width: 0px; fill: rgb(0, 0, 0); fill-opacity: 0;\"/><path class=\"point\" transform=\"translate(434.54,16.16)\" d=\"M3,0A3,3 0 1,1 0,-3A3,3 0 0,1 3,0Z\" style=\"opacity: 1; stroke-width: 0px; fill: rgb(0, 0, 0); fill-opacity: 0;\"/><path class=\"point\" transform=\"translate(568.08,16.16)\" d=\"M3,0A3,3 0 1,1 0,-3A3,3 0 0,1 3,0Z\" style=\"opacity: 1; stroke-width: 0px; fill: rgb(0, 0, 0); fill-opacity: 0;\"/></g><g class=\"text\"/></g></g></g><g class=\"overplot\"/><path class=\"xlines-above crisp\" d=\"M0,0\" style=\"fill: none;\"/><path class=\"ylines-above crisp\" d=\"M0,0\" style=\"fill: none;\"/><g class=\"overlines-above\"/><g class=\"xaxislayer-above\"><g class=\"x9tick\"><text text-anchor=\"middle\" x=\"0\" y=\"2645\" transform=\"translate(151.92000000000002,0)\" style=\"font-family: 'Open Sans', verdana, arial, sans-serif; font-size: 12px; fill: rgb(42, 63, 95); fill-opacity: 1; white-space: pre; opacity: 1;\"><tspan class=\"line\" dy=\"0em\" x=\"0\" y=\"2645\">Jan 1</tspan><tspan class=\"line\" dy=\"1.3em\" x=\"0\" y=\"2645\">2020</tspan></text></g><g class=\"x9tick\"><text text-anchor=\"middle\" x=\"0\" y=\"2645\" style=\"font-family: 'Open Sans', verdana, arial, sans-serif; font-size: 12px; fill: rgb(42, 63, 95); fill-opacity: 1; white-space: pre; opacity: 1;\" transform=\"translate(285.46000000000004,0)\">Jan 2</text></g><g class=\"x9tick\"><text text-anchor=\"middle\" x=\"0\" y=\"2645\" style=\"font-family: 'Open Sans', verdana, arial, sans-serif; font-size: 12px; fill: rgb(42, 63, 95); fill-opacity: 1; white-space: pre; opacity: 1;\" transform=\"translate(419,0)\">Jan 3</text></g><g class=\"x9tick\"><text text-anchor=\"middle\" x=\"0\" y=\"2645\" style=\"font-family: 'Open Sans', verdana, arial, sans-serif; font-size: 12px; fill: rgb(42, 63, 95); fill-opacity: 1; white-space: pre; opacity: 1;\" transform=\"translate(552.54,0)\">Jan 4</text></g><g class=\"x9tick\"><text text-anchor=\"middle\" x=\"0\" y=\"2645\" style=\"font-family: 'Open Sans', verdana, arial, sans-serif; font-size: 12px; fill: rgb(42, 63, 95); fill-opacity: 1; white-space: pre; opacity: 1;\" transform=\"translate(686.08,0)\">Jan 5</text></g></g><g class=\"yaxislayer-above\"><g class=\"y9tick\"><text text-anchor=\"end\" x=\"117\" y=\"4.199999999999999\" transform=\"translate(0,2619.253991769547)\" style=\"font-family: 'Open Sans', verdana, arial, sans-serif; font-size: 12px; fill: rgb(42, 63, 95); fill-opacity: 1; white-space: pre; opacity: 1;\">−0.025</text></g><g class=\"y9tick\"><text text-anchor=\"end\" x=\"117\" y=\"4.199999999999999\" style=\"font-family: 'Open Sans', verdana, arial, sans-serif; font-size: 12px; fill: rgb(42, 63, 95); fill-opacity: 1; white-space: pre; opacity: 1;\" transform=\"translate(0,2575.4039917695472)\">−0.02</text></g><g class=\"y9tick\"><text text-anchor=\"end\" x=\"117\" y=\"4.199999999999999\" style=\"font-family: 'Open Sans', verdana, arial, sans-serif; font-size: 12px; fill: rgb(42, 63, 95); fill-opacity: 1; white-space: pre; opacity: 1;\" transform=\"translate(0,2531.543991769547)\">−0.015</text></g><g class=\"y9tick\"><text text-anchor=\"end\" x=\"117\" y=\"4.199999999999999\" style=\"font-family: 'Open Sans', verdana, arial, sans-serif; font-size: 12px; fill: rgb(42, 63, 95); fill-opacity: 1; white-space: pre; opacity: 1;\" transform=\"translate(0,2487.683991769547)\">−0.01</text></g><g class=\"y9tick\"><text text-anchor=\"end\" x=\"117\" y=\"4.199999999999999\" style=\"font-family: 'Open Sans', verdana, arial, sans-serif; font-size: 12px; fill: rgb(42, 63, 95); fill-opacity: 1; white-space: pre; opacity: 1;\" transform=\"translate(0,2443.833991769547)\">−0.005</text></g><g class=\"y9tick\"><text text-anchor=\"end\" x=\"117\" y=\"4.199999999999999\" style=\"font-family: 'Open Sans', verdana, arial, sans-serif; font-size: 12px; fill: rgb(42, 63, 95); fill-opacity: 1; white-space: pre; opacity: 1;\" transform=\"translate(0,2399.973991769547)\">0</text></g></g><g class=\"overaxes-above\"/></g></g><g class=\"polarlayer\"/><g class=\"ternarylayer\"/><g class=\"geolayer\"/><g class=\"funnelarealayer\"/><g class=\"pielayer\"/><g class=\"iciclelayer\"/><g class=\"treemaplayer\"/><g class=\"sunburstlayer\"/><g class=\"glimages\"/><defs id=\"topdefs-ffa999\"><g class=\"clips\"/><clipPath id=\"legendffa999\"><rect width=\"535\" height=\"48\" x=\"0\" y=\"0\"/></clipPath></defs><g class=\"layer-above\"><g class=\"imagelayer\"/><g class=\"shapelayer\"><path data-index=\"0\" fill-rule=\"evenodd\" d=\"M118,251.02L720,251.02\" clip-path=\"url(#clipffa999y)\" style=\"opacity: 1; stroke: rgb(128, 128, 128); stroke-opacity: 1; fill: rgb(0, 0, 0); fill-opacity: 0; stroke-dasharray: 9px, 9px; stroke-width: 2px;\"/><path data-index=\"1\" fill-rule=\"evenodd\" d=\"M118,605.936748971193L720,605.936748971193\" clip-path=\"url(#clipffa999y2)\" style=\"opacity: 1; stroke: rgb(128, 128, 128); stroke-opacity: 1; fill: rgb(0, 0, 0); fill-opacity: 0; stroke-dasharray: 9px, 9px; stroke-width: 2px;\"/><path data-index=\"2\" fill-rule=\"evenodd\" d=\"M118,685.6134979423865L720,685.6134979423865\" clip-path=\"url(#clipffa999y3)\" style=\"opacity: 1; stroke: rgb(128, 128, 128); stroke-opacity: 1; fill: rgb(0, 0, 0); fill-opacity: 0; stroke-dasharray: 9px, 9px; stroke-width: 2px;\"/><path data-index=\"3\" fill-rule=\"evenodd\" d=\"M118,971.3402469135801L720,971.3402469135801\" clip-path=\"url(#clipffa999y4)\" style=\"opacity: 1; stroke: rgb(128, 128, 128); stroke-opacity: 1; fill: rgb(0, 0, 0); fill-opacity: 0; stroke-dasharray: 9px, 9px; stroke-width: 2px;\"/><path data-index=\"4\" fill-rule=\"evenodd\" d=\"M118,1470.9769958847735L720,1470.9769958847735\" clip-path=\"url(#clipffa999y5)\" style=\"opacity: 1; stroke: rgb(128, 128, 128); stroke-opacity: 1; fill: rgb(0, 0, 0); fill-opacity: 0; stroke-dasharray: 9px, 9px; stroke-width: 2px;\"/><path data-index=\"6\" fill-rule=\"evenodd\" d=\"M118,1813.3604938271603L720,1813.3604938271603\" clip-path=\"url(#clipffa999y7)\" style=\"opacity: 1; stroke: rgb(128, 128, 128); stroke-opacity: 1; fill: rgb(0, 0, 0); fill-opacity: 0; stroke-dasharray: 9px, 9px; stroke-width: 2px;\"/><path data-index=\"7\" fill-rule=\"evenodd\" d=\"M118,2114.247242798354L720,2114.247242798354\" clip-path=\"url(#clipffa999y8)\" style=\"opacity: 1; stroke: rgb(128, 128, 128); stroke-opacity: 1; fill: rgb(0, 0, 0); fill-opacity: 0; stroke-dasharray: 9px, 9px; stroke-width: 2px;\"/><path data-index=\"8\" fill-rule=\"evenodd\" d=\"M118,2399.973991769547L720,2399.973991769547\" clip-path=\"url(#clipffa999y9)\" style=\"opacity: 1; stroke: rgb(128, 128, 128); stroke-opacity: 1; fill: rgb(0, 0, 0); fill-opacity: 0; stroke-dasharray: 9px, 9px; stroke-width: 2px;\"/></g></g><g class=\"infolayer\"><g class=\"legend\" pointer-events=\"all\" transform=\"translate(185,12.459259259259206)\"><rect class=\"bg\" shape-rendering=\"crispEdges\" width=\"535\" height=\"48\" x=\"0\" y=\"0\" style=\"stroke: rgb(68, 68, 68); stroke-opacity: 1; fill: rgb(255, 255, 255); fill-opacity: 1; stroke-width: 0px;\"/><g class=\"scrollbox\" transform=\"\" clip-path=\"url(#legendffa999)\"><g class=\"groups\"><g class=\"traces\" transform=\"translate(0,14.5)\" style=\"opacity: 1;\"><text class=\"legendtext\" text-anchor=\"start\" x=\"40\" y=\"4.680000000000001\" style=\"font-family: 'Open Sans', verdana, arial, sans-serif; font-size: 12px; fill: rgb(42, 63, 95); fill-opacity: 1; white-space: pre;\">Cash</text><g class=\"layers\" style=\"opacity: 1;\"><g class=\"legendfill\"/><g class=\"legendlines\"><path class=\"js-line\" d=\"M5,0h30\" style=\"fill: none; stroke: rgb(44, 160, 44); stroke-opacity: 1; stroke-width: 2px;\"/></g><g class=\"legendsymbols\"><g class=\"legendpoints\"><path class=\"scatterpts\" transform=\"translate(20,0)\" d=\"M3,0A3,3 0 1,1 0,-3A3,3 0 0,1 3,0Z\" style=\"opacity: 1; stroke-width: 0px; fill: rgb(44, 160, 44); fill-opacity: 1;\"/></g></g></g><rect class=\"legendtoggle\" x=\"0\" y=\"-9.5\" width=\"71.921875\" height=\"19\" style=\"fill: rgb(0, 0, 0); fill-opacity: 0;\"/></g><g class=\"traces\" transform=\"translate(115.234375,14.5)\" style=\"opacity: 1;\"><text class=\"legendtext\" text-anchor=\"start\" x=\"40\" y=\"4.680000000000001\" style=\"font-family: 'Open Sans', verdana, arial, sans-serif; font-size: 12px; fill: rgb(42, 63, 95); fill-opacity: 1; white-space: pre;\">Asset Value</text><g class=\"layers\" style=\"opacity: 1;\"><g class=\"legendfill\"/><g class=\"legendlines\"><path class=\"js-line\" d=\"M5,0h30\" style=\"fill: none; stroke: rgb(23, 190, 207); stroke-opacity: 1; stroke-width: 2px;\"/></g><g class=\"legendsymbols\"><g class=\"legendpoints\"><path class=\"scatterpts\" transform=\"translate(20,0)\" d=\"M3,0A3,3 0 1,1 0,-3A3,3 0 0,1 3,0Z\" style=\"opacity: 1; stroke-width: 0px; fill: rgb(23, 190, 207); fill-opacity: 1;\"/></g></g></g><rect class=\"legendtoggle\" x=\"0\" y=\"-9.5\" width=\"112.734375\" height=\"19\" style=\"fill: rgb(0, 0, 0); fill-opacity: 0;\"/></g><g class=\"traces\" transform=\"translate(230.46875,14.5)\" style=\"opacity: 1;\"><text class=\"legendtext\" text-anchor=\"start\" x=\"40\" y=\"4.680000000000001\" style=\"font-family: 'Open Sans', verdana, arial, sans-serif; font-size: 12px; fill: rgb(42, 63, 95); fill-opacity: 1; white-space: pre;\">Value</text><g class=\"layers\" style=\"opacity: 1;\"><g class=\"legendfill\"/><g class=\"legendlines\"><path class=\"js-line\" d=\"M5,0h30\" style=\"fill: none; stroke: rgb(148, 103, 189); stroke-opacity: 1; stroke-width: 2px;\"/></g><g class=\"legendsymbols\"><g class=\"legendpoints\"><path class=\"scatterpts\" transform=\"translate(20,0)\" d=\"M3,0A3,3 0 1,1 0,-3A3,3 0 0,1 3,0Z\" style=\"opacity: 1; stroke-width: 0px; fill: rgb(148, 103, 189); fill-opacity: 1;\"/></g></g></g><rect class=\"legendtoggle\" x=\"0\" y=\"-9.5\" width=\"75.9375\" height=\"19\" style=\"fill: rgb(0, 0, 0); fill-opacity: 0;\"/></g><g class=\"traces\" transform=\"translate(345.703125,14.5)\" style=\"opacity: 1;\"><text class=\"legendtext\" text-anchor=\"start\" x=\"40\" y=\"4.680000000000001\" style=\"font-family: 'Open Sans', verdana, arial, sans-serif; font-size: 12px; fill: rgb(42, 63, 95); fill-opacity: 1; white-space: pre;\">Benchmark</text><g class=\"layers\" style=\"opacity: 1;\"><g class=\"legendfill\"/><g class=\"legendlines\"><path class=\"js-line\" d=\"M5,0h30\" style=\"fill: none; stroke: rgb(127, 127, 127); stroke-opacity: 1; stroke-width: 2px;\"/></g><g class=\"legendsymbols\"><g class=\"legendpoints\"><path class=\"scatterpts\" transform=\"translate(20,0)\" d=\"M3,0A3,3 0 1,1 0,-3A3,3 0 0,1 3,0Z\" style=\"opacity: 1; stroke-width: 0px; fill: rgb(127, 127, 127); fill-opacity: 1;\"/></g></g></g><rect class=\"legendtoggle\" x=\"0\" y=\"-9.5\" width=\"110.40625\" height=\"19\" style=\"fill: rgb(0, 0, 0); fill-opacity: 0;\"/></g><g class=\"traces\" transform=\"translate(460.9375,14.5)\" style=\"opacity: 1;\"><text class=\"legendtext\" text-anchor=\"start\" x=\"40\" y=\"4.680000000000001\" style=\"font-family: 'Open Sans', verdana, arial, sans-serif; font-size: 12px; fill: rgb(42, 63, 95); fill-opacity: 1; white-space: pre;\">Peak</text><g class=\"layers\" style=\"opacity: 1;\"><g class=\"legendfill\"/><g class=\"legendlines\"/><g class=\"legendsymbols\"><g class=\"legendpoints\"><path class=\"scatterpts\" transform=\"translate(20,0)\" d=\"M4.55,0L0,4.55L-4.55,0L0,-4.55Z\" style=\"opacity: 1; stroke-width: 1px; fill: rgb(66, 133, 244); fill-opacity: 1; stroke: rgb(11, 84, 205); stroke-opacity: 1;\"/></g></g></g><rect class=\"legendtoggle\" x=\"0\" y=\"-9.5\" width=\"71.1875\" height=\"19\" style=\"fill: rgb(0, 0, 0); fill-opacity: 0;\"/></g><g class=\"traces\" transform=\"translate(0,33.5)\" style=\"opacity: 1;\"><text class=\"legendtext\" text-anchor=\"start\" x=\"40\" y=\"4.680000000000001\" style=\"font-family: 'Open Sans', verdana, arial, sans-serif; font-size: 12px; fill: rgb(42, 63, 95); fill-opacity: 1; white-space: pre;\">Active</text><g class=\"layers\" style=\"opacity: 1;\"><g class=\"legendfill\"/><g class=\"legendlines\"/><g class=\"legendsymbols\"><g class=\"legendpoints\"><path class=\"scatterpts\" transform=\"translate(20,0)\" d=\"M4.55,0L0,4.55L-4.55,0L0,-4.55Z\" style=\"opacity: 1; stroke-width: 1px; fill: rgb(255, 170, 0); fill-opacity: 1; stroke: rgb(178, 118, 0); stroke-opacity: 1;\"/></g></g></g><rect class=\"legendtoggle\" x=\"0\" y=\"-9.5\" width=\"79.21875\" height=\"19\" style=\"fill: rgb(0, 0, 0); fill-opacity: 0;\"/></g><g class=\"traces\" transform=\"translate(115.234375,33.5)\" style=\"opacity: 1;\"><text class=\"legendtext\" text-anchor=\"start\" x=\"40\" y=\"4.680000000000001\" style=\"font-family: 'Open Sans', verdana, arial, sans-serif; font-size: 12px; fill: rgb(42, 63, 95); fill-opacity: 1; white-space: pre;\">Drawdown</text><g class=\"layers\"><g class=\"legendfill\"><path class=\"js-fill\" d=\"M5,0h30v6h-30z\" style=\"stroke-width: 0; fill: rgb(220, 57, 18); fill-opacity: 0.3;\"/></g><g class=\"legendlines\"><path class=\"js-line\" d=\"M5,0h30\" style=\"fill: none; stroke: rgb(220, 57, 18); stroke-opacity: 1; stroke-width: 2px;\"/></g><g class=\"legendsymbols\"><g class=\"legendpoints\"><path class=\"scatterpts\" transform=\"translate(20,0)\" d=\"M3,0A3,3 0 1,1 0,-3A3,3 0 0,1 3,0Z\" style=\"opacity: 1; stroke-width: 0px; fill: rgb(220, 57, 18); fill-opacity: 1;\"/></g></g></g><rect class=\"legendtoggle\" x=\"0\" y=\"-9.5\" width=\"106.0625\" height=\"19\" style=\"fill: rgb(0, 0, 0); fill-opacity: 0;\"/></g><g class=\"traces\" transform=\"translate(230.46875,33.5)\" style=\"opacity: 1;\"><text class=\"legendtext\" text-anchor=\"start\" x=\"40\" y=\"4.680000000000001\" style=\"font-family: 'Open Sans', verdana, arial, sans-serif; font-size: 12px; fill: rgb(42, 63, 95); fill-opacity: 1; white-space: pre;\">Exposure</text><g class=\"layers\" style=\"opacity: 1;\"><g class=\"legendfill\"/><g class=\"legendlines\"><path class=\"js-line\" d=\"M5,0h30\" style=\"fill: none; stroke: rgb(227, 119, 194); stroke-opacity: 1; stroke-width: 2px;\"/></g><g class=\"legendsymbols\"><g class=\"legendpoints\"><path class=\"scatterpts\" transform=\"translate(20,0)\" d=\"M3,0A3,3 0 1,1 0,-3A3,3 0 0,1 3,0Z\" style=\"opacity: 1; stroke-width: 0px; fill: rgb(227, 119, 194); fill-opacity: 1;\"/></g></g></g><rect class=\"legendtoggle\" x=\"0\" y=\"-9.5\" width=\"98.0625\" height=\"19\" style=\"fill: rgb(0, 0, 0); fill-opacity: 0;\"/></g></g></g><rect class=\"scrollbar\" rx=\"20\" ry=\"3\" width=\"0\" height=\"0\" x=\"0\" y=\"0\" style=\"fill: rgb(128, 139, 164); fill-opacity: 1;\"/></g><g class=\"g-gtitle\"/><g class=\"g-xtitle\"/><g class=\"g-x2title\"/><g class=\"g-x3title\"/><g class=\"g-x4title\"/><g class=\"g-x5title\"/><g class=\"g-x6title\"/><g class=\"g-x7title\"/><g class=\"g-x8title\"/><g class=\"g-x9title\"><text class=\"x9title\" x=\"419\" y=\"2687.89375\" text-anchor=\"middle\" style=\"font-family: 'Open Sans', verdana, arial, sans-serif; font-size: 14px; fill: rgb(42, 63, 95); opacity: 1; font-weight: normal; white-space: pre;\">Index</text></g><g class=\"g-ytitle\"><text class=\"ytitle\" transform=\"rotate(-90,62.746875,222.09300411522625)\" x=\"62.746875\" y=\"222.09300411522625\" text-anchor=\"middle\" style=\"font-family: 'Open Sans', verdana, arial, sans-serif; font-size: 14px; fill: rgb(42, 63, 95); opacity: 1; font-weight: normal; white-space: pre;\">Cash flow</text></g><g class=\"g-y2title\"><text class=\"y2title\" transform=\"rotate(-90,57.309375,507.8197530864194)\" x=\"57.309375\" y=\"507.8197530864194\" text-anchor=\"middle\" style=\"font-family: 'Open Sans', verdana, arial, sans-serif; font-size: 14px; fill: rgb(42, 63, 95); opacity: 1; font-weight: normal; white-space: pre;\">Cash</text></g><g class=\"g-y3title\"><text class=\"y3title\" transform=\"rotate(-90,74.746875,793.546502057613)\" x=\"74.746875\" y=\"793.546502057613\" text-anchor=\"middle\" style=\"font-family: 'Open Sans', verdana, arial, sans-serif; font-size: 14px; fill: rgb(42, 63, 95); opacity: 1; font-weight: normal; white-space: pre;\">Asset value</text></g><g class=\"g-y4title\"><text class=\"y4title\" transform=\"rotate(-90,69.309375,1079.2732510288065)\" x=\"69.309375\" y=\"1079.2732510288065\" text-anchor=\"middle\" style=\"font-family: 'Open Sans', verdana, arial, sans-serif; font-size: 14px; fill: rgb(42, 63, 95); opacity: 1; font-weight: normal; white-space: pre;\">Value</text></g><g class=\"g-y5title\"><text class=\"y5title\" transform=\"rotate(-90,72.575,1365)\" x=\"72.575\" y=\"1365\" text-anchor=\"middle\" style=\"font-family: 'Open Sans', verdana, arial, sans-serif; font-size: 14px; fill: rgb(42, 63, 95); opacity: 1; font-weight: normal; white-space: pre;\">Cumulative returns</text></g><g class=\"g-y6title\"><text class=\"y6title\" transform=\"rotate(-90,69.309375,1650.7267489711933)\" x=\"69.309375\" y=\"1650.7267489711933\" text-anchor=\"middle\" style=\"font-family: 'Open Sans', verdana, arial, sans-serif; font-size: 14px; fill: rgb(42, 63, 95); opacity: 1; font-weight: normal; white-space: pre;\">Value</text></g><g class=\"g-y7title\" transform=\"translate(2.31640625,0)\"><text class=\"y7title\" transform=\"rotate(-90,11.684375000000003,1936.4534979423865)\" x=\"11.684375000000003\" y=\"1936.4534979423865\" text-anchor=\"middle\" style=\"font-family: 'Open Sans', verdana, arial, sans-serif; font-size: 14px; fill: rgb(42, 63, 95); opacity: 1; font-weight: normal; white-space: pre;\">Drawdown</text></g><g class=\"g-y8title\"><text class=\"y8title\" transform=\"rotate(-90,72.575,2222.1802469135805)\" x=\"72.575\" y=\"2222.1802469135805\" text-anchor=\"middle\" style=\"font-family: 'Open Sans', verdana, arial, sans-serif; font-size: 14px; fill: rgb(42, 63, 95); opacity: 1; font-weight: normal; white-space: pre;\">Gross exposure</text></g><g class=\"g-y9title\"><text class=\"y9title\" transform=\"rotate(-90,47.496875,2507.9069958847736)\" x=\"47.496875\" y=\"2507.9069958847736\" text-anchor=\"middle\" style=\"font-family: 'Open Sans', verdana, arial, sans-serif; font-size: 14px; fill: rgb(42, 63, 95); opacity: 1; font-weight: normal; white-space: pre;\">Net exposure</text></g><g class=\"annotation\" data-index=\"0\" style=\"opacity: 1;\"><g class=\"annotation-text-g\" transform=\"rotate(0,419,86)\"><g class=\"cursor-pointer\" transform=\"translate(377,74)\"><rect class=\"bg\" x=\"0.5\" y=\"0.5\" width=\"84\" height=\"23\" style=\"stroke-width: 1px; stroke: rgb(0, 0, 0); stroke-opacity: 0; fill: rgb(0, 0, 0); fill-opacity: 0;\"/><text class=\"annotation-text\" text-anchor=\"middle\" x=\"42.625\" y=\"18\" style=\"font-family: 'Open Sans', verdana, arial, sans-serif; font-size: 16px; fill: rgb(42, 63, 95); fill-opacity: 1; white-space: pre;\">Cash Flow</text></g></g></g><g class=\"annotation\" data-index=\"1\" style=\"opacity: 1;\"><g class=\"annotation-text-g\" transform=\"rotate(0,419,371.726748971193)\"><g class=\"cursor-pointer\" transform=\"translate(398,360)\"><rect class=\"bg\" x=\"0.5\" y=\"0.5\" width=\"42\" height=\"23\" style=\"stroke-width: 1px; stroke: rgb(0, 0, 0); stroke-opacity: 0; fill: rgb(0, 0, 0); fill-opacity: 0;\"/><text class=\"annotation-text\" text-anchor=\"middle\" x=\"21.609375\" y=\"18\" style=\"font-family: 'Open Sans', verdana, arial, sans-serif; font-size: 16px; fill: rgb(42, 63, 95); fill-opacity: 1; white-space: pre;\">Cash</text></g></g></g><g class=\"annotation\" data-index=\"2\" style=\"opacity: 1;\"><g class=\"annotation-text-g\" transform=\"rotate(0,419,657.4534979423865)\"><g class=\"cursor-pointer\" transform=\"translate(370,645)\"><rect class=\"bg\" x=\"0.5\" y=\"0.5\" width=\"97\" height=\"23\" style=\"stroke-width: 1px; stroke: rgb(0, 0, 0); stroke-opacity: 0; fill: rgb(0, 0, 0); fill-opacity: 0;\"/><text class=\"annotation-text\" text-anchor=\"middle\" x=\"48.828125\" y=\"18\" style=\"font-family: 'Open Sans', verdana, arial, sans-serif; font-size: 16px; fill: rgb(42, 63, 95); fill-opacity: 1; white-space: pre;\">Asset Value</text></g></g></g><g class=\"annotation\" data-index=\"3\" style=\"opacity: 1;\"><g class=\"annotation-text-g\" transform=\"rotate(0,419,943.1802469135802)\"><g class=\"cursor-pointer\" transform=\"translate(395,931)\"><rect class=\"bg\" x=\"0.5\" y=\"0.5\" width=\"48\" height=\"23\" style=\"stroke-width: 1px; stroke: rgb(0, 0, 0); stroke-opacity: 0; fill: rgb(0, 0, 0); fill-opacity: 0;\"/><text class=\"annotation-text\" text-anchor=\"middle\" x=\"24.296875\" y=\"18\" style=\"font-family: 'Open Sans', verdana, arial, sans-serif; font-size: 16px; fill: rgb(42, 63, 95); fill-opacity: 1; white-space: pre;\">Value</text></g></g></g><g class=\"annotation\" data-index=\"4\" style=\"opacity: 1;\"><g class=\"annotation-text-g\" transform=\"rotate(0,419,1228.9069958847736)\"><g class=\"cursor-pointer\" transform=\"translate(338,1217)\"><rect class=\"bg\" x=\"0.5\" y=\"0.5\" width=\"162\" height=\"23\" style=\"stroke-width: 1px; stroke: rgb(0, 0, 0); stroke-opacity: 0; fill: rgb(0, 0, 0); fill-opacity: 0;\"/><text class=\"annotation-text\" text-anchor=\"middle\" x=\"81.328125\" y=\"18\" style=\"font-family: 'Open Sans', verdana, arial, sans-serif; font-size: 16px; fill: rgb(42, 63, 95); fill-opacity: 1; white-space: pre;\">Cumulative Returns</text></g></g></g><g class=\"annotation\" data-index=\"5\" style=\"opacity: 1;\"><g class=\"annotation-text-g\" transform=\"rotate(0,419,1514.633744855967)\"><g class=\"cursor-pointer\" transform=\"translate(371,1503)\"><rect class=\"bg\" x=\"0.5\" y=\"0.5\" width=\"96\" height=\"23\" style=\"stroke-width: 1px; stroke: rgb(0, 0, 0); stroke-opacity: 0; fill: rgb(0, 0, 0); fill-opacity: 0;\"/><text class=\"annotation-text\" text-anchor=\"middle\" x=\"48.546875\" y=\"18\" style=\"font-family: 'Open Sans', verdana, arial, sans-serif; font-size: 16px; fill: rgb(42, 63, 95); fill-opacity: 1; white-space: pre;\">Drawdowns</text></g></g></g><g class=\"annotation\" data-index=\"6\" style=\"opacity: 1;\"><g class=\"annotation-text-g\" transform=\"rotate(0,419,1800.3604938271603)\"><g class=\"cursor-pointer\" transform=\"translate(370,1788)\"><rect class=\"bg\" x=\"0.5\" y=\"0.5\" width=\"97\" height=\"23\" style=\"stroke-width: 1px; stroke: rgb(0, 0, 0); stroke-opacity: 0; fill: rgb(0, 0, 0); fill-opacity: 0;\"/><text class=\"annotation-text\" text-anchor=\"middle\" x=\"48.765625\" y=\"18\" style=\"font-family: 'Open Sans', verdana, arial, sans-serif; font-size: 16px; fill: rgb(42, 63, 95); fill-opacity: 1; white-space: pre;\">Underwater</text></g></g></g><g class=\"annotation\" data-index=\"7\" style=\"opacity: 1;\"><g class=\"annotation-text-g\" transform=\"rotate(0,419,2086.087242798354)\"><g class=\"cursor-pointer\" transform=\"translate(355,2074)\"><rect class=\"bg\" x=\"0.5\" y=\"0.5\" width=\"128\" height=\"23\" style=\"stroke-width: 1px; stroke: rgb(0, 0, 0); stroke-opacity: 0; fill: rgb(0, 0, 0); fill-opacity: 0;\"/><text class=\"annotation-text\" text-anchor=\"middle\" x=\"64.65625\" y=\"18\" style=\"font-family: 'Open Sans', verdana, arial, sans-serif; font-size: 16px; fill: rgb(42, 63, 95); fill-opacity: 1; white-space: pre;\">Gross Exposure</text></g></g></g><g class=\"annotation\" data-index=\"8\" style=\"opacity: 1;\"><g class=\"annotation-text-g\" transform=\"rotate(0,419,2371.813991769547)\"><g class=\"cursor-pointer\" transform=\"translate(363,2360)\"><rect class=\"bg\" x=\"0.5\" y=\"0.5\" width=\"111\" height=\"23\" style=\"stroke-width: 1px; stroke: rgb(0, 0, 0); stroke-opacity: 0; fill: rgb(0, 0, 0); fill-opacity: 0;\"/><text class=\"annotation-text\" text-anchor=\"middle\" x=\"55.75\" y=\"18\" style=\"font-family: 'Open Sans', verdana, arial, sans-serif; font-size: 16px; fill: rgb(42, 63, 95); fill-opacity: 1; white-space: pre;\">Net Exposure</text></g></g></g></g></svg>"
      ]
     },
     "metadata": {},
     "output_type": "display_data"
    }
   ],
   "source": [
    "portfolio_shared.plot(subplots='all', column='first').show_svg()"
   ]
  },
  {
   "cell_type": "code",
   "execution_count": 137,
   "metadata": {},
   "outputs": [
    {
     "data": {
      "image/svg+xml": [
       "<svg class=\"main-svg\" xmlns=\"http://www.w3.org/2000/svg\" xmlns:xlink=\"http://www.w3.org/1999/xlink\" width=\"750\" height=\"4150\" viewBox=\"0 0 750 4150\"><rect x=\"0\" y=\"0\" width=\"750\" height=\"4150\" style=\"fill: rgb(255, 255, 255); fill-opacity: 1;\"/><defs id=\"defs-7d9773\"><g class=\"clips\"><clipPath id=\"clip7d9773xyplot\" class=\"plotclip\"><rect width=\"602\" height=\"245.35301204819274\"/></clipPath><clipPath id=\"clip7d9773x2y2plot\" class=\"plotclip\"><rect width=\"602\" height=\"245.35301204819274\"/></clipPath><clipPath id=\"clip7d9773x3y3plot\" class=\"plotclip\"><rect width=\"602\" height=\"245.35301204819274\"/></clipPath><clipPath id=\"clip7d9773x4y4plot\" class=\"plotclip\"><rect width=\"602\" height=\"245.35301204819274\"/></clipPath><clipPath id=\"clip7d9773x5y5plot\" class=\"plotclip\"><rect width=\"602\" height=\"245.35301204819274\"/></clipPath><clipPath id=\"clip7d9773x6y6plot\" class=\"plotclip\"><rect width=\"602\" height=\"245.35301204819274\"/></clipPath><clipPath id=\"clip7d9773x7y7plot\" class=\"plotclip\"><rect width=\"602\" height=\"245.35301204819274\"/></clipPath><clipPath id=\"clip7d9773x8y8plot\" class=\"plotclip\"><rect width=\"602\" height=\"245.35301204819274\"/></clipPath><clipPath id=\"clip7d9773x9y9plot\" class=\"plotclip\"><rect width=\"602\" height=\"245.35301204819274\"/></clipPath><clipPath id=\"clip7d9773x10y10plot\" class=\"plotclip\"><rect width=\"602\" height=\"245.35301204819274\"/></clipPath><clipPath id=\"clip7d9773x11y11plot\" class=\"plotclip\"><rect width=\"602\" height=\"245.35301204819285\"/></clipPath><clipPath id=\"clip7d9773x12y12plot\" class=\"plotclip\"><rect width=\"602\" height=\"245.35301204819274\"/></clipPath><clipPath id=\"clip7d9773x13y13plot\" class=\"plotclip\"><rect width=\"602\" height=\"245.3530120481928\"/></clipPath><clipPath id=\"clip7d9773x14y14plot\" class=\"plotclip\"><rect width=\"602\" height=\"245.35301204819277\"/></clipPath><clipPath class=\"axesclip\" id=\"clip7d9773x\"><rect x=\"118\" y=\"0\" width=\"602\" height=\"4150\"/></clipPath><clipPath class=\"axesclip\" id=\"clip7d9773y\"><rect x=\"0\" y=\"155\" width=\"750\" height=\"245.35301204819274\"/></clipPath><clipPath class=\"axesclip\" id=\"clip7d9773xy\"><rect x=\"118\" y=\"155\" width=\"602\" height=\"245.35301204819274\"/></clipPath><clipPath class=\"axesclip\" id=\"clip7d9773y2\"><rect x=\"0\" y=\"438.2036144578312\" width=\"750\" height=\"245.35301204819274\"/></clipPath><clipPath class=\"axesclip\" id=\"clip7d9773xy2\"><rect x=\"118\" y=\"438.2036144578312\" width=\"602\" height=\"245.35301204819274\"/></clipPath><clipPath class=\"axesclip\" id=\"clip7d9773y3\"><rect x=\"0\" y=\"721.4072289156624\" width=\"750\" height=\"245.35301204819274\"/></clipPath><clipPath class=\"axesclip\" id=\"clip7d9773xy3\"><rect x=\"118\" y=\"721.4072289156624\" width=\"602\" height=\"245.35301204819274\"/></clipPath><clipPath class=\"axesclip\" id=\"clip7d9773y4\"><rect x=\"0\" y=\"1004.6108433734939\" width=\"750\" height=\"245.35301204819274\"/></clipPath><clipPath class=\"axesclip\" id=\"clip7d9773xy4\"><rect x=\"118\" y=\"1004.6108433734939\" width=\"602\" height=\"245.35301204819274\"/></clipPath><clipPath class=\"axesclip\" id=\"clip7d9773y5\"><rect x=\"0\" y=\"1287.8144578313252\" width=\"750\" height=\"245.35301204819274\"/></clipPath><clipPath class=\"axesclip\" id=\"clip7d9773xy5\"><rect x=\"118\" y=\"1287.8144578313252\" width=\"602\" height=\"245.35301204819274\"/></clipPath><clipPath class=\"axesclip\" id=\"clip7d9773y6\"><rect x=\"0\" y=\"1571.0180722891566\" width=\"750\" height=\"245.35301204819274\"/></clipPath><clipPath class=\"axesclip\" id=\"clip7d9773xy6\"><rect x=\"118\" y=\"1571.0180722891566\" width=\"602\" height=\"245.35301204819274\"/></clipPath><clipPath class=\"axesclip\" id=\"clip7d9773y7\"><rect x=\"0\" y=\"1854.2216867469879\" width=\"750\" height=\"245.35301204819274\"/></clipPath><clipPath class=\"axesclip\" id=\"clip7d9773xy7\"><rect x=\"118\" y=\"1854.2216867469879\" width=\"602\" height=\"245.35301204819274\"/></clipPath><clipPath class=\"axesclip\" id=\"clip7d9773y8\"><rect x=\"0\" y=\"2137.425301204819\" width=\"750\" height=\"245.35301204819274\"/></clipPath><clipPath class=\"axesclip\" id=\"clip7d9773xy8\"><rect x=\"118\" y=\"2137.425301204819\" width=\"602\" height=\"245.35301204819274\"/></clipPath><clipPath class=\"axesclip\" id=\"clip7d9773y9\"><rect x=\"0\" y=\"2420.628915662651\" width=\"750\" height=\"245.35301204819274\"/></clipPath><clipPath class=\"axesclip\" id=\"clip7d9773xy9\"><rect x=\"118\" y=\"2420.628915662651\" width=\"602\" height=\"245.35301204819274\"/></clipPath><clipPath class=\"axesclip\" id=\"clip7d9773y10\"><rect x=\"0\" y=\"2703.8325301204823\" width=\"750\" height=\"245.35301204819274\"/></clipPath><clipPath class=\"axesclip\" id=\"clip7d9773xy10\"><rect x=\"118\" y=\"2703.8325301204823\" width=\"602\" height=\"245.35301204819274\"/></clipPath><clipPath class=\"axesclip\" id=\"clip7d9773y11\"><rect x=\"0\" y=\"2987.0361445783133\" width=\"750\" height=\"245.35301204819285\"/></clipPath><clipPath class=\"axesclip\" id=\"clip7d9773xy11\"><rect x=\"118\" y=\"2987.0361445783133\" width=\"602\" height=\"245.35301204819285\"/></clipPath><clipPath class=\"axesclip\" id=\"clip7d9773y12\"><rect x=\"0\" y=\"3270.2397590361443\" width=\"750\" height=\"245.35301204819274\"/></clipPath><clipPath class=\"axesclip\" id=\"clip7d9773xy12\"><rect x=\"118\" y=\"3270.2397590361443\" width=\"602\" height=\"245.35301204819274\"/></clipPath><clipPath class=\"axesclip\" id=\"clip7d9773y13\"><rect x=\"0\" y=\"3553.4433734939757\" width=\"750\" height=\"245.3530120481928\"/></clipPath><clipPath class=\"axesclip\" id=\"clip7d9773xy13\"><rect x=\"118\" y=\"3553.4433734939757\" width=\"602\" height=\"245.3530120481928\"/></clipPath><clipPath class=\"axesclip\" id=\"clip7d9773y14\"><rect x=\"0\" y=\"3836.646987951807\" width=\"750\" height=\"245.35301204819277\"/></clipPath><clipPath class=\"axesclip\" id=\"clip7d9773xy14\"><rect x=\"118\" y=\"3836.646987951807\" width=\"602\" height=\"245.35301204819277\"/></clipPath><clipPath class=\"axesclip\" id=\"clip7d9773x2\"><rect x=\"118\" y=\"0\" width=\"602\" height=\"4150\"/></clipPath><clipPath class=\"axesclip\" id=\"clip7d9773x2y\"><rect x=\"118\" y=\"155\" width=\"602\" height=\"245.35301204819274\"/></clipPath><clipPath class=\"axesclip\" id=\"clip7d9773x2y2\"><rect x=\"118\" y=\"438.2036144578312\" width=\"602\" height=\"245.35301204819274\"/></clipPath><clipPath class=\"axesclip\" id=\"clip7d9773x2y3\"><rect x=\"118\" y=\"721.4072289156624\" width=\"602\" height=\"245.35301204819274\"/></clipPath><clipPath class=\"axesclip\" id=\"clip7d9773x2y4\"><rect x=\"118\" y=\"1004.6108433734939\" width=\"602\" height=\"245.35301204819274\"/></clipPath><clipPath class=\"axesclip\" id=\"clip7d9773x2y5\"><rect x=\"118\" y=\"1287.8144578313252\" width=\"602\" height=\"245.35301204819274\"/></clipPath><clipPath class=\"axesclip\" id=\"clip7d9773x2y6\"><rect x=\"118\" y=\"1571.0180722891566\" width=\"602\" height=\"245.35301204819274\"/></clipPath><clipPath class=\"axesclip\" id=\"clip7d9773x2y7\"><rect x=\"118\" y=\"1854.2216867469879\" width=\"602\" height=\"245.35301204819274\"/></clipPath><clipPath class=\"axesclip\" id=\"clip7d9773x2y8\"><rect x=\"118\" y=\"2137.425301204819\" width=\"602\" height=\"245.35301204819274\"/></clipPath><clipPath class=\"axesclip\" id=\"clip7d9773x2y9\"><rect x=\"118\" y=\"2420.628915662651\" width=\"602\" height=\"245.35301204819274\"/></clipPath><clipPath class=\"axesclip\" id=\"clip7d9773x2y10\"><rect x=\"118\" y=\"2703.8325301204823\" width=\"602\" height=\"245.35301204819274\"/></clipPath><clipPath class=\"axesclip\" id=\"clip7d9773x2y11\"><rect x=\"118\" y=\"2987.0361445783133\" width=\"602\" height=\"245.35301204819285\"/></clipPath><clipPath class=\"axesclip\" id=\"clip7d9773x2y12\"><rect x=\"118\" y=\"3270.2397590361443\" width=\"602\" height=\"245.35301204819274\"/></clipPath><clipPath class=\"axesclip\" id=\"clip7d9773x2y13\"><rect x=\"118\" y=\"3553.4433734939757\" width=\"602\" height=\"245.3530120481928\"/></clipPath><clipPath class=\"axesclip\" id=\"clip7d9773x2y14\"><rect x=\"118\" y=\"3836.646987951807\" width=\"602\" height=\"245.35301204819277\"/></clipPath><clipPath class=\"axesclip\" id=\"clip7d9773x3\"><rect x=\"118\" y=\"0\" width=\"602\" height=\"4150\"/></clipPath><clipPath class=\"axesclip\" id=\"clip7d9773x3y\"><rect x=\"118\" y=\"155\" width=\"602\" height=\"245.35301204819274\"/></clipPath><clipPath class=\"axesclip\" id=\"clip7d9773x3y2\"><rect x=\"118\" y=\"438.2036144578312\" width=\"602\" height=\"245.35301204819274\"/></clipPath><clipPath class=\"axesclip\" id=\"clip7d9773x3y3\"><rect x=\"118\" y=\"721.4072289156624\" width=\"602\" height=\"245.35301204819274\"/></clipPath><clipPath class=\"axesclip\" id=\"clip7d9773x3y4\"><rect x=\"118\" y=\"1004.6108433734939\" width=\"602\" height=\"245.35301204819274\"/></clipPath><clipPath class=\"axesclip\" id=\"clip7d9773x3y5\"><rect x=\"118\" y=\"1287.8144578313252\" width=\"602\" height=\"245.35301204819274\"/></clipPath><clipPath class=\"axesclip\" id=\"clip7d9773x3y6\"><rect x=\"118\" y=\"1571.0180722891566\" width=\"602\" height=\"245.35301204819274\"/></clipPath><clipPath class=\"axesclip\" id=\"clip7d9773x3y7\"><rect x=\"118\" y=\"1854.2216867469879\" width=\"602\" height=\"245.35301204819274\"/></clipPath><clipPath class=\"axesclip\" id=\"clip7d9773x3y8\"><rect x=\"118\" y=\"2137.425301204819\" width=\"602\" height=\"245.35301204819274\"/></clipPath><clipPath class=\"axesclip\" id=\"clip7d9773x3y9\"><rect x=\"118\" y=\"2420.628915662651\" width=\"602\" height=\"245.35301204819274\"/></clipPath><clipPath class=\"axesclip\" id=\"clip7d9773x3y10\"><rect x=\"118\" y=\"2703.8325301204823\" width=\"602\" height=\"245.35301204819274\"/></clipPath><clipPath class=\"axesclip\" id=\"clip7d9773x3y11\"><rect x=\"118\" y=\"2987.0361445783133\" width=\"602\" height=\"245.35301204819285\"/></clipPath><clipPath class=\"axesclip\" id=\"clip7d9773x3y12\"><rect x=\"118\" y=\"3270.2397590361443\" width=\"602\" height=\"245.35301204819274\"/></clipPath><clipPath class=\"axesclip\" id=\"clip7d9773x3y13\"><rect x=\"118\" y=\"3553.4433734939757\" width=\"602\" height=\"245.3530120481928\"/></clipPath><clipPath class=\"axesclip\" id=\"clip7d9773x3y14\"><rect x=\"118\" y=\"3836.646987951807\" width=\"602\" height=\"245.35301204819277\"/></clipPath><clipPath class=\"axesclip\" id=\"clip7d9773x4\"><rect x=\"118\" y=\"0\" width=\"602\" height=\"4150\"/></clipPath><clipPath class=\"axesclip\" id=\"clip7d9773x4y\"><rect x=\"118\" y=\"155\" width=\"602\" height=\"245.35301204819274\"/></clipPath><clipPath class=\"axesclip\" id=\"clip7d9773x4y2\"><rect x=\"118\" y=\"438.2036144578312\" width=\"602\" height=\"245.35301204819274\"/></clipPath><clipPath class=\"axesclip\" id=\"clip7d9773x4y3\"><rect x=\"118\" y=\"721.4072289156624\" width=\"602\" height=\"245.35301204819274\"/></clipPath><clipPath class=\"axesclip\" id=\"clip7d9773x4y4\"><rect x=\"118\" y=\"1004.6108433734939\" width=\"602\" height=\"245.35301204819274\"/></clipPath><clipPath class=\"axesclip\" id=\"clip7d9773x4y5\"><rect x=\"118\" y=\"1287.8144578313252\" width=\"602\" height=\"245.35301204819274\"/></clipPath><clipPath class=\"axesclip\" id=\"clip7d9773x4y6\"><rect x=\"118\" y=\"1571.0180722891566\" width=\"602\" height=\"245.35301204819274\"/></clipPath><clipPath class=\"axesclip\" id=\"clip7d9773x4y7\"><rect x=\"118\" y=\"1854.2216867469879\" width=\"602\" height=\"245.35301204819274\"/></clipPath><clipPath class=\"axesclip\" id=\"clip7d9773x4y8\"><rect x=\"118\" y=\"2137.425301204819\" width=\"602\" height=\"245.35301204819274\"/></clipPath><clipPath class=\"axesclip\" id=\"clip7d9773x4y9\"><rect x=\"118\" y=\"2420.628915662651\" width=\"602\" height=\"245.35301204819274\"/></clipPath><clipPath class=\"axesclip\" id=\"clip7d9773x4y10\"><rect x=\"118\" y=\"2703.8325301204823\" width=\"602\" height=\"245.35301204819274\"/></clipPath><clipPath class=\"axesclip\" id=\"clip7d9773x4y11\"><rect x=\"118\" y=\"2987.0361445783133\" width=\"602\" height=\"245.35301204819285\"/></clipPath><clipPath class=\"axesclip\" id=\"clip7d9773x4y12\"><rect x=\"118\" y=\"3270.2397590361443\" width=\"602\" height=\"245.35301204819274\"/></clipPath><clipPath class=\"axesclip\" id=\"clip7d9773x4y13\"><rect x=\"118\" y=\"3553.4433734939757\" width=\"602\" height=\"245.3530120481928\"/></clipPath><clipPath class=\"axesclip\" id=\"clip7d9773x4y14\"><rect x=\"118\" y=\"3836.646987951807\" width=\"602\" height=\"245.35301204819277\"/></clipPath><clipPath class=\"axesclip\" id=\"clip7d9773x5\"><rect x=\"118\" y=\"0\" width=\"602\" height=\"4150\"/></clipPath><clipPath class=\"axesclip\" id=\"clip7d9773x5y\"><rect x=\"118\" y=\"155\" width=\"602\" height=\"245.35301204819274\"/></clipPath><clipPath class=\"axesclip\" id=\"clip7d9773x5y2\"><rect x=\"118\" y=\"438.2036144578312\" width=\"602\" height=\"245.35301204819274\"/></clipPath><clipPath class=\"axesclip\" id=\"clip7d9773x5y3\"><rect x=\"118\" y=\"721.4072289156624\" width=\"602\" height=\"245.35301204819274\"/></clipPath><clipPath class=\"axesclip\" id=\"clip7d9773x5y4\"><rect x=\"118\" y=\"1004.6108433734939\" width=\"602\" height=\"245.35301204819274\"/></clipPath><clipPath class=\"axesclip\" id=\"clip7d9773x5y5\"><rect x=\"118\" y=\"1287.8144578313252\" width=\"602\" height=\"245.35301204819274\"/></clipPath><clipPath class=\"axesclip\" id=\"clip7d9773x5y6\"><rect x=\"118\" y=\"1571.0180722891566\" width=\"602\" height=\"245.35301204819274\"/></clipPath><clipPath class=\"axesclip\" id=\"clip7d9773x5y7\"><rect x=\"118\" y=\"1854.2216867469879\" width=\"602\" height=\"245.35301204819274\"/></clipPath><clipPath class=\"axesclip\" id=\"clip7d9773x5y8\"><rect x=\"118\" y=\"2137.425301204819\" width=\"602\" height=\"245.35301204819274\"/></clipPath><clipPath class=\"axesclip\" id=\"clip7d9773x5y9\"><rect x=\"118\" y=\"2420.628915662651\" width=\"602\" height=\"245.35301204819274\"/></clipPath><clipPath class=\"axesclip\" id=\"clip7d9773x5y10\"><rect x=\"118\" y=\"2703.8325301204823\" width=\"602\" height=\"245.35301204819274\"/></clipPath><clipPath class=\"axesclip\" id=\"clip7d9773x5y11\"><rect x=\"118\" y=\"2987.0361445783133\" width=\"602\" height=\"245.35301204819285\"/></clipPath><clipPath class=\"axesclip\" id=\"clip7d9773x5y12\"><rect x=\"118\" y=\"3270.2397590361443\" width=\"602\" height=\"245.35301204819274\"/></clipPath><clipPath class=\"axesclip\" id=\"clip7d9773x5y13\"><rect x=\"118\" y=\"3553.4433734939757\" width=\"602\" height=\"245.3530120481928\"/></clipPath><clipPath class=\"axesclip\" id=\"clip7d9773x5y14\"><rect x=\"118\" y=\"3836.646987951807\" width=\"602\" height=\"245.35301204819277\"/></clipPath><clipPath class=\"axesclip\" id=\"clip7d9773x6\"><rect x=\"118\" y=\"0\" width=\"602\" height=\"4150\"/></clipPath><clipPath class=\"axesclip\" id=\"clip7d9773x6y\"><rect x=\"118\" y=\"155\" width=\"602\" height=\"245.35301204819274\"/></clipPath><clipPath class=\"axesclip\" id=\"clip7d9773x6y2\"><rect x=\"118\" y=\"438.2036144578312\" width=\"602\" height=\"245.35301204819274\"/></clipPath><clipPath class=\"axesclip\" id=\"clip7d9773x6y3\"><rect x=\"118\" y=\"721.4072289156624\" width=\"602\" height=\"245.35301204819274\"/></clipPath><clipPath class=\"axesclip\" id=\"clip7d9773x6y4\"><rect x=\"118\" y=\"1004.6108433734939\" width=\"602\" height=\"245.35301204819274\"/></clipPath><clipPath class=\"axesclip\" id=\"clip7d9773x6y5\"><rect x=\"118\" y=\"1287.8144578313252\" width=\"602\" height=\"245.35301204819274\"/></clipPath><clipPath class=\"axesclip\" id=\"clip7d9773x6y6\"><rect x=\"118\" y=\"1571.0180722891566\" width=\"602\" height=\"245.35301204819274\"/></clipPath><clipPath class=\"axesclip\" id=\"clip7d9773x6y7\"><rect x=\"118\" y=\"1854.2216867469879\" width=\"602\" height=\"245.35301204819274\"/></clipPath><clipPath class=\"axesclip\" id=\"clip7d9773x6y8\"><rect x=\"118\" y=\"2137.425301204819\" width=\"602\" height=\"245.35301204819274\"/></clipPath><clipPath class=\"axesclip\" id=\"clip7d9773x6y9\"><rect x=\"118\" y=\"2420.628915662651\" width=\"602\" height=\"245.35301204819274\"/></clipPath><clipPath class=\"axesclip\" id=\"clip7d9773x6y10\"><rect x=\"118\" y=\"2703.8325301204823\" width=\"602\" height=\"245.35301204819274\"/></clipPath><clipPath class=\"axesclip\" id=\"clip7d9773x6y11\"><rect x=\"118\" y=\"2987.0361445783133\" width=\"602\" height=\"245.35301204819285\"/></clipPath><clipPath class=\"axesclip\" id=\"clip7d9773x6y12\"><rect x=\"118\" y=\"3270.2397590361443\" width=\"602\" height=\"245.35301204819274\"/></clipPath><clipPath class=\"axesclip\" id=\"clip7d9773x6y13\"><rect x=\"118\" y=\"3553.4433734939757\" width=\"602\" height=\"245.3530120481928\"/></clipPath><clipPath class=\"axesclip\" id=\"clip7d9773x6y14\"><rect x=\"118\" y=\"3836.646987951807\" width=\"602\" height=\"245.35301204819277\"/></clipPath><clipPath class=\"axesclip\" id=\"clip7d9773x7\"><rect x=\"118\" y=\"0\" width=\"602\" height=\"4150\"/></clipPath><clipPath class=\"axesclip\" id=\"clip7d9773x7y\"><rect x=\"118\" y=\"155\" width=\"602\" height=\"245.35301204819274\"/></clipPath><clipPath class=\"axesclip\" id=\"clip7d9773x7y2\"><rect x=\"118\" y=\"438.2036144578312\" width=\"602\" height=\"245.35301204819274\"/></clipPath><clipPath class=\"axesclip\" id=\"clip7d9773x7y3\"><rect x=\"118\" y=\"721.4072289156624\" width=\"602\" height=\"245.35301204819274\"/></clipPath><clipPath class=\"axesclip\" id=\"clip7d9773x7y4\"><rect x=\"118\" y=\"1004.6108433734939\" width=\"602\" height=\"245.35301204819274\"/></clipPath><clipPath class=\"axesclip\" id=\"clip7d9773x7y5\"><rect x=\"118\" y=\"1287.8144578313252\" width=\"602\" height=\"245.35301204819274\"/></clipPath><clipPath class=\"axesclip\" id=\"clip7d9773x7y6\"><rect x=\"118\" y=\"1571.0180722891566\" width=\"602\" height=\"245.35301204819274\"/></clipPath><clipPath class=\"axesclip\" id=\"clip7d9773x7y7\"><rect x=\"118\" y=\"1854.2216867469879\" width=\"602\" height=\"245.35301204819274\"/></clipPath><clipPath class=\"axesclip\" id=\"clip7d9773x7y8\"><rect x=\"118\" y=\"2137.425301204819\" width=\"602\" height=\"245.35301204819274\"/></clipPath><clipPath class=\"axesclip\" id=\"clip7d9773x7y9\"><rect x=\"118\" y=\"2420.628915662651\" width=\"602\" height=\"245.35301204819274\"/></clipPath><clipPath class=\"axesclip\" id=\"clip7d9773x7y10\"><rect x=\"118\" y=\"2703.8325301204823\" width=\"602\" height=\"245.35301204819274\"/></clipPath><clipPath class=\"axesclip\" id=\"clip7d9773x7y11\"><rect x=\"118\" y=\"2987.0361445783133\" width=\"602\" height=\"245.35301204819285\"/></clipPath><clipPath class=\"axesclip\" id=\"clip7d9773x7y12\"><rect x=\"118\" y=\"3270.2397590361443\" width=\"602\" height=\"245.35301204819274\"/></clipPath><clipPath class=\"axesclip\" id=\"clip7d9773x7y13\"><rect x=\"118\" y=\"3553.4433734939757\" width=\"602\" height=\"245.3530120481928\"/></clipPath><clipPath class=\"axesclip\" id=\"clip7d9773x7y14\"><rect x=\"118\" y=\"3836.646987951807\" width=\"602\" height=\"245.35301204819277\"/></clipPath><clipPath class=\"axesclip\" id=\"clip7d9773x8\"><rect x=\"118\" y=\"0\" width=\"602\" height=\"4150\"/></clipPath><clipPath class=\"axesclip\" id=\"clip7d9773x8y\"><rect x=\"118\" y=\"155\" width=\"602\" height=\"245.35301204819274\"/></clipPath><clipPath class=\"axesclip\" id=\"clip7d9773x8y2\"><rect x=\"118\" y=\"438.2036144578312\" width=\"602\" height=\"245.35301204819274\"/></clipPath><clipPath class=\"axesclip\" id=\"clip7d9773x8y3\"><rect x=\"118\" y=\"721.4072289156624\" width=\"602\" height=\"245.35301204819274\"/></clipPath><clipPath class=\"axesclip\" id=\"clip7d9773x8y4\"><rect x=\"118\" y=\"1004.6108433734939\" width=\"602\" height=\"245.35301204819274\"/></clipPath><clipPath class=\"axesclip\" id=\"clip7d9773x8y5\"><rect x=\"118\" y=\"1287.8144578313252\" width=\"602\" height=\"245.35301204819274\"/></clipPath><clipPath class=\"axesclip\" id=\"clip7d9773x8y6\"><rect x=\"118\" y=\"1571.0180722891566\" width=\"602\" height=\"245.35301204819274\"/></clipPath><clipPath class=\"axesclip\" id=\"clip7d9773x8y7\"><rect x=\"118\" y=\"1854.2216867469879\" width=\"602\" height=\"245.35301204819274\"/></clipPath><clipPath class=\"axesclip\" id=\"clip7d9773x8y8\"><rect x=\"118\" y=\"2137.425301204819\" width=\"602\" height=\"245.35301204819274\"/></clipPath><clipPath class=\"axesclip\" id=\"clip7d9773x8y9\"><rect x=\"118\" y=\"2420.628915662651\" width=\"602\" height=\"245.35301204819274\"/></clipPath><clipPath class=\"axesclip\" id=\"clip7d9773x8y10\"><rect x=\"118\" y=\"2703.8325301204823\" width=\"602\" height=\"245.35301204819274\"/></clipPath><clipPath class=\"axesclip\" id=\"clip7d9773x8y11\"><rect x=\"118\" y=\"2987.0361445783133\" width=\"602\" height=\"245.35301204819285\"/></clipPath><clipPath class=\"axesclip\" id=\"clip7d9773x8y12\"><rect x=\"118\" y=\"3270.2397590361443\" width=\"602\" height=\"245.35301204819274\"/></clipPath><clipPath class=\"axesclip\" id=\"clip7d9773x8y13\"><rect x=\"118\" y=\"3553.4433734939757\" width=\"602\" height=\"245.3530120481928\"/></clipPath><clipPath class=\"axesclip\" id=\"clip7d9773x8y14\"><rect x=\"118\" y=\"3836.646987951807\" width=\"602\" height=\"245.35301204819277\"/></clipPath><clipPath class=\"axesclip\" id=\"clip7d9773x9\"><rect x=\"118\" y=\"0\" width=\"602\" height=\"4150\"/></clipPath><clipPath class=\"axesclip\" id=\"clip7d9773x9y\"><rect x=\"118\" y=\"155\" width=\"602\" height=\"245.35301204819274\"/></clipPath><clipPath class=\"axesclip\" id=\"clip7d9773x9y2\"><rect x=\"118\" y=\"438.2036144578312\" width=\"602\" height=\"245.35301204819274\"/></clipPath><clipPath class=\"axesclip\" id=\"clip7d9773x9y3\"><rect x=\"118\" y=\"721.4072289156624\" width=\"602\" height=\"245.35301204819274\"/></clipPath><clipPath class=\"axesclip\" id=\"clip7d9773x9y4\"><rect x=\"118\" y=\"1004.6108433734939\" width=\"602\" height=\"245.35301204819274\"/></clipPath><clipPath class=\"axesclip\" id=\"clip7d9773x9y5\"><rect x=\"118\" y=\"1287.8144578313252\" width=\"602\" height=\"245.35301204819274\"/></clipPath><clipPath class=\"axesclip\" id=\"clip7d9773x9y6\"><rect x=\"118\" y=\"1571.0180722891566\" width=\"602\" height=\"245.35301204819274\"/></clipPath><clipPath class=\"axesclip\" id=\"clip7d9773x9y7\"><rect x=\"118\" y=\"1854.2216867469879\" width=\"602\" height=\"245.35301204819274\"/></clipPath><clipPath class=\"axesclip\" id=\"clip7d9773x9y8\"><rect x=\"118\" y=\"2137.425301204819\" width=\"602\" height=\"245.35301204819274\"/></clipPath><clipPath class=\"axesclip\" id=\"clip7d9773x9y9\"><rect x=\"118\" y=\"2420.628915662651\" width=\"602\" height=\"245.35301204819274\"/></clipPath><clipPath class=\"axesclip\" id=\"clip7d9773x9y10\"><rect x=\"118\" y=\"2703.8325301204823\" width=\"602\" height=\"245.35301204819274\"/></clipPath><clipPath class=\"axesclip\" id=\"clip7d9773x9y11\"><rect x=\"118\" y=\"2987.0361445783133\" width=\"602\" height=\"245.35301204819285\"/></clipPath><clipPath class=\"axesclip\" id=\"clip7d9773x9y12\"><rect x=\"118\" y=\"3270.2397590361443\" width=\"602\" height=\"245.35301204819274\"/></clipPath><clipPath class=\"axesclip\" id=\"clip7d9773x9y13\"><rect x=\"118\" y=\"3553.4433734939757\" width=\"602\" height=\"245.3530120481928\"/></clipPath><clipPath class=\"axesclip\" id=\"clip7d9773x9y14\"><rect x=\"118\" y=\"3836.646987951807\" width=\"602\" height=\"245.35301204819277\"/></clipPath><clipPath class=\"axesclip\" id=\"clip7d9773x10\"><rect x=\"118\" y=\"0\" width=\"602\" height=\"4150\"/></clipPath><clipPath class=\"axesclip\" id=\"clip7d9773x10y\"><rect x=\"118\" y=\"155\" width=\"602\" height=\"245.35301204819274\"/></clipPath><clipPath class=\"axesclip\" id=\"clip7d9773x10y2\"><rect x=\"118\" y=\"438.2036144578312\" width=\"602\" height=\"245.35301204819274\"/></clipPath><clipPath class=\"axesclip\" id=\"clip7d9773x10y3\"><rect x=\"118\" y=\"721.4072289156624\" width=\"602\" height=\"245.35301204819274\"/></clipPath><clipPath class=\"axesclip\" id=\"clip7d9773x10y4\"><rect x=\"118\" y=\"1004.6108433734939\" width=\"602\" height=\"245.35301204819274\"/></clipPath><clipPath class=\"axesclip\" id=\"clip7d9773x10y5\"><rect x=\"118\" y=\"1287.8144578313252\" width=\"602\" height=\"245.35301204819274\"/></clipPath><clipPath class=\"axesclip\" id=\"clip7d9773x10y6\"><rect x=\"118\" y=\"1571.0180722891566\" width=\"602\" height=\"245.35301204819274\"/></clipPath><clipPath class=\"axesclip\" id=\"clip7d9773x10y7\"><rect x=\"118\" y=\"1854.2216867469879\" width=\"602\" height=\"245.35301204819274\"/></clipPath><clipPath class=\"axesclip\" id=\"clip7d9773x10y8\"><rect x=\"118\" y=\"2137.425301204819\" width=\"602\" height=\"245.35301204819274\"/></clipPath><clipPath class=\"axesclip\" id=\"clip7d9773x10y9\"><rect x=\"118\" y=\"2420.628915662651\" width=\"602\" height=\"245.35301204819274\"/></clipPath><clipPath class=\"axesclip\" id=\"clip7d9773x10y10\"><rect x=\"118\" y=\"2703.8325301204823\" width=\"602\" height=\"245.35301204819274\"/></clipPath><clipPath class=\"axesclip\" id=\"clip7d9773x10y11\"><rect x=\"118\" y=\"2987.0361445783133\" width=\"602\" height=\"245.35301204819285\"/></clipPath><clipPath class=\"axesclip\" id=\"clip7d9773x10y12\"><rect x=\"118\" y=\"3270.2397590361443\" width=\"602\" height=\"245.35301204819274\"/></clipPath><clipPath class=\"axesclip\" id=\"clip7d9773x10y13\"><rect x=\"118\" y=\"3553.4433734939757\" width=\"602\" height=\"245.3530120481928\"/></clipPath><clipPath class=\"axesclip\" id=\"clip7d9773x10y14\"><rect x=\"118\" y=\"3836.646987951807\" width=\"602\" height=\"245.35301204819277\"/></clipPath><clipPath class=\"axesclip\" id=\"clip7d9773x11\"><rect x=\"118\" y=\"0\" width=\"602\" height=\"4150\"/></clipPath><clipPath class=\"axesclip\" id=\"clip7d9773x11y\"><rect x=\"118\" y=\"155\" width=\"602\" height=\"245.35301204819274\"/></clipPath><clipPath class=\"axesclip\" id=\"clip7d9773x11y2\"><rect x=\"118\" y=\"438.2036144578312\" width=\"602\" height=\"245.35301204819274\"/></clipPath><clipPath class=\"axesclip\" id=\"clip7d9773x11y3\"><rect x=\"118\" y=\"721.4072289156624\" width=\"602\" height=\"245.35301204819274\"/></clipPath><clipPath class=\"axesclip\" id=\"clip7d9773x11y4\"><rect x=\"118\" y=\"1004.6108433734939\" width=\"602\" height=\"245.35301204819274\"/></clipPath><clipPath class=\"axesclip\" id=\"clip7d9773x11y5\"><rect x=\"118\" y=\"1287.8144578313252\" width=\"602\" height=\"245.35301204819274\"/></clipPath><clipPath class=\"axesclip\" id=\"clip7d9773x11y6\"><rect x=\"118\" y=\"1571.0180722891566\" width=\"602\" height=\"245.35301204819274\"/></clipPath><clipPath class=\"axesclip\" id=\"clip7d9773x11y7\"><rect x=\"118\" y=\"1854.2216867469879\" width=\"602\" height=\"245.35301204819274\"/></clipPath><clipPath class=\"axesclip\" id=\"clip7d9773x11y8\"><rect x=\"118\" y=\"2137.425301204819\" width=\"602\" height=\"245.35301204819274\"/></clipPath><clipPath class=\"axesclip\" id=\"clip7d9773x11y9\"><rect x=\"118\" y=\"2420.628915662651\" width=\"602\" height=\"245.35301204819274\"/></clipPath><clipPath class=\"axesclip\" id=\"clip7d9773x11y10\"><rect x=\"118\" y=\"2703.8325301204823\" width=\"602\" height=\"245.35301204819274\"/></clipPath><clipPath class=\"axesclip\" id=\"clip7d9773x11y11\"><rect x=\"118\" y=\"2987.0361445783133\" width=\"602\" height=\"245.35301204819285\"/></clipPath><clipPath class=\"axesclip\" id=\"clip7d9773x11y12\"><rect x=\"118\" y=\"3270.2397590361443\" width=\"602\" height=\"245.35301204819274\"/></clipPath><clipPath class=\"axesclip\" id=\"clip7d9773x11y13\"><rect x=\"118\" y=\"3553.4433734939757\" width=\"602\" height=\"245.3530120481928\"/></clipPath><clipPath class=\"axesclip\" id=\"clip7d9773x11y14\"><rect x=\"118\" y=\"3836.646987951807\" width=\"602\" height=\"245.35301204819277\"/></clipPath><clipPath class=\"axesclip\" id=\"clip7d9773x12\"><rect x=\"118\" y=\"0\" width=\"602\" height=\"4150\"/></clipPath><clipPath class=\"axesclip\" id=\"clip7d9773x12y\"><rect x=\"118\" y=\"155\" width=\"602\" height=\"245.35301204819274\"/></clipPath><clipPath class=\"axesclip\" id=\"clip7d9773x12y2\"><rect x=\"118\" y=\"438.2036144578312\" width=\"602\" height=\"245.35301204819274\"/></clipPath><clipPath class=\"axesclip\" id=\"clip7d9773x12y3\"><rect x=\"118\" y=\"721.4072289156624\" width=\"602\" height=\"245.35301204819274\"/></clipPath><clipPath class=\"axesclip\" id=\"clip7d9773x12y4\"><rect x=\"118\" y=\"1004.6108433734939\" width=\"602\" height=\"245.35301204819274\"/></clipPath><clipPath class=\"axesclip\" id=\"clip7d9773x12y5\"><rect x=\"118\" y=\"1287.8144578313252\" width=\"602\" height=\"245.35301204819274\"/></clipPath><clipPath class=\"axesclip\" id=\"clip7d9773x12y6\"><rect x=\"118\" y=\"1571.0180722891566\" width=\"602\" height=\"245.35301204819274\"/></clipPath><clipPath class=\"axesclip\" id=\"clip7d9773x12y7\"><rect x=\"118\" y=\"1854.2216867469879\" width=\"602\" height=\"245.35301204819274\"/></clipPath><clipPath class=\"axesclip\" id=\"clip7d9773x12y8\"><rect x=\"118\" y=\"2137.425301204819\" width=\"602\" height=\"245.35301204819274\"/></clipPath><clipPath class=\"axesclip\" id=\"clip7d9773x12y9\"><rect x=\"118\" y=\"2420.628915662651\" width=\"602\" height=\"245.35301204819274\"/></clipPath><clipPath class=\"axesclip\" id=\"clip7d9773x12y10\"><rect x=\"118\" y=\"2703.8325301204823\" width=\"602\" height=\"245.35301204819274\"/></clipPath><clipPath class=\"axesclip\" id=\"clip7d9773x12y11\"><rect x=\"118\" y=\"2987.0361445783133\" width=\"602\" height=\"245.35301204819285\"/></clipPath><clipPath class=\"axesclip\" id=\"clip7d9773x12y12\"><rect x=\"118\" y=\"3270.2397590361443\" width=\"602\" height=\"245.35301204819274\"/></clipPath><clipPath class=\"axesclip\" id=\"clip7d9773x12y13\"><rect x=\"118\" y=\"3553.4433734939757\" width=\"602\" height=\"245.3530120481928\"/></clipPath><clipPath class=\"axesclip\" id=\"clip7d9773x12y14\"><rect x=\"118\" y=\"3836.646987951807\" width=\"602\" height=\"245.35301204819277\"/></clipPath><clipPath class=\"axesclip\" id=\"clip7d9773x13\"><rect x=\"118\" y=\"0\" width=\"602\" height=\"4150\"/></clipPath><clipPath class=\"axesclip\" id=\"clip7d9773x13y\"><rect x=\"118\" y=\"155\" width=\"602\" height=\"245.35301204819274\"/></clipPath><clipPath class=\"axesclip\" id=\"clip7d9773x13y2\"><rect x=\"118\" y=\"438.2036144578312\" width=\"602\" height=\"245.35301204819274\"/></clipPath><clipPath class=\"axesclip\" id=\"clip7d9773x13y3\"><rect x=\"118\" y=\"721.4072289156624\" width=\"602\" height=\"245.35301204819274\"/></clipPath><clipPath class=\"axesclip\" id=\"clip7d9773x13y4\"><rect x=\"118\" y=\"1004.6108433734939\" width=\"602\" height=\"245.35301204819274\"/></clipPath><clipPath class=\"axesclip\" id=\"clip7d9773x13y5\"><rect x=\"118\" y=\"1287.8144578313252\" width=\"602\" height=\"245.35301204819274\"/></clipPath><clipPath class=\"axesclip\" id=\"clip7d9773x13y6\"><rect x=\"118\" y=\"1571.0180722891566\" width=\"602\" height=\"245.35301204819274\"/></clipPath><clipPath class=\"axesclip\" id=\"clip7d9773x13y7\"><rect x=\"118\" y=\"1854.2216867469879\" width=\"602\" height=\"245.35301204819274\"/></clipPath><clipPath class=\"axesclip\" id=\"clip7d9773x13y8\"><rect x=\"118\" y=\"2137.425301204819\" width=\"602\" height=\"245.35301204819274\"/></clipPath><clipPath class=\"axesclip\" id=\"clip7d9773x13y9\"><rect x=\"118\" y=\"2420.628915662651\" width=\"602\" height=\"245.35301204819274\"/></clipPath><clipPath class=\"axesclip\" id=\"clip7d9773x13y10\"><rect x=\"118\" y=\"2703.8325301204823\" width=\"602\" height=\"245.35301204819274\"/></clipPath><clipPath class=\"axesclip\" id=\"clip7d9773x13y11\"><rect x=\"118\" y=\"2987.0361445783133\" width=\"602\" height=\"245.35301204819285\"/></clipPath><clipPath class=\"axesclip\" id=\"clip7d9773x13y12\"><rect x=\"118\" y=\"3270.2397590361443\" width=\"602\" height=\"245.35301204819274\"/></clipPath><clipPath class=\"axesclip\" id=\"clip7d9773x13y13\"><rect x=\"118\" y=\"3553.4433734939757\" width=\"602\" height=\"245.3530120481928\"/></clipPath><clipPath class=\"axesclip\" id=\"clip7d9773x13y14\"><rect x=\"118\" y=\"3836.646987951807\" width=\"602\" height=\"245.35301204819277\"/></clipPath><clipPath class=\"axesclip\" id=\"clip7d9773x14\"><rect x=\"118\" y=\"0\" width=\"602\" height=\"4150\"/></clipPath><clipPath class=\"axesclip\" id=\"clip7d9773x14y\"><rect x=\"118\" y=\"155\" width=\"602\" height=\"245.35301204819274\"/></clipPath><clipPath class=\"axesclip\" id=\"clip7d9773x14y2\"><rect x=\"118\" y=\"438.2036144578312\" width=\"602\" height=\"245.35301204819274\"/></clipPath><clipPath class=\"axesclip\" id=\"clip7d9773x14y3\"><rect x=\"118\" y=\"721.4072289156624\" width=\"602\" height=\"245.35301204819274\"/></clipPath><clipPath class=\"axesclip\" id=\"clip7d9773x14y4\"><rect x=\"118\" y=\"1004.6108433734939\" width=\"602\" height=\"245.35301204819274\"/></clipPath><clipPath class=\"axesclip\" id=\"clip7d9773x14y5\"><rect x=\"118\" y=\"1287.8144578313252\" width=\"602\" height=\"245.35301204819274\"/></clipPath><clipPath class=\"axesclip\" id=\"clip7d9773x14y6\"><rect x=\"118\" y=\"1571.0180722891566\" width=\"602\" height=\"245.35301204819274\"/></clipPath><clipPath class=\"axesclip\" id=\"clip7d9773x14y7\"><rect x=\"118\" y=\"1854.2216867469879\" width=\"602\" height=\"245.35301204819274\"/></clipPath><clipPath class=\"axesclip\" id=\"clip7d9773x14y8\"><rect x=\"118\" y=\"2137.425301204819\" width=\"602\" height=\"245.35301204819274\"/></clipPath><clipPath class=\"axesclip\" id=\"clip7d9773x14y9\"><rect x=\"118\" y=\"2420.628915662651\" width=\"602\" height=\"245.35301204819274\"/></clipPath><clipPath class=\"axesclip\" id=\"clip7d9773x14y10\"><rect x=\"118\" y=\"2703.8325301204823\" width=\"602\" height=\"245.35301204819274\"/></clipPath><clipPath class=\"axesclip\" id=\"clip7d9773x14y11\"><rect x=\"118\" y=\"2987.0361445783133\" width=\"602\" height=\"245.35301204819285\"/></clipPath><clipPath class=\"axesclip\" id=\"clip7d9773x14y12\"><rect x=\"118\" y=\"3270.2397590361443\" width=\"602\" height=\"245.35301204819274\"/></clipPath><clipPath class=\"axesclip\" id=\"clip7d9773x14y13\"><rect x=\"118\" y=\"3553.4433734939757\" width=\"602\" height=\"245.3530120481928\"/></clipPath><clipPath class=\"axesclip\" id=\"clip7d9773x14y14\"><rect x=\"118\" y=\"3836.646987951807\" width=\"602\" height=\"245.35301204819277\"/></clipPath></g><g class=\"gradients\"/><g class=\"patterns\"/></defs><g class=\"bglayer\"><rect class=\"bg\" x=\"118\" y=\"155\" width=\"602\" height=\"245.35301204819274\" style=\"fill: rgb(229, 236, 246); fill-opacity: 1; stroke-width: 0;\"/><rect class=\"bg\" x=\"118\" y=\"438.2036144578312\" width=\"602\" height=\"245.35301204819274\" style=\"fill: rgb(229, 236, 246); fill-opacity: 1; stroke-width: 0;\"/><rect class=\"bg\" x=\"118\" y=\"721.4072289156624\" width=\"602\" height=\"245.35301204819274\" style=\"fill: rgb(229, 236, 246); fill-opacity: 1; stroke-width: 0;\"/><rect class=\"bg\" x=\"118\" y=\"1004.6108433734939\" width=\"602\" height=\"245.35301204819274\" style=\"fill: rgb(229, 236, 246); fill-opacity: 1; stroke-width: 0;\"/><rect class=\"bg\" x=\"118\" y=\"1287.8144578313252\" width=\"602\" height=\"245.35301204819274\" style=\"fill: rgb(229, 236, 246); fill-opacity: 1; stroke-width: 0;\"/><rect class=\"bg\" x=\"118\" y=\"1571.0180722891566\" width=\"602\" height=\"245.35301204819274\" style=\"fill: rgb(229, 236, 246); fill-opacity: 1; stroke-width: 0;\"/><rect class=\"bg\" x=\"118\" y=\"1854.2216867469879\" width=\"602\" height=\"245.35301204819274\" style=\"fill: rgb(229, 236, 246); fill-opacity: 1; stroke-width: 0;\"/><rect class=\"bg\" x=\"118\" y=\"2137.425301204819\" width=\"602\" height=\"245.35301204819274\" style=\"fill: rgb(229, 236, 246); fill-opacity: 1; stroke-width: 0;\"/><rect class=\"bg\" x=\"118\" y=\"2420.628915662651\" width=\"602\" height=\"245.35301204819274\" style=\"fill: rgb(229, 236, 246); fill-opacity: 1; stroke-width: 0;\"/><rect class=\"bg\" x=\"118\" y=\"2703.8325301204823\" width=\"602\" height=\"245.35301204819274\" style=\"fill: rgb(229, 236, 246); fill-opacity: 1; stroke-width: 0;\"/><rect class=\"bg\" x=\"118\" y=\"2987.0361445783133\" width=\"602\" height=\"245.35301204819285\" style=\"fill: rgb(229, 236, 246); fill-opacity: 1; stroke-width: 0;\"/><rect class=\"bg\" x=\"118\" y=\"3270.2397590361443\" width=\"602\" height=\"245.35301204819274\" style=\"fill: rgb(229, 236, 246); fill-opacity: 1; stroke-width: 0;\"/><rect class=\"bg\" x=\"118\" y=\"3553.4433734939757\" width=\"602\" height=\"245.3530120481928\" style=\"fill: rgb(229, 236, 246); fill-opacity: 1; stroke-width: 0;\"/><rect class=\"bg\" x=\"118\" y=\"3836.646987951807\" width=\"602\" height=\"245.35301204819277\" style=\"fill: rgb(229, 236, 246); fill-opacity: 1; stroke-width: 0;\"/></g><g class=\"layer-below\"><g class=\"imagelayer\"/><g class=\"shapelayer\"><path data-index=\"10\" fill-rule=\"evenodd\" d=\"M151.92000000000002,3232.389156626506H684.9V2987.0361445783133H151.92000000000002Z\" clip-path=\"url(#clip7d9773x11)\" style=\"opacity: 0.2; stroke: rgb(0, 0, 0); stroke-opacity: 0; fill: rgb(255, 165, 0); fill-opacity: 1; stroke-width: 0px;\"/></g></g><g class=\"cartesianlayer\"><g class=\"subplot xy\"><g class=\"layer-subplot\"><g class=\"shapelayer\"/><g class=\"imagelayer\"/></g><g class=\"gridlayer\"><g class=\"x\"><path class=\"xgrid crisp\" transform=\"translate(151.92000000000002,0)\" d=\"M0,155v245.35301204819274\" style=\"stroke: rgb(255, 255, 255); stroke-opacity: 1; stroke-width: 1px;\"/><path class=\"xgrid crisp\" transform=\"translate(285.15999999999997,0)\" d=\"M0,155v245.35301204819274\" style=\"stroke: rgb(255, 255, 255); stroke-opacity: 1; stroke-width: 1px;\"/><path class=\"xgrid crisp\" transform=\"translate(418.41,0)\" d=\"M0,155v245.35301204819274\" style=\"stroke: rgb(255, 255, 255); stroke-opacity: 1; stroke-width: 1px;\"/><path class=\"xgrid crisp\" transform=\"translate(551.65,0)\" d=\"M0,155v245.35301204819274\" style=\"stroke: rgb(255, 255, 255); stroke-opacity: 1; stroke-width: 1px;\"/><path class=\"xgrid crisp\" transform=\"translate(684.9,0)\" d=\"M0,155v245.35301204819274\" style=\"stroke: rgb(255, 255, 255); stroke-opacity: 1; stroke-width: 1px;\"/></g><g class=\"y\"><path class=\"ygrid crisp\" transform=\"translate(0,384.34000000000003)\" d=\"M118,0h602\" style=\"stroke: rgb(255, 255, 255); stroke-opacity: 1; stroke-width: 1px;\"/><path class=\"ygrid crisp\" transform=\"translate(0,349.57)\" d=\"M118,0h602\" style=\"stroke: rgb(255, 255, 255); stroke-opacity: 1; stroke-width: 1px;\"/><path class=\"ygrid crisp\" transform=\"translate(0,314.8)\" d=\"M118,0h602\" style=\"stroke: rgb(255, 255, 255); stroke-opacity: 1; stroke-width: 1px;\"/><path class=\"ygrid crisp\" transform=\"translate(0,280.04)\" d=\"M118,0h602\" style=\"stroke: rgb(255, 255, 255); stroke-opacity: 1; stroke-width: 1px;\"/><path class=\"ygrid crisp\" transform=\"translate(0,245.26999999999998)\" d=\"M118,0h602\" style=\"stroke: rgb(255, 255, 255); stroke-opacity: 1; stroke-width: 1px;\"/><path class=\"ygrid crisp\" transform=\"translate(0,210.51)\" d=\"M118,0h602\" style=\"stroke: rgb(255, 255, 255); stroke-opacity: 1; stroke-width: 1px;\"/><path class=\"ygrid crisp\" transform=\"translate(0,175.74)\" d=\"M118,0h602\" style=\"stroke: rgb(255, 255, 255); stroke-opacity: 1; stroke-width: 1px;\"/></g></g><g class=\"zerolinelayer\"/><path class=\"xlines-below\"/><path class=\"ylines-below\"/><g class=\"overlines-below\"/><g class=\"xaxislayer-below\"/><g class=\"yaxislayer-below\"/><g class=\"overaxes-below\"/><g class=\"plot\" transform=\"translate(118,155)\" clip-path=\"url(#clip7d9773xyplot)\"><g class=\"scatterlayer mlayer\"><g class=\"trace scatter trace377f2ef8-b52a-4078-bc11-6c223bec86d1\" style=\"stroke-miterlimit: 2; opacity: 1;\"><g class=\"fills\"/><g class=\"errorbars\"/><g class=\"lines\"><path class=\"js-line\" d=\"M167.16,229.34L566.9,20.74\" style=\"vector-effect: non-scaling-stroke; fill: none; stroke: rgb(31, 119, 180); stroke-opacity: 1; stroke-width: 2px; opacity: 1;\"/></g><g class=\"points\"><path class=\"point\" transform=\"translate(167.16,229.34)\" d=\"M3,0A3,3 0 1,1 0,-3A3,3 0 0,1 3,0Z\" style=\"opacity: 1; stroke-width: 0px; fill: rgb(31, 119, 180); fill-opacity: 1;\"/><path class=\"point\" transform=\"translate(300.41,159.8)\" d=\"M3,0A3,3 0 1,1 0,-3A3,3 0 0,1 3,0Z\" style=\"opacity: 1; stroke-width: 0px; fill: rgb(31, 119, 180); fill-opacity: 1;\"/><path class=\"point\" transform=\"translate(433.65,90.27)\" d=\"M3,0A3,3 0 1,1 0,-3A3,3 0 0,1 3,0Z\" style=\"opacity: 1; stroke-width: 0px; fill: rgb(31, 119, 180); fill-opacity: 1;\"/><path class=\"point\" transform=\"translate(566.9,20.74)\" d=\"M3,0A3,3 0 1,1 0,-3A3,3 0 0,1 3,0Z\" style=\"opacity: 1; stroke-width: 0px; fill: rgb(31, 119, 180); fill-opacity: 1;\"/></g><g class=\"text\"/></g><g class=\"trace scatter tracef39854de-cdf2-4572-ac38-48313af2438e\" style=\"stroke-miterlimit: 2; opacity: 1;\"><g class=\"fills\"/><g class=\"errorbars\"/><g class=\"lines\"/><g class=\"points\"><path class=\"point plotly-customdata\" transform=\"translate(167.16,227.94)\" d=\"M-4.62,2H4.62L0,-4Z\" style=\"opacity: 1; stroke-width: 1px; fill: rgb(55, 177, 63); fill-opacity: 1; stroke: rgb(38, 123, 44); stroke-opacity: 1;\"/><path class=\"point plotly-customdata\" transform=\"translate(566.9,17.27)\" d=\"M-4.62,2H4.62L0,-4Z\" style=\"opacity: 1; stroke-width: 1px; fill: rgb(55, 177, 63); fill-opacity: 1; stroke: rgb(38, 123, 44); stroke-opacity: 1;\"/></g><g class=\"text\"/></g><g class=\"trace scatter trace26404193-bbce-4b66-9eb4-cdca57f65687\" style=\"stroke-miterlimit: 2; opacity: 1;\"><g class=\"fills\"/><g class=\"errorbars\"/><g class=\"lines\"/><g class=\"points\"><path class=\"point plotly-customdata\" transform=\"translate(300.41,161.89)\" d=\"M-4.62,-2H4.62L0,4Z\" style=\"opacity: 1; stroke-width: 1px; fill: rgb(234, 67, 53); fill-opacity: 1; stroke: rgb(181, 31, 18); stroke-opacity: 1;\"/></g><g class=\"text\"/></g></g></g><g class=\"overplot\"/><path class=\"xlines-above crisp\" d=\"M0,0\" style=\"fill: none;\"/><path class=\"ylines-above crisp\" d=\"M0,0\" style=\"fill: none;\"/><g class=\"overlines-above\"/><g class=\"xaxislayer-above\"/><g class=\"yaxislayer-above\"><g class=\"ytick\"><text text-anchor=\"end\" x=\"117\" y=\"4.199999999999999\" transform=\"translate(0,384.34000000000003)\" style=\"font-family: 'Open Sans', verdana, arial, sans-serif; font-size: 12px; fill: rgb(42, 63, 95); fill-opacity: 1; white-space: pre; opacity: 1;\">2</text></g><g class=\"ytick\"><text text-anchor=\"end\" x=\"117\" y=\"4.199999999999999\" style=\"font-family: 'Open Sans', verdana, arial, sans-serif; font-size: 12px; fill: rgb(42, 63, 95); fill-opacity: 1; white-space: pre; opacity: 1;\" transform=\"translate(0,349.57)\">2.5</text></g><g class=\"ytick\"><text text-anchor=\"end\" x=\"117\" y=\"4.199999999999999\" style=\"font-family: 'Open Sans', verdana, arial, sans-serif; font-size: 12px; fill: rgb(42, 63, 95); fill-opacity: 1; white-space: pre; opacity: 1;\" transform=\"translate(0,314.8)\">3</text></g><g class=\"ytick\"><text text-anchor=\"end\" x=\"117\" y=\"4.199999999999999\" style=\"font-family: 'Open Sans', verdana, arial, sans-serif; font-size: 12px; fill: rgb(42, 63, 95); fill-opacity: 1; white-space: pre; opacity: 1;\" transform=\"translate(0,280.04)\">3.5</text></g><g class=\"ytick\"><text text-anchor=\"end\" x=\"117\" y=\"4.199999999999999\" style=\"font-family: 'Open Sans', verdana, arial, sans-serif; font-size: 12px; fill: rgb(42, 63, 95); fill-opacity: 1; white-space: pre; opacity: 1;\" transform=\"translate(0,245.26999999999998)\">4</text></g><g class=\"ytick\"><text text-anchor=\"end\" x=\"117\" y=\"4.199999999999999\" style=\"font-family: 'Open Sans', verdana, arial, sans-serif; font-size: 12px; fill: rgb(42, 63, 95); fill-opacity: 1; white-space: pre; opacity: 1;\" transform=\"translate(0,210.51)\">4.5</text></g><g class=\"ytick\"><text text-anchor=\"end\" x=\"117\" y=\"4.199999999999999\" style=\"font-family: 'Open Sans', verdana, arial, sans-serif; font-size: 12px; fill: rgb(42, 63, 95); fill-opacity: 1; white-space: pre; opacity: 1;\" transform=\"translate(0,175.74)\">5</text></g></g><g class=\"overaxes-above\"/></g><g class=\"subplot x2y2\"><g class=\"layer-subplot\"><g class=\"shapelayer\"><path data-index=\"0\" fill-rule=\"evenodd\" d=\"M285.15999999999997,666.1436144578312H418.41V599.8936144578312H285.15999999999997Z\" clip-path=\"url(#clip7d9773x2y2)\" style=\"opacity: 0.2; stroke: rgb(0, 0, 0); stroke-opacity: 0; fill: rgb(255, 0, 0); fill-opacity: 1; stroke-width: 0px;\"/><path data-index=\"1\" fill-rule=\"evenodd\" d=\"M684.9,454.84361445783117H684.9V458.3336144578312H684.9Z\" clip-path=\"url(#clip7d9773x2y2)\" style=\"opacity: 0.2; stroke: rgb(0, 0, 0); stroke-opacity: 0; fill: rgb(255, 0, 0); fill-opacity: 1; stroke-width: 0px;\"/></g><g class=\"imagelayer\"/></g><g class=\"gridlayer\"><g class=\"x2\"><path class=\"x2grid crisp\" transform=\"translate(151.92000000000002,0)\" d=\"M0,438.2036144578312v245.35301204819274\" style=\"stroke: rgb(255, 255, 255); stroke-opacity: 1; stroke-width: 1px;\"/><path class=\"x2grid crisp\" transform=\"translate(285.15999999999997,0)\" d=\"M0,438.2036144578312v245.35301204819274\" style=\"stroke: rgb(255, 255, 255); stroke-opacity: 1; stroke-width: 1px;\"/><path class=\"x2grid crisp\" transform=\"translate(418.41,0)\" d=\"M0,438.2036144578312v245.35301204819274\" style=\"stroke: rgb(255, 255, 255); stroke-opacity: 1; stroke-width: 1px;\"/><path class=\"x2grid crisp\" transform=\"translate(551.65,0)\" d=\"M0,438.2036144578312v245.35301204819274\" style=\"stroke: rgb(255, 255, 255); stroke-opacity: 1; stroke-width: 1px;\"/><path class=\"x2grid crisp\" transform=\"translate(684.9,0)\" d=\"M0,438.2036144578312v245.35301204819274\" style=\"stroke: rgb(255, 255, 255); stroke-opacity: 1; stroke-width: 1px;\"/></g><g class=\"y2\"><path class=\"y2grid crisp\" transform=\"translate(0,667.5436144578312)\" d=\"M118,0h602\" style=\"stroke: rgb(255, 255, 255); stroke-opacity: 1; stroke-width: 1px;\"/><path class=\"y2grid crisp\" transform=\"translate(0,632.6736144578311)\" d=\"M118,0h602\" style=\"stroke: rgb(255, 255, 255); stroke-opacity: 1; stroke-width: 1px;\"/><path class=\"y2grid crisp\" transform=\"translate(0,597.8036144578311)\" d=\"M118,0h602\" style=\"stroke: rgb(255, 255, 255); stroke-opacity: 1; stroke-width: 1px;\"/><path class=\"y2grid crisp\" transform=\"translate(0,562.9336144578311)\" d=\"M118,0h602\" style=\"stroke: rgb(255, 255, 255); stroke-opacity: 1; stroke-width: 1px;\"/><path class=\"y2grid crisp\" transform=\"translate(0,528.0636144578311)\" d=\"M118,0h602\" style=\"stroke: rgb(255, 255, 255); stroke-opacity: 1; stroke-width: 1px;\"/><path class=\"y2grid crisp\" transform=\"translate(0,493.2036144578312)\" d=\"M118,0h602\" style=\"stroke: rgb(255, 255, 255); stroke-opacity: 1; stroke-width: 1px;\"/><path class=\"y2grid crisp\" transform=\"translate(0,458.3336144578312)\" d=\"M118,0h602\" style=\"stroke: rgb(255, 255, 255); stroke-opacity: 1; stroke-width: 1px;\"/></g></g><g class=\"zerolinelayer\"/><path class=\"xlines-below\"/><path class=\"ylines-below\"/><g class=\"overlines-below\"/><g class=\"xaxislayer-below\"/><g class=\"yaxislayer-below\"/><g class=\"overaxes-below\"/><g class=\"plot\" transform=\"translate(118,438.2036144578312)\" clip-path=\"url(#clip7d9773x2y2plot)\"><g class=\"scatterlayer mlayer\"><g class=\"trace scatter trace1ae9f5c6-a4b4-4ad5-bbb9-a41659bb5640\" style=\"stroke-miterlimit: 2; opacity: 1;\"><g class=\"fills\"/><g class=\"errorbars\"/><g class=\"lines\"><path class=\"js-line\" d=\"M167.16,229.34L566.9,20.13\" style=\"vector-effect: non-scaling-stroke; fill: none; stroke: rgb(31, 119, 180); stroke-opacity: 1; stroke-width: 2px; opacity: 1;\"/></g><g class=\"points\"><path class=\"point\" transform=\"translate(167.16,229.34)\" d=\"M3,0A3,3 0 1,1 0,-3A3,3 0 0,1 3,0Z\" style=\"opacity: 1; stroke-width: 0px; fill: rgb(31, 119, 180); fill-opacity: 1;\"/><path class=\"point\" transform=\"translate(300.41,159.6)\" d=\"M3,0A3,3 0 1,1 0,-3A3,3 0 0,1 3,0Z\" style=\"opacity: 1; stroke-width: 0px; fill: rgb(31, 119, 180); fill-opacity: 1;\"/><path class=\"point\" transform=\"translate(433.65,89.86)\" d=\"M3,0A3,3 0 1,1 0,-3A3,3 0 0,1 3,0Z\" style=\"opacity: 1; stroke-width: 0px; fill: rgb(31, 119, 180); fill-opacity: 1;\"/><path class=\"point\" transform=\"translate(566.9,20.13)\" d=\"M3,0A3,3 0 1,1 0,-3A3,3 0 0,1 3,0Z\" style=\"opacity: 1; stroke-width: 0px; fill: rgb(31, 119, 180); fill-opacity: 1;\"/></g><g class=\"text\"/></g><g class=\"trace scatter trace1a198472-630e-4d7b-980c-4cf895e98734\" style=\"stroke-miterlimit: 2; opacity: 1;\"><g class=\"fills\"/><g class=\"errorbars\"/><g class=\"lines\"/><g class=\"points\"><path class=\"point plotly-customdata\" transform=\"translate(167.16,227.94)\" d=\"M3.5,3.5H-3.5V-3.5H3.5Z\" style=\"opacity: 1; stroke-width: 1px; fill: rgb(66, 133, 244); fill-opacity: 1; stroke: rgb(11, 84, 205); stroke-opacity: 1;\"/><path class=\"point plotly-customdata\" transform=\"translate(566.9,16.64)\" d=\"M3.5,3.5H-3.5V-3.5H3.5Z\" style=\"opacity: 1; stroke-width: 1px; fill: rgb(66, 133, 244); fill-opacity: 1; stroke: rgb(11, 84, 205); stroke-opacity: 1;\"/></g><g class=\"text\"/></g><g class=\"trace scatter trace8b7a1375-9a3d-49f6-88d4-602e8ae67c9b\" style=\"stroke-miterlimit: 2; opacity: 1;\"><g class=\"fills\"/><g class=\"errorbars\"/><g class=\"lines\"/><g class=\"points\"><path class=\"point plotly-customdata\" transform=\"translate(300.41,161.69)\" d=\"M3.5,3.5H-3.5V-3.5H3.5Z\" style=\"opacity: 1; stroke-width: 1px; fill: rgb(234, 67, 53); fill-opacity: 1; stroke: rgb(181, 31, 18); stroke-opacity: 1;\"/></g><g class=\"text\"/></g><g class=\"trace scatter trace057ef0f2-66ff-49f1-98b1-f568962a3fb0\" style=\"stroke-miterlimit: 2; opacity: 1;\"><g class=\"fills\"/><g class=\"errorbars\"/><g class=\"lines\"/><g class=\"points\"><path class=\"point plotly-customdata\" transform=\"translate(566.9,20.13)\" d=\"M3.5,3.5H-3.5V-3.5H3.5Z\" style=\"opacity: 1; stroke-width: 1px; fill: rgb(255, 170, 0); fill-opacity: 1; stroke: rgb(178, 118, 0); stroke-opacity: 1;\"/></g><g class=\"text\"/></g></g></g><g class=\"overplot\"/><path class=\"xlines-above crisp\" d=\"M0,0\" style=\"fill: none;\"/><path class=\"ylines-above crisp\" d=\"M0,0\" style=\"fill: none;\"/><g class=\"overlines-above\"/><g class=\"xaxislayer-above\"/><g class=\"yaxislayer-above\"><g class=\"y2tick\"><text text-anchor=\"end\" x=\"117\" y=\"4.199999999999999\" transform=\"translate(0,667.5436144578312)\" style=\"font-family: 'Open Sans', verdana, arial, sans-serif; font-size: 12px; fill: rgb(42, 63, 95); fill-opacity: 1; white-space: pre; opacity: 1;\">2</text></g><g class=\"y2tick\"><text text-anchor=\"end\" x=\"117\" y=\"4.199999999999999\" style=\"font-family: 'Open Sans', verdana, arial, sans-serif; font-size: 12px; fill: rgb(42, 63, 95); fill-opacity: 1; white-space: pre; opacity: 1;\" transform=\"translate(0,632.6736144578311)\">2.5</text></g><g class=\"y2tick\"><text text-anchor=\"end\" x=\"117\" y=\"4.199999999999999\" style=\"font-family: 'Open Sans', verdana, arial, sans-serif; font-size: 12px; fill: rgb(42, 63, 95); fill-opacity: 1; white-space: pre; opacity: 1;\" transform=\"translate(0,597.8036144578311)\">3</text></g><g class=\"y2tick\"><text text-anchor=\"end\" x=\"117\" y=\"4.199999999999999\" style=\"font-family: 'Open Sans', verdana, arial, sans-serif; font-size: 12px; fill: rgb(42, 63, 95); fill-opacity: 1; white-space: pre; opacity: 1;\" transform=\"translate(0,562.9336144578311)\">3.5</text></g><g class=\"y2tick\"><text text-anchor=\"end\" x=\"117\" y=\"4.199999999999999\" style=\"font-family: 'Open Sans', verdana, arial, sans-serif; font-size: 12px; fill: rgb(42, 63, 95); fill-opacity: 1; white-space: pre; opacity: 1;\" transform=\"translate(0,528.0636144578311)\">4</text></g><g class=\"y2tick\"><text text-anchor=\"end\" x=\"117\" y=\"4.199999999999999\" style=\"font-family: 'Open Sans', verdana, arial, sans-serif; font-size: 12px; fill: rgb(42, 63, 95); fill-opacity: 1; white-space: pre; opacity: 1;\" transform=\"translate(0,493.2036144578312)\">4.5</text></g><g class=\"y2tick\"><text text-anchor=\"end\" x=\"117\" y=\"4.199999999999999\" style=\"font-family: 'Open Sans', verdana, arial, sans-serif; font-size: 12px; fill: rgb(42, 63, 95); fill-opacity: 1; white-space: pre; opacity: 1;\" transform=\"translate(0,458.3336144578312)\">5</text></g></g><g class=\"overaxes-above\"/></g><g class=\"subplot x3y3\"><g class=\"layer-subplot\"><g class=\"shapelayer\"/><g class=\"imagelayer\"/></g><g class=\"gridlayer\"><g class=\"x3\"><path class=\"x3grid crisp\" transform=\"translate(151.92000000000002,0)\" d=\"M0,721.4072289156624v245.35301204819274\" style=\"stroke: rgb(255, 255, 255); stroke-opacity: 1; stroke-width: 1px;\"/><path class=\"x3grid crisp\" transform=\"translate(285.15999999999997,0)\" d=\"M0,721.4072289156624v245.35301204819274\" style=\"stroke: rgb(255, 255, 255); stroke-opacity: 1; stroke-width: 1px;\"/><path class=\"x3grid crisp\" transform=\"translate(418.41,0)\" d=\"M0,721.4072289156624v245.35301204819274\" style=\"stroke: rgb(255, 255, 255); stroke-opacity: 1; stroke-width: 1px;\"/><path class=\"x3grid crisp\" transform=\"translate(551.65,0)\" d=\"M0,721.4072289156624v245.35301204819274\" style=\"stroke: rgb(255, 255, 255); stroke-opacity: 1; stroke-width: 1px;\"/><path class=\"x3grid crisp\" transform=\"translate(684.9,0)\" d=\"M0,721.4072289156624v245.35301204819274\" style=\"stroke: rgb(255, 255, 255); stroke-opacity: 1; stroke-width: 1px;\"/></g><g class=\"y3\"><path class=\"y3grid crisp\" transform=\"translate(0,927.4872289156624)\" d=\"M118,0h602\" style=\"stroke: rgb(255, 255, 255); stroke-opacity: 1; stroke-width: 1px;\"/><path class=\"y3grid crisp\" transform=\"translate(0,886.4672289156624)\" d=\"M118,0h602\" style=\"stroke: rgb(255, 255, 255); stroke-opacity: 1; stroke-width: 1px;\"/><path class=\"y3grid crisp\" transform=\"translate(0,845.4572289156623)\" d=\"M118,0h602\" style=\"stroke: rgb(255, 255, 255); stroke-opacity: 1; stroke-width: 1px;\"/><path class=\"y3grid crisp\" transform=\"translate(0,804.4372289156623)\" d=\"M118,0h602\" style=\"stroke: rgb(255, 255, 255); stroke-opacity: 1; stroke-width: 1px;\"/><path class=\"y3grid crisp\" transform=\"translate(0,763.4272289156623)\" d=\"M118,0h602\" style=\"stroke: rgb(255, 255, 255); stroke-opacity: 1; stroke-width: 1px;\"/></g></g><g class=\"zerolinelayer\"><path class=\"y3zl zl crisp\" transform=\"translate(0,722.4072289156624)\" d=\"M118,0h602\" style=\"stroke: rgb(255, 255, 255); stroke-opacity: 1; stroke-width: 2px;\"/></g><path class=\"xlines-below\"/><path class=\"ylines-below\"/><g class=\"overlines-below\"/><g class=\"xaxislayer-below\"/><g class=\"yaxislayer-below\"/><g class=\"overaxes-below\"/><g class=\"plot\" transform=\"translate(118,721.4072289156624)\" clip-path=\"url(#clip7d9773x3y3plot)\"><g class=\"scatterlayer mlayer\"><g class=\"trace scatter trace1c7f5f98-fae4-4479-9bc6-35704c10cc2d\" style=\"stroke-miterlimit: 2; opacity: 1;\"><g class=\"fills\"/><g class=\"errorbars\"/><g class=\"lines\"/><g class=\"points\"><path class=\"point plotly-customdata\" transform=\"translate(300.41,224.34)\" d=\"M7,0A7,7 0 1,1 0,-7A7,7 0 0,1 7,0Z\" style=\"opacity: 0.9; stroke-width: 1px; fill: rgb(234, 67, 53); fill-opacity: 1; stroke: rgb(181, 31, 18); stroke-opacity: 1;\"/></g><g class=\"text\"/></g><g class=\"trace scatter trace7d94866c-96f3-4fa7-8975-b7457cbda23d\" style=\"stroke-miterlimit: 2; opacity: 1;\"><g class=\"fills\"/><g class=\"errorbars\"/><g class=\"lines\"/><g class=\"points\"><path class=\"point plotly-customdata\" transform=\"translate(566.9,17.28)\" d=\"M3.5,0A3.5,3.5 0 1,1 0,-3.5A3.5,3.5 0 0,1 3.5,0Z\" style=\"opacity: 0.75; stroke-width: 1px; fill: rgb(255, 170, 0); fill-opacity: 1; stroke: rgb(178, 118, 0); stroke-opacity: 1;\"/></g><g class=\"text\"/></g></g></g><g class=\"overplot\"/><path class=\"xlines-above crisp\" d=\"M0,0\" style=\"fill: none;\"/><path class=\"ylines-above crisp\" d=\"M0,0\" style=\"fill: none;\"/><g class=\"overlines-above\"/><g class=\"xaxislayer-above\"/><g class=\"yaxislayer-above\"><g class=\"y3tick\"><text text-anchor=\"end\" x=\"117\" y=\"4.199999999999999\" transform=\"translate(0,927.4872289156624)\" style=\"font-family: 'Open Sans', verdana, arial, sans-serif; font-size: 12px; fill: rgb(42, 63, 95); fill-opacity: 1; white-space: pre; opacity: 1;\">−50.00%</text></g><g class=\"y3tick\"><text text-anchor=\"end\" x=\"117\" y=\"4.199999999999999\" style=\"font-family: 'Open Sans', verdana, arial, sans-serif; font-size: 12px; fill: rgb(42, 63, 95); fill-opacity: 1; white-space: pre; opacity: 1;\" transform=\"translate(0,886.4672289156624)\">−40.00%</text></g><g class=\"y3tick\"><text text-anchor=\"end\" x=\"117\" y=\"4.199999999999999\" style=\"font-family: 'Open Sans', verdana, arial, sans-serif; font-size: 12px; fill: rgb(42, 63, 95); fill-opacity: 1; white-space: pre; opacity: 1;\" transform=\"translate(0,845.4572289156623)\">−30.00%</text></g><g class=\"y3tick\"><text text-anchor=\"end\" x=\"117\" y=\"4.199999999999999\" style=\"font-family: 'Open Sans', verdana, arial, sans-serif; font-size: 12px; fill: rgb(42, 63, 95); fill-opacity: 1; white-space: pre; opacity: 1;\" transform=\"translate(0,804.4372289156623)\">−20.00%</text></g><g class=\"y3tick\"><text text-anchor=\"end\" x=\"117\" y=\"4.199999999999999\" style=\"font-family: 'Open Sans', verdana, arial, sans-serif; font-size: 12px; fill: rgb(42, 63, 95); fill-opacity: 1; white-space: pre; opacity: 1;\" transform=\"translate(0,763.4272289156623)\">−10.00%</text></g><g class=\"y3tick\"><text text-anchor=\"end\" x=\"117\" y=\"4.199999999999999\" style=\"font-family: 'Open Sans', verdana, arial, sans-serif; font-size: 12px; fill: rgb(42, 63, 95); fill-opacity: 1; white-space: pre; opacity: 1;\" transform=\"translate(0,722.4072289156624)\">0.00%</text></g></g><g class=\"overaxes-above\"/></g><g class=\"subplot x4y4\"><g class=\"layer-subplot\"><g class=\"shapelayer\"/><g class=\"imagelayer\"/></g><g class=\"gridlayer\"><g class=\"x4\"><path class=\"x4grid crisp\" transform=\"translate(151.92000000000002,0)\" d=\"M0,1004.6108433734939v245.35301204819274\" style=\"stroke: rgb(255, 255, 255); stroke-opacity: 1; stroke-width: 1px;\"/><path class=\"x4grid crisp\" transform=\"translate(285.15999999999997,0)\" d=\"M0,1004.6108433734939v245.35301204819274\" style=\"stroke: rgb(255, 255, 255); stroke-opacity: 1; stroke-width: 1px;\"/><path class=\"x4grid crisp\" transform=\"translate(418.41,0)\" d=\"M0,1004.6108433734939v245.35301204819274\" style=\"stroke: rgb(255, 255, 255); stroke-opacity: 1; stroke-width: 1px;\"/><path class=\"x4grid crisp\" transform=\"translate(551.65,0)\" d=\"M0,1004.6108433734939v245.35301204819274\" style=\"stroke: rgb(255, 255, 255); stroke-opacity: 1; stroke-width: 1px;\"/><path class=\"x4grid crisp\" transform=\"translate(684.9,0)\" d=\"M0,1004.6108433734939v245.35301204819274\" style=\"stroke: rgb(255, 255, 255); stroke-opacity: 1; stroke-width: 1px;\"/></g><g class=\"y4\"><path class=\"y4grid crisp\" transform=\"translate(0,1175.770843373494)\" d=\"M118,0h602\" style=\"stroke: rgb(255, 255, 255); stroke-opacity: 1; stroke-width: 1px;\"/><path class=\"y4grid crisp\" transform=\"translate(0,1136.9808433734938)\" d=\"M118,0h602\" style=\"stroke: rgb(255, 255, 255); stroke-opacity: 1; stroke-width: 1px;\"/><path class=\"y4grid crisp\" transform=\"translate(0,1098.2008433734939)\" d=\"M118,0h602\" style=\"stroke: rgb(255, 255, 255); stroke-opacity: 1; stroke-width: 1px;\"/><path class=\"y4grid crisp\" transform=\"translate(0,1059.410843373494)\" d=\"M118,0h602\" style=\"stroke: rgb(255, 255, 255); stroke-opacity: 1; stroke-width: 1px;\"/><path class=\"y4grid crisp\" transform=\"translate(0,1020.6308433734939)\" d=\"M118,0h602\" style=\"stroke: rgb(255, 255, 255); stroke-opacity: 1; stroke-width: 1px;\"/></g></g><g class=\"zerolinelayer\"><path class=\"y4zl zl crisp\" transform=\"translate(0,1214.550843373494)\" d=\"M118,0h602\" style=\"stroke: rgb(255, 255, 255); stroke-opacity: 1; stroke-width: 2px;\"/></g><path class=\"xlines-below\"/><path class=\"ylines-below\"/><g class=\"overlines-below\"/><g class=\"xaxislayer-below\"/><g class=\"yaxislayer-below\"/><g class=\"overaxes-below\"/><g class=\"plot\" transform=\"translate(118,1004.6108433734939)\" clip-path=\"url(#clip7d9773x4y4plot)\"><g class=\"scatterlayer mlayer\"><g class=\"trace scatter traced3bd8227-75a5-40f1-9217-bdabf8eab42e\" style=\"stroke-miterlimit: 2; opacity: 1;\"><g class=\"fills\"/><g class=\"errorbars\"/><g class=\"lines\"><path class=\"js-line\" d=\"M33.92,209.94L167.16,190.55L300.41,229.34L433.65,209.94L566.9,16.02\" style=\"vector-effect: non-scaling-stroke; fill: none; stroke: rgb(140, 86, 75); stroke-opacity: 1; stroke-width: 2px; opacity: 1;\"/></g><g class=\"points\"><path class=\"point\" transform=\"translate(33.92,209.94)\" d=\"M3,0A3,3 0 1,1 0,-3A3,3 0 0,1 3,0Z\" style=\"opacity: 1; stroke-width: 0px; fill: rgb(140, 86, 75); fill-opacity: 1;\"/><path class=\"point\" transform=\"translate(167.16,190.55)\" d=\"M3,0A3,3 0 1,1 0,-3A3,3 0 0,1 3,0Z\" style=\"opacity: 1; stroke-width: 0px; fill: rgb(140, 86, 75); fill-opacity: 1;\"/><path class=\"point\" transform=\"translate(300.41,229.34)\" d=\"M3,0A3,3 0 1,1 0,-3A3,3 0 0,1 3,0Z\" style=\"opacity: 1; stroke-width: 0px; fill: rgb(140, 86, 75); fill-opacity: 1;\"/><path class=\"point\" transform=\"translate(433.65,209.94)\" d=\"M3,0A3,3 0 1,1 0,-3A3,3 0 0,1 3,0Z\" style=\"opacity: 1; stroke-width: 0px; fill: rgb(140, 86, 75); fill-opacity: 1;\"/><path class=\"point\" transform=\"translate(566.9,16.02)\" d=\"M3,0A3,3 0 1,1 0,-3A3,3 0 0,1 3,0Z\" style=\"opacity: 1; stroke-width: 0px; fill: rgb(140, 86, 75); fill-opacity: 1;\"/></g><g class=\"text\"/></g></g></g><g class=\"overplot\"/><path class=\"xlines-above crisp\" d=\"M0,0\" style=\"fill: none;\"/><path class=\"ylines-above crisp\" d=\"M0,0\" style=\"fill: none;\"/><g class=\"overlines-above\"/><g class=\"xaxislayer-above\"/><g class=\"yaxislayer-above\"><g class=\"y4tick\"><text text-anchor=\"end\" x=\"117\" y=\"4.199999999999999\" transform=\"translate(0,1214.550843373494)\" style=\"font-family: 'Open Sans', verdana, arial, sans-serif; font-size: 12px; fill: rgb(42, 63, 95); fill-opacity: 1; white-space: pre; opacity: 1;\">0</text></g><g class=\"y4tick\"><text text-anchor=\"end\" x=\"117\" y=\"4.199999999999999\" style=\"font-family: 'Open Sans', verdana, arial, sans-serif; font-size: 12px; fill: rgb(42, 63, 95); fill-opacity: 1; white-space: pre; opacity: 1;\" transform=\"translate(0,1175.770843373494)\">0.2</text></g><g class=\"y4tick\"><text text-anchor=\"end\" x=\"117\" y=\"4.199999999999999\" style=\"font-family: 'Open Sans', verdana, arial, sans-serif; font-size: 12px; fill: rgb(42, 63, 95); fill-opacity: 1; white-space: pre; opacity: 1;\" transform=\"translate(0,1136.9808433734938)\">0.4</text></g><g class=\"y4tick\"><text text-anchor=\"end\" x=\"117\" y=\"4.199999999999999\" style=\"font-family: 'Open Sans', verdana, arial, sans-serif; font-size: 12px; fill: rgb(42, 63, 95); fill-opacity: 1; white-space: pre; opacity: 1;\" transform=\"translate(0,1098.2008433734939)\">0.6</text></g><g class=\"y4tick\"><text text-anchor=\"end\" x=\"117\" y=\"4.199999999999999\" style=\"font-family: 'Open Sans', verdana, arial, sans-serif; font-size: 12px; fill: rgb(42, 63, 95); fill-opacity: 1; white-space: pre; opacity: 1;\" transform=\"translate(0,1059.410843373494)\">0.8</text></g><g class=\"y4tick\"><text text-anchor=\"end\" x=\"117\" y=\"4.199999999999999\" style=\"font-family: 'Open Sans', verdana, arial, sans-serif; font-size: 12px; fill: rgb(42, 63, 95); fill-opacity: 1; white-space: pre; opacity: 1;\" transform=\"translate(0,1020.6308433734939)\">1</text></g></g><g class=\"overaxes-above\"/></g><g class=\"subplot x5y5\"><g class=\"layer-subplot\"><g class=\"shapelayer\"/><g class=\"imagelayer\"/></g><g class=\"gridlayer\"><g class=\"x5\"><path class=\"x5grid crisp\" transform=\"translate(151.92000000000002,0)\" d=\"M0,1287.8144578313252v245.35301204819274\" style=\"stroke: rgb(255, 255, 255); stroke-opacity: 1; stroke-width: 1px;\"/><path class=\"x5grid crisp\" transform=\"translate(285.15999999999997,0)\" d=\"M0,1287.8144578313252v245.35301204819274\" style=\"stroke: rgb(255, 255, 255); stroke-opacity: 1; stroke-width: 1px;\"/><path class=\"x5grid crisp\" transform=\"translate(418.41,0)\" d=\"M0,1287.8144578313252v245.35301204819274\" style=\"stroke: rgb(255, 255, 255); stroke-opacity: 1; stroke-width: 1px;\"/><path class=\"x5grid crisp\" transform=\"translate(551.65,0)\" d=\"M0,1287.8144578313252v245.35301204819274\" style=\"stroke: rgb(255, 255, 255); stroke-opacity: 1; stroke-width: 1px;\"/><path class=\"x5grid crisp\" transform=\"translate(684.9,0)\" d=\"M0,1287.8144578313252v245.35301204819274\" style=\"stroke: rgb(255, 255, 255); stroke-opacity: 1; stroke-width: 1px;\"/></g><g class=\"y5\"><path class=\"y5grid crisp\" transform=\"translate(0,1509.2244578313253)\" d=\"M118,0h602\" style=\"stroke: rgb(255, 255, 255); stroke-opacity: 1; stroke-width: 1px;\"/><path class=\"y5grid crisp\" transform=\"translate(0,1469.674457831325)\" d=\"M118,0h602\" style=\"stroke: rgb(255, 255, 255); stroke-opacity: 1; stroke-width: 1px;\"/><path class=\"y5grid crisp\" transform=\"translate(0,1430.134457831325)\" d=\"M118,0h602\" style=\"stroke: rgb(255, 255, 255); stroke-opacity: 1; stroke-width: 1px;\"/><path class=\"y5grid crisp\" transform=\"translate(0,1390.5944578313251)\" d=\"M118,0h602\" style=\"stroke: rgb(255, 255, 255); stroke-opacity: 1; stroke-width: 1px;\"/><path class=\"y5grid crisp\" transform=\"translate(0,1351.0444578313252)\" d=\"M118,0h602\" style=\"stroke: rgb(255, 255, 255); stroke-opacity: 1; stroke-width: 1px;\"/></g></g><g class=\"zerolinelayer\"><path class=\"y5zl zl crisp\" transform=\"translate(0,1311.5044578313252)\" d=\"M118,0h602\" style=\"stroke: rgb(255, 255, 255); stroke-opacity: 1; stroke-width: 2px;\"/></g><path class=\"xlines-below\"/><path class=\"ylines-below\"/><g class=\"overlines-below\"/><g class=\"xaxislayer-below\"/><g class=\"yaxislayer-below\"/><g class=\"overaxes-below\"/><g class=\"plot\" transform=\"translate(118,1287.8144578313252)\" clip-path=\"url(#clip7d9773x5y5plot)\"><g class=\"scatterlayer mlayer\"><g class=\"trace scatter trace198d9f81-e6da-4e57-83e9-ff3eb4c0af7b\" style=\"stroke-miterlimit: 2; opacity: 1;\"><g class=\"fills\"/><g class=\"errorbars\"/><g class=\"lines\"><path class=\"js-line\" d=\"M33.92,23.69L167.16,35.71L300.41,16.02L433.65,23.69L566.9,229.34\" style=\"vector-effect: non-scaling-stroke; fill: none; stroke: rgb(44, 160, 44); stroke-opacity: 1; stroke-width: 2px; opacity: 1;\"/></g><g class=\"points\"><path class=\"point\" transform=\"translate(33.92,23.69)\" d=\"M3,0A3,3 0 1,1 0,-3A3,3 0 0,1 3,0Z\" style=\"opacity: 1; stroke-width: 0px; fill: rgb(44, 160, 44); fill-opacity: 1;\"/><path class=\"point\" transform=\"translate(167.16,35.71)\" d=\"M3,0A3,3 0 1,1 0,-3A3,3 0 0,1 3,0Z\" style=\"opacity: 1; stroke-width: 0px; fill: rgb(44, 160, 44); fill-opacity: 1;\"/><path class=\"point\" transform=\"translate(300.41,16.02)\" d=\"M3,0A3,3 0 1,1 0,-3A3,3 0 0,1 3,0Z\" style=\"opacity: 1; stroke-width: 0px; fill: rgb(44, 160, 44); fill-opacity: 1;\"/><path class=\"point\" transform=\"translate(433.65,23.69)\" d=\"M3,0A3,3 0 1,1 0,-3A3,3 0 0,1 3,0Z\" style=\"opacity: 1; stroke-width: 0px; fill: rgb(44, 160, 44); fill-opacity: 1;\"/><path class=\"point\" transform=\"translate(566.9,229.34)\" d=\"M3,0A3,3 0 1,1 0,-3A3,3 0 0,1 3,0Z\" style=\"opacity: 1; stroke-width: 0px; fill: rgb(44, 160, 44); fill-opacity: 1;\"/></g><g class=\"text\"/></g></g></g><g class=\"overplot\"/><path class=\"xlines-above crisp\" d=\"M0,0\" style=\"fill: none;\"/><path class=\"ylines-above crisp\" d=\"M0,0\" style=\"fill: none;\"/><g class=\"overlines-above\"/><g class=\"xaxislayer-above\"/><g class=\"yaxislayer-above\"><g class=\"y5tick\"><text text-anchor=\"end\" x=\"117\" y=\"4.199999999999999\" transform=\"translate(0,1509.2244578313253)\" style=\"font-family: 'Open Sans', verdana, arial, sans-serif; font-size: 12px; fill: rgb(42, 63, 95); fill-opacity: 1; white-space: pre; opacity: 1;\">−5</text></g><g class=\"y5tick\"><text text-anchor=\"end\" x=\"117\" y=\"4.199999999999999\" style=\"font-family: 'Open Sans', verdana, arial, sans-serif; font-size: 12px; fill: rgb(42, 63, 95); fill-opacity: 1; white-space: pre; opacity: 1;\" transform=\"translate(0,1469.674457831325)\">−4</text></g><g class=\"y5tick\"><text text-anchor=\"end\" x=\"117\" y=\"4.199999999999999\" style=\"font-family: 'Open Sans', verdana, arial, sans-serif; font-size: 12px; fill: rgb(42, 63, 95); fill-opacity: 1; white-space: pre; opacity: 1;\" transform=\"translate(0,1430.134457831325)\">−3</text></g><g class=\"y5tick\"><text text-anchor=\"end\" x=\"117\" y=\"4.199999999999999\" style=\"font-family: 'Open Sans', verdana, arial, sans-serif; font-size: 12px; fill: rgb(42, 63, 95); fill-opacity: 1; white-space: pre; opacity: 1;\" transform=\"translate(0,1390.5944578313251)\">−2</text></g><g class=\"y5tick\"><text text-anchor=\"end\" x=\"117\" y=\"4.199999999999999\" style=\"font-family: 'Open Sans', verdana, arial, sans-serif; font-size: 12px; fill: rgb(42, 63, 95); fill-opacity: 1; white-space: pre; opacity: 1;\" transform=\"translate(0,1351.0444578313252)\">−1</text></g><g class=\"y5tick\"><text text-anchor=\"end\" x=\"117\" y=\"4.199999999999999\" style=\"font-family: 'Open Sans', verdana, arial, sans-serif; font-size: 12px; fill: rgb(42, 63, 95); fill-opacity: 1; white-space: pre; opacity: 1;\" transform=\"translate(0,1311.5044578313252)\">0</text></g></g><g class=\"overaxes-above\"/></g><g class=\"subplot x6y6\"><g class=\"layer-subplot\"><g class=\"shapelayer\"/><g class=\"imagelayer\"/></g><g class=\"gridlayer\"><g class=\"x6\"><path class=\"x6grid crisp\" transform=\"translate(151.92000000000002,0)\" d=\"M0,1571.0180722891566v245.35301204819274\" style=\"stroke: rgb(255, 255, 255); stroke-opacity: 1; stroke-width: 1px;\"/><path class=\"x6grid crisp\" transform=\"translate(285.15999999999997,0)\" d=\"M0,1571.0180722891566v245.35301204819274\" style=\"stroke: rgb(255, 255, 255); stroke-opacity: 1; stroke-width: 1px;\"/><path class=\"x6grid crisp\" transform=\"translate(418.41,0)\" d=\"M0,1571.0180722891566v245.35301204819274\" style=\"stroke: rgb(255, 255, 255); stroke-opacity: 1; stroke-width: 1px;\"/><path class=\"x6grid crisp\" transform=\"translate(551.65,0)\" d=\"M0,1571.0180722891566v245.35301204819274\" style=\"stroke: rgb(255, 255, 255); stroke-opacity: 1; stroke-width: 1px;\"/><path class=\"x6grid crisp\" transform=\"translate(684.9,0)\" d=\"M0,1571.0180722891566v245.35301204819274\" style=\"stroke: rgb(255, 255, 255); stroke-opacity: 1; stroke-width: 1px;\"/></g><g class=\"y6\"><path class=\"y6grid crisp\" transform=\"translate(0,1757.6880722891567)\" d=\"M118,0h602\" style=\"stroke: rgb(255, 255, 255); stroke-opacity: 1; stroke-width: 1px;\"/><path class=\"y6grid crisp\" transform=\"translate(0,1715.0280722891566)\" d=\"M118,0h602\" style=\"stroke: rgb(255, 255, 255); stroke-opacity: 1; stroke-width: 1px;\"/><path class=\"y6grid crisp\" transform=\"translate(0,1672.3580722891566)\" d=\"M118,0h602\" style=\"stroke: rgb(255, 255, 255); stroke-opacity: 1; stroke-width: 1px;\"/><path class=\"y6grid crisp\" transform=\"translate(0,1629.6980722891567)\" d=\"M118,0h602\" style=\"stroke: rgb(255, 255, 255); stroke-opacity: 1; stroke-width: 1px;\"/><path class=\"y6grid crisp\" transform=\"translate(0,1587.0380722891566)\" d=\"M118,0h602\" style=\"stroke: rgb(255, 255, 255); stroke-opacity: 1; stroke-width: 1px;\"/></g></g><g class=\"zerolinelayer\"><path class=\"y6zl zl crisp\" transform=\"translate(0,1800.3580722891566)\" d=\"M118,0h602\" style=\"stroke: rgb(255, 255, 255); stroke-opacity: 1; stroke-width: 2px;\"/></g><path class=\"xlines-below\"/><path class=\"ylines-below\"/><g class=\"overlines-below\"/><g class=\"xaxislayer-below\"/><g class=\"yaxislayer-below\"/><g class=\"overaxes-below\"/><g class=\"plot\" transform=\"translate(118,1571.0180722891566)\" clip-path=\"url(#clip7d9773x6y6plot)\"><g class=\"scatterlayer mlayer\"><g class=\"trace scatter traceed55f08c-6172-454f-bfb3-de60e6ec5af5\" style=\"stroke-miterlimit: 2;\"><g class=\"fills\"><g><path class=\"js-fill\" d=\"M33.92,229.34L167.16,208L300.41,229.34L433.65,229.34L566.9,16.02L566.9,229.34L33.92,229.34Z\" style=\"fill: rgb(140, 86, 75); fill-opacity: 0.3; stroke-width: 0;\"/></g></g><g class=\"errorbars\"/><g class=\"lines\"><path class=\"js-line\" d=\"M33.92,229.34L566.9,229.34\" style=\"vector-effect: non-scaling-stroke; fill: none; stroke: rgb(0, 0, 0); stroke-opacity: 0; stroke-width: 0px; opacity: 1;\"/></g><g class=\"points\"><path class=\"point\" transform=\"translate(33.92,229.34)\" d=\"M3,0A3,3 0 1,1 0,-3A3,3 0 0,1 3,0Z\" style=\"opacity: 1; stroke-width: 0px; fill: rgb(0, 0, 0); fill-opacity: 0;\"/><path class=\"point\" transform=\"translate(167.16,229.34)\" d=\"M3,0A3,3 0 1,1 0,-3A3,3 0 0,1 3,0Z\" style=\"opacity: 1; stroke-width: 0px; fill: rgb(0, 0, 0); fill-opacity: 0;\"/><path class=\"point\" transform=\"translate(300.41,229.34)\" d=\"M3,0A3,3 0 1,1 0,-3A3,3 0 0,1 3,0Z\" style=\"opacity: 1; stroke-width: 0px; fill: rgb(0, 0, 0); fill-opacity: 0;\"/><path class=\"point\" transform=\"translate(433.65,229.34)\" d=\"M3,0A3,3 0 1,1 0,-3A3,3 0 0,1 3,0Z\" style=\"opacity: 1; stroke-width: 0px; fill: rgb(0, 0, 0); fill-opacity: 0;\"/><path class=\"point\" transform=\"translate(566.9,229.34)\" d=\"M3,0A3,3 0 1,1 0,-3A3,3 0 0,1 3,0Z\" style=\"opacity: 1; stroke-width: 0px; fill: rgb(0, 0, 0); fill-opacity: 0;\"/></g><g class=\"text\"/></g><g class=\"trace scatter trace4230ffca-be9d-4fd0-98a6-f4a8a2354094\" style=\"stroke-miterlimit: 2;\"><g class=\"fills\"/><g class=\"errorbars\"/><g class=\"lines\"><path class=\"js-line\" d=\"M33.92,229.34L167.16,208L300.41,229.34L433.65,229.34L566.9,16.02\" style=\"vector-effect: non-scaling-stroke; fill: none; stroke: rgb(0, 0, 0); stroke-opacity: 0; stroke-width: 0px; opacity: 1;\"/></g><g class=\"points\"><path class=\"point\" transform=\"translate(33.92,229.34)\" d=\"M3,0A3,3 0 1,1 0,-3A3,3 0 0,1 3,0Z\" style=\"opacity: 1; stroke-width: 0px; fill: rgb(0, 0, 0); fill-opacity: 0;\"/><path class=\"point\" transform=\"translate(167.16,208)\" d=\"M3,0A3,3 0 1,1 0,-3A3,3 0 0,1 3,0Z\" style=\"opacity: 1; stroke-width: 0px; fill: rgb(0, 0, 0); fill-opacity: 0;\"/><path class=\"point\" transform=\"translate(300.41,229.34)\" d=\"M3,0A3,3 0 1,1 0,-3A3,3 0 0,1 3,0Z\" style=\"opacity: 1; stroke-width: 0px; fill: rgb(0, 0, 0); fill-opacity: 0;\"/><path class=\"point\" transform=\"translate(433.65,229.34)\" d=\"M3,0A3,3 0 1,1 0,-3A3,3 0 0,1 3,0Z\" style=\"opacity: 1; stroke-width: 0px; fill: rgb(0, 0, 0); fill-opacity: 0;\"/><path class=\"point\" transform=\"translate(566.9,16.02)\" d=\"M3,0A3,3 0 1,1 0,-3A3,3 0 0,1 3,0Z\" style=\"opacity: 1; stroke-width: 0px; fill: rgb(0, 0, 0); fill-opacity: 0;\"/></g><g class=\"text\"/></g><g class=\"trace scatter tracebc35ddb4-1499-4fa0-ac87-95b02476a914\" style=\"stroke-miterlimit: 2; opacity: 1;\"><g class=\"fills\"/><g class=\"errorbars\"/><g class=\"lines\"><path class=\"js-line\" d=\"M33.92,229.34L167.16,208L300.41,229.34L433.65,229.34L566.9,16.02\" style=\"vector-effect: non-scaling-stroke; fill: none; stroke: rgb(140, 86, 75); stroke-opacity: 1; stroke-width: 2px; opacity: 1;\"/></g><g class=\"points\"><path class=\"point\" transform=\"translate(33.92,229.34)\" d=\"M3,0A3,3 0 1,1 0,-3A3,3 0 0,1 3,0Z\" style=\"opacity: 1; stroke-width: 0px; fill: rgb(140, 86, 75); fill-opacity: 1;\"/><path class=\"point\" transform=\"translate(167.16,208)\" d=\"M3,0A3,3 0 1,1 0,-3A3,3 0 0,1 3,0Z\" style=\"opacity: 1; stroke-width: 0px; fill: rgb(140, 86, 75); fill-opacity: 1;\"/><path class=\"point\" transform=\"translate(300.41,229.34)\" d=\"M3,0A3,3 0 1,1 0,-3A3,3 0 0,1 3,0Z\" style=\"opacity: 1; stroke-width: 0px; fill: rgb(140, 86, 75); fill-opacity: 1;\"/><path class=\"point\" transform=\"translate(433.65,229.34)\" d=\"M3,0A3,3 0 1,1 0,-3A3,3 0 0,1 3,0Z\" style=\"opacity: 1; stroke-width: 0px; fill: rgb(140, 86, 75); fill-opacity: 1;\"/><path class=\"point\" transform=\"translate(566.9,16.02)\" d=\"M3,0A3,3 0 1,1 0,-3A3,3 0 0,1 3,0Z\" style=\"opacity: 1; stroke-width: 0px; fill: rgb(140, 86, 75); fill-opacity: 1;\"/></g><g class=\"text\"/></g><g class=\"trace scatter trace4b3c82e0-4169-49db-a750-993b6ff55652\" style=\"stroke-miterlimit: 2; opacity: 0;\"><g class=\"fills\"/><g class=\"errorbars\"/><g class=\"lines\"><path class=\"js-line\" d=\"M33.92,229.34L566.9,229.34\" style=\"vector-effect: non-scaling-stroke; fill: none; stroke: rgb(0, 0, 0); stroke-opacity: 0; stroke-width: 0px; opacity: 1;\"/></g><g class=\"points\"><path class=\"point\" transform=\"translate(33.92,229.34)\" d=\"M3,0A3,3 0 1,1 0,-3A3,3 0 0,1 3,0Z\" style=\"opacity: 1; stroke-width: 0px; fill: rgb(0, 0, 0); fill-opacity: 0;\"/><path class=\"point\" transform=\"translate(167.16,229.34)\" d=\"M3,0A3,3 0 1,1 0,-3A3,3 0 0,1 3,0Z\" style=\"opacity: 1; stroke-width: 0px; fill: rgb(0, 0, 0); fill-opacity: 0;\"/><path class=\"point\" transform=\"translate(300.41,229.34)\" d=\"M3,0A3,3 0 1,1 0,-3A3,3 0 0,1 3,0Z\" style=\"opacity: 1; stroke-width: 0px; fill: rgb(0, 0, 0); fill-opacity: 0;\"/><path class=\"point\" transform=\"translate(433.65,229.34)\" d=\"M3,0A3,3 0 1,1 0,-3A3,3 0 0,1 3,0Z\" style=\"opacity: 1; stroke-width: 0px; fill: rgb(0, 0, 0); fill-opacity: 0;\"/><path class=\"point\" transform=\"translate(566.9,229.34)\" d=\"M3,0A3,3 0 1,1 0,-3A3,3 0 0,1 3,0Z\" style=\"opacity: 1; stroke-width: 0px; fill: rgb(0, 0, 0); fill-opacity: 0;\"/></g><g class=\"text\"/></g></g></g><g class=\"overplot\"/><path class=\"xlines-above crisp\" d=\"M0,0\" style=\"fill: none;\"/><path class=\"ylines-above crisp\" d=\"M0,0\" style=\"fill: none;\"/><g class=\"overlines-above\"/><g class=\"xaxislayer-above\"/><g class=\"yaxislayer-above\"><g class=\"y6tick\"><text text-anchor=\"end\" x=\"117\" y=\"4.199999999999999\" transform=\"translate(0,1800.3580722891566)\" style=\"font-family: 'Open Sans', verdana, arial, sans-serif; font-size: 12px; fill: rgb(42, 63, 95); fill-opacity: 1; white-space: pre; opacity: 1;\">0</text></g><g class=\"y6tick\"><text text-anchor=\"end\" x=\"117\" y=\"4.199999999999999\" style=\"font-family: 'Open Sans', verdana, arial, sans-serif; font-size: 12px; fill: rgb(42, 63, 95); fill-opacity: 1; white-space: pre; opacity: 1;\" transform=\"translate(0,1757.6880722891567)\">0.2</text></g><g class=\"y6tick\"><text text-anchor=\"end\" x=\"117\" y=\"4.199999999999999\" style=\"font-family: 'Open Sans', verdana, arial, sans-serif; font-size: 12px; fill: rgb(42, 63, 95); fill-opacity: 1; white-space: pre; opacity: 1;\" transform=\"translate(0,1715.0280722891566)\">0.4</text></g><g class=\"y6tick\"><text text-anchor=\"end\" x=\"117\" y=\"4.199999999999999\" style=\"font-family: 'Open Sans', verdana, arial, sans-serif; font-size: 12px; fill: rgb(42, 63, 95); fill-opacity: 1; white-space: pre; opacity: 1;\" transform=\"translate(0,1672.3580722891566)\">0.6</text></g><g class=\"y6tick\"><text text-anchor=\"end\" x=\"117\" y=\"4.199999999999999\" style=\"font-family: 'Open Sans', verdana, arial, sans-serif; font-size: 12px; fill: rgb(42, 63, 95); fill-opacity: 1; white-space: pre; opacity: 1;\" transform=\"translate(0,1629.6980722891567)\">0.8</text></g><g class=\"y6tick\"><text text-anchor=\"end\" x=\"117\" y=\"4.199999999999999\" style=\"font-family: 'Open Sans', verdana, arial, sans-serif; font-size: 12px; fill: rgb(42, 63, 95); fill-opacity: 1; white-space: pre; opacity: 1;\" transform=\"translate(0,1587.0380722891566)\">1</text></g></g><g class=\"overaxes-above\"/></g><g class=\"subplot x7y7\"><g class=\"layer-subplot\"><g class=\"shapelayer\"/><g class=\"imagelayer\"/></g><g class=\"gridlayer\"><g class=\"x7\"><path class=\"x7grid crisp\" transform=\"translate(151.92000000000002,0)\" d=\"M0,1854.2216867469879v245.35301204819274\" style=\"stroke: rgb(255, 255, 255); stroke-opacity: 1; stroke-width: 1px;\"/><path class=\"x7grid crisp\" transform=\"translate(285.15999999999997,0)\" d=\"M0,1854.2216867469879v245.35301204819274\" style=\"stroke: rgb(255, 255, 255); stroke-opacity: 1; stroke-width: 1px;\"/><path class=\"x7grid crisp\" transform=\"translate(418.41,0)\" d=\"M0,1854.2216867469879v245.35301204819274\" style=\"stroke: rgb(255, 255, 255); stroke-opacity: 1; stroke-width: 1px;\"/><path class=\"x7grid crisp\" transform=\"translate(551.65,0)\" d=\"M0,1854.2216867469879v245.35301204819274\" style=\"stroke: rgb(255, 255, 255); stroke-opacity: 1; stroke-width: 1px;\"/><path class=\"x7grid crisp\" transform=\"translate(684.9,0)\" d=\"M0,1854.2216867469879v245.35301204819274\" style=\"stroke: rgb(255, 255, 255); stroke-opacity: 1; stroke-width: 1px;\"/></g><g class=\"y7\"><path class=\"y7grid crisp\" transform=\"translate(0,2071.081686746988)\" d=\"M118,0h602\" style=\"stroke: rgb(255, 255, 255); stroke-opacity: 1; stroke-width: 1px;\"/><path class=\"y7grid crisp\" transform=\"translate(0,2030.911686746988)\" d=\"M118,0h602\" style=\"stroke: rgb(255, 255, 255); stroke-opacity: 1; stroke-width: 1px;\"/><path class=\"y7grid crisp\" transform=\"translate(0,1990.7516867469878)\" d=\"M118,0h602\" style=\"stroke: rgb(255, 255, 255); stroke-opacity: 1; stroke-width: 1px;\"/><path class=\"y7grid crisp\" transform=\"translate(0,1950.5816867469878)\" d=\"M118,0h602\" style=\"stroke: rgb(255, 255, 255); stroke-opacity: 1; stroke-width: 1px;\"/><path class=\"y7grid crisp\" transform=\"translate(0,1910.411686746988)\" d=\"M118,0h602\" style=\"stroke: rgb(255, 255, 255); stroke-opacity: 1; stroke-width: 1px;\"/><path class=\"y7grid crisp\" transform=\"translate(0,1870.2416867469879)\" d=\"M118,0h602\" style=\"stroke: rgb(255, 255, 255); stroke-opacity: 1; stroke-width: 1px;\"/></g></g><g class=\"zerolinelayer\"/><path class=\"xlines-below\"/><path class=\"ylines-below\"/><g class=\"overlines-below\"/><g class=\"xaxislayer-below\"/><g class=\"yaxislayer-below\"/><g class=\"overaxes-below\"/><g class=\"plot\" transform=\"translate(118,1854.2216867469879)\" clip-path=\"url(#clip7d9773x7y7plot)\"><g class=\"scatterlayer mlayer\"><g class=\"trace scatter trace6043d2c3-f227-402f-bf7f-6d6cff3712ba\" style=\"stroke-miterlimit: 2;\"><g class=\"fills\"><g><path class=\"js-fill\" d=\"M33.92,16.02L167.16,28.23L300.41,20.44L433.65,20.44L566.9,229.34L566.9,16.02L33.92,16.02Z\" style=\"fill: rgb(220, 57, 18); fill-opacity: 0.3; stroke-width: 0;\"/></g></g><g class=\"errorbars\"/><g class=\"lines\"><path class=\"js-line\" d=\"M33.92,16.02L566.9,16.02\" style=\"vector-effect: non-scaling-stroke; fill: none; stroke: rgb(0, 0, 0); stroke-opacity: 0; stroke-width: 0px; opacity: 1;\"/></g><g class=\"points\"><path class=\"point\" transform=\"translate(33.92,16.02)\" d=\"M3,0A3,3 0 1,1 0,-3A3,3 0 0,1 3,0Z\" style=\"opacity: 1; stroke-width: 0px; fill: rgb(0, 0, 0); fill-opacity: 0;\"/><path class=\"point\" transform=\"translate(167.16,16.02)\" d=\"M3,0A3,3 0 1,1 0,-3A3,3 0 0,1 3,0Z\" style=\"opacity: 1; stroke-width: 0px; fill: rgb(0, 0, 0); fill-opacity: 0;\"/><path class=\"point\" transform=\"translate(300.41,16.02)\" d=\"M3,0A3,3 0 1,1 0,-3A3,3 0 0,1 3,0Z\" style=\"opacity: 1; stroke-width: 0px; fill: rgb(0, 0, 0); fill-opacity: 0;\"/><path class=\"point\" transform=\"translate(433.65,16.02)\" d=\"M3,0A3,3 0 1,1 0,-3A3,3 0 0,1 3,0Z\" style=\"opacity: 1; stroke-width: 0px; fill: rgb(0, 0, 0); fill-opacity: 0;\"/><path class=\"point\" transform=\"translate(566.9,16.02)\" d=\"M3,0A3,3 0 1,1 0,-3A3,3 0 0,1 3,0Z\" style=\"opacity: 1; stroke-width: 0px; fill: rgb(0, 0, 0); fill-opacity: 0;\"/></g><g class=\"text\"/></g><g class=\"trace scatter traced5c06ddb-2ada-4d99-88b6-d62c8a375879\" style=\"stroke-miterlimit: 2;\"><g class=\"fills\"/><g class=\"errorbars\"/><g class=\"lines\"><path class=\"js-line\" d=\"M33.92,16.02L167.16,28.23L300.41,20.44L433.65,20.44L566.9,229.34\" style=\"vector-effect: non-scaling-stroke; fill: none; stroke: rgb(0, 0, 0); stroke-opacity: 0; stroke-width: 0px; opacity: 1;\"/></g><g class=\"points\"><path class=\"point\" transform=\"translate(33.92,16.02)\" d=\"M3,0A3,3 0 1,1 0,-3A3,3 0 0,1 3,0Z\" style=\"opacity: 1; stroke-width: 0px; fill: rgb(0, 0, 0); fill-opacity: 0;\"/><path class=\"point\" transform=\"translate(167.16,28.23)\" d=\"M3,0A3,3 0 1,1 0,-3A3,3 0 0,1 3,0Z\" style=\"opacity: 1; stroke-width: 0px; fill: rgb(0, 0, 0); fill-opacity: 0;\"/><path class=\"point\" transform=\"translate(300.41,20.44)\" d=\"M3,0A3,3 0 1,1 0,-3A3,3 0 0,1 3,0Z\" style=\"opacity: 1; stroke-width: 0px; fill: rgb(0, 0, 0); fill-opacity: 0;\"/><path class=\"point\" transform=\"translate(433.65,20.44)\" d=\"M3,0A3,3 0 1,1 0,-3A3,3 0 0,1 3,0Z\" style=\"opacity: 1; stroke-width: 0px; fill: rgb(0, 0, 0); fill-opacity: 0;\"/><path class=\"point\" transform=\"translate(566.9,229.34)\" d=\"M3,0A3,3 0 1,1 0,-3A3,3 0 0,1 3,0Z\" style=\"opacity: 1; stroke-width: 0px; fill: rgb(0, 0, 0); fill-opacity: 0;\"/></g><g class=\"text\"/></g><g class=\"trace scatter traced6f4f83b-662b-43e1-b4e8-d8176d14b2cd\" style=\"stroke-miterlimit: 2; opacity: 1;\"><g class=\"fills\"/><g class=\"errorbars\"/><g class=\"lines\"><path class=\"js-line\" d=\"M33.92,16.02L167.16,28.23L300.41,20.44L433.65,20.44L566.9,229.34\" style=\"vector-effect: non-scaling-stroke; fill: none; stroke: rgb(44, 160, 44); stroke-opacity: 1; stroke-width: 2px; opacity: 1;\"/></g><g class=\"points\"><path class=\"point\" transform=\"translate(33.92,16.02)\" d=\"M3,0A3,3 0 1,1 0,-3A3,3 0 0,1 3,0Z\" style=\"opacity: 1; stroke-width: 0px; fill: rgb(44, 160, 44); fill-opacity: 1;\"/><path class=\"point\" transform=\"translate(167.16,28.23)\" d=\"M3,0A3,3 0 1,1 0,-3A3,3 0 0,1 3,0Z\" style=\"opacity: 1; stroke-width: 0px; fill: rgb(44, 160, 44); fill-opacity: 1;\"/><path class=\"point\" transform=\"translate(300.41,20.44)\" d=\"M3,0A3,3 0 1,1 0,-3A3,3 0 0,1 3,0Z\" style=\"opacity: 1; stroke-width: 0px; fill: rgb(44, 160, 44); fill-opacity: 1;\"/><path class=\"point\" transform=\"translate(433.65,20.44)\" d=\"M3,0A3,3 0 1,1 0,-3A3,3 0 0,1 3,0Z\" style=\"opacity: 1; stroke-width: 0px; fill: rgb(44, 160, 44); fill-opacity: 1;\"/><path class=\"point\" transform=\"translate(566.9,229.34)\" d=\"M3,0A3,3 0 1,1 0,-3A3,3 0 0,1 3,0Z\" style=\"opacity: 1; stroke-width: 0px; fill: rgb(44, 160, 44); fill-opacity: 1;\"/></g><g class=\"text\"/></g><g class=\"trace scatter trace772fa41a-19fb-4e36-a9cf-707ed6a77d94\" style=\"stroke-miterlimit: 2; opacity: 0;\"><g class=\"fills\"/><g class=\"errorbars\"/><g class=\"lines\"><path class=\"js-line\" d=\"M33.92,16.02L566.9,16.02\" style=\"vector-effect: non-scaling-stroke; fill: none; stroke: rgb(0, 0, 0); stroke-opacity: 0; stroke-width: 0px; opacity: 1;\"/></g><g class=\"points\"><path class=\"point\" transform=\"translate(33.92,16.02)\" d=\"M3,0A3,3 0 1,1 0,-3A3,3 0 0,1 3,0Z\" style=\"opacity: 1; stroke-width: 0px; fill: rgb(0, 0, 0); fill-opacity: 0;\"/><path class=\"point\" transform=\"translate(167.16,16.02)\" d=\"M3,0A3,3 0 1,1 0,-3A3,3 0 0,1 3,0Z\" style=\"opacity: 1; stroke-width: 0px; fill: rgb(0, 0, 0); fill-opacity: 0;\"/><path class=\"point\" transform=\"translate(300.41,16.02)\" d=\"M3,0A3,3 0 1,1 0,-3A3,3 0 0,1 3,0Z\" style=\"opacity: 1; stroke-width: 0px; fill: rgb(0, 0, 0); fill-opacity: 0;\"/><path class=\"point\" transform=\"translate(433.65,16.02)\" d=\"M3,0A3,3 0 1,1 0,-3A3,3 0 0,1 3,0Z\" style=\"opacity: 1; stroke-width: 0px; fill: rgb(0, 0, 0); fill-opacity: 0;\"/><path class=\"point\" transform=\"translate(566.9,16.02)\" d=\"M3,0A3,3 0 1,1 0,-3A3,3 0 0,1 3,0Z\" style=\"opacity: 1; stroke-width: 0px; fill: rgb(0, 0, 0); fill-opacity: 0;\"/></g><g class=\"text\"/></g></g></g><g class=\"overplot\"/><path class=\"xlines-above crisp\" d=\"M0,0\" style=\"fill: none;\"/><path class=\"ylines-above crisp\" d=\"M0,0\" style=\"fill: none;\"/><g class=\"overlines-above\"/><g class=\"xaxislayer-above\"/><g class=\"yaxislayer-above\"><g class=\"y7tick\"><text text-anchor=\"end\" x=\"117\" y=\"4.199999999999999\" transform=\"translate(0,2071.081686746988)\" style=\"font-family: 'Open Sans', verdana, arial, sans-serif; font-size: 12px; fill: rgb(42, 63, 95); fill-opacity: 1; white-space: pre; opacity: 1;\">195</text></g><g class=\"y7tick\"><text text-anchor=\"end\" x=\"117\" y=\"4.199999999999999\" style=\"font-family: 'Open Sans', verdana, arial, sans-serif; font-size: 12px; fill: rgb(42, 63, 95); fill-opacity: 1; white-space: pre; opacity: 1;\" transform=\"translate(0,2030.911686746988)\">196</text></g><g class=\"y7tick\"><text text-anchor=\"end\" x=\"117\" y=\"4.199999999999999\" style=\"font-family: 'Open Sans', verdana, arial, sans-serif; font-size: 12px; fill: rgb(42, 63, 95); fill-opacity: 1; white-space: pre; opacity: 1;\" transform=\"translate(0,1990.7516867469878)\">197</text></g><g class=\"y7tick\"><text text-anchor=\"end\" x=\"117\" y=\"4.199999999999999\" style=\"font-family: 'Open Sans', verdana, arial, sans-serif; font-size: 12px; fill: rgb(42, 63, 95); fill-opacity: 1; white-space: pre; opacity: 1;\" transform=\"translate(0,1950.5816867469878)\">198</text></g><g class=\"y7tick\"><text text-anchor=\"end\" x=\"117\" y=\"4.199999999999999\" style=\"font-family: 'Open Sans', verdana, arial, sans-serif; font-size: 12px; fill: rgb(42, 63, 95); fill-opacity: 1; white-space: pre; opacity: 1;\" transform=\"translate(0,1910.411686746988)\">199</text></g><g class=\"y7tick\"><text text-anchor=\"end\" x=\"117\" y=\"4.199999999999999\" style=\"font-family: 'Open Sans', verdana, arial, sans-serif; font-size: 12px; fill: rgb(42, 63, 95); fill-opacity: 1; white-space: pre; opacity: 1;\" transform=\"translate(0,1870.2416867469879)\">200</text></g></g><g class=\"overaxes-above\"/></g><g class=\"subplot x8y8\"><g class=\"layer-subplot\"><g class=\"shapelayer\"/><g class=\"imagelayer\"/></g><g class=\"gridlayer\"><g class=\"x8\"><path class=\"x8grid crisp\" transform=\"translate(151.92000000000002,0)\" d=\"M0,2137.425301204819v245.35301204819274\" style=\"stroke: rgb(255, 255, 255); stroke-opacity: 1; stroke-width: 1px;\"/><path class=\"x8grid crisp\" transform=\"translate(285.15999999999997,0)\" d=\"M0,2137.425301204819v245.35301204819274\" style=\"stroke: rgb(255, 255, 255); stroke-opacity: 1; stroke-width: 1px;\"/><path class=\"x8grid crisp\" transform=\"translate(418.41,0)\" d=\"M0,2137.425301204819v245.35301204819274\" style=\"stroke: rgb(255, 255, 255); stroke-opacity: 1; stroke-width: 1px;\"/><path class=\"x8grid crisp\" transform=\"translate(551.65,0)\" d=\"M0,2137.425301204819v245.35301204819274\" style=\"stroke: rgb(255, 255, 255); stroke-opacity: 1; stroke-width: 1px;\"/><path class=\"x8grid crisp\" transform=\"translate(684.9,0)\" d=\"M0,2137.425301204819v245.35301204819274\" style=\"stroke: rgb(255, 255, 255); stroke-opacity: 1; stroke-width: 1px;\"/></g><g class=\"y8\"><path class=\"y8grid crisp\" transform=\"translate(0,2324.095301204819)\" d=\"M118,0h602\" style=\"stroke: rgb(255, 255, 255); stroke-opacity: 1; stroke-width: 1px;\"/><path class=\"y8grid crisp\" transform=\"translate(0,2281.4353012048186)\" d=\"M118,0h602\" style=\"stroke: rgb(255, 255, 255); stroke-opacity: 1; stroke-width: 1px;\"/><path class=\"y8grid crisp\" transform=\"translate(0,2238.765301204819)\" d=\"M118,0h602\" style=\"stroke: rgb(255, 255, 255); stroke-opacity: 1; stroke-width: 1px;\"/><path class=\"y8grid crisp\" transform=\"translate(0,2196.1053012048187)\" d=\"M118,0h602\" style=\"stroke: rgb(255, 255, 255); stroke-opacity: 1; stroke-width: 1px;\"/><path class=\"y8grid crisp\" transform=\"translate(0,2153.445301204819)\" d=\"M118,0h602\" style=\"stroke: rgb(255, 255, 255); stroke-opacity: 1; stroke-width: 1px;\"/></g></g><g class=\"zerolinelayer\"><path class=\"y8zl zl crisp\" transform=\"translate(0,2366.765301204819)\" d=\"M118,0h602\" style=\"stroke: rgb(255, 255, 255); stroke-opacity: 1; stroke-width: 2px;\"/></g><path class=\"xlines-below\"/><path class=\"ylines-below\"/><g class=\"overlines-below\"/><g class=\"xaxislayer-below\"/><g class=\"yaxislayer-below\"/><g class=\"overaxes-below\"/><g class=\"plot\" transform=\"translate(118,2137.425301204819)\" clip-path=\"url(#clip7d9773x8y8plot)\"><g class=\"scatterlayer mlayer\"><g class=\"trace scatter trace448772a8-4a76-43c0-a786-0e5e6863fc05\" style=\"stroke-miterlimit: 2;\"><g class=\"fills\"><g><path class=\"js-fill\" d=\"M33.92,229.34L167.16,220.8L300.41,229.34L433.65,229.34L566.9,16.02L566.9,229.34L33.92,229.34Z\" style=\"fill: rgb(23, 190, 207); fill-opacity: 0.3; stroke-width: 0;\"/></g></g><g class=\"errorbars\"/><g class=\"lines\"><path class=\"js-line\" d=\"M33.92,229.34L566.9,229.34\" style=\"vector-effect: non-scaling-stroke; fill: none; stroke: rgb(0, 0, 0); stroke-opacity: 0; stroke-width: 0px; opacity: 1;\"/></g><g class=\"points\"><path class=\"point\" transform=\"translate(33.92,229.34)\" d=\"M3,0A3,3 0 1,1 0,-3A3,3 0 0,1 3,0Z\" style=\"opacity: 1; stroke-width: 0px; fill: rgb(0, 0, 0); fill-opacity: 0;\"/><path class=\"point\" transform=\"translate(167.16,229.34)\" d=\"M3,0A3,3 0 1,1 0,-3A3,3 0 0,1 3,0Z\" style=\"opacity: 1; stroke-width: 0px; fill: rgb(0, 0, 0); fill-opacity: 0;\"/><path class=\"point\" transform=\"translate(300.41,229.34)\" d=\"M3,0A3,3 0 1,1 0,-3A3,3 0 0,1 3,0Z\" style=\"opacity: 1; stroke-width: 0px; fill: rgb(0, 0, 0); fill-opacity: 0;\"/><path class=\"point\" transform=\"translate(433.65,229.34)\" d=\"M3,0A3,3 0 1,1 0,-3A3,3 0 0,1 3,0Z\" style=\"opacity: 1; stroke-width: 0px; fill: rgb(0, 0, 0); fill-opacity: 0;\"/><path class=\"point\" transform=\"translate(566.9,229.34)\" d=\"M3,0A3,3 0 1,1 0,-3A3,3 0 0,1 3,0Z\" style=\"opacity: 1; stroke-width: 0px; fill: rgb(0, 0, 0); fill-opacity: 0;\"/></g><g class=\"text\"/></g><g class=\"trace scatter trace75e533cf-1a70-4d4d-819d-4f994f584ec1\" style=\"stroke-miterlimit: 2;\"><g class=\"fills\"/><g class=\"errorbars\"/><g class=\"lines\"><path class=\"js-line\" d=\"M33.92,229.34L167.16,220.8L300.41,229.34L433.65,229.34L566.9,16.02\" style=\"vector-effect: non-scaling-stroke; fill: none; stroke: rgb(0, 0, 0); stroke-opacity: 0; stroke-width: 0px; opacity: 1;\"/></g><g class=\"points\"><path class=\"point\" transform=\"translate(33.92,229.34)\" d=\"M3,0A3,3 0 1,1 0,-3A3,3 0 0,1 3,0Z\" style=\"opacity: 1; stroke-width: 0px; fill: rgb(0, 0, 0); fill-opacity: 0;\"/><path class=\"point\" transform=\"translate(167.16,220.8)\" d=\"M3,0A3,3 0 1,1 0,-3A3,3 0 0,1 3,0Z\" style=\"opacity: 1; stroke-width: 0px; fill: rgb(0, 0, 0); fill-opacity: 0;\"/><path class=\"point\" transform=\"translate(300.41,229.34)\" d=\"M3,0A3,3 0 1,1 0,-3A3,3 0 0,1 3,0Z\" style=\"opacity: 1; stroke-width: 0px; fill: rgb(0, 0, 0); fill-opacity: 0;\"/><path class=\"point\" transform=\"translate(433.65,229.34)\" d=\"M3,0A3,3 0 1,1 0,-3A3,3 0 0,1 3,0Z\" style=\"opacity: 1; stroke-width: 0px; fill: rgb(0, 0, 0); fill-opacity: 0;\"/><path class=\"point\" transform=\"translate(566.9,16.02)\" d=\"M3,0A3,3 0 1,1 0,-3A3,3 0 0,1 3,0Z\" style=\"opacity: 1; stroke-width: 0px; fill: rgb(0, 0, 0); fill-opacity: 0;\"/></g><g class=\"text\"/></g><g class=\"trace scatter tracefd00b1ed-1ea9-4f90-988a-4039775d96bc\" style=\"stroke-miterlimit: 2; opacity: 1;\"><g class=\"fills\"/><g class=\"errorbars\"/><g class=\"lines\"><path class=\"js-line\" d=\"M33.92,229.34L167.16,220.8L300.41,229.34L433.65,229.34L566.9,16.02\" style=\"vector-effect: non-scaling-stroke; fill: none; stroke: rgb(23, 190, 207); stroke-opacity: 1; stroke-width: 2px; opacity: 1;\"/></g><g class=\"points\"><path class=\"point\" transform=\"translate(33.92,229.34)\" d=\"M3,0A3,3 0 1,1 0,-3A3,3 0 0,1 3,0Z\" style=\"opacity: 1; stroke-width: 0px; fill: rgb(23, 190, 207); fill-opacity: 1;\"/><path class=\"point\" transform=\"translate(167.16,220.8)\" d=\"M3,0A3,3 0 1,1 0,-3A3,3 0 0,1 3,0Z\" style=\"opacity: 1; stroke-width: 0px; fill: rgb(23, 190, 207); fill-opacity: 1;\"/><path class=\"point\" transform=\"translate(300.41,229.34)\" d=\"M3,0A3,3 0 1,1 0,-3A3,3 0 0,1 3,0Z\" style=\"opacity: 1; stroke-width: 0px; fill: rgb(23, 190, 207); fill-opacity: 1;\"/><path class=\"point\" transform=\"translate(433.65,229.34)\" d=\"M3,0A3,3 0 1,1 0,-3A3,3 0 0,1 3,0Z\" style=\"opacity: 1; stroke-width: 0px; fill: rgb(23, 190, 207); fill-opacity: 1;\"/><path class=\"point\" transform=\"translate(566.9,16.02)\" d=\"M3,0A3,3 0 1,1 0,-3A3,3 0 0,1 3,0Z\" style=\"opacity: 1; stroke-width: 0px; fill: rgb(23, 190, 207); fill-opacity: 1;\"/></g><g class=\"text\"/></g><g class=\"trace scatter trace777b51b0-665c-4c56-b162-93f999411c78\" style=\"stroke-miterlimit: 2; opacity: 0;\"><g class=\"fills\"/><g class=\"errorbars\"/><g class=\"lines\"><path class=\"js-line\" d=\"M33.92,229.34L566.9,229.34\" style=\"vector-effect: non-scaling-stroke; fill: none; stroke: rgb(0, 0, 0); stroke-opacity: 0; stroke-width: 0px; opacity: 1;\"/></g><g class=\"points\"><path class=\"point\" transform=\"translate(33.92,229.34)\" d=\"M3,0A3,3 0 1,1 0,-3A3,3 0 0,1 3,0Z\" style=\"opacity: 1; stroke-width: 0px; fill: rgb(0, 0, 0); fill-opacity: 0;\"/><path class=\"point\" transform=\"translate(167.16,229.34)\" d=\"M3,0A3,3 0 1,1 0,-3A3,3 0 0,1 3,0Z\" style=\"opacity: 1; stroke-width: 0px; fill: rgb(0, 0, 0); fill-opacity: 0;\"/><path class=\"point\" transform=\"translate(300.41,229.34)\" d=\"M3,0A3,3 0 1,1 0,-3A3,3 0 0,1 3,0Z\" style=\"opacity: 1; stroke-width: 0px; fill: rgb(0, 0, 0); fill-opacity: 0;\"/><path class=\"point\" transform=\"translate(433.65,229.34)\" d=\"M3,0A3,3 0 1,1 0,-3A3,3 0 0,1 3,0Z\" style=\"opacity: 1; stroke-width: 0px; fill: rgb(0, 0, 0); fill-opacity: 0;\"/><path class=\"point\" transform=\"translate(566.9,229.34)\" d=\"M3,0A3,3 0 1,1 0,-3A3,3 0 0,1 3,0Z\" style=\"opacity: 1; stroke-width: 0px; fill: rgb(0, 0, 0); fill-opacity: 0;\"/></g><g class=\"text\"/></g></g></g><g class=\"overplot\"/><path class=\"xlines-above crisp\" d=\"M0,0\" style=\"fill: none;\"/><path class=\"ylines-above crisp\" d=\"M0,0\" style=\"fill: none;\"/><g class=\"overlines-above\"/><g class=\"xaxislayer-above\"/><g class=\"yaxislayer-above\"><g class=\"y8tick\"><text text-anchor=\"end\" x=\"117\" y=\"4.199999999999999\" transform=\"translate(0,2366.765301204819)\" style=\"font-family: 'Open Sans', verdana, arial, sans-serif; font-size: 12px; fill: rgb(42, 63, 95); fill-opacity: 1; white-space: pre; opacity: 1;\">0</text></g><g class=\"y8tick\"><text text-anchor=\"end\" x=\"117\" y=\"4.199999999999999\" style=\"font-family: 'Open Sans', verdana, arial, sans-serif; font-size: 12px; fill: rgb(42, 63, 95); fill-opacity: 1; white-space: pre; opacity: 1;\" transform=\"translate(0,2324.095301204819)\">1</text></g><g class=\"y8tick\"><text text-anchor=\"end\" x=\"117\" y=\"4.199999999999999\" style=\"font-family: 'Open Sans', verdana, arial, sans-serif; font-size: 12px; fill: rgb(42, 63, 95); fill-opacity: 1; white-space: pre; opacity: 1;\" transform=\"translate(0,2281.4353012048186)\">2</text></g><g class=\"y8tick\"><text text-anchor=\"end\" x=\"117\" y=\"4.199999999999999\" style=\"font-family: 'Open Sans', verdana, arial, sans-serif; font-size: 12px; fill: rgb(42, 63, 95); fill-opacity: 1; white-space: pre; opacity: 1;\" transform=\"translate(0,2238.765301204819)\">3</text></g><g class=\"y8tick\"><text text-anchor=\"end\" x=\"117\" y=\"4.199999999999999\" style=\"font-family: 'Open Sans', verdana, arial, sans-serif; font-size: 12px; fill: rgb(42, 63, 95); fill-opacity: 1; white-space: pre; opacity: 1;\" transform=\"translate(0,2196.1053012048187)\">4</text></g><g class=\"y8tick\"><text text-anchor=\"end\" x=\"117\" y=\"4.199999999999999\" style=\"font-family: 'Open Sans', verdana, arial, sans-serif; font-size: 12px; fill: rgb(42, 63, 95); fill-opacity: 1; white-space: pre; opacity: 1;\" transform=\"translate(0,2153.445301204819)\">5</text></g></g><g class=\"overaxes-above\"/></g><g class=\"subplot x9y9\"><g class=\"layer-subplot\"><g class=\"shapelayer\"/><g class=\"imagelayer\"/></g><g class=\"gridlayer\"><g class=\"x9\"><path class=\"x9grid crisp\" transform=\"translate(151.92000000000002,0)\" d=\"M0,2420.628915662651v245.35301204819274\" style=\"stroke: rgb(255, 255, 255); stroke-opacity: 1; stroke-width: 1px;\"/><path class=\"x9grid crisp\" transform=\"translate(285.15999999999997,0)\" d=\"M0,2420.628915662651v245.35301204819274\" style=\"stroke: rgb(255, 255, 255); stroke-opacity: 1; stroke-width: 1px;\"/><path class=\"x9grid crisp\" transform=\"translate(418.41,0)\" d=\"M0,2420.628915662651v245.35301204819274\" style=\"stroke: rgb(255, 255, 255); stroke-opacity: 1; stroke-width: 1px;\"/><path class=\"x9grid crisp\" transform=\"translate(551.65,0)\" d=\"M0,2420.628915662651v245.35301204819274\" style=\"stroke: rgb(255, 255, 255); stroke-opacity: 1; stroke-width: 1px;\"/><path class=\"x9grid crisp\" transform=\"translate(684.9,0)\" d=\"M0,2420.628915662651v245.35301204819274\" style=\"stroke: rgb(255, 255, 255); stroke-opacity: 1; stroke-width: 1px;\"/></g><g class=\"y9\"><path class=\"y9grid crisp\" transform=\"translate(0,2642.758915662651)\" d=\"M118,0h602\" style=\"stroke: rgb(255, 255, 255); stroke-opacity: 1; stroke-width: 1px;\"/><path class=\"y9grid crisp\" transform=\"translate(0,2574.048915662651)\" d=\"M118,0h602\" style=\"stroke: rgb(255, 255, 255); stroke-opacity: 1; stroke-width: 1px;\"/><path class=\"y9grid crisp\" transform=\"translate(0,2505.3489156626506)\" d=\"M118,0h602\" style=\"stroke: rgb(255, 255, 255); stroke-opacity: 1; stroke-width: 1px;\"/><path class=\"y9grid crisp\" transform=\"translate(0,2436.648915662651)\" d=\"M118,0h602\" style=\"stroke: rgb(255, 255, 255); stroke-opacity: 1; stroke-width: 1px;\"/></g></g><g class=\"zerolinelayer\"/><path class=\"xlines-below\"/><path class=\"ylines-below\"/><g class=\"overlines-below\"/><g class=\"xaxislayer-below\"/><g class=\"yaxislayer-below\"/><g class=\"overaxes-below\"/><g class=\"plot\" transform=\"translate(118,2420.628915662651)\" clip-path=\"url(#clip7d9773x9y9plot)\"><g class=\"scatterlayer mlayer\"><g class=\"trace scatter trace2c3ee769-0beb-48f0-8db0-e44e660f953e\" style=\"stroke-miterlimit: 2;\"><g class=\"fills\"><g><path class=\"js-fill\" d=\"M33.92,16.02L167.16,87.48L300.41,91.58L433.65,91.58L566.9,229.34L566.9,16.02L33.92,16.02Z\" style=\"fill: rgb(255, 0, 0); fill-opacity: 0.3; stroke-width: 0;\"/></g></g><g class=\"errorbars\"/><g class=\"lines\"><path class=\"js-line\" d=\"M33.92,16.02L566.9,16.02\" style=\"vector-effect: non-scaling-stroke; fill: none; stroke: rgb(0, 0, 0); stroke-opacity: 0; stroke-width: 0px; opacity: 1;\"/></g><g class=\"points\"><path class=\"point\" transform=\"translate(33.92,16.02)\" d=\"M3,0A3,3 0 1,1 0,-3A3,3 0 0,1 3,0Z\" style=\"opacity: 1; stroke-width: 0px; fill: rgb(0, 0, 0); fill-opacity: 0;\"/><path class=\"point\" transform=\"translate(167.16,16.02)\" d=\"M3,0A3,3 0 1,1 0,-3A3,3 0 0,1 3,0Z\" style=\"opacity: 1; stroke-width: 0px; fill: rgb(0, 0, 0); fill-opacity: 0;\"/><path class=\"point\" transform=\"translate(300.41,16.02)\" d=\"M3,0A3,3 0 1,1 0,-3A3,3 0 0,1 3,0Z\" style=\"opacity: 1; stroke-width: 0px; fill: rgb(0, 0, 0); fill-opacity: 0;\"/><path class=\"point\" transform=\"translate(433.65,16.02)\" d=\"M3,0A3,3 0 1,1 0,-3A3,3 0 0,1 3,0Z\" style=\"opacity: 1; stroke-width: 0px; fill: rgb(0, 0, 0); fill-opacity: 0;\"/><path class=\"point\" transform=\"translate(566.9,16.02)\" d=\"M3,0A3,3 0 1,1 0,-3A3,3 0 0,1 3,0Z\" style=\"opacity: 1; stroke-width: 0px; fill: rgb(0, 0, 0); fill-opacity: 0;\"/></g><g class=\"text\"/></g><g class=\"trace scatter trace20a2eba6-837e-4003-8ff0-c760d007108b\" style=\"stroke-miterlimit: 2;\"><g class=\"fills\"/><g class=\"errorbars\"/><g class=\"lines\"><path class=\"js-line\" d=\"M33.92,16.02L167.16,87.48L300.41,91.58L433.65,91.58L566.9,229.34\" style=\"vector-effect: non-scaling-stroke; fill: none; stroke: rgb(0, 0, 0); stroke-opacity: 0; stroke-width: 0px; opacity: 1;\"/></g><g class=\"points\"><path class=\"point\" transform=\"translate(33.92,16.02)\" d=\"M3,0A3,3 0 1,1 0,-3A3,3 0 0,1 3,0Z\" style=\"opacity: 1; stroke-width: 0px; fill: rgb(0, 0, 0); fill-opacity: 0;\"/><path class=\"point\" transform=\"translate(167.16,87.48)\" d=\"M3,0A3,3 0 1,1 0,-3A3,3 0 0,1 3,0Z\" style=\"opacity: 1; stroke-width: 0px; fill: rgb(0, 0, 0); fill-opacity: 0;\"/><path class=\"point\" transform=\"translate(300.41,91.58)\" d=\"M3,0A3,3 0 1,1 0,-3A3,3 0 0,1 3,0Z\" style=\"opacity: 1; stroke-width: 0px; fill: rgb(0, 0, 0); fill-opacity: 0;\"/><path class=\"point\" transform=\"translate(433.65,91.58)\" d=\"M3,0A3,3 0 1,1 0,-3A3,3 0 0,1 3,0Z\" style=\"opacity: 1; stroke-width: 0px; fill: rgb(0, 0, 0); fill-opacity: 0;\"/><path class=\"point\" transform=\"translate(566.9,229.34)\" d=\"M3,0A3,3 0 1,1 0,-3A3,3 0 0,1 3,0Z\" style=\"opacity: 1; stroke-width: 0px; fill: rgb(0, 0, 0); fill-opacity: 0;\"/></g><g class=\"text\"/></g><g class=\"trace scatter trace50d2ddbd-6487-4f49-9d98-240723a10174\" style=\"stroke-miterlimit: 2; opacity: 1;\"><g class=\"fills\"/><g class=\"errorbars\"/><g class=\"lines\"><path class=\"js-line\" d=\"M33.92,16.02L167.16,87.48L300.41,91.58L433.65,91.58L566.9,229.34\" style=\"vector-effect: non-scaling-stroke; fill: none; stroke: rgb(148, 103, 189); stroke-opacity: 1; stroke-width: 2px; opacity: 1;\"/></g><g class=\"points\"><path class=\"point\" transform=\"translate(33.92,16.02)\" d=\"M3,0A3,3 0 1,1 0,-3A3,3 0 0,1 3,0Z\" style=\"opacity: 1; stroke-width: 0px; fill: rgb(148, 103, 189); fill-opacity: 1;\"/><path class=\"point\" transform=\"translate(167.16,87.48)\" d=\"M3,0A3,3 0 1,1 0,-3A3,3 0 0,1 3,0Z\" style=\"opacity: 1; stroke-width: 0px; fill: rgb(148, 103, 189); fill-opacity: 1;\"/><path class=\"point\" transform=\"translate(300.41,91.58)\" d=\"M3,0A3,3 0 1,1 0,-3A3,3 0 0,1 3,0Z\" style=\"opacity: 1; stroke-width: 0px; fill: rgb(148, 103, 189); fill-opacity: 1;\"/><path class=\"point\" transform=\"translate(433.65,91.58)\" d=\"M3,0A3,3 0 1,1 0,-3A3,3 0 0,1 3,0Z\" style=\"opacity: 1; stroke-width: 0px; fill: rgb(148, 103, 189); fill-opacity: 1;\"/><path class=\"point\" transform=\"translate(566.9,229.34)\" d=\"M3,0A3,3 0 1,1 0,-3A3,3 0 0,1 3,0Z\" style=\"opacity: 1; stroke-width: 0px; fill: rgb(148, 103, 189); fill-opacity: 1;\"/></g><g class=\"text\"/></g><g class=\"trace scatter trace02c0792c-aac5-4668-86f2-20e4f3e5db00\" style=\"stroke-miterlimit: 2; opacity: 0;\"><g class=\"fills\"/><g class=\"errorbars\"/><g class=\"lines\"><path class=\"js-line\" d=\"M33.92,16.02L566.9,16.02\" style=\"vector-effect: non-scaling-stroke; fill: none; stroke: rgb(0, 0, 0); stroke-opacity: 0; stroke-width: 0px; opacity: 1;\"/></g><g class=\"points\"><path class=\"point\" transform=\"translate(33.92,16.02)\" d=\"M3,0A3,3 0 1,1 0,-3A3,3 0 0,1 3,0Z\" style=\"opacity: 1; stroke-width: 0px; fill: rgb(0, 0, 0); fill-opacity: 0;\"/><path class=\"point\" transform=\"translate(167.16,16.02)\" d=\"M3,0A3,3 0 1,1 0,-3A3,3 0 0,1 3,0Z\" style=\"opacity: 1; stroke-width: 0px; fill: rgb(0, 0, 0); fill-opacity: 0;\"/><path class=\"point\" transform=\"translate(300.41,16.02)\" d=\"M3,0A3,3 0 1,1 0,-3A3,3 0 0,1 3,0Z\" style=\"opacity: 1; stroke-width: 0px; fill: rgb(0, 0, 0); fill-opacity: 0;\"/><path class=\"point\" transform=\"translate(433.65,16.02)\" d=\"M3,0A3,3 0 1,1 0,-3A3,3 0 0,1 3,0Z\" style=\"opacity: 1; stroke-width: 0px; fill: rgb(0, 0, 0); fill-opacity: 0;\"/><path class=\"point\" transform=\"translate(566.9,16.02)\" d=\"M3,0A3,3 0 1,1 0,-3A3,3 0 0,1 3,0Z\" style=\"opacity: 1; stroke-width: 0px; fill: rgb(0, 0, 0); fill-opacity: 0;\"/></g><g class=\"text\"/></g></g></g><g class=\"overplot\"/><path class=\"xlines-above crisp\" d=\"M0,0\" style=\"fill: none;\"/><path class=\"ylines-above crisp\" d=\"M0,0\" style=\"fill: none;\"/><g class=\"overlines-above\"/><g class=\"xaxislayer-above\"/><g class=\"yaxislayer-above\"><g class=\"y9tick\"><text text-anchor=\"end\" x=\"117\" y=\"4.199999999999999\" transform=\"translate(0,2642.758915662651)\" style=\"font-family: 'Open Sans', verdana, arial, sans-serif; font-size: 12px; fill: rgb(42, 63, 95); fill-opacity: 1; white-space: pre; opacity: 1;\">199.7</text></g><g class=\"y9tick\"><text text-anchor=\"end\" x=\"117\" y=\"4.199999999999999\" style=\"font-family: 'Open Sans', verdana, arial, sans-serif; font-size: 12px; fill: rgb(42, 63, 95); fill-opacity: 1; white-space: pre; opacity: 1;\" transform=\"translate(0,2574.048915662651)\">199.8</text></g><g class=\"y9tick\"><text text-anchor=\"end\" x=\"117\" y=\"4.199999999999999\" style=\"font-family: 'Open Sans', verdana, arial, sans-serif; font-size: 12px; fill: rgb(42, 63, 95); fill-opacity: 1; white-space: pre; opacity: 1;\" transform=\"translate(0,2505.3489156626506)\">199.9</text></g><g class=\"y9tick\"><text text-anchor=\"end\" x=\"117\" y=\"4.199999999999999\" style=\"font-family: 'Open Sans', verdana, arial, sans-serif; font-size: 12px; fill: rgb(42, 63, 95); fill-opacity: 1; white-space: pre; opacity: 1;\" transform=\"translate(0,2436.648915662651)\">200</text></g></g><g class=\"overaxes-above\"/></g><g class=\"subplot x10y10\"><g class=\"layer-subplot\"><g class=\"shapelayer\"/><g class=\"imagelayer\"/></g><g class=\"gridlayer\"><g class=\"x10\"><path class=\"x10grid crisp\" transform=\"translate(151.92000000000002,0)\" d=\"M0,2703.8325301204823v245.35301204819274\" style=\"stroke: rgb(255, 255, 255); stroke-opacity: 1; stroke-width: 1px;\"/><path class=\"x10grid crisp\" transform=\"translate(285.15999999999997,0)\" d=\"M0,2703.8325301204823v245.35301204819274\" style=\"stroke: rgb(255, 255, 255); stroke-opacity: 1; stroke-width: 1px;\"/><path class=\"x10grid crisp\" transform=\"translate(418.41,0)\" d=\"M0,2703.8325301204823v245.35301204819274\" style=\"stroke: rgb(255, 255, 255); stroke-opacity: 1; stroke-width: 1px;\"/><path class=\"x10grid crisp\" transform=\"translate(551.65,0)\" d=\"M0,2703.8325301204823v245.35301204819274\" style=\"stroke: rgb(255, 255, 255); stroke-opacity: 1; stroke-width: 1px;\"/><path class=\"x10grid crisp\" transform=\"translate(684.9,0)\" d=\"M0,2703.8325301204823v245.35301204819274\" style=\"stroke: rgb(255, 255, 255); stroke-opacity: 1; stroke-width: 1px;\"/></g><g class=\"y10\"><path class=\"y10grid crisp\" transform=\"translate(0,2932.9425301204824)\" d=\"M118,0h602\" style=\"stroke: rgb(255, 255, 255); stroke-opacity: 1; stroke-width: 1px;\"/><path class=\"y10grid crisp\" transform=\"translate(0,2861.912530120482)\" d=\"M118,0h602\" style=\"stroke: rgb(255, 255, 255); stroke-opacity: 1; stroke-width: 1px;\"/><path class=\"y10grid crisp\" transform=\"translate(0,2790.8825301204824)\" d=\"M118,0h602\" style=\"stroke: rgb(255, 255, 255); stroke-opacity: 1; stroke-width: 1px;\"/><path class=\"y10grid crisp\" transform=\"translate(0,2719.8525301204822)\" d=\"M118,0h602\" style=\"stroke: rgb(255, 255, 255); stroke-opacity: 1; stroke-width: 1px;\"/></g></g><g class=\"zerolinelayer\"/><path class=\"xlines-below\"/><path class=\"ylines-below\"/><g class=\"overlines-below\"/><g class=\"xaxislayer-below\"/><g class=\"yaxislayer-below\"/><g class=\"overaxes-below\"/><g class=\"plot\" transform=\"translate(118,2703.8325301204823)\" clip-path=\"url(#clip7d9773x10y10plot)\"><g class=\"scatterlayer mlayer\"><g class=\"trace scatter trace0d9180bc-19a1-43aa-bd9c-23f395ce9014\" style=\"stroke-miterlimit: 2; opacity: 1;\"><g class=\"fills\"/><g class=\"errorbars\"/><g class=\"lines\"><path class=\"js-line\" d=\"M33.92,229.11L167.16,229.11L300.41,158.08L566.9,16.02\" style=\"vector-effect: non-scaling-stroke; fill: none; stroke: rgb(127, 127, 127); stroke-opacity: 1; stroke-width: 2px; opacity: 1;\"/></g><g class=\"points\"><path class=\"point\" transform=\"translate(33.92,229.11)\" d=\"M3,0A3,3 0 1,1 0,-3A3,3 0 0,1 3,0Z\" style=\"opacity: 1; stroke-width: 0px; fill: rgb(127, 127, 127); fill-opacity: 1;\"/><path class=\"point\" transform=\"translate(167.16,229.11)\" d=\"M3,0A3,3 0 1,1 0,-3A3,3 0 0,1 3,0Z\" style=\"opacity: 1; stroke-width: 0px; fill: rgb(127, 127, 127); fill-opacity: 1;\"/><path class=\"point\" transform=\"translate(300.41,158.08)\" d=\"M3,0A3,3 0 1,1 0,-3A3,3 0 0,1 3,0Z\" style=\"opacity: 1; stroke-width: 0px; fill: rgb(127, 127, 127); fill-opacity: 1;\"/><path class=\"point\" transform=\"translate(433.65,87.05)\" d=\"M3,0A3,3 0 1,1 0,-3A3,3 0 0,1 3,0Z\" style=\"opacity: 1; stroke-width: 0px; fill: rgb(127, 127, 127); fill-opacity: 1;\"/><path class=\"point\" transform=\"translate(566.9,16.02)\" d=\"M3,0A3,3 0 1,1 0,-3A3,3 0 0,1 3,0Z\" style=\"opacity: 1; stroke-width: 0px; fill: rgb(127, 127, 127); fill-opacity: 1;\"/></g><g class=\"text\"/></g><g class=\"trace scatter tracea20e0f0f-bdf8-4514-944d-a5e4eb383b4d\" style=\"stroke-miterlimit: 2;\"><g class=\"fills\"><g><path class=\"js-fill\" d=\"M33.92,229.11L566.9,229.34L566.9,229.11L33.92,229.11Z\" style=\"fill: rgb(255, 0, 0); fill-opacity: 0.3; stroke-width: 0;\"/></g></g><g class=\"errorbars\"/><g class=\"lines\"><path class=\"js-line\" d=\"M33.92,229.11L566.9,229.11\" style=\"vector-effect: non-scaling-stroke; fill: none; stroke: rgb(0, 0, 0); stroke-opacity: 0; stroke-width: 0px; opacity: 1;\"/></g><g class=\"points\"><path class=\"point\" transform=\"translate(33.92,229.11)\" d=\"M3,0A3,3 0 1,1 0,-3A3,3 0 0,1 3,0Z\" style=\"opacity: 1; stroke-width: 0px; fill: rgb(0, 0, 0); fill-opacity: 0;\"/><path class=\"point\" transform=\"translate(167.16,229.11)\" d=\"M3,0A3,3 0 1,1 0,-3A3,3 0 0,1 3,0Z\" style=\"opacity: 1; stroke-width: 0px; fill: rgb(0, 0, 0); fill-opacity: 0;\"/><path class=\"point\" transform=\"translate(300.41,229.11)\" d=\"M3,0A3,3 0 1,1 0,-3A3,3 0 0,1 3,0Z\" style=\"opacity: 1; stroke-width: 0px; fill: rgb(0, 0, 0); fill-opacity: 0;\"/><path class=\"point\" transform=\"translate(433.65,229.11)\" d=\"M3,0A3,3 0 1,1 0,-3A3,3 0 0,1 3,0Z\" style=\"opacity: 1; stroke-width: 0px; fill: rgb(0, 0, 0); fill-opacity: 0;\"/><path class=\"point\" transform=\"translate(566.9,229.11)\" d=\"M3,0A3,3 0 1,1 0,-3A3,3 0 0,1 3,0Z\" style=\"opacity: 1; stroke-width: 0px; fill: rgb(0, 0, 0); fill-opacity: 0;\"/></g><g class=\"text\"/></g><g class=\"trace scatter trace00c3e6f1-e3d7-4a17-82b1-1c4e023dd770\" style=\"stroke-miterlimit: 2;\"><g class=\"fills\"/><g class=\"errorbars\"/><g class=\"lines\"><path class=\"js-line\" d=\"M33.92,229.11L566.9,229.34\" style=\"vector-effect: non-scaling-stroke; fill: none; stroke: rgb(0, 0, 0); stroke-opacity: 0; stroke-width: 0px; opacity: 1;\"/></g><g class=\"points\"><path class=\"point\" transform=\"translate(33.92,229.11)\" d=\"M3,0A3,3 0 1,1 0,-3A3,3 0 0,1 3,0Z\" style=\"opacity: 1; stroke-width: 0px; fill: rgb(0, 0, 0); fill-opacity: 0;\"/><path class=\"point\" transform=\"translate(167.16,229.19)\" d=\"M3,0A3,3 0 1,1 0,-3A3,3 0 0,1 3,0Z\" style=\"opacity: 1; stroke-width: 0px; fill: rgb(0, 0, 0); fill-opacity: 0;\"/><path class=\"point\" transform=\"translate(300.41,229.19)\" d=\"M3,0A3,3 0 1,1 0,-3A3,3 0 0,1 3,0Z\" style=\"opacity: 1; stroke-width: 0px; fill: rgb(0, 0, 0); fill-opacity: 0;\"/><path class=\"point\" transform=\"translate(433.65,229.19)\" d=\"M3,0A3,3 0 1,1 0,-3A3,3 0 0,1 3,0Z\" style=\"opacity: 1; stroke-width: 0px; fill: rgb(0, 0, 0); fill-opacity: 0;\"/><path class=\"point\" transform=\"translate(566.9,229.34)\" d=\"M3,0A3,3 0 1,1 0,-3A3,3 0 0,1 3,0Z\" style=\"opacity: 1; stroke-width: 0px; fill: rgb(0, 0, 0); fill-opacity: 0;\"/></g><g class=\"text\"/></g><g class=\"trace scatter trace008b8b56-81e7-4504-bc1a-49172496200d\" style=\"stroke-miterlimit: 2; opacity: 1;\"><g class=\"fills\"/><g class=\"errorbars\"/><g class=\"lines\"><path class=\"js-line\" d=\"M33.92,229.11L566.9,229.34\" style=\"vector-effect: non-scaling-stroke; fill: none; stroke: rgb(148, 103, 189); stroke-opacity: 1; stroke-width: 2px; opacity: 1;\"/></g><g class=\"points\"><path class=\"point\" transform=\"translate(33.92,229.11)\" d=\"M3,0A3,3 0 1,1 0,-3A3,3 0 0,1 3,0Z\" style=\"opacity: 1; stroke-width: 0px; fill: rgb(148, 103, 189); fill-opacity: 1;\"/><path class=\"point\" transform=\"translate(167.16,229.19)\" d=\"M3,0A3,3 0 1,1 0,-3A3,3 0 0,1 3,0Z\" style=\"opacity: 1; stroke-width: 0px; fill: rgb(148, 103, 189); fill-opacity: 1;\"/><path class=\"point\" transform=\"translate(300.41,229.19)\" d=\"M3,0A3,3 0 1,1 0,-3A3,3 0 0,1 3,0Z\" style=\"opacity: 1; stroke-width: 0px; fill: rgb(148, 103, 189); fill-opacity: 1;\"/><path class=\"point\" transform=\"translate(433.65,229.19)\" d=\"M3,0A3,3 0 1,1 0,-3A3,3 0 0,1 3,0Z\" style=\"opacity: 1; stroke-width: 0px; fill: rgb(148, 103, 189); fill-opacity: 1;\"/><path class=\"point\" transform=\"translate(566.9,229.34)\" d=\"M3,0A3,3 0 1,1 0,-3A3,3 0 0,1 3,0Z\" style=\"opacity: 1; stroke-width: 0px; fill: rgb(148, 103, 189); fill-opacity: 1;\"/></g><g class=\"text\"/></g><g class=\"trace scatter tracea701437d-22a5-4924-891e-4f1af00a3528\" style=\"stroke-miterlimit: 2; opacity: 0;\"><g class=\"fills\"/><g class=\"errorbars\"/><g class=\"lines\"><path class=\"js-line\" d=\"M33.92,229.11L566.9,229.11\" style=\"vector-effect: non-scaling-stroke; fill: none; stroke: rgb(0, 0, 0); stroke-opacity: 0; stroke-width: 0px; opacity: 1;\"/></g><g class=\"points\"><path class=\"point\" transform=\"translate(33.92,229.11)\" d=\"M3,0A3,3 0 1,1 0,-3A3,3 0 0,1 3,0Z\" style=\"opacity: 1; stroke-width: 0px; fill: rgb(0, 0, 0); fill-opacity: 0;\"/><path class=\"point\" transform=\"translate(167.16,229.11)\" d=\"M3,0A3,3 0 1,1 0,-3A3,3 0 0,1 3,0Z\" style=\"opacity: 1; stroke-width: 0px; fill: rgb(0, 0, 0); fill-opacity: 0;\"/><path class=\"point\" transform=\"translate(300.41,229.11)\" d=\"M3,0A3,3 0 1,1 0,-3A3,3 0 0,1 3,0Z\" style=\"opacity: 1; stroke-width: 0px; fill: rgb(0, 0, 0); fill-opacity: 0;\"/><path class=\"point\" transform=\"translate(433.65,229.11)\" d=\"M3,0A3,3 0 1,1 0,-3A3,3 0 0,1 3,0Z\" style=\"opacity: 1; stroke-width: 0px; fill: rgb(0, 0, 0); fill-opacity: 0;\"/><path class=\"point\" transform=\"translate(566.9,229.11)\" d=\"M3,0A3,3 0 1,1 0,-3A3,3 0 0,1 3,0Z\" style=\"opacity: 1; stroke-width: 0px; fill: rgb(0, 0, 0); fill-opacity: 0;\"/></g><g class=\"text\"/></g></g></g><g class=\"overplot\"/><path class=\"xlines-above crisp\" d=\"M0,0\" style=\"fill: none;\"/><path class=\"ylines-above crisp\" d=\"M0,0\" style=\"fill: none;\"/><g class=\"overlines-above\"/><g class=\"xaxislayer-above\"/><g class=\"yaxislayer-above\"><g class=\"y10tick\"><text text-anchor=\"end\" x=\"117\" y=\"4.199999999999999\" transform=\"translate(0,2932.9425301204824)\" style=\"font-family: 'Open Sans', verdana, arial, sans-serif; font-size: 12px; fill: rgb(42, 63, 95); fill-opacity: 1; white-space: pre; opacity: 1;\">1</text></g><g class=\"y10tick\"><text text-anchor=\"end\" x=\"117\" y=\"4.199999999999999\" style=\"font-family: 'Open Sans', verdana, arial, sans-serif; font-size: 12px; fill: rgb(42, 63, 95); fill-opacity: 1; white-space: pre; opacity: 1;\" transform=\"translate(0,2861.912530120482)\">1.5</text></g><g class=\"y10tick\"><text text-anchor=\"end\" x=\"117\" y=\"4.199999999999999\" style=\"font-family: 'Open Sans', verdana, arial, sans-serif; font-size: 12px; fill: rgb(42, 63, 95); fill-opacity: 1; white-space: pre; opacity: 1;\" transform=\"translate(0,2790.8825301204824)\">2</text></g><g class=\"y10tick\"><text text-anchor=\"end\" x=\"117\" y=\"4.199999999999999\" style=\"font-family: 'Open Sans', verdana, arial, sans-serif; font-size: 12px; fill: rgb(42, 63, 95); fill-opacity: 1; white-space: pre; opacity: 1;\" transform=\"translate(0,2719.8525301204822)\">2.5</text></g></g><g class=\"overaxes-above\"/></g><g class=\"subplot x11y11\"><g class=\"layer-subplot\"><g class=\"shapelayer\"/><g class=\"imagelayer\"/></g><g class=\"gridlayer\"><g class=\"x11\"><path class=\"x11grid crisp\" transform=\"translate(151.92000000000002,0)\" d=\"M0,2987.0361445783133v245.35301204819285\" style=\"stroke: rgb(255, 255, 255); stroke-opacity: 1; stroke-width: 1px;\"/><path class=\"x11grid crisp\" transform=\"translate(285.15999999999997,0)\" d=\"M0,2987.0361445783133v245.35301204819285\" style=\"stroke: rgb(255, 255, 255); stroke-opacity: 1; stroke-width: 1px;\"/><path class=\"x11grid crisp\" transform=\"translate(418.41,0)\" d=\"M0,2987.0361445783133v245.35301204819285\" style=\"stroke: rgb(255, 255, 255); stroke-opacity: 1; stroke-width: 1px;\"/><path class=\"x11grid crisp\" transform=\"translate(551.65,0)\" d=\"M0,2987.0361445783133v245.35301204819285\" style=\"stroke: rgb(255, 255, 255); stroke-opacity: 1; stroke-width: 1px;\"/><path class=\"x11grid crisp\" transform=\"translate(684.9,0)\" d=\"M0,2987.0361445783133v245.35301204819285\" style=\"stroke: rgb(255, 255, 255); stroke-opacity: 1; stroke-width: 1px;\"/></g><g class=\"y11\"><path class=\"y11grid crisp\" transform=\"translate(0,3208.5861445783135)\" d=\"M118,0h602\" style=\"stroke: rgb(255, 255, 255); stroke-opacity: 1; stroke-width: 1px;\"/><path class=\"y11grid crisp\" transform=\"translate(0,3140.2761445783135)\" d=\"M118,0h602\" style=\"stroke: rgb(255, 255, 255); stroke-opacity: 1; stroke-width: 1px;\"/><path class=\"y11grid crisp\" transform=\"translate(0,3071.9761445783133)\" d=\"M118,0h602\" style=\"stroke: rgb(255, 255, 255); stroke-opacity: 1; stroke-width: 1px;\"/><path class=\"y11grid crisp\" transform=\"translate(0,3003.676144578313)\" d=\"M118,0h602\" style=\"stroke: rgb(255, 255, 255); stroke-opacity: 1; stroke-width: 1px;\"/></g></g><g class=\"zerolinelayer\"/><path class=\"xlines-below\"/><path class=\"ylines-below\"/><g class=\"overlines-below\"/><g class=\"xaxislayer-below\"/><g class=\"yaxislayer-below\"/><g class=\"overaxes-below\"/><g class=\"plot\" transform=\"translate(118,2987.0361445783133)\" clip-path=\"url(#clip7d9773x11y11plot)\"><g class=\"scatterlayer mlayer\"><g class=\"trace scatter tracec2a4c52e-2350-459c-97d6-a4b4e1c10394\" style=\"stroke-miterlimit: 2; opacity: 1;\"><g class=\"fills\"/><g class=\"errorbars\"/><g class=\"lines\"><path class=\"js-line\" d=\"M33.92,16.64L167.16,87.69L300.41,91.77L433.65,91.77L566.9,228.71\" style=\"vector-effect: non-scaling-stroke; fill: none; stroke: rgb(148, 103, 189); stroke-opacity: 1; stroke-width: 2px; opacity: 1;\"/></g><g class=\"points\"><path class=\"point\" transform=\"translate(33.92,16.64)\" d=\"M3,0A3,3 0 1,1 0,-3A3,3 0 0,1 3,0Z\" style=\"opacity: 1; stroke-width: 0px; fill: rgb(148, 103, 189); fill-opacity: 1;\"/><path class=\"point\" transform=\"translate(167.16,87.69)\" d=\"M3,0A3,3 0 1,1 0,-3A3,3 0 0,1 3,0Z\" style=\"opacity: 1; stroke-width: 0px; fill: rgb(148, 103, 189); fill-opacity: 1;\"/><path class=\"point\" transform=\"translate(300.41,91.77)\" d=\"M3,0A3,3 0 1,1 0,-3A3,3 0 0,1 3,0Z\" style=\"opacity: 1; stroke-width: 0px; fill: rgb(148, 103, 189); fill-opacity: 1;\"/><path class=\"point\" transform=\"translate(433.65,91.77)\" d=\"M3,0A3,3 0 1,1 0,-3A3,3 0 0,1 3,0Z\" style=\"opacity: 1; stroke-width: 0px; fill: rgb(148, 103, 189); fill-opacity: 1;\"/><path class=\"point\" transform=\"translate(566.9,228.71)\" d=\"M3,0A3,3 0 1,1 0,-3A3,3 0 0,1 3,0Z\" style=\"opacity: 1; stroke-width: 0px; fill: rgb(148, 103, 189); fill-opacity: 1;\"/></g><g class=\"text\"/></g><g class=\"trace scatter tracee1d340e0-c824-4165-b805-9b03b614286d\" style=\"stroke-miterlimit: 2; opacity: 1;\"><g class=\"fills\"/><g class=\"errorbars\"/><g class=\"lines\"/><g class=\"points\"><path class=\"point plotly-customdata\" transform=\"translate(33.92,16.64)\" d=\"M4.55,0L0,4.55L-4.55,0L0,-4.55Z\" style=\"opacity: 1; stroke-width: 1px; fill: rgb(66, 133, 244); fill-opacity: 1; stroke: rgb(11, 84, 205); stroke-opacity: 1;\"/></g><g class=\"text\"/></g><g class=\"trace scatter trace8b5dbcde-9548-4687-b725-32e701e953c3\" style=\"stroke-miterlimit: 2; opacity: 1;\"><g class=\"fills\"/><g class=\"errorbars\"/><g class=\"lines\"/><g class=\"points\"><path class=\"point plotly-customdata\" transform=\"translate(566.9,228.71)\" d=\"M4.55,0L0,4.55L-4.55,0L0,-4.55Z\" style=\"opacity: 1; stroke-width: 1px; fill: rgb(255, 170, 0); fill-opacity: 1; stroke: rgb(178, 118, 0); stroke-opacity: 1;\"/></g><g class=\"text\"/></g></g></g><g class=\"overplot\"/><path class=\"xlines-above crisp\" d=\"M0,0\" style=\"fill: none;\"/><path class=\"ylines-above crisp\" d=\"M0,0\" style=\"fill: none;\"/><g class=\"overlines-above\"/><g class=\"xaxislayer-above\"/><g class=\"yaxislayer-above\"><g class=\"y11tick\"><text text-anchor=\"end\" x=\"117\" y=\"4.199999999999999\" transform=\"translate(0,3208.5861445783135)\" style=\"font-family: 'Open Sans', verdana, arial, sans-serif; font-size: 12px; fill: rgb(42, 63, 95); fill-opacity: 1; white-space: pre; opacity: 1;\">199.7</text></g><g class=\"y11tick\"><text text-anchor=\"end\" x=\"117\" y=\"4.199999999999999\" style=\"font-family: 'Open Sans', verdana, arial, sans-serif; font-size: 12px; fill: rgb(42, 63, 95); fill-opacity: 1; white-space: pre; opacity: 1;\" transform=\"translate(0,3140.2761445783135)\">199.8</text></g><g class=\"y11tick\"><text text-anchor=\"end\" x=\"117\" y=\"4.199999999999999\" style=\"font-family: 'Open Sans', verdana, arial, sans-serif; font-size: 12px; fill: rgb(42, 63, 95); fill-opacity: 1; white-space: pre; opacity: 1;\" transform=\"translate(0,3071.9761445783133)\">199.9</text></g><g class=\"y11tick\"><text text-anchor=\"end\" x=\"117\" y=\"4.199999999999999\" style=\"font-family: 'Open Sans', verdana, arial, sans-serif; font-size: 12px; fill: rgb(42, 63, 95); fill-opacity: 1; white-space: pre; opacity: 1;\" transform=\"translate(0,3003.676144578313)\">200</text></g></g><g class=\"overaxes-above\"/></g><g class=\"subplot x12y12\"><g class=\"layer-subplot\"><g class=\"shapelayer\"/><g class=\"imagelayer\"/></g><g class=\"gridlayer\"><g class=\"x12\"><path class=\"x12grid crisp\" transform=\"translate(151.92000000000002,0)\" d=\"M0,3270.2397590361443v245.35301204819274\" style=\"stroke: rgb(255, 255, 255); stroke-opacity: 1; stroke-width: 1px;\"/><path class=\"x12grid crisp\" transform=\"translate(285.15999999999997,0)\" d=\"M0,3270.2397590361443v245.35301204819274\" style=\"stroke: rgb(255, 255, 255); stroke-opacity: 1; stroke-width: 1px;\"/><path class=\"x12grid crisp\" transform=\"translate(418.41,0)\" d=\"M0,3270.2397590361443v245.35301204819274\" style=\"stroke: rgb(255, 255, 255); stroke-opacity: 1; stroke-width: 1px;\"/><path class=\"x12grid crisp\" transform=\"translate(551.65,0)\" d=\"M0,3270.2397590361443v245.35301204819274\" style=\"stroke: rgb(255, 255, 255); stroke-opacity: 1; stroke-width: 1px;\"/><path class=\"x12grid crisp\" transform=\"translate(684.9,0)\" d=\"M0,3270.2397590361443v245.35301204819274\" style=\"stroke: rgb(255, 255, 255); stroke-opacity: 1; stroke-width: 1px;\"/></g><g class=\"y12\"><path class=\"y12grid crisp\" transform=\"translate(0,3491.859759036144)\" d=\"M118,0h602\" style=\"stroke: rgb(255, 255, 255); stroke-opacity: 1; stroke-width: 1px;\"/><path class=\"y12grid crisp\" transform=\"translate(0,3418.319759036144)\" d=\"M118,0h602\" style=\"stroke: rgb(255, 255, 255); stroke-opacity: 1; stroke-width: 1px;\"/><path class=\"y12grid crisp\" transform=\"translate(0,3344.7797590361442)\" d=\"M118,0h602\" style=\"stroke: rgb(255, 255, 255); stroke-opacity: 1; stroke-width: 1px;\"/></g></g><g class=\"zerolinelayer\"><path class=\"y12zl zl crisp\" transform=\"translate(0,3271.2397590361443)\" d=\"M118,0h602\" style=\"stroke: rgb(255, 255, 255); stroke-opacity: 1; stroke-width: 2px;\"/></g><path class=\"xlines-below\"/><path class=\"ylines-below\"/><g class=\"overlines-below\"/><g class=\"xaxislayer-below\"/><g class=\"yaxislayer-below\"/><g class=\"overaxes-below\"/><g class=\"plot\" transform=\"translate(118,3270.2397590361443)\" clip-path=\"url(#clip7d9773x12y12plot)\"><g class=\"scatterlayer mlayer\"><g class=\"trace scatter trace11787812-451f-4afe-85ce-2495d3e417d0\" style=\"stroke-miterlimit: 2;\"><g class=\"fills\"><g><path class=\"js-fill\" d=\"M566.9,1L33.92,1L33.92,1L167.16,77.5L300.41,81.89L433.65,81.89L566.9,229.34\" style=\"fill: rgb(220, 57, 18); fill-opacity: 0.3; stroke-width: 0;\"/></g></g><g class=\"errorbars\"/><g class=\"lines\"><path class=\"js-line\" d=\"M33.92,1L167.16,77.5L300.41,81.89L433.65,81.89L566.9,229.34\" style=\"vector-effect: non-scaling-stroke; fill: none; stroke: rgb(220, 57, 18); stroke-opacity: 1; stroke-width: 2px; opacity: 1;\"/></g><g class=\"points\"><path class=\"point\" transform=\"translate(33.92,1)\" d=\"M3,0A3,3 0 1,1 0,-3A3,3 0 0,1 3,0Z\" style=\"opacity: 1; stroke-width: 0px; fill: rgb(220, 57, 18); fill-opacity: 1;\"/><path class=\"point\" transform=\"translate(167.16,77.5)\" d=\"M3,0A3,3 0 1,1 0,-3A3,3 0 0,1 3,0Z\" style=\"opacity: 1; stroke-width: 0px; fill: rgb(220, 57, 18); fill-opacity: 1;\"/><path class=\"point\" transform=\"translate(300.41,81.89)\" d=\"M3,0A3,3 0 1,1 0,-3A3,3 0 0,1 3,0Z\" style=\"opacity: 1; stroke-width: 0px; fill: rgb(220, 57, 18); fill-opacity: 1;\"/><path class=\"point\" transform=\"translate(433.65,81.89)\" d=\"M3,0A3,3 0 1,1 0,-3A3,3 0 0,1 3,0Z\" style=\"opacity: 1; stroke-width: 0px; fill: rgb(220, 57, 18); fill-opacity: 1;\"/><path class=\"point\" transform=\"translate(566.9,229.34)\" d=\"M3,0A3,3 0 1,1 0,-3A3,3 0 0,1 3,0Z\" style=\"opacity: 1; stroke-width: 0px; fill: rgb(220, 57, 18); fill-opacity: 1;\"/></g><g class=\"text\"/></g></g></g><g class=\"overplot\"/><path class=\"xlines-above crisp\" d=\"M0,0\" style=\"fill: none;\"/><path class=\"ylines-above crisp\" d=\"M0,0\" style=\"fill: none;\"/><g class=\"overlines-above\"/><g class=\"xaxislayer-above\"/><g class=\"yaxislayer-above\"><g class=\"y12tick\"><text text-anchor=\"end\" x=\"117\" y=\"4.199999999999999\" transform=\"translate(0,3491.859759036144)\" style=\"font-family: 'Open Sans', verdana, arial, sans-serif; font-size: 12px; fill: rgb(42, 63, 95); fill-opacity: 1; white-space: pre; opacity: 1;\">−0.150000%</text></g><g class=\"y12tick\"><text text-anchor=\"end\" x=\"117\" y=\"4.199999999999999\" style=\"font-family: 'Open Sans', verdana, arial, sans-serif; font-size: 12px; fill: rgb(42, 63, 95); fill-opacity: 1; white-space: pre; opacity: 1;\" transform=\"translate(0,3418.319759036144)\">−0.100000%</text></g><g class=\"y12tick\"><text text-anchor=\"end\" x=\"117\" y=\"4.199999999999999\" style=\"font-family: 'Open Sans', verdana, arial, sans-serif; font-size: 12px; fill: rgb(42, 63, 95); fill-opacity: 1; white-space: pre; opacity: 1;\" transform=\"translate(0,3344.7797590361442)\">−0.050000%</text></g><g class=\"y12tick\"><text text-anchor=\"end\" x=\"117\" y=\"4.199999999999999\" style=\"font-family: 'Open Sans', verdana, arial, sans-serif; font-size: 12px; fill: rgb(42, 63, 95); fill-opacity: 1; white-space: pre; opacity: 1;\" transform=\"translate(0,3271.2397590361443)\">0.000000%</text></g></g><g class=\"overaxes-above\"/></g><g class=\"subplot x13y13\"><g class=\"layer-subplot\"><g class=\"shapelayer\"/><g class=\"imagelayer\"/></g><g class=\"gridlayer\"><g class=\"x13\"><path class=\"x13grid crisp\" transform=\"translate(151.92000000000002,0)\" d=\"M0,3553.4433734939757v245.3530120481928\" style=\"stroke: rgb(255, 255, 255); stroke-opacity: 1; stroke-width: 1px;\"/><path class=\"x13grid crisp\" transform=\"translate(285.15999999999997,0)\" d=\"M0,3553.4433734939757v245.3530120481928\" style=\"stroke: rgb(255, 255, 255); stroke-opacity: 1; stroke-width: 1px;\"/><path class=\"x13grid crisp\" transform=\"translate(418.41,0)\" d=\"M0,3553.4433734939757v245.3530120481928\" style=\"stroke: rgb(255, 255, 255); stroke-opacity: 1; stroke-width: 1px;\"/><path class=\"x13grid crisp\" transform=\"translate(551.65,0)\" d=\"M0,3553.4433734939757v245.3530120481928\" style=\"stroke: rgb(255, 255, 255); stroke-opacity: 1; stroke-width: 1px;\"/><path class=\"x13grid crisp\" transform=\"translate(684.9,0)\" d=\"M0,3553.4433734939757v245.3530120481928\" style=\"stroke: rgb(255, 255, 255); stroke-opacity: 1; stroke-width: 1px;\"/></g><g class=\"y13\"><path class=\"y13grid crisp\" transform=\"translate(0,3740.113373493976)\" d=\"M118,0h602\" style=\"stroke: rgb(255, 255, 255); stroke-opacity: 1; stroke-width: 1px;\"/><path class=\"y13grid crisp\" transform=\"translate(0,3697.453373493976)\" d=\"M118,0h602\" style=\"stroke: rgb(255, 255, 255); stroke-opacity: 1; stroke-width: 1px;\"/><path class=\"y13grid crisp\" transform=\"translate(0,3654.783373493976)\" d=\"M118,0h602\" style=\"stroke: rgb(255, 255, 255); stroke-opacity: 1; stroke-width: 1px;\"/><path class=\"y13grid crisp\" transform=\"translate(0,3612.1233734939756)\" d=\"M118,0h602\" style=\"stroke: rgb(255, 255, 255); stroke-opacity: 1; stroke-width: 1px;\"/><path class=\"y13grid crisp\" transform=\"translate(0,3569.4633734939757)\" d=\"M118,0h602\" style=\"stroke: rgb(255, 255, 255); stroke-opacity: 1; stroke-width: 1px;\"/></g></g><g class=\"zerolinelayer\"><path class=\"y13zl zl crisp\" transform=\"translate(0,3782.783373493976)\" d=\"M118,0h602\" style=\"stroke: rgb(255, 255, 255); stroke-opacity: 1; stroke-width: 2px;\"/></g><path class=\"xlines-below\"/><path class=\"ylines-below\"/><g class=\"overlines-below\"/><g class=\"xaxislayer-below\"/><g class=\"yaxislayer-below\"/><g class=\"overaxes-below\"/><g class=\"plot\" transform=\"translate(118,3553.4433734939757)\" clip-path=\"url(#clip7d9773x13y13plot)\"><g class=\"scatterlayer mlayer\"><g class=\"trace scatter tracea0796490-0161-401b-ac72-c782b51bf5fb\" style=\"stroke-miterlimit: 2;\"><g class=\"fills\"><g><path class=\"js-fill\" d=\"M33.92,229.34L433.65,229.34L566.9,223.99L566.9,16.02L33.92,16.02Z\" style=\"fill: rgb(227, 119, 194); fill-opacity: 0.3; stroke-width: 0;\"/></g></g><g class=\"errorbars\"/><g class=\"lines\"><path class=\"js-line\" d=\"M33.92,16.02L566.9,16.02\" style=\"vector-effect: non-scaling-stroke; fill: none; stroke: rgb(0, 0, 0); stroke-opacity: 0; stroke-width: 0px; opacity: 1;\"/></g><g class=\"points\"><path class=\"point\" transform=\"translate(33.92,16.02)\" d=\"M3,0A3,3 0 1,1 0,-3A3,3 0 0,1 3,0Z\" style=\"opacity: 1; stroke-width: 0px; fill: rgb(0, 0, 0); fill-opacity: 0;\"/><path class=\"point\" transform=\"translate(167.16,16.02)\" d=\"M3,0A3,3 0 1,1 0,-3A3,3 0 0,1 3,0Z\" style=\"opacity: 1; stroke-width: 0px; fill: rgb(0, 0, 0); fill-opacity: 0;\"/><path class=\"point\" transform=\"translate(300.41,16.02)\" d=\"M3,0A3,3 0 1,1 0,-3A3,3 0 0,1 3,0Z\" style=\"opacity: 1; stroke-width: 0px; fill: rgb(0, 0, 0); fill-opacity: 0;\"/><path class=\"point\" transform=\"translate(433.65,16.02)\" d=\"M3,0A3,3 0 1,1 0,-3A3,3 0 0,1 3,0Z\" style=\"opacity: 1; stroke-width: 0px; fill: rgb(0, 0, 0); fill-opacity: 0;\"/><path class=\"point\" transform=\"translate(566.9,16.02)\" d=\"M3,0A3,3 0 1,1 0,-3A3,3 0 0,1 3,0Z\" style=\"opacity: 1; stroke-width: 0px; fill: rgb(0, 0, 0); fill-opacity: 0;\"/></g><g class=\"text\"/></g><g class=\"trace scatter trace124ca571-a32e-4cd1-930e-b4b495c3c048\" style=\"stroke-miterlimit: 2;\"><g class=\"fills\"/><g class=\"errorbars\"/><g class=\"lines\"><path class=\"js-line\" d=\"M33.92,229.34L433.65,229.34L566.9,223.99\" style=\"vector-effect: non-scaling-stroke; fill: none; stroke: rgb(0, 0, 0); stroke-opacity: 0; stroke-width: 0px; opacity: 1;\"/></g><g class=\"points\"><path class=\"point\" transform=\"translate(33.92,229.34)\" d=\"M3,0A3,3 0 1,1 0,-3A3,3 0 0,1 3,0Z\" style=\"opacity: 1; stroke-width: 0px; fill: rgb(0, 0, 0); fill-opacity: 0;\"/><path class=\"point\" transform=\"translate(167.16,229.12)\" d=\"M3,0A3,3 0 1,1 0,-3A3,3 0 0,1 3,0Z\" style=\"opacity: 1; stroke-width: 0px; fill: rgb(0, 0, 0); fill-opacity: 0;\"/><path class=\"point\" transform=\"translate(300.41,229.34)\" d=\"M3,0A3,3 0 1,1 0,-3A3,3 0 0,1 3,0Z\" style=\"opacity: 1; stroke-width: 0px; fill: rgb(0, 0, 0); fill-opacity: 0;\"/><path class=\"point\" transform=\"translate(433.65,229.34)\" d=\"M3,0A3,3 0 1,1 0,-3A3,3 0 0,1 3,0Z\" style=\"opacity: 1; stroke-width: 0px; fill: rgb(0, 0, 0); fill-opacity: 0;\"/><path class=\"point\" transform=\"translate(566.9,223.99)\" d=\"M3,0A3,3 0 1,1 0,-3A3,3 0 0,1 3,0Z\" style=\"opacity: 1; stroke-width: 0px; fill: rgb(0, 0, 0); fill-opacity: 0;\"/></g><g class=\"text\"/></g><g class=\"trace scatter traceafcb0f0b-5c0e-4d3e-846c-03fab8da1d4b\" style=\"stroke-miterlimit: 2; opacity: 1;\"><g class=\"fills\"/><g class=\"errorbars\"/><g class=\"lines\"><path class=\"js-line\" d=\"M33.92,229.34L433.65,229.34L566.9,223.99\" style=\"vector-effect: non-scaling-stroke; fill: none; stroke: rgb(227, 119, 194); stroke-opacity: 1; stroke-width: 2px; opacity: 1;\"/></g><g class=\"points\"><path class=\"point\" transform=\"translate(33.92,229.34)\" d=\"M3,0A3,3 0 1,1 0,-3A3,3 0 0,1 3,0Z\" style=\"opacity: 1; stroke-width: 0px; fill: rgb(227, 119, 194); fill-opacity: 1;\"/><path class=\"point\" transform=\"translate(167.16,229.12)\" d=\"M3,0A3,3 0 1,1 0,-3A3,3 0 0,1 3,0Z\" style=\"opacity: 1; stroke-width: 0px; fill: rgb(227, 119, 194); fill-opacity: 1;\"/><path class=\"point\" transform=\"translate(300.41,229.34)\" d=\"M3,0A3,3 0 1,1 0,-3A3,3 0 0,1 3,0Z\" style=\"opacity: 1; stroke-width: 0px; fill: rgb(227, 119, 194); fill-opacity: 1;\"/><path class=\"point\" transform=\"translate(433.65,229.34)\" d=\"M3,0A3,3 0 1,1 0,-3A3,3 0 0,1 3,0Z\" style=\"opacity: 1; stroke-width: 0px; fill: rgb(227, 119, 194); fill-opacity: 1;\"/><path class=\"point\" transform=\"translate(566.9,223.99)\" d=\"M3,0A3,3 0 1,1 0,-3A3,3 0 0,1 3,0Z\" style=\"opacity: 1; stroke-width: 0px; fill: rgb(227, 119, 194); fill-opacity: 1;\"/></g><g class=\"text\"/></g><g class=\"trace scatter tracec1ad292e-0b98-4f40-93d8-3eb9289e2f80\" style=\"stroke-miterlimit: 2; opacity: 0;\"><g class=\"fills\"/><g class=\"errorbars\"/><g class=\"lines\"><path class=\"js-line\" d=\"M33.92,16.02L566.9,16.02\" style=\"vector-effect: non-scaling-stroke; fill: none; stroke: rgb(0, 0, 0); stroke-opacity: 0; stroke-width: 0px; opacity: 1;\"/></g><g class=\"points\"><path class=\"point\" transform=\"translate(33.92,16.02)\" d=\"M3,0A3,3 0 1,1 0,-3A3,3 0 0,1 3,0Z\" style=\"opacity: 1; stroke-width: 0px; fill: rgb(0, 0, 0); fill-opacity: 0;\"/><path class=\"point\" transform=\"translate(167.16,16.02)\" d=\"M3,0A3,3 0 1,1 0,-3A3,3 0 0,1 3,0Z\" style=\"opacity: 1; stroke-width: 0px; fill: rgb(0, 0, 0); fill-opacity: 0;\"/><path class=\"point\" transform=\"translate(300.41,16.02)\" d=\"M3,0A3,3 0 1,1 0,-3A3,3 0 0,1 3,0Z\" style=\"opacity: 1; stroke-width: 0px; fill: rgb(0, 0, 0); fill-opacity: 0;\"/><path class=\"point\" transform=\"translate(433.65,16.02)\" d=\"M3,0A3,3 0 1,1 0,-3A3,3 0 0,1 3,0Z\" style=\"opacity: 1; stroke-width: 0px; fill: rgb(0, 0, 0); fill-opacity: 0;\"/><path class=\"point\" transform=\"translate(566.9,16.02)\" d=\"M3,0A3,3 0 1,1 0,-3A3,3 0 0,1 3,0Z\" style=\"opacity: 1; stroke-width: 0px; fill: rgb(0, 0, 0); fill-opacity: 0;\"/></g><g class=\"text\"/></g></g></g><g class=\"overplot\"/><path class=\"xlines-above crisp\" d=\"M0,0\" style=\"fill: none;\"/><path class=\"ylines-above crisp\" d=\"M0,0\" style=\"fill: none;\"/><g class=\"overlines-above\"/><g class=\"xaxislayer-above\"/><g class=\"yaxislayer-above\"><g class=\"y13tick\"><text text-anchor=\"end\" x=\"117\" y=\"4.199999999999999\" transform=\"translate(0,3782.783373493976)\" style=\"font-family: 'Open Sans', verdana, arial, sans-serif; font-size: 12px; fill: rgb(42, 63, 95); fill-opacity: 1; white-space: pre; opacity: 1;\">0</text></g><g class=\"y13tick\"><text text-anchor=\"end\" x=\"117\" y=\"4.199999999999999\" style=\"font-family: 'Open Sans', verdana, arial, sans-serif; font-size: 12px; fill: rgb(42, 63, 95); fill-opacity: 1; white-space: pre; opacity: 1;\" transform=\"translate(0,3740.113373493976)\">0.2</text></g><g class=\"y13tick\"><text text-anchor=\"end\" x=\"117\" y=\"4.199999999999999\" style=\"font-family: 'Open Sans', verdana, arial, sans-serif; font-size: 12px; fill: rgb(42, 63, 95); fill-opacity: 1; white-space: pre; opacity: 1;\" transform=\"translate(0,3697.453373493976)\">0.4</text></g><g class=\"y13tick\"><text text-anchor=\"end\" x=\"117\" y=\"4.199999999999999\" style=\"font-family: 'Open Sans', verdana, arial, sans-serif; font-size: 12px; fill: rgb(42, 63, 95); fill-opacity: 1; white-space: pre; opacity: 1;\" transform=\"translate(0,3654.783373493976)\">0.6</text></g><g class=\"y13tick\"><text text-anchor=\"end\" x=\"117\" y=\"4.199999999999999\" style=\"font-family: 'Open Sans', verdana, arial, sans-serif; font-size: 12px; fill: rgb(42, 63, 95); fill-opacity: 1; white-space: pre; opacity: 1;\" transform=\"translate(0,3612.1233734939756)\">0.8</text></g><g class=\"y13tick\"><text text-anchor=\"end\" x=\"117\" y=\"4.199999999999999\" style=\"font-family: 'Open Sans', verdana, arial, sans-serif; font-size: 12px; fill: rgb(42, 63, 95); fill-opacity: 1; white-space: pre; opacity: 1;\" transform=\"translate(0,3569.4633734939757)\">1</text></g></g><g class=\"overaxes-above\"/></g><g class=\"subplot x14y14\"><g class=\"layer-subplot\"><g class=\"shapelayer\"/><g class=\"imagelayer\"/></g><g class=\"gridlayer\"><g class=\"x14\"><path class=\"x14grid crisp\" transform=\"translate(151.92000000000002,0)\" d=\"M0,3836.646987951807v245.35301204819277\" style=\"stroke: rgb(255, 255, 255); stroke-opacity: 1; stroke-width: 1px;\"/><path class=\"x14grid crisp\" transform=\"translate(285.15999999999997,0)\" d=\"M0,3836.646987951807v245.35301204819277\" style=\"stroke: rgb(255, 255, 255); stroke-opacity: 1; stroke-width: 1px;\"/><path class=\"x14grid crisp\" transform=\"translate(418.41,0)\" d=\"M0,3836.646987951807v245.35301204819277\" style=\"stroke: rgb(255, 255, 255); stroke-opacity: 1; stroke-width: 1px;\"/><path class=\"x14grid crisp\" transform=\"translate(551.65,0)\" d=\"M0,3836.646987951807v245.35301204819277\" style=\"stroke: rgb(255, 255, 255); stroke-opacity: 1; stroke-width: 1px;\"/><path class=\"x14grid crisp\" transform=\"translate(684.9,0)\" d=\"M0,3836.646987951807v245.35301204819277\" style=\"stroke: rgb(255, 255, 255); stroke-opacity: 1; stroke-width: 1px;\"/></g><g class=\"y14\"><path class=\"y14grid crisp\" transform=\"translate(0,4023.386987951807)\" d=\"M118,0h602\" style=\"stroke: rgb(255, 255, 255); stroke-opacity: 1; stroke-width: 1px;\"/><path class=\"y14grid crisp\" transform=\"translate(0,3980.786987951807)\" d=\"M118,0h602\" style=\"stroke: rgb(255, 255, 255); stroke-opacity: 1; stroke-width: 1px;\"/><path class=\"y14grid crisp\" transform=\"translate(0,3938.186987951807)\" d=\"M118,0h602\" style=\"stroke: rgb(255, 255, 255); stroke-opacity: 1; stroke-width: 1px;\"/><path class=\"y14grid crisp\" transform=\"translate(0,3895.596987951807)\" d=\"M118,0h602\" style=\"stroke: rgb(255, 255, 255); stroke-opacity: 1; stroke-width: 1px;\"/><path class=\"y14grid crisp\" transform=\"translate(0,3852.996987951807)\" d=\"M118,0h602\" style=\"stroke: rgb(255, 255, 255); stroke-opacity: 1; stroke-width: 1px;\"/></g></g><g class=\"zerolinelayer\"><path class=\"y14zl zl crisp\" transform=\"translate(0,4065.9869879518074)\" d=\"M118,0h602\" style=\"stroke: rgb(255, 255, 255); stroke-opacity: 1; stroke-width: 2px;\"/></g><path class=\"xlines-below\"/><path class=\"ylines-below\"/><g class=\"overlines-below\"/><g class=\"xaxislayer-below\"/><g class=\"yaxislayer-below\"/><g class=\"overaxes-below\"/><g class=\"plot\" transform=\"translate(118,3836.646987951807)\" clip-path=\"url(#clip7d9773x14y14plot)\"><g class=\"scatterlayer mlayer\"><g class=\"trace scatter trace3cb1f651-744e-4800-ba92-9240577ede1f\" style=\"stroke-miterlimit: 2;\"><g class=\"fills\"><g><path class=\"js-fill\" d=\"M33.92,229.34L167.16,220.81L300.41,229.34L433.65,229.34L566.9,16.02L566.9,229.34L33.92,229.34Z\" style=\"fill: rgb(227, 119, 194); fill-opacity: 0.3; stroke-width: 0;\"/></g></g><g class=\"errorbars\"/><g class=\"lines\"><path class=\"js-line\" d=\"M33.92,229.34L566.9,229.34\" style=\"vector-effect: non-scaling-stroke; fill: none; stroke: rgb(0, 0, 0); stroke-opacity: 0; stroke-width: 0px; opacity: 1;\"/></g><g class=\"points\"><path class=\"point\" transform=\"translate(33.92,229.34)\" d=\"M3,0A3,3 0 1,1 0,-3A3,3 0 0,1 3,0Z\" style=\"opacity: 1; stroke-width: 0px; fill: rgb(0, 0, 0); fill-opacity: 0;\"/><path class=\"point\" transform=\"translate(167.16,229.34)\" d=\"M3,0A3,3 0 1,1 0,-3A3,3 0 0,1 3,0Z\" style=\"opacity: 1; stroke-width: 0px; fill: rgb(0, 0, 0); fill-opacity: 0;\"/><path class=\"point\" transform=\"translate(300.41,229.34)\" d=\"M3,0A3,3 0 1,1 0,-3A3,3 0 0,1 3,0Z\" style=\"opacity: 1; stroke-width: 0px; fill: rgb(0, 0, 0); fill-opacity: 0;\"/><path class=\"point\" transform=\"translate(433.65,229.34)\" d=\"M3,0A3,3 0 1,1 0,-3A3,3 0 0,1 3,0Z\" style=\"opacity: 1; stroke-width: 0px; fill: rgb(0, 0, 0); fill-opacity: 0;\"/><path class=\"point\" transform=\"translate(566.9,229.34)\" d=\"M3,0A3,3 0 1,1 0,-3A3,3 0 0,1 3,0Z\" style=\"opacity: 1; stroke-width: 0px; fill: rgb(0, 0, 0); fill-opacity: 0;\"/></g><g class=\"text\"/></g><g class=\"trace scatter trace4594a2c1-e1e0-4af8-8deb-12372e26daf2\" style=\"stroke-miterlimit: 2;\"><g class=\"fills\"/><g class=\"errorbars\"/><g class=\"lines\"><path class=\"js-line\" d=\"M33.92,229.34L167.16,220.81L300.41,229.34L433.65,229.34L566.9,16.02\" style=\"vector-effect: non-scaling-stroke; fill: none; stroke: rgb(0, 0, 0); stroke-opacity: 0; stroke-width: 0px; opacity: 1;\"/></g><g class=\"points\"><path class=\"point\" transform=\"translate(33.92,229.34)\" d=\"M3,0A3,3 0 1,1 0,-3A3,3 0 0,1 3,0Z\" style=\"opacity: 1; stroke-width: 0px; fill: rgb(0, 0, 0); fill-opacity: 0;\"/><path class=\"point\" transform=\"translate(167.16,220.81)\" d=\"M3,0A3,3 0 1,1 0,-3A3,3 0 0,1 3,0Z\" style=\"opacity: 1; stroke-width: 0px; fill: rgb(0, 0, 0); fill-opacity: 0;\"/><path class=\"point\" transform=\"translate(300.41,229.34)\" d=\"M3,0A3,3 0 1,1 0,-3A3,3 0 0,1 3,0Z\" style=\"opacity: 1; stroke-width: 0px; fill: rgb(0, 0, 0); fill-opacity: 0;\"/><path class=\"point\" transform=\"translate(433.65,229.34)\" d=\"M3,0A3,3 0 1,1 0,-3A3,3 0 0,1 3,0Z\" style=\"opacity: 1; stroke-width: 0px; fill: rgb(0, 0, 0); fill-opacity: 0;\"/><path class=\"point\" transform=\"translate(566.9,16.02)\" d=\"M3,0A3,3 0 1,1 0,-3A3,3 0 0,1 3,0Z\" style=\"opacity: 1; stroke-width: 0px; fill: rgb(0, 0, 0); fill-opacity: 0;\"/></g><g class=\"text\"/></g><g class=\"trace scatter trace11262ee2-cbe1-4e0e-8cb0-78d7d811ded5\" style=\"stroke-miterlimit: 2; opacity: 1;\"><g class=\"fills\"/><g class=\"errorbars\"/><g class=\"lines\"><path class=\"js-line\" d=\"M33.92,229.34L167.16,220.81L300.41,229.34L433.65,229.34L566.9,16.02\" style=\"vector-effect: non-scaling-stroke; fill: none; stroke: rgb(227, 119, 194); stroke-opacity: 1; stroke-width: 2px; opacity: 1;\"/></g><g class=\"points\"><path class=\"point\" transform=\"translate(33.92,229.34)\" d=\"M3,0A3,3 0 1,1 0,-3A3,3 0 0,1 3,0Z\" style=\"opacity: 1; stroke-width: 0px; fill: rgb(227, 119, 194); fill-opacity: 1;\"/><path class=\"point\" transform=\"translate(167.16,220.81)\" d=\"M3,0A3,3 0 1,1 0,-3A3,3 0 0,1 3,0Z\" style=\"opacity: 1; stroke-width: 0px; fill: rgb(227, 119, 194); fill-opacity: 1;\"/><path class=\"point\" transform=\"translate(300.41,229.34)\" d=\"M3,0A3,3 0 1,1 0,-3A3,3 0 0,1 3,0Z\" style=\"opacity: 1; stroke-width: 0px; fill: rgb(227, 119, 194); fill-opacity: 1;\"/><path class=\"point\" transform=\"translate(433.65,229.34)\" d=\"M3,0A3,3 0 1,1 0,-3A3,3 0 0,1 3,0Z\" style=\"opacity: 1; stroke-width: 0px; fill: rgb(227, 119, 194); fill-opacity: 1;\"/><path class=\"point\" transform=\"translate(566.9,16.02)\" d=\"M3,0A3,3 0 1,1 0,-3A3,3 0 0,1 3,0Z\" style=\"opacity: 1; stroke-width: 0px; fill: rgb(227, 119, 194); fill-opacity: 1;\"/></g><g class=\"text\"/></g><g class=\"trace scatter trace064d2d40-b16d-4aaa-85bf-ef93c6a7e0f1\" style=\"stroke-miterlimit: 2; opacity: 0;\"><g class=\"fills\"/><g class=\"errorbars\"/><g class=\"lines\"><path class=\"js-line\" d=\"M33.92,229.34L566.9,229.34\" style=\"vector-effect: non-scaling-stroke; fill: none; stroke: rgb(0, 0, 0); stroke-opacity: 0; stroke-width: 0px; opacity: 1;\"/></g><g class=\"points\"><path class=\"point\" transform=\"translate(33.92,229.34)\" d=\"M3,0A3,3 0 1,1 0,-3A3,3 0 0,1 3,0Z\" style=\"opacity: 1; stroke-width: 0px; fill: rgb(0, 0, 0); fill-opacity: 0;\"/><path class=\"point\" transform=\"translate(167.16,229.34)\" d=\"M3,0A3,3 0 1,1 0,-3A3,3 0 0,1 3,0Z\" style=\"opacity: 1; stroke-width: 0px; fill: rgb(0, 0, 0); fill-opacity: 0;\"/><path class=\"point\" transform=\"translate(300.41,229.34)\" d=\"M3,0A3,3 0 1,1 0,-3A3,3 0 0,1 3,0Z\" style=\"opacity: 1; stroke-width: 0px; fill: rgb(0, 0, 0); fill-opacity: 0;\"/><path class=\"point\" transform=\"translate(433.65,229.34)\" d=\"M3,0A3,3 0 1,1 0,-3A3,3 0 0,1 3,0Z\" style=\"opacity: 1; stroke-width: 0px; fill: rgb(0, 0, 0); fill-opacity: 0;\"/><path class=\"point\" transform=\"translate(566.9,229.34)\" d=\"M3,0A3,3 0 1,1 0,-3A3,3 0 0,1 3,0Z\" style=\"opacity: 1; stroke-width: 0px; fill: rgb(0, 0, 0); fill-opacity: 0;\"/></g><g class=\"text\"/></g></g></g><g class=\"overplot\"/><path class=\"xlines-above crisp\" d=\"M0,0\" style=\"fill: none;\"/><path class=\"ylines-above crisp\" d=\"M0,0\" style=\"fill: none;\"/><g class=\"overlines-above\"/><g class=\"xaxislayer-above\"><g class=\"x14tick\"><text text-anchor=\"middle\" x=\"0\" y=\"4095\" transform=\"translate(151.92000000000002,0)\" style=\"font-family: 'Open Sans', verdana, arial, sans-serif; font-size: 12px; fill: rgb(42, 63, 95); fill-opacity: 1; white-space: pre; opacity: 1;\"><tspan class=\"line\" dy=\"0em\" x=\"0\" y=\"4095\">Jan 1</tspan><tspan class=\"line\" dy=\"1.3em\" x=\"0\" y=\"4095\">2020</tspan></text></g><g class=\"x14tick\"><text text-anchor=\"middle\" x=\"0\" y=\"4095\" style=\"font-family: 'Open Sans', verdana, arial, sans-serif; font-size: 12px; fill: rgb(42, 63, 95); fill-opacity: 1; white-space: pre; opacity: 1;\" transform=\"translate(285.15999999999997,0)\">Jan 2</text></g><g class=\"x14tick\"><text text-anchor=\"middle\" x=\"0\" y=\"4095\" style=\"font-family: 'Open Sans', verdana, arial, sans-serif; font-size: 12px; fill: rgb(42, 63, 95); fill-opacity: 1; white-space: pre; opacity: 1;\" transform=\"translate(418.41,0)\">Jan 3</text></g><g class=\"x14tick\"><text text-anchor=\"middle\" x=\"0\" y=\"4095\" style=\"font-family: 'Open Sans', verdana, arial, sans-serif; font-size: 12px; fill: rgb(42, 63, 95); fill-opacity: 1; white-space: pre; opacity: 1;\" transform=\"translate(551.65,0)\">Jan 4</text></g><g class=\"x14tick\"><text text-anchor=\"middle\" x=\"0\" y=\"4095\" style=\"font-family: 'Open Sans', verdana, arial, sans-serif; font-size: 12px; fill: rgb(42, 63, 95); fill-opacity: 1; white-space: pre; opacity: 1;\" transform=\"translate(684.9,0)\">Jan 5</text></g></g><g class=\"yaxislayer-above\"><g class=\"y14tick\"><text text-anchor=\"end\" x=\"117\" y=\"4.199999999999999\" transform=\"translate(0,4065.9869879518074)\" style=\"font-family: 'Open Sans', verdana, arial, sans-serif; font-size: 12px; fill: rgb(42, 63, 95); fill-opacity: 1; white-space: pre; opacity: 1;\">0</text></g><g class=\"y14tick\"><text text-anchor=\"end\" x=\"117\" y=\"4.199999999999999\" style=\"font-family: 'Open Sans', verdana, arial, sans-serif; font-size: 12px; fill: rgb(42, 63, 95); fill-opacity: 1; white-space: pre; opacity: 1;\" transform=\"translate(0,4023.386987951807)\">0.005</text></g><g class=\"y14tick\"><text text-anchor=\"end\" x=\"117\" y=\"4.199999999999999\" style=\"font-family: 'Open Sans', verdana, arial, sans-serif; font-size: 12px; fill: rgb(42, 63, 95); fill-opacity: 1; white-space: pre; opacity: 1;\" transform=\"translate(0,3980.786987951807)\">0.01</text></g><g class=\"y14tick\"><text text-anchor=\"end\" x=\"117\" y=\"4.199999999999999\" style=\"font-family: 'Open Sans', verdana, arial, sans-serif; font-size: 12px; fill: rgb(42, 63, 95); fill-opacity: 1; white-space: pre; opacity: 1;\" transform=\"translate(0,3938.186987951807)\">0.015</text></g><g class=\"y14tick\"><text text-anchor=\"end\" x=\"117\" y=\"4.199999999999999\" style=\"font-family: 'Open Sans', verdana, arial, sans-serif; font-size: 12px; fill: rgb(42, 63, 95); fill-opacity: 1; white-space: pre; opacity: 1;\" transform=\"translate(0,3895.596987951807)\">0.02</text></g><g class=\"y14tick\"><text text-anchor=\"end\" x=\"117\" y=\"4.199999999999999\" style=\"font-family: 'Open Sans', verdana, arial, sans-serif; font-size: 12px; fill: rgb(42, 63, 95); fill-opacity: 1; white-space: pre; opacity: 1;\" transform=\"translate(0,3852.996987951807)\">0.025</text></g></g><g class=\"overaxes-above\"/></g></g><g class=\"polarlayer\"/><g class=\"ternarylayer\"/><g class=\"geolayer\"/><g class=\"funnelarealayer\"/><g class=\"pielayer\"/><g class=\"iciclelayer\"/><g class=\"treemaplayer\"/><g class=\"sunburstlayer\"/><g class=\"glimages\"/><defs id=\"topdefs-7d9773\"><g class=\"clips\"/><clipPath id=\"legend7d9773\"><rect width=\"485\" height=\"105\" x=\"0\" y=\"0\"/></clipPath></defs><g class=\"layer-above\"><g class=\"imagelayer\"/><g class=\"shapelayer\"><path data-index=\"2\" fill-rule=\"evenodd\" d=\"M118,722.4072289156624L720,722.4072289156624\" clip-path=\"url(#clip7d9773y3)\" style=\"opacity: 1; stroke: rgb(128, 128, 128); stroke-opacity: 1; fill: rgb(0, 0, 0); fill-opacity: 0; stroke-dasharray: 9px, 9px; stroke-width: 2px;\"/><path data-index=\"3\" fill-rule=\"evenodd\" d=\"M118,1214.550843373494L720,1214.550843373494\" clip-path=\"url(#clip7d9773y4)\" style=\"opacity: 1; stroke: rgb(128, 128, 128); stroke-opacity: 1; fill: rgb(0, 0, 0); fill-opacity: 0; stroke-dasharray: 9px, 9px; stroke-width: 2px;\"/><path data-index=\"4\" fill-rule=\"evenodd\" d=\"M118,1311.5044578313252L720,1311.5044578313252\" clip-path=\"url(#clip7d9773y5)\" style=\"opacity: 1; stroke: rgb(128, 128, 128); stroke-opacity: 1; fill: rgb(0, 0, 0); fill-opacity: 0; stroke-dasharray: 9px, 9px; stroke-width: 2px;\"/><path data-index=\"5\" fill-rule=\"evenodd\" d=\"M118,1800.3580722891566L720,1800.3580722891566\" clip-path=\"url(#clip7d9773y6)\" style=\"opacity: 1; stroke: rgb(128, 128, 128); stroke-opacity: 1; fill: rgb(0, 0, 0); fill-opacity: 0; stroke-dasharray: 9px, 9px; stroke-width: 2px;\"/><path data-index=\"6\" fill-rule=\"evenodd\" d=\"M118,1870.2416867469879L720,1870.2416867469879\" clip-path=\"url(#clip7d9773y7)\" style=\"opacity: 1; stroke: rgb(128, 128, 128); stroke-opacity: 1; fill: rgb(0, 0, 0); fill-opacity: 0; stroke-dasharray: 9px, 9px; stroke-width: 2px;\"/><path data-index=\"7\" fill-rule=\"evenodd\" d=\"M118,2366.765301204819L720,2366.765301204819\" clip-path=\"url(#clip7d9773y8)\" style=\"opacity: 1; stroke: rgb(128, 128, 128); stroke-opacity: 1; fill: rgb(0, 0, 0); fill-opacity: 0; stroke-dasharray: 9px, 9px; stroke-width: 2px;\"/><path data-index=\"8\" fill-rule=\"evenodd\" d=\"M118,2436.648915662651L720,2436.648915662651\" clip-path=\"url(#clip7d9773y9)\" style=\"opacity: 1; stroke: rgb(128, 128, 128); stroke-opacity: 1; fill: rgb(0, 0, 0); fill-opacity: 0; stroke-dasharray: 9px, 9px; stroke-width: 2px;\"/><path data-index=\"9\" fill-rule=\"evenodd\" d=\"M118,2932.9425301204824L720,2932.9425301204824\" clip-path=\"url(#clip7d9773y10)\" style=\"opacity: 1; stroke: rgb(128, 128, 128); stroke-opacity: 1; fill: rgb(0, 0, 0); fill-opacity: 0; stroke-dasharray: 9px, 9px; stroke-width: 2px;\"/><path data-index=\"11\" fill-rule=\"evenodd\" d=\"M118,3271.2397590361443L720,3271.2397590361443\" clip-path=\"url(#clip7d9773y12)\" style=\"opacity: 1; stroke: rgb(128, 128, 128); stroke-opacity: 1; fill: rgb(0, 0, 0); fill-opacity: 0; stroke-dasharray: 9px, 9px; stroke-width: 2px;\"/><path data-index=\"12\" fill-rule=\"evenodd\" d=\"M118,3569.4633734939757L720,3569.4633734939757\" clip-path=\"url(#clip7d9773y13)\" style=\"opacity: 1; stroke: rgb(128, 128, 128); stroke-opacity: 1; fill: rgb(0, 0, 0); fill-opacity: 0; stroke-dasharray: 9px, 9px; stroke-width: 2px;\"/><path data-index=\"13\" fill-rule=\"evenodd\" d=\"M118,4065.9869879518074L720,4065.9869879518074\" clip-path=\"url(#clip7d9773y14)\" style=\"opacity: 1; stroke: rgb(128, 128, 128); stroke-opacity: 1; fill: rgb(0, 0, 0); fill-opacity: 0; stroke-dasharray: 9px, 9px; stroke-width: 2px;\"/></g></g><g class=\"infolayer\"><g class=\"legend\" pointer-events=\"all\" transform=\"translate(235,12.149397590361147)\"><rect class=\"bg\" shape-rendering=\"crispEdges\" width=\"485\" height=\"105\" x=\"0\" y=\"0\" style=\"stroke: rgb(68, 68, 68); stroke-opacity: 1; fill: rgb(255, 255, 255); fill-opacity: 1; stroke-width: 0px;\"/><g class=\"scrollbox\" transform=\"\" clip-path=\"url(#legend7d9773)\"><g class=\"groups\"><g class=\"traces\" transform=\"translate(0,14.5)\" style=\"opacity: 1;\"><text class=\"legendtext\" text-anchor=\"start\" x=\"40\" y=\"4.680000000000001\" style=\"font-family: 'Open Sans', verdana, arial, sans-serif; font-size: 12px; fill: rgb(42, 63, 95); fill-opacity: 1; white-space: pre;\">Close</text><g class=\"layers\" style=\"opacity: 1;\"><g class=\"legendfill\"/><g class=\"legendlines\"><path class=\"js-line\" d=\"M5,0h30\" style=\"fill: none; stroke: rgb(31, 119, 180); stroke-opacity: 1; stroke-width: 2px;\"/></g><g class=\"legendsymbols\"><g class=\"legendpoints\"><path class=\"scatterpts\" transform=\"translate(20,0)\" d=\"M3,0A3,3 0 1,1 0,-3A3,3 0 0,1 3,0Z\" style=\"opacity: 1; stroke-width: 0px; fill: rgb(31, 119, 180); fill-opacity: 1;\"/></g></g></g><rect class=\"legendtoggle\" x=\"0\" y=\"-9.5\" width=\"74.84375\" height=\"19\" style=\"fill: rgb(0, 0, 0); fill-opacity: 0;\"/></g><g class=\"traces\" transform=\"translate(125.171875,14.5)\" style=\"opacity: 1;\"><text class=\"legendtext\" text-anchor=\"start\" x=\"40\" y=\"4.680000000000001\" style=\"font-family: 'Open Sans', verdana, arial, sans-serif; font-size: 12px; fill: rgb(42, 63, 95); fill-opacity: 1; white-space: pre;\">Buy</text><g class=\"layers\" style=\"opacity: 1;\"><g class=\"legendfill\"/><g class=\"legendlines\"/><g class=\"legendsymbols\"><g class=\"legendpoints\"><path class=\"scatterpts\" transform=\"translate(20,0)\" d=\"M-4.62,2H4.62L0,-4Z\" style=\"opacity: 1; stroke-width: 1px; fill: rgb(55, 177, 63); fill-opacity: 1; stroke: rgb(38, 123, 44); stroke-opacity: 1;\"/></g></g></g><rect class=\"legendtoggle\" x=\"0\" y=\"-9.5\" width=\"65.421875\" height=\"19\" style=\"fill: rgb(0, 0, 0); fill-opacity: 0;\"/></g><g class=\"traces\" transform=\"translate(250.34375,14.5)\" style=\"opacity: 1;\"><text class=\"legendtext\" text-anchor=\"start\" x=\"40\" y=\"4.680000000000001\" style=\"font-family: 'Open Sans', verdana, arial, sans-serif; font-size: 12px; fill: rgb(42, 63, 95); fill-opacity: 1; white-space: pre;\">Sell</text><g class=\"layers\" style=\"opacity: 1;\"><g class=\"legendfill\"/><g class=\"legendlines\"/><g class=\"legendsymbols\"><g class=\"legendpoints\"><path class=\"scatterpts\" transform=\"translate(20,0)\" d=\"M-4.62,-2H4.62L0,4Z\" style=\"opacity: 1; stroke-width: 1px; fill: rgb(234, 67, 53); fill-opacity: 1; stroke: rgb(181, 31, 18); stroke-opacity: 1;\"/></g></g></g><rect class=\"legendtoggle\" x=\"0\" y=\"-9.5\" width=\"64.4375\" height=\"19\" style=\"fill: rgb(0, 0, 0); fill-opacity: 0;\"/></g><g class=\"traces\" transform=\"translate(375.515625,14.5)\" style=\"opacity: 1;\"><text class=\"legendtext\" text-anchor=\"start\" x=\"40\" y=\"4.680000000000001\" style=\"font-family: 'Open Sans', verdana, arial, sans-serif; font-size: 12px; fill: rgb(42, 63, 95); fill-opacity: 1; white-space: pre;\">Entry</text><g class=\"layers\" style=\"opacity: 1;\"><g class=\"legendfill\"/><g class=\"legendlines\"/><g class=\"legendsymbols\"><g class=\"legendpoints\"><path class=\"scatterpts\" transform=\"translate(20,0)\" d=\"M3.5,3.5H-3.5V-3.5H3.5Z\" style=\"opacity: 1; stroke-width: 1px; fill: rgb(66, 133, 244); fill-opacity: 1; stroke: rgb(11, 84, 205); stroke-opacity: 1;\"/></g></g></g><rect class=\"legendtoggle\" x=\"0\" y=\"-9.5\" width=\"74.625\" height=\"19\" style=\"fill: rgb(0, 0, 0); fill-opacity: 0;\"/></g><g class=\"traces\" transform=\"translate(0,33.5)\" style=\"opacity: 1;\"><text class=\"legendtext\" text-anchor=\"start\" x=\"40\" y=\"4.680000000000001\" style=\"font-family: 'Open Sans', verdana, arial, sans-serif; font-size: 12px; fill: rgb(42, 63, 95); fill-opacity: 1; white-space: pre;\">Exit - Loss</text><g class=\"layers\" style=\"opacity: 1;\"><g class=\"legendfill\"/><g class=\"legendlines\"/><g class=\"legendsymbols\"><g class=\"legendpoints\"><path class=\"scatterpts\" transform=\"translate(20,0)\" d=\"M3.5,3.5H-3.5V-3.5H3.5Z\" style=\"opacity: 1; stroke-width: 1px; fill: rgb(234, 67, 53); fill-opacity: 1; stroke: rgb(181, 31, 18); stroke-opacity: 1;\"/></g></g></g><rect class=\"legendtoggle\" x=\"0\" y=\"-9.5\" width=\"105.5625\" height=\"19\" style=\"fill: rgb(0, 0, 0); fill-opacity: 0;\"/></g><g class=\"traces\" transform=\"translate(125.171875,33.5)\" style=\"opacity: 1;\"><text class=\"legendtext\" text-anchor=\"start\" x=\"40\" y=\"4.680000000000001\" style=\"font-family: 'Open Sans', verdana, arial, sans-serif; font-size: 12px; fill: rgb(42, 63, 95); fill-opacity: 1; white-space: pre;\">Active</text><g class=\"layers\" style=\"opacity: 1;\"><g class=\"legendfill\"/><g class=\"legendlines\"/><g class=\"legendsymbols\"><g class=\"legendpoints\"><path class=\"scatterpts\" transform=\"translate(20,0)\" d=\"M3.5,3.5H-3.5V-3.5H3.5Z\" style=\"opacity: 1; stroke-width: 1px; fill: rgb(255, 170, 0); fill-opacity: 1; stroke: rgb(178, 118, 0); stroke-opacity: 1;\"/></g></g></g><rect class=\"legendtoggle\" x=\"0\" y=\"-9.5\" width=\"79.21875\" height=\"19\" style=\"fill: rgb(0, 0, 0); fill-opacity: 0;\"/></g><g class=\"traces\" transform=\"translate(250.34375,33.5)\" style=\"opacity: 1;\"><text class=\"legendtext\" text-anchor=\"start\" x=\"40\" y=\"4.680000000000001\" style=\"font-family: 'Open Sans', verdana, arial, sans-serif; font-size: 12px; fill: rgb(42, 63, 95); fill-opacity: 1; white-space: pre;\">Closed - Loss</text><g class=\"layers\" style=\"opacity: 1;\"><g class=\"legendfill\"/><g class=\"legendlines\"/><g class=\"legendsymbols\"><g class=\"legendpoints\"><path class=\"scatterpts\" transform=\"translate(20,0)\" d=\"M7,0A7,7 0 1,1 0,-7A7,7 0 0,1 7,0Z\" style=\"opacity: 0.9; stroke-width: 1px; fill: rgb(234, 67, 53); fill-opacity: 1; stroke: rgb(181, 31, 18); stroke-opacity: 1;\"/></g></g></g><rect class=\"legendtoggle\" x=\"0\" y=\"-9.5\" width=\"122.671875\" height=\"19\" style=\"fill: rgb(0, 0, 0); fill-opacity: 0;\"/></g><g class=\"traces\" transform=\"translate(375.515625,33.5)\" style=\"opacity: 1;\"><text class=\"legendtext\" text-anchor=\"start\" x=\"40\" y=\"4.680000000000001\" style=\"font-family: 'Open Sans', verdana, arial, sans-serif; font-size: 12px; fill: rgb(42, 63, 95); fill-opacity: 1; white-space: pre;\">Open</text><g class=\"layers\" style=\"opacity: 1;\"><g class=\"legendfill\"/><g class=\"legendlines\"/><g class=\"legendsymbols\"><g class=\"legendpoints\"><path class=\"scatterpts\" transform=\"translate(20,0)\" d=\"M3.5,0A3.5,3.5 0 1,1 0,-3.5A3.5,3.5 0 0,1 3.5,0Z\" style=\"opacity: 0.75; stroke-width: 1px; fill: rgb(255, 170, 0); fill-opacity: 1; stroke: rgb(178, 118, 0); stroke-opacity: 1;\"/></g></g></g><rect class=\"legendtoggle\" x=\"0\" y=\"-9.5\" width=\"74.15625\" height=\"19\" style=\"fill: rgb(0, 0, 0); fill-opacity: 0;\"/></g><g class=\"traces\" transform=\"translate(0,52.5)\" style=\"opacity: 1;\"><text class=\"legendtext\" text-anchor=\"start\" x=\"40\" y=\"4.680000000000001\" style=\"font-family: 'Open Sans', verdana, arial, sans-serif; font-size: 12px; fill: rgb(42, 63, 95); fill-opacity: 1; white-space: pre;\">Assets</text><g class=\"layers\" style=\"opacity: 1;\"><g class=\"legendfill\"/><g class=\"legendlines\"><path class=\"js-line\" d=\"M5,0h30\" style=\"fill: none; stroke: rgb(140, 86, 75); stroke-opacity: 1; stroke-width: 2px;\"/></g><g class=\"legendsymbols\"><g class=\"legendpoints\"><path class=\"scatterpts\" transform=\"translate(20,0)\" d=\"M3,0A3,3 0 1,1 0,-3A3,3 0 0,1 3,0Z\" style=\"opacity: 1; stroke-width: 0px; fill: rgb(140, 86, 75); fill-opacity: 1;\"/></g></g></g><rect class=\"legendtoggle\" x=\"0\" y=\"-9.5\" width=\"81.328125\" height=\"19\" style=\"fill: rgb(0, 0, 0); fill-opacity: 0;\"/></g><g class=\"traces\" transform=\"translate(125.171875,52.5)\" style=\"opacity: 1;\"><text class=\"legendtext\" text-anchor=\"start\" x=\"40\" y=\"4.680000000000001\" style=\"font-family: 'Open Sans', verdana, arial, sans-serif; font-size: 12px; fill: rgb(42, 63, 95); fill-opacity: 1; white-space: pre;\">Cash</text><g class=\"layers\" style=\"opacity: 1;\"><g class=\"legendfill\"/><g class=\"legendlines\"><path class=\"js-line\" d=\"M5,0h30\" style=\"fill: none; stroke: rgb(44, 160, 44); stroke-opacity: 1; stroke-width: 2px;\"/></g><g class=\"legendsymbols\"><g class=\"legendpoints\"><path class=\"scatterpts\" transform=\"translate(20,0)\" d=\"M3,0A3,3 0 1,1 0,-3A3,3 0 0,1 3,0Z\" style=\"opacity: 1; stroke-width: 0px; fill: rgb(44, 160, 44); fill-opacity: 1;\"/></g></g></g><rect class=\"legendtoggle\" x=\"0\" y=\"-9.5\" width=\"71.921875\" height=\"19\" style=\"fill: rgb(0, 0, 0); fill-opacity: 0;\"/></g><g class=\"traces\" transform=\"translate(250.34375,52.5)\" style=\"opacity: 1;\"><text class=\"legendtext\" text-anchor=\"start\" x=\"40\" y=\"4.680000000000001\" style=\"font-family: 'Open Sans', verdana, arial, sans-serif; font-size: 12px; fill: rgb(42, 63, 95); fill-opacity: 1; white-space: pre;\">Asset Value</text><g class=\"layers\" style=\"opacity: 1;\"><g class=\"legendfill\"/><g class=\"legendlines\"><path class=\"js-line\" d=\"M5,0h30\" style=\"fill: none; stroke: rgb(23, 190, 207); stroke-opacity: 1; stroke-width: 2px;\"/></g><g class=\"legendsymbols\"><g class=\"legendpoints\"><path class=\"scatterpts\" transform=\"translate(20,0)\" d=\"M3,0A3,3 0 1,1 0,-3A3,3 0 0,1 3,0Z\" style=\"opacity: 1; stroke-width: 0px; fill: rgb(23, 190, 207); fill-opacity: 1;\"/></g></g></g><rect class=\"legendtoggle\" x=\"0\" y=\"-9.5\" width=\"112.734375\" height=\"19\" style=\"fill: rgb(0, 0, 0); fill-opacity: 0;\"/></g><g class=\"traces\" transform=\"translate(375.515625,52.5)\" style=\"opacity: 1;\"><text class=\"legendtext\" text-anchor=\"start\" x=\"40\" y=\"4.680000000000001\" style=\"font-family: 'Open Sans', verdana, arial, sans-serif; font-size: 12px; fill: rgb(42, 63, 95); fill-opacity: 1; white-space: pre;\">Value</text><g class=\"layers\" style=\"opacity: 1;\"><g class=\"legendfill\"/><g class=\"legendlines\"><path class=\"js-line\" d=\"M5,0h30\" style=\"fill: none; stroke: rgb(148, 103, 189); stroke-opacity: 1; stroke-width: 2px;\"/></g><g class=\"legendsymbols\"><g class=\"legendpoints\"><path class=\"scatterpts\" transform=\"translate(20,0)\" d=\"M3,0A3,3 0 1,1 0,-3A3,3 0 0,1 3,0Z\" style=\"opacity: 1; stroke-width: 0px; fill: rgb(148, 103, 189); fill-opacity: 1;\"/></g></g></g><rect class=\"legendtoggle\" x=\"0\" y=\"-9.5\" width=\"75.9375\" height=\"19\" style=\"fill: rgb(0, 0, 0); fill-opacity: 0;\"/></g><g class=\"traces\" transform=\"translate(0,71.5)\" style=\"opacity: 1;\"><text class=\"legendtext\" text-anchor=\"start\" x=\"40\" y=\"4.680000000000001\" style=\"font-family: 'Open Sans', verdana, arial, sans-serif; font-size: 12px; fill: rgb(42, 63, 95); fill-opacity: 1; white-space: pre;\">Benchmark</text><g class=\"layers\" style=\"opacity: 1;\"><g class=\"legendfill\"/><g class=\"legendlines\"><path class=\"js-line\" d=\"M5,0h30\" style=\"fill: none; stroke: rgb(127, 127, 127); stroke-opacity: 1; stroke-width: 2px;\"/></g><g class=\"legendsymbols\"><g class=\"legendpoints\"><path class=\"scatterpts\" transform=\"translate(20,0)\" d=\"M3,0A3,3 0 1,1 0,-3A3,3 0 0,1 3,0Z\" style=\"opacity: 1; stroke-width: 0px; fill: rgb(127, 127, 127); fill-opacity: 1;\"/></g></g></g><rect class=\"legendtoggle\" x=\"0\" y=\"-9.5\" width=\"110.40625\" height=\"19\" style=\"fill: rgb(0, 0, 0); fill-opacity: 0;\"/></g><g class=\"traces\" transform=\"translate(125.171875,71.5)\" style=\"opacity: 1;\"><text class=\"legendtext\" text-anchor=\"start\" x=\"40\" y=\"4.680000000000001\" style=\"font-family: 'Open Sans', verdana, arial, sans-serif; font-size: 12px; fill: rgb(42, 63, 95); fill-opacity: 1; white-space: pre;\">Peak</text><g class=\"layers\" style=\"opacity: 1;\"><g class=\"legendfill\"/><g class=\"legendlines\"/><g class=\"legendsymbols\"><g class=\"legendpoints\"><path class=\"scatterpts\" transform=\"translate(20,0)\" d=\"M4.55,0L0,4.55L-4.55,0L0,-4.55Z\" style=\"opacity: 1; stroke-width: 1px; fill: rgb(66, 133, 244); fill-opacity: 1; stroke: rgb(11, 84, 205); stroke-opacity: 1;\"/></g></g></g><rect class=\"legendtoggle\" x=\"0\" y=\"-9.5\" width=\"71.1875\" height=\"19\" style=\"fill: rgb(0, 0, 0); fill-opacity: 0;\"/></g><g class=\"traces\" transform=\"translate(250.34375,71.5)\" style=\"opacity: 1;\"><text class=\"legendtext\" text-anchor=\"start\" x=\"40\" y=\"4.680000000000001\" style=\"font-family: 'Open Sans', verdana, arial, sans-serif; font-size: 12px; fill: rgb(42, 63, 95); fill-opacity: 1; white-space: pre;\">Active</text><g class=\"layers\" style=\"opacity: 1;\"><g class=\"legendfill\"/><g class=\"legendlines\"/><g class=\"legendsymbols\"><g class=\"legendpoints\"><path class=\"scatterpts\" transform=\"translate(20,0)\" d=\"M4.55,0L0,4.55L-4.55,0L0,-4.55Z\" style=\"opacity: 1; stroke-width: 1px; fill: rgb(255, 170, 0); fill-opacity: 1; stroke: rgb(178, 118, 0); stroke-opacity: 1;\"/></g></g></g><rect class=\"legendtoggle\" x=\"0\" y=\"-9.5\" width=\"79.21875\" height=\"19\" style=\"fill: rgb(0, 0, 0); fill-opacity: 0;\"/></g><g class=\"traces\" transform=\"translate(375.515625,71.5)\" style=\"opacity: 1;\"><text class=\"legendtext\" text-anchor=\"start\" x=\"40\" y=\"4.680000000000001\" style=\"font-family: 'Open Sans', verdana, arial, sans-serif; font-size: 12px; fill: rgb(42, 63, 95); fill-opacity: 1; white-space: pre;\">Drawdown</text><g class=\"layers\"><g class=\"legendfill\"><path class=\"js-fill\" d=\"M5,0h30v6h-30z\" style=\"stroke-width: 0; fill: rgb(220, 57, 18); fill-opacity: 0.3;\"/></g><g class=\"legendlines\"><path class=\"js-line\" d=\"M5,0h30\" style=\"fill: none; stroke: rgb(220, 57, 18); stroke-opacity: 1; stroke-width: 2px;\"/></g><g class=\"legendsymbols\"><g class=\"legendpoints\"><path class=\"scatterpts\" transform=\"translate(20,0)\" d=\"M3,0A3,3 0 1,1 0,-3A3,3 0 0,1 3,0Z\" style=\"opacity: 1; stroke-width: 0px; fill: rgb(220, 57, 18); fill-opacity: 1;\"/></g></g></g><rect class=\"legendtoggle\" x=\"0\" y=\"-9.5\" width=\"106.0625\" height=\"19\" style=\"fill: rgb(0, 0, 0); fill-opacity: 0;\"/></g><g class=\"traces\" transform=\"translate(0,90.5)\" style=\"opacity: 1;\"><text class=\"legendtext\" text-anchor=\"start\" x=\"40\" y=\"4.680000000000001\" style=\"font-family: 'Open Sans', verdana, arial, sans-serif; font-size: 12px; fill: rgb(42, 63, 95); fill-opacity: 1; white-space: pre;\">Exposure</text><g class=\"layers\" style=\"opacity: 1;\"><g class=\"legendfill\"/><g class=\"legendlines\"><path class=\"js-line\" d=\"M5,0h30\" style=\"fill: none; stroke: rgb(227, 119, 194); stroke-opacity: 1; stroke-width: 2px;\"/></g><g class=\"legendsymbols\"><g class=\"legendpoints\"><path class=\"scatterpts\" transform=\"translate(20,0)\" d=\"M3,0A3,3 0 1,1 0,-3A3,3 0 0,1 3,0Z\" style=\"opacity: 1; stroke-width: 0px; fill: rgb(227, 119, 194); fill-opacity: 1;\"/></g></g></g><rect class=\"legendtoggle\" x=\"0\" y=\"-9.5\" width=\"98.0625\" height=\"19\" style=\"fill: rgb(0, 0, 0); fill-opacity: 0;\"/></g></g></g><rect class=\"scrollbar\" rx=\"20\" ry=\"3\" width=\"0\" height=\"0\" x=\"0\" y=\"0\" style=\"fill: rgb(128, 139, 164); fill-opacity: 1;\"/></g><g class=\"g-gtitle\"/><g class=\"g-xtitle\"/><g class=\"g-x2title\"/><g class=\"g-x3title\"/><g class=\"g-x4title\"/><g class=\"g-x5title\"/><g class=\"g-x6title\"/><g class=\"g-x7title\"/><g class=\"g-x8title\"/><g class=\"g-x9title\"/><g class=\"g-x10title\"/><g class=\"g-x11title\"/><g class=\"g-x12title\"/><g class=\"g-x13title\"/><g class=\"g-x14title\"><text class=\"x14title\" x=\"419\" y=\"4137.89375\" text-anchor=\"middle\" style=\"font-family: 'Open Sans', verdana, arial, sans-serif; font-size: 14px; fill: rgb(42, 63, 95); opacity: 1; font-weight: normal; white-space: pre;\">Index</text></g><g class=\"g-ytitle\"><text class=\"ytitle\" transform=\"rotate(-90,72.575,277.6765060240964)\" x=\"72.575\" y=\"277.6765060240964\" text-anchor=\"middle\" style=\"font-family: 'Open Sans', verdana, arial, sans-serif; font-size: 14px; fill: rgb(42, 63, 95); opacity: 1; font-weight: normal; white-space: pre;\">Price</text></g><g class=\"g-y2title\"><text class=\"y2title\" transform=\"rotate(-90,72.575,560.8801204819275)\" x=\"72.575\" y=\"560.8801204819275\" text-anchor=\"middle\" style=\"font-family: 'Open Sans', verdana, arial, sans-serif; font-size: 14px; fill: rgb(42, 63, 95); opacity: 1; font-weight: normal; white-space: pre;\">Price</text></g><g class=\"g-y3title\"><text class=\"y3title\" transform=\"rotate(-90,34.575,844.0837349397588)\" x=\"34.575\" y=\"844.0837349397588\" text-anchor=\"middle\" style=\"font-family: 'Open Sans', verdana, arial, sans-serif; font-size: 14px; fill: rgb(42, 63, 95); opacity: 1; font-weight: normal; white-space: pre;\">Trade PnL</text></g><g class=\"g-y4title\"><text class=\"y4title\" transform=\"rotate(-90,72.575,1127.2873493975903)\" x=\"72.575\" y=\"1127.2873493975903\" text-anchor=\"middle\" style=\"font-family: 'Open Sans', verdana, arial, sans-serif; font-size: 14px; fill: rgb(42, 63, 95); opacity: 1; font-weight: normal; white-space: pre;\">Asset flow</text></g><g class=\"g-y5title\"><text class=\"y5title\" transform=\"rotate(-90,74.746875,1410.4909638554216)\" x=\"74.746875\" y=\"1410.4909638554216\" text-anchor=\"middle\" style=\"font-family: 'Open Sans', verdana, arial, sans-serif; font-size: 14px; fill: rgb(42, 63, 95); opacity: 1; font-weight: normal; white-space: pre;\">Cash flow</text></g><g class=\"g-y6title\"><text class=\"y6title\" transform=\"rotate(-90,72.575,1693.694578313253)\" x=\"72.575\" y=\"1693.694578313253\" text-anchor=\"middle\" style=\"font-family: 'Open Sans', verdana, arial, sans-serif; font-size: 14px; fill: rgb(42, 63, 95); opacity: 1; font-weight: normal; white-space: pre;\">Assets</text></g><g class=\"g-y7title\"><text class=\"y7title\" transform=\"rotate(-90,69.309375,1976.8981927710843)\" x=\"69.309375\" y=\"1976.8981927710843\" text-anchor=\"middle\" style=\"font-family: 'Open Sans', verdana, arial, sans-serif; font-size: 14px; fill: rgb(42, 63, 95); opacity: 1; font-weight: normal; white-space: pre;\">Cash</text></g><g class=\"g-y8title\"><text class=\"y8title\" transform=\"rotate(-90,84.559375,2260.1018072289153)\" x=\"84.559375\" y=\"2260.1018072289153\" text-anchor=\"middle\" style=\"font-family: 'Open Sans', verdana, arial, sans-serif; font-size: 14px; fill: rgb(42, 63, 95); opacity: 1; font-weight: normal; white-space: pre;\">Asset value</text></g><g class=\"g-y9title\"><text class=\"y9title\" transform=\"rotate(-90,57.309375,2543.305421686747)\" x=\"57.309375\" y=\"2543.305421686747\" text-anchor=\"middle\" style=\"font-family: 'Open Sans', verdana, arial, sans-serif; font-size: 14px; fill: rgb(42, 63, 95); opacity: 1; font-weight: normal; white-space: pre;\">Value</text></g><g class=\"g-y10title\"><text class=\"y10title\" transform=\"rotate(-90,72.575,2826.5090361445787)\" x=\"72.575\" y=\"2826.5090361445787\" text-anchor=\"middle\" style=\"font-family: 'Open Sans', verdana, arial, sans-serif; font-size: 14px; fill: rgb(42, 63, 95); opacity: 1; font-weight: normal; white-space: pre;\">Cumulative returns</text></g><g class=\"g-y11title\"><text class=\"y11title\" transform=\"rotate(-90,57.309375,3109.7126506024097)\" x=\"57.309375\" y=\"3109.7126506024097\" text-anchor=\"middle\" style=\"font-family: 'Open Sans', verdana, arial, sans-serif; font-size: 14px; fill: rgb(42, 63, 95); opacity: 1; font-weight: normal; white-space: pre;\">Value</text></g><g class=\"g-y12title\" transform=\"translate(2.3251953125,0)\"><text class=\"y12title\" transform=\"rotate(-90,11.684375000000003,3392.9162650602407)\" x=\"11.684375000000003\" y=\"3392.9162650602407\" text-anchor=\"middle\" style=\"font-family: 'Open Sans', verdana, arial, sans-serif; font-size: 14px; fill: rgb(42, 63, 95); opacity: 1; font-weight: normal; white-space: pre;\">Drawdown</text></g><g class=\"g-y13title\"><text class=\"y13title\" transform=\"rotate(-90,72.575,3676.119879518072)\" x=\"72.575\" y=\"3676.119879518072\" text-anchor=\"middle\" style=\"font-family: 'Open Sans', verdana, arial, sans-serif; font-size: 14px; fill: rgb(42, 63, 95); opacity: 1; font-weight: normal; white-space: pre;\">Gross exposure</text></g><g class=\"g-y14title\"><text class=\"y14title\" transform=\"rotate(-90,57.309375,3959.3234939759036)\" x=\"57.309375\" y=\"3959.3234939759036\" text-anchor=\"middle\" style=\"font-family: 'Open Sans', verdana, arial, sans-serif; font-size: 14px; fill: rgb(42, 63, 95); opacity: 1; font-weight: normal; white-space: pre;\">Net exposure</text></g><g class=\"annotation\" data-index=\"0\" style=\"opacity: 1;\"><g class=\"annotation-text-g\" transform=\"rotate(0,419,143)\"><g class=\"cursor-pointer\" transform=\"translate(390,131)\"><rect class=\"bg\" x=\"0.5\" y=\"0.5\" width=\"57\" height=\"23\" style=\"stroke-width: 1px; stroke: rgb(0, 0, 0); stroke-opacity: 0; fill: rgb(0, 0, 0); fill-opacity: 0;\"/><text class=\"annotation-text\" text-anchor=\"middle\" x=\"29.03125\" y=\"18\" style=\"font-family: 'Open Sans', verdana, arial, sans-serif; font-size: 16px; fill: rgb(42, 63, 95); fill-opacity: 1; white-space: pre;\">Orders</text></g></g></g><g class=\"annotation\" data-index=\"1\" style=\"opacity: 1;\"><g class=\"annotation-text-g\" transform=\"rotate(0,419,426.2036144578312)\"><g class=\"cursor-pointer\" transform=\"translate(390,414)\"><rect class=\"bg\" x=\"0.5\" y=\"0.5\" width=\"57\" height=\"23\" style=\"stroke-width: 1px; stroke: rgb(0, 0, 0); stroke-opacity: 0; fill: rgb(0, 0, 0); fill-opacity: 0;\"/><text class=\"annotation-text\" text-anchor=\"middle\" x=\"29.0625\" y=\"18\" style=\"font-family: 'Open Sans', verdana, arial, sans-serif; font-size: 16px; fill: rgb(42, 63, 95); fill-opacity: 1; white-space: pre;\">Trades</text></g></g></g><g class=\"annotation\" data-index=\"2\" style=\"opacity: 1;\"><g class=\"annotation-text-g\" transform=\"rotate(0,419,709.4072289156624)\"><g class=\"cursor-pointer\" transform=\"translate(377,697)\"><rect class=\"bg\" x=\"0.5\" y=\"0.5\" width=\"83\" height=\"23\" style=\"stroke-width: 1px; stroke: rgb(0, 0, 0); stroke-opacity: 0; fill: rgb(0, 0, 0); fill-opacity: 0;\"/><text class=\"annotation-text\" text-anchor=\"middle\" x=\"42.046875\" y=\"18\" style=\"font-family: 'Open Sans', verdana, arial, sans-serif; font-size: 16px; fill: rgb(42, 63, 95); fill-opacity: 1; white-space: pre;\">Trade PnL</text></g></g></g><g class=\"annotation\" data-index=\"3\" style=\"opacity: 1;\"><g class=\"annotation-text-g\" transform=\"rotate(0,419,992.6108433734939)\"><g class=\"cursor-pointer\" transform=\"translate(375,981)\"><rect class=\"bg\" x=\"0.5\" y=\"0.5\" width=\"88\" height=\"23\" style=\"stroke-width: 1px; stroke: rgb(0, 0, 0); stroke-opacity: 0; fill: rgb(0, 0, 0); fill-opacity: 0;\"/><text class=\"annotation-text\" text-anchor=\"middle\" x=\"44.71875\" y=\"18\" style=\"font-family: 'Open Sans', verdana, arial, sans-serif; font-size: 16px; fill: rgb(42, 63, 95); fill-opacity: 1; white-space: pre;\">Asset Flow</text></g></g></g><g class=\"annotation\" data-index=\"4\" style=\"opacity: 1;\"><g class=\"annotation-text-g\" transform=\"rotate(0,419,1275.8144578313252)\"><g class=\"cursor-pointer\" transform=\"translate(377,1264)\"><rect class=\"bg\" x=\"0.5\" y=\"0.5\" width=\"84\" height=\"23\" style=\"stroke-width: 1px; stroke: rgb(0, 0, 0); stroke-opacity: 0; fill: rgb(0, 0, 0); fill-opacity: 0;\"/><text class=\"annotation-text\" text-anchor=\"middle\" x=\"42.625\" y=\"18\" style=\"font-family: 'Open Sans', verdana, arial, sans-serif; font-size: 16px; fill: rgb(42, 63, 95); fill-opacity: 1; white-space: pre;\">Cash Flow</text></g></g></g><g class=\"annotation\" data-index=\"5\" style=\"opacity: 1;\"><g class=\"annotation-text-g\" transform=\"rotate(0,419,1559.0180722891566)\"><g class=\"cursor-pointer\" transform=\"translate(391,1547)\"><rect class=\"bg\" x=\"0.5\" y=\"0.5\" width=\"55\" height=\"23\" style=\"stroke-width: 1px; stroke: rgb(0, 0, 0); stroke-opacity: 0; fill: rgb(0, 0, 0); fill-opacity: 0;\"/><text class=\"annotation-text\" text-anchor=\"middle\" x=\"27.890625\" y=\"18\" style=\"font-family: 'Open Sans', verdana, arial, sans-serif; font-size: 16px; fill: rgb(42, 63, 95); fill-opacity: 1; white-space: pre;\">Assets</text></g></g></g><g class=\"annotation\" data-index=\"6\" style=\"opacity: 1;\"><g class=\"annotation-text-g\" transform=\"rotate(0,419,1842.2216867469879)\"><g class=\"cursor-pointer\" transform=\"translate(398,1830)\"><rect class=\"bg\" x=\"0.5\" y=\"0.5\" width=\"42\" height=\"23\" style=\"stroke-width: 1px; stroke: rgb(0, 0, 0); stroke-opacity: 0; fill: rgb(0, 0, 0); fill-opacity: 0;\"/><text class=\"annotation-text\" text-anchor=\"middle\" x=\"21.609375\" y=\"18\" style=\"font-family: 'Open Sans', verdana, arial, sans-serif; font-size: 16px; fill: rgb(42, 63, 95); fill-opacity: 1; white-space: pre;\">Cash</text></g></g></g><g class=\"annotation\" data-index=\"7\" style=\"opacity: 1;\"><g class=\"annotation-text-g\" transform=\"rotate(0,419,2125.425301204819)\"><g class=\"cursor-pointer\" transform=\"translate(370,2113)\"><rect class=\"bg\" x=\"0.5\" y=\"0.5\" width=\"97\" height=\"23\" style=\"stroke-width: 1px; stroke: rgb(0, 0, 0); stroke-opacity: 0; fill: rgb(0, 0, 0); fill-opacity: 0;\"/><text class=\"annotation-text\" text-anchor=\"middle\" x=\"48.828125\" y=\"18\" style=\"font-family: 'Open Sans', verdana, arial, sans-serif; font-size: 16px; fill: rgb(42, 63, 95); fill-opacity: 1; white-space: pre;\">Asset Value</text></g></g></g><g class=\"annotation\" data-index=\"8\" style=\"opacity: 1;\"><g class=\"annotation-text-g\" transform=\"rotate(0,419,2408.628915662651)\"><g class=\"cursor-pointer\" transform=\"translate(395,2397)\"><rect class=\"bg\" x=\"0.5\" y=\"0.5\" width=\"48\" height=\"23\" style=\"stroke-width: 1px; stroke: rgb(0, 0, 0); stroke-opacity: 0; fill: rgb(0, 0, 0); fill-opacity: 0;\"/><text class=\"annotation-text\" text-anchor=\"middle\" x=\"24.296875\" y=\"18\" style=\"font-family: 'Open Sans', verdana, arial, sans-serif; font-size: 16px; fill: rgb(42, 63, 95); fill-opacity: 1; white-space: pre;\">Value</text></g></g></g><g class=\"annotation\" data-index=\"9\" style=\"opacity: 1;\"><g class=\"annotation-text-g\" transform=\"rotate(0,419,2691.8325301204823)\"><g class=\"cursor-pointer\" transform=\"translate(338,2680)\"><rect class=\"bg\" x=\"0.5\" y=\"0.5\" width=\"162\" height=\"23\" style=\"stroke-width: 1px; stroke: rgb(0, 0, 0); stroke-opacity: 0; fill: rgb(0, 0, 0); fill-opacity: 0;\"/><text class=\"annotation-text\" text-anchor=\"middle\" x=\"81.328125\" y=\"18\" style=\"font-family: 'Open Sans', verdana, arial, sans-serif; font-size: 16px; fill: rgb(42, 63, 95); fill-opacity: 1; white-space: pre;\">Cumulative Returns</text></g></g></g><g class=\"annotation\" data-index=\"10\" style=\"opacity: 1;\"><g class=\"annotation-text-g\" transform=\"rotate(0,419,2975.0361445783133)\"><g class=\"cursor-pointer\" transform=\"translate(371,2963)\"><rect class=\"bg\" x=\"0.5\" y=\"0.5\" width=\"96\" height=\"23\" style=\"stroke-width: 1px; stroke: rgb(0, 0, 0); stroke-opacity: 0; fill: rgb(0, 0, 0); fill-opacity: 0;\"/><text class=\"annotation-text\" text-anchor=\"middle\" x=\"48.546875\" y=\"18\" style=\"font-family: 'Open Sans', verdana, arial, sans-serif; font-size: 16px; fill: rgb(42, 63, 95); fill-opacity: 1; white-space: pre;\">Drawdowns</text></g></g></g><g class=\"annotation\" data-index=\"11\" style=\"opacity: 1;\"><g class=\"annotation-text-g\" transform=\"rotate(0,419,3258.2397590361443)\"><g class=\"cursor-pointer\" transform=\"translate(370,3246)\"><rect class=\"bg\" x=\"0.5\" y=\"0.5\" width=\"97\" height=\"23\" style=\"stroke-width: 1px; stroke: rgb(0, 0, 0); stroke-opacity: 0; fill: rgb(0, 0, 0); fill-opacity: 0;\"/><text class=\"annotation-text\" text-anchor=\"middle\" x=\"48.765625\" y=\"18\" style=\"font-family: 'Open Sans', verdana, arial, sans-serif; font-size: 16px; fill: rgb(42, 63, 95); fill-opacity: 1; white-space: pre;\">Underwater</text></g></g></g><g class=\"annotation\" data-index=\"12\" style=\"opacity: 1;\"><g class=\"annotation-text-g\" transform=\"rotate(0,419,3541.4433734939757)\"><g class=\"cursor-pointer\" transform=\"translate(355,3529)\"><rect class=\"bg\" x=\"0.5\" y=\"0.5\" width=\"128\" height=\"23\" style=\"stroke-width: 1px; stroke: rgb(0, 0, 0); stroke-opacity: 0; fill: rgb(0, 0, 0); fill-opacity: 0;\"/><text class=\"annotation-text\" text-anchor=\"middle\" x=\"64.65625\" y=\"18\" style=\"font-family: 'Open Sans', verdana, arial, sans-serif; font-size: 16px; fill: rgb(42, 63, 95); fill-opacity: 1; white-space: pre;\">Gross Exposure</text></g></g></g><g class=\"annotation\" data-index=\"13\" style=\"opacity: 1;\"><g class=\"annotation-text-g\" transform=\"rotate(0,419,3824.646987951807)\"><g class=\"cursor-pointer\" transform=\"translate(363,3813)\"><rect class=\"bg\" x=\"0.5\" y=\"0.5\" width=\"111\" height=\"23\" style=\"stroke-width: 1px; stroke: rgb(0, 0, 0); stroke-opacity: 0; fill: rgb(0, 0, 0); fill-opacity: 0;\"/><text class=\"annotation-text\" text-anchor=\"middle\" x=\"55.75\" y=\"18\" style=\"font-family: 'Open Sans', verdana, arial, sans-serif; font-size: 16px; fill: rgb(42, 63, 95); fill-opacity: 1; white-space: pre;\">Net Exposure</text></g></g></g></g></svg>"
      ]
     },
     "metadata": {},
     "output_type": "display_data"
    }
   ],
   "source": [
    "portfolio_shared.plot(subplots='all', column='a', group_by=False).show_svg()"
   ]
  },
  {
   "cell_type": "code",
   "execution_count": 138,
   "metadata": {},
   "outputs": [
    {
     "data": {
      "image/svg+xml": [
       "<svg class=\"main-svg\" xmlns=\"http://www.w3.org/2000/svg\" xmlns:xlink=\"http://www.w3.org/1999/xlink\" width=\"750\" height=\"670\" viewBox=\"0 0 750 670\"><rect x=\"0\" y=\"0\" width=\"750\" height=\"670\" style=\"fill: rgb(255, 255, 255); fill-opacity: 1;\"/><defs id=\"defs-8c5928\"><g class=\"clips\"><clipPath id=\"clip8c5928xyplot\" class=\"plotclip\"><rect width=\"602\" height=\"248.70895522388062\"/></clipPath><clipPath id=\"clip8c5928x2y2plot\" class=\"plotclip\"><rect width=\"602\" height=\"248.70895522388062\"/></clipPath><clipPath class=\"axesclip\" id=\"clip8c5928x\"><rect x=\"118\" y=\"0\" width=\"602\" height=\"670\"/></clipPath><clipPath class=\"axesclip\" id=\"clip8c5928y\"><rect x=\"0\" y=\"73\" width=\"750\" height=\"248.70895522388062\"/></clipPath><clipPath class=\"axesclip\" id=\"clip8c5928xy\"><rect x=\"118\" y=\"73\" width=\"602\" height=\"248.70895522388062\"/></clipPath><clipPath class=\"axesclip\" id=\"clip8c5928y2\"><rect x=\"0\" y=\"353.2910447761194\" width=\"750\" height=\"248.70895522388062\"/></clipPath><clipPath class=\"axesclip\" id=\"clip8c5928xy2\"><rect x=\"118\" y=\"353.2910447761194\" width=\"602\" height=\"248.70895522388062\"/></clipPath><clipPath class=\"axesclip\" id=\"clip8c5928x2\"><rect x=\"118\" y=\"0\" width=\"602\" height=\"670\"/></clipPath><clipPath class=\"axesclip\" id=\"clip8c5928x2y\"><rect x=\"118\" y=\"73\" width=\"602\" height=\"248.70895522388062\"/></clipPath><clipPath class=\"axesclip\" id=\"clip8c5928x2y2\"><rect x=\"118\" y=\"353.2910447761194\" width=\"602\" height=\"248.70895522388062\"/></clipPath></g><g class=\"gradients\"/><g class=\"patterns\"/></defs><g class=\"bglayer\"><rect class=\"bg\" x=\"118\" y=\"73\" width=\"602\" height=\"248.70895522388062\" style=\"fill: rgb(229, 236, 246); fill-opacity: 1; stroke-width: 0;\"/><rect class=\"bg\" x=\"118\" y=\"353.2910447761194\" width=\"602\" height=\"248.70895522388062\" style=\"fill: rgb(229, 236, 246); fill-opacity: 1; stroke-width: 0;\"/></g><g class=\"layer-below\"><g class=\"imagelayer\"/><g class=\"shapelayer\"><path data-index=\"0\" fill-rule=\"evenodd\" d=\"M152.47,321.7089552238806H685.53V73H152.47Z\" clip-path=\"url(#clip8c5928x)\" style=\"opacity: 0.2; stroke: rgb(0, 0, 0); stroke-opacity: 0; fill: rgb(255, 165, 0); fill-opacity: 1; stroke-width: 0px;\"/></g></g><g class=\"cartesianlayer\"><g class=\"subplot xy\"><g class=\"layer-subplot\"><g class=\"shapelayer\"/><g class=\"imagelayer\"/></g><g class=\"gridlayer\"><g class=\"x\"><path class=\"xgrid crisp\" transform=\"translate(152.47,0)\" d=\"M0,73v248.70895522388062\" style=\"stroke: rgb(255, 255, 255); stroke-opacity: 1; stroke-width: 1px;\"/><path class=\"xgrid crisp\" transform=\"translate(285.74,0)\" d=\"M0,73v248.70895522388062\" style=\"stroke: rgb(255, 255, 255); stroke-opacity: 1; stroke-width: 1px;\"/><path class=\"xgrid crisp\" transform=\"translate(419,0)\" d=\"M0,73v248.70895522388062\" style=\"stroke: rgb(255, 255, 255); stroke-opacity: 1; stroke-width: 1px;\"/><path class=\"xgrid crisp\" transform=\"translate(552.26,0)\" d=\"M0,73v248.70895522388062\" style=\"stroke: rgb(255, 255, 255); stroke-opacity: 1; stroke-width: 1px;\"/><path class=\"xgrid crisp\" transform=\"translate(685.53,0)\" d=\"M0,73v248.70895522388062\" style=\"stroke: rgb(255, 255, 255); stroke-opacity: 1; stroke-width: 1px;\"/></g><g class=\"y\"><path class=\"ygrid crisp\" transform=\"translate(0,297.63)\" d=\"M118,0h602\" style=\"stroke: rgb(255, 255, 255); stroke-opacity: 1; stroke-width: 1px;\"/><path class=\"ygrid crisp\" transform=\"translate(0,262.99)\" d=\"M118,0h602\" style=\"stroke: rgb(255, 255, 255); stroke-opacity: 1; stroke-width: 1px;\"/><path class=\"ygrid crisp\" transform=\"translate(0,228.36)\" d=\"M118,0h602\" style=\"stroke: rgb(255, 255, 255); stroke-opacity: 1; stroke-width: 1px;\"/><path class=\"ygrid crisp\" transform=\"translate(0,193.72)\" d=\"M118,0h602\" style=\"stroke: rgb(255, 255, 255); stroke-opacity: 1; stroke-width: 1px;\"/><path class=\"ygrid crisp\" transform=\"translate(0,159.07999999999998)\" d=\"M118,0h602\" style=\"stroke: rgb(255, 255, 255); stroke-opacity: 1; stroke-width: 1px;\"/><path class=\"ygrid crisp\" transform=\"translate(0,124.45)\" d=\"M118,0h602\" style=\"stroke: rgb(255, 255, 255); stroke-opacity: 1; stroke-width: 1px;\"/><path class=\"ygrid crisp\" transform=\"translate(0,89.81)\" d=\"M118,0h602\" style=\"stroke: rgb(255, 255, 255); stroke-opacity: 1; stroke-width: 1px;\"/></g></g><g class=\"zerolinelayer\"/><path class=\"xlines-below\"/><path class=\"ylines-below\"/><g class=\"overlines-below\"/><g class=\"xaxislayer-below\"/><g class=\"yaxislayer-below\"/><g class=\"overaxes-below\"/><g class=\"plot\" transform=\"translate(118,73)\" clip-path=\"url(#clip8c5928xyplot)\"><g class=\"scatterlayer mlayer\"><g class=\"trace scatter tracee4ac97c1-6c9e-421b-a5dc-46d994c3f1d2\" style=\"stroke-miterlimit: 2; opacity: 1;\"><g class=\"fills\"/><g class=\"errorbars\"/><g class=\"lines\"><path class=\"js-line\" d=\"M34.47,16.81L167.74,88.87L301,93L434.26,93L567.53,231.9\" style=\"vector-effect: non-scaling-stroke; fill: none; stroke: rgb(148, 103, 189); stroke-opacity: 1; stroke-width: 2px; opacity: 1;\"/></g><g class=\"points\"><path class=\"point\" transform=\"translate(34.47,16.81)\" d=\"M3,0A3,3 0 1,1 0,-3A3,3 0 0,1 3,0Z\" style=\"opacity: 1; stroke-width: 0px; fill: rgb(148, 103, 189); fill-opacity: 1;\"/><path class=\"point\" transform=\"translate(167.74,88.87)\" d=\"M3,0A3,3 0 1,1 0,-3A3,3 0 0,1 3,0Z\" style=\"opacity: 1; stroke-width: 0px; fill: rgb(148, 103, 189); fill-opacity: 1;\"/><path class=\"point\" transform=\"translate(301,93)\" d=\"M3,0A3,3 0 1,1 0,-3A3,3 0 0,1 3,0Z\" style=\"opacity: 1; stroke-width: 0px; fill: rgb(148, 103, 189); fill-opacity: 1;\"/><path class=\"point\" transform=\"translate(434.26,93)\" d=\"M3,0A3,3 0 1,1 0,-3A3,3 0 0,1 3,0Z\" style=\"opacity: 1; stroke-width: 0px; fill: rgb(148, 103, 189); fill-opacity: 1;\"/><path class=\"point\" transform=\"translate(567.53,231.9)\" d=\"M3,0A3,3 0 1,1 0,-3A3,3 0 0,1 3,0Z\" style=\"opacity: 1; stroke-width: 0px; fill: rgb(148, 103, 189); fill-opacity: 1;\"/></g><g class=\"text\"/></g><g class=\"trace scatter trace8176bb12-67b3-4127-9b8b-7f29a7ffe091\" style=\"stroke-miterlimit: 2; opacity: 1;\"><g class=\"fills\"/><g class=\"errorbars\"/><g class=\"lines\"/><g class=\"points\"><path class=\"point plotly-customdata\" transform=\"translate(34.47,16.81)\" d=\"M4.55,0L0,4.55L-4.55,0L0,-4.55Z\" style=\"opacity: 1; stroke-width: 1px; fill: rgb(66, 133, 244); fill-opacity: 1; stroke: rgb(11, 84, 205); stroke-opacity: 1;\"/></g><g class=\"text\"/></g><g class=\"trace scatter traceafed487d-a2d9-4d1e-a947-905575e792c6\" style=\"stroke-miterlimit: 2; opacity: 1;\"><g class=\"fills\"/><g class=\"errorbars\"/><g class=\"lines\"/><g class=\"points\"><path class=\"point plotly-customdata\" transform=\"translate(567.53,231.9)\" d=\"M4.55,0L0,4.55L-4.55,0L0,-4.55Z\" style=\"opacity: 1; stroke-width: 1px; fill: rgb(255, 170, 0); fill-opacity: 1; stroke: rgb(178, 118, 0); stroke-opacity: 1;\"/></g><g class=\"text\"/></g></g></g><g class=\"overplot\"/><path class=\"xlines-above crisp\" d=\"M0,0\" style=\"fill: none;\"/><path class=\"ylines-above crisp\" d=\"M0,0\" style=\"fill: none;\"/><g class=\"overlines-above\"/><g class=\"xaxislayer-above\"/><g class=\"yaxislayer-above\"><g class=\"ytick\"><text text-anchor=\"end\" x=\"117\" y=\"4.199999999999999\" transform=\"translate(0,297.63)\" style=\"font-family: 'Open Sans', verdana, arial, sans-serif; font-size: 12px; fill: rgb(42, 63, 95); fill-opacity: 1; white-space: pre; opacity: 1;\">99.7</text></g><g class=\"ytick\"><text text-anchor=\"end\" x=\"117\" y=\"4.199999999999999\" style=\"font-family: 'Open Sans', verdana, arial, sans-serif; font-size: 12px; fill: rgb(42, 63, 95); fill-opacity: 1; white-space: pre; opacity: 1;\" transform=\"translate(0,262.99)\">99.75</text></g><g class=\"ytick\"><text text-anchor=\"end\" x=\"117\" y=\"4.199999999999999\" style=\"font-family: 'Open Sans', verdana, arial, sans-serif; font-size: 12px; fill: rgb(42, 63, 95); fill-opacity: 1; white-space: pre; opacity: 1;\" transform=\"translate(0,228.36)\">99.8</text></g><g class=\"ytick\"><text text-anchor=\"end\" x=\"117\" y=\"4.199999999999999\" style=\"font-family: 'Open Sans', verdana, arial, sans-serif; font-size: 12px; fill: rgb(42, 63, 95); fill-opacity: 1; white-space: pre; opacity: 1;\" transform=\"translate(0,193.72)\">99.85</text></g><g class=\"ytick\"><text text-anchor=\"end\" x=\"117\" y=\"4.199999999999999\" style=\"font-family: 'Open Sans', verdana, arial, sans-serif; font-size: 12px; fill: rgb(42, 63, 95); fill-opacity: 1; white-space: pre; opacity: 1;\" transform=\"translate(0,159.07999999999998)\">99.9</text></g><g class=\"ytick\"><text text-anchor=\"end\" x=\"117\" y=\"4.199999999999999\" style=\"font-family: 'Open Sans', verdana, arial, sans-serif; font-size: 12px; fill: rgb(42, 63, 95); fill-opacity: 1; white-space: pre; opacity: 1;\" transform=\"translate(0,124.45)\">99.95</text></g><g class=\"ytick\"><text text-anchor=\"end\" x=\"117\" y=\"4.199999999999999\" style=\"font-family: 'Open Sans', verdana, arial, sans-serif; font-size: 12px; fill: rgb(42, 63, 95); fill-opacity: 1; white-space: pre; opacity: 1;\" transform=\"translate(0,89.81)\">100</text></g></g><g class=\"overaxes-above\"/></g><g class=\"subplot x2y2\"><g class=\"layer-subplot\"><g class=\"shapelayer\"/><g class=\"imagelayer\"/></g><g class=\"gridlayer\"><g class=\"x2\"><path class=\"x2grid crisp\" transform=\"translate(152.47,0)\" d=\"M0,353.2910447761194v248.70895522388062\" style=\"stroke: rgb(255, 255, 255); stroke-opacity: 1; stroke-width: 1px;\"/><path class=\"x2grid crisp\" transform=\"translate(285.74,0)\" d=\"M0,353.2910447761194v248.70895522388062\" style=\"stroke: rgb(255, 255, 255); stroke-opacity: 1; stroke-width: 1px;\"/><path class=\"x2grid crisp\" transform=\"translate(419,0)\" d=\"M0,353.2910447761194v248.70895522388062\" style=\"stroke: rgb(255, 255, 255); stroke-opacity: 1; stroke-width: 1px;\"/><path class=\"x2grid crisp\" transform=\"translate(552.26,0)\" d=\"M0,353.2910447761194v248.70895522388062\" style=\"stroke: rgb(255, 255, 255); stroke-opacity: 1; stroke-width: 1px;\"/><path class=\"x2grid crisp\" transform=\"translate(685.53,0)\" d=\"M0,353.2910447761194v248.70895522388062\" style=\"stroke: rgb(255, 255, 255); stroke-opacity: 1; stroke-width: 1px;\"/></g><g class=\"y2\"><path class=\"y2grid crisp\" transform=\"translate(0,577.9910447761195)\" d=\"M118,0h602\" style=\"stroke: rgb(255, 255, 255); stroke-opacity: 1; stroke-width: 1px;\"/><path class=\"y2grid crisp\" transform=\"translate(0,540.7110447761194)\" d=\"M118,0h602\" style=\"stroke: rgb(255, 255, 255); stroke-opacity: 1; stroke-width: 1px;\"/><path class=\"y2grid crisp\" transform=\"translate(0,503.4210447761194)\" d=\"M118,0h602\" style=\"stroke: rgb(255, 255, 255); stroke-opacity: 1; stroke-width: 1px;\"/><path class=\"y2grid crisp\" transform=\"translate(0,466.14104477611943)\" d=\"M118,0h602\" style=\"stroke: rgb(255, 255, 255); stroke-opacity: 1; stroke-width: 1px;\"/><path class=\"y2grid crisp\" transform=\"translate(0,428.8610447761194)\" d=\"M118,0h602\" style=\"stroke: rgb(255, 255, 255); stroke-opacity: 1; stroke-width: 1px;\"/><path class=\"y2grid crisp\" transform=\"translate(0,391.5710447761194)\" d=\"M118,0h602\" style=\"stroke: rgb(255, 255, 255); stroke-opacity: 1; stroke-width: 1px;\"/></g></g><g class=\"zerolinelayer\"><path class=\"y2zl zl crisp\" transform=\"translate(0,354.2910447761194)\" d=\"M118,0h602\" style=\"stroke: rgb(255, 255, 255); stroke-opacity: 1; stroke-width: 2px;\"/></g><path class=\"xlines-below\"/><path class=\"ylines-below\"/><g class=\"overlines-below\"/><g class=\"xaxislayer-below\"/><g class=\"yaxislayer-below\"/><g class=\"overaxes-below\"/><g class=\"plot\" transform=\"translate(118,353.2910447761194)\" clip-path=\"url(#clip8c5928x2y2plot)\"><g class=\"scatterlayer mlayer\"><g class=\"trace scatter trace0547c2fa-8eaa-4701-97b7-5319422d221e\" style=\"stroke-miterlimit: 2;\"><g class=\"fills\"><g><path class=\"js-fill\" d=\"M567.53,1L34.47,1L34.47,1L167.74,78.56L301,83.02L434.26,83.02L567.53,232.52\" style=\"fill: rgb(255, 111, 0); fill-opacity: 0.3; stroke-width: 0;\"/></g></g><g class=\"errorbars\"/><g class=\"lines\"><path class=\"js-line\" d=\"M34.47,1L167.74,78.56L301,83.02L434.26,83.02L567.53,232.52\" style=\"vector-effect: non-scaling-stroke; fill: none; stroke: rgb(255, 111, 0); stroke-opacity: 1; stroke-width: 2px; opacity: 1;\"/></g><g class=\"points\"><path class=\"point\" transform=\"translate(34.47,1)\" d=\"M3,0A3,3 0 1,1 0,-3A3,3 0 0,1 3,0Z\" style=\"opacity: 1; stroke-width: 0px; fill: rgb(255, 111, 0); fill-opacity: 1;\"/><path class=\"point\" transform=\"translate(167.74,78.56)\" d=\"M3,0A3,3 0 1,1 0,-3A3,3 0 0,1 3,0Z\" style=\"opacity: 1; stroke-width: 0px; fill: rgb(255, 111, 0); fill-opacity: 1;\"/><path class=\"point\" transform=\"translate(301,83.02)\" d=\"M3,0A3,3 0 1,1 0,-3A3,3 0 0,1 3,0Z\" style=\"opacity: 1; stroke-width: 0px; fill: rgb(255, 111, 0); fill-opacity: 1;\"/><path class=\"point\" transform=\"translate(434.26,83.02)\" d=\"M3,0A3,3 0 1,1 0,-3A3,3 0 0,1 3,0Z\" style=\"opacity: 1; stroke-width: 0px; fill: rgb(255, 111, 0); fill-opacity: 1;\"/><path class=\"point\" transform=\"translate(567.53,232.52)\" d=\"M3,0A3,3 0 1,1 0,-3A3,3 0 0,1 3,0Z\" style=\"opacity: 1; stroke-width: 0px; fill: rgb(255, 111, 0); fill-opacity: 1;\"/></g><g class=\"text\"/></g></g></g><g class=\"overplot\"/><path class=\"xlines-above crisp\" d=\"M0,0\" style=\"fill: none;\"/><path class=\"ylines-above crisp\" d=\"M0,0\" style=\"fill: none;\"/><g class=\"overlines-above\"/><g class=\"xaxislayer-above\"><g class=\"x2tick\"><text text-anchor=\"middle\" x=\"0\" y=\"615\" transform=\"translate(152.47,0)\" style=\"font-family: 'Open Sans', verdana, arial, sans-serif; font-size: 12px; fill: rgb(42, 63, 95); fill-opacity: 1; white-space: pre; opacity: 1;\"><tspan class=\"line\" dy=\"0em\" x=\"0\" y=\"615\">Jan 1</tspan><tspan class=\"line\" dy=\"1.3em\" x=\"0\" y=\"615\">2020</tspan></text></g><g class=\"x2tick\"><text text-anchor=\"middle\" x=\"0\" y=\"615\" style=\"font-family: 'Open Sans', verdana, arial, sans-serif; font-size: 12px; fill: rgb(42, 63, 95); fill-opacity: 1; white-space: pre; opacity: 1;\" transform=\"translate(285.74,0)\">Jan 2</text></g><g class=\"x2tick\"><text text-anchor=\"middle\" x=\"0\" y=\"615\" style=\"font-family: 'Open Sans', verdana, arial, sans-serif; font-size: 12px; fill: rgb(42, 63, 95); fill-opacity: 1; white-space: pre; opacity: 1;\" transform=\"translate(419,0)\">Jan 3</text></g><g class=\"x2tick\"><text text-anchor=\"middle\" x=\"0\" y=\"615\" style=\"font-family: 'Open Sans', verdana, arial, sans-serif; font-size: 12px; fill: rgb(42, 63, 95); fill-opacity: 1; white-space: pre; opacity: 1;\" transform=\"translate(552.26,0)\">Jan 4</text></g><g class=\"x2tick\"><text text-anchor=\"middle\" x=\"0\" y=\"615\" style=\"font-family: 'Open Sans', verdana, arial, sans-serif; font-size: 12px; fill: rgb(42, 63, 95); fill-opacity: 1; white-space: pre; opacity: 1;\" transform=\"translate(685.53,0)\">Jan 5</text></g></g><g class=\"yaxislayer-above\"><g class=\"y2tick\"><text text-anchor=\"end\" x=\"117\" y=\"4.199999999999999\" transform=\"translate(0,577.9910447761195)\" style=\"font-family: 'Open Sans', verdana, arial, sans-serif; font-size: 12px; fill: rgb(42, 63, 95); fill-opacity: 1; white-space: pre; opacity: 1;\">−0.300000%</text></g><g class=\"y2tick\"><text text-anchor=\"end\" x=\"117\" y=\"4.199999999999999\" style=\"font-family: 'Open Sans', verdana, arial, sans-serif; font-size: 12px; fill: rgb(42, 63, 95); fill-opacity: 1; white-space: pre; opacity: 1;\" transform=\"translate(0,540.7110447761194)\">−0.250000%</text></g><g class=\"y2tick\"><text text-anchor=\"end\" x=\"117\" y=\"4.199999999999999\" style=\"font-family: 'Open Sans', verdana, arial, sans-serif; font-size: 12px; fill: rgb(42, 63, 95); fill-opacity: 1; white-space: pre; opacity: 1;\" transform=\"translate(0,503.4210447761194)\">−0.200000%</text></g><g class=\"y2tick\"><text text-anchor=\"end\" x=\"117\" y=\"4.199999999999999\" style=\"font-family: 'Open Sans', verdana, arial, sans-serif; font-size: 12px; fill: rgb(42, 63, 95); fill-opacity: 1; white-space: pre; opacity: 1;\" transform=\"translate(0,466.14104477611943)\">−0.150000%</text></g><g class=\"y2tick\"><text text-anchor=\"end\" x=\"117\" y=\"4.199999999999999\" style=\"font-family: 'Open Sans', verdana, arial, sans-serif; font-size: 12px; fill: rgb(42, 63, 95); fill-opacity: 1; white-space: pre; opacity: 1;\" transform=\"translate(0,428.8610447761194)\">−0.100000%</text></g><g class=\"y2tick\"><text text-anchor=\"end\" x=\"117\" y=\"4.199999999999999\" style=\"font-family: 'Open Sans', verdana, arial, sans-serif; font-size: 12px; fill: rgb(42, 63, 95); fill-opacity: 1; white-space: pre; opacity: 1;\" transform=\"translate(0,391.5710447761194)\">−0.050000%</text></g><g class=\"y2tick\"><text text-anchor=\"end\" x=\"117\" y=\"4.199999999999999\" style=\"font-family: 'Open Sans', verdana, arial, sans-serif; font-size: 12px; fill: rgb(42, 63, 95); fill-opacity: 1; white-space: pre; opacity: 1;\" transform=\"translate(0,354.2910447761194)\">0.000000%</text></g></g><g class=\"overaxes-above\"/></g></g><g class=\"polarlayer\"/><g class=\"ternarylayer\"/><g class=\"geolayer\"/><g class=\"funnelarealayer\"/><g class=\"pielayer\"/><g class=\"iciclelayer\"/><g class=\"treemaplayer\"/><g class=\"sunburstlayer\"/><g class=\"glimages\"/><defs id=\"topdefs-8c5928\"><g class=\"clips\"/><clipPath id=\"legend8c5928\"><rect width=\"343\" height=\"29\" x=\"0\" y=\"0\"/></clipPath></defs><g class=\"layer-above\"><g class=\"imagelayer\"/><g class=\"shapelayer\"><path data-index=\"1\" fill-rule=\"evenodd\" d=\"M118,354.2910447761194L720,354.2910447761194\" clip-path=\"url(#clip8c5928y2)\" style=\"opacity: 1; stroke: rgb(128, 128, 128); stroke-opacity: 1; fill: rgb(0, 0, 0); fill-opacity: 0; stroke-dasharray: 9px, 9px; stroke-width: 2px;\"/></g></g><g class=\"infolayer\"><g class=\"legend\" pointer-events=\"all\" transform=\"translate(377,12.417910447761216)\"><rect class=\"bg\" shape-rendering=\"crispEdges\" width=\"343\" height=\"29\" x=\"0\" y=\"0\" style=\"stroke: rgb(68, 68, 68); stroke-opacity: 1; fill: rgb(255, 255, 255); fill-opacity: 1; stroke-width: 0px;\"/><g class=\"scrollbox\" transform=\"\" clip-path=\"url(#legend8c5928)\"><g class=\"groups\"><g class=\"traces\" transform=\"translate(0,14.5)\" style=\"opacity: 1;\"><text class=\"legendtext\" text-anchor=\"start\" x=\"40\" y=\"4.680000000000001\" style=\"font-family: 'Open Sans', verdana, arial, sans-serif; font-size: 12px; fill: rgb(42, 63, 95); fill-opacity: 1; white-space: pre;\">Value</text><g class=\"layers\" style=\"opacity: 1;\"><g class=\"legendfill\"/><g class=\"legendlines\"><path class=\"js-line\" d=\"M5,0h30\" style=\"fill: none; stroke: rgb(148, 103, 189); stroke-opacity: 1; stroke-width: 2px;\"/></g><g class=\"legendsymbols\"><g class=\"legendpoints\"><path class=\"scatterpts\" transform=\"translate(20,0)\" d=\"M3,0A3,3 0 1,1 0,-3A3,3 0 0,1 3,0Z\" style=\"opacity: 1; stroke-width: 0px; fill: rgb(148, 103, 189); fill-opacity: 1;\"/></g></g></g><rect class=\"legendtoggle\" x=\"0\" y=\"-9.5\" width=\"75.9375\" height=\"19\" style=\"fill: rgb(0, 0, 0); fill-opacity: 0;\"/></g><g class=\"traces\" transform=\"translate(78.4375,14.5)\" style=\"opacity: 1;\"><text class=\"legendtext\" text-anchor=\"start\" x=\"40\" y=\"4.680000000000001\" style=\"font-family: 'Open Sans', verdana, arial, sans-serif; font-size: 12px; fill: rgb(42, 63, 95); fill-opacity: 1; white-space: pre;\">Peak</text><g class=\"layers\" style=\"opacity: 1;\"><g class=\"legendfill\"/><g class=\"legendlines\"/><g class=\"legendsymbols\"><g class=\"legendpoints\"><path class=\"scatterpts\" transform=\"translate(20,0)\" d=\"M4.55,0L0,4.55L-4.55,0L0,-4.55Z\" style=\"opacity: 1; stroke-width: 1px; fill: rgb(66, 133, 244); fill-opacity: 1; stroke: rgb(11, 84, 205); stroke-opacity: 1;\"/></g></g></g><rect class=\"legendtoggle\" x=\"0\" y=\"-9.5\" width=\"71.1875\" height=\"19\" style=\"fill: rgb(0, 0, 0); fill-opacity: 0;\"/></g><g class=\"traces\" transform=\"translate(152.125,14.5)\" style=\"opacity: 1;\"><text class=\"legendtext\" text-anchor=\"start\" x=\"40\" y=\"4.680000000000001\" style=\"font-family: 'Open Sans', verdana, arial, sans-serif; font-size: 12px; fill: rgb(42, 63, 95); fill-opacity: 1; white-space: pre;\">Active</text><g class=\"layers\" style=\"opacity: 1;\"><g class=\"legendfill\"/><g class=\"legendlines\"/><g class=\"legendsymbols\"><g class=\"legendpoints\"><path class=\"scatterpts\" transform=\"translate(20,0)\" d=\"M4.55,0L0,4.55L-4.55,0L0,-4.55Z\" style=\"opacity: 1; stroke-width: 1px; fill: rgb(255, 170, 0); fill-opacity: 1; stroke: rgb(178, 118, 0); stroke-opacity: 1;\"/></g></g></g><rect class=\"legendtoggle\" x=\"0\" y=\"-9.5\" width=\"79.21875\" height=\"19\" style=\"fill: rgb(0, 0, 0); fill-opacity: 0;\"/></g><g class=\"traces\" transform=\"translate(233.84375,14.5)\" style=\"opacity: 1;\"><text class=\"legendtext\" text-anchor=\"start\" x=\"40\" y=\"4.680000000000001\" style=\"font-family: 'Open Sans', verdana, arial, sans-serif; font-size: 12px; fill: rgb(42, 63, 95); fill-opacity: 1; white-space: pre;\">Drawdown</text><g class=\"layers\"><g class=\"legendfill\"><path class=\"js-fill\" d=\"M5,0h30v6h-30z\" style=\"stroke-width: 0; fill: rgb(255, 111, 0); fill-opacity: 0.3;\"/></g><g class=\"legendlines\"><path class=\"js-line\" d=\"M5,0h30\" style=\"fill: none; stroke: rgb(255, 111, 0); stroke-opacity: 1; stroke-width: 2px;\"/></g><g class=\"legendsymbols\"><g class=\"legendpoints\"><path class=\"scatterpts\" transform=\"translate(20,0)\" d=\"M3,0A3,3 0 1,1 0,-3A3,3 0 0,1 3,0Z\" style=\"opacity: 1; stroke-width: 0px; fill: rgb(255, 111, 0); fill-opacity: 1;\"/></g></g></g><rect class=\"legendtoggle\" x=\"0\" y=\"-9.5\" width=\"106.0625\" height=\"19\" style=\"fill: rgb(0, 0, 0); fill-opacity: 0;\"/></g></g></g><rect class=\"scrollbar\" rx=\"20\" ry=\"3\" width=\"0\" height=\"0\" x=\"0\" y=\"0\" style=\"fill: rgb(128, 139, 164); fill-opacity: 1;\"/></g><g class=\"g-gtitle\"/><g class=\"g-xtitle\"/><g class=\"g-x2title\"><text class=\"x2title\" x=\"419\" y=\"657.89375\" text-anchor=\"middle\" style=\"font-family: 'Open Sans', verdana, arial, sans-serif; font-size: 14px; fill: rgb(42, 63, 95); opacity: 1; font-weight: normal; white-space: pre;\">Index</text></g><g class=\"g-ytitle\"><text class=\"ytitle\" transform=\"rotate(-90,57.309375,197.3544776119403)\" x=\"57.309375\" y=\"197.3544776119403\" text-anchor=\"middle\" style=\"font-family: 'Open Sans', verdana, arial, sans-serif; font-size: 14px; fill: rgb(42, 63, 95); opacity: 1; font-weight: normal; white-space: pre;\">Value</text></g><g class=\"g-y2title\" transform=\"translate(2.3203125,0)\"><text class=\"y2title\" transform=\"rotate(-90,11.684375000000003,477.6455223880597)\" x=\"11.684375000000003\" y=\"477.6455223880597\" text-anchor=\"middle\" style=\"font-family: 'Open Sans', verdana, arial, sans-serif; font-size: 14px; fill: rgb(42, 63, 95); opacity: 1; font-weight: normal; white-space: pre;\">Drawdown</text></g><g class=\"annotation\" data-index=\"0\" style=\"opacity: 1;\"><g class=\"annotation-text-g\" transform=\"rotate(0,419,61)\"><g class=\"cursor-pointer\" transform=\"translate(371,49)\"><rect class=\"bg\" x=\"0.5\" y=\"0.5\" width=\"96\" height=\"23\" style=\"stroke-width: 1px; stroke: rgb(0, 0, 0); stroke-opacity: 0; fill: rgb(0, 0, 0); fill-opacity: 0;\"/><text class=\"annotation-text\" text-anchor=\"middle\" x=\"48.546875\" y=\"18\" style=\"font-family: 'Open Sans', verdana, arial, sans-serif; font-size: 16px; fill: rgb(42, 63, 95); fill-opacity: 1; white-space: pre;\">Drawdowns</text></g></g></g><g class=\"annotation\" data-index=\"1\" style=\"opacity: 1;\"><g class=\"annotation-text-g\" transform=\"rotate(0,419,341.2910447761194)\"><g class=\"cursor-pointer\" transform=\"translate(370,329)\"><rect class=\"bg\" x=\"0.5\" y=\"0.5\" width=\"97\" height=\"23\" style=\"stroke-width: 1px; stroke: rgb(0, 0, 0); stroke-opacity: 0; fill: rgb(0, 0, 0); fill-opacity: 0;\"/><text class=\"annotation-text\" text-anchor=\"middle\" x=\"48.765625\" y=\"18\" style=\"font-family: 'Open Sans', verdana, arial, sans-serif; font-size: 16px; fill: rgb(42, 63, 95); fill-opacity: 1; white-space: pre;\">Underwater</text></g></g></g></g></svg>"
      ]
     },
     "metadata": {},
     "output_type": "display_data"
    }
   ],
   "source": [
    "from vectorbt.utils.colors import adjust_opacity\n",
    "\n",
    "portfolio['a'].plot(\n",
    "    subplots=['drawdowns', 'underwater'],\n",
    "    subplot_settings=dict(\n",
    "        drawdowns=dict(top_n=3),\n",
    "        underwater=dict(\n",
    "            trace_kwargs=dict(\n",
    "                line_color='#FF6F00',\n",
    "                fillcolor=adjust_opacity('#FF6F00', 0.3)\n",
    "            )\n",
    "        )\n",
    "    )\n",
    ").show_svg()"
   ]
  },
  {
   "cell_type": "code",
   "execution_count": 139,
   "metadata": {},
   "outputs": [
    {
     "data": {
      "image/svg+xml": [
       "<svg class=\"main-svg\" xmlns=\"http://www.w3.org/2000/svg\" xmlns:xlink=\"http://www.w3.org/1999/xlink\" width=\"750\" height=\"670\" viewBox=\"0 0 750 670\"><rect x=\"0\" y=\"0\" width=\"750\" height=\"670\" style=\"fill: rgb(255, 255, 255); fill-opacity: 1;\"/><defs id=\"defs-63f999\"><g class=\"clips\"><clipPath id=\"clip63f999xyplot\" class=\"plotclip\"><rect width=\"663\" height=\"256.2313432835821\"/></clipPath><clipPath id=\"clip63f999x2y2plot\" class=\"plotclip\"><rect width=\"663\" height=\"256.2313432835821\"/></clipPath><clipPath class=\"axesclip\" id=\"clip63f999x\"><rect x=\"57\" y=\"0\" width=\"663\" height=\"670\"/></clipPath><clipPath class=\"axesclip\" id=\"clip63f999y\"><rect x=\"0\" y=\"73\" width=\"750\" height=\"256.2313432835821\"/></clipPath><clipPath class=\"axesclip\" id=\"clip63f999xy\"><rect x=\"57\" y=\"73\" width=\"663\" height=\"256.2313432835821\"/></clipPath><clipPath class=\"axesclip\" id=\"clip63f999y2\"><rect x=\"0\" y=\"361.7686567164179\" width=\"750\" height=\"256.2313432835821\"/></clipPath><clipPath class=\"axesclip\" id=\"clip63f999xy2\"><rect x=\"57\" y=\"361.7686567164179\" width=\"663\" height=\"256.2313432835821\"/></clipPath><clipPath class=\"axesclip\" id=\"clip63f999x2\"><rect x=\"57\" y=\"0\" width=\"663\" height=\"670\"/></clipPath><clipPath class=\"axesclip\" id=\"clip63f999x2y\"><rect x=\"57\" y=\"73\" width=\"663\" height=\"256.2313432835821\"/></clipPath><clipPath class=\"axesclip\" id=\"clip63f999x2y2\"><rect x=\"57\" y=\"361.7686567164179\" width=\"663\" height=\"256.2313432835821\"/></clipPath></g><g class=\"gradients\"/><g class=\"patterns\"/></defs><g class=\"bglayer\"><rect class=\"bg\" x=\"57\" y=\"73\" width=\"663\" height=\"256.2313432835821\" style=\"fill: rgb(229, 236, 246); fill-opacity: 1; stroke-width: 0;\"/><rect class=\"bg\" x=\"57\" y=\"361.7686567164179\" width=\"663\" height=\"256.2313432835821\" style=\"fill: rgb(229, 236, 246); fill-opacity: 1; stroke-width: 0;\"/></g><g class=\"layer-below\"><g class=\"imagelayer\"/><g class=\"shapelayer\"/></g><g class=\"cartesianlayer\"><g class=\"subplot xy\"><g class=\"layer-subplot\"><g class=\"shapelayer\"/><g class=\"imagelayer\"/></g><g class=\"gridlayer\"><g class=\"x\"><path class=\"xgrid crisp\" transform=\"translate(93.9,0)\" d=\"M0,73v256.2313432835821\" style=\"stroke: rgb(255, 255, 255); stroke-opacity: 1; stroke-width: 1px;\"/><path class=\"xgrid crisp\" transform=\"translate(167.39,0)\" d=\"M0,73v256.2313432835821\" style=\"stroke: rgb(255, 255, 255); stroke-opacity: 1; stroke-width: 1px;\"/><path class=\"xgrid crisp\" transform=\"translate(240.89,0)\" d=\"M0,73v256.2313432835821\" style=\"stroke: rgb(255, 255, 255); stroke-opacity: 1; stroke-width: 1px;\"/><path class=\"xgrid crisp\" transform=\"translate(314.38,0)\" d=\"M0,73v256.2313432835821\" style=\"stroke: rgb(255, 255, 255); stroke-opacity: 1; stroke-width: 1px;\"/><path class=\"xgrid crisp\" transform=\"translate(387.88,0)\" d=\"M0,73v256.2313432835821\" style=\"stroke: rgb(255, 255, 255); stroke-opacity: 1; stroke-width: 1px;\"/><path class=\"xgrid crisp\" transform=\"translate(461.37,0)\" d=\"M0,73v256.2313432835821\" style=\"stroke: rgb(255, 255, 255); stroke-opacity: 1; stroke-width: 1px;\"/><path class=\"xgrid crisp\" transform=\"translate(534.86,0)\" d=\"M0,73v256.2313432835821\" style=\"stroke: rgb(255, 255, 255); stroke-opacity: 1; stroke-width: 1px;\"/><path class=\"xgrid crisp\" transform=\"translate(608.36,0)\" d=\"M0,73v256.2313432835821\" style=\"stroke: rgb(255, 255, 255); stroke-opacity: 1; stroke-width: 1px;\"/><path class=\"xgrid crisp\" transform=\"translate(681.85,0)\" d=\"M0,73v256.2313432835821\" style=\"stroke: rgb(255, 255, 255); stroke-opacity: 1; stroke-width: 1px;\"/></g><g class=\"y\"><path class=\"ygrid crisp\" transform=\"translate(0,312.66999999999996)\" d=\"M57,0h663\" style=\"stroke: rgb(255, 255, 255); stroke-opacity: 1; stroke-width: 1px;\"/><path class=\"ygrid crisp\" transform=\"translate(0,276.3)\" d=\"M57,0h663\" style=\"stroke: rgb(255, 255, 255); stroke-opacity: 1; stroke-width: 1px;\"/><path class=\"ygrid crisp\" transform=\"translate(0,239.93)\" d=\"M57,0h663\" style=\"stroke: rgb(255, 255, 255); stroke-opacity: 1; stroke-width: 1px;\"/><path class=\"ygrid crisp\" transform=\"translate(0,203.56)\" d=\"M57,0h663\" style=\"stroke: rgb(255, 255, 255); stroke-opacity: 1; stroke-width: 1px;\"/><path class=\"ygrid crisp\" transform=\"translate(0,167.19)\" d=\"M57,0h663\" style=\"stroke: rgb(255, 255, 255); stroke-opacity: 1; stroke-width: 1px;\"/><path class=\"ygrid crisp\" transform=\"translate(0,130.82)\" d=\"M57,0h663\" style=\"stroke: rgb(255, 255, 255); stroke-opacity: 1; stroke-width: 1px;\"/><path class=\"ygrid crisp\" transform=\"translate(0,94.45)\" d=\"M57,0h663\" style=\"stroke: rgb(255, 255, 255); stroke-opacity: 1; stroke-width: 1px;\"/></g></g><g class=\"zerolinelayer\"/><path class=\"xlines-below\"/><path class=\"ylines-below\"/><g class=\"overlines-below\"/><g class=\"xaxislayer-below\"/><g class=\"yaxislayer-below\"/><g class=\"overaxes-below\"/><g class=\"plot\" transform=\"translate(57,73)\" clip-path=\"url(#clip63f999xyplot)\"><g class=\"scatterlayer mlayer\"><g class=\"trace scatter trace29999ffe-53b0-42e4-817c-7f0637cc4630\" style=\"stroke-miterlimit: 2; opacity: 1;\"><g class=\"fills\"/><g class=\"errorbars\"/><g class=\"lines\"><path class=\"js-line\" d=\"M183.89,239.67L624.85,21.45\" style=\"vector-effect: non-scaling-stroke; fill: none; stroke: rgb(31, 119, 180); stroke-opacity: 1; stroke-width: 2px; opacity: 1;\"/></g><g class=\"points\"><path class=\"point\" transform=\"translate(183.89,239.67)\" d=\"M3,0A3,3 0 1,1 0,-3A3,3 0 0,1 3,0Z\" style=\"opacity: 1; stroke-width: 0px; fill: rgb(31, 119, 180); fill-opacity: 1;\"/><path class=\"point\" transform=\"translate(330.88,166.93)\" d=\"M3,0A3,3 0 1,1 0,-3A3,3 0 0,1 3,0Z\" style=\"opacity: 1; stroke-width: 0px; fill: rgb(31, 119, 180); fill-opacity: 1;\"/><path class=\"point\" transform=\"translate(477.86,94.19)\" d=\"M3,0A3,3 0 1,1 0,-3A3,3 0 0,1 3,0Z\" style=\"opacity: 1; stroke-width: 0px; fill: rgb(31, 119, 180); fill-opacity: 1;\"/><path class=\"point\" transform=\"translate(624.85,21.45)\" d=\"M3,0A3,3 0 1,1 0,-3A3,3 0 0,1 3,0Z\" style=\"opacity: 1; stroke-width: 0px; fill: rgb(31, 119, 180); fill-opacity: 1;\"/></g><g class=\"text\"/></g><g class=\"trace scatter trace11e26f8e-0391-4811-8036-f9484bc5b466\" style=\"stroke-miterlimit: 2; opacity: 1;\"><g class=\"fills\"/><g class=\"errorbars\"/><g class=\"lines\"/><g class=\"points\"><path class=\"point plotly-customdata\" transform=\"translate(183.89,238.21)\" d=\"M-4.62,2H4.62L0,-4Z\" style=\"opacity: 1; stroke-width: 1px; fill: rgb(55, 177, 63); fill-opacity: 1; stroke: rgb(38, 123, 44); stroke-opacity: 1;\"/><path class=\"point plotly-customdata\" transform=\"translate(624.85,17.81)\" d=\"M-4.62,2H4.62L0,-4Z\" style=\"opacity: 1; stroke-width: 1px; fill: rgb(55, 177, 63); fill-opacity: 1; stroke: rgb(38, 123, 44); stroke-opacity: 1;\"/></g><g class=\"text\"/></g><g class=\"trace scatter tracea6e75493-7586-4a68-8b53-2b9d6b3153b3\" style=\"stroke-miterlimit: 2; opacity: 1;\"><g class=\"fills\"/><g class=\"errorbars\"/><g class=\"lines\"/><g class=\"points\"><path class=\"point plotly-customdata\" transform=\"translate(330.88,169.11)\" d=\"M-4.62,-2H4.62L0,4Z\" style=\"opacity: 1; stroke-width: 1px; fill: rgb(234, 67, 53); fill-opacity: 1; stroke: rgb(181, 31, 18); stroke-opacity: 1;\"/></g><g class=\"text\"/></g></g></g><g class=\"overplot\"/><path class=\"xlines-above crisp\" d=\"M0,0\" style=\"fill: none;\"/><path class=\"ylines-above crisp\" d=\"M0,0\" style=\"fill: none;\"/><g class=\"overlines-above\"/><g class=\"xaxislayer-above\"/><g class=\"yaxislayer-above\"><g class=\"ytick\"><text text-anchor=\"end\" x=\"56\" y=\"4.199999999999999\" transform=\"translate(0,312.66999999999996)\" style=\"font-family: 'Open Sans', verdana, arial, sans-serif; font-size: 12px; fill: rgb(42, 63, 95); fill-opacity: 1; white-space: pre; opacity: 1;\">2</text></g><g class=\"ytick\"><text text-anchor=\"end\" x=\"56\" y=\"4.199999999999999\" style=\"font-family: 'Open Sans', verdana, arial, sans-serif; font-size: 12px; fill: rgb(42, 63, 95); fill-opacity: 1; white-space: pre; opacity: 1;\" transform=\"translate(0,276.3)\">2.5</text></g><g class=\"ytick\"><text text-anchor=\"end\" x=\"56\" y=\"4.199999999999999\" style=\"font-family: 'Open Sans', verdana, arial, sans-serif; font-size: 12px; fill: rgb(42, 63, 95); fill-opacity: 1; white-space: pre; opacity: 1;\" transform=\"translate(0,239.93)\">3</text></g><g class=\"ytick\"><text text-anchor=\"end\" x=\"56\" y=\"4.199999999999999\" style=\"font-family: 'Open Sans', verdana, arial, sans-serif; font-size: 12px; fill: rgb(42, 63, 95); fill-opacity: 1; white-space: pre; opacity: 1;\" transform=\"translate(0,203.56)\">3.5</text></g><g class=\"ytick\"><text text-anchor=\"end\" x=\"56\" y=\"4.199999999999999\" style=\"font-family: 'Open Sans', verdana, arial, sans-serif; font-size: 12px; fill: rgb(42, 63, 95); fill-opacity: 1; white-space: pre; opacity: 1;\" transform=\"translate(0,167.19)\">4</text></g><g class=\"ytick\"><text text-anchor=\"end\" x=\"56\" y=\"4.199999999999999\" style=\"font-family: 'Open Sans', verdana, arial, sans-serif; font-size: 12px; fill: rgb(42, 63, 95); fill-opacity: 1; white-space: pre; opacity: 1;\" transform=\"translate(0,130.82)\">4.5</text></g><g class=\"ytick\"><text text-anchor=\"end\" x=\"56\" y=\"4.199999999999999\" style=\"font-family: 'Open Sans', verdana, arial, sans-serif; font-size: 12px; fill: rgb(42, 63, 95); fill-opacity: 1; white-space: pre; opacity: 1;\" transform=\"translate(0,94.45)\">5</text></g></g><g class=\"overaxes-above\"/></g><g class=\"subplot x2y2\"><g class=\"layer-subplot\"><g class=\"shapelayer\"/><g class=\"imagelayer\"/></g><g class=\"gridlayer\"><g class=\"x2\"><path class=\"x2grid crisp\" transform=\"translate(167.55,0)\" d=\"M0,361.7686567164179v256.2313432835821\" style=\"stroke: rgb(255, 255, 255); stroke-opacity: 1; stroke-width: 1px;\"/><path class=\"x2grid crisp\" transform=\"translate(241.2,0)\" d=\"M0,361.7686567164179v256.2313432835821\" style=\"stroke: rgb(255, 255, 255); stroke-opacity: 1; stroke-width: 1px;\"/><path class=\"x2grid crisp\" transform=\"translate(314.85,0)\" d=\"M0,361.7686567164179v256.2313432835821\" style=\"stroke: rgb(255, 255, 255); stroke-opacity: 1; stroke-width: 1px;\"/><path class=\"x2grid crisp\" transform=\"translate(388.5,0)\" d=\"M0,361.7686567164179v256.2313432835821\" style=\"stroke: rgb(255, 255, 255); stroke-opacity: 1; stroke-width: 1px;\"/><path class=\"x2grid crisp\" transform=\"translate(462.15,0)\" d=\"M0,361.7686567164179v256.2313432835821\" style=\"stroke: rgb(255, 255, 255); stroke-opacity: 1; stroke-width: 1px;\"/><path class=\"x2grid crisp\" transform=\"translate(535.8,0)\" d=\"M0,361.7686567164179v256.2313432835821\" style=\"stroke: rgb(255, 255, 255); stroke-opacity: 1; stroke-width: 1px;\"/><path class=\"x2grid crisp\" transform=\"translate(609.45,0)\" d=\"M0,361.7686567164179v256.2313432835821\" style=\"stroke: rgb(255, 255, 255); stroke-opacity: 1; stroke-width: 1px;\"/><path class=\"x2grid crisp\" transform=\"translate(683.1,0)\" d=\"M0,361.7686567164179v256.2313432835821\" style=\"stroke: rgb(255, 255, 255); stroke-opacity: 1; stroke-width: 1px;\"/></g><g class=\"y2\"><path class=\"y2grid crisp\" transform=\"translate(0,601.4386567164179)\" d=\"M57,0h663\" style=\"stroke: rgb(255, 255, 255); stroke-opacity: 1; stroke-width: 1px;\"/><path class=\"y2grid crisp\" transform=\"translate(0,545.6586567164179)\" d=\"M57,0h663\" style=\"stroke: rgb(255, 255, 255); stroke-opacity: 1; stroke-width: 1px;\"/><path class=\"y2grid crisp\" transform=\"translate(0,434.10865671641795)\" d=\"M57,0h663\" style=\"stroke: rgb(255, 255, 255); stroke-opacity: 1; stroke-width: 1px;\"/><path class=\"y2grid crisp\" transform=\"translate(0,378.3286567164179)\" d=\"M57,0h663\" style=\"stroke: rgb(255, 255, 255); stroke-opacity: 1; stroke-width: 1px;\"/></g></g><g class=\"zerolinelayer\"><path class=\"x2zl zl crisp\" transform=\"translate(93.9,0)\" d=\"M0,361.7686567164179v256.2313432835821\" style=\"stroke: rgb(255, 255, 255); stroke-opacity: 1; stroke-width: 2px;\"/><path class=\"y2zl zl crisp\" transform=\"translate(0,489.8886567164179)\" d=\"M57,0h663\" style=\"stroke: rgb(255, 255, 255); stroke-opacity: 1; stroke-width: 2px;\"/></g><path class=\"xlines-below\"/><path class=\"ylines-below\"/><g class=\"overlines-below\"/><g class=\"xaxislayer-below\"/><g class=\"yaxislayer-below\"/><g class=\"overaxes-below\"/><g class=\"plot\" transform=\"translate(57,361.7686567164179)\" clip-path=\"url(#clip63f999x2y2plot)\"><g class=\"scatterlayer mlayer\"><g class=\"trace scatter trace98fd51ee-599b-45f7-b970-8660e1112f1f\" style=\"stroke-miterlimit: 2; opacity: 1;\"><g class=\"fills\"/><g class=\"errorbars\"/><g class=\"lines\"><path class=\"js-line\" d=\"M36.9,16.56L184.2,116.96L331.5,239.67L478.8,139.27L626.1,16.56\" style=\"vector-effect: non-scaling-stroke; fill: none; stroke: rgb(220, 57, 18); stroke-opacity: 1; stroke-width: 2px; opacity: 1;\"/></g><g class=\"points\"><path class=\"point\" transform=\"translate(36.9,16.56)\" d=\"M3,0A3,3 0 1,1 0,-3A3,3 0 0,1 3,0Z\" style=\"opacity: 1; stroke-width: 0px; fill: rgb(220, 57, 18); fill-opacity: 1;\"/><path class=\"point\" transform=\"translate(184.2,116.96)\" d=\"M3,0A3,3 0 1,1 0,-3A3,3 0 0,1 3,0Z\" style=\"opacity: 1; stroke-width: 0px; fill: rgb(220, 57, 18); fill-opacity: 1;\"/><path class=\"point\" transform=\"translate(331.5,239.67)\" d=\"M3,0A3,3 0 1,1 0,-3A3,3 0 0,1 3,0Z\" style=\"opacity: 1; stroke-width: 0px; fill: rgb(220, 57, 18); fill-opacity: 1;\"/><path class=\"point\" transform=\"translate(478.8,139.27)\" d=\"M3,0A3,3 0 1,1 0,-3A3,3 0 0,1 3,0Z\" style=\"opacity: 1; stroke-width: 0px; fill: rgb(220, 57, 18); fill-opacity: 1;\"/><path class=\"point\" transform=\"translate(626.1,16.56)\" d=\"M3,0A3,3 0 1,1 0,-3A3,3 0 0,1 3,0Z\" style=\"opacity: 1; stroke-width: 0px; fill: rgb(220, 57, 18); fill-opacity: 1;\"/></g><g class=\"text\"/></g></g></g><g class=\"overplot\"/><path class=\"xlines-above crisp\" d=\"M0,0\" style=\"fill: none;\"/><path class=\"ylines-above crisp\" d=\"M0,0\" style=\"fill: none;\"/><g class=\"overlines-above\"/><g class=\"xaxislayer-above\"><g class=\"x2tick\"><text text-anchor=\"middle\" x=\"0\" y=\"631\" transform=\"translate(93.9,0)\" style=\"font-family: 'Open Sans', verdana, arial, sans-serif; font-size: 12px; fill: rgb(42, 63, 95); fill-opacity: 1; white-space: pre; opacity: 1;\">0</text></g><g class=\"x2tick\"><text text-anchor=\"middle\" x=\"0\" y=\"631\" style=\"font-family: 'Open Sans', verdana, arial, sans-serif; font-size: 12px; fill: rgb(42, 63, 95); fill-opacity: 1; white-space: pre; opacity: 1;\" transform=\"translate(167.55,0)\">0.5</text></g><g class=\"x2tick\"><text text-anchor=\"middle\" x=\"0\" y=\"631\" style=\"font-family: 'Open Sans', verdana, arial, sans-serif; font-size: 12px; fill: rgb(42, 63, 95); fill-opacity: 1; white-space: pre; opacity: 1;\" transform=\"translate(241.2,0)\">1</text></g><g class=\"x2tick\"><text text-anchor=\"middle\" x=\"0\" y=\"631\" style=\"font-family: 'Open Sans', verdana, arial, sans-serif; font-size: 12px; fill: rgb(42, 63, 95); fill-opacity: 1; white-space: pre; opacity: 1;\" transform=\"translate(314.85,0)\">1.5</text></g><g class=\"x2tick\"><text text-anchor=\"middle\" x=\"0\" y=\"631\" style=\"font-family: 'Open Sans', verdana, arial, sans-serif; font-size: 12px; fill: rgb(42, 63, 95); fill-opacity: 1; white-space: pre; opacity: 1;\" transform=\"translate(388.5,0)\">2</text></g><g class=\"x2tick\"><text text-anchor=\"middle\" x=\"0\" y=\"631\" style=\"font-family: 'Open Sans', verdana, arial, sans-serif; font-size: 12px; fill: rgb(42, 63, 95); fill-opacity: 1; white-space: pre; opacity: 1;\" transform=\"translate(462.15,0)\">2.5</text></g><g class=\"x2tick\"><text text-anchor=\"middle\" x=\"0\" y=\"631\" style=\"font-family: 'Open Sans', verdana, arial, sans-serif; font-size: 12px; fill: rgb(42, 63, 95); fill-opacity: 1; white-space: pre; opacity: 1;\" transform=\"translate(535.8,0)\">3</text></g><g class=\"x2tick\"><text text-anchor=\"middle\" x=\"0\" y=\"631\" style=\"font-family: 'Open Sans', verdana, arial, sans-serif; font-size: 12px; fill: rgb(42, 63, 95); fill-opacity: 1; white-space: pre; opacity: 1;\" transform=\"translate(609.45,0)\">3.5</text></g><g class=\"x2tick\"><text text-anchor=\"middle\" x=\"0\" y=\"631\" style=\"font-family: 'Open Sans', verdana, arial, sans-serif; font-size: 12px; fill: rgb(42, 63, 95); fill-opacity: 1; white-space: pre; opacity: 1;\" transform=\"translate(683.1,0)\">4</text></g></g><g class=\"yaxislayer-above\"><g class=\"y2tick\"><text text-anchor=\"end\" x=\"56\" y=\"4.199999999999999\" transform=\"translate(0,601.4386567164179)\" style=\"font-family: 'Open Sans', verdana, arial, sans-serif; font-size: 12px; fill: rgb(42, 63, 95); fill-opacity: 1; white-space: pre; opacity: 1;\">−1</text></g><g class=\"y2tick\"><text text-anchor=\"end\" x=\"56\" y=\"4.199999999999999\" style=\"font-family: 'Open Sans', verdana, arial, sans-serif; font-size: 12px; fill: rgb(42, 63, 95); fill-opacity: 1; white-space: pre; opacity: 1;\" transform=\"translate(0,545.6586567164179)\">−0.5</text></g><g class=\"y2tick\"><text text-anchor=\"end\" x=\"56\" y=\"4.199999999999999\" style=\"font-family: 'Open Sans', verdana, arial, sans-serif; font-size: 12px; fill: rgb(42, 63, 95); fill-opacity: 1; white-space: pre; opacity: 1;\" transform=\"translate(0,489.8886567164179)\">0</text></g><g class=\"y2tick\"><text text-anchor=\"end\" x=\"56\" y=\"4.199999999999999\" style=\"font-family: 'Open Sans', verdana, arial, sans-serif; font-size: 12px; fill: rgb(42, 63, 95); fill-opacity: 1; white-space: pre; opacity: 1;\" transform=\"translate(0,434.10865671641795)\">0.5</text></g><g class=\"y2tick\"><text text-anchor=\"end\" x=\"56\" y=\"4.199999999999999\" style=\"font-family: 'Open Sans', verdana, arial, sans-serif; font-size: 12px; fill: rgb(42, 63, 95); fill-opacity: 1; white-space: pre; opacity: 1;\" transform=\"translate(0,378.3286567164179)\">1</text></g></g><g class=\"overaxes-above\"/></g></g><g class=\"polarlayer\"/><g class=\"ternarylayer\"/><g class=\"geolayer\"/><g class=\"funnelarealayer\"/><g class=\"pielayer\"/><g class=\"iciclelayer\"/><g class=\"treemaplayer\"/><g class=\"sunburstlayer\"/><g class=\"glimages\"/><defs id=\"topdefs-63f999\"><g class=\"clips\"/><clipPath id=\"legend63f999\"><rect width=\"321\" height=\"29\" x=\"0\" y=\"0\"/></clipPath></defs><g class=\"layer-above\"><g class=\"imagelayer\"/><g class=\"shapelayer\"/></g><g class=\"infolayer\"><g class=\"legend\" pointer-events=\"all\" transform=\"translate(399,11.462686567164205)\"><rect class=\"bg\" shape-rendering=\"crispEdges\" style=\"stroke: rgb(68, 68, 68); stroke-opacity: 1; fill: rgb(255, 255, 255); fill-opacity: 1; stroke-width: 0px;\" width=\"321\" height=\"29\" x=\"0\" y=\"0\"/><g class=\"scrollbox\" transform=\"\" clip-path=\"url(#legend63f999)\"><g class=\"groups\"><g class=\"traces\" transform=\"translate(0,14.5)\" style=\"opacity: 1;\"><text class=\"legendtext\" text-anchor=\"start\" x=\"40\" y=\"4.680000000000001\" style=\"font-family: 'Open Sans', verdana, arial, sans-serif; font-size: 12px; fill: rgb(42, 63, 95); fill-opacity: 1; white-space: pre;\">Close</text><g class=\"layers\" style=\"opacity: 1;\"><g class=\"legendfill\"/><g class=\"legendlines\"><path class=\"js-line\" d=\"M5,0h30\" style=\"fill: none; stroke: rgb(31, 119, 180); stroke-opacity: 1; stroke-width: 2px;\"/></g><g class=\"legendsymbols\"><g class=\"legendpoints\"><path class=\"scatterpts\" transform=\"translate(20,0)\" d=\"M3,0A3,3 0 1,1 0,-3A3,3 0 0,1 3,0Z\" style=\"opacity: 1; stroke-width: 0px; fill: rgb(31, 119, 180); fill-opacity: 1;\"/></g></g></g><rect class=\"legendtoggle\" x=\"0\" y=\"-9.5\" width=\"74.84375\" height=\"19\" style=\"fill: rgb(0, 0, 0); fill-opacity: 0;\"/></g><g class=\"traces\" transform=\"translate(77.34375,14.5)\" style=\"opacity: 1;\"><text class=\"legendtext\" text-anchor=\"start\" x=\"40\" y=\"4.680000000000001\" style=\"font-family: 'Open Sans', verdana, arial, sans-serif; font-size: 12px; fill: rgb(42, 63, 95); fill-opacity: 1; white-space: pre;\">Buy</text><g class=\"layers\" style=\"opacity: 1;\"><g class=\"legendfill\"/><g class=\"legendlines\"/><g class=\"legendsymbols\"><g class=\"legendpoints\"><path class=\"scatterpts\" transform=\"translate(20,0)\" d=\"M-4.62,2H4.62L0,-4Z\" style=\"opacity: 1; stroke-width: 1px; fill: rgb(55, 177, 63); fill-opacity: 1; stroke: rgb(38, 123, 44); stroke-opacity: 1;\"/></g></g></g><rect class=\"legendtoggle\" x=\"0\" y=\"-9.5\" width=\"65.421875\" height=\"19\" style=\"fill: rgb(0, 0, 0); fill-opacity: 0;\"/></g><g class=\"traces\" transform=\"translate(145.265625,14.5)\" style=\"opacity: 1;\"><text class=\"legendtext\" text-anchor=\"start\" x=\"40\" y=\"4.680000000000001\" style=\"font-family: 'Open Sans', verdana, arial, sans-serif; font-size: 12px; fill: rgb(42, 63, 95); fill-opacity: 1; white-space: pre;\">Sell</text><g class=\"layers\" style=\"opacity: 1;\"><g class=\"legendfill\"/><g class=\"legendlines\"/><g class=\"legendsymbols\"><g class=\"legendpoints\"><path class=\"scatterpts\" transform=\"translate(20,0)\" d=\"M-4.62,-2H4.62L0,4Z\" style=\"opacity: 1; stroke-width: 1px; fill: rgb(234, 67, 53); fill-opacity: 1; stroke: rgb(181, 31, 18); stroke-opacity: 1;\"/></g></g></g><rect class=\"legendtoggle\" x=\"0\" y=\"-9.5\" width=\"64.4375\" height=\"19\" style=\"fill: rgb(0, 0, 0); fill-opacity: 0;\"/></g><g class=\"traces\" transform=\"translate(212.203125,14.5)\" style=\"opacity: 1;\"><text class=\"legendtext\" text-anchor=\"start\" x=\"40\" y=\"4.680000000000001\" style=\"font-family: 'Open Sans', verdana, arial, sans-serif; font-size: 12px; fill: rgb(42, 63, 95); fill-opacity: 1; white-space: pre;\">Order Size</text><g class=\"layers\" style=\"opacity: 1;\"><g class=\"legendfill\"/><g class=\"legendlines\"><path class=\"js-line\" d=\"M5,0h30\" style=\"fill: none; stroke: rgb(220, 57, 18); stroke-opacity: 1; stroke-width: 2px;\"/></g><g class=\"legendsymbols\"><g class=\"legendpoints\"><path class=\"scatterpts\" transform=\"translate(20,0)\" d=\"M3,0A3,3 0 1,1 0,-3A3,3 0 0,1 3,0Z\" style=\"opacity: 1; stroke-width: 0px; fill: rgb(220, 57, 18); fill-opacity: 1;\"/></g></g></g><rect class=\"legendtoggle\" x=\"0\" y=\"-9.5\" width=\"105.96875\" height=\"19\" style=\"fill: rgb(0, 0, 0); fill-opacity: 0;\"/></g></g></g><rect class=\"scrollbar\" rx=\"20\" ry=\"3\" width=\"0\" height=\"0\" style=\"fill: rgb(128, 139, 164); fill-opacity: 1;\" x=\"0\" y=\"0\"/></g><g class=\"g-gtitle\"/><g class=\"g-xtitle\"/><g class=\"g-x2title\"><text class=\"x2title\" x=\"388.5\" y=\"658.3\" text-anchor=\"middle\" style=\"font-family: 'Open Sans', verdana, arial, sans-serif; font-size: 14px; fill: rgb(42, 63, 95); opacity: 1; font-weight: normal; white-space: pre;\">Index</text></g><g class=\"g-ytitle\" transform=\"translate(2.431640625,0)\"><text class=\"ytitle\" transform=\"rotate(-90,11.575000000000003,201.11567164179104)\" x=\"11.575000000000003\" y=\"201.11567164179104\" text-anchor=\"middle\" style=\"font-family: 'Open Sans', verdana, arial, sans-serif; font-size: 14px; fill: rgb(42, 63, 95); opacity: 1; font-weight: normal; white-space: pre;\">Price</text></g><g class=\"g-y2title\"/><g class=\"annotation\" data-index=\"0\" style=\"opacity: 1;\"><g class=\"annotation-text-g\" transform=\"rotate(0,388.5,61)\"><g class=\"cursor-pointer\" transform=\"translate(360,49)\"><rect class=\"bg\" x=\"0.5\" y=\"0.5\" width=\"57\" height=\"23\" style=\"stroke-width: 1px; stroke: rgb(0, 0, 0); stroke-opacity: 0; fill: rgb(0, 0, 0); fill-opacity: 0;\"/><text class=\"annotation-text\" text-anchor=\"middle\" x=\"29.03125\" y=\"18\" style=\"font-family: 'Open Sans', verdana, arial, sans-serif; font-size: 16px; fill: rgb(42, 63, 95); fill-opacity: 1; white-space: pre;\">Orders</text></g></g></g><g class=\"annotation\" data-index=\"1\" style=\"opacity: 1;\"><g class=\"annotation-text-g\" transform=\"rotate(0,388.5,349.7686567164179)\"><g class=\"cursor-pointer\" transform=\"translate(344,338)\"><rect class=\"bg\" x=\"0.5\" y=\"0.5\" width=\"88\" height=\"23\" style=\"stroke-width: 1px; stroke: rgb(0, 0, 0); stroke-opacity: 0; fill: rgb(0, 0, 0); fill-opacity: 0;\"/><text class=\"annotation-text\" text-anchor=\"middle\" x=\"44.3125\" y=\"18\" style=\"font-family: 'Open Sans', verdana, arial, sans-serif; font-size: 16px; fill: rgb(42, 63, 95); fill-opacity: 1; white-space: pre;\">Order Size</text></g></g></g></g></svg>"
      ]
     },
     "metadata": {},
     "output_type": "display_data"
    }
   ],
   "source": [
    "from vectorbt import settings\n",
    "color_schema = settings['plotting']['color_schema']\n",
    "\n",
    "fig = portfolio['a'].plot(subplots=[\n",
    "    'orders',\n",
    "    ('order_size', dict(title='Order Size', check_is_not_grouped=True))  # placeholder\n",
    "])\n",
    "\n",
    "order_size.vbt.plot(trace_kwargs=dict(name='Order Size'), add_trace_kwargs=dict(row=2, col=1), fig=fig).show_svg()"
   ]
  },
  {
   "cell_type": "code",
   "execution_count": null,
   "metadata": {},
   "outputs": [],
   "source": []
  }
 ],
 "metadata": {
  "kernelspec": {
   "display_name": "Python 3 (ipykernel)",
   "language": "python",
   "name": "python3"
  },
  "language_info": {
   "codemirror_mode": {
    "name": "ipython",
    "version": 3
   },
   "file_extension": ".py",
   "mimetype": "text/x-python",
   "name": "python",
   "nbconvert_exporter": "python",
   "pygments_lexer": "ipython3",
   "version": "3.7.3"
  },
  "widgets": {
   "application/vnd.jupyter.widget-state+json": {
    "state": {},
    "version_major": 2,
    "version_minor": 0
   }
  }
 },
 "nbformat": 4,
 "nbformat_minor": 4
}
